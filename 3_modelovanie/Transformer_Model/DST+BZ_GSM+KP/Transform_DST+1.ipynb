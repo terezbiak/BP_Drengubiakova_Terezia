{
 "cells": [
  {
   "cell_type": "markdown",
   "id": "2d9f873a-bb5f-477f-be36-923459a8d73b",
   "metadata": {},
   "source": [
    "## Model na predikciu DST za pomoci použitia atribútu DST, BZ_GSM a KP o 1 hodinu dopredu"
   ]
  },
  {
   "cell_type": "markdown",
   "id": "c3d0d39a-6420-47cb-a1cd-8c833c8601a1",
   "metadata": {},
   "source": [
    "Súbor: TransformDST+1.ipynb\n",
    "\n",
    "Program: Hospodárska informatika\n",
    "\n",
    "Vypracovala: Terézia Drengubiaková\n",
    "\n",
    "Bakalárska práca: : Prediktívne modely v spracovaní dát z oblasti kozmického počasia\n",
    "\n",
    "Vedúci diplomovej práce: doc. Ing. Peter Butka, PhD.\n",
    "\n",
    "Konzultanti: Ing. Viera Krešňáková, PhD., RNDr. Šimon Mackovjak, PhD."
   ]
  },
  {
   "cell_type": "markdown",
   "id": "c2629670-bfbb-4b5d-a3c0-98eae436627a",
   "metadata": {},
   "source": [
    "### Import knižníc"
   ]
  },
  {
   "cell_type": "code",
   "execution_count": 1,
   "id": "39ae642c-67c7-48fc-9faa-54906e46f87b",
   "metadata": {},
   "outputs": [
    {
     "name": "stderr",
     "output_type": "stream",
     "text": [
      "2024-05-20 18:20:24.465166: I tensorflow/core/platform/cpu_feature_guard.cc:193] This TensorFlow binary is optimized with oneAPI Deep Neural Network Library (oneDNN) to use the following CPU instructions in performance-critical operations:  SSE4.1 SSE4.2 AVX AVX2 FMA\n",
      "To enable them in other operations, rebuild TensorFlow with the appropriate compiler flags.\n"
     ]
    }
   ],
   "source": [
    "import pandas as pd\n",
    "import numpy as np\n",
    "from tensorflow import keras\n",
    "import matplotlib.pyplot as plt\n",
    "from sklearn.preprocessing import MinMaxScaler, StandardScaler\n",
    "from pandas.plotting import register_matplotlib_converters\n",
    "register_matplotlib_converters()\n",
    "import seaborn as sns\n",
    "\n",
    "from tensorflow.keras.preprocessing.sequence import TimeseriesGenerator\n",
    "from keras.models import Sequential\n",
    "\n",
    "from keras.layers import Dense, Activation, Dropout, Input, Conv1D, LSTM, MaxPooling1D, Flatten, TimeDistributed, Bidirectional\n",
    "from tensorflow.keras.callbacks import ModelCheckpoint, EarlyStopping\n",
    "from keras.models import Model\n",
    "\n",
    "\n",
    "from scipy.special import expit, logit\n",
    "\n",
    "from sklearn.metrics import confusion_matrix, classification_report, matthews_corrcoef\n",
    "import tensorflow as tf\n",
    "from tensorflow.keras.layers import Layer, MultiHeadAttention, Dropout, LayerNormalization, Dense\n",
    "from tensorflow.keras.layers import MultiHeadAttention, Dense, Input, LayerNormalization, Dropout\n",
    "from tensorflow.keras.models import Model\n",
    "from sklearn.metrics import mean_squared_error\n"
   ]
  },
  {
   "cell_type": "markdown",
   "id": "42d49a10-197d-4320-8cd4-934d90797bda",
   "metadata": {},
   "source": [
    "### Načítanie dát, odstránenie na hodnôt, určenie predikovaného atribútu"
   ]
  },
  {
   "cell_type": "code",
   "execution_count": 2,
   "id": "83d176a1-e03a-4527-83b2-ec184f0bc65b",
   "metadata": {},
   "outputs": [],
   "source": [
    "train = pd.read_csv('train_omni.csv')\n",
    "test = pd.read_csv('test_omni.csv')\n",
    "train['BZ_GSM'] = train['BZ_GSM'].fillna(train['BZ_GSM'].mean()) \n",
    "test['BZ_GSM'] = test['BZ_GSM'].fillna(test['BZ_GSM'].mean())\n",
    "features = ['time1', 'DST', 'DST+1', 'BZ_GSM', 'KP']\n",
    "test = test[features]\n",
    "train = train[features]\n",
    "train['time1']=pd.to_datetime(train['time1'])\n",
    "test['time1']=pd.to_datetime(test['time1'])\n",
    "predicators = [\"DST\", \"BZ_GSM\", \"KP\"]\n",
    "y_col='DST+1'\n",
    "valid_size = int(len(train) * 0.2)\n",
    "valid = train.iloc[-valid_size:,:].copy()\n",
    "train = train.iloc[:-valid_size,:].copy()\n",
    "\n",
    "y_train = train[y_col].values.copy()\n",
    "X_train = train[predicators].values.copy()\n",
    "y_val = valid[y_col].values.copy()\n",
    "X_val = valid[predicators].values.copy()\n",
    "y_test = test[y_col].values.copy()\n",
    "X_test = test[predicators].values.copy()"
   ]
  },
  {
   "cell_type": "markdown",
   "id": "a5eb160f-98f0-4bf0-8d6f-4d4b366b5bd7",
   "metadata": {},
   "source": [
    "### Definícia premenných a vytvorenie dátových generátorov"
   ]
  },
  {
   "cell_type": "code",
   "execution_count": 3,
   "id": "7a884202-da06-4f52-a0fb-a60461faefd3",
   "metadata": {},
   "outputs": [],
   "source": [
    "n_input = 6  \n",
    "n_features= len(X_train)  \n",
    "b_size = 256  \n",
    "\n",
    "train_generator = TimeseriesGenerator(X_train, y_train, length=n_input, batch_size=b_size)\n",
    "val_generator = TimeseriesGenerator(X_val, y_val, length=n_input, batch_size=b_size)\n",
    "test_generator = TimeseriesGenerator(X_test, y_test, length=n_input, batch_size=256)"
   ]
  },
  {
   "cell_type": "markdown",
   "id": "fe8a411a-58d9-4cc5-ad97-b6318f6d867e",
   "metadata": {},
   "source": [
    "### Vytvorenie modelu"
   ]
  },
  {
   "cell_type": "code",
   "execution_count": 4,
   "id": "6436f68f-c696-4bb9-a87c-b95c7d42a9a7",
   "metadata": {},
   "outputs": [
    {
     "name": "stderr",
     "output_type": "stream",
     "text": [
      "2024-05-20 18:21:25.144420: I tensorflow/core/platform/cpu_feature_guard.cc:193] This TensorFlow binary is optimized with oneAPI Deep Neural Network Library (oneDNN) to use the following CPU instructions in performance-critical operations:  SSE4.1 SSE4.2 AVX AVX2 FMA\n",
      "To enable them in other operations, rebuild TensorFlow with the appropriate compiler flags.\n"
     ]
    },
    {
     "name": "stdout",
     "output_type": "stream",
     "text": [
      "Model: \"model\"\n",
      "_________________________________________________________________\n",
      " Layer (type)                Output Shape              Param #   \n",
      "=================================================================\n",
      " input_1 (InputLayer)        [(None, 6, 3)]            0         \n",
      "                                                                 \n",
      " transformer_encoder_layer (  (None, 6, 64)            66816     \n",
      " TransformerEncoderLayer)                                        \n",
      "                                                                 \n",
      " flatten (Flatten)           (None, 384)               0         \n",
      "                                                                 \n",
      " dense_3 (Dense)             (None, 1)                 385       \n",
      "                                                                 \n",
      "=================================================================\n",
      "Total params: 67,201\n",
      "Trainable params: 67,201\n",
      "Non-trainable params: 0\n",
      "_________________________________________________________________\n"
     ]
    }
   ],
   "source": [
    "class TransformerEncoderLayer(Layer):\n",
    "    def __init__(self, embed_dim, num_heads, ff_dim, input_dim, rate=0.1, **kwargs):\n",
    "        super(TransformerEncoderLayer, self).__init__(**kwargs)\n",
    "        self.embed_dim = embed_dim\n",
    "        self.num_heads = num_heads\n",
    "        self.ff_dim = ff_dim\n",
    "        self.input_dim = input_dim\n",
    "        self.rate = rate\n",
    "        self.input_proj = Dense(embed_dim)\n",
    "        self.att = MultiHeadAttention(num_heads=num_heads, key_dim=embed_dim)\n",
    "        self.ffn = tf.keras.Sequential([\n",
    "            Dense(ff_dim, activation=\"relu\"),\n",
    "            Dense(embed_dim)\n",
    "        ])\n",
    "        self.layernorm1 = LayerNormalization(epsilon=1e-6)\n",
    "        self.layernorm2 = LayerNormalization(epsilon=1e-6)\n",
    "        self.dropout1 = Dropout(rate)\n",
    "        self.dropout2 = Dropout(rate)\n",
    "\n",
    "    def call(self, inputs, training=False):\n",
    "        inputs_proj = self.input_proj(inputs)\n",
    "        attn_output = self.att(inputs_proj, inputs_proj)\n",
    "        attn_output = self.dropout1(attn_output, training=training)\n",
    "        out1 = self.layernorm1(inputs_proj + attn_output)\n",
    "        ffn_output = self.ffn(out1)\n",
    "        ffn_output = self.dropout2(ffn_output, training=training)\n",
    "        return self.layernorm2(out1 + ffn_output)\n",
    "\n",
    "    def get_config(self):\n",
    "        config = super().get_config()\n",
    "        config.update({\n",
    "            'embed_dim': self.embed_dim,\n",
    "            'num_heads': self.num_heads,\n",
    "            'ff_dim': self.ff_dim,\n",
    "            'input_dim': self.input_dim,\n",
    "            'rate': self.rate\n",
    "        })\n",
    "        return config\n",
    "\n",
    "def build_model(input_shape, embed_dim, num_heads, ff_dim, rate=0.1):\n",
    "    inputs = tf.keras.Input(shape=input_shape)\n",
    "    x = TransformerEncoderLayer(embed_dim, num_heads, ff_dim, input_shape[-1], rate)(inputs)\n",
    "    x = Flatten()(x)\n",
    "    x = Dense(1, activation='linear')(x)\n",
    "    return tf.keras.Model(inputs=inputs, outputs=x)\n",
    "\n",
    "\n",
    "model = build_model((6, 3), embed_dim=64, num_heads=2, ff_dim=256)\n",
    "model.compile(loss='mse', optimizer='adam', metrics=['mae'])\n",
    "model.summary()"
   ]
  },
  {
   "cell_type": "code",
   "execution_count": 5,
   "id": "f25d3c3d-5d7f-492f-949c-7d5a4d7431ec",
   "metadata": {},
   "outputs": [],
   "source": [
    "saved_model = \"1h_BZ_GSM_transform.keras\"\n",
    "checkpoint = ModelCheckpoint(saved_model, monitor='val_mae', verbose=1, save_best_only=True, mode='min')\n",
    "early = EarlyStopping(monitor=\"val_mae\", mode=\"min\", patience=25)\n",
    "callbacks_list = [checkpoint, early]"
   ]
  },
  {
   "cell_type": "markdown",
   "id": "8afbca48-6a8c-46aa-a1e1-a23ebe976237",
   "metadata": {},
   "source": [
    "### Trénovanie"
   ]
  },
  {
   "cell_type": "code",
   "execution_count": 6,
   "id": "a5aa36bc-f66e-4998-b510-d126b155c7b9",
   "metadata": {
    "collapsed": true,
    "jupyter": {
     "outputs_hidden": true
    },
    "tags": []
   },
   "outputs": [
    {
     "name": "stdout",
     "output_type": "stream",
     "text": [
      "Epoch 1/200\n",
      "895/896 [============================>.] - ETA: 0s - loss: 152.0046 - mae: 6.7139\n",
      "Epoch 1: val_mae improved from inf to 13.36084, saving model to 1h_BZ_GSM_transform.keras\n",
      "896/896 [==============================] - 24s 25ms/step - loss: 152.0052 - mae: 6.7161 - val_loss: 359.5879 - val_mae: 13.3608\n",
      "Epoch 2/200\n",
      "894/896 [============================>.] - ETA: 0s - loss: 64.7915 - mae: 4.5889\n",
      "Epoch 2: val_mae improved from 13.36084 to 4.49749, saving model to 1h_BZ_GSM_transform.keras\n",
      "896/896 [==============================] - 20s 23ms/step - loss: 64.7219 - mae: 4.5872 - val_loss: 99.4381 - val_mae: 4.4975\n",
      "Epoch 3/200\n",
      "895/896 [============================>.] - ETA: 0s - loss: 50.8663 - mae: 4.1392\n",
      "Epoch 3: val_mae improved from 4.49749 to 3.93577, saving model to 1h_BZ_GSM_transform.keras\n",
      "896/896 [==============================] - 20s 22ms/step - loss: 50.8305 - mae: 4.1383 - val_loss: 75.8728 - val_mae: 3.9358\n",
      "Epoch 4/200\n",
      "895/896 [============================>.] - ETA: 0s - loss: 42.8760 - mae: 3.9157\n",
      "Epoch 4: val_mae did not improve from 3.93577\n",
      "896/896 [==============================] - 20s 22ms/step - loss: 42.8444 - mae: 3.9147 - val_loss: 71.4524 - val_mae: 4.1777\n",
      "Epoch 5/200\n",
      "896/896 [==============================] - ETA: 0s - loss: 40.0248 - mae: 3.9140\n",
      "Epoch 5: val_mae did not improve from 3.93577\n",
      "896/896 [==============================] - 20s 22ms/step - loss: 40.0248 - mae: 3.9140 - val_loss: 97.0084 - val_mae: 5.1319\n",
      "Epoch 6/200\n",
      "894/896 [============================>.] - ETA: 0s - loss: 35.3766 - mae: 3.6533\n",
      "Epoch 6: val_mae did not improve from 3.93577\n",
      "896/896 [==============================] - 20s 22ms/step - loss: 35.3630 - mae: 3.6537 - val_loss: 63.0962 - val_mae: 4.1979\n",
      "Epoch 7/200\n",
      "895/896 [============================>.] - ETA: 0s - loss: 31.5516 - mae: 3.5133\n",
      "Epoch 7: val_mae did not improve from 3.93577\n",
      "896/896 [==============================] - 20s 22ms/step - loss: 31.5712 - mae: 3.5150 - val_loss: 173.2505 - val_mae: 7.8602\n",
      "Epoch 8/200\n",
      "895/896 [============================>.] - ETA: 0s - loss: 32.1663 - mae: 3.5647\n",
      "Epoch 8: val_mae did not improve from 3.93577\n",
      "896/896 [==============================] - 20s 22ms/step - loss: 32.2455 - mae: 3.5682 - val_loss: 56.1869 - val_mae: 3.9379\n",
      "Epoch 9/200\n",
      "894/896 [============================>.] - ETA: 0s - loss: 35.1532 - mae: 3.6062\n",
      "Epoch 9: val_mae improved from 3.93577 to 3.65200, saving model to 1h_BZ_GSM_transform.keras\n",
      "896/896 [==============================] - 20s 22ms/step - loss: 35.1366 - mae: 3.6066 - val_loss: 54.1769 - val_mae: 3.6520\n",
      "Epoch 10/200\n",
      "896/896 [==============================] - ETA: 0s - loss: 27.7286 - mae: 3.3628\n",
      "Epoch 10: val_mae did not improve from 3.65200\n",
      "896/896 [==============================] - 20s 22ms/step - loss: 27.7286 - mae: 3.3628 - val_loss: 50.8397 - val_mae: 3.7805\n",
      "Epoch 11/200\n",
      "896/896 [==============================] - ETA: 0s - loss: 35.1942 - mae: 3.6299\n",
      "Epoch 11: val_mae did not improve from 3.65200\n",
      "896/896 [==============================] - 20s 22ms/step - loss: 35.1942 - mae: 3.6299 - val_loss: 63.4497 - val_mae: 4.2537\n",
      "Epoch 12/200\n",
      "895/896 [============================>.] - ETA: 0s - loss: 24.0963 - mae: 3.1525\n",
      "Epoch 12: val_mae did not improve from 3.65200\n",
      "896/896 [==============================] - 20s 22ms/step - loss: 24.0771 - mae: 3.1512 - val_loss: 70.7151 - val_mae: 4.5716\n",
      "Epoch 13/200\n",
      "893/896 [============================>.] - ETA: 0s - loss: 26.4716 - mae: 3.2560\n",
      "Epoch 13: val_mae improved from 3.65200 to 3.58776, saving model to 1h_BZ_GSM_transform.keras\n",
      "896/896 [==============================] - 20s 22ms/step - loss: 26.4463 - mae: 3.2553 - val_loss: 45.5052 - val_mae: 3.5878\n",
      "Epoch 14/200\n",
      "896/896 [==============================] - ETA: 0s - loss: 25.5165 - mae: 3.1685\n",
      "Epoch 14: val_mae did not improve from 3.58776\n",
      "896/896 [==============================] - 20s 22ms/step - loss: 25.5165 - mae: 3.1685 - val_loss: 48.4320 - val_mae: 3.8050\n",
      "Epoch 15/200\n",
      "894/896 [============================>.] - ETA: 0s - loss: 27.9272 - mae: 3.3658\n",
      "Epoch 15: val_mae did not improve from 3.58776\n",
      "896/896 [==============================] - 20s 23ms/step - loss: 27.9038 - mae: 3.3649 - val_loss: 42.6450 - val_mae: 3.6157\n",
      "Epoch 16/200\n",
      "895/896 [============================>.] - ETA: 0s - loss: 24.4415 - mae: 3.1752\n",
      "Epoch 16: val_mae did not improve from 3.58776\n",
      "896/896 [==============================] - 23s 25ms/step - loss: 24.4328 - mae: 3.1749 - val_loss: 45.7250 - val_mae: 3.7384\n",
      "Epoch 17/200\n",
      "895/896 [============================>.] - ETA: 0s - loss: 24.3991 - mae: 3.2131\n",
      "Epoch 17: val_mae improved from 3.58776 to 3.50940, saving model to 1h_BZ_GSM_transform.keras\n",
      "896/896 [==============================] - 24s 27ms/step - loss: 24.3884 - mae: 3.2128 - val_loss: 42.0507 - val_mae: 3.5094\n",
      "Epoch 18/200\n",
      "895/896 [============================>.] - ETA: 0s - loss: 27.9770 - mae: 3.2694\n",
      "Epoch 18: val_mae did not improve from 3.50940\n",
      "896/896 [==============================] - 25s 28ms/step - loss: 27.9569 - mae: 3.2685 - val_loss: 46.7614 - val_mae: 3.6711\n",
      "Epoch 19/200\n",
      "894/896 [============================>.] - ETA: 0s - loss: 23.1464 - mae: 3.0871\n",
      "Epoch 19: val_mae improved from 3.50940 to 3.44475, saving model to 1h_BZ_GSM_transform.keras\n",
      "896/896 [==============================] - 25s 28ms/step - loss: 23.1773 - mae: 3.0891 - val_loss: 40.2118 - val_mae: 3.4448\n",
      "Epoch 20/200\n",
      "895/896 [============================>.] - ETA: 0s - loss: 20.6643 - mae: 2.9700\n",
      "Epoch 20: val_mae did not improve from 3.44475\n",
      "896/896 [==============================] - 25s 28ms/step - loss: 20.6510 - mae: 2.9693 - val_loss: 40.7611 - val_mae: 3.4743\n",
      "Epoch 21/200\n",
      "896/896 [==============================] - ETA: 0s - loss: 29.3200 - mae: 3.4140\n",
      "Epoch 21: val_mae did not improve from 3.44475\n",
      "896/896 [==============================] - 26s 28ms/step - loss: 29.3200 - mae: 3.4140 - val_loss: 43.6900 - val_mae: 3.7559\n",
      "Epoch 22/200\n",
      "895/896 [============================>.] - ETA: 0s - loss: 23.9137 - mae: 3.1222\n",
      "Epoch 22: val_mae did not improve from 3.44475\n",
      "896/896 [==============================] - 25s 28ms/step - loss: 23.9041 - mae: 3.1213 - val_loss: 51.3543 - val_mae: 4.0618\n",
      "Epoch 23/200\n",
      "895/896 [============================>.] - ETA: 0s - loss: 21.4669 - mae: 3.0213\n",
      "Epoch 23: val_mae did not improve from 3.44475\n",
      "896/896 [==============================] - 24s 27ms/step - loss: 21.4540 - mae: 3.0206 - val_loss: 54.7195 - val_mae: 4.1761\n",
      "Epoch 24/200\n",
      "895/896 [============================>.] - ETA: 0s - loss: 25.0226 - mae: 3.1773\n",
      "Epoch 24: val_mae improved from 3.44475 to 3.40596, saving model to 1h_BZ_GSM_transform.keras\n",
      "896/896 [==============================] - 25s 28ms/step - loss: 25.0093 - mae: 3.1769 - val_loss: 39.1915 - val_mae: 3.4060\n",
      "Epoch 25/200\n",
      "896/896 [==============================] - ETA: 0s - loss: 22.8955 - mae: 3.0650\n",
      "Epoch 25: val_mae did not improve from 3.40596\n",
      "896/896 [==============================] - 24s 27ms/step - loss: 22.8955 - mae: 3.0650 - val_loss: 103.1295 - val_mae: 5.8407\n",
      "Epoch 26/200\n",
      "896/896 [==============================] - ETA: 0s - loss: 30.4498 - mae: 3.3927\n",
      "Epoch 26: val_mae did not improve from 3.40596\n",
      "896/896 [==============================] - 26s 29ms/step - loss: 30.4498 - mae: 3.3927 - val_loss: 52.3382 - val_mae: 4.1553\n",
      "Epoch 27/200\n",
      "896/896 [==============================] - ETA: 0s - loss: 25.3570 - mae: 3.1557\n",
      "Epoch 27: val_mae did not improve from 3.40596\n",
      "896/896 [==============================] - 25s 28ms/step - loss: 25.3570 - mae: 3.1557 - val_loss: 37.8540 - val_mae: 3.4355\n",
      "Epoch 28/200\n",
      "896/896 [==============================] - ETA: 0s - loss: 21.0591 - mae: 2.9739\n",
      "Epoch 28: val_mae did not improve from 3.40596\n",
      "896/896 [==============================] - 24s 27ms/step - loss: 21.0591 - mae: 2.9739 - val_loss: 39.3009 - val_mae: 3.5064\n",
      "Epoch 29/200\n",
      "894/896 [============================>.] - ETA: 0s - loss: 22.3875 - mae: 3.0436\n",
      "Epoch 29: val_mae did not improve from 3.40596\n",
      "896/896 [==============================] - 28s 31ms/step - loss: 22.3661 - mae: 3.0427 - val_loss: 90.1753 - val_mae: 4.3958\n",
      "Epoch 30/200\n",
      "895/896 [============================>.] - ETA: 0s - loss: 22.2396 - mae: 3.0447\n",
      "Epoch 30: val_mae did not improve from 3.40596\n",
      "896/896 [==============================] - 24s 27ms/step - loss: 22.2246 - mae: 3.0439 - val_loss: 35.5832 - val_mae: 3.4199\n",
      "Epoch 31/200\n",
      "896/896 [==============================] - ETA: 0s - loss: 25.1730 - mae: 3.1761\n",
      "Epoch 31: val_mae improved from 3.40596 to 3.31055, saving model to 1h_BZ_GSM_transform.keras\n",
      "896/896 [==============================] - 28s 32ms/step - loss: 25.1730 - mae: 3.1761 - val_loss: 37.1225 - val_mae: 3.3106\n",
      "Epoch 32/200\n",
      "895/896 [============================>.] - ETA: 0s - loss: 21.9993 - mae: 3.0578\n",
      "Epoch 32: val_mae did not improve from 3.31055\n",
      "896/896 [==============================] - 26s 29ms/step - loss: 21.9844 - mae: 3.0569 - val_loss: 37.8179 - val_mae: 3.3873\n",
      "Epoch 33/200\n",
      "894/896 [============================>.] - ETA: 0s - loss: 23.5891 - mae: 3.1295\n",
      "Epoch 33: val_mae did not improve from 3.31055\n",
      "896/896 [==============================] - 24s 27ms/step - loss: 23.5740 - mae: 3.1288 - val_loss: 34.0432 - val_mae: 3.3336\n",
      "Epoch 34/200\n",
      "894/896 [============================>.] - ETA: 0s - loss: 20.0446 - mae: 2.9365\n",
      "Epoch 34: val_mae improved from 3.31055 to 3.26753, saving model to 1h_BZ_GSM_transform.keras\n",
      "896/896 [==============================] - 25s 28ms/step - loss: 20.0339 - mae: 2.9365 - val_loss: 34.0184 - val_mae: 3.2675\n",
      "Epoch 35/200\n",
      "894/896 [============================>.] - ETA: 0s - loss: 25.2833 - mae: 3.1486\n",
      "Epoch 35: val_mae did not improve from 3.26753\n",
      "896/896 [==============================] - 24s 27ms/step - loss: 25.2461 - mae: 3.1465 - val_loss: 36.7851 - val_mae: 3.3327\n",
      "Epoch 36/200\n",
      "896/896 [==============================] - ETA: 0s - loss: 20.6569 - mae: 2.9597\n",
      "Epoch 36: val_mae did not improve from 3.26753\n",
      "896/896 [==============================] - 24s 26ms/step - loss: 20.6569 - mae: 2.9597 - val_loss: 37.3092 - val_mae: 3.6204\n",
      "Epoch 37/200\n",
      "896/896 [==============================] - ETA: 0s - loss: 21.2144 - mae: 2.9916\n",
      "Epoch 37: val_mae did not improve from 3.26753\n",
      "896/896 [==============================] - 25s 28ms/step - loss: 21.2144 - mae: 2.9916 - val_loss: 57.4772 - val_mae: 4.3628\n",
      "Epoch 38/200\n",
      "895/896 [============================>.] - ETA: 0s - loss: 21.1620 - mae: 3.0126\n",
      "Epoch 38: val_mae did not improve from 3.26753\n",
      "896/896 [==============================] - 25s 28ms/step - loss: 21.1506 - mae: 3.0120 - val_loss: 53.1820 - val_mae: 4.4439\n",
      "Epoch 39/200\n",
      "895/896 [============================>.] - ETA: 0s - loss: 21.3164 - mae: 2.9979\n",
      "Epoch 39: val_mae did not improve from 3.26753\n",
      "896/896 [==============================] - 25s 28ms/step - loss: 21.3290 - mae: 2.9990 - val_loss: 34.2049 - val_mae: 3.4994\n",
      "Epoch 40/200\n",
      "896/896 [==============================] - ETA: 0s - loss: 24.4322 - mae: 3.1883\n",
      "Epoch 40: val_mae did not improve from 3.26753\n",
      "896/896 [==============================] - 24s 26ms/step - loss: 24.4322 - mae: 3.1883 - val_loss: 36.3006 - val_mae: 3.4942\n",
      "Epoch 41/200\n",
      "895/896 [============================>.] - ETA: 0s - loss: 21.6066 - mae: 2.9827\n",
      "Epoch 41: val_mae did not improve from 3.26753\n",
      "896/896 [==============================] - 27s 30ms/step - loss: 21.6032 - mae: 2.9826 - val_loss: 39.3866 - val_mae: 3.6283\n",
      "Epoch 42/200\n",
      "894/896 [============================>.] - ETA: 0s - loss: 22.3714 - mae: 3.0552\n",
      "Epoch 42: val_mae did not improve from 3.26753\n",
      "896/896 [==============================] - 26s 29ms/step - loss: 22.3545 - mae: 3.0547 - val_loss: 37.1731 - val_mae: 3.4957\n",
      "Epoch 43/200\n",
      "895/896 [============================>.] - ETA: 0s - loss: 22.1386 - mae: 3.0342\n",
      "Epoch 43: val_mae did not improve from 3.26753\n",
      "896/896 [==============================] - 24s 27ms/step - loss: 22.1355 - mae: 3.0343 - val_loss: 35.4207 - val_mae: 3.4612\n",
      "Epoch 44/200\n",
      "896/896 [==============================] - ETA: 0s - loss: 19.6235 - mae: 2.8950\n",
      "Epoch 44: val_mae did not improve from 3.26753\n",
      "896/896 [==============================] - 25s 28ms/step - loss: 19.6235 - mae: 2.8950 - val_loss: 47.5140 - val_mae: 3.6869\n",
      "Epoch 45/200\n",
      "896/896 [==============================] - ETA: 0s - loss: 23.3871 - mae: 3.1038\n",
      "Epoch 45: val_mae did not improve from 3.26753\n",
      "896/896 [==============================] - 25s 27ms/step - loss: 23.3871 - mae: 3.1038 - val_loss: 36.9696 - val_mae: 3.6686\n",
      "Epoch 46/200\n",
      "896/896 [==============================] - ETA: 0s - loss: 20.9006 - mae: 3.0000\n",
      "Epoch 46: val_mae did not improve from 3.26753\n",
      "896/896 [==============================] - 24s 27ms/step - loss: 20.9006 - mae: 3.0000 - val_loss: 36.6541 - val_mae: 3.4737\n",
      "Epoch 47/200\n",
      "896/896 [==============================] - ETA: 0s - loss: 19.0487 - mae: 2.8678\n",
      "Epoch 47: val_mae did not improve from 3.26753\n",
      "896/896 [==============================] - 26s 28ms/step - loss: 19.0487 - mae: 2.8678 - val_loss: 33.6913 - val_mae: 3.2872\n",
      "Epoch 48/200\n",
      "896/896 [==============================] - ETA: 0s - loss: 28.1821 - mae: 3.3138\n",
      "Epoch 48: val_mae did not improve from 3.26753\n",
      "896/896 [==============================] - 24s 27ms/step - loss: 28.1821 - mae: 3.3138 - val_loss: 39.6272 - val_mae: 3.4473\n",
      "Epoch 49/200\n",
      "894/896 [============================>.] - ETA: 0s - loss: 19.1444 - mae: 2.8690\n",
      "Epoch 49: val_mae did not improve from 3.26753\n",
      "896/896 [==============================] - 25s 28ms/step - loss: 19.1346 - mae: 2.8688 - val_loss: 65.9005 - val_mae: 5.4970\n",
      "Epoch 50/200\n",
      "894/896 [============================>.] - ETA: 0s - loss: 18.9542 - mae: 2.8687\n",
      "Epoch 50: val_mae did not improve from 3.26753\n",
      "896/896 [==============================] - 25s 28ms/step - loss: 18.9665 - mae: 2.8709 - val_loss: 42.1426 - val_mae: 4.0580\n",
      "Epoch 51/200\n",
      "895/896 [============================>.] - ETA: 0s - loss: 21.7516 - mae: 2.9931\n",
      "Epoch 51: val_mae did not improve from 3.26753\n",
      "896/896 [==============================] - 23s 26ms/step - loss: 21.8157 - mae: 2.9952 - val_loss: 33.8607 - val_mae: 3.3752\n",
      "Epoch 52/200\n",
      "895/896 [============================>.] - ETA: 0s - loss: 18.7465 - mae: 2.8652\n",
      "Epoch 52: val_mae did not improve from 3.26753\n",
      "896/896 [==============================] - 25s 28ms/step - loss: 18.7363 - mae: 2.8648 - val_loss: 35.5459 - val_mae: 3.6250\n",
      "Epoch 53/200\n",
      "895/896 [============================>.] - ETA: 0s - loss: 18.7410 - mae: 2.8594\n",
      "Epoch 53: val_mae did not improve from 3.26753\n",
      "896/896 [==============================] - 25s 28ms/step - loss: 18.7285 - mae: 2.8586 - val_loss: 42.7463 - val_mae: 3.9280\n",
      "Epoch 54/200\n",
      "895/896 [============================>.] - ETA: 0s - loss: 19.3227 - mae: 2.9117\n",
      "Epoch 54: val_mae did not improve from 3.26753\n",
      "896/896 [==============================] - 24s 27ms/step - loss: 19.3194 - mae: 2.9119 - val_loss: 37.0398 - val_mae: 3.7753\n",
      "Epoch 55/200\n",
      "896/896 [==============================] - ETA: 0s - loss: 22.7768 - mae: 3.0591\n",
      "Epoch 55: val_mae did not improve from 3.26753\n",
      "896/896 [==============================] - 25s 27ms/step - loss: 22.7768 - mae: 3.0591 - val_loss: 34.1276 - val_mae: 3.4927\n",
      "Epoch 56/200\n",
      "896/896 [==============================] - ETA: 0s - loss: 21.4864 - mae: 2.9554\n",
      "Epoch 56: val_mae did not improve from 3.26753\n",
      "896/896 [==============================] - 24s 26ms/step - loss: 21.4864 - mae: 2.9554 - val_loss: 33.4995 - val_mae: 3.3502\n",
      "Epoch 57/200\n",
      "896/896 [==============================] - ETA: 0s - loss: 19.1998 - mae: 2.8743\n",
      "Epoch 57: val_mae did not improve from 3.26753\n",
      "896/896 [==============================] - 23s 26ms/step - loss: 19.1998 - mae: 2.8743 - val_loss: 32.2054 - val_mae: 3.3837\n",
      "Epoch 58/200\n",
      "894/896 [============================>.] - ETA: 0s - loss: 18.1852 - mae: 2.8261\n",
      "Epoch 58: val_mae did not improve from 3.26753\n",
      "896/896 [==============================] - 24s 27ms/step - loss: 18.1756 - mae: 2.8260 - val_loss: 45.6778 - val_mae: 4.2790\n",
      "Epoch 59/200\n",
      "894/896 [============================>.] - ETA: 0s - loss: 20.0762 - mae: 2.9384\n",
      "Epoch 59: val_mae did not improve from 3.26753\n",
      "896/896 [==============================] - 23s 26ms/step - loss: 20.0523 - mae: 2.9369 - val_loss: 34.2122 - val_mae: 3.5337\n"
     ]
    }
   ],
   "source": [
    "history = model.fit(train_generator, validation_data=val_generator, epochs=200, verbose=1, callbacks = callbacks_list)"
   ]
  },
  {
   "cell_type": "markdown",
   "id": "6e341627-45d4-4345-9ffc-ac9b0d6fae9d",
   "metadata": {},
   "source": [
    "### Načítanie najlepšieho modelu"
   ]
  },
  {
   "cell_type": "code",
   "execution_count": 7,
   "id": "160cb204-59fa-4bf2-b85e-3be293a8b550",
   "metadata": {},
   "outputs": [],
   "source": [
    "model = keras.models.load_model('1h_BZ_GSM_transform.keras', custom_objects={'TransformerEncoderLayer': TransformerEncoderLayer})"
   ]
  },
  {
   "cell_type": "markdown",
   "id": "693cd05f-570d-4b2e-827b-a95d7533b9d8",
   "metadata": {},
   "source": [
    "### Vytvorenie predikcií"
   ]
  },
  {
   "cell_type": "code",
   "execution_count": 8,
   "id": "40d0c9d1-fab9-4d81-b9b9-d6902840539d",
   "metadata": {},
   "outputs": [
    {
     "name": "stdout",
     "output_type": "stream",
     "text": [
      "633/633 [==============================] - 7s 11ms/step\n"
     ]
    }
   ],
   "source": [
    "y_pred = model.predict(test_generator)"
   ]
  },
  {
   "cell_type": "markdown",
   "id": "00b65d99-b290-481e-ac79-953e0c5663c4",
   "metadata": {},
   "source": [
    "### Nájdenie optimálneho thresholdu na validačnej sade"
   ]
  },
  {
   "cell_type": "code",
   "execution_count": 10,
   "id": "6f72acd3-5552-4e73-b080-625788a602c1",
   "metadata": {},
   "outputs": [
    {
     "name": "stdout",
     "output_type": "stream",
     "text": [
      "224/224 [==============================] - 2s 10ms/step\n",
      "Best Threshold for MCC on Validation Set: -20.199999999999964\n",
      "Best MCC on Validation Set: 0.9033475487870243\n"
     ]
    }
   ],
   "source": [
    "y_val_pred = model.predict(val_generator)\n",
    "\n",
    "true_labels_val = np.where(y_val[n_input:] <= -20, 1, 0)  # Adjust n_input as per your setup\n",
    "\n",
    "def calculate_mcc(y_true, y_pred):\n",
    "    return matthews_corrcoef(y_true, y_pred)\n",
    "\n",
    "thresholds = np.arange(-10, -40, -0.1)\n",
    "mcc_scores = []\n",
    "\n",
    "for thresh in thresholds:\n",
    "    predictions = np.where(y_val_pred <= thresh, 1, 0)\n",
    "    mcc = calculate_mcc(true_labels_val, predictions)\n",
    "    mcc_scores.append(mcc)\n",
    "\n",
    "best_threshold_mcc = thresholds[np.argmax(mcc_scores)]\n",
    "best_mcc = max(mcc_scores)\n",
    "\n",
    "print(\"Best Threshold for MCC on Validation Set:\", best_threshold_mcc)\n",
    "print(\"Best MCC on Validation Set:\", best_mcc)\n",
    "best_threshold_mcc_rounded = round(best_threshold_mcc, 1)"
   ]
  },
  {
   "cell_type": "markdown",
   "id": "f317cbff-e2be-4279-8caa-2e27396275e8",
   "metadata": {},
   "source": [
    "### Výpočet metrík, vykreslenie grafu predikcie a uloženie predikcií"
   ]
  },
  {
   "cell_type": "code",
   "execution_count": 9,
   "id": "7a462a9b-e7e2-45e2-b30f-a7ee61144472",
   "metadata": {},
   "outputs": [
    {
     "name": "stdout",
     "output_type": "stream",
     "text": [
      "Mean Squared Error: 110.46048985400749\n"
     ]
    }
   ],
   "source": [
    "mse = mean_squared_error(y_test[:-n_input], y_pred.reshape(-1))\n",
    "print(f\"Mean Squared Error: {mse}\")"
   ]
  },
  {
   "cell_type": "code",
   "execution_count": 11,
   "id": "44adfea5-eec4-4fb3-8525-a7156bd7c199",
   "metadata": {},
   "outputs": [
    {
     "name": "stdout",
     "output_type": "stream",
     "text": [
      "Confusion matrix: \n",
      "[[127393   2592]\n",
      " [  3185  28860]]\n"
     ]
    }
   ],
   "source": [
    "y_pred2 = np.where(y_pred <= best_threshold_mcc_rounded, 1, 0)\n",
    "y_test2 = np.where(y_test[n_input:]  <= -20, 1, 0)\n",
    "\n",
    "cm = confusion_matrix(y_test2, y_pred2)\n",
    "print(\"Confusion matrix: \\n\" + str(cm))"
   ]
  },
  {
   "cell_type": "code",
   "execution_count": 12,
   "id": "d6fffb07-76df-4eac-8551-20c50c4675a8",
   "metadata": {},
   "outputs": [
    {
     "name": "stdout",
     "output_type": "stream",
     "text": [
      "              precision    recall  f1-score   support\n",
      "\n",
      "           0       0.98      0.98      0.98    129985\n",
      "           1       0.92      0.90      0.91     32045\n",
      "\n",
      "    accuracy                           0.96    162030\n",
      "   macro avg       0.95      0.94      0.94    162030\n",
      "weighted avg       0.96      0.96      0.96    162030\n",
      "\n"
     ]
    }
   ],
   "source": [
    "print(classification_report(y_test2, y_pred2))"
   ]
  },
  {
   "cell_type": "code",
   "execution_count": 13,
   "id": "f9695170-2caf-4ce4-abf6-9b5d8590ac15",
   "metadata": {},
   "outputs": [
    {
     "data": {
      "image/png": "[encoded data removed]",
      "text/plain": [
       "<Figure size 640x480 with 1 Axes>"
      ]
     },
     "metadata": {},
     "output_type": "display_data"
    }
   ],
   "source": [
    "df = pd.DataFrame(data={\"time\": test['time1'][n_input:],\"y_true\": y_test[n_input:].reshape(-1) , \"y_predict\": y_pred.reshape(-1)})\n",
    "\n",
    "plt.figure()\n",
    "plt.title('Predicting the change in DST Index')\n",
    "plt.plot(df['time'],df['y_true'], label='Skutočné hodnoty')\n",
    "plt.plot(df['time'],df['y_predict'], label='Predikované hodnoty')\n",
    "plt.legend()\n",
    "plt.gcf().autofmt_xdate()\n",
    "plt.grid(True)"
   ]
  },
  {
   "cell_type": "code",
   "execution_count": 14,
   "id": "467fba44-d16a-4ed2-b88e-b782fa973c5c",
   "metadata": {},
   "outputs": [
    {
     "name": "stdout",
     "output_type": "stream",
     "text": [
      "ACC=0.964346108745294\n",
      "MCC=0.8869103309287192\n"
     ]
    }
   ],
   "source": [
    "TN, FP, FN, TP = cm.ravel()\n",
    "ACC = (TP + TN) / (TP + TN + FP + FN)\n",
    "MCC = matthews_corrcoef(y_test2, y_pred2)\n",
    "print(\"ACC={}\".format(ACC))\n",
    "print(\"MCC={}\".format(MCC))"
   ]
  },
  {
   "cell_type": "code",
   "execution_count": null,
   "id": "2800dae1-b9cf-454f-9a13-870dcd8f80a9",
   "metadata": {},
   "outputs": [],
   "source": []
  }
 ],
 "metadata": {
  "kernelspec": {
   "display_name": "Python 3 (ipykernel)",
   "language": "python",
   "name": "python3"
  },
  "language_info": {
   "codemirror_mode": {
    "name": "ipython",
    "version": 3
   },
   "file_extension": ".py",
   "mimetype": "text/x-python",
   "name": "python",
   "nbconvert_exporter": "python",
   "pygments_lexer": "ipython3",
   "version": "3.10.6"
  }
 },
 "nbformat": 4,
 "nbformat_minor": 5
}
