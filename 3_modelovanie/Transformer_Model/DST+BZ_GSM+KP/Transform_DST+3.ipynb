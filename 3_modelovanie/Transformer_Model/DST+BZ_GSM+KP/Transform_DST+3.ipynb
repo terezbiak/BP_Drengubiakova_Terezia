{
 "cells": [
  {
   "cell_type": "markdown",
   "id": "16897331-c725-4096-91da-05f1d53e3e71",
   "metadata": {},
   "source": [
    "## Model na predikciu DST za pomoci použitia atribútu DST, BZ_GSM a KP o 3 hodiny dopredu"
   ]
  },
  {
   "cell_type": "markdown",
   "id": "3bff7ff6-da25-44b6-93cf-44b10339fcd4",
   "metadata": {},
   "source": [
    "Súbor: TransformDST+3.ipynb\n",
    "\n",
    "Program: Hospodárska informatika\n",
    "\n",
    "Vypracovala: Terézia Drengubiaková\n",
    "\n",
    "Bakalárska práca: : Prediktívne modely v spracovaní dát z oblasti kozmického počasia\n",
    "\n",
    "Vedúci diplomovej práce: doc. Ing. Peter Butka, PhD.\n",
    "\n",
    "Konzultanti: Ing. Viera Krešňáková, PhD., RNDr. Šimon Mackovjak, PhD."
   ]
  },
  {
   "cell_type": "markdown",
   "id": "a8241df3-4579-4c6e-9907-89c2f1cbfea0",
   "metadata": {},
   "source": [
    "### Import knižníc"
   ]
  },
  {
   "cell_type": "code",
   "execution_count": 1,
   "id": "39ae642c-67c7-48fc-9faa-54906e46f87b",
   "metadata": {},
   "outputs": [
    {
     "name": "stderr",
     "output_type": "stream",
     "text": [
      "2024-05-20 18:26:49.547365: I tensorflow/core/platform/cpu_feature_guard.cc:193] This TensorFlow binary is optimized with oneAPI Deep Neural Network Library (oneDNN) to use the following CPU instructions in performance-critical operations:  SSE4.1 SSE4.2 AVX AVX2 FMA\n",
      "To enable them in other operations, rebuild TensorFlow with the appropriate compiler flags.\n"
     ]
    }
   ],
   "source": [
    "import pandas as pd\n",
    "import numpy as np\n",
    "from tensorflow import keras\n",
    "import matplotlib.pyplot as plt\n",
    "from sklearn.preprocessing import MinMaxScaler, StandardScaler\n",
    "from pandas.plotting import register_matplotlib_converters\n",
    "register_matplotlib_converters()\n",
    "import seaborn as sns\n",
    "\n",
    "from tensorflow.keras.preprocessing.sequence import TimeseriesGenerator\n",
    "from keras.models import Sequential\n",
    "\n",
    "from keras.layers import Dense, Activation, Dropout, Input, Conv1D, LSTM, MaxPooling1D, Flatten, TimeDistributed, Bidirectional\n",
    "from tensorflow.keras.callbacks import ModelCheckpoint, EarlyStopping\n",
    "from keras.models import Model\n",
    "\n",
    "\n",
    "from scipy.special import expit, logit\n",
    "\n",
    "from sklearn.metrics import confusion_matrix, classification_report, matthews_corrcoef\n",
    "import tensorflow as tf\n",
    "from tensorflow.keras.layers import Layer, MultiHeadAttention, Dropout, LayerNormalization, Dense\n",
    "from tensorflow.keras.layers import MultiHeadAttention, Dense, Input, LayerNormalization, Dropout\n",
    "from tensorflow.keras.models import Model\n",
    "from sklearn.metrics import mean_squared_error\n"
   ]
  },
  {
   "cell_type": "markdown",
   "id": "caf67205-c10d-4d72-969c-160680054be8",
   "metadata": {},
   "source": [
    "### Načítanie dát, odstránenie na hodnôt, určenie predikovaného atribútu"
   ]
  },
  {
   "cell_type": "code",
   "execution_count": 2,
   "id": "83d176a1-e03a-4527-83b2-ec184f0bc65b",
   "metadata": {},
   "outputs": [],
   "source": [
    "train = pd.read_csv('train_omni.csv')\n",
    "test = pd.read_csv('test_omni.csv')\n",
    "train['BZ_GSM'] = train['BZ_GSM'].fillna(train['BZ_GSM'].mean()) \n",
    "test['BZ_GSM'] = test['BZ_GSM'].fillna(test['BZ_GSM'].mean())\n",
    "features = ['time1', 'DST', 'DST+3', 'BZ_GSM', 'KP']\n",
    "test = test[features]\n",
    "train = train[features]\n",
    "train['time1']=pd.to_datetime(train['time1'])\n",
    "test['time1']=pd.to_datetime(test['time1'])\n",
    "predicators = [\"DST\", \"BZ_GSM\", \"KP\"]\n",
    "y_col='DST+3'\n",
    "valid_size = int(len(train) * 0.2)\n",
    "valid = train.iloc[-valid_size:,:].copy()\n",
    "train = train.iloc[:-valid_size,:].copy()\n",
    "\n",
    "y_train = train[y_col].values.copy()\n",
    "X_train = train[predicators].values.copy()\n",
    "y_val = valid[y_col].values.copy()\n",
    "X_val = valid[predicators].values.copy()\n",
    "y_test = test[y_col].values.copy()\n",
    "X_test = test[predicators].values.copy()"
   ]
  },
  {
   "cell_type": "markdown",
   "id": "43b010e2-3c59-4b03-afb1-0a624aeda14d",
   "metadata": {},
   "source": [
    "### Definícia premenných a vytvorenie dátových generátorov"
   ]
  },
  {
   "cell_type": "code",
   "execution_count": 3,
   "id": "7a884202-da06-4f52-a0fb-a60461faefd3",
   "metadata": {},
   "outputs": [],
   "source": [
    "n_input = 6  \n",
    "n_features= len(X_train)  \n",
    "b_size = 256  \n",
    "\n",
    "train_generator = TimeseriesGenerator(X_train, y_train, length=n_input, batch_size=b_size)\n",
    "val_generator = TimeseriesGenerator(X_val, y_val, length=n_input, batch_size=b_size)\n",
    "test_generator = TimeseriesGenerator(X_test, y_test, length=n_input, batch_size=256)"
   ]
  },
  {
   "cell_type": "markdown",
   "id": "9170e992-048e-4337-90d4-b776a95cce9a",
   "metadata": {},
   "source": [
    "### Vytvorenie modelu"
   ]
  },
  {
   "cell_type": "code",
   "execution_count": 4,
   "id": "6436f68f-c696-4bb9-a87c-b95c7d42a9a7",
   "metadata": {},
   "outputs": [
    {
     "name": "stderr",
     "output_type": "stream",
     "text": [
      "2024-05-20 18:26:59.489936: I tensorflow/core/platform/cpu_feature_guard.cc:193] This TensorFlow binary is optimized with oneAPI Deep Neural Network Library (oneDNN) to use the following CPU instructions in performance-critical operations:  SSE4.1 SSE4.2 AVX AVX2 FMA\n",
      "To enable them in other operations, rebuild TensorFlow with the appropriate compiler flags.\n"
     ]
    },
    {
     "name": "stdout",
     "output_type": "stream",
     "text": [
      "Model: \"model\"\n",
      "_________________________________________________________________\n",
      " Layer (type)                Output Shape              Param #   \n",
      "=================================================================\n",
      " input_1 (InputLayer)        [(None, 6, 3)]            0         \n",
      "                                                                 \n",
      " transformer_encoder_layer (  (None, 6, 64)            66816     \n",
      " TransformerEncoderLayer)                                        \n",
      "                                                                 \n",
      " flatten (Flatten)           (None, 384)               0         \n",
      "                                                                 \n",
      " dense_3 (Dense)             (None, 1)                 385       \n",
      "                                                                 \n",
      "=================================================================\n",
      "Total params: 67,201\n",
      "Trainable params: 67,201\n",
      "Non-trainable params: 0\n",
      "_________________________________________________________________\n"
     ]
    }
   ],
   "source": [
    "class TransformerEncoderLayer(Layer):\n",
    "    def __init__(self, embed_dim, num_heads, ff_dim, input_dim, rate=0.1, **kwargs):\n",
    "        super(TransformerEncoderLayer, self).__init__(**kwargs)\n",
    "        self.embed_dim = embed_dim\n",
    "        self.num_heads = num_heads\n",
    "        self.ff_dim = ff_dim\n",
    "        self.input_dim = input_dim\n",
    "        self.rate = rate\n",
    "        self.input_proj = Dense(embed_dim)\n",
    "        self.att = MultiHeadAttention(num_heads=num_heads, key_dim=embed_dim)\n",
    "        self.ffn = tf.keras.Sequential([\n",
    "            Dense(ff_dim, activation=\"relu\"),\n",
    "            Dense(embed_dim)\n",
    "        ])\n",
    "        self.layernorm1 = LayerNormalization(epsilon=1e-6)\n",
    "        self.layernorm2 = LayerNormalization(epsilon=1e-6)\n",
    "        self.dropout1 = Dropout(rate)\n",
    "        self.dropout2 = Dropout(rate)\n",
    "\n",
    "    def call(self, inputs, training=False):\n",
    "        inputs_proj = self.input_proj(inputs)\n",
    "        attn_output = self.att(inputs_proj, inputs_proj)\n",
    "        attn_output = self.dropout1(attn_output, training=training)\n",
    "        out1 = self.layernorm1(inputs_proj + attn_output)\n",
    "        ffn_output = self.ffn(out1)\n",
    "        ffn_output = self.dropout2(ffn_output, training=training)\n",
    "        return self.layernorm2(out1 + ffn_output)\n",
    "\n",
    "    def get_config(self):\n",
    "        config = super().get_config()\n",
    "        config.update({\n",
    "            'embed_dim': self.embed_dim,\n",
    "            'num_heads': self.num_heads,\n",
    "            'ff_dim': self.ff_dim,\n",
    "            'input_dim': self.input_dim,\n",
    "            'rate': self.rate\n",
    "        })\n",
    "        return config\n",
    "\n",
    "def build_model(input_shape, embed_dim, num_heads, ff_dim, rate=0.1):\n",
    "    inputs = tf.keras.Input(shape=input_shape)\n",
    "    x = TransformerEncoderLayer(embed_dim, num_heads, ff_dim, input_shape[-1], rate)(inputs)\n",
    "    x = Flatten()(x)\n",
    "    x = Dense(1, activation='linear')(x)\n",
    "    return tf.keras.Model(inputs=inputs, outputs=x)\n",
    "\n",
    "\n",
    "model = build_model((6, 3), embed_dim=64, num_heads=2, ff_dim=256)\n",
    "model.compile(loss='mse', optimizer='adam', metrics=['mae'])\n",
    "model.summary()"
   ]
  },
  {
   "cell_type": "code",
   "execution_count": 5,
   "id": "f25d3c3d-5d7f-492f-949c-7d5a4d7431ec",
   "metadata": {},
   "outputs": [],
   "source": [
    "saved_model = \"3h_BZ_GSM_transform.keras\"\n",
    "checkpoint = ModelCheckpoint(saved_model, monitor='val_mae', verbose=1, save_best_only=True, mode='min')\n",
    "early = EarlyStopping(monitor=\"val_mae\", mode=\"min\", patience=25)\n",
    "callbacks_list = [checkpoint, early]"
   ]
  },
  {
   "cell_type": "markdown",
   "id": "9b77faa0-a9c0-4c5d-98eb-f234d18a2273",
   "metadata": {},
   "source": [
    "### Trénovanie"
   ]
  },
  {
   "cell_type": "code",
   "execution_count": 6,
   "id": "a5aa36bc-f66e-4998-b510-d126b155c7b9",
   "metadata": {
    "collapsed": true,
    "jupyter": {
     "outputs_hidden": true
    },
    "tags": []
   },
   "outputs": [
    {
     "name": "stdout",
     "output_type": "stream",
     "text": [
      "Epoch 1/200\n",
      "896/896 [==============================] - ETA: 0s - loss: 210.5322 - mae: 8.5690\n",
      "Epoch 1: val_mae improved from inf to 8.66214, saving model to 3h_BZ_GSM_transform.keras\n",
      "896/896 [==============================] - 27s 28ms/step - loss: 210.5322 - mae: 8.5690 - val_loss: 265.0287 - val_mae: 8.6621\n",
      "Epoch 2/200\n",
      "895/896 [============================>.] - ETA: 0s - loss: 110.8746 - mae: 6.5710\n",
      "Epoch 2: val_mae improved from 8.66214 to 7.09355, saving model to 3h_BZ_GSM_transform.keras\n",
      "896/896 [==============================] - 24s 27ms/step - loss: 110.8540 - mae: 6.5715 - val_loss: 163.2489 - val_mae: 7.0935\n",
      "Epoch 3/200\n",
      "895/896 [============================>.] - ETA: 0s - loss: 104.4765 - mae: 6.4788\n",
      "Epoch 3: val_mae did not improve from 7.09355\n",
      "896/896 [==============================] - 25s 27ms/step - loss: 104.4533 - mae: 6.4792 - val_loss: 174.1680 - val_mae: 7.6156\n",
      "Epoch 4/200\n",
      "894/896 [============================>.] - ETA: 0s - loss: 92.2107 - mae: 6.2264\n",
      "Epoch 4: val_mae did not improve from 7.09355\n",
      "896/896 [==============================] - 26s 29ms/step - loss: 92.2167 - mae: 6.2291 - val_loss: 148.8860 - val_mae: 7.1068\n",
      "Epoch 5/200\n",
      "894/896 [============================>.] - ETA: 0s - loss: 93.4855 - mae: 6.3065\n",
      "Epoch 5: val_mae improved from 7.09355 to 6.97136, saving model to 3h_BZ_GSM_transform.keras\n",
      "896/896 [==============================] - 25s 28ms/step - loss: 93.4006 - mae: 6.3043 - val_loss: 145.3557 - val_mae: 6.9714\n",
      "Epoch 6/200\n",
      "895/896 [============================>.] - ETA: 0s - loss: 90.1900 - mae: 6.2011\n",
      "Epoch 6: val_mae did not improve from 6.97136\n",
      "896/896 [==============================] - 26s 28ms/step - loss: 90.1307 - mae: 6.1996 - val_loss: 138.1176 - val_mae: 7.1726\n",
      "Epoch 7/200\n",
      "895/896 [============================>.] - ETA: 0s - loss: 90.7867 - mae: 6.1976\n",
      "Epoch 7: val_mae did not improve from 6.97136\n",
      "896/896 [==============================] - 25s 28ms/step - loss: 90.7442 - mae: 6.1964 - val_loss: 136.5749 - val_mae: 7.1091\n",
      "Epoch 8/200\n",
      "896/896 [==============================] - ETA: 0s - loss: 82.9239 - mae: 6.0124\n",
      "Epoch 8: val_mae improved from 6.97136 to 6.78445, saving model to 3h_BZ_GSM_transform.keras\n",
      "896/896 [==============================] - 29s 32ms/step - loss: 82.9239 - mae: 6.0124 - val_loss: 124.5863 - val_mae: 6.7845\n",
      "Epoch 9/200\n",
      "894/896 [============================>.] - ETA: 0s - loss: 82.2451 - mae: 5.9866\n",
      "Epoch 9: val_mae did not improve from 6.78445\n",
      "896/896 [==============================] - 25s 28ms/step - loss: 82.1633 - mae: 5.9837 - val_loss: 135.7241 - val_mae: 6.9649\n",
      "Epoch 10/200\n",
      "895/896 [============================>.] - ETA: 0s - loss: 79.0175 - mae: 5.9132\n",
      "Epoch 10: val_mae did not improve from 6.78445\n",
      "896/896 [==============================] - 26s 29ms/step - loss: 78.9819 - mae: 5.9125 - val_loss: 125.0373 - val_mae: 6.9090\n",
      "Epoch 11/200\n",
      "895/896 [============================>.] - ETA: 0s - loss: 83.5038 - mae: 6.0669\n",
      "Epoch 11: val_mae did not improve from 6.78445\n",
      "896/896 [==============================] - 25s 28ms/step - loss: 83.4685 - mae: 6.0656 - val_loss: 295.6545 - val_mae: 10.6548\n",
      "Epoch 12/200\n",
      "895/896 [============================>.] - ETA: 0s - loss: 82.0151 - mae: 5.9838\n",
      "Epoch 12: val_mae improved from 6.78445 to 6.74352, saving model to 3h_BZ_GSM_transform.keras\n",
      "896/896 [==============================] - 26s 29ms/step - loss: 81.9811 - mae: 5.9833 - val_loss: 127.2735 - val_mae: 6.7435\n",
      "Epoch 13/200\n",
      "894/896 [============================>.] - ETA: 0s - loss: 77.9954 - mae: 5.8763\n",
      "Epoch 13: val_mae improved from 6.74352 to 6.67734, saving model to 3h_BZ_GSM_transform.keras\n",
      "896/896 [==============================] - 25s 28ms/step - loss: 77.9569 - mae: 5.8763 - val_loss: 121.0997 - val_mae: 6.6773\n",
      "Epoch 14/200\n",
      "896/896 [==============================] - ETA: 0s - loss: 76.8600 - mae: 5.8562\n",
      "Epoch 14: val_mae improved from 6.67734 to 6.54095, saving model to 3h_BZ_GSM_transform.keras\n",
      "896/896 [==============================] - 25s 27ms/step - loss: 76.8600 - mae: 5.8562 - val_loss: 115.6750 - val_mae: 6.5409\n",
      "Epoch 15/200\n",
      "895/896 [============================>.] - ETA: 0s - loss: 80.8614 - mae: 5.9647\n",
      "Epoch 15: val_mae did not improve from 6.54095\n",
      "896/896 [==============================] - 26s 29ms/step - loss: 80.8480 - mae: 5.9653 - val_loss: 131.0148 - val_mae: 6.8280\n",
      "Epoch 16/200\n",
      "896/896 [==============================] - ETA: 0s - loss: 76.3551 - mae: 5.8328\n",
      "Epoch 16: val_mae did not improve from 6.54095\n",
      "896/896 [==============================] - 27s 30ms/step - loss: 76.3551 - mae: 5.8328 - val_loss: 122.5658 - val_mae: 6.7217\n",
      "Epoch 17/200\n",
      "896/896 [==============================] - ETA: 0s - loss: 74.8482 - mae: 5.7773\n",
      "Epoch 17: val_mae did not improve from 6.54095\n",
      "896/896 [==============================] - 25s 28ms/step - loss: 74.8482 - mae: 5.7773 - val_loss: 122.4348 - val_mae: 6.9902\n",
      "Epoch 18/200\n",
      "896/896 [==============================] - ETA: 0s - loss: 77.5254 - mae: 5.8567\n",
      "Epoch 18: val_mae improved from 6.54095 to 6.53818, saving model to 3h_BZ_GSM_transform.keras\n",
      "896/896 [==============================] - 24s 27ms/step - loss: 77.5254 - mae: 5.8567 - val_loss: 115.7027 - val_mae: 6.5382\n",
      "Epoch 19/200\n",
      "896/896 [==============================] - ETA: 0s - loss: 73.9347 - mae: 5.7535\n",
      "Epoch 19: val_mae did not improve from 6.53818\n",
      "896/896 [==============================] - 26s 29ms/step - loss: 73.9347 - mae: 5.7535 - val_loss: 125.3013 - val_mae: 6.6206\n",
      "Epoch 20/200\n",
      "896/896 [==============================] - ETA: 0s - loss: 75.5094 - mae: 5.8109\n",
      "Epoch 20: val_mae did not improve from 6.53818\n",
      "896/896 [==============================] - 25s 28ms/step - loss: 75.5094 - mae: 5.8109 - val_loss: 153.0142 - val_mae: 7.4078\n",
      "Epoch 21/200\n",
      "896/896 [==============================] - ETA: 0s - loss: 73.3298 - mae: 5.7390\n",
      "Epoch 21: val_mae did not improve from 6.53818\n",
      "896/896 [==============================] - 24s 26ms/step - loss: 73.3298 - mae: 5.7390 - val_loss: 109.2166 - val_mae: 6.5781\n",
      "Epoch 22/200\n",
      "895/896 [============================>.] - ETA: 0s - loss: 72.8053 - mae: 5.7355\n",
      "Epoch 22: val_mae did not improve from 6.53818\n",
      "896/896 [==============================] - 25s 28ms/step - loss: 72.7902 - mae: 5.7358 - val_loss: 124.0170 - val_mae: 7.0424\n",
      "Epoch 23/200\n",
      "896/896 [==============================] - ETA: 0s - loss: 78.9586 - mae: 5.8763\n",
      "Epoch 23: val_mae improved from 6.53818 to 6.50428, saving model to 3h_BZ_GSM_transform.keras\n",
      "896/896 [==============================] - 27s 30ms/step - loss: 78.9586 - mae: 5.8763 - val_loss: 113.5815 - val_mae: 6.5043\n",
      "Epoch 24/200\n",
      "896/896 [==============================] - ETA: 0s - loss: 70.3382 - mae: 5.6483\n",
      "Epoch 24: val_mae did not improve from 6.50428\n",
      "896/896 [==============================] - 24s 27ms/step - loss: 70.3382 - mae: 5.6483 - val_loss: 114.7908 - val_mae: 6.6880\n",
      "Epoch 25/200\n",
      "895/896 [============================>.] - ETA: 0s - loss: 71.5373 - mae: 5.6873\n",
      "Epoch 25: val_mae did not improve from 6.50428\n",
      "896/896 [==============================] - 25s 28ms/step - loss: 71.5347 - mae: 5.6877 - val_loss: 114.8941 - val_mae: 6.5722\n",
      "Epoch 26/200\n",
      "894/896 [============================>.] - ETA: 0s - loss: 72.8888 - mae: 5.7163\n",
      "Epoch 26: val_mae improved from 6.50428 to 6.46502, saving model to 3h_BZ_GSM_transform.keras\n",
      "896/896 [==============================] - 25s 28ms/step - loss: 72.8404 - mae: 5.7150 - val_loss: 107.6386 - val_mae: 6.4650\n",
      "Epoch 27/200\n",
      "894/896 [============================>.] - ETA: 0s - loss: 71.8612 - mae: 5.7067\n",
      "Epoch 27: val_mae did not improve from 6.46502\n",
      "896/896 [==============================] - 24s 27ms/step - loss: 71.8378 - mae: 5.7053 - val_loss: 109.2255 - val_mae: 6.5141\n",
      "Epoch 28/200\n",
      "896/896 [==============================] - ETA: 0s - loss: 73.6954 - mae: 5.7381\n",
      "Epoch 28: val_mae did not improve from 6.46502\n",
      "896/896 [==============================] - 25s 28ms/step - loss: 73.6954 - mae: 5.7381 - val_loss: 175.3887 - val_mae: 7.8503\n",
      "Epoch 29/200\n",
      "896/896 [==============================] - ETA: 0s - loss: 73.7522 - mae: 5.7548\n",
      "Epoch 29: val_mae improved from 6.46502 to 6.45104, saving model to 3h_BZ_GSM_transform.keras\n",
      "896/896 [==============================] - 25s 28ms/step - loss: 73.7522 - mae: 5.7548 - val_loss: 107.4872 - val_mae: 6.4510\n",
      "Epoch 30/200\n",
      "896/896 [==============================] - ETA: 0s - loss: 71.3846 - mae: 5.6807\n",
      "Epoch 30: val_mae did not improve from 6.45104\n",
      "896/896 [==============================] - 25s 27ms/step - loss: 71.3846 - mae: 5.6807 - val_loss: 110.0222 - val_mae: 6.5486\n",
      "Epoch 31/200\n",
      "896/896 [==============================] - ETA: 0s - loss: 72.2174 - mae: 5.7241\n",
      "Epoch 31: val_mae did not improve from 6.45104\n",
      "896/896 [==============================] - 23s 26ms/step - loss: 72.2174 - mae: 5.7241 - val_loss: 109.9740 - val_mae: 6.5438\n",
      "Epoch 32/200\n",
      "895/896 [============================>.] - ETA: 0s - loss: 74.7092 - mae: 5.7578\n",
      "Epoch 32: val_mae did not improve from 6.45104\n",
      "896/896 [==============================] - 25s 28ms/step - loss: 74.6707 - mae: 5.7565 - val_loss: 114.2844 - val_mae: 6.8493\n",
      "Epoch 33/200\n",
      "894/896 [============================>.] - ETA: 0s - loss: 70.7569 - mae: 5.6650\n",
      "Epoch 33: val_mae improved from 6.45104 to 6.44993, saving model to 3h_BZ_GSM_transform.keras\n",
      "896/896 [==============================] - 24s 27ms/step - loss: 70.6969 - mae: 5.6628 - val_loss: 105.6823 - val_mae: 6.4499\n",
      "Epoch 34/200\n",
      "894/896 [============================>.] - ETA: 0s - loss: 70.8708 - mae: 5.6667\n",
      "Epoch 34: val_mae improved from 6.44993 to 6.43376, saving model to 3h_BZ_GSM_transform.keras\n",
      "896/896 [==============================] - 24s 27ms/step - loss: 70.8849 - mae: 5.6688 - val_loss: 104.7451 - val_mae: 6.4338\n",
      "Epoch 35/200\n",
      "895/896 [============================>.] - ETA: 0s - loss: 70.8093 - mae: 5.6745\n",
      "Epoch 35: val_mae improved from 6.43376 to 6.41369, saving model to 3h_BZ_GSM_transform.keras\n",
      "896/896 [==============================] - 26s 29ms/step - loss: 70.7772 - mae: 5.6740 - val_loss: 104.2512 - val_mae: 6.4137\n",
      "Epoch 36/200\n",
      "896/896 [==============================] - ETA: 0s - loss: 74.0712 - mae: 5.7518\n",
      "Epoch 36: val_mae did not improve from 6.41369\n",
      "896/896 [==============================] - 25s 27ms/step - loss: 74.0712 - mae: 5.7518 - val_loss: 106.9573 - val_mae: 6.4582\n",
      "Epoch 37/200\n",
      "894/896 [============================>.] - ETA: 0s - loss: 68.7767 - mae: 5.6015\n",
      "Epoch 37: val_mae did not improve from 6.41369\n",
      "896/896 [==============================] - 26s 29ms/step - loss: 68.8479 - mae: 5.6029 - val_loss: 106.1574 - val_mae: 6.5162\n",
      "Epoch 38/200\n",
      "895/896 [============================>.] - ETA: 0s - loss: 72.4484 - mae: 5.6978\n",
      "Epoch 38: val_mae did not improve from 6.41369\n",
      "896/896 [==============================] - 28s 31ms/step - loss: 72.4295 - mae: 5.6978 - val_loss: 108.6771 - val_mae: 6.4908\n",
      "Epoch 39/200\n",
      "894/896 [============================>.] - ETA: 0s - loss: 70.7409 - mae: 5.6430\n",
      "Epoch 39: val_mae did not improve from 6.41369\n",
      "896/896 [==============================] - 24s 27ms/step - loss: 70.8022 - mae: 5.6456 - val_loss: 110.1542 - val_mae: 6.5645\n",
      "Epoch 40/200\n",
      "896/896 [==============================] - ETA: 0s - loss: 71.2693 - mae: 5.6699\n",
      "Epoch 40: val_mae did not improve from 6.41369\n",
      "896/896 [==============================] - 24s 27ms/step - loss: 71.2693 - mae: 5.6699 - val_loss: 106.8687 - val_mae: 6.4141\n",
      "Epoch 41/200\n",
      "895/896 [============================>.] - ETA: 0s - loss: 72.2463 - mae: 5.6944\n",
      "Epoch 41: val_mae did not improve from 6.41369\n",
      "896/896 [==============================] - 24s 27ms/step - loss: 72.2561 - mae: 5.6949 - val_loss: 111.9873 - val_mae: 6.5623\n",
      "Epoch 42/200\n",
      "895/896 [============================>.] - ETA: 0s - loss: 71.2463 - mae: 5.6629\n",
      "Epoch 42: val_mae did not improve from 6.41369\n",
      "896/896 [==============================] - 24s 27ms/step - loss: 71.2396 - mae: 5.6631 - val_loss: 111.3667 - val_mae: 6.5694\n",
      "Epoch 43/200\n",
      "896/896 [==============================] - ETA: 0s - loss: 74.3640 - mae: 5.7587\n",
      "Epoch 43: val_mae did not improve from 6.41369\n",
      "896/896 [==============================] - 22s 25ms/step - loss: 74.3640 - mae: 5.7587 - val_loss: 108.8079 - val_mae: 6.6252\n",
      "Epoch 44/200\n",
      "896/896 [==============================] - ETA: 0s - loss: 68.8524 - mae: 5.5975\n",
      "Epoch 44: val_mae did not improve from 6.41369\n",
      "896/896 [==============================] - 23s 25ms/step - loss: 68.8524 - mae: 5.5975 - val_loss: 108.2555 - val_mae: 6.5187\n",
      "Epoch 45/200\n",
      "896/896 [==============================] - ETA: 0s - loss: 69.3655 - mae: 5.6119\n",
      "Epoch 45: val_mae improved from 6.41369 to 6.41043, saving model to 3h_BZ_GSM_transform.keras\n",
      "896/896 [==============================] - 24s 27ms/step - loss: 69.3655 - mae: 5.6119 - val_loss: 105.9358 - val_mae: 6.4104\n",
      "Epoch 46/200\n",
      "894/896 [============================>.] - ETA: 0s - loss: 70.5926 - mae: 5.6388\n",
      "Epoch 46: val_mae did not improve from 6.41043\n",
      "896/896 [==============================] - 23s 26ms/step - loss: 70.6750 - mae: 5.6405 - val_loss: 116.3456 - val_mae: 6.6653\n",
      "Epoch 47/200\n",
      "895/896 [============================>.] - ETA: 0s - loss: 68.8838 - mae: 5.6178\n",
      "Epoch 47: val_mae did not improve from 6.41043\n",
      "896/896 [==============================] - 24s 26ms/step - loss: 68.8548 - mae: 5.6172 - val_loss: 113.3544 - val_mae: 6.5383\n",
      "Epoch 48/200\n",
      "894/896 [============================>.] - ETA: 0s - loss: 70.8690 - mae: 5.6597\n",
      "Epoch 48: val_mae did not improve from 6.41043\n",
      "896/896 [==============================] - 23s 25ms/step - loss: 70.8428 - mae: 5.6587 - val_loss: 106.8254 - val_mae: 6.4675\n",
      "Epoch 49/200\n",
      "895/896 [============================>.] - ETA: 0s - loss: 71.2165 - mae: 5.6727\n",
      "Epoch 49: val_mae did not improve from 6.41043\n",
      "896/896 [==============================] - 23s 26ms/step - loss: 71.2580 - mae: 5.6738 - val_loss: 107.9141 - val_mae: 6.4660\n",
      "Epoch 50/200\n",
      "896/896 [==============================] - ETA: 0s - loss: 69.4395 - mae: 5.6129\n",
      "Epoch 50: val_mae did not improve from 6.41043\n",
      "896/896 [==============================] - 23s 25ms/step - loss: 69.4395 - mae: 5.6129 - val_loss: 105.9743 - val_mae: 6.4313\n",
      "Epoch 51/200\n",
      "895/896 [============================>.] - ETA: 0s - loss: 70.0739 - mae: 5.6596\n",
      "Epoch 51: val_mae did not improve from 6.41043\n",
      "896/896 [==============================] - 24s 27ms/step - loss: 70.0339 - mae: 5.6583 - val_loss: 107.0923 - val_mae: 6.4594\n",
      "Epoch 52/200\n",
      "894/896 [============================>.] - ETA: 0s - loss: 68.5097 - mae: 5.5948\n",
      "Epoch 52: val_mae did not improve from 6.41043\n",
      "896/896 [==============================] - 24s 26ms/step - loss: 68.4228 - mae: 5.5916 - val_loss: 111.4178 - val_mae: 6.4703\n",
      "Epoch 53/200\n",
      "894/896 [============================>.] - ETA: 0s - loss: 70.8235 - mae: 5.6535\n",
      "Epoch 53: val_mae did not improve from 6.41043\n",
      "896/896 [==============================] - 23s 26ms/step - loss: 70.7373 - mae: 5.6504 - val_loss: 111.7348 - val_mae: 6.6770\n",
      "Epoch 54/200\n",
      "895/896 [============================>.] - ETA: 0s - loss: 69.2152 - mae: 5.6242\n",
      "Epoch 54: val_mae did not improve from 6.41043\n",
      "896/896 [==============================] - 23s 26ms/step - loss: 69.1818 - mae: 5.6234 - val_loss: 118.8441 - val_mae: 6.7175\n",
      "Epoch 55/200\n",
      "895/896 [============================>.] - ETA: 0s - loss: 70.4456 - mae: 5.6374\n",
      "Epoch 55: val_mae did not improve from 6.41043\n",
      "896/896 [==============================] - 23s 25ms/step - loss: 70.6034 - mae: 5.6397 - val_loss: 115.6116 - val_mae: 6.6381\n",
      "Epoch 56/200\n",
      "894/896 [============================>.] - ETA: 0s - loss: 69.2411 - mae: 5.6088\n",
      "Epoch 56: val_mae improved from 6.41043 to 6.38548, saving model to 3h_BZ_GSM_transform.keras\n",
      "896/896 [==============================] - 23s 26ms/step - loss: 69.1384 - mae: 5.6042 - val_loss: 103.7145 - val_mae: 6.3855\n",
      "Epoch 57/200\n",
      "894/896 [============================>.] - ETA: 0s - loss: 69.9637 - mae: 5.6275\n",
      "Epoch 57: val_mae did not improve from 6.38548\n",
      "896/896 [==============================] - 23s 26ms/step - loss: 69.9623 - mae: 5.6283 - val_loss: 116.8185 - val_mae: 6.9638\n",
      "Epoch 58/200\n",
      "895/896 [============================>.] - ETA: 0s - loss: 69.6706 - mae: 5.6287\n",
      "Epoch 58: val_mae did not improve from 6.38548\n",
      "896/896 [==============================] - 24s 26ms/step - loss: 69.6406 - mae: 5.6279 - val_loss: 108.4685 - val_mae: 6.5022\n",
      "Epoch 59/200\n",
      "895/896 [============================>.] - ETA: 0s - loss: 68.8251 - mae: 5.5950\n",
      "Epoch 59: val_mae did not improve from 6.38548\n",
      "896/896 [==============================] - 23s 26ms/step - loss: 68.7906 - mae: 5.5943 - val_loss: 105.6205 - val_mae: 6.4417\n",
      "Epoch 60/200\n",
      "895/896 [============================>.] - ETA: 0s - loss: 70.5429 - mae: 5.6467\n",
      "Epoch 60: val_mae did not improve from 6.38548\n",
      "896/896 [==============================] - 23s 26ms/step - loss: 70.5024 - mae: 5.6455 - val_loss: 118.8764 - val_mae: 6.6275\n",
      "Epoch 61/200\n",
      "896/896 [==============================] - ETA: 0s - loss: 68.7653 - mae: 5.5991\n",
      "Epoch 61: val_mae did not improve from 6.38548\n",
      "896/896 [==============================] - 24s 26ms/step - loss: 68.7653 - mae: 5.5991 - val_loss: 104.9309 - val_mae: 6.4561\n",
      "Epoch 62/200\n",
      "896/896 [==============================] - ETA: 0s - loss: 71.4508 - mae: 5.6397\n",
      "Epoch 62: val_mae did not improve from 6.38548\n",
      "896/896 [==============================] - 22s 25ms/step - loss: 71.4508 - mae: 5.6397 - val_loss: 112.2915 - val_mae: 6.5370\n",
      "Epoch 63/200\n",
      "896/896 [==============================] - ETA: 0s - loss: 72.4736 - mae: 5.6860\n",
      "Epoch 63: val_mae did not improve from 6.38548\n",
      "896/896 [==============================] - 23s 26ms/step - loss: 72.4736 - mae: 5.6860 - val_loss: 140.4276 - val_mae: 7.7314\n",
      "Epoch 64/200\n",
      "894/896 [============================>.] - ETA: 0s - loss: 70.2886 - mae: 5.6409\n",
      "Epoch 64: val_mae did not improve from 6.38548\n",
      "896/896 [==============================] - 23s 26ms/step - loss: 70.2835 - mae: 5.6410 - val_loss: 114.0376 - val_mae: 6.5709\n",
      "Epoch 65/200\n",
      "895/896 [============================>.] - ETA: 0s - loss: 69.5730 - mae: 5.6100\n",
      "Epoch 65: val_mae did not improve from 6.38548\n",
      "896/896 [==============================] - 23s 25ms/step - loss: 69.6514 - mae: 5.6113 - val_loss: 105.5254 - val_mae: 6.4441\n",
      "Epoch 66/200\n",
      "896/896 [==============================] - ETA: 0s - loss: 69.3528 - mae: 5.6097\n",
      "Epoch 66: val_mae did not improve from 6.38548\n",
      "896/896 [==============================] - 24s 27ms/step - loss: 69.3528 - mae: 5.6097 - val_loss: 121.7827 - val_mae: 7.1629\n",
      "Epoch 67/200\n",
      "896/896 [==============================] - ETA: 0s - loss: 70.1398 - mae: 5.6342\n",
      "Epoch 67: val_mae did not improve from 6.38548\n",
      "896/896 [==============================] - 23s 26ms/step - loss: 70.1398 - mae: 5.6342 - val_loss: 117.3041 - val_mae: 6.8352\n",
      "Epoch 68/200\n",
      "896/896 [==============================] - ETA: 0s - loss: 70.4890 - mae: 5.6253\n",
      "Epoch 68: val_mae did not improve from 6.38548\n",
      "896/896 [==============================] - 23s 25ms/step - loss: 70.4890 - mae: 5.6253 - val_loss: 120.3263 - val_mae: 6.9208\n",
      "Epoch 69/200\n",
      "896/896 [==============================] - ETA: 0s - loss: 69.1113 - mae: 5.6018\n",
      "Epoch 69: val_mae did not improve from 6.38548\n",
      "896/896 [==============================] - 22s 25ms/step - loss: 69.1113 - mae: 5.6018 - val_loss: 115.6096 - val_mae: 6.8245\n",
      "Epoch 70/200\n",
      "894/896 [============================>.] - ETA: 0s - loss: 73.3351 - mae: 5.7167\n",
      "Epoch 70: val_mae did not improve from 6.38548\n",
      "896/896 [==============================] - 21s 24ms/step - loss: 73.3318 - mae: 5.7166 - val_loss: 120.3028 - val_mae: 6.6995\n",
      "Epoch 71/200\n",
      "894/896 [============================>.] - ETA: 0s - loss: 69.4912 - mae: 5.6076\n",
      "Epoch 71: val_mae did not improve from 6.38548\n",
      "896/896 [==============================] - 22s 25ms/step - loss: 69.4242 - mae: 5.6058 - val_loss: 115.4969 - val_mae: 6.6368\n",
      "Epoch 72/200\n",
      "894/896 [============================>.] - ETA: 0s - loss: 69.2905 - mae: 5.5886\n",
      "Epoch 72: val_mae did not improve from 6.38548\n",
      "896/896 [==============================] - 22s 24ms/step - loss: 69.2700 - mae: 5.5884 - val_loss: 115.2593 - val_mae: 6.7942\n",
      "Epoch 73/200\n",
      "895/896 [============================>.] - ETA: 0s - loss: 71.0106 - mae: 5.6394\n",
      "Epoch 73: val_mae did not improve from 6.38548\n",
      "896/896 [==============================] - 22s 25ms/step - loss: 70.9955 - mae: 5.6390 - val_loss: 111.7333 - val_mae: 6.6345\n",
      "Epoch 74/200\n",
      "894/896 [============================>.] - ETA: 0s - loss: 70.3134 - mae: 5.6202\n",
      "Epoch 74: val_mae did not improve from 6.38548\n",
      "896/896 [==============================] - 22s 25ms/step - loss: 70.2700 - mae: 5.6190 - val_loss: 170.3305 - val_mae: 7.3557\n",
      "Epoch 75/200\n",
      "896/896 [==============================] - ETA: 0s - loss: 70.3110 - mae: 5.6115\n",
      "Epoch 75: val_mae did not improve from 6.38548\n",
      "896/896 [==============================] - 22s 25ms/step - loss: 70.3110 - mae: 5.6115 - val_loss: 115.4890 - val_mae: 6.6237\n",
      "Epoch 76/200\n",
      "894/896 [============================>.] - ETA: 0s - loss: 69.9716 - mae: 5.6124\n",
      "Epoch 76: val_mae did not improve from 6.38548\n",
      "896/896 [==============================] - 22s 25ms/step - loss: 69.9144 - mae: 5.6112 - val_loss: 123.5083 - val_mae: 6.9772\n",
      "Epoch 77/200\n",
      "895/896 [============================>.] - ETA: 0s - loss: 70.9001 - mae: 5.6800\n",
      "Epoch 77: val_mae did not improve from 6.38548\n",
      "896/896 [==============================] - 22s 25ms/step - loss: 70.8624 - mae: 5.6790 - val_loss: 144.7016 - val_mae: 7.2702\n",
      "Epoch 78/200\n",
      "896/896 [==============================] - ETA: 0s - loss: 69.9401 - mae: 5.6296\n",
      "Epoch 78: val_mae did not improve from 6.38548\n",
      "896/896 [==============================] - 22s 24ms/step - loss: 69.9401 - mae: 5.6296 - val_loss: 106.1456 - val_mae: 6.4772\n",
      "Epoch 79/200\n",
      "895/896 [============================>.] - ETA: 0s - loss: 69.1154 - mae: 5.5966\n",
      "Epoch 79: val_mae did not improve from 6.38548\n",
      "896/896 [==============================] - 23s 25ms/step - loss: 69.0834 - mae: 5.5956 - val_loss: 111.0831 - val_mae: 6.6533\n",
      "Epoch 80/200\n",
      "896/896 [==============================] - ETA: 0s - loss: 68.4344 - mae: 5.5645\n",
      "Epoch 80: val_mae did not improve from 6.38548\n",
      "896/896 [==============================] - 22s 24ms/step - loss: 68.4344 - mae: 5.5645 - val_loss: 106.1678 - val_mae: 6.4733\n",
      "Epoch 81/200\n",
      "895/896 [============================>.] - ETA: 0s - loss: 68.5946 - mae: 5.5868\n",
      "Epoch 81: val_mae did not improve from 6.38548\n",
      "896/896 [==============================] - 22s 25ms/step - loss: 68.5672 - mae: 5.5861 - val_loss: 107.4774 - val_mae: 6.6775\n"
     ]
    }
   ],
   "source": [
    "history = model.fit(train_generator, validation_data=val_generator, epochs=200, verbose=1, callbacks = callbacks_list)"
   ]
  },
  {
   "cell_type": "markdown",
   "id": "77feb3a3-55e8-44d8-b287-6140475f8e0f",
   "metadata": {},
   "source": [
    "### Načítanie najlepšieho modelu"
   ]
  },
  {
   "cell_type": "code",
   "execution_count": 7,
   "id": "160cb204-59fa-4bf2-b85e-3be293a8b550",
   "metadata": {},
   "outputs": [],
   "source": [
    "model = keras.models.load_model('3h_BZ_GSM_transform.keras', custom_objects={'TransformerEncoderLayer': TransformerEncoderLayer})"
   ]
  },
  {
   "cell_type": "markdown",
   "id": "e44d5a37-2cba-4caf-ba5d-1fdc5ba7602a",
   "metadata": {},
   "source": [
    "### Vytvorenie predikcií"
   ]
  },
  {
   "cell_type": "code",
   "execution_count": null,
   "id": "b64d0d3c-3a7c-4c17-a38e-e84815d6e052",
   "metadata": {},
   "outputs": [],
   "source": [
    "y_pred = model.predict(test_generator)"
   ]
  },
  {
   "cell_type": "markdown",
   "id": "f1beb462-5d1d-4702-88ac-758404906402",
   "metadata": {},
   "source": [
    "### Nájdenie optimálneho thresholdu na validačnej sade"
   ]
  },
  {
   "cell_type": "code",
   "execution_count": null,
   "id": "871e8282-958d-4c23-b4e1-c134f71d8a98",
   "metadata": {},
   "outputs": [],
   "source": [
    "y_val_pred = model.predict(val_generator)\n",
    "\n",
    "true_labels_val = np.where(y_val[n_input:] <= -20, 1, 0)  # Adjust n_input as per your setup\n",
    "\n",
    "def calculate_mcc(y_true, y_pred):\n",
    "    return matthews_corrcoef(y_true, y_pred)\n",
    "\n",
    "thresholds = np.arange(-10, -40, -0.1)\n",
    "mcc_scores = []\n",
    "\n",
    "for thresh in thresholds:\n",
    "    predictions = np.where(y_val_pred <= thresh, 1, 0)\n",
    "    mcc = calculate_mcc(true_labels_val, predictions)\n",
    "    mcc_scores.append(mcc)\n",
    "\n",
    "best_threshold_mcc = thresholds[np.argmax(mcc_scores)]\n",
    "best_mcc = max(mcc_scores)\n",
    "\n",
    "print(\"Best Threshold for MCC on Validation Set:\", best_threshold_mcc)\n",
    "print(\"Best MCC on Validation Set:\", best_mcc)\n",
    "best_threshold_mcc_rounded = round(best_threshold_mcc, 1)"
   ]
  },
  {
   "cell_type": "markdown",
   "id": "0020e923-55d1-4cda-a1f1-3596cca534dc",
   "metadata": {},
   "source": [
    "### Výpočet metrík, vykreslenie grafu predikcie a uloženie predikcií"
   ]
  },
  {
   "cell_type": "code",
   "execution_count": 9,
   "id": "7a462a9b-e7e2-45e2-b30f-a7ee61144472",
   "metadata": {},
   "outputs": [
    {
     "name": "stdout",
     "output_type": "stream",
     "text": [
      "Mean Squared Error: 95.41440033747445\n"
     ]
    }
   ],
   "source": [
    "mse = mean_squared_error(y_test[:-n_input], y_pred.reshape(-1))\n",
    "print(f\"Mean Squared Error: {mse}\")"
   ]
  },
  {
   "cell_type": "code",
   "execution_count": 11,
   "id": "44adfea5-eec4-4fb3-8525-a7156bd7c199",
   "metadata": {},
   "outputs": [
    {
     "name": "stdout",
     "output_type": "stream",
     "text": [
      "Confusion matrix: \n",
      "[[124793   5194]\n",
      " [  7142  24901]]\n"
     ]
    }
   ],
   "source": [
    "y_pred2 = np.where(y_pred <= best_threshold_mcc_rounded, 1, 0)\n",
    "y_test2 = np.where(y_test[n_input:]  <= -20, 1, 0)\n",
    "\n",
    "cm = confusion_matrix(y_test2, y_pred2)\n",
    "print(\"Confusion matrix: \\n\" + str(cm))"
   ]
  },
  {
   "cell_type": "code",
   "execution_count": 12,
   "id": "d6fffb07-76df-4eac-8551-20c50c4675a8",
   "metadata": {},
   "outputs": [
    {
     "name": "stdout",
     "output_type": "stream",
     "text": [
      "              precision    recall  f1-score   support\n",
      "\n",
      "           0       0.95      0.96      0.95    129987\n",
      "           1       0.83      0.78      0.80     32043\n",
      "\n",
      "    accuracy                           0.92    162030\n",
      "   macro avg       0.89      0.87      0.88    162030\n",
      "weighted avg       0.92      0.92      0.92    162030\n",
      "\n"
     ]
    }
   ],
   "source": [
    "print(classification_report(y_test2, y_pred2))"
   ]
  },
  {
   "cell_type": "code",
   "execution_count": 13,
   "id": "f9695170-2caf-4ce4-abf6-9b5d8590ac15",
   "metadata": {},
   "outputs": [
    {
     "data": {
      "image/png": "[encoded data removed]",
      "text/plain": [
       "<Figure size 640x480 with 1 Axes>"
      ]
     },
     "metadata": {},
     "output_type": "display_data"
    }
   ],
   "source": [
    "df = pd.DataFrame(data={\"time\": test['time1'][n_input:],\"y_true\": y_test[n_input:].reshape(-1) , \"y_predict\": y_pred.reshape(-1)})\n",
    "\n",
    "plt.figure()\n",
    "plt.title('Predicting the change in DST Index')\n",
    "plt.plot(df['time'],df['y_true'], label='Skutočné hodnoty')\n",
    "plt.plot(df['time'],df['y_predict'], label='Predikované hodnoty')\n",
    "plt.legend()\n",
    "plt.gcf().autofmt_xdate()\n",
    "plt.grid(True)"
   ]
  },
  {
   "cell_type": "code",
   "execution_count": 14,
   "id": "467fba44-d16a-4ed2-b88e-b782fa973c5c",
   "metadata": {},
   "outputs": [
    {
     "name": "stdout",
     "output_type": "stream",
     "text": [
      "ACC=0.9238659507498611\n",
      "MCC=0.7550012726530069\n"
     ]
    }
   ],
   "source": [
    "TN, FP, FN, TP = cm.ravel()\n",
    "ACC = (TP + TN) / (TP + TN + FP + FN)\n",
    "MCC = matthews_corrcoef(y_test2, y_pred2)\n",
    "print(\"ACC={}\".format(ACC))\n",
    "print(\"MCC={}\".format(MCC))"
   ]
  },
  {
   "cell_type": "code",
   "execution_count": null,
   "id": "2800dae1-b9cf-454f-9a13-870dcd8f80a9",
   "metadata": {},
   "outputs": [],
   "source": []
  }
 ],
 "metadata": {
  "kernelspec": {
   "display_name": "Python 3 (ipykernel)",
   "language": "python",
   "name": "python3"
  },
  "language_info": {
   "codemirror_mode": {
    "name": "ipython",
    "version": 3
   },
   "file_extension": ".py",
   "mimetype": "text/x-python",
   "name": "python",
   "nbconvert_exporter": "python",
   "pygments_lexer": "ipython3",
   "version": "3.10.6"
  }
 },
 "nbformat": 4,
 "nbformat_minor": 5
}
