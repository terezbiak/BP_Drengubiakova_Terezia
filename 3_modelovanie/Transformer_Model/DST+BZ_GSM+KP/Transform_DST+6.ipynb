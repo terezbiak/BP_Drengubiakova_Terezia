{
 "cells": [
  {
   "cell_type": "markdown",
   "id": "9732dd20-22b7-4dcf-86fa-3e1db51b645b",
   "metadata": {},
   "source": [
    "## Model na predikciu DST za pomoci použitia atribútu DST, BZ_GSM a KP o 6 hodín dopredu"
   ]
  },
  {
   "cell_type": "markdown",
   "id": "9d65bc37-c301-4fb7-9d31-eeeba7e8f597",
   "metadata": {},
   "source": [
    "Súbor: TransformDST+6.ipynb\n",
    "\n",
    "Program: Hospodárska informatika\n",
    "\n",
    "Vypracovala: Terézia Drengubiaková\n",
    "\n",
    "Bakalárska práca: : Prediktívne modely v spracovaní dát z oblasti kozmického počasia\n",
    "\n",
    "Vedúci diplomovej práce: doc. Ing. Peter Butka, PhD.\n",
    "\n",
    "Konzultanti: Ing. Viera Krešňáková, PhD., RNDr. Šimon Mackovjak, PhD."
   ]
  },
  {
   "cell_type": "markdown",
   "id": "81f05a78-2148-4fe7-a98a-ed99f98fc1c7",
   "metadata": {},
   "source": [
    "### Import knižníc"
   ]
  },
  {
   "cell_type": "code",
   "execution_count": 1,
   "id": "39ae642c-67c7-48fc-9faa-54906e46f87b",
   "metadata": {},
   "outputs": [
    {
     "name": "stderr",
     "output_type": "stream",
     "text": [
      "2024-05-20 18:27:30.078557: I tensorflow/core/platform/cpu_feature_guard.cc:193] This TensorFlow binary is optimized with oneAPI Deep Neural Network Library (oneDNN) to use the following CPU instructions in performance-critical operations:  SSE4.1 SSE4.2 AVX AVX2 FMA\n",
      "To enable them in other operations, rebuild TensorFlow with the appropriate compiler flags.\n"
     ]
    }
   ],
   "source": [
    "import pandas as pd\n",
    "import numpy as np\n",
    "from tensorflow import keras\n",
    "import matplotlib.pyplot as plt\n",
    "from sklearn.preprocessing import MinMaxScaler, StandardScaler\n",
    "from pandas.plotting import register_matplotlib_converters\n",
    "register_matplotlib_converters()\n",
    "import seaborn as sns\n",
    "\n",
    "from tensorflow.keras.preprocessing.sequence import TimeseriesGenerator\n",
    "from keras.models import Sequential\n",
    "\n",
    "from keras.layers import Dense, Activation, Dropout, Input, Conv1D, LSTM, MaxPooling1D, Flatten, TimeDistributed, Bidirectional\n",
    "from tensorflow.keras.callbacks import ModelCheckpoint, EarlyStopping\n",
    "from keras.models import Model\n",
    "\n",
    "\n",
    "from scipy.special import expit, logit\n",
    "\n",
    "from sklearn.metrics import confusion_matrix, classification_report, matthews_corrcoef\n",
    "import tensorflow as tf\n",
    "from tensorflow.keras.layers import Layer, MultiHeadAttention, Dropout, LayerNormalization, Dense\n",
    "from tensorflow.keras.layers import MultiHeadAttention, Dense, Input, LayerNormalization, Dropout\n",
    "from tensorflow.keras.models import Model\n",
    "from sklearn.metrics import mean_squared_error\n"
   ]
  },
  {
   "cell_type": "markdown",
   "id": "fae20f2c-61fc-4549-ac44-2d30e5df8386",
   "metadata": {},
   "source": [
    "### Načítanie dát, odstránenie na hodnôt, určenie predikovaného atribútu"
   ]
  },
  {
   "cell_type": "code",
   "execution_count": 2,
   "id": "83d176a1-e03a-4527-83b2-ec184f0bc65b",
   "metadata": {},
   "outputs": [],
   "source": [
    "train = pd.read_csv('train_omni.csv')\n",
    "test = pd.read_csv('test_omni.csv')\n",
    "train['BZ_GSM'] = train['BZ_GSM'].fillna(train['BZ_GSM'].mean()) \n",
    "test['BZ_GSM'] = test['BZ_GSM'].fillna(test['BZ_GSM'].mean())\n",
    "features = ['time1', 'DST', 'DST+6', 'BZ_GSM', 'KP']\n",
    "test = test[features]\n",
    "train = train[features]\n",
    "train['time1']=pd.to_datetime(train['time1'])\n",
    "test['time1']=pd.to_datetime(test['time1'])\n",
    "predicators = [\"DST\", \"BZ_GSM\", \"KP\"]\n",
    "y_col='DST+6'\n",
    "valid_size = int(len(train) * 0.2)\n",
    "valid = train.iloc[-valid_size:,:].copy()\n",
    "train = train.iloc[:-valid_size,:].copy()\n",
    "\n",
    "y_train = train[y_col].values.copy()\n",
    "X_train = train[predicators].values.copy()\n",
    "y_val = valid[y_col].values.copy()\n",
    "X_val = valid[predicators].values.copy()\n",
    "y_test = test[y_col].values.copy()\n",
    "X_test = test[predicators].values.copy()"
   ]
  },
  {
   "cell_type": "markdown",
   "id": "093e8e7a-6e57-462e-a3fd-2ae321cbe5e5",
   "metadata": {},
   "source": [
    "### Definícia premenných a vytvorenie dátových generátorov"
   ]
  },
  {
   "cell_type": "code",
   "execution_count": 3,
   "id": "7a884202-da06-4f52-a0fb-a60461faefd3",
   "metadata": {},
   "outputs": [],
   "source": [
    "n_input = 6  \n",
    "n_features= len(X_train)  \n",
    "b_size = 256  \n",
    "\n",
    "train_generator = TimeseriesGenerator(X_train, y_train, length=n_input, batch_size=b_size)\n",
    "val_generator = TimeseriesGenerator(X_val, y_val, length=n_input, batch_size=b_size)\n",
    "test_generator = TimeseriesGenerator(X_test, y_test, length=n_input, batch_size=256)"
   ]
  },
  {
   "cell_type": "markdown",
   "id": "e8806795-3284-4c22-9da3-859f99497e00",
   "metadata": {},
   "source": [
    "### Vytvorenie modelu"
   ]
  },
  {
   "cell_type": "code",
   "execution_count": 4,
   "id": "6436f68f-c696-4bb9-a87c-b95c7d42a9a7",
   "metadata": {},
   "outputs": [
    {
     "name": "stderr",
     "output_type": "stream",
     "text": [
      "2024-05-20 18:27:41.462886: I tensorflow/core/platform/cpu_feature_guard.cc:193] This TensorFlow binary is optimized with oneAPI Deep Neural Network Library (oneDNN) to use the following CPU instructions in performance-critical operations:  SSE4.1 SSE4.2 AVX AVX2 FMA\n",
      "To enable them in other operations, rebuild TensorFlow with the appropriate compiler flags.\n"
     ]
    },
    {
     "name": "stdout",
     "output_type": "stream",
     "text": [
      "Model: \"model\"\n",
      "_________________________________________________________________\n",
      " Layer (type)                Output Shape              Param #   \n",
      "=================================================================\n",
      " input_1 (InputLayer)        [(None, 6, 3)]            0         \n",
      "                                                                 \n",
      " transformer_encoder_layer (  (None, 6, 64)            66816     \n",
      " TransformerEncoderLayer)                                        \n",
      "                                                                 \n",
      " flatten (Flatten)           (None, 384)               0         \n",
      "                                                                 \n",
      " dense_3 (Dense)             (None, 1)                 385       \n",
      "                                                                 \n",
      "=================================================================\n",
      "Total params: 67,201\n",
      "Trainable params: 67,201\n",
      "Non-trainable params: 0\n",
      "_________________________________________________________________\n"
     ]
    }
   ],
   "source": [
    "class TransformerEncoderLayer(Layer):\n",
    "    def __init__(self, embed_dim, num_heads, ff_dim, input_dim, rate=0.1, **kwargs):\n",
    "        super(TransformerEncoderLayer, self).__init__(**kwargs)\n",
    "        self.embed_dim = embed_dim\n",
    "        self.num_heads = num_heads\n",
    "        self.ff_dim = ff_dim\n",
    "        self.input_dim = input_dim\n",
    "        self.rate = rate\n",
    "        self.input_proj = Dense(embed_dim)\n",
    "        self.att = MultiHeadAttention(num_heads=num_heads, key_dim=embed_dim)\n",
    "        self.ffn = tf.keras.Sequential([\n",
    "            Dense(ff_dim, activation=\"relu\"),\n",
    "            Dense(embed_dim)\n",
    "        ])\n",
    "        self.layernorm1 = LayerNormalization(epsilon=1e-6)\n",
    "        self.layernorm2 = LayerNormalization(epsilon=1e-6)\n",
    "        self.dropout1 = Dropout(rate)\n",
    "        self.dropout2 = Dropout(rate)\n",
    "\n",
    "    def call(self, inputs, training=False):\n",
    "        inputs_proj = self.input_proj(inputs)\n",
    "        attn_output = self.att(inputs_proj, inputs_proj)\n",
    "        attn_output = self.dropout1(attn_output, training=training)\n",
    "        out1 = self.layernorm1(inputs_proj + attn_output)\n",
    "        ffn_output = self.ffn(out1)\n",
    "        ffn_output = self.dropout2(ffn_output, training=training)\n",
    "        return self.layernorm2(out1 + ffn_output)\n",
    "\n",
    "    def get_config(self):\n",
    "        config = super().get_config()\n",
    "        config.update({\n",
    "            'embed_dim': self.embed_dim,\n",
    "            'num_heads': self.num_heads,\n",
    "            'ff_dim': self.ff_dim,\n",
    "            'input_dim': self.input_dim,\n",
    "            'rate': self.rate\n",
    "        })\n",
    "        return config\n",
    "\n",
    "def build_model(input_shape, embed_dim, num_heads, ff_dim, rate=0.1):\n",
    "    inputs = tf.keras.Input(shape=input_shape)\n",
    "    x = TransformerEncoderLayer(embed_dim, num_heads, ff_dim, input_shape[-1], rate)(inputs)\n",
    "    x = Flatten()(x)\n",
    "    x = Dense(1, activation='linear')(x)\n",
    "    return tf.keras.Model(inputs=inputs, outputs=x)\n",
    "\n",
    "\n",
    "model = build_model((6, 3), embed_dim=64, num_heads=2, ff_dim=256)\n",
    "model.compile(loss='mse', optimizer='adam', metrics=['mae'])\n",
    "model.summary()"
   ]
  },
  {
   "cell_type": "code",
   "execution_count": 5,
   "id": "f25d3c3d-5d7f-492f-949c-7d5a4d7431ec",
   "metadata": {},
   "outputs": [],
   "source": [
    "saved_model = \"6h_BZ_GSM_transform.keras\"\n",
    "checkpoint = ModelCheckpoint(saved_model, monitor='val_mae', verbose=1, save_best_only=True, mode='min')\n",
    "early = EarlyStopping(monitor=\"val_mae\", mode=\"min\", patience=25)\n",
    "callbacks_list = [checkpoint, early]"
   ]
  },
  {
   "cell_type": "markdown",
   "id": "2c8e18bd-1c50-48c8-92e6-731746b41e56",
   "metadata": {},
   "source": [
    "### Trénovanie"
   ]
  },
  {
   "cell_type": "code",
   "execution_count": 6,
   "id": "a5aa36bc-f66e-4998-b510-d126b155c7b9",
   "metadata": {
    "collapsed": true,
    "jupyter": {
     "outputs_hidden": true
    },
    "tags": []
   },
   "outputs": [
    {
     "name": "stdout",
     "output_type": "stream",
     "text": [
      "Epoch 1/200\n",
      "895/896 [============================>.] - ETA: 0s - loss: 262.6436 - mae: 9.9559\n",
      "Epoch 1: val_mae improved from inf to 10.86954, saving model to 6h_BZ_GSM_transform.keras\n",
      "896/896 [==============================] - 26s 26ms/step - loss: 262.5058 - mae: 9.9548 - val_loss: 377.2097 - val_mae: 10.8695\n",
      "Epoch 2/200\n",
      "894/896 [============================>.] - ETA: 0s - loss: 173.3637 - mae: 8.2984\n",
      "Epoch 2: val_mae improved from 10.86954 to 9.18923, saving model to 6h_BZ_GSM_transform.keras\n",
      "896/896 [==============================] - 23s 26ms/step - loss: 173.2598 - mae: 8.2974 - val_loss: 258.8981 - val_mae: 9.1892\n",
      "Epoch 3/200\n",
      "896/896 [==============================] - ETA: 0s - loss: 154.7619 - mae: 7.9721\n",
      "Epoch 3: val_mae did not improve from 9.18923\n",
      "896/896 [==============================] - 23s 25ms/step - loss: 154.7619 - mae: 7.9721 - val_loss: 274.6326 - val_mae: 9.9193\n",
      "Epoch 4/200\n",
      "894/896 [============================>.] - ETA: 0s - loss: 150.3497 - mae: 7.8606\n",
      "Epoch 4: val_mae did not improve from 9.18923\n",
      "896/896 [==============================] - 24s 26ms/step - loss: 151.2335 - mae: 7.8731 - val_loss: 234.2625 - val_mae: 9.5180\n",
      "Epoch 5/200\n",
      "895/896 [============================>.] - ETA: 0s - loss: 147.0799 - mae: 7.8017\n",
      "Epoch 5: val_mae did not improve from 9.18923\n",
      "896/896 [==============================] - 24s 26ms/step - loss: 146.9690 - mae: 7.7984 - val_loss: 256.4088 - val_mae: 9.2873\n",
      "Epoch 6/200\n",
      "896/896 [==============================] - ETA: 0s - loss: 149.4140 - mae: 7.8606\n",
      "Epoch 6: val_mae improved from 9.18923 to 8.94679, saving model to 6h_BZ_GSM_transform.keras\n",
      "896/896 [==============================] - 23s 25ms/step - loss: 149.4140 - mae: 7.8606 - val_loss: 231.5071 - val_mae: 8.9468\n",
      "Epoch 7/200\n",
      "894/896 [============================>.] - ETA: 0s - loss: 143.3084 - mae: 7.7600\n",
      "Epoch 7: val_mae improved from 8.94679 to 8.92594, saving model to 6h_BZ_GSM_transform.keras\n",
      "896/896 [==============================] - 24s 27ms/step - loss: 143.2107 - mae: 7.7589 - val_loss: 224.5071 - val_mae: 8.9259\n",
      "Epoch 8/200\n",
      "894/896 [============================>.] - ETA: 0s - loss: 141.7113 - mae: 7.7062\n",
      "Epoch 8: val_mae improved from 8.92594 to 8.73227, saving model to 6h_BZ_GSM_transform.keras\n",
      "896/896 [==============================] - 23s 25ms/step - loss: 141.5947 - mae: 7.7045 - val_loss: 209.6362 - val_mae: 8.7323\n",
      "Epoch 9/200\n",
      "894/896 [============================>.] - ETA: 0s - loss: 140.9801 - mae: 7.7295\n",
      "Epoch 9: val_mae did not improve from 8.73227\n",
      "896/896 [==============================] - 24s 27ms/step - loss: 140.9179 - mae: 7.7307 - val_loss: 229.9870 - val_mae: 9.0472\n",
      "Epoch 10/200\n",
      "896/896 [==============================] - ETA: 0s - loss: 136.5081 - mae: 7.6099\n",
      "Epoch 10: val_mae did not improve from 8.73227\n",
      "896/896 [==============================] - 23s 26ms/step - loss: 136.5081 - mae: 7.6099 - val_loss: 233.4849 - val_mae: 9.0457\n",
      "Epoch 11/200\n",
      "895/896 [============================>.] - ETA: 0s - loss: 138.3635 - mae: 7.6071\n",
      "Epoch 11: val_mae did not improve from 8.73227\n",
      "896/896 [==============================] - 22s 25ms/step - loss: 138.2650 - mae: 7.6048 - val_loss: 250.4073 - val_mae: 9.4285\n",
      "Epoch 12/200\n",
      "895/896 [============================>.] - ETA: 0s - loss: 137.3996 - mae: 7.6057\n",
      "Epoch 12: val_mae did not improve from 8.73227\n",
      "896/896 [==============================] - 24s 27ms/step - loss: 137.4268 - mae: 7.6073 - val_loss: 229.9804 - val_mae: 8.9340\n",
      "Epoch 13/200\n",
      "895/896 [============================>.] - ETA: 0s - loss: 137.1584 - mae: 7.6000\n",
      "Epoch 13: val_mae did not improve from 8.73227\n",
      "896/896 [==============================] - 23s 25ms/step - loss: 137.1857 - mae: 7.6002 - val_loss: 213.2031 - val_mae: 8.7714\n",
      "Epoch 14/200\n",
      "894/896 [============================>.] - ETA: 0s - loss: 136.5647 - mae: 7.5918\n",
      "Epoch 14: val_mae did not improve from 8.73227\n",
      "896/896 [==============================] - 23s 26ms/step - loss: 136.4406 - mae: 7.5901 - val_loss: 231.9050 - val_mae: 9.0332\n",
      "Epoch 15/200\n",
      "895/896 [============================>.] - ETA: 0s - loss: 132.1263 - mae: 7.4777\n",
      "Epoch 15: val_mae did not improve from 8.73227\n",
      "896/896 [==============================] - 25s 27ms/step - loss: 132.1832 - mae: 7.4800 - val_loss: 231.3007 - val_mae: 8.9461\n",
      "Epoch 16/200\n",
      "895/896 [============================>.] - ETA: 0s - loss: 134.4688 - mae: 7.5405\n",
      "Epoch 16: val_mae improved from 8.73227 to 8.59739, saving model to 6h_BZ_GSM_transform.keras\n",
      "896/896 [==============================] - 25s 28ms/step - loss: 134.4835 - mae: 7.5418 - val_loss: 198.2046 - val_mae: 8.5974\n",
      "Epoch 17/200\n",
      "894/896 [============================>.] - ETA: 0s - loss: 135.9001 - mae: 7.5428\n",
      "Epoch 17: val_mae did not improve from 8.59739\n",
      "896/896 [==============================] - 22s 25ms/step - loss: 135.7353 - mae: 7.5388 - val_loss: 205.7619 - val_mae: 8.7099\n",
      "Epoch 18/200\n",
      "896/896 [==============================] - ETA: 0s - loss: 132.0152 - mae: 7.5125\n",
      "Epoch 18: val_mae did not improve from 8.59739\n",
      "896/896 [==============================] - 23s 25ms/step - loss: 132.0152 - mae: 7.5125 - val_loss: 206.3281 - val_mae: 8.9608\n",
      "Epoch 19/200\n",
      "894/896 [============================>.] - ETA: 0s - loss: 136.7102 - mae: 7.6013\n",
      "Epoch 19: val_mae did not improve from 8.59739\n",
      "896/896 [==============================] - 22s 25ms/step - loss: 136.7395 - mae: 7.5999 - val_loss: 211.0690 - val_mae: 8.6787\n",
      "Epoch 20/200\n",
      "896/896 [==============================] - ETA: 0s - loss: 132.9217 - mae: 7.4938\n",
      "Epoch 20: val_mae did not improve from 8.59739\n",
      "896/896 [==============================] - 25s 27ms/step - loss: 132.9217 - mae: 7.4938 - val_loss: 210.6636 - val_mae: 8.6823\n",
      "Epoch 21/200\n",
      "895/896 [============================>.] - ETA: 0s - loss: 133.7471 - mae: 7.5223\n",
      "Epoch 21: val_mae did not improve from 8.59739\n",
      "896/896 [==============================] - 23s 26ms/step - loss: 133.6631 - mae: 7.5207 - val_loss: 207.4310 - val_mae: 8.7053\n",
      "Epoch 22/200\n",
      "895/896 [============================>.] - ETA: 0s - loss: 132.3476 - mae: 7.4904\n",
      "Epoch 22: val_mae did not improve from 8.59739\n",
      "896/896 [==============================] - 23s 26ms/step - loss: 132.2855 - mae: 7.4894 - val_loss: 212.5047 - val_mae: 8.6697\n",
      "Epoch 23/200\n",
      "894/896 [============================>.] - ETA: 0s - loss: 130.9048 - mae: 7.4496\n",
      "Epoch 23: val_mae did not improve from 8.59739\n",
      "896/896 [==============================] - 21s 24ms/step - loss: 130.8667 - mae: 7.4499 - val_loss: 205.5915 - val_mae: 8.9339\n",
      "Epoch 24/200\n",
      "894/896 [============================>.] - ETA: 0s - loss: 131.3769 - mae: 7.4677\n",
      "Epoch 24: val_mae did not improve from 8.59739\n",
      "896/896 [==============================] - 23s 26ms/step - loss: 131.3237 - mae: 7.4671 - val_loss: 204.0652 - val_mae: 8.6839\n",
      "Epoch 25/200\n",
      "894/896 [============================>.] - ETA: 0s - loss: 129.9187 - mae: 7.4569\n",
      "Epoch 25: val_mae did not improve from 8.59739\n",
      "896/896 [==============================] - 26s 29ms/step - loss: 130.2010 - mae: 7.4634 - val_loss: 215.4501 - val_mae: 8.9038\n",
      "Epoch 26/200\n",
      "896/896 [==============================] - ETA: 0s - loss: 128.8952 - mae: 7.4013\n",
      "Epoch 26: val_mae did not improve from 8.59739\n",
      "896/896 [==============================] - 23s 25ms/step - loss: 128.8952 - mae: 7.4013 - val_loss: 215.7167 - val_mae: 9.2416\n",
      "Epoch 27/200\n",
      "895/896 [============================>.] - ETA: 0s - loss: 131.0203 - mae: 7.4727\n",
      "Epoch 27: val_mae did not improve from 8.59739\n",
      "896/896 [==============================] - 23s 26ms/step - loss: 131.2384 - mae: 7.4773 - val_loss: 212.1987 - val_mae: 8.7856\n",
      "Epoch 28/200\n",
      "895/896 [============================>.] - ETA: 0s - loss: 131.6248 - mae: 7.4975\n",
      "Epoch 28: val_mae did not improve from 8.59739\n",
      "896/896 [==============================] - 23s 26ms/step - loss: 131.6120 - mae: 7.4974 - val_loss: 210.4898 - val_mae: 8.8340\n",
      "Epoch 29/200\n",
      "896/896 [==============================] - ETA: 0s - loss: 129.2392 - mae: 7.4123\n",
      "Epoch 29: val_mae did not improve from 8.59739\n",
      "896/896 [==============================] - 22s 25ms/step - loss: 129.2392 - mae: 7.4123 - val_loss: 210.4930 - val_mae: 8.7507\n",
      "Epoch 30/200\n",
      "896/896 [==============================] - ETA: 0s - loss: 130.4072 - mae: 7.4539\n",
      "Epoch 30: val_mae did not improve from 8.59739\n",
      "896/896 [==============================] - 23s 25ms/step - loss: 130.4072 - mae: 7.4539 - val_loss: 199.5141 - val_mae: 8.6898\n",
      "Epoch 31/200\n",
      "896/896 [==============================] - ETA: 0s - loss: 129.2660 - mae: 7.4198\n",
      "Epoch 31: val_mae did not improve from 8.59739\n",
      "896/896 [==============================] - 25s 28ms/step - loss: 129.2660 - mae: 7.4198 - val_loss: 208.2932 - val_mae: 8.7413\n",
      "Epoch 32/200\n",
      "894/896 [============================>.] - ETA: 0s - loss: 128.9039 - mae: 7.4167\n",
      "Epoch 32: val_mae did not improve from 8.59739\n",
      "896/896 [==============================] - 23s 25ms/step - loss: 128.8318 - mae: 7.4170 - val_loss: 203.5240 - val_mae: 8.6689\n",
      "Epoch 33/200\n",
      "894/896 [============================>.] - ETA: 0s - loss: 133.2202 - mae: 7.5029\n",
      "Epoch 33: val_mae did not improve from 8.59739\n",
      "896/896 [==============================] - 23s 26ms/step - loss: 133.0766 - mae: 7.4992 - val_loss: 279.8278 - val_mae: 9.6938\n",
      "Epoch 34/200\n",
      "895/896 [============================>.] - ETA: 0s - loss: 130.6219 - mae: 7.4482\n",
      "Epoch 34: val_mae did not improve from 8.59739\n",
      "896/896 [==============================] - 23s 26ms/step - loss: 130.6122 - mae: 7.4492 - val_loss: 200.1028 - val_mae: 8.7758\n",
      "Epoch 35/200\n",
      "894/896 [============================>.] - ETA: 0s - loss: 128.6404 - mae: 7.3806\n",
      "Epoch 35: val_mae did not improve from 8.59739\n",
      "896/896 [==============================] - 23s 25ms/step - loss: 128.5972 - mae: 7.3808 - val_loss: 213.0817 - val_mae: 8.9840\n",
      "Epoch 36/200\n",
      "895/896 [============================>.] - ETA: 0s - loss: 128.1011 - mae: 7.3955\n",
      "Epoch 36: val_mae did not improve from 8.59739\n",
      "896/896 [==============================] - 24s 26ms/step - loss: 128.3958 - mae: 7.4015 - val_loss: 212.0659 - val_mae: 8.7118\n",
      "Epoch 37/200\n",
      "896/896 [==============================] - ETA: 0s - loss: 129.2348 - mae: 7.4406\n",
      "Epoch 37: val_mae did not improve from 8.59739\n",
      "896/896 [==============================] - 22s 25ms/step - loss: 129.2348 - mae: 7.4406 - val_loss: 212.9197 - val_mae: 8.7846\n",
      "Epoch 38/200\n",
      "896/896 [==============================] - ETA: 0s - loss: 127.4486 - mae: 7.3891\n",
      "Epoch 38: val_mae did not improve from 8.59739\n",
      "896/896 [==============================] - 25s 27ms/step - loss: 127.4486 - mae: 7.3891 - val_loss: 210.0048 - val_mae: 8.9591\n",
      "Epoch 39/200\n",
      "895/896 [============================>.] - ETA: 0s - loss: 128.4776 - mae: 7.4042\n",
      "Epoch 39: val_mae did not improve from 8.59739\n",
      "896/896 [==============================] - 22s 25ms/step - loss: 128.4178 - mae: 7.4034 - val_loss: 214.5776 - val_mae: 9.1109\n",
      "Epoch 40/200\n",
      "894/896 [============================>.] - ETA: 0s - loss: 128.5595 - mae: 7.3852\n",
      "Epoch 40: val_mae did not improve from 8.59739\n",
      "896/896 [==============================] - 24s 26ms/step - loss: 128.3638 - mae: 7.3796 - val_loss: 200.5928 - val_mae: 8.7239\n",
      "Epoch 41/200\n",
      "895/896 [============================>.] - ETA: 0s - loss: 128.7713 - mae: 7.4073\n",
      "Epoch 41: val_mae did not improve from 8.59739\n",
      "896/896 [==============================] - 24s 26ms/step - loss: 128.7110 - mae: 7.4049 - val_loss: 227.2853 - val_mae: 8.8870\n"
     ]
    }
   ],
   "source": [
    "history = model.fit(train_generator, validation_data=val_generator, epochs=200, verbose=1, callbacks = callbacks_list)"
   ]
  },
  {
   "cell_type": "markdown",
   "id": "95da670a-a371-40f9-aa12-99f6631514fc",
   "metadata": {},
   "source": [
    "### Načítanie najlepšieho modelu"
   ]
  },
  {
   "cell_type": "code",
   "execution_count": 7,
   "id": "160cb204-59fa-4bf2-b85e-3be293a8b550",
   "metadata": {},
   "outputs": [],
   "source": [
    "model = keras.models.load_model('6h_BZ_GSM_transform.keras', custom_objects={'TransformerEncoderLayer': TransformerEncoderLayer})"
   ]
  },
  {
   "cell_type": "markdown",
   "id": "c8188c58-c941-4d98-928a-ee816feaf7c2",
   "metadata": {},
   "source": [
    "### Vytvorenie predikcií"
   ]
  },
  {
   "cell_type": "code",
   "execution_count": 8,
   "id": "40d0c9d1-fab9-4d81-b9b9-d6902840539d",
   "metadata": {},
   "outputs": [
    {
     "name": "stdout",
     "output_type": "stream",
     "text": [
      "633/633 [==============================] - 7s 11ms/step\n"
     ]
    }
   ],
   "source": [
    "y_pred = model.predict(test_generator)"
   ]
  },
  {
   "cell_type": "markdown",
   "id": "cc5e2a27-a321-4cc4-91c3-f312cda8cb4a",
   "metadata": {},
   "source": [
    "### Nájdenie optimálneho thresholdu na validačnej sade"
   ]
  },
  {
   "cell_type": "code",
   "execution_count": 10,
   "id": "6f72acd3-5552-4e73-b080-625788a602c1",
   "metadata": {},
   "outputs": [
    {
     "name": "stdout",
     "output_type": "stream",
     "text": [
      "224/224 [==============================] - 3s 11ms/step\n",
      "Best Threshold for MCC on Validation Set: -19.899999999999963\n",
      "Best MCC on Validation Set: 0.7357306684498145\n"
     ]
    }
   ],
   "source": [
    "y_val_pred = model.predict(val_generator)\n",
    "\n",
    "true_labels_val = np.where(y_val[n_input:] <= -20, 1, 0)  # Adjust n_input as per your setup\n",
    "\n",
    "def calculate_mcc(y_true, y_pred):\n",
    "    return matthews_corrcoef(y_true, y_pred)\n",
    "\n",
    "thresholds = np.arange(-10, -40, -0.1)\n",
    "mcc_scores = []\n",
    "\n",
    "for thresh in thresholds:\n",
    "    predictions = np.where(y_val_pred <= thresh, 1, 0)\n",
    "    mcc = calculate_mcc(true_labels_val, predictions)\n",
    "    mcc_scores.append(mcc)\n",
    "\n",
    "best_threshold_mcc = thresholds[np.argmax(mcc_scores)]\n",
    "best_mcc = max(mcc_scores)\n",
    "\n",
    "print(\"Best Threshold for MCC on Validation Set:\", best_threshold_mcc)\n",
    "print(\"Best MCC on Validation Set:\", best_mcc)\n",
    "best_threshold_mcc_rounded = round(best_threshold_mcc, 1)"
   ]
  },
  {
   "cell_type": "markdown",
   "id": "b485c5cb-3c31-4028-b164-092a97f2016f",
   "metadata": {},
   "source": [
    "### Výpočet metrík, vykreslenie grafu predikcie a uloženie predikcií"
   ]
  },
  {
   "cell_type": "code",
   "execution_count": 9,
   "id": "7a462a9b-e7e2-45e2-b30f-a7ee61144472",
   "metadata": {},
   "outputs": [
    {
     "name": "stdout",
     "output_type": "stream",
     "text": [
      "Mean Squared Error: 53.14894395907609\n"
     ]
    }
   ],
   "source": [
    "mse = mean_squared_error(y_test[:-n_input], y_pred.reshape(-1))\n",
    "print(f\"Mean Squared Error: {mse}\")"
   ]
  },
  {
   "cell_type": "code",
   "execution_count": 11,
   "id": "44adfea5-eec4-4fb3-8525-a7156bd7c199",
   "metadata": {},
   "outputs": [
    {
     "name": "stdout",
     "output_type": "stream",
     "text": [
      "Confusion matrix: \n",
      "[[124488   5501]\n",
      " [ 10581  21460]]\n"
     ]
    }
   ],
   "source": [
    "y_pred2 = np.where(y_pred <= best_threshold_mcc_rounded, 1, 0)\n",
    "y_test2 = np.where(y_test[n_input:]  <= -20, 1, 0)\n",
    "\n",
    "cm = confusion_matrix(y_test2, y_pred2)\n",
    "print(\"Confusion matrix: \\n\" + str(cm))"
   ]
  },
  {
   "cell_type": "code",
   "execution_count": 12,
   "id": "d6fffb07-76df-4eac-8551-20c50c4675a8",
   "metadata": {},
   "outputs": [
    {
     "name": "stdout",
     "output_type": "stream",
     "text": [
      "              precision    recall  f1-score   support\n",
      "\n",
      "           0       0.92      0.96      0.94    129989\n",
      "           1       0.80      0.67      0.73     32041\n",
      "\n",
      "    accuracy                           0.90    162030\n",
      "   macro avg       0.86      0.81      0.83    162030\n",
      "weighted avg       0.90      0.90      0.90    162030\n",
      "\n"
     ]
    }
   ],
   "source": [
    "print(classification_report(y_test2, y_pred2))"
   ]
  },
  {
   "cell_type": "code",
   "execution_count": 13,
   "id": "f9695170-2caf-4ce4-abf6-9b5d8590ac15",
   "metadata": {},
   "outputs": [
    {
     "data": {
      "image/png": "[encoded data removed]",
      "text/plain": [
       "<Figure size 640x480 with 1 Axes>"
      ]
     },
     "metadata": {},
     "output_type": "display_data"
    }
   ],
   "source": [
    "df = pd.DataFrame(data={\"time\": test['time1'][n_input:],\"y_true\": y_test[n_input:].reshape(-1) , \"y_predict\": y_pred.reshape(-1)})\n",
    "\n",
    "plt.figure()\n",
    "plt.title('Predicting the change in DST Index')\n",
    "plt.plot(df['time'],df['y_true'], label='Skutočné hodnoty')\n",
    "plt.plot(df['time'],df['y_predict'], label='Predikované hodnoty')\n",
    "plt.legend()\n",
    "plt.gcf().autofmt_xdate()\n",
    "plt.grid(True)"
   ]
  },
  {
   "cell_type": "code",
   "execution_count": 14,
   "id": "467fba44-d16a-4ed2-b88e-b782fa973c5c",
   "metadata": {},
   "outputs": [
    {
     "name": "stdout",
     "output_type": "stream",
     "text": [
      "ACC=0.9007467752885269\n",
      "MCC=0.6710241630597746\n"
     ]
    }
   ],
   "source": [
    "TN, FP, FN, TP = cm.ravel()\n",
    "ACC = (TP + TN) / (TP + TN + FP + FN)\n",
    "MCC = matthews_corrcoef(y_test2, y_pred2)\n",
    "print(\"ACC={}\".format(ACC))\n",
    "print(\"MCC={}\".format(MCC))"
   ]
  },
  {
   "cell_type": "code",
   "execution_count": null,
   "id": "2800dae1-b9cf-454f-9a13-870dcd8f80a9",
   "metadata": {},
   "outputs": [],
   "source": []
  }
 ],
 "metadata": {
  "kernelspec": {
   "display_name": "Python 3 (ipykernel)",
   "language": "python",
   "name": "python3"
  },
  "language_info": {
   "codemirror_mode": {
    "name": "ipython",
    "version": 3
   },
   "file_extension": ".py",
   "mimetype": "text/x-python",
   "name": "python",
   "nbconvert_exporter": "python",
   "pygments_lexer": "ipython3",
   "version": "3.10.6"
  }
 },
 "nbformat": 4,
 "nbformat_minor": 5
}
