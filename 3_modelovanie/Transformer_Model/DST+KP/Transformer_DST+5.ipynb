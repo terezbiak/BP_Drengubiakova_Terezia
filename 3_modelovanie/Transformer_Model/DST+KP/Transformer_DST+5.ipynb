{
 "cells": [
  {
   "cell_type": "markdown",
   "id": "e65e1cc1-eef8-4113-ae0f-0acf3bdeea14",
   "metadata": {},
   "source": [
    "## Model na predikciu DST za pomoci použitia atribútu DST a KP o 5 hodín dopredu"
   ]
  },
  {
   "cell_type": "markdown",
   "id": "525dc868-c453-47da-983d-81db689d796c",
   "metadata": {},
   "source": [
    "Súbor: TransformerDST+5.ipynb\n",
    "\n",
    "Program: Hospodárska informatika\n",
    "\n",
    "Vypracovala: Terézia Drengubiaková\n",
    "\n",
    "Bakalárska práca: : Prediktívne modely v spracovaní dát z oblasti kozmického počasia\n",
    "\n",
    "Vedúci diplomovej práce: doc. Ing. Peter Butka, PhD.\n",
    "\n",
    "Konzultanti: Ing. Viera Krešňáková, PhD., RNDr. Šimon Mackovjak, PhD."
   ]
  },
  {
   "cell_type": "markdown",
   "id": "b7a890d9-93f6-4f66-9630-e7533b76354b",
   "metadata": {},
   "source": [
    "### Import knižníc"
   ]
  },
  {
   "cell_type": "code",
   "execution_count": 1,
   "id": "253f73f4-9541-4e2b-a5e8-3671365db708",
   "metadata": {},
   "outputs": [
    {
     "name": "stderr",
     "output_type": "stream",
     "text": [
      "2024-05-20 16:47:03.225171: I tensorflow/core/platform/cpu_feature_guard.cc:193] This TensorFlow binary is optimized with oneAPI Deep Neural Network Library (oneDNN) to use the following CPU instructions in performance-critical operations:  SSE4.1 SSE4.2 AVX AVX2 FMA\n",
      "To enable them in other operations, rebuild TensorFlow with the appropriate compiler flags.\n"
     ]
    }
   ],
   "source": [
    "import pandas as pd\n",
    "import numpy as np\n",
    "from tensorflow import keras\n",
    "import matplotlib.pyplot as plt\n",
    "from sklearn.preprocessing import MinMaxScaler, StandardScaler\n",
    "from pandas.plotting import register_matplotlib_converters\n",
    "register_matplotlib_converters()\n",
    "import seaborn as sns\n",
    "\n",
    "from tensorflow.keras.preprocessing.sequence import TimeseriesGenerator\n",
    "from keras.models import Sequential\n",
    "\n",
    "from keras.layers import Dense, Activation, Dropout, Input, Conv1D, LSTM, MaxPooling1D, Flatten, TimeDistributed, Bidirectional\n",
    "from tensorflow.keras.callbacks import ModelCheckpoint, EarlyStopping\n",
    "from keras.models import Model\n",
    "\n",
    "\n",
    "from scipy.special import expit, logit\n",
    "\n",
    "from sklearn.metrics import confusion_matrix, classification_report, matthews_corrcoef\n",
    "import tensorflow as tf\n",
    "from tensorflow.keras.layers import Layer, MultiHeadAttention, Dropout, LayerNormalization, Dense\n",
    "from tensorflow.keras.layers import MultiHeadAttention, Dense, Input, LayerNormalization, Dropout\n",
    "from tensorflow.keras.models import Model"
   ]
  },
  {
   "cell_type": "markdown",
   "id": "4a50e183-4848-4ba7-8144-68db058e1f82",
   "metadata": {},
   "source": [
    "### Načítanie dát, odstránenie na hodnôt, určenie predikovaného atribútu"
   ]
  },
  {
   "cell_type": "code",
   "execution_count": 2,
   "id": "5eb39fad-4954-4c25-80cb-fb881404a5e1",
   "metadata": {},
   "outputs": [],
   "source": [
    "train = pd.read_csv('train_omni.csv')\n",
    "test = pd.read_csv('test_omni.csv')\n",
    "features = ['time1', 'DST', 'DST+5', 'KP']\n",
    "test = test[features]\n",
    "train = train[features]\n",
    "train['time1']=pd.to_datetime(train['time1'])\n",
    "test['time1']=pd.to_datetime(test['time1'])\n",
    "predicators = [\"DST\", \"KP\"]\n",
    "y_col='DST+5'\n",
    "valid_size = int(len(train) * 0.2)\n",
    "valid = train.iloc[-valid_size:,:].copy()\n",
    "train = train.iloc[:-valid_size,:].copy()\n",
    "\n",
    "\n",
    "y_train = train[y_col].values.copy()\n",
    "X_train = train[predicators].values.copy()\n",
    "y_val = valid[y_col].values.copy()\n",
    "X_val = valid[predicators].values.copy()\n",
    "y_test = test[y_col].values.copy()\n",
    "X_test = test[predicators].values.copy()"
   ]
  },
  {
   "cell_type": "markdown",
   "id": "998aa161-9936-49e9-8a79-a09cbf25e699",
   "metadata": {},
   "source": [
    "### Definícia premenných a vytvorenie dátových generátorov"
   ]
  },
  {
   "cell_type": "code",
   "execution_count": 3,
   "id": "7f3bf570-efc0-4586-91f6-aa364f46de81",
   "metadata": {},
   "outputs": [],
   "source": [
    "n_input = 6  \n",
    "n_features= len(X_train)  \n",
    "b_size = 256\n",
    "\n",
    "train_generator = TimeseriesGenerator(X_train, y_train, length=n_input, batch_size=b_size)\n",
    "val_generator = TimeseriesGenerator(X_val, y_val, length=n_input, batch_size=b_size)\n",
    "test_generator = TimeseriesGenerator(X_test, y_test, length=n_input, batch_size=256)"
   ]
  },
  {
   "cell_type": "markdown",
   "id": "c7c5e5fe-4fd0-428f-ab00-4cdc835dfb30",
   "metadata": {},
   "source": [
    "### Vytvorenie modelu"
   ]
  },
  {
   "cell_type": "code",
   "execution_count": 4,
   "id": "7fa2a1a7-f757-4326-8502-ee9d8e84296a",
   "metadata": {},
   "outputs": [
    {
     "name": "stderr",
     "output_type": "stream",
     "text": [
      "2024-05-20 16:47:13.417024: I tensorflow/core/platform/cpu_feature_guard.cc:193] This TensorFlow binary is optimized with oneAPI Deep Neural Network Library (oneDNN) to use the following CPU instructions in performance-critical operations:  SSE4.1 SSE4.2 AVX AVX2 FMA\n",
      "To enable them in other operations, rebuild TensorFlow with the appropriate compiler flags.\n"
     ]
    },
    {
     "name": "stdout",
     "output_type": "stream",
     "text": [
      "Model: \"model\"\n",
      "_________________________________________________________________\n",
      " Layer (type)                Output Shape              Param #   \n",
      "=================================================================\n",
      " input_1 (InputLayer)        [(None, 6, 2)]            0         \n",
      "                                                                 \n",
      " transformer_encoder_layer (  (None, 6, 64)            66752     \n",
      " TransformerEncoderLayer)                                        \n",
      "                                                                 \n",
      " flatten (Flatten)           (None, 384)               0         \n",
      "                                                                 \n",
      " dense_3 (Dense)             (None, 1)                 385       \n",
      "                                                                 \n",
      "=================================================================\n",
      "Total params: 67,137\n",
      "Trainable params: 67,137\n",
      "Non-trainable params: 0\n",
      "_________________________________________________________________\n"
     ]
    }
   ],
   "source": [
    "class TransformerEncoderLayer(Layer):\n",
    "    def __init__(self, embed_dim, num_heads, ff_dim, input_dim, rate=0.1, **kwargs):\n",
    "        super(TransformerEncoderLayer, self).__init__(**kwargs)\n",
    "        self.embed_dim = embed_dim\n",
    "        self.num_heads = num_heads\n",
    "        self.ff_dim = ff_dim\n",
    "        self.input_dim = input_dim\n",
    "        self.rate = rate\n",
    "        self.input_proj = Dense(embed_dim)\n",
    "        self.att = MultiHeadAttention(num_heads=num_heads, key_dim=embed_dim)\n",
    "        self.ffn = tf.keras.Sequential([\n",
    "            Dense(ff_dim, activation=\"relu\"),\n",
    "            Dense(embed_dim)\n",
    "        ])\n",
    "        self.layernorm1 = LayerNormalization(epsilon=1e-6)\n",
    "        self.layernorm2 = LayerNormalization(epsilon=1e-6)\n",
    "        self.dropout1 = Dropout(rate)\n",
    "        self.dropout2 = Dropout(rate)\n",
    "\n",
    "    def call(self, inputs, training=False):\n",
    "        inputs_proj = self.input_proj(inputs)\n",
    "        attn_output = self.att(inputs_proj, inputs_proj)\n",
    "        attn_output = self.dropout1(attn_output, training=training)\n",
    "        out1 = self.layernorm1(inputs_proj + attn_output)\n",
    "        ffn_output = self.ffn(out1)\n",
    "        ffn_output = self.dropout2(ffn_output, training=training)\n",
    "        return self.layernorm2(out1 + ffn_output)\n",
    "\n",
    "    def get_config(self):\n",
    "        config = super().get_config()\n",
    "        config.update({\n",
    "            'embed_dim': self.embed_dim,\n",
    "            'num_heads': self.num_heads,\n",
    "            'ff_dim': self.ff_dim,\n",
    "            'input_dim': self.input_dim,\n",
    "            'rate': self.rate\n",
    "        })\n",
    "        return config\n",
    "\n",
    "def build_model(input_shape, embed_dim, num_heads, ff_dim, rate=0.1):\n",
    "    inputs = tf.keras.Input(shape=input_shape)\n",
    "    x = TransformerEncoderLayer(embed_dim, num_heads, ff_dim, input_shape[-1], rate)(inputs)\n",
    "    x = Flatten()(x)\n",
    "    x = Dense(1, activation='linear')(x)\n",
    "    return tf.keras.Model(inputs=inputs, outputs=x)\n",
    "\n",
    "model = build_model((6, 2), embed_dim=64, num_heads=2, ff_dim=256)\n",
    "model.compile(loss='mse', optimizer='adam', metrics=['mae'])\n",
    "model.summary()"
   ]
  },
  {
   "cell_type": "code",
   "execution_count": 5,
   "id": "4bb01967-ae38-4bde-831b-80f3b80abf19",
   "metadata": {},
   "outputs": [],
   "source": [
    "saved_model = \"5h_KP_transform.keras\"\n",
    "checkpoint = ModelCheckpoint(saved_model, monitor='val_mae', verbose=1, save_best_only=True, mode='min')\n",
    "early = EarlyStopping(monitor=\"val_mae\", mode=\"min\", patience=25)\n",
    "callbacks_list = [checkpoint, early]"
   ]
  },
  {
   "cell_type": "markdown",
   "id": "4c63284a-738d-4259-abad-4fe43be456e8",
   "metadata": {},
   "source": [
    "### Trénovanie"
   ]
  },
  {
   "cell_type": "code",
   "execution_count": 6,
   "id": "4d8e4b9a-a0d5-47f1-9689-9ccd2d1d2d8c",
   "metadata": {
    "collapsed": true,
    "jupyter": {
     "outputs_hidden": true
    },
    "tags": []
   },
   "outputs": [
    {
     "name": "stdout",
     "output_type": "stream",
     "text": [
      "Epoch 1/200\n",
      "895/896 [============================>.] - ETA: 0s - loss: 245.6463 - mae: 9.6704\n",
      "Epoch 1: val_mae improved from inf to 10.89466, saving model to 5h_KP_transform.keras\n",
      "896/896 [==============================] - 30s 30ms/step - loss: 245.5868 - mae: 9.6713 - val_loss: 363.6655 - val_mae: 10.8947\n",
      "Epoch 2/200\n",
      "895/896 [============================>.] - ETA: 0s - loss: 160.1737 - mae: 7.9748\n",
      "Epoch 2: val_mae improved from 10.89466 to 9.01580, saving model to 5h_KP_transform.keras\n",
      "896/896 [==============================] - 27s 30ms/step - loss: 160.0881 - mae: 7.9743 - val_loss: 250.5848 - val_mae: 9.0158\n",
      "Epoch 3/200\n",
      "895/896 [============================>.] - ETA: 0s - loss: 146.9007 - mae: 7.7452\n",
      "Epoch 3: val_mae improved from 9.01580 to 8.91984, saving model to 5h_KP_transform.keras\n",
      "896/896 [==============================] - 26s 29ms/step - loss: 146.8223 - mae: 7.7440 - val_loss: 222.9157 - val_mae: 8.9198\n",
      "Epoch 4/200\n",
      "894/896 [============================>.] - ETA: 0s - loss: 143.2444 - mae: 7.7047\n",
      "Epoch 4: val_mae did not improve from 8.91984\n",
      "896/896 [==============================] - 24s 27ms/step - loss: 143.2973 - mae: 7.7065 - val_loss: 220.6869 - val_mae: 9.2847\n",
      "Epoch 5/200\n",
      "896/896 [==============================] - ETA: 0s - loss: 135.2347 - mae: 7.5453\n",
      "Epoch 5: val_mae improved from 8.91984 to 8.90860, saving model to 5h_KP_transform.keras\n",
      "896/896 [==============================] - 25s 28ms/step - loss: 135.2347 - mae: 7.5453 - val_loss: 208.6108 - val_mae: 8.9086\n",
      "Epoch 6/200\n",
      "894/896 [============================>.] - ETA: 0s - loss: 133.8251 - mae: 7.5039\n",
      "Epoch 6: val_mae improved from 8.90860 to 8.31352, saving model to 5h_KP_transform.keras\n",
      "896/896 [==============================] - 25s 28ms/step - loss: 133.6756 - mae: 7.5008 - val_loss: 194.7258 - val_mae: 8.3135\n",
      "Epoch 7/200\n",
      "893/896 [============================>.] - ETA: 0s - loss: 128.7916 - mae: 7.3697\n",
      "Epoch 7: val_mae did not improve from 8.31352\n",
      "896/896 [==============================] - 25s 28ms/step - loss: 128.7265 - mae: 7.3691 - val_loss: 205.4943 - val_mae: 8.8072\n",
      "Epoch 8/200\n",
      "896/896 [==============================] - ETA: 0s - loss: 126.9615 - mae: 7.3326\n",
      "Epoch 8: val_mae did not improve from 8.31352\n",
      "896/896 [==============================] - 25s 28ms/step - loss: 126.9615 - mae: 7.3326 - val_loss: 212.9660 - val_mae: 8.5025\n",
      "Epoch 9/200\n",
      "896/896 [==============================] - ETA: 0s - loss: 128.9521 - mae: 7.3859\n",
      "Epoch 9: val_mae did not improve from 8.31352\n",
      "896/896 [==============================] - 25s 28ms/step - loss: 128.9521 - mae: 7.3859 - val_loss: 184.3832 - val_mae: 8.7002\n",
      "Epoch 10/200\n",
      "894/896 [============================>.] - ETA: 0s - loss: 123.6539 - mae: 7.2608\n",
      "Epoch 10: val_mae did not improve from 8.31352\n",
      "896/896 [==============================] - 24s 27ms/step - loss: 123.5265 - mae: 7.2579 - val_loss: 196.4891 - val_mae: 8.4129\n",
      "Epoch 11/200\n",
      "895/896 [============================>.] - ETA: 0s - loss: 122.6600 - mae: 7.2288\n",
      "Epoch 11: val_mae did not improve from 8.31352\n",
      "896/896 [==============================] - 25s 27ms/step - loss: 122.6957 - mae: 7.2302 - val_loss: 183.5102 - val_mae: 8.4653\n",
      "Epoch 12/200\n",
      "895/896 [============================>.] - ETA: 0s - loss: 127.6948 - mae: 7.3144\n",
      "Epoch 12: val_mae improved from 8.31352 to 8.20327, saving model to 5h_KP_transform.keras\n",
      "896/896 [==============================] - 26s 29ms/step - loss: 127.7058 - mae: 7.3159 - val_loss: 191.5291 - val_mae: 8.2033\n",
      "Epoch 13/200\n",
      "895/896 [============================>.] - ETA: 0s - loss: 122.2649 - mae: 7.2287\n",
      "Epoch 13: val_mae did not improve from 8.20327\n",
      "896/896 [==============================] - 25s 28ms/step - loss: 122.1828 - mae: 7.2262 - val_loss: 188.7081 - val_mae: 8.2056\n",
      "Epoch 14/200\n",
      "896/896 [==============================] - ETA: 0s - loss: 123.6453 - mae: 7.2430\n",
      "Epoch 14: val_mae did not improve from 8.20327\n",
      "896/896 [==============================] - 25s 28ms/step - loss: 123.6453 - mae: 7.2430 - val_loss: 196.1384 - val_mae: 8.3865\n",
      "Epoch 15/200\n",
      "895/896 [============================>.] - ETA: 0s - loss: 121.6052 - mae: 7.2069\n",
      "Epoch 15: val_mae improved from 8.20327 to 8.16420, saving model to 5h_KP_transform.keras\n",
      "896/896 [==============================] - 25s 28ms/step - loss: 121.5879 - mae: 7.2068 - val_loss: 184.9536 - val_mae: 8.1642\n",
      "Epoch 16/200\n",
      "894/896 [============================>.] - ETA: 0s - loss: 120.1567 - mae: 7.1933\n",
      "Epoch 16: val_mae did not improve from 8.16420\n",
      "896/896 [==============================] - 28s 31ms/step - loss: 119.9666 - mae: 7.1875 - val_loss: 194.4804 - val_mae: 8.3251\n",
      "Epoch 17/200\n",
      "894/896 [============================>.] - ETA: 0s - loss: 123.0424 - mae: 7.2315\n",
      "Epoch 17: val_mae did not improve from 8.16420\n",
      "896/896 [==============================] - 25s 28ms/step - loss: 123.0648 - mae: 7.2332 - val_loss: 189.4894 - val_mae: 8.3213\n",
      "Epoch 18/200\n",
      "895/896 [============================>.] - ETA: 0s - loss: 117.9577 - mae: 7.1134\n",
      "Epoch 18: val_mae did not improve from 8.16420\n",
      "896/896 [==============================] - 25s 28ms/step - loss: 117.9283 - mae: 7.1139 - val_loss: 182.6448 - val_mae: 8.2708\n",
      "Epoch 19/200\n",
      "896/896 [==============================] - ETA: 0s - loss: 118.9197 - mae: 7.1262\n",
      "Epoch 19: val_mae improved from 8.16420 to 8.14310, saving model to 5h_KP_transform.keras\n",
      "896/896 [==============================] - 27s 30ms/step - loss: 118.9197 - mae: 7.1262 - val_loss: 186.9773 - val_mae: 8.1431\n",
      "Epoch 20/200\n",
      "895/896 [============================>.] - ETA: 0s - loss: 121.8764 - mae: 7.2065\n",
      "Epoch 20: val_mae did not improve from 8.14310\n",
      "896/896 [==============================] - 25s 28ms/step - loss: 121.8228 - mae: 7.2055 - val_loss: 177.8388 - val_mae: 8.2303\n",
      "Epoch 21/200\n",
      "895/896 [============================>.] - ETA: 0s - loss: 117.0887 - mae: 7.0993\n",
      "Epoch 21: val_mae did not improve from 8.14310\n",
      "896/896 [==============================] - 24s 27ms/step - loss: 117.3284 - mae: 7.1032 - val_loss: 180.2594 - val_mae: 8.3939\n",
      "Epoch 22/200\n",
      "894/896 [============================>.] - ETA: 0s - loss: 117.9691 - mae: 7.1078\n",
      "Epoch 22: val_mae did not improve from 8.14310\n",
      "896/896 [==============================] - 25s 28ms/step - loss: 117.9311 - mae: 7.1073 - val_loss: 177.2288 - val_mae: 8.2604\n",
      "Epoch 23/200\n",
      "896/896 [==============================] - ETA: 0s - loss: 117.7860 - mae: 7.1257\n",
      "Epoch 23: val_mae did not improve from 8.14310\n",
      "896/896 [==============================] - 24s 27ms/step - loss: 117.7860 - mae: 7.1257 - val_loss: 177.9997 - val_mae: 8.1778\n",
      "Epoch 24/200\n",
      "896/896 [==============================] - ETA: 0s - loss: 118.6752 - mae: 7.1052\n",
      "Epoch 24: val_mae did not improve from 8.14310\n",
      "896/896 [==============================] - 24s 27ms/step - loss: 118.6752 - mae: 7.1052 - val_loss: 177.0032 - val_mae: 8.1699\n",
      "Epoch 25/200\n",
      "895/896 [============================>.] - ETA: 0s - loss: 117.4080 - mae: 7.1173\n",
      "Epoch 25: val_mae improved from 8.14310 to 8.06107, saving model to 5h_KP_transform.keras\n",
      "896/896 [==============================] - 25s 28ms/step - loss: 117.4141 - mae: 7.1184 - val_loss: 174.9270 - val_mae: 8.0611\n",
      "Epoch 26/200\n",
      "895/896 [============================>.] - ETA: 0s - loss: 117.6541 - mae: 7.0996\n",
      "Epoch 26: val_mae did not improve from 8.06107\n",
      "896/896 [==============================] - 25s 28ms/step - loss: 117.5749 - mae: 7.0977 - val_loss: 183.9591 - val_mae: 8.1883\n",
      "Epoch 27/200\n",
      "896/896 [==============================] - ETA: 0s - loss: 118.5273 - mae: 7.1319\n",
      "Epoch 27: val_mae did not improve from 8.06107\n",
      "896/896 [==============================] - 25s 28ms/step - loss: 118.5273 - mae: 7.1319 - val_loss: 176.8223 - val_mae: 8.1249\n",
      "Epoch 28/200\n",
      "896/896 [==============================] - ETA: 0s - loss: 119.6896 - mae: 7.1465\n",
      "Epoch 28: val_mae did not improve from 8.06107\n",
      "896/896 [==============================] - 25s 28ms/step - loss: 119.6896 - mae: 7.1465 - val_loss: 182.6182 - val_mae: 8.1196\n",
      "Epoch 29/200\n",
      "895/896 [============================>.] - ETA: 0s - loss: 114.9202 - mae: 7.0335\n",
      "Epoch 29: val_mae did not improve from 8.06107\n",
      "896/896 [==============================] - 25s 28ms/step - loss: 114.8565 - mae: 7.0319 - val_loss: 203.5239 - val_mae: 8.4558\n",
      "Epoch 30/200\n",
      "895/896 [============================>.] - ETA: 0s - loss: 121.0853 - mae: 7.1808\n",
      "Epoch 30: val_mae did not improve from 8.06107\n",
      "896/896 [==============================] - 25s 28ms/step - loss: 121.0402 - mae: 7.1801 - val_loss: 173.1125 - val_mae: 8.1674\n",
      "Epoch 31/200\n",
      "895/896 [============================>.] - ETA: 0s - loss: 115.1937 - mae: 7.0584\n",
      "Epoch 31: val_mae did not improve from 8.06107\n",
      "896/896 [==============================] - 24s 26ms/step - loss: 115.2610 - mae: 7.0616 - val_loss: 180.5704 - val_mae: 8.2157\n",
      "Epoch 32/200\n",
      "896/896 [==============================] - ETA: 0s - loss: 114.9096 - mae: 7.0478\n",
      "Epoch 32: val_mae did not improve from 8.06107\n",
      "896/896 [==============================] - 25s 28ms/step - loss: 114.9096 - mae: 7.0478 - val_loss: 176.8147 - val_mae: 8.2139\n",
      "Epoch 33/200\n",
      "894/896 [============================>.] - ETA: 0s - loss: 116.8929 - mae: 7.1079\n",
      "Epoch 33: val_mae did not improve from 8.06107\n",
      "896/896 [==============================] - 25s 28ms/step - loss: 116.7708 - mae: 7.1057 - val_loss: 179.8251 - val_mae: 8.2713\n",
      "Epoch 34/200\n",
      "894/896 [============================>.] - ETA: 0s - loss: 118.7979 - mae: 7.1012\n",
      "Epoch 34: val_mae did not improve from 8.06107\n",
      "896/896 [==============================] - 25s 28ms/step - loss: 118.8560 - mae: 7.1024 - val_loss: 178.5523 - val_mae: 8.1120\n",
      "Epoch 35/200\n",
      "896/896 [==============================] - ETA: 0s - loss: 115.6076 - mae: 7.0531\n",
      "Epoch 35: val_mae did not improve from 8.06107\n",
      "896/896 [==============================] - 27s 31ms/step - loss: 115.6076 - mae: 7.0531 - val_loss: 180.5020 - val_mae: 8.3242\n",
      "Epoch 36/200\n",
      "895/896 [============================>.] - ETA: 0s - loss: 114.6389 - mae: 7.0488\n",
      "Epoch 36: val_mae did not improve from 8.06107\n",
      "896/896 [==============================] - 26s 29ms/step - loss: 114.5693 - mae: 7.0469 - val_loss: 179.0131 - val_mae: 8.1755\n",
      "Epoch 37/200\n",
      "894/896 [============================>.] - ETA: 0s - loss: 118.1448 - mae: 7.1329\n",
      "Epoch 37: val_mae did not improve from 8.06107\n",
      "896/896 [==============================] - 24s 27ms/step - loss: 118.0618 - mae: 7.1323 - val_loss: 180.2309 - val_mae: 8.1300\n",
      "Epoch 38/200\n",
      "895/896 [============================>.] - ETA: 0s - loss: 118.6515 - mae: 7.1351\n",
      "Epoch 38: val_mae did not improve from 8.06107\n",
      "896/896 [==============================] - 25s 28ms/step - loss: 118.6084 - mae: 7.1350 - val_loss: 174.3074 - val_mae: 8.1706\n",
      "Epoch 39/200\n",
      "896/896 [==============================] - ETA: 0s - loss: 116.7586 - mae: 7.0714\n",
      "Epoch 39: val_mae did not improve from 8.06107\n",
      "896/896 [==============================] - 25s 28ms/step - loss: 116.7586 - mae: 7.0714 - val_loss: 183.2492 - val_mae: 8.3401\n",
      "Epoch 40/200\n",
      "894/896 [============================>.] - ETA: 0s - loss: 115.7656 - mae: 7.0516\n",
      "Epoch 40: val_mae did not improve from 8.06107\n",
      "896/896 [==============================] - 23s 26ms/step - loss: 115.7006 - mae: 7.0508 - val_loss: 191.4142 - val_mae: 8.5312\n",
      "Epoch 41/200\n",
      "896/896 [==============================] - ETA: 0s - loss: 114.3457 - mae: 7.0209\n",
      "Epoch 41: val_mae did not improve from 8.06107\n",
      "896/896 [==============================] - 25s 28ms/step - loss: 114.3457 - mae: 7.0209 - val_loss: 172.8925 - val_mae: 8.2234\n",
      "Epoch 42/200\n",
      "895/896 [============================>.] - ETA: 0s - loss: 115.6562 - mae: 7.0821\n",
      "Epoch 42: val_mae did not improve from 8.06107\n",
      "896/896 [==============================] - 24s 27ms/step - loss: 115.6061 - mae: 7.0812 - val_loss: 180.6739 - val_mae: 8.3392\n",
      "Epoch 43/200\n",
      "896/896 [==============================] - ETA: 0s - loss: 113.6840 - mae: 7.0333\n",
      "Epoch 43: val_mae did not improve from 8.06107\n",
      "896/896 [==============================] - 24s 27ms/step - loss: 113.6840 - mae: 7.0333 - val_loss: 189.5386 - val_mae: 8.2344\n",
      "Epoch 44/200\n",
      "894/896 [============================>.] - ETA: 0s - loss: 118.1590 - mae: 7.0994\n",
      "Epoch 44: val_mae did not improve from 8.06107\n",
      "896/896 [==============================] - 25s 28ms/step - loss: 118.0856 - mae: 7.0982 - val_loss: 199.6768 - val_mae: 9.0295\n",
      "Epoch 45/200\n",
      "896/896 [==============================] - ETA: 0s - loss: 117.5079 - mae: 7.0914\n",
      "Epoch 45: val_mae did not improve from 8.06107\n",
      "896/896 [==============================] - 26s 29ms/step - loss: 117.5079 - mae: 7.0914 - val_loss: 220.0260 - val_mae: 8.7690\n",
      "Epoch 46/200\n",
      "894/896 [============================>.] - ETA: 0s - loss: 115.7468 - mae: 7.0468\n",
      "Epoch 46: val_mae did not improve from 8.06107\n",
      "896/896 [==============================] - 24s 27ms/step - loss: 115.6967 - mae: 7.0458 - val_loss: 233.6206 - val_mae: 9.4946\n",
      "Epoch 47/200\n",
      "895/896 [============================>.] - ETA: 0s - loss: 115.9674 - mae: 7.0640\n",
      "Epoch 47: val_mae did not improve from 8.06107\n",
      "896/896 [==============================] - 25s 28ms/step - loss: 115.9170 - mae: 7.0633 - val_loss: 178.0663 - val_mae: 8.6183\n",
      "Epoch 48/200\n",
      "894/896 [============================>.] - ETA: 0s - loss: 115.5946 - mae: 7.0623\n",
      "Epoch 48: val_mae did not improve from 8.06107\n",
      "896/896 [==============================] - 25s 28ms/step - loss: 115.5364 - mae: 7.0624 - val_loss: 173.6249 - val_mae: 8.1248\n",
      "Epoch 49/200\n",
      "895/896 [============================>.] - ETA: 0s - loss: 115.2581 - mae: 7.0571\n",
      "Epoch 49: val_mae did not improve from 8.06107\n",
      "896/896 [==============================] - 24s 27ms/step - loss: 115.4100 - mae: 7.0600 - val_loss: 167.8327 - val_mae: 8.2806\n",
      "Epoch 50/200\n",
      "896/896 [==============================] - ETA: 0s - loss: 116.6840 - mae: 7.0620\n",
      "Epoch 50: val_mae did not improve from 8.06107\n",
      "896/896 [==============================] - 25s 28ms/step - loss: 116.6840 - mae: 7.0620 - val_loss: 177.1422 - val_mae: 8.1053\n"
     ]
    }
   ],
   "source": [
    "history = model.fit(train_generator, validation_data=val_generator, epochs=200, verbose=1, callbacks = callbacks_list)"
   ]
  },
  {
   "cell_type": "markdown",
   "id": "1cfb83e3-9e78-4800-a3d3-83c587b53379",
   "metadata": {},
   "source": [
    "### Načítanie najlepšieho modelu"
   ]
  },
  {
   "cell_type": "code",
   "execution_count": 7,
   "id": "670c22c7-b549-4c4d-a6e2-096f3ef6e89a",
   "metadata": {},
   "outputs": [],
   "source": [
    "model = keras.models.load_model( '5h_KP_transform.keras', custom_objects={'TransformerEncoderLayer': TransformerEncoderLayer})"
   ]
  },
  {
   "cell_type": "markdown",
   "id": "a24b3f24-249f-4640-8a8c-47f51ff8b90e",
   "metadata": {},
   "source": [
    "### Vytvorenie predikcií"
   ]
  },
  {
   "cell_type": "code",
   "execution_count": 8,
   "id": "35e37699-4e39-436f-8b99-971ded3a35f1",
   "metadata": {},
   "outputs": [
    {
     "name": "stdout",
     "output_type": "stream",
     "text": [
      "633/633 [==============================] - 7s 11ms/step\n"
     ]
    }
   ],
   "source": [
    "y_pred = model.predict(test_generator)"
   ]
  },
  {
   "cell_type": "markdown",
   "id": "aba785d3-d82d-4422-8a69-a7e1c2d9b1bd",
   "metadata": {},
   "source": [
    "### Nájdenie optimálneho thresholdu na validačnej sade"
   ]
  },
  {
   "cell_type": "code",
   "execution_count": 10,
   "id": "6d5fa96f-eb79-4a18-8f5f-ccc92edd5618",
   "metadata": {},
   "outputs": [
    {
     "name": "stdout",
     "output_type": "stream",
     "text": [
      "224/224 [==============================] - 3s 11ms/step\n",
      "Best Threshold for MCC on Validation Set: -19.399999999999967\n",
      "Best MCC on Validation Set: 0.7537652464482669\n"
     ]
    }
   ],
   "source": [
    "y_val_pred = model.predict(val_generator)\n",
    "\n",
    "true_labels_val = np.where(y_val[n_input:] <= -20, 1, 0)  \n",
    "\n",
    "def calculate_mcc(y_true, y_pred):\n",
    "    return matthews_corrcoef(y_true, y_pred)\n",
    "\n",
    "thresholds = np.arange(-10, -40, -0.1)\n",
    "mcc_scores = []\n",
    "\n",
    "for thresh in thresholds:\n",
    "    predictions = np.where(y_val_pred <= thresh, 1, 0)\n",
    "    mcc = calculate_mcc(true_labels_val, predictions)\n",
    "    mcc_scores.append(mcc)\n",
    "\n",
    "best_threshold_mcc = thresholds[np.argmax(mcc_scores)]\n",
    "best_mcc = max(mcc_scores)\n",
    "\n",
    "print(\"Best Threshold for MCC on Validation Set:\", best_threshold_mcc)\n",
    "print(\"Best MCC on Validation Set:\", best_mcc)\n",
    "best_threshold_mcc_rounded = round(best_threshold_mcc, 1)"
   ]
  },
  {
   "cell_type": "markdown",
   "id": "8a1192e3-a8be-4964-9d62-f19f2a417060",
   "metadata": {},
   "source": [
    "### Výpočet metrík, vykreslenie grafu predikcie a uloženie predikcií"
   ]
  },
  {
   "cell_type": "code",
   "execution_count": 9,
   "id": "4e9bc210-4fac-4ba3-b644-618ec50eb8da",
   "metadata": {},
   "outputs": [
    {
     "name": "stdout",
     "output_type": "stream",
     "text": [
      "Mean Squared Error: 54.43404150222113\n"
     ]
    }
   ],
   "source": [
    "from sklearn.metrics import mean_squared_error\n",
    "\n",
    "mse = mean_squared_error(y_test[:-6], y_pred.reshape(-1))\n",
    "print(f\"Mean Squared Error: {mse}\")"
   ]
  },
  {
   "cell_type": "code",
   "execution_count": 11,
   "id": "5a4a60a4-312d-49af-b434-62bb5321358f",
   "metadata": {},
   "outputs": [
    {
     "name": "stdout",
     "output_type": "stream",
     "text": [
      "Confusion matrix: \n",
      "[[124837   5152]\n",
      " [ 10421  21620]]\n"
     ]
    }
   ],
   "source": [
    "y_pred2 = np.where(y_pred <= best_threshold_mcc_rounded, 1, 0)\n",
    "y_test2 = np.where(y_test[n_input:]  <= -20, 1, 0)\n",
    "\n",
    "cm = confusion_matrix(y_test2, y_pred2)\n",
    "print(\"Confusion matrix: \\n\" + str(cm))"
   ]
  },
  {
   "cell_type": "code",
   "execution_count": 12,
   "id": "34bf261e-9c6d-41e5-b29a-610944c0209c",
   "metadata": {},
   "outputs": [
    {
     "name": "stdout",
     "output_type": "stream",
     "text": [
      "              precision    recall  f1-score   support\n",
      "\n",
      "           0       0.92      0.96      0.94    129989\n",
      "           1       0.81      0.67      0.74     32041\n",
      "\n",
      "    accuracy                           0.90    162030\n",
      "   macro avg       0.87      0.82      0.84    162030\n",
      "weighted avg       0.90      0.90      0.90    162030\n",
      "\n"
     ]
    }
   ],
   "source": [
    "print(classification_report(y_test2, y_pred2))"
   ]
  },
  {
   "cell_type": "code",
   "execution_count": 13,
   "id": "2c53e62e-9d40-4678-9358-b0a58302c34a",
   "metadata": {},
   "outputs": [
    {
     "data": {
      "image/png": "[encoded data removed]",
      "text/plain": [
       "<Figure size 640x480 with 1 Axes>"
      ]
     },
     "metadata": {},
     "output_type": "display_data"
    }
   ],
   "source": [
    "df = pd.DataFrame(data={\"time\": test['time1'][n_input:],\"y_true\": y_test[n_input:].reshape(-1) , \"y_predict\": y_pred.reshape(-1)})\n",
    "\n",
    "plt.figure()\n",
    "plt.title('Predicting the change in DST Index')\n",
    "plt.plot(df['time'],df['y_true'], label='Skutočné hodnoty')\n",
    "plt.plot(df['time'],df['y_predict'], label='Predikované hodnoty')\n",
    "plt.legend()\n",
    "plt.gcf().autofmt_xdate()\n",
    "plt.grid(True)"
   ]
  },
  {
   "cell_type": "code",
   "execution_count": 14,
   "id": "c622248e-eb1a-450b-b45a-ac09a38e0343",
   "metadata": {},
   "outputs": [
    {
     "name": "stdout",
     "output_type": "stream",
     "text": [
      "ACC=0.9038881688576189\n",
      "MCC=0.6811528339783914\n"
     ]
    }
   ],
   "source": [
    "TN, FP, FN, TP = cm.ravel()\n",
    "ACC = (TP + TN) / (TP + TN + FP + FN)\n",
    "MCC = matthews_corrcoef(y_test2, y_pred2)\n",
    "print(\"ACC={}\".format(ACC))\n",
    "print(\"MCC={}\".format(MCC))"
   ]
  },
  {
   "cell_type": "code",
   "execution_count": null,
   "id": "b2583efc-7edd-413e-a7f0-17bbf92681d6",
   "metadata": {},
   "outputs": [],
   "source": []
  }
 ],
 "metadata": {
  "kernelspec": {
   "display_name": "Python 3 (ipykernel)",
   "language": "python",
   "name": "python3"
  },
  "language_info": {
   "codemirror_mode": {
    "name": "ipython",
    "version": 3
   },
   "file_extension": ".py",
   "mimetype": "text/x-python",
   "name": "python",
   "nbconvert_exporter": "python",
   "pygments_lexer": "ipython3",
   "version": "3.10.6"
  }
 },
 "nbformat": 4,
 "nbformat_minor": 5
}
