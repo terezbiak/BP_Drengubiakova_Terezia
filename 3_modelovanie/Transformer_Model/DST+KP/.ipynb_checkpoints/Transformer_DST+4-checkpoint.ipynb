{
 "cells": [
  {
   "cell_type": "markdown",
   "id": "384fc915-6124-4e4c-8027-5bcc52a54432",
   "metadata": {},
   "source": [
    "## Model na predikciu DST za pomoci použitia atribútu DST a KP o 4 hodiny dopredu"
   ]
  },
  {
   "cell_type": "markdown",
   "id": "303430a7-1016-4a22-9cd0-033b8581e972",
   "metadata": {},
   "source": [
    "Súbor: TransformerDST+4.ipynb\n",
    "\n",
    "Program: Hospodárska informatika\n",
    "\n",
    "Vypracovala: Terézia Drengubiaková\n",
    "\n",
    "Bakalárska práca: : Prediktívne modely v spracovaní dát z oblasti kozmického počasia\n",
    "\n",
    "Vedúci diplomovej práce: doc. Ing. Peter Butka, PhD.\n",
    "\n",
    "Konzultanti: Ing. Viera Krešňáková, PhD., RNDr. Šimon Mackovjak, PhD."
   ]
  },
  {
   "cell_type": "markdown",
   "id": "5dc1a314-9b0c-45e3-a007-2a18098c8d99",
   "metadata": {},
   "source": [
    "### Import knižníc"
   ]
  },
  {
   "cell_type": "code",
   "execution_count": 1,
   "id": "253f73f4-9541-4e2b-a5e8-3671365db708",
   "metadata": {},
   "outputs": [
    {
     "name": "stderr",
     "output_type": "stream",
     "text": [
      "2024-05-20 16:46:06.178969: I tensorflow/core/platform/cpu_feature_guard.cc:193] This TensorFlow binary is optimized with oneAPI Deep Neural Network Library (oneDNN) to use the following CPU instructions in performance-critical operations:  SSE4.1 SSE4.2 AVX AVX2 FMA\n",
      "To enable them in other operations, rebuild TensorFlow with the appropriate compiler flags.\n"
     ]
    }
   ],
   "source": [
    "import pandas as pd\n",
    "import numpy as np\n",
    "from tensorflow import keras\n",
    "import matplotlib.pyplot as plt\n",
    "from sklearn.preprocessing import MinMaxScaler, StandardScaler\n",
    "from pandas.plotting import register_matplotlib_converters\n",
    "register_matplotlib_converters()\n",
    "import seaborn as sns\n",
    "\n",
    "from tensorflow.keras.preprocessing.sequence import TimeseriesGenerator\n",
    "from keras.models import Sequential\n",
    "\n",
    "from keras.layers import Dense, Activation, Dropout, Input, Conv1D, LSTM, MaxPooling1D, Flatten, TimeDistributed, Bidirectional\n",
    "from tensorflow.keras.callbacks import ModelCheckpoint, EarlyStopping\n",
    "from keras.models import Model\n",
    "\n",
    "\n",
    "from scipy.special import expit, logit\n",
    "\n",
    "from sklearn.metrics import confusion_matrix, classification_report, matthews_corrcoef\n",
    "import tensorflow as tf\n",
    "from tensorflow.keras.layers import Layer, MultiHeadAttention, Dropout, LayerNormalization, Dense\n",
    "from tensorflow.keras.layers import MultiHeadAttention, Dense, Input, LayerNormalization, Dropout\n",
    "from tensorflow.keras.models import Model"
   ]
  },
  {
   "cell_type": "markdown",
   "id": "1dafac35-24c9-4b73-b337-b2282a772603",
   "metadata": {},
   "source": [
    "### Načítanie dát, odstránenie na hodnôt, určenie predikovaného atribútu"
   ]
  },
  {
   "cell_type": "code",
   "execution_count": 2,
   "id": "5eb39fad-4954-4c25-80cb-fb881404a5e1",
   "metadata": {},
   "outputs": [],
   "source": [
    "train = pd.read_csv('train_omni.csv')\n",
    "test = pd.read_csv('test_omni.csv')\n",
    "features = ['time1', 'DST', 'DST+4', 'KP']\n",
    "test = test[features]\n",
    "train = train[features]\n",
    "train['time1']=pd.to_datetime(train['time1'])\n",
    "test['time1']=pd.to_datetime(test['time1'])\n",
    "predicators = [\"DST\", \"KP\"]\n",
    "y_col='DST+4'\n",
    "valid_size = int(len(train) * 0.2)\n",
    "valid = train.iloc[-valid_size:,:].copy()\n",
    "train = train.iloc[:-valid_size,:].copy()\n",
    "\n",
    "\n",
    "y_train = train[y_col].values.copy()\n",
    "X_train = train[predicators].values.copy()\n",
    "y_val = valid[y_col].values.copy()\n",
    "X_val = valid[predicators].values.copy()\n",
    "y_test = test[y_col].values.copy()\n",
    "X_test = test[predicators].values.copy()"
   ]
  },
  {
   "cell_type": "markdown",
   "id": "f20f9372-7cbd-4a9b-90fd-c27a8f1e0675",
   "metadata": {},
   "source": [
    "### Definícia premenných a vytvorenie dátových generátorov"
   ]
  },
  {
   "cell_type": "code",
   "execution_count": 3,
   "id": "7f3bf570-efc0-4586-91f6-aa364f46de81",
   "metadata": {},
   "outputs": [],
   "source": [
    "n_input = 6  \n",
    "n_features= len(X_train)  \n",
    "b_size = 256\n",
    "\n",
    "train_generator = TimeseriesGenerator(X_train, y_train, length=n_input, batch_size=b_size)\n",
    "val_generator = TimeseriesGenerator(X_val, y_val, length=n_input, batch_size=b_size)\n",
    "test_generator = TimeseriesGenerator(X_test, y_test, length=n_input, batch_size=256)"
   ]
  },
  {
   "cell_type": "markdown",
   "id": "abaa4358-e620-4ef6-ad09-350175ebf572",
   "metadata": {},
   "source": [
    "### Vytvorenie modelu"
   ]
  },
  {
   "cell_type": "code",
   "execution_count": 4,
   "id": "7fa2a1a7-f757-4326-8502-ee9d8e84296a",
   "metadata": {},
   "outputs": [
    {
     "name": "stderr",
     "output_type": "stream",
     "text": [
      "2024-05-20 16:46:16.269888: I tensorflow/core/platform/cpu_feature_guard.cc:193] This TensorFlow binary is optimized with oneAPI Deep Neural Network Library (oneDNN) to use the following CPU instructions in performance-critical operations:  SSE4.1 SSE4.2 AVX AVX2 FMA\n",
      "To enable them in other operations, rebuild TensorFlow with the appropriate compiler flags.\n"
     ]
    },
    {
     "name": "stdout",
     "output_type": "stream",
     "text": [
      "Model: \"model\"\n",
      "_________________________________________________________________\n",
      " Layer (type)                Output Shape              Param #   \n",
      "=================================================================\n",
      " input_1 (InputLayer)        [(None, 6, 2)]            0         \n",
      "                                                                 \n",
      " transformer_encoder_layer (  (None, 6, 64)            66752     \n",
      " TransformerEncoderLayer)                                        \n",
      "                                                                 \n",
      " flatten (Flatten)           (None, 384)               0         \n",
      "                                                                 \n",
      " dense_3 (Dense)             (None, 1)                 385       \n",
      "                                                                 \n",
      "=================================================================\n",
      "Total params: 67,137\n",
      "Trainable params: 67,137\n",
      "Non-trainable params: 0\n",
      "_________________________________________________________________\n"
     ]
    }
   ],
   "source": [
    "class TransformerEncoderLayer(Layer):\n",
    "    def __init__(self, embed_dim, num_heads, ff_dim, input_dim, rate=0.1, **kwargs):\n",
    "        super(TransformerEncoderLayer, self).__init__(**kwargs)\n",
    "        self.embed_dim = embed_dim\n",
    "        self.num_heads = num_heads\n",
    "        self.ff_dim = ff_dim\n",
    "        self.input_dim = input_dim\n",
    "        self.rate = rate\n",
    "        self.input_proj = Dense(embed_dim)\n",
    "        self.att = MultiHeadAttention(num_heads=num_heads, key_dim=embed_dim)\n",
    "        self.ffn = tf.keras.Sequential([\n",
    "            Dense(ff_dim, activation=\"relu\"),\n",
    "            Dense(embed_dim)\n",
    "        ])\n",
    "        self.layernorm1 = LayerNormalization(epsilon=1e-6)\n",
    "        self.layernorm2 = LayerNormalization(epsilon=1e-6)\n",
    "        self.dropout1 = Dropout(rate)\n",
    "        self.dropout2 = Dropout(rate)\n",
    "\n",
    "    def call(self, inputs, training=False):\n",
    "        inputs_proj = self.input_proj(inputs)\n",
    "        attn_output = self.att(inputs_proj, inputs_proj)\n",
    "        attn_output = self.dropout1(attn_output, training=training)\n",
    "        out1 = self.layernorm1(inputs_proj + attn_output)\n",
    "        ffn_output = self.ffn(out1)\n",
    "        ffn_output = self.dropout2(ffn_output, training=training)\n",
    "        return self.layernorm2(out1 + ffn_output)\n",
    "\n",
    "    def get_config(self):\n",
    "        config = super().get_config()\n",
    "        config.update({\n",
    "            'embed_dim': self.embed_dim,\n",
    "            'num_heads': self.num_heads,\n",
    "            'ff_dim': self.ff_dim,\n",
    "            'input_dim': self.input_dim,\n",
    "            'rate': self.rate\n",
    "        })\n",
    "        return config\n",
    "\n",
    "def build_model(input_shape, embed_dim, num_heads, ff_dim, rate=0.1):\n",
    "    inputs = tf.keras.Input(shape=input_shape)\n",
    "    x = TransformerEncoderLayer(embed_dim, num_heads, ff_dim, input_shape[-1], rate)(inputs)\n",
    "    x = Flatten()(x)\n",
    "    x = Dense(1, activation='linear')(x)\n",
    "    return tf.keras.Model(inputs=inputs, outputs=x)\n",
    "\n",
    "model = build_model((6, 2), embed_dim=64, num_heads=2, ff_dim=256)\n",
    "model.compile(loss='mse', optimizer='adam', metrics=['mae'])\n",
    "model.summary()"
   ]
  },
  {
   "cell_type": "code",
   "execution_count": 5,
   "id": "4bb01967-ae38-4bde-831b-80f3b80abf19",
   "metadata": {},
   "outputs": [],
   "source": [
    "saved_model = \"4h_KP_transform.keras\"\n",
    "checkpoint = ModelCheckpoint(saved_model, monitor='val_mae', verbose=1, save_best_only=True, mode='min')\n",
    "early = EarlyStopping(monitor=\"val_mae\", mode=\"min\", patience=25)\n",
    "callbacks_list = [checkpoint, early]"
   ]
  },
  {
   "cell_type": "markdown",
   "id": "b2aa775e-f34b-4ac6-a2fe-57fb92ab07ad",
   "metadata": {},
   "source": [
    "### Trénovanie"
   ]
  },
  {
   "cell_type": "code",
   "execution_count": 6,
   "id": "4d8e4b9a-a0d5-47f1-9689-9ccd2d1d2d8c",
   "metadata": {
    "collapsed": true,
    "jupyter": {
     "outputs_hidden": true
    },
    "tags": []
   },
   "outputs": [
    {
     "name": "stdout",
     "output_type": "stream",
     "text": [
      "Epoch 1/200\n",
      "894/896 [============================>.] - ETA: 0s - loss: 232.8951 - mae: 9.2007\n",
      "Epoch 1: val_mae improved from inf to 10.93366, saving model to 4h_KP_transform.keras\n",
      "896/896 [==============================] - 29s 29ms/step - loss: 232.7357 - mae: 9.2018 - val_loss: 326.2926 - val_mae: 10.9337\n",
      "Epoch 2/200\n",
      "895/896 [============================>.] - ETA: 0s - loss: 144.8082 - mae: 7.5624\n",
      "Epoch 2: val_mae improved from 10.93366 to 8.43888, saving model to 4h_KP_transform.keras\n",
      "896/896 [==============================] - 24s 27ms/step - loss: 144.7350 - mae: 7.5613 - val_loss: 229.3652 - val_mae: 8.4389\n",
      "Epoch 3/200\n",
      "895/896 [============================>.] - ETA: 0s - loss: 127.5376 - mae: 7.2763\n",
      "Epoch 3: val_mae improved from 8.43888 to 7.73399, saving model to 4h_KP_transform.keras\n",
      "896/896 [==============================] - 25s 28ms/step - loss: 127.4372 - mae: 7.2736 - val_loss: 181.8975 - val_mae: 7.7340\n",
      "Epoch 4/200\n",
      "895/896 [============================>.] - ETA: 0s - loss: 117.2363 - mae: 7.1204\n",
      "Epoch 4: val_mae did not improve from 7.73399\n",
      "896/896 [==============================] - 23s 26ms/step - loss: 120.6333 - mae: 7.1460 - val_loss: 273.1390 - val_mae: 10.3116\n",
      "Epoch 5/200\n",
      "895/896 [============================>.] - ETA: 0s - loss: 119.1485 - mae: 7.1388\n",
      "Epoch 5: val_mae did not improve from 7.73399\n",
      "896/896 [==============================] - 22s 25ms/step - loss: 119.0516 - mae: 7.1357 - val_loss: 173.3116 - val_mae: 7.7928\n",
      "Epoch 6/200\n",
      "896/896 [==============================] - ETA: 0s - loss: 118.7598 - mae: 7.0708\n",
      "Epoch 6: val_mae did not improve from 7.73399\n",
      "896/896 [==============================] - 22s 24ms/step - loss: 118.7598 - mae: 7.0708 - val_loss: 179.5898 - val_mae: 7.9863\n",
      "Epoch 7/200\n",
      "896/896 [==============================] - ETA: 0s - loss: 111.4604 - mae: 6.9349\n",
      "Epoch 7: val_mae improved from 7.73399 to 7.60940, saving model to 4h_KP_transform.keras\n",
      "896/896 [==============================] - 22s 24ms/step - loss: 111.4604 - mae: 6.9349 - val_loss: 170.0026 - val_mae: 7.6094\n",
      "Epoch 8/200\n",
      "896/896 [==============================] - ETA: 0s - loss: 115.4316 - mae: 7.0644\n",
      "Epoch 8: val_mae did not improve from 7.60940\n",
      "896/896 [==============================] - 26s 29ms/step - loss: 115.4316 - mae: 7.0644 - val_loss: 187.3685 - val_mae: 8.0692\n",
      "Epoch 9/200\n",
      "896/896 [==============================] - ETA: 0s - loss: 107.3679 - mae: 6.8498\n",
      "Epoch 9: val_mae did not improve from 7.60940\n",
      "896/896 [==============================] - 22s 25ms/step - loss: 107.3679 - mae: 6.8498 - val_loss: 159.1286 - val_mae: 7.6789\n",
      "Epoch 10/200\n",
      "896/896 [==============================] - ETA: 0s - loss: 111.5010 - mae: 6.9530\n",
      "Epoch 10: val_mae did not improve from 7.60940\n",
      "896/896 [==============================] - 22s 24ms/step - loss: 111.5010 - mae: 6.9530 - val_loss: 189.3189 - val_mae: 8.0519\n",
      "Epoch 11/200\n",
      "895/896 [============================>.] - ETA: 0s - loss: 105.5015 - mae: 6.7764\n",
      "Epoch 11: val_mae did not improve from 7.60940\n",
      "896/896 [==============================] - 22s 24ms/step - loss: 105.4922 - mae: 6.7770 - val_loss: 153.2607 - val_mae: 7.6264\n",
      "Epoch 12/200\n",
      "896/896 [==============================] - ETA: 0s - loss: 108.1719 - mae: 6.8563\n",
      "Epoch 12: val_mae did not improve from 7.60940\n",
      "896/896 [==============================] - 22s 25ms/step - loss: 108.1719 - mae: 6.8563 - val_loss: 365.3191 - val_mae: 11.5753\n",
      "Epoch 13/200\n",
      "896/896 [==============================] - ETA: 0s - loss: 111.5859 - mae: 6.9367\n",
      "Epoch 13: val_mae improved from 7.60940 to 7.49738, saving model to 4h_KP_transform.keras\n",
      "896/896 [==============================] - 22s 25ms/step - loss: 111.5859 - mae: 6.9367 - val_loss: 147.0889 - val_mae: 7.4974\n",
      "Epoch 14/200\n",
      "896/896 [==============================] - ETA: 0s - loss: 104.4333 - mae: 6.7921\n",
      "Epoch 14: val_mae did not improve from 7.49738\n",
      "896/896 [==============================] - 22s 25ms/step - loss: 104.4333 - mae: 6.7921 - val_loss: 147.3768 - val_mae: 7.5627\n",
      "Epoch 15/200\n",
      "894/896 [============================>.] - ETA: 0s - loss: 107.4987 - mae: 6.8397\n",
      "Epoch 15: val_mae did not improve from 7.49738\n",
      "896/896 [==============================] - 23s 25ms/step - loss: 107.4734 - mae: 6.8398 - val_loss: 158.6300 - val_mae: 7.9850\n",
      "Epoch 16/200\n",
      "896/896 [==============================] - ETA: 0s - loss: 104.3808 - mae: 6.7125\n",
      "Epoch 16: val_mae did not improve from 7.49738\n",
      "896/896 [==============================] - 23s 26ms/step - loss: 104.3808 - mae: 6.7125 - val_loss: 154.5016 - val_mae: 7.5584\n",
      "Epoch 17/200\n",
      "895/896 [============================>.] - ETA: 0s - loss: 103.9078 - mae: 6.7508\n",
      "Epoch 17: val_mae did not improve from 7.49738\n",
      "896/896 [==============================] - 24s 26ms/step - loss: 103.8485 - mae: 6.7493 - val_loss: 171.3200 - val_mae: 7.9656\n",
      "Epoch 18/200\n",
      "895/896 [============================>.] - ETA: 0s - loss: 103.2381 - mae: 6.6946\n",
      "Epoch 18: val_mae did not improve from 7.49738\n",
      "896/896 [==============================] - 22s 24ms/step - loss: 103.2369 - mae: 6.6947 - val_loss: 157.8128 - val_mae: 7.8859\n",
      "Epoch 19/200\n",
      "895/896 [============================>.] - ETA: 0s - loss: 104.2166 - mae: 6.7288\n",
      "Epoch 19: val_mae did not improve from 7.49738\n",
      "896/896 [==============================] - 23s 25ms/step - loss: 104.1545 - mae: 6.7266 - val_loss: 172.2639 - val_mae: 8.2235\n",
      "Epoch 20/200\n",
      "895/896 [============================>.] - ETA: 0s - loss: 110.5939 - mae: 6.9212\n",
      "Epoch 20: val_mae did not improve from 7.49738\n",
      "896/896 [==============================] - 22s 25ms/step - loss: 110.5632 - mae: 6.9208 - val_loss: 153.4878 - val_mae: 7.5162\n",
      "Epoch 21/200\n",
      "893/896 [============================>.] - ETA: 0s - loss: 102.9903 - mae: 6.6882\n",
      "Epoch 21: val_mae did not improve from 7.49738\n",
      "896/896 [==============================] - 23s 25ms/step - loss: 102.8249 - mae: 6.6843 - val_loss: 171.5364 - val_mae: 8.4460\n",
      "Epoch 22/200\n",
      "895/896 [============================>.] - ETA: 0s - loss: 100.6214 - mae: 6.6464\n",
      "Epoch 22: val_mae improved from 7.49738 to 7.44295, saving model to 4h_KP_transform.keras\n",
      "896/896 [==============================] - 23s 26ms/step - loss: 100.6288 - mae: 6.6468 - val_loss: 146.0905 - val_mae: 7.4429\n",
      "Epoch 23/200\n",
      "896/896 [==============================] - ETA: 0s - loss: 102.5210 - mae: 6.6769\n",
      "Epoch 23: val_mae did not improve from 7.44295\n",
      "896/896 [==============================] - 23s 26ms/step - loss: 102.5210 - mae: 6.6769 - val_loss: 146.3329 - val_mae: 7.5418\n",
      "Epoch 24/200\n",
      "896/896 [==============================] - ETA: 0s - loss: 101.8852 - mae: 6.6823\n",
      "Epoch 24: val_mae did not improve from 7.44295\n",
      "896/896 [==============================] - 23s 26ms/step - loss: 101.8852 - mae: 6.6823 - val_loss: 146.7724 - val_mae: 7.6512\n",
      "Epoch 25/200\n",
      "896/896 [==============================] - ETA: 0s - loss: 107.4076 - mae: 6.7904\n",
      "Epoch 25: val_mae did not improve from 7.44295\n",
      "896/896 [==============================] - 22s 25ms/step - loss: 107.4076 - mae: 6.7904 - val_loss: 153.3988 - val_mae: 7.5377\n",
      "Epoch 26/200\n",
      "895/896 [============================>.] - ETA: 0s - loss: 100.8075 - mae: 6.6087\n",
      "Epoch 26: val_mae did not improve from 7.44295\n",
      "896/896 [==============================] - 23s 25ms/step - loss: 100.7332 - mae: 6.6060 - val_loss: 163.3911 - val_mae: 7.8831\n",
      "Epoch 27/200\n",
      "896/896 [==============================] - ETA: 0s - loss: 99.3716 - mae: 6.6005\n",
      "Epoch 27: val_mae did not improve from 7.44295\n",
      "896/896 [==============================] - 23s 26ms/step - loss: 99.3716 - mae: 6.6005 - val_loss: 150.0693 - val_mae: 7.6698\n",
      "Epoch 28/200\n",
      "894/896 [============================>.] - ETA: 0s - loss: 97.6480 - mae: 6.5632\n",
      "Epoch 28: val_mae improved from 7.44295 to 7.39959, saving model to 4h_KP_transform.keras\n",
      "896/896 [==============================] - 23s 26ms/step - loss: 98.1452 - mae: 6.5688 - val_loss: 147.0667 - val_mae: 7.3996\n",
      "Epoch 29/200\n",
      "896/896 [==============================] - ETA: 0s - loss: 100.2904 - mae: 6.6171\n",
      "Epoch 29: val_mae did not improve from 7.39959\n",
      "896/896 [==============================] - 22s 25ms/step - loss: 100.2904 - mae: 6.6171 - val_loss: 159.9173 - val_mae: 7.7577\n",
      "Epoch 30/200\n",
      "895/896 [============================>.] - ETA: 0s - loss: 100.3087 - mae: 6.6190\n",
      "Epoch 30: val_mae did not improve from 7.39959\n",
      "896/896 [==============================] - 22s 25ms/step - loss: 100.2400 - mae: 6.6172 - val_loss: 156.4006 - val_mae: 7.5445\n",
      "Epoch 31/200\n",
      "894/896 [============================>.] - ETA: 0s - loss: 100.6140 - mae: 6.5981\n",
      "Epoch 31: val_mae did not improve from 7.39959\n",
      "896/896 [==============================] - 23s 26ms/step - loss: 100.7034 - mae: 6.5999 - val_loss: 145.9388 - val_mae: 7.5942\n",
      "Epoch 32/200\n",
      "895/896 [============================>.] - ETA: 0s - loss: 99.7056 - mae: 6.6198\n",
      "Epoch 32: val_mae did not improve from 7.39959\n",
      "896/896 [==============================] - 22s 24ms/step - loss: 99.6740 - mae: 6.6193 - val_loss: 150.6259 - val_mae: 7.8524\n",
      "Epoch 33/200\n",
      "896/896 [==============================] - ETA: 0s - loss: 98.1968 - mae: 6.5526\n",
      "Epoch 33: val_mae did not improve from 7.39959\n",
      "896/896 [==============================] - 23s 25ms/step - loss: 98.1968 - mae: 6.5526 - val_loss: 162.2847 - val_mae: 7.6380\n",
      "Epoch 34/200\n",
      "894/896 [============================>.] - ETA: 0s - loss: 96.8917 - mae: 6.5158\n",
      "Epoch 34: val_mae did not improve from 7.39959\n",
      "896/896 [==============================] - 22s 25ms/step - loss: 96.8517 - mae: 6.5157 - val_loss: 145.2006 - val_mae: 7.4932\n",
      "Epoch 35/200\n",
      "895/896 [============================>.] - ETA: 0s - loss: 97.4119 - mae: 6.5435\n",
      "Epoch 35: val_mae did not improve from 7.39959\n",
      "896/896 [==============================] - 23s 25ms/step - loss: 97.4328 - mae: 6.5445 - val_loss: 160.4215 - val_mae: 7.8945\n",
      "Epoch 36/200\n",
      "895/896 [============================>.] - ETA: 0s - loss: 98.8784 - mae: 6.5719\n",
      "Epoch 36: val_mae did not improve from 7.39959\n",
      "896/896 [==============================] - 23s 25ms/step - loss: 98.9260 - mae: 6.5745 - val_loss: 152.1504 - val_mae: 7.6165\n",
      "Epoch 37/200\n",
      "896/896 [==============================] - ETA: 0s - loss: 98.6712 - mae: 6.5633\n",
      "Epoch 37: val_mae improved from 7.39959 to 7.37453, saving model to 4h_KP_transform.keras\n",
      "896/896 [==============================] - 23s 26ms/step - loss: 98.6712 - mae: 6.5633 - val_loss: 144.4374 - val_mae: 7.3745\n",
      "Epoch 38/200\n",
      "895/896 [============================>.] - ETA: 0s - loss: 98.4028 - mae: 6.5658\n",
      "Epoch 38: val_mae did not improve from 7.37453\n",
      "896/896 [==============================] - 22s 25ms/step - loss: 98.3661 - mae: 6.5656 - val_loss: 145.6135 - val_mae: 7.6416\n",
      "Epoch 39/200\n",
      "895/896 [============================>.] - ETA: 0s - loss: 100.3229 - mae: 6.6117\n",
      "Epoch 39: val_mae did not improve from 7.37453\n",
      "896/896 [==============================] - 23s 25ms/step - loss: 100.2554 - mae: 6.6097 - val_loss: 143.1185 - val_mae: 7.4300\n",
      "Epoch 40/200\n",
      "896/896 [==============================] - ETA: 0s - loss: 97.4778 - mae: 6.5348\n",
      "Epoch 40: val_mae did not improve from 7.37453\n",
      "896/896 [==============================] - 22s 24ms/step - loss: 97.4778 - mae: 6.5348 - val_loss: 149.5669 - val_mae: 7.5940\n",
      "Epoch 41/200\n",
      "896/896 [==============================] - ETA: 0s - loss: 97.2750 - mae: 6.5159\n",
      "Epoch 41: val_mae did not improve from 7.37453\n",
      "896/896 [==============================] - 23s 26ms/step - loss: 97.2750 - mae: 6.5159 - val_loss: 164.7757 - val_mae: 7.9600\n",
      "Epoch 42/200\n",
      "896/896 [==============================] - ETA: 0s - loss: 98.7715 - mae: 6.5679\n",
      "Epoch 42: val_mae did not improve from 7.37453\n",
      "896/896 [==============================] - 23s 26ms/step - loss: 98.7715 - mae: 6.5679 - val_loss: 156.7043 - val_mae: 7.5491\n",
      "Epoch 43/200\n",
      "894/896 [============================>.] - ETA: 0s - loss: 96.1903 - mae: 6.5120\n",
      "Epoch 43: val_mae did not improve from 7.37453\n",
      "896/896 [==============================] - 23s 26ms/step - loss: 96.1443 - mae: 6.5118 - val_loss: 149.5048 - val_mae: 7.5172\n",
      "Epoch 44/200\n",
      "895/896 [============================>.] - ETA: 0s - loss: 95.9596 - mae: 6.5157\n",
      "Epoch 44: val_mae did not improve from 7.37453\n",
      "896/896 [==============================] - 23s 25ms/step - loss: 95.9612 - mae: 6.5153 - val_loss: 148.1192 - val_mae: 7.5676\n",
      "Epoch 45/200\n",
      "895/896 [============================>.] - ETA: 0s - loss: 99.1729 - mae: 6.6288\n",
      "Epoch 45: val_mae did not improve from 7.37453\n",
      "896/896 [==============================] - 22s 25ms/step - loss: 101.0138 - mae: 6.6419 - val_loss: 145.8767 - val_mae: 7.4977\n",
      "Epoch 46/200\n",
      "894/896 [============================>.] - ETA: 0s - loss: 102.1096 - mae: 6.6420\n",
      "Epoch 46: val_mae did not improve from 7.37453\n",
      "896/896 [==============================] - 21s 24ms/step - loss: 102.0887 - mae: 6.6420 - val_loss: 143.3807 - val_mae: 7.5021\n",
      "Epoch 47/200\n",
      "895/896 [============================>.] - ETA: 0s - loss: 94.9189 - mae: 6.4728\n",
      "Epoch 47: val_mae improved from 7.37453 to 7.37247, saving model to 4h_KP_transform.keras\n",
      "896/896 [==============================] - 23s 25ms/step - loss: 94.8686 - mae: 6.4717 - val_loss: 139.3663 - val_mae: 7.3725\n",
      "Epoch 48/200\n",
      "895/896 [============================>.] - ETA: 0s - loss: 95.6335 - mae: 6.4863\n",
      "Epoch 48: val_mae improved from 7.37247 to 7.35698, saving model to 4h_KP_transform.keras\n",
      "896/896 [==============================] - 22s 25ms/step - loss: 95.5832 - mae: 6.4847 - val_loss: 137.3996 - val_mae: 7.3570\n",
      "Epoch 49/200\n",
      "896/896 [==============================] - ETA: 0s - loss: 97.6633 - mae: 6.5495\n",
      "Epoch 49: val_mae did not improve from 7.35698\n",
      "896/896 [==============================] - 23s 26ms/step - loss: 97.6633 - mae: 6.5495 - val_loss: 152.3817 - val_mae: 7.9929\n",
      "Epoch 50/200\n",
      "896/896 [==============================] - ETA: 0s - loss: 97.2001 - mae: 6.5402\n",
      "Epoch 50: val_mae did not improve from 7.35698\n",
      "896/896 [==============================] - 23s 26ms/step - loss: 97.2001 - mae: 6.5402 - val_loss: 135.4367 - val_mae: 7.3920\n",
      "Epoch 51/200\n",
      "895/896 [============================>.] - ETA: 0s - loss: 94.9119 - mae: 6.4666\n",
      "Epoch 51: val_mae did not improve from 7.35698\n",
      "896/896 [==============================] - 23s 25ms/step - loss: 94.9521 - mae: 6.4693 - val_loss: 149.7925 - val_mae: 7.6183\n",
      "Epoch 52/200\n",
      "894/896 [============================>.] - ETA: 0s - loss: 96.1047 - mae: 6.5071\n",
      "Epoch 52: val_mae did not improve from 7.35698\n",
      "896/896 [==============================] - 23s 26ms/step - loss: 96.0426 - mae: 6.5065 - val_loss: 150.5391 - val_mae: 7.4902\n",
      "Epoch 53/200\n",
      "894/896 [============================>.] - ETA: 0s - loss: 95.8668 - mae: 6.5005\n",
      "Epoch 53: val_mae did not improve from 7.35698\n",
      "896/896 [==============================] - 23s 25ms/step - loss: 95.7880 - mae: 6.4989 - val_loss: 143.7421 - val_mae: 7.5315\n",
      "Epoch 54/200\n",
      "896/896 [==============================] - ETA: 0s - loss: 95.4977 - mae: 6.4909\n",
      "Epoch 54: val_mae did not improve from 7.35698\n",
      "896/896 [==============================] - 23s 25ms/step - loss: 95.4977 - mae: 6.4909 - val_loss: 194.3854 - val_mae: 9.2744\n",
      "Epoch 55/200\n",
      "895/896 [============================>.] - ETA: 0s - loss: 97.2789 - mae: 6.5329\n",
      "Epoch 55: val_mae did not improve from 7.35698\n",
      "896/896 [==============================] - 23s 25ms/step - loss: 97.2259 - mae: 6.5316 - val_loss: 150.2745 - val_mae: 7.8366\n",
      "Epoch 56/200\n",
      "895/896 [============================>.] - ETA: 0s - loss: 95.6308 - mae: 6.4892\n",
      "Epoch 56: val_mae did not improve from 7.35698\n",
      "896/896 [==============================] - 23s 25ms/step - loss: 95.5956 - mae: 6.4890 - val_loss: 146.7533 - val_mae: 7.5355\n",
      "Epoch 57/200\n",
      "894/896 [============================>.] - ETA: 0s - loss: 95.0340 - mae: 6.4740\n",
      "Epoch 57: val_mae did not improve from 7.35698\n",
      "896/896 [==============================] - 23s 25ms/step - loss: 95.0071 - mae: 6.4732 - val_loss: 140.7396 - val_mae: 7.3802\n",
      "Epoch 58/200\n",
      "895/896 [============================>.] - ETA: 0s - loss: 95.9186 - mae: 6.4911\n",
      "Epoch 58: val_mae did not improve from 7.35698\n",
      "896/896 [==============================] - 22s 25ms/step - loss: 95.8815 - mae: 6.4902 - val_loss: 148.1938 - val_mae: 7.5824\n",
      "Epoch 59/200\n",
      "896/896 [==============================] - ETA: 0s - loss: 94.7766 - mae: 6.4780\n",
      "Epoch 59: val_mae did not improve from 7.35698\n",
      "896/896 [==============================] - 22s 24ms/step - loss: 94.7766 - mae: 6.4780 - val_loss: 152.5591 - val_mae: 7.4902\n",
      "Epoch 60/200\n",
      "895/896 [============================>.] - ETA: 0s - loss: 96.8134 - mae: 6.5205\n",
      "Epoch 60: val_mae did not improve from 7.35698\n",
      "896/896 [==============================] - 23s 26ms/step - loss: 96.8405 - mae: 6.5213 - val_loss: 155.0220 - val_mae: 8.2214\n",
      "Epoch 61/200\n",
      "896/896 [==============================] - ETA: 0s - loss: 94.5187 - mae: 6.4635\n",
      "Epoch 61: val_mae did not improve from 7.35698\n",
      "896/896 [==============================] - 23s 25ms/step - loss: 94.5187 - mae: 6.4635 - val_loss: 142.7888 - val_mae: 7.6500\n",
      "Epoch 62/200\n",
      "895/896 [============================>.] - ETA: 0s - loss: 94.4459 - mae: 6.4696\n",
      "Epoch 62: val_mae did not improve from 7.35698\n",
      "896/896 [==============================] - 22s 24ms/step - loss: 94.4342 - mae: 6.4697 - val_loss: 139.4883 - val_mae: 7.4169\n",
      "Epoch 63/200\n",
      "895/896 [============================>.] - ETA: 0s - loss: 94.8863 - mae: 6.4765\n",
      "Epoch 63: val_mae did not improve from 7.35698\n",
      "896/896 [==============================] - 22s 25ms/step - loss: 94.8709 - mae: 6.4769 - val_loss: 145.7000 - val_mae: 7.6170\n",
      "Epoch 64/200\n",
      "895/896 [============================>.] - ETA: 0s - loss: 95.4740 - mae: 6.5001\n",
      "Epoch 64: val_mae did not improve from 7.35698\n",
      "896/896 [==============================] - 22s 25ms/step - loss: 95.4681 - mae: 6.5011 - val_loss: 146.9737 - val_mae: 7.4293\n",
      "Epoch 65/200\n",
      "894/896 [============================>.] - ETA: 0s - loss: 94.4717 - mae: 6.4606\n",
      "Epoch 65: val_mae improved from 7.35698 to 7.34941, saving model to 4h_KP_transform.keras\n",
      "896/896 [==============================] - 23s 26ms/step - loss: 94.5253 - mae: 6.4636 - val_loss: 135.2066 - val_mae: 7.3494\n",
      "Epoch 66/200\n",
      "896/896 [==============================] - ETA: 0s - loss: 94.6393 - mae: 6.4808\n",
      "Epoch 66: val_mae did not improve from 7.34941\n",
      "896/896 [==============================] - 23s 25ms/step - loss: 94.6393 - mae: 6.4808 - val_loss: 140.5096 - val_mae: 7.5672\n",
      "Epoch 67/200\n",
      "895/896 [============================>.] - ETA: 0s - loss: 96.1193 - mae: 6.5060\n",
      "Epoch 67: val_mae did not improve from 7.34941\n",
      "896/896 [==============================] - 22s 25ms/step - loss: 96.1143 - mae: 6.5063 - val_loss: 152.1767 - val_mae: 7.6604\n",
      "Epoch 68/200\n",
      "895/896 [============================>.] - ETA: 0s - loss: 93.7952 - mae: 6.4472\n",
      "Epoch 68: val_mae improved from 7.34941 to 7.31305, saving model to 4h_KP_transform.keras\n",
      "896/896 [==============================] - 23s 26ms/step - loss: 93.9829 - mae: 6.4493 - val_loss: 135.9734 - val_mae: 7.3130\n",
      "Epoch 69/200\n",
      "895/896 [============================>.] - ETA: 0s - loss: 95.1203 - mae: 6.4645\n",
      "Epoch 69: val_mae did not improve from 7.31305\n",
      "896/896 [==============================] - 23s 25ms/step - loss: 95.0465 - mae: 6.4619 - val_loss: 141.2749 - val_mae: 7.4331\n",
      "Epoch 70/200\n",
      "896/896 [==============================] - ETA: 0s - loss: 93.9490 - mae: 6.4493\n",
      "Epoch 70: val_mae did not improve from 7.31305\n",
      "896/896 [==============================] - 22s 24ms/step - loss: 93.9490 - mae: 6.4493 - val_loss: 143.1703 - val_mae: 7.7272\n",
      "Epoch 71/200\n",
      "896/896 [==============================] - ETA: 0s - loss: 93.4788 - mae: 6.4519\n",
      "Epoch 71: val_mae did not improve from 7.31305\n",
      "896/896 [==============================] - 23s 25ms/step - loss: 93.4788 - mae: 6.4519 - val_loss: 138.4627 - val_mae: 7.4765\n",
      "Epoch 72/200\n",
      "894/896 [============================>.] - ETA: 0s - loss: 96.9785 - mae: 6.5272\n",
      "Epoch 72: val_mae did not improve from 7.31305\n",
      "896/896 [==============================] - 23s 25ms/step - loss: 96.8674 - mae: 6.5241 - val_loss: 149.3286 - val_mae: 7.4534\n",
      "Epoch 73/200\n",
      "896/896 [==============================] - ETA: 0s - loss: 95.9883 - mae: 6.5025\n",
      "Epoch 73: val_mae did not improve from 7.31305\n",
      "896/896 [==============================] - 22s 25ms/step - loss: 95.9883 - mae: 6.5025 - val_loss: 196.0014 - val_mae: 8.5728\n",
      "Epoch 74/200\n",
      "895/896 [============================>.] - ETA: 0s - loss: 97.0569 - mae: 6.5204\n",
      "Epoch 74: val_mae did not improve from 7.31305\n",
      "896/896 [==============================] - 22s 25ms/step - loss: 97.0136 - mae: 6.5197 - val_loss: 141.1598 - val_mae: 7.4461\n",
      "Epoch 75/200\n",
      "896/896 [==============================] - ETA: 0s - loss: 93.4151 - mae: 6.4376\n",
      "Epoch 75: val_mae did not improve from 7.31305\n",
      "896/896 [==============================] - 22s 25ms/step - loss: 93.4151 - mae: 6.4376 - val_loss: 148.9984 - val_mae: 7.6845\n",
      "Epoch 76/200\n",
      "896/896 [==============================] - ETA: 0s - loss: 92.5407 - mae: 6.4219\n",
      "Epoch 76: val_mae did not improve from 7.31305\n",
      "896/896 [==============================] - 23s 25ms/step - loss: 92.5407 - mae: 6.4219 - val_loss: 139.8106 - val_mae: 7.4142\n",
      "Epoch 77/200\n",
      "896/896 [==============================] - ETA: 0s - loss: 94.8406 - mae: 6.4802\n",
      "Epoch 77: val_mae did not improve from 7.31305\n",
      "896/896 [==============================] - 22s 24ms/step - loss: 94.8406 - mae: 6.4802 - val_loss: 138.8080 - val_mae: 7.4904\n",
      "Epoch 78/200\n",
      "895/896 [============================>.] - ETA: 0s - loss: 93.2379 - mae: 6.4547\n",
      "Epoch 78: val_mae did not improve from 7.31305\n",
      "896/896 [==============================] - 22s 25ms/step - loss: 93.1880 - mae: 6.4532 - val_loss: 140.6721 - val_mae: 7.4219\n",
      "Epoch 79/200\n",
      "894/896 [============================>.] - ETA: 0s - loss: 93.8622 - mae: 6.4505\n",
      "Epoch 79: val_mae did not improve from 7.31305\n",
      "896/896 [==============================] - 22s 25ms/step - loss: 93.8581 - mae: 6.4503 - val_loss: 141.8259 - val_mae: 7.4890\n",
      "Epoch 80/200\n",
      "894/896 [============================>.] - ETA: 0s - loss: 95.2087 - mae: 6.4890\n",
      "Epoch 80: val_mae did not improve from 7.31305\n",
      "896/896 [==============================] - 22s 24ms/step - loss: 95.1731 - mae: 6.4896 - val_loss: 145.7313 - val_mae: 7.6603\n",
      "Epoch 81/200\n",
      "894/896 [============================>.] - ETA: 0s - loss: 97.9171 - mae: 6.5502\n",
      "Epoch 81: val_mae did not improve from 7.31305\n",
      "896/896 [==============================] - 22s 25ms/step - loss: 97.9191 - mae: 6.5497 - val_loss: 159.2556 - val_mae: 7.5443\n",
      "Epoch 82/200\n",
      "894/896 [============================>.] - ETA: 0s - loss: 99.6282 - mae: 6.5661\n",
      "Epoch 82: val_mae did not improve from 7.31305\n",
      "896/896 [==============================] - 23s 26ms/step - loss: 99.6491 - mae: 6.5675 - val_loss: 148.1999 - val_mae: 7.4743\n",
      "Epoch 83/200\n",
      "895/896 [============================>.] - ETA: 0s - loss: 94.2593 - mae: 6.4533\n",
      "Epoch 83: val_mae did not improve from 7.31305\n",
      "896/896 [==============================] - 22s 25ms/step - loss: 94.2273 - mae: 6.4527 - val_loss: 138.2567 - val_mae: 7.4315\n",
      "Epoch 84/200\n",
      "895/896 [============================>.] - ETA: 0s - loss: 93.8524 - mae: 6.4472\n",
      "Epoch 84: val_mae did not improve from 7.31305\n",
      "896/896 [==============================] - 23s 26ms/step - loss: 94.0147 - mae: 6.4524 - val_loss: 138.6464 - val_mae: 7.4511\n",
      "Epoch 85/200\n",
      "896/896 [==============================] - ETA: 0s - loss: 94.1471 - mae: 6.4512\n",
      "Epoch 85: val_mae did not improve from 7.31305\n",
      "896/896 [==============================] - 22s 24ms/step - loss: 94.1471 - mae: 6.4512 - val_loss: 144.2386 - val_mae: 7.5626\n",
      "Epoch 86/200\n",
      "896/896 [==============================] - ETA: 0s - loss: 94.3542 - mae: 6.4662\n",
      "Epoch 86: val_mae did not improve from 7.31305\n",
      "896/896 [==============================] - 22s 24ms/step - loss: 94.3542 - mae: 6.4662 - val_loss: 148.6826 - val_mae: 7.6126\n",
      "Epoch 87/200\n",
      "895/896 [============================>.] - ETA: 0s - loss: 94.3275 - mae: 6.4616\n",
      "Epoch 87: val_mae did not improve from 7.31305\n",
      "896/896 [==============================] - 22s 25ms/step - loss: 94.2975 - mae: 6.4611 - val_loss: 142.3479 - val_mae: 7.4631\n",
      "Epoch 88/200\n",
      "895/896 [============================>.] - ETA: 0s - loss: 93.8450 - mae: 6.4458\n",
      "Epoch 88: val_mae did not improve from 7.31305\n",
      "896/896 [==============================] - 21s 24ms/step - loss: 94.0976 - mae: 6.4516 - val_loss: 136.7570 - val_mae: 7.3702\n",
      "Epoch 89/200\n",
      "895/896 [============================>.] - ETA: 0s - loss: 93.2251 - mae: 6.4312\n",
      "Epoch 89: val_mae did not improve from 7.31305\n",
      "896/896 [==============================] - 22s 24ms/step - loss: 93.2600 - mae: 6.4317 - val_loss: 135.5937 - val_mae: 7.3549\n",
      "Epoch 90/200\n",
      "895/896 [============================>.] - ETA: 0s - loss: 93.6273 - mae: 6.4445\n",
      "Epoch 90: val_mae did not improve from 7.31305\n",
      "896/896 [==============================] - 21s 24ms/step - loss: 93.5936 - mae: 6.4439 - val_loss: 143.8555 - val_mae: 7.6510\n",
      "Epoch 91/200\n",
      "896/896 [==============================] - ETA: 0s - loss: 93.4699 - mae: 6.4347\n",
      "Epoch 91: val_mae did not improve from 7.31305\n",
      "896/896 [==============================] - 22s 24ms/step - loss: 93.4699 - mae: 6.4347 - val_loss: 137.1881 - val_mae: 7.4366\n",
      "Epoch 92/200\n",
      "895/896 [============================>.] - ETA: 0s - loss: 93.2897 - mae: 6.4396\n",
      "Epoch 92: val_mae did not improve from 7.31305\n",
      "896/896 [==============================] - 22s 24ms/step - loss: 93.3665 - mae: 6.4408 - val_loss: 140.5171 - val_mae: 7.3787\n",
      "Epoch 93/200\n",
      "896/896 [==============================] - ETA: 0s - loss: 96.7035 - mae: 6.5206\n",
      "Epoch 93: val_mae did not improve from 7.31305\n",
      "896/896 [==============================] - 22s 24ms/step - loss: 96.7035 - mae: 6.5206 - val_loss: 140.2978 - val_mae: 7.3917\n"
     ]
    }
   ],
   "source": [
    "history = model.fit(train_generator, validation_data=val_generator, epochs=200, verbose=1, callbacks = callbacks_list)"
   ]
  },
  {
   "cell_type": "markdown",
   "id": "4cf2a480-aad5-454a-a0e7-ef47a591b67f",
   "metadata": {},
   "source": [
    "### Načítanie najlepšieho modelu"
   ]
  },
  {
   "cell_type": "code",
   "execution_count": 7,
   "id": "670c22c7-b549-4c4d-a6e2-096f3ef6e89a",
   "metadata": {},
   "outputs": [],
   "source": [
    "model = keras.models.load_model( '4h_KP_transform.keras', custom_objects={'TransformerEncoderLayer': TransformerEncoderLayer})"
   ]
  },
  {
   "cell_type": "markdown",
   "id": "79022cda-7146-4b65-8af6-cbc90b78442e",
   "metadata": {},
   "source": [
    "### Vytvorenie predikcií"
   ]
  },
  {
   "cell_type": "code",
   "execution_count": 8,
   "id": "35e37699-4e39-436f-8b99-971ded3a35f1",
   "metadata": {},
   "outputs": [
    {
     "name": "stdout",
     "output_type": "stream",
     "text": [
      "633/633 [==============================] - 6s 9ms/step\n"
     ]
    }
   ],
   "source": [
    "y_pred = model.predict(test_generator)"
   ]
  },
  {
   "cell_type": "markdown",
   "id": "9eb457fa-b4c1-4a20-a8b0-6b93cdcd7231",
   "metadata": {},
   "source": [
    "### Nájdenie optimálneho thresholdu na validačnej sade"
   ]
  },
  {
   "cell_type": "code",
   "execution_count": 10,
   "id": "6d5fa96f-eb79-4a18-8f5f-ccc92edd5618",
   "metadata": {},
   "outputs": [
    {
     "name": "stdout",
     "output_type": "stream",
     "text": [
      "224/224 [==============================] - 2s 9ms/step\n",
      "Best Threshold for MCC on Validation Set: -19.699999999999967\n",
      "Best MCC on Validation Set: 0.7745757829619935\n"
     ]
    }
   ],
   "source": [
    "y_val_pred = model.predict(val_generator)\n",
    "\n",
    "true_labels_val = np.where(y_val[n_input:] <= -20, 1, 0)  \n",
    "\n",
    "def calculate_mcc(y_true, y_pred):\n",
    "    return matthews_corrcoef(y_true, y_pred)\n",
    "\n",
    "thresholds = np.arange(-10, -40, -0.1)\n",
    "mcc_scores = []\n",
    "\n",
    "for thresh in thresholds:\n",
    "    predictions = np.where(y_val_pred <= thresh, 1, 0)\n",
    "    mcc = calculate_mcc(true_labels_val, predictions)\n",
    "    mcc_scores.append(mcc)\n",
    "\n",
    "best_threshold_mcc = thresholds[np.argmax(mcc_scores)]\n",
    "best_mcc = max(mcc_scores)\n",
    "\n",
    "print(\"Best Threshold for MCC on Validation Set:\", best_threshold_mcc)\n",
    "print(\"Best MCC on Validation Set:\", best_mcc)\n",
    "best_threshold_mcc_rounded = round(best_threshold_mcc, 1)"
   ]
  },
  {
   "cell_type": "markdown",
   "id": "3e678e1d-4d3a-457d-9a7f-e3cca611fe5d",
   "metadata": {},
   "source": [
    "### Výpočet metrík, vykreslenie grafu predikcie a uloženie predikcií"
   ]
  },
  {
   "cell_type": "code",
   "execution_count": 9,
   "id": "4e9bc210-4fac-4ba3-b644-618ec50eb8da",
   "metadata": {},
   "outputs": [
    {
     "name": "stdout",
     "output_type": "stream",
     "text": [
      "Mean Squared Error: 69.76931581095032\n"
     ]
    }
   ],
   "source": [
    "from sklearn.metrics import mean_squared_error\n",
    "\n",
    "mse = mean_squared_error(y_test[:-6], y_pred.reshape(-1))\n",
    "print(f\"Mean Squared Error: {mse}\")"
   ]
  },
  {
   "cell_type": "code",
   "execution_count": 11,
   "id": "5a4a60a4-312d-49af-b434-62bb5321358f",
   "metadata": {},
   "outputs": [
    {
     "name": "stdout",
     "output_type": "stream",
     "text": [
      "Confusion matrix: \n",
      "[[125199   4789]\n",
      " [  9644  22398]]\n"
     ]
    }
   ],
   "source": [
    "y_pred2 = np.where(y_pred <= best_threshold_mcc_rounded, 1, 0)\n",
    "y_test2 = np.where(y_test[n_input:]  <= -20, 1, 0)\n",
    "\n",
    "cm = confusion_matrix(y_test2, y_pred2)\n",
    "print(\"Confusion matrix: \\n\" + str(cm))"
   ]
  },
  {
   "cell_type": "code",
   "execution_count": 12,
   "id": "34bf261e-9c6d-41e5-b29a-610944c0209c",
   "metadata": {},
   "outputs": [
    {
     "name": "stdout",
     "output_type": "stream",
     "text": [
      "              precision    recall  f1-score   support\n",
      "\n",
      "           0       0.93      0.96      0.95    129988\n",
      "           1       0.82      0.70      0.76     32042\n",
      "\n",
      "    accuracy                           0.91    162030\n",
      "   macro avg       0.88      0.83      0.85    162030\n",
      "weighted avg       0.91      0.91      0.91    162030\n",
      "\n"
     ]
    }
   ],
   "source": [
    "print(classification_report(y_test2, y_pred2))"
   ]
  },
  {
   "cell_type": "code",
   "execution_count": 13,
   "id": "2c53e62e-9d40-4678-9358-b0a58302c34a",
   "metadata": {},
   "outputs": [
    {
     "data": {
      "image/png": "[encoded data removed]",
      "text/plain": [
       "<Figure size 640x480 with 1 Axes>"
      ]
     },
     "metadata": {},
     "output_type": "display_data"
    }
   ],
   "source": [
    "df = pd.DataFrame(data={\"time\": test['time1'][n_input:],\"y_true\": y_test[n_input:].reshape(-1) , \"y_predict\": y_pred.reshape(-1)})\n",
    "\n",
    "plt.figure()\n",
    "plt.title('Predicting the change in DST Index')\n",
    "plt.plot(df['time'],df['y_true'], label='Skutočné hodnoty')\n",
    "plt.plot(df['time'],df['y_predict'], label='Predikované hodnoty')\n",
    "plt.legend()\n",
    "plt.gcf().autofmt_xdate()\n",
    "plt.grid(True)"
   ]
  },
  {
   "cell_type": "code",
   "execution_count": 14,
   "id": "c622248e-eb1a-450b-b45a-ac09a38e0343",
   "metadata": {},
   "outputs": [
    {
     "name": "stdout",
     "output_type": "stream",
     "text": [
      "ACC=0.9109239029809295\n",
      "MCC=0.7058159268271003\n"
     ]
    }
   ],
   "source": [
    "TN, FP, FN, TP = cm.ravel()\n",
    "ACC = (TP + TN) / (TP + TN + FP + FN)\n",
    "MCC = matthews_corrcoef(y_test2, y_pred2)\n",
    "print(\"ACC={}\".format(ACC))\n",
    "print(\"MCC={}\".format(MCC))"
   ]
  },
  {
   "cell_type": "code",
   "execution_count": null,
   "id": "b2583efc-7edd-413e-a7f0-17bbf92681d6",
   "metadata": {},
   "outputs": [],
   "source": []
  }
 ],
 "metadata": {
  "kernelspec": {
   "display_name": "Python 3 (ipykernel)",
   "language": "python",
   "name": "python3"
  },
  "language_info": {
   "codemirror_mode": {
    "name": "ipython",
    "version": 3
   },
   "file_extension": ".py",
   "mimetype": "text/x-python",
   "name": "python",
   "nbconvert_exporter": "python",
   "pygments_lexer": "ipython3",
   "version": "3.10.6"
  }
 },
 "nbformat": 4,
 "nbformat_minor": 5
}
