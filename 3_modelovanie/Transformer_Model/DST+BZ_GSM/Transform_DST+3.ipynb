{
 "cells": [
  {
   "cell_type": "markdown",
   "id": "e3769159-41c2-4925-ab93-800dca681d44",
   "metadata": {},
   "source": [
    "## Model na predikciu DST za pomoci použitia atribútu DST a BZ_GMS o 3 hodiny dopredu"
   ]
  },
  {
   "cell_type": "markdown",
   "id": "8fa625a6-0a2b-4f58-9452-6388da2512f4",
   "metadata": {},
   "source": [
    "Súbor: Transform_DST+3.ipynb\n",
    "\n",
    "Program: Hospodárska informatika\n",
    "\n",
    "Vypracovala: Terézia Drengubiaková\n",
    "\n",
    "Bakalárska práca: : Prediktívne modely v spracovaní dát z oblasti kozmického počasia\n",
    "\n",
    "Vedúci diplomovej práce: doc. Ing. Peter Butka, PhD.\n",
    "\n",
    "Konzultanti: Ing. Viera Krešňáková, PhD., RNDr. Šimon Mackovjak, PhD."
   ]
  },
  {
   "cell_type": "markdown",
   "id": "c2ee5bb7-3482-48ed-ba21-95cd2e2f6bc8",
   "metadata": {},
   "source": [
    "### Import knižníc"
   ]
  },
  {
   "cell_type": "code",
   "execution_count": 1,
   "id": "bcb62d07-67a4-406c-b1cb-8e933d5b0bf4",
   "metadata": {},
   "outputs": [
    {
     "name": "stderr",
     "output_type": "stream",
     "text": [
      "2024-05-17 15:27:20.089347: I tensorflow/core/platform/cpu_feature_guard.cc:193] This TensorFlow binary is optimized with oneAPI Deep Neural Network Library (oneDNN) to use the following CPU instructions in performance-critical operations:  SSE4.1 SSE4.2 AVX AVX2 FMA\n",
      "To enable them in other operations, rebuild TensorFlow with the appropriate compiler flags.\n"
     ]
    }
   ],
   "source": [
    "import pandas as pd\n",
    "import numpy as np\n",
    "from tensorflow import keras\n",
    "import matplotlib.pyplot as plt\n",
    "from sklearn.preprocessing import MinMaxScaler, StandardScaler\n",
    "from pandas.plotting import register_matplotlib_converters\n",
    "register_matplotlib_converters()\n",
    "import seaborn as sns\n",
    "\n",
    "from tensorflow.keras.preprocessing.sequence import TimeseriesGenerator\n",
    "from keras.models import Sequential\n",
    "\n",
    "from keras.layers import Dense, Activation, Dropout, Input, Conv1D, LSTM, MaxPooling1D, Flatten, TimeDistributed, Bidirectional\n",
    "from tensorflow.keras.callbacks import ModelCheckpoint, EarlyStopping\n",
    "from keras.models import Model\n",
    "\n",
    "\n",
    "from scipy.special import expit, logit\n",
    "\n",
    "from sklearn.metrics import confusion_matrix, classification_report, matthews_corrcoef\n",
    "import tensorflow as tf\n",
    "from tensorflow.keras.layers import Layer, MultiHeadAttention, Dropout, LayerNormalization, Dense\n",
    "from tensorflow.keras.layers import MultiHeadAttention, Dense, Input, LayerNormalization, Dropout\n",
    "from tensorflow.keras.models import Model"
   ]
  },
  {
   "cell_type": "markdown",
   "id": "ae3c28ee-7e5d-497c-ab26-5a87fde8c9a9",
   "metadata": {},
   "source": [
    "### Načítanie dát, odstránenie na hodnôt, určenie predikovaného atribútu"
   ]
  },
  {
   "cell_type": "code",
   "execution_count": 2,
   "id": "1505d839-8601-4069-b902-29974b8d3285",
   "metadata": {},
   "outputs": [],
   "source": [
    "train = pd.read_csv('train_omni.csv')\n",
    "test = pd.read_csv('test_omni.csv')\n",
    "train['BZ_GSM'] = train['BZ_GSM'].fillna(train['BZ_GSM'].mean()) \n",
    "test['BZ_GSM'] = test['BZ_GSM'].fillna(test['BZ_GSM'].mean())\n",
    "features = ['time1', 'DST', 'DST+3', 'BZ_GSM']\n",
    "test = test[features]\n",
    "train = train[features]\n",
    "train['time1']=pd.to_datetime(train['time1'])\n",
    "test['time1']=pd.to_datetime(test['time1'])\n",
    "predicators = [\"DST\", \"BZ_GSM\"]\n",
    "y_col='DST+3'\n",
    "valid_size = int(len(train) * 0.2)\n",
    "valid = train.iloc[-valid_size:,:].copy()\n",
    "train = train.iloc[:-valid_size,:].copy()\n",
    "\n",
    "y_train = train[y_col].values.copy()\n",
    "X_train = train[predicators].values.copy()\n",
    "y_val = valid[y_col].values.copy()\n",
    "X_val = valid[predicators].values.copy()\n",
    "y_test = test[y_col].values.copy()\n",
    "X_test = test[predicators].values.copy()"
   ]
  },
  {
   "cell_type": "markdown",
   "id": "4508a021-b9a0-495a-8611-042db4cf8bb4",
   "metadata": {},
   "source": [
    "### Definícia premenných a vytvorenie dátových generátorov"
   ]
  },
  {
   "cell_type": "code",
   "execution_count": 3,
   "id": "27f1b1d3-1433-4f87-a1d1-19536f3eb578",
   "metadata": {},
   "outputs": [],
   "source": [
    "n_input = 6  \n",
    "n_features= len(X_train)\n",
    "b_size = 256  \n",
    "\n",
    "train_generator = TimeseriesGenerator(X_train, y_train, length=n_input, batch_size=b_size)\n",
    "val_generator = TimeseriesGenerator(X_val, y_val, length=n_input, batch_size=b_size)\n",
    "test_generator = TimeseriesGenerator(X_test, y_test, length=n_input, batch_size=256)"
   ]
  },
  {
   "cell_type": "code",
   "execution_count": 4,
   "id": "693aa2d7-b810-4beb-97d2-aea3b78109da",
   "metadata": {},
   "outputs": [
    {
     "name": "stdout",
     "output_type": "stream",
     "text": [
      "Počet batchov:  896\n",
      "Každý batch má features (X zložku) a labels (y zložku):  2\n",
      "Dĺžka X zložky batchu:  256\n",
      "Dĺžka y zložky batchu (počet meraní v batchi):  256\n",
      "Počet riadkov braných do úvahy pre jedno meranie (koľko sa pozerá dozadu):  6\n"
     ]
    }
   ],
   "source": [
    "print(\"Počet batchov: \", len(train_generator))\n",
    "print(\"Každý batch má features (X zložku) a labels (y zložku): \", len(train_generator[0]))\n",
    "print(\"Dĺžka X zložky batchu: \", len(train_generator[0][0]))\n",
    "print(\"Dĺžka y zložky batchu (počet meraní v batchi): \",len(train_generator[0][1]))\n",
    "print(\"Počet riadkov braných do úvahy pre jedno meranie (koľko sa pozerá dozadu): \", len(train_generator[0][0][0]))"
   ]
  },
  {
   "cell_type": "markdown",
   "id": "5f632864-b58e-48b7-baf0-79eb0f6904b0",
   "metadata": {},
   "source": [
    "### Vytvorenie modelu"
   ]
  },
  {
   "cell_type": "code",
   "execution_count": 5,
   "id": "1ffc6acc-22ab-4a78-bc3c-adecf6f8f28d",
   "metadata": {},
   "outputs": [
    {
     "name": "stderr",
     "output_type": "stream",
     "text": [
      "2024-05-17 15:27:28.998403: I tensorflow/core/platform/cpu_feature_guard.cc:193] This TensorFlow binary is optimized with oneAPI Deep Neural Network Library (oneDNN) to use the following CPU instructions in performance-critical operations:  SSE4.1 SSE4.2 AVX AVX2 FMA\n",
      "To enable them in other operations, rebuild TensorFlow with the appropriate compiler flags.\n"
     ]
    },
    {
     "name": "stdout",
     "output_type": "stream",
     "text": [
      "Model: \"model\"\n",
      "_________________________________________________________________\n",
      " Layer (type)                Output Shape              Param #   \n",
      "=================================================================\n",
      " input_1 (InputLayer)        [(None, 6, 2)]            0         \n",
      "                                                                 \n",
      " transformer_encoder_layer (  (None, 6, 64)            66752     \n",
      " TransformerEncoderLayer)                                        \n",
      "                                                                 \n",
      " flatten (Flatten)           (None, 384)               0         \n",
      "                                                                 \n",
      " dense_3 (Dense)             (None, 1)                 385       \n",
      "                                                                 \n",
      "=================================================================\n",
      "Total params: 67,137\n",
      "Trainable params: 67,137\n",
      "Non-trainable params: 0\n",
      "_________________________________________________________________\n"
     ]
    }
   ],
   "source": [
    "class TransformerEncoderLayer(Layer):\n",
    "    def __init__(self, embed_dim, num_heads, ff_dim, input_dim, rate=0.1, **kwargs):\n",
    "        super(TransformerEncoderLayer, self).__init__(**kwargs)\n",
    "        self.embed_dim = embed_dim\n",
    "        self.num_heads = num_heads\n",
    "        self.ff_dim = ff_dim\n",
    "        self.input_dim = input_dim\n",
    "        self.rate = rate\n",
    "        self.input_proj = Dense(embed_dim)\n",
    "        self.att = MultiHeadAttention(num_heads=num_heads, key_dim=embed_dim)\n",
    "        self.ffn = tf.keras.Sequential([\n",
    "            Dense(ff_dim, activation=\"relu\"),\n",
    "            Dense(embed_dim)\n",
    "        ])\n",
    "        self.layernorm1 = LayerNormalization(epsilon=1e-6)\n",
    "        self.layernorm2 = LayerNormalization(epsilon=1e-6)\n",
    "        self.dropout1 = Dropout(rate)\n",
    "        self.dropout2 = Dropout(rate)\n",
    "\n",
    "    def call(self, inputs, training=False):\n",
    "        inputs_proj = self.input_proj(inputs)\n",
    "        attn_output = self.att(inputs_proj, inputs_proj)\n",
    "        attn_output = self.dropout1(attn_output, training=training)\n",
    "        out1 = self.layernorm1(inputs_proj + attn_output)\n",
    "        ffn_output = self.ffn(out1)\n",
    "        ffn_output = self.dropout2(ffn_output, training=training)\n",
    "        return self.layernorm2(out1 + ffn_output)\n",
    "\n",
    "    def get_config(self):\n",
    "        config = super().get_config()\n",
    "        config.update({\n",
    "            'embed_dim': self.embed_dim,\n",
    "            'num_heads': self.num_heads,\n",
    "            'ff_dim': self.ff_dim,\n",
    "            'input_dim': self.input_dim,\n",
    "            'rate': self.rate\n",
    "        })\n",
    "        return config\n",
    "\n",
    "def build_model(input_shape, embed_dim, num_heads, ff_dim, rate=0.1):\n",
    "    inputs = tf.keras.Input(shape=input_shape)\n",
    "    x = TransformerEncoderLayer(embed_dim, num_heads, ff_dim, input_shape[-1], rate)(inputs)\n",
    "    x = Flatten()(x)\n",
    "    x = Dense(1, activation='linear')(x)\n",
    "    return tf.keras.Model(inputs=inputs, outputs=x)\n",
    "\n",
    "model = build_model((6, 2), embed_dim=64, num_heads=2, ff_dim=256)\n",
    "model.compile(loss='mse', optimizer='adam', metrics=['mae'])\n",
    "model.summary()"
   ]
  },
  {
   "cell_type": "code",
   "execution_count": 6,
   "id": "73f5a329-7500-46c5-86fe-dad78109b31a",
   "metadata": {},
   "outputs": [],
   "source": [
    "saved_model = \"3h_BZ_GSM1_transform.keras\"\n",
    "checkpoint = ModelCheckpoint(saved_model, monitor='val_mae', verbose=1, save_best_only=True, mode='min')\n",
    "early = EarlyStopping(monitor=\"val_mae\", mode=\"min\", patience=25)\n",
    "callbacks_list = [checkpoint, early]"
   ]
  },
  {
   "cell_type": "markdown",
   "id": "6d6a9bb0-58c9-4089-a10f-c91b40360700",
   "metadata": {},
   "source": [
    "### Trénovanie"
   ]
  },
  {
   "cell_type": "code",
   "execution_count": 7,
   "id": "4af77537-6a82-4e7c-9458-9544487c1c5b",
   "metadata": {
    "collapsed": true,
    "jupyter": {
     "outputs_hidden": true
    },
    "tags": []
   },
   "outputs": [
    {
     "name": "stdout",
     "output_type": "stream",
     "text": [
      "Epoch 1/200\n",
      "895/896 [============================>.] - ETA: 0s - loss: 210.0034 - mae: 8.3458\n",
      "Epoch 1: val_mae improved from inf to 9.25769, saving model to 3h_BZ_GSM1_transform.keras\n",
      "896/896 [==============================] - 25s 26ms/step - loss: 209.8492 - mae: 8.3435 - val_loss: 287.6663 - val_mae: 9.2577\n",
      "Epoch 2/200\n",
      "896/896 [==============================] - ETA: 0s - loss: 127.0984 - mae: 6.8647\n",
      "Epoch 2: val_mae improved from 9.25769 to 7.97574, saving model to 3h_BZ_GSM1_transform.keras\n",
      "896/896 [==============================] - 22s 24ms/step - loss: 127.0984 - mae: 6.8647 - val_loss: 192.6296 - val_mae: 7.9757\n",
      "Epoch 3/200\n",
      "895/896 [============================>.] - ETA: 0s - loss: 105.2734 - mae: 6.4564\n",
      "Epoch 3: val_mae improved from 7.97574 to 7.20797, saving model to 3h_BZ_GSM1_transform.keras\n",
      "896/896 [==============================] - 22s 25ms/step - loss: 105.2056 - mae: 6.4545 - val_loss: 167.0998 - val_mae: 7.2080\n",
      "Epoch 4/200\n",
      "895/896 [============================>.] - ETA: 0s - loss: 107.8133 - mae: 6.5780\n",
      "Epoch 4: val_mae did not improve from 7.20797\n",
      "896/896 [==============================] - 22s 24ms/step - loss: 107.8062 - mae: 6.5791 - val_loss: 272.5128 - val_mae: 10.2106\n",
      "Epoch 5/200\n",
      "896/896 [==============================] - ETA: 0s - loss: 99.1302 - mae: 6.3693\n",
      "Epoch 5: val_mae did not improve from 7.20797\n",
      "896/896 [==============================] - 22s 25ms/step - loss: 99.1302 - mae: 6.3693 - val_loss: 187.1298 - val_mae: 7.7130\n",
      "Epoch 6/200\n",
      "896/896 [==============================] - ETA: 0s - loss: 95.1894 - mae: 6.2850\n",
      "Epoch 6: val_mae improved from 7.20797 to 7.15441, saving model to 3h_BZ_GSM1_transform.keras\n",
      "896/896 [==============================] - 23s 26ms/step - loss: 95.1894 - mae: 6.2850 - val_loss: 144.9067 - val_mae: 7.1544\n",
      "Epoch 7/200\n",
      "895/896 [============================>.] - ETA: 0s - loss: 88.1022 - mae: 6.0727\n",
      "Epoch 7: val_mae improved from 7.15441 to 6.83315, saving model to 3h_BZ_GSM1_transform.keras\n",
      "896/896 [==============================] - 23s 25ms/step - loss: 88.2647 - mae: 6.0770 - val_loss: 137.5175 - val_mae: 6.8332\n",
      "Epoch 8/200\n",
      "896/896 [==============================] - ETA: 0s - loss: 89.1807 - mae: 6.1174\n",
      "Epoch 8: val_mae did not improve from 6.83315\n",
      "896/896 [==============================] - 22s 25ms/step - loss: 89.1807 - mae: 6.1174 - val_loss: 137.0993 - val_mae: 7.0024\n",
      "Epoch 9/200\n",
      "896/896 [==============================] - ETA: 0s - loss: 84.7371 - mae: 6.0218\n",
      "Epoch 9: val_mae improved from 6.83315 to 6.82498, saving model to 3h_BZ_GSM1_transform.keras\n",
      "896/896 [==============================] - 22s 24ms/step - loss: 84.7371 - mae: 6.0218 - val_loss: 135.3021 - val_mae: 6.8250\n",
      "Epoch 10/200\n",
      "895/896 [============================>.] - ETA: 0s - loss: 86.4460 - mae: 6.0893\n",
      "Epoch 10: val_mae did not improve from 6.82498\n",
      "896/896 [==============================] - 23s 25ms/step - loss: 86.4580 - mae: 6.0905 - val_loss: 152.6864 - val_mae: 7.3634\n",
      "Epoch 11/200\n",
      "896/896 [==============================] - ETA: 0s - loss: 83.0531 - mae: 5.9654\n",
      "Epoch 11: val_mae did not improve from 6.82498\n",
      "896/896 [==============================] - 22s 24ms/step - loss: 83.0531 - mae: 5.9654 - val_loss: 128.2947 - val_mae: 6.8341\n",
      "Epoch 12/200\n",
      "894/896 [============================>.] - ETA: 0s - loss: 82.9389 - mae: 5.9338\n",
      "Epoch 12: val_mae did not improve from 6.82498\n",
      "896/896 [==============================] - 22s 24ms/step - loss: 82.8639 - mae: 5.9322 - val_loss: 127.7188 - val_mae: 6.9121\n",
      "Epoch 13/200\n",
      "895/896 [============================>.] - ETA: 0s - loss: 83.2303 - mae: 5.9700\n",
      "Epoch 13: val_mae did not improve from 6.82498\n",
      "896/896 [==============================] - 23s 25ms/step - loss: 83.1966 - mae: 5.9691 - val_loss: 177.3657 - val_mae: 7.7142\n",
      "Epoch 14/200\n",
      "896/896 [==============================] - ETA: 0s - loss: 84.4184 - mae: 5.9784\n",
      "Epoch 14: val_mae did not improve from 6.82498\n",
      "896/896 [==============================] - 22s 25ms/step - loss: 84.4184 - mae: 5.9784 - val_loss: 136.7904 - val_mae: 6.8450\n",
      "Epoch 15/200\n",
      "895/896 [============================>.] - ETA: 0s - loss: 79.7764 - mae: 5.8496\n",
      "Epoch 15: val_mae improved from 6.82498 to 6.76189, saving model to 3h_BZ_GSM1_transform.keras\n",
      "896/896 [==============================] - 22s 25ms/step - loss: 79.7684 - mae: 5.8499 - val_loss: 123.4580 - val_mae: 6.7619\n",
      "Epoch 16/200\n",
      "896/896 [==============================] - ETA: 0s - loss: 78.1097 - mae: 5.8361\n",
      "Epoch 16: val_mae did not improve from 6.76189\n",
      "896/896 [==============================] - 22s 25ms/step - loss: 78.1097 - mae: 5.8361 - val_loss: 121.6293 - val_mae: 6.7981\n",
      "Epoch 17/200\n",
      "896/896 [==============================] - ETA: 0s - loss: 83.9009 - mae: 5.9930\n",
      "Epoch 17: val_mae improved from 6.76189 to 6.68933, saving model to 3h_BZ_GSM1_transform.keras\n",
      "896/896 [==============================] - 22s 25ms/step - loss: 83.9009 - mae: 5.9930 - val_loss: 124.0542 - val_mae: 6.6893\n",
      "Epoch 18/200\n",
      "894/896 [============================>.] - ETA: 0s - loss: 80.3309 - mae: 5.8754\n",
      "Epoch 18: val_mae did not improve from 6.68933\n",
      "896/896 [==============================] - 23s 26ms/step - loss: 80.2927 - mae: 5.8762 - val_loss: 121.9686 - val_mae: 6.8575\n",
      "Epoch 19/200\n",
      "896/896 [==============================] - ETA: 0s - loss: 77.7356 - mae: 5.8238\n",
      "Epoch 19: val_mae improved from 6.68933 to 6.64974, saving model to 3h_BZ_GSM1_transform.keras\n",
      "896/896 [==============================] - 23s 25ms/step - loss: 77.7356 - mae: 5.8238 - val_loss: 120.2797 - val_mae: 6.6497\n",
      "Epoch 20/200\n",
      "896/896 [==============================] - ETA: 0s - loss: 77.5473 - mae: 5.8129\n",
      "Epoch 20: val_mae did not improve from 6.64974\n",
      "896/896 [==============================] - 22s 25ms/step - loss: 77.5473 - mae: 5.8129 - val_loss: 131.5115 - val_mae: 6.9371\n",
      "Epoch 21/200\n",
      "894/896 [============================>.] - ETA: 0s - loss: 80.2224 - mae: 5.8885\n",
      "Epoch 21: val_mae did not improve from 6.64974\n",
      "896/896 [==============================] - 23s 25ms/step - loss: 80.1585 - mae: 5.8855 - val_loss: 133.4511 - val_mae: 7.1524\n",
      "Epoch 22/200\n",
      "895/896 [============================>.] - ETA: 0s - loss: 79.6886 - mae: 5.8675\n",
      "Epoch 22: val_mae did not improve from 6.64974\n",
      "896/896 [==============================] - 23s 25ms/step - loss: 79.7119 - mae: 5.8683 - val_loss: 123.6105 - val_mae: 6.8635\n",
      "Epoch 23/200\n",
      "895/896 [============================>.] - ETA: 0s - loss: 77.9639 - mae: 5.8101\n",
      "Epoch 23: val_mae did not improve from 6.64974\n",
      "896/896 [==============================] - 23s 25ms/step - loss: 78.1183 - mae: 5.8113 - val_loss: 136.6587 - val_mae: 6.9317\n",
      "Epoch 24/200\n",
      "895/896 [============================>.] - ETA: 0s - loss: 78.0451 - mae: 5.8205\n",
      "Epoch 24: val_mae did not improve from 6.64974\n",
      "896/896 [==============================] - 22s 25ms/step - loss: 77.9901 - mae: 5.8188 - val_loss: 122.1283 - val_mae: 6.7669\n",
      "Epoch 25/200\n",
      "896/896 [==============================] - ETA: 0s - loss: 77.8723 - mae: 5.8177\n",
      "Epoch 25: val_mae did not improve from 6.64974\n",
      "896/896 [==============================] - 22s 24ms/step - loss: 77.8723 - mae: 5.8177 - val_loss: 127.7939 - val_mae: 6.9346\n",
      "Epoch 26/200\n",
      "895/896 [============================>.] - ETA: 0s - loss: 79.0085 - mae: 5.8492\n",
      "Epoch 26: val_mae did not improve from 6.64974\n",
      "896/896 [==============================] - 23s 25ms/step - loss: 78.9747 - mae: 5.8488 - val_loss: 131.6611 - val_mae: 6.8547\n",
      "Epoch 27/200\n",
      "896/896 [==============================] - ETA: 0s - loss: 77.8486 - mae: 5.8273\n",
      "Epoch 27: val_mae did not improve from 6.64974\n",
      "896/896 [==============================] - 22s 25ms/step - loss: 77.8486 - mae: 5.8273 - val_loss: 127.3399 - val_mae: 7.0475\n",
      "Epoch 28/200\n",
      "894/896 [============================>.] - ETA: 0s - loss: 76.8080 - mae: 5.7969\n",
      "Epoch 28: val_mae did not improve from 6.64974\n",
      "896/896 [==============================] - 23s 25ms/step - loss: 76.9234 - mae: 5.7975 - val_loss: 134.1325 - val_mae: 7.1131\n",
      "Epoch 29/200\n",
      "896/896 [==============================] - ETA: 0s - loss: 77.2981 - mae: 5.8003\n",
      "Epoch 29: val_mae did not improve from 6.64974\n",
      "896/896 [==============================] - 23s 26ms/step - loss: 77.2981 - mae: 5.8003 - val_loss: 134.5984 - val_mae: 7.3111\n",
      "Epoch 30/200\n",
      "895/896 [============================>.] - ETA: 0s - loss: 78.8106 - mae: 5.8427\n",
      "Epoch 30: val_mae did not improve from 6.64974\n",
      "896/896 [==============================] - 22s 25ms/step - loss: 78.8406 - mae: 5.8452 - val_loss: 117.0232 - val_mae: 6.6952\n",
      "Epoch 31/200\n",
      "894/896 [============================>.] - ETA: 0s - loss: 76.9434 - mae: 5.7878\n",
      "Epoch 31: val_mae did not improve from 6.64974\n",
      "896/896 [==============================] - 23s 25ms/step - loss: 76.9586 - mae: 5.7880 - val_loss: 126.3903 - val_mae: 7.0922\n",
      "Epoch 32/200\n",
      "896/896 [==============================] - ETA: 0s - loss: 76.1204 - mae: 5.7684\n",
      "Epoch 32: val_mae did not improve from 6.64974\n",
      "896/896 [==============================] - 22s 24ms/step - loss: 76.1204 - mae: 5.7684 - val_loss: 119.5816 - val_mae: 7.1336\n",
      "Epoch 33/200\n",
      "895/896 [============================>.] - ETA: 0s - loss: 80.1926 - mae: 5.9078\n",
      "Epoch 33: val_mae improved from 6.64974 to 6.63210, saving model to 3h_BZ_GSM1_transform.keras\n",
      "896/896 [==============================] - 23s 25ms/step - loss: 80.1369 - mae: 5.9060 - val_loss: 115.8248 - val_mae: 6.6321\n",
      "Epoch 34/200\n",
      "896/896 [==============================] - ETA: 0s - loss: 76.8174 - mae: 5.7822\n",
      "Epoch 34: val_mae did not improve from 6.63210\n",
      "896/896 [==============================] - 23s 25ms/step - loss: 76.8174 - mae: 5.7822 - val_loss: 119.1077 - val_mae: 6.6601\n",
      "Epoch 35/200\n",
      "894/896 [============================>.] - ETA: 0s - loss: 76.1009 - mae: 5.7750\n",
      "Epoch 35: val_mae did not improve from 6.63210\n",
      "896/896 [==============================] - 23s 26ms/step - loss: 76.2187 - mae: 5.7762 - val_loss: 116.7956 - val_mae: 6.6455\n",
      "Epoch 36/200\n",
      "895/896 [============================>.] - ETA: 0s - loss: 75.6486 - mae: 5.7431\n",
      "Epoch 36: val_mae did not improve from 6.63210\n",
      "896/896 [==============================] - 23s 26ms/step - loss: 75.6244 - mae: 5.7425 - val_loss: 120.6381 - val_mae: 7.0794\n",
      "Epoch 37/200\n",
      "894/896 [============================>.] - ETA: 0s - loss: 77.8884 - mae: 5.8251\n",
      "Epoch 37: val_mae did not improve from 6.63210\n",
      "896/896 [==============================] - 23s 26ms/step - loss: 77.7750 - mae: 5.8212 - val_loss: 124.4397 - val_mae: 6.8869\n",
      "Epoch 38/200\n",
      "894/896 [============================>.] - ETA: 0s - loss: 77.5120 - mae: 5.8050\n",
      "Epoch 38: val_mae did not improve from 6.63210\n",
      "896/896 [==============================] - 23s 25ms/step - loss: 77.4432 - mae: 5.8029 - val_loss: 119.6698 - val_mae: 6.7301\n",
      "Epoch 39/200\n",
      "896/896 [==============================] - ETA: 0s - loss: 75.5306 - mae: 5.7349\n",
      "Epoch 39: val_mae did not improve from 6.63210\n",
      "896/896 [==============================] - 23s 26ms/step - loss: 75.5306 - mae: 5.7349 - val_loss: 119.6723 - val_mae: 6.7264\n",
      "Epoch 40/200\n",
      "895/896 [============================>.] - ETA: 0s - loss: 76.9931 - mae: 5.8000\n",
      "Epoch 40: val_mae did not improve from 6.63210\n",
      "896/896 [==============================] - 23s 25ms/step - loss: 76.9266 - mae: 5.7971 - val_loss: 149.1474 - val_mae: 7.0271\n",
      "Epoch 41/200\n",
      "894/896 [============================>.] - ETA: 0s - loss: 75.7296 - mae: 5.7472\n",
      "Epoch 41: val_mae did not improve from 6.63210\n",
      "896/896 [==============================] - 22s 25ms/step - loss: 75.6920 - mae: 5.7456 - val_loss: 121.0434 - val_mae: 6.6951\n",
      "Epoch 42/200\n",
      "894/896 [============================>.] - ETA: 0s - loss: 77.9760 - mae: 5.8342\n",
      "Epoch 42: val_mae did not improve from 6.63210\n",
      "896/896 [==============================] - 23s 25ms/step - loss: 77.9437 - mae: 5.8329 - val_loss: 121.7882 - val_mae: 7.0455\n",
      "Epoch 43/200\n",
      "895/896 [============================>.] - ETA: 0s - loss: 74.9175 - mae: 5.7272\n",
      "Epoch 43: val_mae did not improve from 6.63210\n",
      "896/896 [==============================] - 23s 25ms/step - loss: 74.9071 - mae: 5.7278 - val_loss: 117.9838 - val_mae: 6.9849\n",
      "Epoch 44/200\n",
      "894/896 [============================>.] - ETA: 0s - loss: 76.2937 - mae: 5.7740\n",
      "Epoch 44: val_mae did not improve from 6.63210\n",
      "896/896 [==============================] - 23s 25ms/step - loss: 76.2363 - mae: 5.7725 - val_loss: 123.0548 - val_mae: 6.8095\n",
      "Epoch 45/200\n",
      "895/896 [============================>.] - ETA: 0s - loss: 78.7581 - mae: 5.8440\n",
      "Epoch 45: val_mae did not improve from 6.63210\n",
      "896/896 [==============================] - 22s 25ms/step - loss: 78.8594 - mae: 5.8468 - val_loss: 122.9389 - val_mae: 6.7885\n",
      "Epoch 46/200\n",
      "896/896 [==============================] - ETA: 0s - loss: 75.6769 - mae: 5.7439\n",
      "Epoch 46: val_mae did not improve from 6.63210\n",
      "896/896 [==============================] - 22s 24ms/step - loss: 75.6769 - mae: 5.7439 - val_loss: 115.0802 - val_mae: 6.6530\n",
      "Epoch 47/200\n",
      "894/896 [============================>.] - ETA: 0s - loss: 75.2168 - mae: 5.7423\n",
      "Epoch 47: val_mae did not improve from 6.63210\n",
      "896/896 [==============================] - 22s 25ms/step - loss: 75.1491 - mae: 5.7405 - val_loss: 115.8538 - val_mae: 6.6361\n",
      "Epoch 48/200\n",
      "896/896 [==============================] - ETA: 0s - loss: 75.2877 - mae: 5.7467\n",
      "Epoch 48: val_mae did not improve from 6.63210\n",
      "896/896 [==============================] - 23s 26ms/step - loss: 75.2877 - mae: 5.7467 - val_loss: 203.7826 - val_mae: 8.7494\n",
      "Epoch 49/200\n",
      "894/896 [============================>.] - ETA: 0s - loss: 75.6038 - mae: 5.7555\n",
      "Epoch 49: val_mae did not improve from 6.63210\n",
      "896/896 [==============================] - 23s 26ms/step - loss: 75.6203 - mae: 5.7549 - val_loss: 116.0299 - val_mae: 6.7137\n",
      "Epoch 50/200\n",
      "896/896 [==============================] - ETA: 0s - loss: 75.3066 - mae: 5.7399\n",
      "Epoch 50: val_mae did not improve from 6.63210\n",
      "896/896 [==============================] - 23s 25ms/step - loss: 75.3066 - mae: 5.7399 - val_loss: 114.9223 - val_mae: 6.6934\n",
      "Epoch 51/200\n",
      "896/896 [==============================] - ETA: 0s - loss: 75.7965 - mae: 5.7510\n",
      "Epoch 51: val_mae did not improve from 6.63210\n",
      "896/896 [==============================] - 23s 26ms/step - loss: 75.7965 - mae: 5.7510 - val_loss: 121.6525 - val_mae: 6.8245\n",
      "Epoch 52/200\n",
      "895/896 [============================>.] - ETA: 0s - loss: 76.3253 - mae: 5.7566\n",
      "Epoch 52: val_mae did not improve from 6.63210\n",
      "896/896 [==============================] - 23s 25ms/step - loss: 76.3326 - mae: 5.7576 - val_loss: 117.9168 - val_mae: 6.6426\n",
      "Epoch 53/200\n",
      "894/896 [============================>.] - ETA: 0s - loss: 75.7991 - mae: 5.7376\n",
      "Epoch 53: val_mae did not improve from 6.63210\n",
      "896/896 [==============================] - 23s 25ms/step - loss: 75.7495 - mae: 5.7360 - val_loss: 117.7334 - val_mae: 6.8131\n",
      "Epoch 54/200\n",
      "896/896 [==============================] - ETA: 0s - loss: 74.8688 - mae: 5.7166\n",
      "Epoch 54: val_mae did not improve from 6.63210\n",
      "896/896 [==============================] - 23s 26ms/step - loss: 74.8688 - mae: 5.7166 - val_loss: 117.9983 - val_mae: 6.7187\n",
      "Epoch 55/200\n",
      "896/896 [==============================] - ETA: 0s - loss: 74.6922 - mae: 5.6986\n",
      "Epoch 55: val_mae did not improve from 6.63210\n",
      "896/896 [==============================] - 22s 25ms/step - loss: 74.6922 - mae: 5.6986 - val_loss: 123.5392 - val_mae: 6.7594\n",
      "Epoch 56/200\n",
      "896/896 [==============================] - ETA: 0s - loss: 76.1306 - mae: 5.7558\n",
      "Epoch 56: val_mae did not improve from 6.63210\n",
      "896/896 [==============================] - 22s 25ms/step - loss: 76.1306 - mae: 5.7558 - val_loss: 129.0907 - val_mae: 7.0713\n",
      "Epoch 57/200\n",
      "895/896 [============================>.] - ETA: 0s - loss: 76.6643 - mae: 5.7497\n",
      "Epoch 57: val_mae did not improve from 6.63210\n",
      "896/896 [==============================] - 22s 25ms/step - loss: 76.6124 - mae: 5.7477 - val_loss: 115.9233 - val_mae: 6.6843\n",
      "Epoch 58/200\n",
      "896/896 [==============================] - ETA: 0s - loss: 75.3045 - mae: 5.7266\n",
      "Epoch 58: val_mae did not improve from 6.63210\n",
      "896/896 [==============================] - 22s 25ms/step - loss: 75.3045 - mae: 5.7266 - val_loss: 117.1191 - val_mae: 6.8023\n"
     ]
    }
   ],
   "source": [
    "history = model.fit(train_generator, validation_data=val_generator, epochs=200, verbose=1, callbacks = callbacks_list)"
   ]
  },
  {
   "cell_type": "markdown",
   "id": "5145be70-56ca-47ba-b9dd-fa4b854ecef7",
   "metadata": {},
   "source": [
    "### Načítanie najlepšieho modelu"
   ]
  },
  {
   "cell_type": "code",
   "execution_count": 8,
   "id": "b78c14eb-8ccc-484d-9559-e341a22d30a4",
   "metadata": {},
   "outputs": [],
   "source": [
    "model = keras.models.load_model(\n",
    "    '3h_BZ_GSM1_transform.keras', \n",
    "    custom_objects={'TransformerEncoderLayer': TransformerEncoderLayer}\n",
    ")"
   ]
  },
  {
   "cell_type": "markdown",
   "id": "67843c85-5091-4bc1-b370-a63109d29a16",
   "metadata": {},
   "source": [
    "### Vytvorenie predikcií"
   ]
  },
  {
   "cell_type": "code",
   "execution_count": 9,
   "id": "13e782d2-d0ab-4c3a-8f7c-386ac7f4170b",
   "metadata": {},
   "outputs": [
    {
     "name": "stdout",
     "output_type": "stream",
     "text": [
      "633/633 [==============================] - 6s 9ms/step\n"
     ]
    }
   ],
   "source": [
    "y_pred = model.predict(test_generator)"
   ]
  },
  {
   "cell_type": "markdown",
   "id": "d9f9679f-f99b-43a9-a8c1-f32361949dd8",
   "metadata": {},
   "source": [
    "### Nájdenie optimálneho thresholdu na validačnej sade"
   ]
  },
  {
   "cell_type": "code",
   "execution_count": 12,
   "id": "cb7a11e3-8958-46db-b650-8d32a26fc6c4",
   "metadata": {},
   "outputs": [
    {
     "name": "stdout",
     "output_type": "stream",
     "text": [
      "224/224 [==============================] - 2s 9ms/step\n",
      "Best Threshold for MCC on Validation Set: -19.399999999999967\n",
      "Best MCC on Validation Set: 0.7937581363826569\n"
     ]
    }
   ],
   "source": [
    "y_val_pred = model.predict(val_generator)\n",
    "\n",
    "true_labels_val = np.where(y_val[n_input:] <= -20, 1, 0)  # Adjust n_input as per your setup\n",
    "\n",
    "def calculate_mcc(y_true, y_pred):\n",
    "    return matthews_corrcoef(y_true, y_pred)\n",
    "\n",
    "thresholds = np.arange(-10, -40, -0.1)\n",
    "mcc_scores = []\n",
    "\n",
    "for thresh in thresholds:\n",
    "    predictions = np.where(y_val_pred <= thresh, 1, 0)\n",
    "    mcc = calculate_mcc(true_labels_val, predictions)\n",
    "    mcc_scores.append(mcc)\n",
    "\n",
    "best_threshold_mcc = thresholds[np.argmax(mcc_scores)]\n",
    "best_mcc = max(mcc_scores)\n",
    "\n",
    "print(\"Best Threshold for MCC on Validation Set:\", best_threshold_mcc)\n",
    "print(\"Best MCC on Validation Set:\", best_mcc)\n",
    "best_threshold_mcc_rounded = round(best_threshold_mcc, 1)"
   ]
  },
  {
   "cell_type": "markdown",
   "id": "dc963567-3beb-4d7b-b4bc-3fb5e8e55988",
   "metadata": {},
   "source": [
    "### Výpočet metrík, vykreslenie grafu predikcie a uloženie predikcií"
   ]
  },
  {
   "cell_type": "code",
   "execution_count": 10,
   "id": "8f25268a-3f2d-48fd-9bb8-81f977e9a3f1",
   "metadata": {},
   "outputs": [],
   "source": [
    "from sklearn.metrics import mean_squared_error"
   ]
  },
  {
   "cell_type": "code",
   "execution_count": 11,
   "id": "739dc0d2-c9d1-4bc2-8498-f7810f9cd71b",
   "metadata": {},
   "outputs": [
    {
     "name": "stdout",
     "output_type": "stream",
     "text": [
      "Mean Squared Error: 72.81296733400619\n"
     ]
    }
   ],
   "source": [
    "mse = mean_squared_error(y_test[:-6], y_pred.reshape(-1))\n",
    "print(f\"Mean Squared Error: {mse}\")"
   ]
  },
  {
   "cell_type": "code",
   "execution_count": 13,
   "id": "39a3ac73-fafc-477e-a24b-b41c043c5cb1",
   "metadata": {
    "tags": []
   },
   "outputs": [
    {
     "name": "stdout",
     "output_type": "stream",
     "text": [
      "Confusion matrix: \n",
      "[[124351   5636]\n",
      " [  6764  25279]]\n"
     ]
    }
   ],
   "source": [
    "y_pred2 = np.where(y_pred <= best_threshold_mcc_rounded, 1, 0)\n",
    "y_test2 = np.where(y_test[n_input:]  <= -20, 1, 0)\n",
    "\n",
    "cm = confusion_matrix(y_test2, y_pred2)\n",
    "print(\"Confusion matrix: \\n\" + str(cm))"
   ]
  },
  {
   "cell_type": "code",
   "execution_count": 14,
   "id": "f57667b1-0b84-4f96-acb4-c987cfa274db",
   "metadata": {},
   "outputs": [
    {
     "name": "stdout",
     "output_type": "stream",
     "text": [
      "              precision    recall  f1-score   support\n",
      "\n",
      "           0       0.95      0.96      0.95    129987\n",
      "           1       0.82      0.79      0.80     32043\n",
      "\n",
      "    accuracy                           0.92    162030\n",
      "   macro avg       0.88      0.87      0.88    162030\n",
      "weighted avg       0.92      0.92      0.92    162030\n",
      "\n"
     ]
    }
   ],
   "source": [
    "print(classification_report(y_test2, y_pred2))"
   ]
  },
  {
   "cell_type": "code",
   "execution_count": 15,
   "id": "a07b2eb9-ad5e-4b68-9e53-c24faa167bed",
   "metadata": {},
   "outputs": [
    {
     "data": {
      "image/png": "[encoded data removed]",
      "text/plain": [
       "<Figure size 640x480 with 1 Axes>"
      ]
     },
     "metadata": {},
     "output_type": "display_data"
    }
   ],
   "source": [
    "df = pd.DataFrame(data={\"time\": test['time1'][n_input:],\"y_true\": y_test[n_input:].reshape(-1) , \"y_predict\": y_pred.reshape(-1)})\n",
    "\n",
    "plt.figure()\n",
    "plt.title('Predicting the change in DST Index')\n",
    "plt.plot(df['time'],df['y_true'], label='Skutočné hodnoty')\n",
    "plt.plot(df['time'],df['y_predict'], label='Predikované hodnoty')\n",
    "plt.legend()\n",
    "plt.gcf().autofmt_xdate()\n",
    "plt.grid(True)"
   ]
  },
  {
   "cell_type": "code",
   "execution_count": 16,
   "id": "1a1e9c8e-27df-42d2-933b-b5bfc0682e39",
   "metadata": {},
   "outputs": [],
   "source": [
    "df.to_csv('Transform_BZ3.csv')"
   ]
  },
  {
   "cell_type": "code",
   "execution_count": 17,
   "id": "6a516fdf-1ce9-4328-a1e6-85aba7cfd968",
   "metadata": {},
   "outputs": [
    {
     "name": "stdout",
     "output_type": "stream",
     "text": [
      "ACC=0.9234709621674998\n",
      "MCC=0.7557580463310365\n"
     ]
    }
   ],
   "source": [
    "TN, FP, FN, TP = cm.ravel()\n",
    "ACC = (TP + TN) / (TP + TN + FP + FN)\n",
    "MCC = matthews_corrcoef(y_test2, y_pred2)\n",
    "print(\"ACC={}\".format(ACC))\n",
    "print(\"MCC={}\".format(MCC))"
   ]
  }
 ],
 "metadata": {
  "kernelspec": {
   "display_name": "Python 3 (ipykernel)",
   "language": "python",
   "name": "python3"
  },
  "language_info": {
   "codemirror_mode": {
    "name": "ipython",
    "version": 3
   },
   "file_extension": ".py",
   "mimetype": "text/x-python",
   "name": "python",
   "nbconvert_exporter": "python",
   "pygments_lexer": "ipython3",
   "version": "3.10.6"
  }
 },
 "nbformat": 4,
 "nbformat_minor": 5
}
