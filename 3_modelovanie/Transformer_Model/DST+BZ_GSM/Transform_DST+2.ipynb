{
 "cells": [
  {
   "cell_type": "markdown",
   "id": "8c4ce89a-c6a8-49fa-8626-1aa059947344",
   "metadata": {},
   "source": [
    "## Model na predikciu DST za pomoci použitia atribútu DST a BZ_GMS o 2 hodiny dopredu"
   ]
  },
  {
   "cell_type": "markdown",
   "id": "52eb283d-5914-4c45-91d0-e0108815089f",
   "metadata": {},
   "source": [
    "Súbor: Transform_DST+2.ipynb\n",
    "\n",
    "Program: Hospodárska informatika\n",
    "\n",
    "Vypracovala: Terézia Drengubiaková\n",
    "\n",
    "Bakalárska práca: : Prediktívne modely v spracovaní dát z oblasti kozmického počasia\n",
    "\n",
    "Vedúci diplomovej práce: doc. Ing. Peter Butka, PhD.\n",
    "\n",
    "Konzultanti: Ing. Viera Krešňáková, PhD., RNDr. Šimon Mackovjak, PhD."
   ]
  },
  {
   "cell_type": "markdown",
   "id": "dadfb1fc-4be6-4989-8faf-6e4b3a21ccff",
   "metadata": {},
   "source": [
    "### Import knižníc"
   ]
  },
  {
   "cell_type": "code",
   "execution_count": 2,
   "id": "bcb62d07-67a4-406c-b1cb-8e933d5b0bf4",
   "metadata": {},
   "outputs": [
    {
     "name": "stderr",
     "output_type": "stream",
     "text": [
      "2024-05-24 10:53:42.280505: I tensorflow/core/platform/cpu_feature_guard.cc:193] This TensorFlow binary is optimized with oneAPI Deep Neural Network Library (oneDNN) to use the following CPU instructions in performance-critical operations:  SSE4.1 SSE4.2 AVX AVX2 FMA\n",
      "To enable them in other operations, rebuild TensorFlow with the appropriate compiler flags.\n"
     ]
    }
   ],
   "source": [
    "import pandas as pd\n",
    "import numpy as np\n",
    "from tensorflow import keras\n",
    "import matplotlib.pyplot as plt\n",
    "from sklearn.preprocessing import MinMaxScaler, StandardScaler\n",
    "from pandas.plotting import register_matplotlib_converters\n",
    "register_matplotlib_converters()\n",
    "import seaborn as sns\n",
    "\n",
    "from tensorflow.keras.preprocessing.sequence import TimeseriesGenerator\n",
    "from keras.models import Sequential\n",
    "\n",
    "from keras.layers import Dense, Activation, Dropout, Input, Conv1D, LSTM, MaxPooling1D, Flatten, TimeDistributed, Bidirectional\n",
    "from tensorflow.keras.callbacks import ModelCheckpoint, EarlyStopping\n",
    "from keras.models import Model\n",
    "\n",
    "\n",
    "from scipy.special import expit, logit\n",
    "\n",
    "from sklearn.metrics import confusion_matrix, classification_report, matthews_corrcoef\n",
    "import tensorflow as tf\n",
    "from tensorflow.keras.layers import Layer, MultiHeadAttention, Dropout, LayerNormalization, Dense\n",
    "from tensorflow.keras.layers import MultiHeadAttention, Dense, Input, LayerNormalization, Dropout\n",
    "from tensorflow.keras.models import Model"
   ]
  },
  {
   "cell_type": "markdown",
   "id": "0329cc01-1198-4ff2-a2b1-6e4c9f3f7612",
   "metadata": {},
   "source": [
    "### Načítanie dát, odstránenie na hodnôt, určenie predikovaného atribútu"
   ]
  },
  {
   "cell_type": "code",
   "execution_count": 2,
   "id": "1505d839-8601-4069-b902-29974b8d3285",
   "metadata": {},
   "outputs": [],
   "source": [
    "train = pd.read_csv('train_omni.csv')\n",
    "test = pd.read_csv('test_omni.csv')\n",
    "train['BZ_GSM'] = train['BZ_GSM'].fillna(train['BZ_GSM'].mean())  \n",
    "test['BZ_GSM'] = test['BZ_GSM'].fillna(test['BZ_GSM'].mean())\n",
    "features = ['time1', 'DST', 'DST+2', 'BZ_GSM']\n",
    "test = test[features]\n",
    "train = train[features]\n",
    "train['time1']=pd.to_datetime(train['time1'])\n",
    "test['time1']=pd.to_datetime(test['time1'])\n",
    "predicators = [\"DST\", \"BZ_GSM\"]\n",
    "y_col='DST+2'\n",
    "valid_size = int(len(train) * 0.2)\n",
    "valid = train.iloc[-valid_size:,:].copy()\n",
    "train = train.iloc[:-valid_size,:].copy()\n",
    "\n",
    "y_train = train[y_col].values.copy()\n",
    "X_train = train[predicators].values.copy()\n",
    "y_val = valid[y_col].values.copy()\n",
    "X_val = valid[predicators].values.copy()\n",
    "y_test = test[y_col].values.copy()\n",
    "X_test = test[predicators].values.copy()"
   ]
  },
  {
   "cell_type": "markdown",
   "id": "c7070156-d811-4536-ab44-cc2816de5e6c",
   "metadata": {},
   "source": [
    "### Definícia premenných a vytvorenie dátových generátorov"
   ]
  },
  {
   "cell_type": "code",
   "execution_count": 3,
   "id": "27f1b1d3-1433-4f87-a1d1-19536f3eb578",
   "metadata": {},
   "outputs": [],
   "source": [
    "n_input = 6  \n",
    "n_features= len(X_train)\n",
    "b_size = 256 \n",
    "\n",
    "train_generator = TimeseriesGenerator(X_train, y_train, length=n_input, batch_size=b_size)\n",
    "val_generator = TimeseriesGenerator(X_val, y_val, length=n_input, batch_size=b_size)\n",
    "test_generator = TimeseriesGenerator(X_test, y_test, length=n_input, batch_size=256)"
   ]
  },
  {
   "cell_type": "code",
   "execution_count": 4,
   "id": "693aa2d7-b810-4beb-97d2-aea3b78109da",
   "metadata": {},
   "outputs": [
    {
     "name": "stdout",
     "output_type": "stream",
     "text": [
      "Počet batchov:  896\n",
      "Každý batch má features (X zložku) a labels (y zložku):  2\n",
      "Dĺžka X zložky batchu:  256\n",
      "Dĺžka y zložky batchu (počet meraní v batchi):  256\n",
      "Počet riadkov braných do úvahy pre jedno meranie (koľko sa pozerá dozadu):  6\n"
     ]
    }
   ],
   "source": [
    "print(\"Počet batchov: \", len(train_generator))\n",
    "print(\"Každý batch má features (X zložku) a labels (y zložku): \", len(train_generator[0]))\n",
    "print(\"Dĺžka X zložky batchu: \", len(train_generator[0][0]))\n",
    "print(\"Dĺžka y zložky batchu (počet meraní v batchi): \",len(train_generator[0][1]))\n",
    "print(\"Počet riadkov braných do úvahy pre jedno meranie (koľko sa pozerá dozadu): \", len(train_generator[0][0][0]))"
   ]
  },
  {
   "cell_type": "markdown",
   "id": "581893dd-2484-4a56-934b-35600c5d061c",
   "metadata": {},
   "source": [
    "### Vytvorenie modelu"
   ]
  },
  {
   "cell_type": "code",
   "execution_count": 4,
   "id": "1ffc6acc-22ab-4a78-bc3c-adecf6f8f28d",
   "metadata": {},
   "outputs": [
    {
     "name": "stderr",
     "output_type": "stream",
     "text": [
      "2024-05-24 10:53:50.213711: I tensorflow/core/platform/cpu_feature_guard.cc:193] This TensorFlow binary is optimized with oneAPI Deep Neural Network Library (oneDNN) to use the following CPU instructions in performance-critical operations:  SSE4.1 SSE4.2 AVX AVX2 FMA\n",
      "To enable them in other operations, rebuild TensorFlow with the appropriate compiler flags.\n"
     ]
    },
    {
     "name": "stdout",
     "output_type": "stream",
     "text": [
      "Model: \"model\"\n",
      "_________________________________________________________________\n",
      " Layer (type)                Output Shape              Param #   \n",
      "=================================================================\n",
      " input_1 (InputLayer)        [(None, 6, 2)]            0         \n",
      "                                                                 \n",
      " transformer_encoder_layer (  (None, 6, 64)            66752     \n",
      " TransformerEncoderLayer)                                        \n",
      "                                                                 \n",
      " flatten (Flatten)           (None, 384)               0         \n",
      "                                                                 \n",
      " dense_3 (Dense)             (None, 1)                 385       \n",
      "                                                                 \n",
      "=================================================================\n",
      "Total params: 67,137\n",
      "Trainable params: 67,137\n",
      "Non-trainable params: 0\n",
      "_________________________________________________________________\n"
     ]
    }
   ],
   "source": [
    "class TransformerEncoderLayer(Layer):\n",
    "    def __init__(self, embed_dim, num_heads, ff_dim, input_dim, rate=0.1, **kwargs):\n",
    "        super(TransformerEncoderLayer, self).__init__(**kwargs)\n",
    "        self.embed_dim = embed_dim\n",
    "        self.num_heads = num_heads\n",
    "        self.ff_dim = ff_dim\n",
    "        self.input_dim = input_dim\n",
    "        self.rate = rate\n",
    "        self.input_proj = Dense(embed_dim)\n",
    "        self.att = MultiHeadAttention(num_heads=num_heads, key_dim=embed_dim)\n",
    "        self.ffn = tf.keras.Sequential([\n",
    "            Dense(ff_dim, activation=\"relu\"),\n",
    "            Dense(embed_dim)\n",
    "        ])\n",
    "        self.layernorm1 = LayerNormalization(epsilon=1e-6)\n",
    "        self.layernorm2 = LayerNormalization(epsilon=1e-6)\n",
    "        self.dropout1 = Dropout(rate)\n",
    "        self.dropout2 = Dropout(rate)\n",
    "\n",
    "    def call(self, inputs, training=False):\n",
    "        inputs_proj = self.input_proj(inputs)\n",
    "        attn_output = self.att(inputs_proj, inputs_proj)\n",
    "        attn_output = self.dropout1(attn_output, training=training)\n",
    "        out1 = self.layernorm1(inputs_proj + attn_output)\n",
    "        ffn_output = self.ffn(out1)\n",
    "        ffn_output = self.dropout2(ffn_output, training=training)\n",
    "        return self.layernorm2(out1 + ffn_output)\n",
    "\n",
    "    def get_config(self):\n",
    "        config = super().get_config()\n",
    "        config.update({\n",
    "            'embed_dim': self.embed_dim,\n",
    "            'num_heads': self.num_heads,\n",
    "            'ff_dim': self.ff_dim,\n",
    "            'input_dim': self.input_dim,\n",
    "            'rate': self.rate\n",
    "        })\n",
    "        return config\n",
    "\n",
    "def build_model(input_shape, embed_dim, num_heads, ff_dim, rate=0.1):\n",
    "    inputs = tf.keras.Input(shape=input_shape)\n",
    "    x = TransformerEncoderLayer(embed_dim, num_heads, ff_dim, input_shape[-1], rate)(inputs)\n",
    "    x = Flatten()(x)\n",
    "    x = Dense(1, activation='linear')(x)\n",
    "    return tf.keras.Model(inputs=inputs, outputs=x)\n",
    "\n",
    "model = build_model((6, 2), embed_dim=64, num_heads=2, ff_dim=256)\n",
    "model.compile(loss='mse', optimizer='adam', metrics=['mae'])\n",
    "model.summary()"
   ]
  },
  {
   "cell_type": "code",
   "execution_count": 5,
   "id": "73f5a329-7500-46c5-86fe-dad78109b31a",
   "metadata": {},
   "outputs": [],
   "source": [
    "saved_model = \"2h_BZ_GSM1_transform.keras\"\n",
    "checkpoint = ModelCheckpoint(saved_model, monitor='val_mae', verbose=1, save_best_only=True, mode='min')\n",
    "early = EarlyStopping(monitor=\"val_mae\", mode=\"min\", patience=25)\n",
    "callbacks_list = [checkpoint, early]"
   ]
  },
  {
   "cell_type": "markdown",
   "id": "bcc027b6-80e9-42aa-b011-613260fc0c60",
   "metadata": {},
   "source": [
    "### Trénovanie"
   ]
  },
  {
   "cell_type": "code",
   "execution_count": 7,
   "id": "4af77537-6a82-4e7c-9458-9544487c1c5b",
   "metadata": {
    "collapsed": true,
    "jupyter": {
     "outputs_hidden": true
    },
    "tags": []
   },
   "outputs": [
    {
     "name": "stdout",
     "output_type": "stream",
     "text": [
      "Epoch 1/200\n",
      "896/896 [==============================] - ETA: 0s - loss: 164.0269 - mae: 7.1869\n",
      "Epoch 1: val_mae improved from inf to 7.12274, saving model to 2h_BZ_GSM1_transform.keras\n",
      "896/896 [==============================] - 26s 26ms/step - loss: 164.0269 - mae: 7.1869 - val_loss: 205.8634 - val_mae: 7.1227\n",
      "Epoch 2/200\n",
      "896/896 [==============================] - ETA: 0s - loss: 92.2213 - mae: 5.7459\n",
      "Epoch 2: val_mae did not improve from 7.12274\n",
      "896/896 [==============================] - 23s 25ms/step - loss: 92.2213 - mae: 5.7459 - val_loss: 404.0497 - val_mae: 12.6416\n",
      "Epoch 3/200\n",
      "895/896 [============================>.] - ETA: 0s - loss: 82.4003 - mae: 5.5883\n",
      "Epoch 3: val_mae improved from 7.12274 to 6.48450, saving model to 2h_BZ_GSM1_transform.keras\n",
      "896/896 [==============================] - 23s 26ms/step - loss: 82.3769 - mae: 5.5889 - val_loss: 132.3550 - val_mae: 6.4845\n",
      "Epoch 4/200\n",
      "895/896 [============================>.] - ETA: 0s - loss: 71.5551 - mae: 5.3422\n",
      "Epoch 4: val_mae improved from 6.48450 to 6.22533, saving model to 2h_BZ_GSM1_transform.keras\n",
      "896/896 [==============================] - 22s 25ms/step - loss: 71.5266 - mae: 5.3418 - val_loss: 122.1592 - val_mae: 6.2253\n",
      "Epoch 5/200\n",
      "895/896 [============================>.] - ETA: 0s - loss: 82.9794 - mae: 5.7399\n",
      "Epoch 5: val_mae improved from 6.22533 to 5.83738, saving model to 2h_BZ_GSM1_transform.keras\n",
      "896/896 [==============================] - 23s 26ms/step - loss: 82.9395 - mae: 5.7390 - val_loss: 110.0583 - val_mae: 5.8374\n",
      "Epoch 6/200\n",
      "895/896 [============================>.] - ETA: 0s - loss: 64.4663 - mae: 5.2060\n",
      "Epoch 6: val_mae improved from 5.83738 to 5.59124, saving model to 2h_BZ_GSM1_transform.keras\n",
      "896/896 [==============================] - 24s 27ms/step - loss: 64.4351 - mae: 5.2052 - val_loss: 99.9327 - val_mae: 5.5912\n",
      "Epoch 7/200\n",
      "894/896 [============================>.] - ETA: 0s - loss: 57.3212 - mae: 4.9754\n",
      "Epoch 7: val_mae improved from 5.59124 to 5.53565, saving model to 2h_BZ_GSM1_transform.keras\n",
      "896/896 [==============================] - 24s 27ms/step - loss: 57.3019 - mae: 4.9747 - val_loss: 93.9256 - val_mae: 5.5357\n",
      "Epoch 8/200\n",
      "894/896 [============================>.] - ETA: 0s - loss: 61.7374 - mae: 5.1258\n",
      "Epoch 8: val_mae did not improve from 5.53565\n",
      "896/896 [==============================] - 24s 26ms/step - loss: 61.8104 - mae: 5.1265 - val_loss: 299.7233 - val_mae: 8.7682\n",
      "Epoch 9/200\n",
      "894/896 [============================>.] - ETA: 0s - loss: 72.9346 - mae: 5.4837\n",
      "Epoch 9: val_mae did not improve from 5.53565\n",
      "896/896 [==============================] - 24s 27ms/step - loss: 72.8980 - mae: 5.4834 - val_loss: 94.2833 - val_mae: 5.5473\n",
      "Epoch 10/200\n",
      "896/896 [==============================] - ETA: 0s - loss: 58.3026 - mae: 5.0140\n",
      "Epoch 10: val_mae did not improve from 5.53565\n",
      "896/896 [==============================] - 23s 26ms/step - loss: 58.3026 - mae: 5.0140 - val_loss: 94.1265 - val_mae: 5.6363\n",
      "Epoch 11/200\n",
      "894/896 [============================>.] - ETA: 0s - loss: 55.2474 - mae: 4.8852\n",
      "Epoch 11: val_mae improved from 5.53565 to 5.46505, saving model to 2h_BZ_GSM1_transform.keras\n",
      "896/896 [==============================] - 24s 26ms/step - loss: 55.1838 - mae: 4.8826 - val_loss: 88.8345 - val_mae: 5.4651\n",
      "Epoch 12/200\n",
      "895/896 [============================>.] - ETA: 0s - loss: 53.7016 - mae: 4.8215\n",
      "Epoch 12: val_mae improved from 5.46505 to 5.44376, saving model to 2h_BZ_GSM1_transform.keras\n",
      "896/896 [==============================] - 24s 27ms/step - loss: 53.6810 - mae: 4.8212 - val_loss: 86.0642 - val_mae: 5.4438\n",
      "Epoch 13/200\n",
      "896/896 [==============================] - ETA: 0s - loss: 53.9237 - mae: 4.8486\n",
      "Epoch 13: val_mae did not improve from 5.44376\n",
      "896/896 [==============================] - 24s 26ms/step - loss: 53.9237 - mae: 4.8486 - val_loss: 98.8953 - val_mae: 6.1383\n",
      "Epoch 14/200\n",
      "895/896 [============================>.] - ETA: 0s - loss: 56.9973 - mae: 4.9603\n",
      "Epoch 14: val_mae did not improve from 5.44376\n",
      "896/896 [==============================] - 24s 26ms/step - loss: 57.6014 - mae: 4.9736 - val_loss: 162.0959 - val_mae: 7.9978\n",
      "Epoch 15/200\n",
      "896/896 [==============================] - ETA: 0s - loss: 55.2858 - mae: 4.8908\n",
      "Epoch 15: val_mae improved from 5.44376 to 5.38091, saving model to 2h_BZ_GSM1_transform.keras\n",
      "896/896 [==============================] - 23s 26ms/step - loss: 55.2858 - mae: 4.8908 - val_loss: 81.6110 - val_mae: 5.3809\n",
      "Epoch 16/200\n",
      "896/896 [==============================] - ETA: 0s - loss: 50.2493 - mae: 4.7266\n",
      "Epoch 16: val_mae did not improve from 5.38091\n",
      "896/896 [==============================] - 24s 27ms/step - loss: 50.2493 - mae: 4.7266 - val_loss: 82.5813 - val_mae: 5.3844\n",
      "Epoch 17/200\n",
      "896/896 [==============================] - ETA: 0s - loss: 51.8437 - mae: 4.7674\n",
      "Epoch 17: val_mae improved from 5.38091 to 5.34392, saving model to 2h_BZ_GSM1_transform.keras\n",
      "896/896 [==============================] - 24s 27ms/step - loss: 51.8437 - mae: 4.7674 - val_loss: 80.8699 - val_mae: 5.3439\n",
      "Epoch 18/200\n",
      "895/896 [============================>.] - ETA: 0s - loss: 50.6059 - mae: 4.7424\n",
      "Epoch 18: val_mae did not improve from 5.34392\n",
      "896/896 [==============================] - 24s 27ms/step - loss: 50.5801 - mae: 4.7415 - val_loss: 108.9627 - val_mae: 5.8535\n",
      "Epoch 19/200\n",
      "896/896 [==============================] - ETA: 0s - loss: 52.1122 - mae: 4.7702\n",
      "Epoch 19: val_mae improved from 5.34392 to 5.33832, saving model to 2h_BZ_GSM1_transform.keras\n",
      "896/896 [==============================] - 24s 27ms/step - loss: 52.1122 - mae: 4.7702 - val_loss: 82.2964 - val_mae: 5.3383\n",
      "Epoch 20/200\n",
      "894/896 [============================>.] - ETA: 0s - loss: 51.0510 - mae: 4.7446\n",
      "Epoch 20: val_mae did not improve from 5.33832\n",
      "896/896 [==============================] - 24s 26ms/step - loss: 51.1029 - mae: 4.7466 - val_loss: 85.0725 - val_mae: 5.4243\n",
      "Epoch 21/200\n",
      "896/896 [==============================] - ETA: 0s - loss: 51.7713 - mae: 4.7822\n",
      "Epoch 21: val_mae did not improve from 5.33832\n",
      "896/896 [==============================] - 24s 27ms/step - loss: 51.7713 - mae: 4.7822 - val_loss: 95.4980 - val_mae: 5.6054\n",
      "Epoch 22/200\n",
      "895/896 [============================>.] - ETA: 0s - loss: 55.8702 - mae: 4.8875\n",
      "Epoch 22: val_mae did not improve from 5.33832\n",
      "896/896 [==============================] - 24s 27ms/step - loss: 55.8374 - mae: 4.8865 - val_loss: 82.9067 - val_mae: 5.4083\n",
      "Epoch 23/200\n",
      "896/896 [==============================] - ETA: 0s - loss: 49.3990 - mae: 4.6617\n",
      "Epoch 23: val_mae did not improve from 5.33832\n",
      "896/896 [==============================] - 24s 27ms/step - loss: 49.3990 - mae: 4.6617 - val_loss: 82.5822 - val_mae: 5.5782\n",
      "Epoch 24/200\n",
      "896/896 [==============================] - ETA: 0s - loss: 51.9423 - mae: 4.7685\n",
      "Epoch 24: val_mae did not improve from 5.33832\n",
      "896/896 [==============================] - 24s 27ms/step - loss: 51.9423 - mae: 4.7685 - val_loss: 81.0617 - val_mae: 5.4498\n",
      "Epoch 25/200\n",
      "895/896 [============================>.] - ETA: 0s - loss: 48.7538 - mae: 4.6618\n",
      "Epoch 25: val_mae did not improve from 5.33832\n",
      "896/896 [==============================] - 24s 26ms/step - loss: 48.7597 - mae: 4.6627 - val_loss: 93.9938 - val_mae: 5.8128\n",
      "Epoch 26/200\n",
      "894/896 [============================>.] - ETA: 0s - loss: 54.8664 - mae: 4.8392\n",
      "Epoch 26: val_mae did not improve from 5.33832\n",
      "896/896 [==============================] - 23s 26ms/step - loss: 54.8678 - mae: 4.8395 - val_loss: 80.6622 - val_mae: 5.4033\n",
      "Epoch 27/200\n",
      "896/896 [==============================] - ETA: 0s - loss: 47.9885 - mae: 4.6161\n",
      "Epoch 27: val_mae did not improve from 5.33832\n",
      "896/896 [==============================] - 23s 26ms/step - loss: 47.9885 - mae: 4.6161 - val_loss: 86.9932 - val_mae: 5.6629\n",
      "Epoch 28/200\n",
      "894/896 [============================>.] - ETA: 0s - loss: 49.6729 - mae: 4.6794\n",
      "Epoch 28: val_mae did not improve from 5.33832\n",
      "896/896 [==============================] - 24s 27ms/step - loss: 49.6413 - mae: 4.6785 - val_loss: 83.3420 - val_mae: 5.4939\n",
      "Epoch 29/200\n",
      "896/896 [==============================] - ETA: 0s - loss: 50.3433 - mae: 4.7090\n",
      "Epoch 29: val_mae did not improve from 5.33832\n",
      "896/896 [==============================] - 24s 27ms/step - loss: 50.3433 - mae: 4.7090 - val_loss: 79.5229 - val_mae: 5.4044\n",
      "Epoch 30/200\n",
      "895/896 [============================>.] - ETA: 0s - loss: 49.8365 - mae: 4.6849\n",
      "Epoch 30: val_mae improved from 5.33832 to 5.31338, saving model to 2h_BZ_GSM1_transform.keras\n",
      "896/896 [==============================] - 24s 26ms/step - loss: 49.7986 - mae: 4.6831 - val_loss: 77.0431 - val_mae: 5.3134\n",
      "Epoch 31/200\n",
      "895/896 [============================>.] - ETA: 0s - loss: 50.1863 - mae: 4.7135\n",
      "Epoch 31: val_mae did not improve from 5.31338\n",
      "896/896 [==============================] - 23s 25ms/step - loss: 50.1629 - mae: 4.7129 - val_loss: 80.5691 - val_mae: 5.4896\n",
      "Epoch 32/200\n",
      "895/896 [============================>.] - ETA: 0s - loss: 48.7765 - mae: 4.6320\n",
      "Epoch 32: val_mae did not improve from 5.31338\n",
      "896/896 [==============================] - 24s 27ms/step - loss: 48.7959 - mae: 4.6330 - val_loss: 78.2331 - val_mae: 5.4468\n",
      "Epoch 33/200\n",
      "896/896 [==============================] - ETA: 0s - loss: 48.9514 - mae: 4.6614\n",
      "Epoch 33: val_mae improved from 5.31338 to 5.29078, saving model to 2h_BZ_GSM1_transform.keras\n",
      "896/896 [==============================] - 24s 27ms/step - loss: 48.9514 - mae: 4.6614 - val_loss: 76.4078 - val_mae: 5.2908\n",
      "Epoch 34/200\n",
      "895/896 [============================>.] - ETA: 0s - loss: 48.8986 - mae: 4.6599\n",
      "Epoch 34: val_mae did not improve from 5.29078\n",
      "896/896 [==============================] - 23s 26ms/step - loss: 49.1206 - mae: 4.6660 - val_loss: 79.4046 - val_mae: 5.4772\n",
      "Epoch 35/200\n",
      "896/896 [==============================] - ETA: 0s - loss: 51.6053 - mae: 4.7395\n",
      "Epoch 35: val_mae did not improve from 5.29078\n",
      "896/896 [==============================] - 24s 27ms/step - loss: 51.6053 - mae: 4.7395 - val_loss: 81.8130 - val_mae: 5.4489\n",
      "Epoch 36/200\n",
      "896/896 [==============================] - ETA: 0s - loss: 48.8626 - mae: 4.6377\n",
      "Epoch 36: val_mae did not improve from 5.29078\n",
      "896/896 [==============================] - 24s 27ms/step - loss: 48.8626 - mae: 4.6377 - val_loss: 81.5866 - val_mae: 5.4810\n",
      "Epoch 37/200\n",
      "896/896 [==============================] - ETA: 0s - loss: 47.7663 - mae: 4.5933\n",
      "Epoch 37: val_mae did not improve from 5.29078\n",
      "896/896 [==============================] - 24s 27ms/step - loss: 47.7663 - mae: 4.5933 - val_loss: 81.3563 - val_mae: 5.4615\n",
      "Epoch 38/200\n",
      "895/896 [============================>.] - ETA: 0s - loss: 48.7123 - mae: 4.6298\n",
      "Epoch 38: val_mae did not improve from 5.29078\n",
      "896/896 [==============================] - 24s 27ms/step - loss: 48.6992 - mae: 4.6291 - val_loss: 118.1630 - val_mae: 6.5149\n",
      "Epoch 39/200\n",
      "896/896 [==============================] - ETA: 0s - loss: 48.5502 - mae: 4.6378\n",
      "Epoch 39: val_mae did not improve from 5.29078\n",
      "896/896 [==============================] - 25s 28ms/step - loss: 48.5502 - mae: 4.6378 - val_loss: 96.6658 - val_mae: 5.6449\n",
      "Epoch 40/200\n",
      "896/896 [==============================] - ETA: 0s - loss: 47.7180 - mae: 4.6020\n",
      "Epoch 40: val_mae did not improve from 5.29078\n",
      "896/896 [==============================] - 23s 26ms/step - loss: 47.7180 - mae: 4.6020 - val_loss: 83.8868 - val_mae: 5.6232\n",
      "Epoch 41/200\n",
      "895/896 [============================>.] - ETA: 0s - loss: 50.5143 - mae: 4.7122\n",
      "Epoch 41: val_mae did not improve from 5.29078\n",
      "896/896 [==============================] - 24s 27ms/step - loss: 50.4819 - mae: 4.7109 - val_loss: 76.6092 - val_mae: 5.3055\n",
      "Epoch 42/200\n",
      "894/896 [============================>.] - ETA: 0s - loss: 47.1875 - mae: 4.5640\n",
      "Epoch 42: val_mae did not improve from 5.29078\n",
      "896/896 [==============================] - 22s 25ms/step - loss: 47.2196 - mae: 4.5649 - val_loss: 76.2066 - val_mae: 5.3533\n",
      "Epoch 43/200\n",
      "894/896 [============================>.] - ETA: 0s - loss: 47.6334 - mae: 4.5924\n",
      "Epoch 43: val_mae did not improve from 5.29078\n",
      "896/896 [==============================] - 24s 27ms/step - loss: 47.6340 - mae: 4.5935 - val_loss: 121.5905 - val_mae: 6.6306\n",
      "Epoch 44/200\n",
      "894/896 [============================>.] - ETA: 0s - loss: 52.1121 - mae: 4.7332\n",
      "Epoch 44: val_mae did not improve from 5.29078\n",
      "896/896 [==============================] - 24s 27ms/step - loss: 52.0923 - mae: 4.7327 - val_loss: 77.7121 - val_mae: 5.3654\n",
      "Epoch 45/200\n",
      "894/896 [============================>.] - ETA: 0s - loss: 46.7263 - mae: 4.5581\n",
      "Epoch 45: val_mae did not improve from 5.29078\n",
      "896/896 [==============================] - 24s 27ms/step - loss: 46.7134 - mae: 4.5574 - val_loss: 76.3866 - val_mae: 5.4183\n",
      "Epoch 46/200\n",
      "894/896 [============================>.] - ETA: 0s - loss: 47.0021 - mae: 4.5654\n",
      "Epoch 46: val_mae did not improve from 5.29078\n",
      "896/896 [==============================] - 23s 26ms/step - loss: 46.9454 - mae: 4.5632 - val_loss: 111.5344 - val_mae: 5.8845\n",
      "Epoch 47/200\n",
      "895/896 [============================>.] - ETA: 0s - loss: 49.3129 - mae: 4.6509\n",
      "Epoch 47: val_mae did not improve from 5.29078\n",
      "896/896 [==============================] - 24s 27ms/step - loss: 49.3030 - mae: 4.6509 - val_loss: 76.4841 - val_mae: 5.3703\n",
      "Epoch 48/200\n",
      "895/896 [============================>.] - ETA: 0s - loss: 48.7618 - mae: 4.6260\n",
      "Epoch 48: val_mae did not improve from 5.29078\n",
      "896/896 [==============================] - 24s 27ms/step - loss: 48.7463 - mae: 4.6252 - val_loss: 74.8277 - val_mae: 5.3216\n",
      "Epoch 49/200\n",
      "894/896 [============================>.] - ETA: 0s - loss: 45.9323 - mae: 4.5223\n",
      "Epoch 49: val_mae did not improve from 5.29078\n",
      "896/896 [==============================] - 24s 27ms/step - loss: 45.9243 - mae: 4.5229 - val_loss: 77.2736 - val_mae: 5.3577\n",
      "Epoch 50/200\n",
      "896/896 [==============================] - ETA: 0s - loss: 46.9281 - mae: 4.5727\n",
      "Epoch 50: val_mae did not improve from 5.29078\n",
      "896/896 [==============================] - 24s 27ms/step - loss: 46.9281 - mae: 4.5727 - val_loss: 88.6842 - val_mae: 5.6027\n",
      "Epoch 51/200\n",
      "896/896 [==============================] - ETA: 0s - loss: 47.9338 - mae: 4.5929\n",
      "Epoch 51: val_mae did not improve from 5.29078\n",
      "896/896 [==============================] - 23s 26ms/step - loss: 47.9338 - mae: 4.5929 - val_loss: 76.5575 - val_mae: 5.3958\n",
      "Epoch 52/200\n",
      "894/896 [============================>.] - ETA: 0s - loss: 46.9633 - mae: 4.5732\n",
      "Epoch 52: val_mae did not improve from 5.29078\n",
      "896/896 [==============================] - 24s 27ms/step - loss: 46.9662 - mae: 4.5736 - val_loss: 80.2588 - val_mae: 5.4242\n",
      "Epoch 53/200\n",
      "894/896 [============================>.] - ETA: 0s - loss: 46.9794 - mae: 4.5624\n",
      "Epoch 53: val_mae did not improve from 5.29078\n",
      "896/896 [==============================] - 24s 26ms/step - loss: 47.0922 - mae: 4.5658 - val_loss: 76.9078 - val_mae: 5.5090\n",
      "Epoch 54/200\n",
      "896/896 [==============================] - ETA: 0s - loss: 49.5184 - mae: 4.6379\n",
      "Epoch 54: val_mae did not improve from 5.29078\n",
      "896/896 [==============================] - 23s 26ms/step - loss: 49.5184 - mae: 4.6379 - val_loss: 75.2307 - val_mae: 5.4205\n",
      "Epoch 55/200\n",
      "894/896 [============================>.] - ETA: 0s - loss: 46.3649 - mae: 4.5318\n",
      "Epoch 55: val_mae did not improve from 5.29078\n",
      "896/896 [==============================] - 23s 26ms/step - loss: 46.3406 - mae: 4.5313 - val_loss: 78.3754 - val_mae: 5.4445\n",
      "Epoch 56/200\n",
      "895/896 [============================>.] - ETA: 0s - loss: 46.9662 - mae: 4.5744\n",
      "Epoch 56: val_mae did not improve from 5.29078\n",
      "896/896 [==============================] - 23s 25ms/step - loss: 46.9415 - mae: 4.5735 - val_loss: 75.3353 - val_mae: 5.4190\n",
      "Epoch 57/200\n",
      "893/896 [============================>.] - ETA: 0s - loss: 46.4829 - mae: 4.5414\n",
      "Epoch 57: val_mae did not improve from 5.29078\n",
      "896/896 [==============================] - 20s 23ms/step - loss: 46.4179 - mae: 4.5394 - val_loss: 75.8156 - val_mae: 5.4274\n",
      "Epoch 58/200\n",
      "895/896 [============================>.] - ETA: 0s - loss: 47.1169 - mae: 4.5756\n",
      "Epoch 58: val_mae did not improve from 5.29078\n",
      "896/896 [==============================] - 21s 24ms/step - loss: 47.1044 - mae: 4.5757 - val_loss: 77.4513 - val_mae: 5.4966\n"
     ]
    }
   ],
   "source": [
    "history = model.fit(train_generator, validation_data=val_generator, epochs=200, verbose=1, callbacks = callbacks_list)"
   ]
  },
  {
   "cell_type": "markdown",
   "id": "4eb90006-ee51-4067-bcf2-eb7371e2bf8b",
   "metadata": {},
   "source": [
    "### Načítanie najlepšieho modelu"
   ]
  },
  {
   "cell_type": "code",
   "execution_count": 6,
   "id": "b78c14eb-8ccc-484d-9559-e341a22d30a4",
   "metadata": {},
   "outputs": [],
   "source": [
    "model = keras.models.load_model(\n",
    "    '2h_BZ_GSM1_transform.keras', \n",
    "    custom_objects={'TransformerEncoderLayer': TransformerEncoderLayer}\n",
    ")"
   ]
  },
  {
   "cell_type": "markdown",
   "id": "629a3096-c162-4a7c-a091-38e3c76146c4",
   "metadata": {},
   "source": [
    "### Vytvorenie predikcií"
   ]
  },
  {
   "cell_type": "code",
   "execution_count": 9,
   "id": "13e782d2-d0ab-4c3a-8f7c-386ac7f4170b",
   "metadata": {},
   "outputs": [
    {
     "name": "stdout",
     "output_type": "stream",
     "text": [
      "633/633 [==============================] - 6s 9ms/step\n"
     ]
    }
   ],
   "source": [
    "y_pred = model.predict(test_generator)"
   ]
  },
  {
   "cell_type": "markdown",
   "id": "3e77cfbb-417f-4aa8-863b-20e1ce99989a",
   "metadata": {},
   "source": [
    "### Nájdenie optimálneho thresholdu na validačnej sade"
   ]
  },
  {
   "cell_type": "code",
   "execution_count": 12,
   "id": "cb7a11e3-8958-46db-b650-8d32a26fc6c4",
   "metadata": {},
   "outputs": [
    {
     "name": "stdout",
     "output_type": "stream",
     "text": [
      "224/224 [==============================] - 2s 9ms/step\n",
      "Best Threshold for MCC on Validation Set: -19.699999999999967\n",
      "Best MCC on Validation Set: 0.8367019527448712\n"
     ]
    }
   ],
   "source": [
    "y_val_pred = model.predict(val_generator)\n",
    "\n",
    "true_labels_val = np.where(y_val[n_input:] <= -20, 1, 0)  # Adjust n_input as per your setup\n",
    "\n",
    "def calculate_mcc(y_true, y_pred):\n",
    "    return matthews_corrcoef(y_true, y_pred)\n",
    "\n",
    "thresholds = np.arange(-10, -40, -0.1)\n",
    "mcc_scores = []\n",
    "\n",
    "for thresh in thresholds:\n",
    "    predictions = np.where(y_val_pred <= thresh, 1, 0)\n",
    "    mcc = calculate_mcc(true_labels_val, predictions)\n",
    "    mcc_scores.append(mcc)\n",
    "\n",
    "best_threshold_mcc = thresholds[np.argmax(mcc_scores)]\n",
    "best_mcc = max(mcc_scores)\n",
    "\n",
    "print(\"Best Threshold for MCC on Validation Set:\", best_threshold_mcc)\n",
    "print(\"Best MCC on Validation Set:\", best_mcc)\n",
    "best_threshold_mcc_rounded = round(best_threshold_mcc, 1)"
   ]
  },
  {
   "cell_type": "markdown",
   "id": "6551fcb5-ff2d-4b56-8697-e45a471c18b0",
   "metadata": {},
   "source": [
    "### Výpočet metrík, vykreslenie grafu predikcie a uloženie predikcií"
   ]
  },
  {
   "cell_type": "code",
   "execution_count": 10,
   "id": "8f25268a-3f2d-48fd-9bb8-81f977e9a3f1",
   "metadata": {},
   "outputs": [],
   "source": [
    "from sklearn.metrics import mean_squared_error"
   ]
  },
  {
   "cell_type": "code",
   "execution_count": 11,
   "id": "739dc0d2-c9d1-4bc2-8498-f7810f9cd71b",
   "metadata": {},
   "outputs": [
    {
     "name": "stdout",
     "output_type": "stream",
     "text": [
      "Mean Squared Error: 86.92352973370119\n"
     ]
    }
   ],
   "source": [
    "mse = mean_squared_error(y_test[:-6], y_pred.reshape(-1))\n",
    "print(f\"Mean Squared Error: {mse}\")"
   ]
  },
  {
   "cell_type": "code",
   "execution_count": 13,
   "id": "39a3ac73-fafc-477e-a24b-b41c043c5cb1",
   "metadata": {
    "tags": []
   },
   "outputs": [
    {
     "name": "stdout",
     "output_type": "stream",
     "text": [
      "Confusion matrix: \n",
      "[[126061   3925]\n",
      " [  5551  26493]]\n"
     ]
    }
   ],
   "source": [
    "y_pred2 = np.where(y_pred <= best_threshold_mcc_rounded, 1, 0)\n",
    "y_test2 = np.where(y_test[n_input:]  <= -20, 1, 0)\n",
    "\n",
    "cm = confusion_matrix(y_test2, y_pred2)\n",
    "print(\"Confusion matrix: \\n\" + str(cm))\n"
   ]
  },
  {
   "cell_type": "code",
   "execution_count": 14,
   "id": "f57667b1-0b84-4f96-acb4-c987cfa274db",
   "metadata": {},
   "outputs": [
    {
     "name": "stdout",
     "output_type": "stream",
     "text": [
      "              precision    recall  f1-score   support\n",
      "\n",
      "           0       0.96      0.97      0.96    129986\n",
      "           1       0.87      0.83      0.85     32044\n",
      "\n",
      "    accuracy                           0.94    162030\n",
      "   macro avg       0.91      0.90      0.91    162030\n",
      "weighted avg       0.94      0.94      0.94    162030\n",
      "\n"
     ]
    }
   ],
   "source": [
    "print(classification_report(y_test2, y_pred2))"
   ]
  },
  {
   "cell_type": "code",
   "execution_count": 15,
   "id": "41d8dfe6-942f-4059-aabb-b20ed3607243",
   "metadata": {},
   "outputs": [
    {
     "data": {
      "image/png": "[encoded data removed]",
      "text/plain": [
       "<Figure size 640x480 with 1 Axes>"
      ]
     },
     "metadata": {},
     "output_type": "display_data"
    }
   ],
   "source": [
    "df = pd.DataFrame(data={\"time\": test['time1'][n_input:],\"y_true\": y_test[n_input:].reshape(-1) , \"y_predict\": y_pred.reshape(-1)})\n",
    "\n",
    "plt.figure()\n",
    "plt.title('Predicting the change in DST Index')\n",
    "plt.plot(df['time'],df['y_true'], label='Skutočné hodnoty')\n",
    "plt.plot(df['time'],df['y_predict'], label='Predikované hodnoty')\n",
    "plt.legend()\n",
    "plt.gcf().autofmt_xdate()\n",
    "plt.grid(True)"
   ]
  },
  {
   "cell_type": "code",
   "execution_count": 16,
   "id": "1a1e9c8e-27df-42d2-933b-b5bfc0682e39",
   "metadata": {},
   "outputs": [],
   "source": [
    "df.to_csv('Transform_BZ2.csv')"
   ]
  },
  {
   "cell_type": "code",
   "execution_count": 17,
   "id": "6a516fdf-1ce9-4328-a1e6-85aba7cfd968",
   "metadata": {},
   "outputs": [
    {
     "name": "stdout",
     "output_type": "stream",
     "text": [
      "ACC=0.9415170030241313\n",
      "MCC=0.8125210893916517\n"
     ]
    }
   ],
   "source": [
    "TN, FP, FN, TP = cm.ravel()\n",
    "ACC = (TP + TN) / (TP + TN + FP + FN)\n",
    "MCC = matthews_corrcoef(y_test2, y_pred2)\n",
    "print(\"ACC={}\".format(ACC))\n",
    "print(\"MCC={}\".format(MCC))"
   ]
  }
 ],
 "metadata": {
  "kernelspec": {
   "display_name": "Python 3 (ipykernel)",
   "language": "python",
   "name": "python3"
  },
  "language_info": {
   "codemirror_mode": {
    "name": "ipython",
    "version": 3
   },
   "file_extension": ".py",
   "mimetype": "text/x-python",
   "name": "python",
   "nbconvert_exporter": "python",
   "pygments_lexer": "ipython3",
   "version": "3.10.6"
  }
 },
 "nbformat": 4,
 "nbformat_minor": 5
}
