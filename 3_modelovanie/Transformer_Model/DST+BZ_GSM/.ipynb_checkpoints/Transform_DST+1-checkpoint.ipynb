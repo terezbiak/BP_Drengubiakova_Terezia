{
 "cells": [
  {
   "cell_type": "markdown",
   "id": "8b749c2b-341b-4cde-9481-ffa3d2d30da6",
   "metadata": {},
   "source": [
    "## Model na predikciu DST za pomoci použitia atribútu DST a BZ_GMS o 1 hodinu dopredu"
   ]
  },
  {
   "cell_type": "markdown",
   "id": "cd2cd492-bd0f-48c3-92ff-7083d3923632",
   "metadata": {},
   "source": [
    "Súbor: Transform_DST+1.ipynb\n",
    "\n",
    "Program: Hospodárska informatika\n",
    "\n",
    "Vypracovala: Terézia Drengubiaková\n",
    "\n",
    "Bakalárska práca: : Prediktívne modely v spracovaní dát z oblasti kozmického počasia\n",
    "\n",
    "Vedúci diplomovej práce: doc. Ing. Peter Butka, PhD.\n",
    "\n",
    "Konzultanti: Ing. Viera Krešňáková, PhD., RNDr. Šimon Mackovjak, PhD."
   ]
  },
  {
   "cell_type": "markdown",
   "id": "1e55dfe8-088d-4067-b7af-0593d33c3763",
   "metadata": {},
   "source": [
    "### Import knižníc"
   ]
  },
  {
   "cell_type": "code",
   "execution_count": 1,
   "id": "bcb62d07-67a4-406c-b1cb-8e933d5b0bf4",
   "metadata": {},
   "outputs": [
    {
     "name": "stderr",
     "output_type": "stream",
     "text": [
      "2024-05-17 15:24:01.700219: I tensorflow/core/platform/cpu_feature_guard.cc:193] This TensorFlow binary is optimized with oneAPI Deep Neural Network Library (oneDNN) to use the following CPU instructions in performance-critical operations:  SSE4.1 SSE4.2 AVX AVX2 FMA\n",
      "To enable them in other operations, rebuild TensorFlow with the appropriate compiler flags.\n"
     ]
    }
   ],
   "source": [
    "import pandas as pd\n",
    "import numpy as np\n",
    "from tensorflow import keras\n",
    "import matplotlib.pyplot as plt\n",
    "from sklearn.preprocessing import MinMaxScaler, StandardScaler\n",
    "from pandas.plotting import register_matplotlib_converters\n",
    "register_matplotlib_converters()\n",
    "import seaborn as sns\n",
    "\n",
    "from tensorflow.keras.preprocessing.sequence import TimeseriesGenerator\n",
    "from keras.models import Sequential\n",
    "\n",
    "from keras.layers import Dense, Activation, Dropout, Input, Conv1D, LSTM, MaxPooling1D, Flatten, TimeDistributed, Bidirectional\n",
    "from tensorflow.keras.callbacks import ModelCheckpoint, EarlyStopping\n",
    "from keras.models import Model\n",
    "\n",
    "\n",
    "from scipy.special import expit, logit\n",
    "\n",
    "from sklearn.metrics import confusion_matrix, classification_report, matthews_corrcoef\n",
    "import tensorflow as tf\n",
    "from tensorflow.keras.layers import Layer, MultiHeadAttention, Dropout, LayerNormalization, Dense\n",
    "from tensorflow.keras.layers import MultiHeadAttention, Dense, Input, LayerNormalization, Dropout\n",
    "from tensorflow.keras.models import Model"
   ]
  },
  {
   "cell_type": "markdown",
   "id": "dd73de58-873a-456e-8f11-5c8bf32b27cc",
   "metadata": {},
   "source": [
    "### Načítanie dát, odstránenie na hodnôt, určenie predikovaného atribútu"
   ]
  },
  {
   "cell_type": "code",
   "execution_count": 2,
   "id": "1505d839-8601-4069-b902-29974b8d3285",
   "metadata": {},
   "outputs": [],
   "source": [
    "train = pd.read_csv('train_omni.csv')\n",
    "test = pd.read_csv('test_omni.csv')\n",
    "train['BZ_GSM'] = train['BZ_GSM'].fillna(train['BZ_GSM'].mean()) \n",
    "test['BZ_GSM'] = test['BZ_GSM'].fillna(test['BZ_GSM'].mean())\n",
    "features = ['time1', 'DST', 'DST+1', 'BZ_GSM']\n",
    "test = test[features]\n",
    "train = train[features]\n",
    "train['time1']=pd.to_datetime(train['time1'])\n",
    "test['time1']=pd.to_datetime(test['time1'])\n",
    "predicators = [\"DST\", \"BZ_GSM\"]\n",
    "y_col='DST+1'\n",
    "\n",
    "valid_size = int(len(train) * 0.2)\n",
    "valid = train.iloc[-valid_size:,:].copy()\n",
    "train = train.iloc[:-valid_size,:].copy()\n",
    "\n",
    "y_train = train[y_col].values.copy()\n",
    "X_train = train[predicators].values.copy()\n",
    "y_val = valid[y_col].values.copy()\n",
    "X_val = valid[predicators].values.copy()\n",
    "y_test = test[y_col].values.copy()\n",
    "X_test = test[predicators].values.copy()"
   ]
  },
  {
   "cell_type": "markdown",
   "id": "5b212325-0e65-4b91-adb9-377008ce4abb",
   "metadata": {},
   "source": [
    "### Definícia premenných a vytvorenie dátových generátorov"
   ]
  },
  {
   "cell_type": "code",
   "execution_count": 3,
   "id": "27f1b1d3-1433-4f87-a1d1-19536f3eb578",
   "metadata": {},
   "outputs": [],
   "source": [
    "n_input = 6 \n",
    "n_features= len(X_train)  \n",
    "b_size = 256 \n",
    "\n",
    "train_generator = TimeseriesGenerator(X_train, y_train, length=n_input, batch_size=b_size)\n",
    "val_generator = TimeseriesGenerator(X_val, y_val, length=n_input, batch_size=b_size)\n",
    "test_generator = TimeseriesGenerator(X_test, y_test, length=n_input, batch_size=256)"
   ]
  },
  {
   "cell_type": "code",
   "execution_count": 4,
   "id": "693aa2d7-b810-4beb-97d2-aea3b78109da",
   "metadata": {},
   "outputs": [
    {
     "name": "stdout",
     "output_type": "stream",
     "text": [
      "Počet batchov:  896\n",
      "Každý batch má features (X zložku) a labels (y zložku):  2\n",
      "Dĺžka X zložky batchu:  256\n",
      "Dĺžka y zložky batchu (počet meraní v batchi):  256\n",
      "Počet riadkov braných do úvahy pre jedno meranie (koľko sa pozerá dozadu):  6\n"
     ]
    }
   ],
   "source": [
    "print(\"Počet batchov: \", len(train_generator))\n",
    "print(\"Každý batch má features (X zložku) a labels (y zložku): \", len(train_generator[0]))\n",
    "print(\"Dĺžka X zložky batchu: \", len(train_generator[0][0]))\n",
    "print(\"Dĺžka y zložky batchu (počet meraní v batchi): \",len(train_generator[0][1]))\n",
    "print(\"Počet riadkov braných do úvahy pre jedno meranie (koľko sa pozerá dozadu): \", len(train_generator[0][0][0]))"
   ]
  },
  {
   "cell_type": "markdown",
   "id": "54d253eb-2ba3-45e2-b748-b0304b71636b",
   "metadata": {},
   "source": [
    "### Vytvorenie modelu"
   ]
  },
  {
   "cell_type": "code",
   "execution_count": 5,
   "id": "1ffc6acc-22ab-4a78-bc3c-adecf6f8f28d",
   "metadata": {},
   "outputs": [
    {
     "name": "stderr",
     "output_type": "stream",
     "text": [
      "2024-05-17 15:24:09.752969: I tensorflow/core/platform/cpu_feature_guard.cc:193] This TensorFlow binary is optimized with oneAPI Deep Neural Network Library (oneDNN) to use the following CPU instructions in performance-critical operations:  SSE4.1 SSE4.2 AVX AVX2 FMA\n",
      "To enable them in other operations, rebuild TensorFlow with the appropriate compiler flags.\n"
     ]
    },
    {
     "name": "stdout",
     "output_type": "stream",
     "text": [
      "Model: \"model\"\n",
      "_________________________________________________________________\n",
      " Layer (type)                Output Shape              Param #   \n",
      "=================================================================\n",
      " input_1 (InputLayer)        [(None, 6, 2)]            0         \n",
      "                                                                 \n",
      " transformer_encoder_layer (  (None, 6, 64)            66752     \n",
      " TransformerEncoderLayer)                                        \n",
      "                                                                 \n",
      " flatten (Flatten)           (None, 384)               0         \n",
      "                                                                 \n",
      " dense_3 (Dense)             (None, 1)                 385       \n",
      "                                                                 \n",
      "=================================================================\n",
      "Total params: 67,137\n",
      "Trainable params: 67,137\n",
      "Non-trainable params: 0\n",
      "_________________________________________________________________\n"
     ]
    }
   ],
   "source": [
    "class TransformerEncoderLayer(Layer):\n",
    "    def __init__(self, embed_dim, num_heads, ff_dim, input_dim, rate=0.1, **kwargs):\n",
    "        super(TransformerEncoderLayer, self).__init__(**kwargs)\n",
    "        self.embed_dim = embed_dim\n",
    "        self.num_heads = num_heads\n",
    "        self.ff_dim = ff_dim\n",
    "        self.input_dim = input_dim\n",
    "        self.rate = rate\n",
    "        self.input_proj = Dense(embed_dim)\n",
    "        self.att = MultiHeadAttention(num_heads=num_heads, key_dim=embed_dim)\n",
    "        self.ffn = tf.keras.Sequential([\n",
    "            Dense(ff_dim, activation=\"relu\"),\n",
    "            Dense(embed_dim)\n",
    "        ])\n",
    "        self.layernorm1 = LayerNormalization(epsilon=1e-6)\n",
    "        self.layernorm2 = LayerNormalization(epsilon=1e-6)\n",
    "        self.dropout1 = Dropout(rate)\n",
    "        self.dropout2 = Dropout(rate)\n",
    "\n",
    "    def call(self, inputs, training=False):\n",
    "        inputs_proj = self.input_proj(inputs)\n",
    "        attn_output = self.att(inputs_proj, inputs_proj)\n",
    "        attn_output = self.dropout1(attn_output, training=training)\n",
    "        out1 = self.layernorm1(inputs_proj + attn_output)\n",
    "        ffn_output = self.ffn(out1)\n",
    "        ffn_output = self.dropout2(ffn_output, training=training)\n",
    "        return self.layernorm2(out1 + ffn_output)\n",
    "\n",
    "    def get_config(self):\n",
    "        config = super().get_config()\n",
    "        config.update({\n",
    "            'embed_dim': self.embed_dim,\n",
    "            'num_heads': self.num_heads,\n",
    "            'ff_dim': self.ff_dim,\n",
    "            'input_dim': self.input_dim,\n",
    "            'rate': self.rate\n",
    "        })\n",
    "        return config\n",
    "\n",
    "def build_model(input_shape, embed_dim, num_heads, ff_dim, rate=0.1):\n",
    "    inputs = tf.keras.Input(shape=input_shape)\n",
    "    x = TransformerEncoderLayer(embed_dim, num_heads, ff_dim, input_shape[-1], rate)(inputs)\n",
    "    x = Flatten()(x)\n",
    "    x = Dense(1, activation='linear')(x)\n",
    "    return tf.keras.Model(inputs=inputs, outputs=x)\n",
    "\n",
    "model = build_model((6, 2), embed_dim=64, num_heads=2, ff_dim=256)\n",
    "model.compile(loss='mse', optimizer='adam', metrics=['mae'])\n",
    "model.summary()"
   ]
  },
  {
   "cell_type": "code",
   "execution_count": 6,
   "id": "73f5a329-7500-46c5-86fe-dad78109b31a",
   "metadata": {},
   "outputs": [],
   "source": [
    "saved_model = \"1h_BZ_GSM1_transform.keras\"\n",
    "checkpoint = ModelCheckpoint(saved_model, monitor='val_mae', verbose=1, save_best_only=True, mode='min')\n",
    "early = EarlyStopping(monitor=\"val_mae\", mode=\"min\", patience=25)\n",
    "callbacks_list = [checkpoint, early]"
   ]
  },
  {
   "cell_type": "markdown",
   "id": "d67ea99e-941f-4823-9299-c0953ff21f33",
   "metadata": {},
   "source": [
    "### Trénovanie"
   ]
  },
  {
   "cell_type": "code",
   "execution_count": 7,
   "id": "4af77537-6a82-4e7c-9458-9544487c1c5b",
   "metadata": {
    "collapsed": true,
    "jupyter": {
     "outputs_hidden": true
    },
    "tags": []
   },
   "outputs": [
    {
     "name": "stdout",
     "output_type": "stream",
     "text": [
      "Epoch 1/200\n",
      "895/896 [============================>.] - ETA: 0s - loss: 165.1812 - mae: 6.5620\n",
      "Epoch 1: val_mae improved from inf to 9.84148, saving model to 1h_BZ_GSM1_transform.keras\n",
      "896/896 [==============================] - 22s 22ms/step - loss: 165.0973 - mae: 6.5641 - val_loss: 222.3323 - val_mae: 9.8415\n",
      "Epoch 2/200\n",
      "895/896 [============================>.] - ETA: 0s - loss: 64.5281 - mae: 4.3962\n",
      "Epoch 2: val_mae improved from 9.84148 to 4.67440, saving model to 1h_BZ_GSM1_transform.keras\n",
      "896/896 [==============================] - 20s 22ms/step - loss: 64.5655 - mae: 4.3977 - val_loss: 108.7333 - val_mae: 4.6744\n",
      "Epoch 3/200\n",
      "895/896 [============================>.] - ETA: 0s - loss: 50.0941 - mae: 4.0023\n",
      "Epoch 3: val_mae did not improve from 4.67440\n",
      "896/896 [==============================] - 19s 21ms/step - loss: 50.1825 - mae: 4.0063 - val_loss: 197.9658 - val_mae: 7.5890\n",
      "Epoch 4/200\n",
      "893/896 [============================>.] - ETA: 0s - loss: 48.2458 - mae: 4.1122\n",
      "Epoch 4: val_mae improved from 4.67440 to 4.12805, saving model to 1h_BZ_GSM1_transform.keras\n",
      "896/896 [==============================] - 19s 21ms/step - loss: 48.1492 - mae: 4.1093 - val_loss: 67.2220 - val_mae: 4.1280\n",
      "Epoch 5/200\n",
      "896/896 [==============================] - ETA: 0s - loss: 42.7475 - mae: 3.9574\n",
      "Epoch 5: val_mae did not improve from 4.12805\n",
      "896/896 [==============================] - 19s 21ms/step - loss: 42.7475 - mae: 3.9574 - val_loss: 72.8366 - val_mae: 4.4485\n",
      "Epoch 6/200\n",
      "896/896 [==============================] - ETA: 0s - loss: 51.3802 - mae: 4.0803\n",
      "Epoch 6: val_mae did not improve from 4.12805\n",
      "896/896 [==============================] - 19s 21ms/step - loss: 51.3802 - mae: 4.0803 - val_loss: 100.9023 - val_mae: 5.1231\n",
      "Epoch 7/200\n",
      "896/896 [==============================] - ETA: 0s - loss: 57.0306 - mae: 4.2723\n",
      "Epoch 7: val_mae did not improve from 4.12805\n",
      "896/896 [==============================] - 19s 21ms/step - loss: 57.0306 - mae: 4.2723 - val_loss: 93.1662 - val_mae: 5.1077\n",
      "Epoch 8/200\n",
      "895/896 [============================>.] - ETA: 0s - loss: 36.6802 - mae: 3.7112\n",
      "Epoch 8: val_mae did not improve from 4.12805\n",
      "896/896 [==============================] - 21s 23ms/step - loss: 36.6526 - mae: 3.7098 - val_loss: 65.5033 - val_mae: 4.3208\n",
      "Epoch 9/200\n",
      "894/896 [============================>.] - ETA: 0s - loss: 31.3474 - mae: 3.4673\n",
      "Epoch 9: val_mae did not improve from 4.12805\n",
      "896/896 [==============================] - 21s 23ms/step - loss: 31.4093 - mae: 3.4720 - val_loss: 103.1847 - val_mae: 4.8796\n",
      "Epoch 10/200\n",
      "895/896 [============================>.] - ETA: 0s - loss: 36.6025 - mae: 3.7231\n",
      "Epoch 10: val_mae did not improve from 4.12805\n",
      "896/896 [==============================] - 20s 22ms/step - loss: 36.5788 - mae: 3.7222 - val_loss: 79.4629 - val_mae: 4.2982\n",
      "Epoch 11/200\n",
      "895/896 [============================>.] - ETA: 0s - loss: 29.1367 - mae: 3.3230\n",
      "Epoch 11: val_mae did not improve from 4.12805\n",
      "896/896 [==============================] - 22s 25ms/step - loss: 29.1163 - mae: 3.3221 - val_loss: 87.1931 - val_mae: 5.4167\n",
      "Epoch 12/200\n",
      "894/896 [============================>.] - ETA: 0s - loss: 31.1661 - mae: 3.4563\n",
      "Epoch 12: val_mae did not improve from 4.12805\n",
      "896/896 [==============================] - 21s 24ms/step - loss: 31.1933 - mae: 3.4611 - val_loss: 165.3705 - val_mae: 6.4689\n",
      "Epoch 13/200\n",
      "895/896 [============================>.] - ETA: 0s - loss: 37.0401 - mae: 3.6405\n",
      "Epoch 13: val_mae did not improve from 4.12805\n",
      "896/896 [==============================] - 22s 25ms/step - loss: 37.0218 - mae: 3.6404 - val_loss: 61.4632 - val_mae: 4.8894\n",
      "Epoch 14/200\n",
      "894/896 [============================>.] - ETA: 0s - loss: 24.7732 - mae: 3.1527\n",
      "Epoch 14: val_mae improved from 4.12805 to 3.85989, saving model to 1h_BZ_GSM1_transform.keras\n",
      "896/896 [==============================] - 22s 24ms/step - loss: 24.7440 - mae: 3.1513 - val_loss: 44.1220 - val_mae: 3.8599\n",
      "Epoch 15/200\n",
      "896/896 [==============================] - ETA: 0s - loss: 25.5311 - mae: 3.2303\n",
      "Epoch 15: val_mae improved from 3.85989 to 3.64510, saving model to 1h_BZ_GSM1_transform.keras\n",
      "896/896 [==============================] - 22s 24ms/step - loss: 25.5311 - mae: 3.2303 - val_loss: 42.9057 - val_mae: 3.6451\n",
      "Epoch 16/200\n",
      "896/896 [==============================] - ETA: 0s - loss: 27.6464 - mae: 3.3296\n",
      "Epoch 16: val_mae did not improve from 3.64510\n",
      "896/896 [==============================] - 22s 24ms/step - loss: 27.6464 - mae: 3.3296 - val_loss: 45.5762 - val_mae: 3.9286\n",
      "Epoch 17/200\n",
      "894/896 [============================>.] - ETA: 0s - loss: 29.1414 - mae: 3.3593\n",
      "Epoch 17: val_mae did not improve from 3.64510\n",
      "896/896 [==============================] - 23s 25ms/step - loss: 29.1440 - mae: 3.3619 - val_loss: 53.9904 - val_mae: 4.2173\n",
      "Epoch 18/200\n",
      "894/896 [============================>.] - ETA: 0s - loss: 32.0845 - mae: 3.5561\n",
      "Epoch 18: val_mae did not improve from 3.64510\n",
      "896/896 [==============================] - 22s 25ms/step - loss: 32.0408 - mae: 3.5539 - val_loss: 50.2892 - val_mae: 4.2366\n",
      "Epoch 19/200\n",
      "894/896 [============================>.] - ETA: 0s - loss: 26.5109 - mae: 3.2649\n",
      "Epoch 19: val_mae improved from 3.64510 to 3.54729, saving model to 1h_BZ_GSM1_transform.keras\n",
      "896/896 [==============================] - 22s 25ms/step - loss: 26.4894 - mae: 3.2645 - val_loss: 41.2703 - val_mae: 3.5473\n",
      "Epoch 20/200\n",
      "896/896 [==============================] - ETA: 0s - loss: 21.9632 - mae: 2.9989\n",
      "Epoch 20: val_mae did not improve from 3.54729\n",
      "896/896 [==============================] - 22s 25ms/step - loss: 21.9632 - mae: 2.9989 - val_loss: 40.7999 - val_mae: 3.6919\n",
      "Epoch 21/200\n",
      "894/896 [============================>.] - ETA: 0s - loss: 23.0482 - mae: 3.0851\n",
      "Epoch 21: val_mae did not improve from 3.54729\n",
      "896/896 [==============================] - 21s 24ms/step - loss: 23.0334 - mae: 3.0848 - val_loss: 39.7531 - val_mae: 3.6253\n",
      "Epoch 22/200\n",
      "896/896 [==============================] - ETA: 0s - loss: 29.4323 - mae: 3.3875\n",
      "Epoch 22: val_mae did not improve from 3.54729\n",
      "896/896 [==============================] - 23s 26ms/step - loss: 29.4323 - mae: 3.3875 - val_loss: 42.0951 - val_mae: 3.7944\n",
      "Epoch 23/200\n",
      "894/896 [============================>.] - ETA: 0s - loss: 20.8281 - mae: 2.9709\n",
      "Epoch 23: val_mae did not improve from 3.54729\n",
      "896/896 [==============================] - 22s 24ms/step - loss: 20.8005 - mae: 2.9692 - val_loss: 39.8028 - val_mae: 3.7039\n",
      "Epoch 24/200\n",
      "895/896 [============================>.] - ETA: 0s - loss: 22.3108 - mae: 3.0306\n",
      "Epoch 24: val_mae improved from 3.54729 to 3.53196, saving model to 1h_BZ_GSM1_transform.keras\n",
      "896/896 [==============================] - 23s 25ms/step - loss: 22.3004 - mae: 3.0303 - val_loss: 38.0066 - val_mae: 3.5320\n",
      "Epoch 25/200\n",
      "895/896 [============================>.] - ETA: 0s - loss: 23.0925 - mae: 3.0776\n",
      "Epoch 25: val_mae did not improve from 3.53196\n",
      "896/896 [==============================] - 23s 26ms/step - loss: 23.0787 - mae: 3.0770 - val_loss: 37.6867 - val_mae: 3.5395\n",
      "Epoch 26/200\n",
      "895/896 [============================>.] - ETA: 0s - loss: 22.0628 - mae: 3.0357\n",
      "Epoch 26: val_mae did not improve from 3.53196\n",
      "896/896 [==============================] - 23s 25ms/step - loss: 22.0478 - mae: 3.0348 - val_loss: 38.8529 - val_mae: 3.6489\n",
      "Epoch 27/200\n",
      "896/896 [==============================] - ETA: 0s - loss: 22.8624 - mae: 3.0986\n",
      "Epoch 27: val_mae did not improve from 3.53196\n",
      "896/896 [==============================] - 22s 25ms/step - loss: 22.8624 - mae: 3.0986 - val_loss: 70.1321 - val_mae: 5.0020\n",
      "Epoch 28/200\n",
      "894/896 [============================>.] - ETA: 0s - loss: 20.9641 - mae: 2.9798\n",
      "Epoch 28: val_mae did not improve from 3.53196\n",
      "896/896 [==============================] - 23s 25ms/step - loss: 20.9531 - mae: 2.9797 - val_loss: 43.9532 - val_mae: 4.1143\n",
      "Epoch 29/200\n",
      "896/896 [==============================] - ETA: 0s - loss: 25.0810 - mae: 3.1724\n",
      "Epoch 29: val_mae did not improve from 3.53196\n",
      "896/896 [==============================] - 22s 25ms/step - loss: 25.0810 - mae: 3.1724 - val_loss: 49.0404 - val_mae: 4.1638\n",
      "Epoch 30/200\n",
      "895/896 [============================>.] - ETA: 0s - loss: 21.0936 - mae: 2.9403\n",
      "Epoch 30: val_mae did not improve from 3.53196\n",
      "896/896 [==============================] - 23s 26ms/step - loss: 21.0847 - mae: 2.9398 - val_loss: 44.2044 - val_mae: 3.6412\n",
      "Epoch 31/200\n",
      "895/896 [============================>.] - ETA: 0s - loss: 21.1249 - mae: 2.9966\n",
      "Epoch 31: val_mae did not improve from 3.53196\n",
      "896/896 [==============================] - 22s 25ms/step - loss: 21.1150 - mae: 2.9962 - val_loss: 43.5592 - val_mae: 3.8158\n",
      "Epoch 32/200\n",
      "895/896 [============================>.] - ETA: 0s - loss: 20.5485 - mae: 2.9564\n",
      "Epoch 32: val_mae did not improve from 3.53196\n",
      "896/896 [==============================] - 22s 25ms/step - loss: 20.5366 - mae: 2.9558 - val_loss: 37.3140 - val_mae: 3.7306\n",
      "Epoch 33/200\n",
      "894/896 [============================>.] - ETA: 0s - loss: 19.5051 - mae: 2.9028\n",
      "Epoch 33: val_mae improved from 3.53196 to 3.50589, saving model to 1h_BZ_GSM1_transform.keras\n",
      "896/896 [==============================] - 23s 25ms/step - loss: 19.4879 - mae: 2.9018 - val_loss: 35.1282 - val_mae: 3.5059\n",
      "Epoch 34/200\n",
      "894/896 [============================>.] - ETA: 0s - loss: 23.6649 - mae: 3.0903\n",
      "Epoch 34: val_mae improved from 3.50589 to 3.35903, saving model to 1h_BZ_GSM1_transform.keras\n",
      "896/896 [==============================] - 22s 25ms/step - loss: 23.6352 - mae: 3.0889 - val_loss: 37.7060 - val_mae: 3.3590\n",
      "Epoch 35/200\n",
      "896/896 [==============================] - ETA: 0s - loss: 21.6968 - mae: 2.9931\n",
      "Epoch 35: val_mae did not improve from 3.35903\n",
      "896/896 [==============================] - 23s 26ms/step - loss: 21.6968 - mae: 2.9931 - val_loss: 81.3639 - val_mae: 4.7512\n",
      "Epoch 36/200\n",
      "895/896 [============================>.] - ETA: 0s - loss: 21.6870 - mae: 3.0388\n",
      "Epoch 36: val_mae improved from 3.35903 to 3.32168, saving model to 1h_BZ_GSM1_transform.keras\n",
      "896/896 [==============================] - 22s 25ms/step - loss: 21.6910 - mae: 3.0391 - val_loss: 34.1746 - val_mae: 3.3217\n",
      "Epoch 37/200\n",
      "896/896 [==============================] - ETA: 0s - loss: 21.7218 - mae: 2.9947\n",
      "Epoch 37: val_mae did not improve from 3.32168\n",
      "896/896 [==============================] - 22s 24ms/step - loss: 21.7218 - mae: 2.9947 - val_loss: 96.5304 - val_mae: 4.9811\n",
      "Epoch 38/200\n",
      "896/896 [==============================] - ETA: 0s - loss: 20.1839 - mae: 2.9194\n",
      "Epoch 38: val_mae did not improve from 3.32168\n",
      "896/896 [==============================] - 22s 25ms/step - loss: 20.1839 - mae: 2.9194 - val_loss: 38.8332 - val_mae: 3.7979\n",
      "Epoch 39/200\n",
      "896/896 [==============================] - ETA: 0s - loss: 18.5518 - mae: 2.8361\n",
      "Epoch 39: val_mae improved from 3.32168 to 3.31691, saving model to 1h_BZ_GSM1_transform.keras\n",
      "896/896 [==============================] - 23s 25ms/step - loss: 18.5518 - mae: 2.8361 - val_loss: 32.8804 - val_mae: 3.3169\n",
      "Epoch 40/200\n",
      "895/896 [============================>.] - ETA: 0s - loss: 25.0949 - mae: 3.1531\n",
      "Epoch 40: val_mae did not improve from 3.31691\n",
      "896/896 [==============================] - 23s 25ms/step - loss: 25.0782 - mae: 3.1524 - val_loss: 46.6500 - val_mae: 3.8761\n",
      "Epoch 41/200\n",
      "895/896 [============================>.] - ETA: 0s - loss: 21.2990 - mae: 2.9367\n",
      "Epoch 41: val_mae did not improve from 3.31691\n",
      "896/896 [==============================] - 22s 25ms/step - loss: 21.2936 - mae: 2.9369 - val_loss: 36.2471 - val_mae: 3.5756\n",
      "Epoch 42/200\n",
      "896/896 [==============================] - ETA: 0s - loss: 19.9175 - mae: 2.9047\n",
      "Epoch 42: val_mae did not improve from 3.31691\n",
      "896/896 [==============================] - 22s 25ms/step - loss: 19.9175 - mae: 2.9047 - val_loss: 36.6261 - val_mae: 3.6582\n",
      "Epoch 43/200\n",
      "894/896 [============================>.] - ETA: 0s - loss: 20.5818 - mae: 2.9129\n",
      "Epoch 43: val_mae did not improve from 3.31691\n",
      "896/896 [==============================] - 22s 25ms/step - loss: 20.5600 - mae: 2.9118 - val_loss: 40.1601 - val_mae: 3.7462\n",
      "Epoch 44/200\n",
      "896/896 [==============================] - ETA: 0s - loss: 19.4884 - mae: 2.8807\n",
      "Epoch 44: val_mae did not improve from 3.31691\n",
      "896/896 [==============================] - 23s 26ms/step - loss: 19.4884 - mae: 2.8807 - val_loss: 37.8287 - val_mae: 3.5184\n",
      "Epoch 45/200\n",
      "896/896 [==============================] - ETA: 0s - loss: 19.4066 - mae: 2.8920\n",
      "Epoch 45: val_mae did not improve from 3.31691\n",
      "896/896 [==============================] - 21s 24ms/step - loss: 19.4066 - mae: 2.8920 - val_loss: 34.2110 - val_mae: 3.5648\n",
      "Epoch 46/200\n",
      "895/896 [============================>.] - ETA: 0s - loss: 19.2310 - mae: 2.8971\n",
      "Epoch 46: val_mae did not improve from 3.31691\n",
      "896/896 [==============================] - 23s 25ms/step - loss: 19.2180 - mae: 2.8962 - val_loss: 36.2600 - val_mae: 3.5885\n",
      "Epoch 47/200\n",
      "896/896 [==============================] - ETA: 0s - loss: 18.7335 - mae: 2.8585\n",
      "Epoch 47: val_mae did not improve from 3.31691\n",
      "896/896 [==============================] - 22s 25ms/step - loss: 18.7335 - mae: 2.8585 - val_loss: 59.2798 - val_mae: 4.6009\n",
      "Epoch 48/200\n",
      "894/896 [============================>.] - ETA: 0s - loss: 19.8937 - mae: 2.9335\n",
      "Epoch 48: val_mae did not improve from 3.31691\n",
      "896/896 [==============================] - 23s 26ms/step - loss: 19.8848 - mae: 2.9331 - val_loss: 38.7234 - val_mae: 3.7764\n",
      "Epoch 49/200\n",
      "896/896 [==============================] - ETA: 0s - loss: 20.5422 - mae: 2.9719\n",
      "Epoch 49: val_mae did not improve from 3.31691\n",
      "896/896 [==============================] - 23s 26ms/step - loss: 20.5422 - mae: 2.9719 - val_loss: 38.5586 - val_mae: 3.8177\n",
      "Epoch 50/200\n",
      "895/896 [============================>.] - ETA: 0s - loss: 19.4386 - mae: 2.8850\n",
      "Epoch 50: val_mae did not improve from 3.31691\n",
      "896/896 [==============================] - 23s 26ms/step - loss: 19.4385 - mae: 2.8853 - val_loss: 32.9585 - val_mae: 3.3264\n",
      "Epoch 51/200\n",
      "894/896 [============================>.] - ETA: 0s - loss: 18.5547 - mae: 2.8484\n",
      "Epoch 51: val_mae did not improve from 3.31691\n",
      "896/896 [==============================] - 22s 25ms/step - loss: 18.5325 - mae: 2.8472 - val_loss: 66.9563 - val_mae: 4.5792\n",
      "Epoch 52/200\n",
      "894/896 [============================>.] - ETA: 0s - loss: 20.4409 - mae: 2.9271\n",
      "Epoch 52: val_mae did not improve from 3.31691\n",
      "896/896 [==============================] - 23s 25ms/step - loss: 20.4448 - mae: 2.9275 - val_loss: 35.3418 - val_mae: 3.6128\n",
      "Epoch 53/200\n",
      "895/896 [============================>.] - ETA: 0s - loss: 19.1851 - mae: 2.8591\n",
      "Epoch 53: val_mae did not improve from 3.31691\n",
      "896/896 [==============================] - 23s 25ms/step - loss: 19.1870 - mae: 2.8597 - val_loss: 35.1607 - val_mae: 3.5979\n",
      "Epoch 54/200\n",
      "896/896 [==============================] - ETA: 0s - loss: 17.5337 - mae: 2.7814\n",
      "Epoch 54: val_mae did not improve from 3.31691\n",
      "896/896 [==============================] - 22s 25ms/step - loss: 17.5337 - mae: 2.7814 - val_loss: 33.3877 - val_mae: 3.4963\n",
      "Epoch 55/200\n",
      "896/896 [==============================] - ETA: 0s - loss: 20.5570 - mae: 2.9528\n",
      "Epoch 55: val_mae did not improve from 3.31691\n",
      "896/896 [==============================] - 23s 25ms/step - loss: 20.5570 - mae: 2.9528 - val_loss: 35.6073 - val_mae: 3.5213\n",
      "Epoch 56/200\n",
      "895/896 [============================>.] - ETA: 0s - loss: 18.2935 - mae: 2.8237\n",
      "Epoch 56: val_mae did not improve from 3.31691\n",
      "896/896 [==============================] - 22s 25ms/step - loss: 18.2789 - mae: 2.8225 - val_loss: 32.5872 - val_mae: 3.4405\n",
      "Epoch 57/200\n",
      "896/896 [==============================] - ETA: 0s - loss: 18.8029 - mae: 2.8449\n",
      "Epoch 57: val_mae did not improve from 3.31691\n",
      "896/896 [==============================] - 22s 25ms/step - loss: 18.8029 - mae: 2.8449 - val_loss: 33.7480 - val_mae: 3.5573\n",
      "Epoch 58/200\n",
      "894/896 [============================>.] - ETA: 0s - loss: 18.4454 - mae: 2.8416\n",
      "Epoch 58: val_mae did not improve from 3.31691\n",
      "896/896 [==============================] - 23s 25ms/step - loss: 18.4267 - mae: 2.8402 - val_loss: 33.5090 - val_mae: 3.5520\n",
      "Epoch 59/200\n",
      "896/896 [==============================] - ETA: 0s - loss: 17.8248 - mae: 2.7900\n",
      "Epoch 59: val_mae did not improve from 3.31691\n",
      "896/896 [==============================] - 23s 25ms/step - loss: 17.8248 - mae: 2.7900 - val_loss: 33.3242 - val_mae: 3.5102\n",
      "Epoch 60/200\n",
      "895/896 [============================>.] - ETA: 0s - loss: 18.8448 - mae: 2.8611\n",
      "Epoch 60: val_mae did not improve from 3.31691\n",
      "896/896 [==============================] - 23s 25ms/step - loss: 18.8501 - mae: 2.8618 - val_loss: 33.7489 - val_mae: 3.5699\n",
      "Epoch 61/200\n",
      "896/896 [==============================] - ETA: 0s - loss: 19.2454 - mae: 2.8879\n",
      "Epoch 61: val_mae did not improve from 3.31691\n",
      "896/896 [==============================] - 22s 25ms/step - loss: 19.2454 - mae: 2.8879 - val_loss: 33.4291 - val_mae: 3.5780\n",
      "Epoch 62/200\n",
      "895/896 [============================>.] - ETA: 0s - loss: 17.6887 - mae: 2.7877\n",
      "Epoch 62: val_mae did not improve from 3.31691\n",
      "896/896 [==============================] - 22s 25ms/step - loss: 17.6857 - mae: 2.7878 - val_loss: 35.1101 - val_mae: 3.7368\n",
      "Epoch 63/200\n",
      "895/896 [============================>.] - ETA: 0s - loss: 19.8172 - mae: 2.8878\n",
      "Epoch 63: val_mae did not improve from 3.31691\n",
      "896/896 [==============================] - 23s 25ms/step - loss: 19.8400 - mae: 2.8899 - val_loss: 43.3286 - val_mae: 3.8520\n",
      "Epoch 64/200\n",
      "896/896 [==============================] - ETA: 0s - loss: 17.6018 - mae: 2.7713\n",
      "Epoch 64: val_mae did not improve from 3.31691\n",
      "896/896 [==============================] - 23s 25ms/step - loss: 17.6018 - mae: 2.7713 - val_loss: 31.9613 - val_mae: 3.4382\n"
     ]
    }
   ],
   "source": [
    "history = model.fit(train_generator, validation_data=val_generator, epochs=200, verbose=1, callbacks = callbacks_list)"
   ]
  },
  {
   "cell_type": "markdown",
   "id": "caf13f77-d35a-40ef-8bb3-799a85dedc2c",
   "metadata": {},
   "source": [
    "### Načítanie najlepšieho modelu"
   ]
  },
  {
   "cell_type": "code",
   "execution_count": 8,
   "id": "b78c14eb-8ccc-484d-9559-e341a22d30a4",
   "metadata": {},
   "outputs": [],
   "source": [
    "model = keras.models.load_model(\n",
    "    '1h_BZ_GSM1_transform.keras', \n",
    "    custom_objects={'TransformerEncoderLayer': TransformerEncoderLayer}\n",
    ")"
   ]
  },
  {
   "cell_type": "markdown",
   "id": "e4a4a8df-d6df-4ce5-8761-a0104bb15635",
   "metadata": {},
   "source": [
    "### Vytvorenie predikcií"
   ]
  },
  {
   "cell_type": "code",
   "execution_count": 9,
   "id": "13e782d2-d0ab-4c3a-8f7c-386ac7f4170b",
   "metadata": {},
   "outputs": [
    {
     "name": "stdout",
     "output_type": "stream",
     "text": [
      "633/633 [==============================] - 7s 10ms/step\n"
     ]
    }
   ],
   "source": [
    "y_pred = model.predict(test_generator)"
   ]
  },
  {
   "cell_type": "markdown",
   "id": "5ebebe4a-aab3-4376-84ba-3bd4ec1c12af",
   "metadata": {},
   "source": [
    "### Nájdenie optimálneho thresholdu na validačnej sade"
   ]
  },
  {
   "cell_type": "code",
   "execution_count": 12,
   "id": "cb7a11e3-8958-46db-b650-8d32a26fc6c4",
   "metadata": {},
   "outputs": [
    {
     "name": "stdout",
     "output_type": "stream",
     "text": [
      "224/224 [==============================] - 2s 10ms/step\n",
      "Best Threshold for MCC on Validation Set: -19.499999999999964\n",
      "Best MCC on Validation Set: 0.9030373513649054\n"
     ]
    }
   ],
   "source": [
    "y_val_pred = model.predict(val_generator)\n",
    "\n",
    "true_labels_val = np.where(y_val[n_input:] <= -20, 1, 0)  # Adjust n_input as per your setup\n",
    "\n",
    "def calculate_mcc(y_true, y_pred):\n",
    "    return matthews_corrcoef(y_true, y_pred)\n",
    "\n",
    "thresholds = np.arange(-10, -40, -0.1)\n",
    "mcc_scores = []\n",
    "\n",
    "for thresh in thresholds:\n",
    "    predictions = np.where(y_val_pred <= thresh, 1, 0)\n",
    "    mcc = calculate_mcc(true_labels_val, predictions)\n",
    "    mcc_scores.append(mcc)\n",
    "\n",
    "best_threshold_mcc = thresholds[np.argmax(mcc_scores)]\n",
    "best_mcc = max(mcc_scores)\n",
    "\n",
    "print(\"Best Threshold for MCC on Validation Set:\", best_threshold_mcc)\n",
    "print(\"Best MCC on Validation Set:\", best_mcc)\n",
    "best_threshold_mcc_rounded = round(best_threshold_mcc, 1)"
   ]
  },
  {
   "cell_type": "markdown",
   "id": "df2fc628-946d-4aa4-8d38-a0fbe78dc2df",
   "metadata": {},
   "source": [
    "### Výpočet metrík, vykreslenie grafu predikcie a uloženie predikcií"
   ]
  },
  {
   "cell_type": "code",
   "execution_count": 10,
   "id": "8f25268a-3f2d-48fd-9bb8-81f977e9a3f1",
   "metadata": {},
   "outputs": [],
   "source": [
    "from sklearn.metrics import mean_squared_error"
   ]
  },
  {
   "cell_type": "code",
   "execution_count": 11,
   "id": "739dc0d2-c9d1-4bc2-8498-f7810f9cd71b",
   "metadata": {},
   "outputs": [
    {
     "name": "stdout",
     "output_type": "stream",
     "text": [
      "Mean Squared Error: 109.86351091186901\n"
     ]
    }
   ],
   "source": [
    "mse = mean_squared_error(y_test[:-6], y_pred.reshape(-1))\n",
    "print(f\"Mean Squared Error: {mse}\")"
   ]
  },
  {
   "cell_type": "code",
   "execution_count": 13,
   "id": "39a3ac73-fafc-477e-a24b-b41c043c5cb1",
   "metadata": {
    "tags": []
   },
   "outputs": [
    {
     "name": "stdout",
     "output_type": "stream",
     "text": [
      "Confusion matrix: \n",
      "[[127542   2443]\n",
      " [  2982  29063]]\n"
     ]
    }
   ],
   "source": [
    "y_pred2 = np.where(y_pred <= best_threshold_mcc_rounded, 1, 0)\n",
    "y_test2 = np.where(y_test[n_input:]  <= -20, 1, 0)\n",
    "\n",
    "cm = confusion_matrix(y_test2, y_pred2)\n",
    "print(\"Confusion matrix: \\n\" + str(cm))\n",
    "#dopočítať MCC"
   ]
  },
  {
   "cell_type": "code",
   "execution_count": 14,
   "id": "5c6ee090-2d19-40ab-a858-419f4dec85ac",
   "metadata": {},
   "outputs": [
    {
     "data": {
      "text/plain": [
       "0.8938624845862319"
      ]
     },
     "execution_count": 14,
     "metadata": {},
     "output_type": "execute_result"
    }
   ],
   "source": [
    "matthews_corrcoef(y_test2, y_pred2)"
   ]
  },
  {
   "cell_type": "code",
   "execution_count": 15,
   "id": "f57667b1-0b84-4f96-acb4-c987cfa274db",
   "metadata": {},
   "outputs": [
    {
     "name": "stdout",
     "output_type": "stream",
     "text": [
      "              precision    recall  f1-score   support\n",
      "\n",
      "           0       0.98      0.98      0.98    129985\n",
      "           1       0.92      0.91      0.91     32045\n",
      "\n",
      "    accuracy                           0.97    162030\n",
      "   macro avg       0.95      0.94      0.95    162030\n",
      "weighted avg       0.97      0.97      0.97    162030\n",
      "\n"
     ]
    }
   ],
   "source": [
    "print(classification_report(y_test2, y_pred2))"
   ]
  },
  {
   "cell_type": "code",
   "execution_count": 16,
   "id": "f281608e-9c35-44ca-95fb-04d54ccffac6",
   "metadata": {},
   "outputs": [
    {
     "data": {
      "image/png": "[encoded data removed]",
      "text/plain": [
       "<Figure size 640x480 with 1 Axes>"
      ]
     },
     "metadata": {},
     "output_type": "display_data"
    }
   ],
   "source": [
    "df = pd.DataFrame(data={\"time\": test['time1'][n_input:],\"y_true\": y_test[n_input:].reshape(-1) , \"y_predict\": y_pred.reshape(-1)})\n",
    "\n",
    "plt.figure()\n",
    "plt.title('Predicting the change in DST Index')\n",
    "plt.plot(df['time'],df['y_true'], label='Skutočné hodnoty')\n",
    "plt.plot(df['time'],df['y_predict'], label='Predikované hodnoty')\n",
    "plt.legend()\n",
    "plt.gcf().autofmt_xdate()\n",
    "plt.grid(True)"
   ]
  },
  {
   "cell_type": "code",
   "execution_count": 17,
   "id": "1a1e9c8e-27df-42d2-933b-b5bfc0682e39",
   "metadata": {},
   "outputs": [],
   "source": [
    "df.to_csv('Transform_BZ1.csv')"
   ]
  },
  {
   "cell_type": "code",
   "execution_count": 18,
   "id": "6a516fdf-1ce9-4328-a1e6-85aba7cfd968",
   "metadata": {},
   "outputs": [
    {
     "name": "stdout",
     "output_type": "stream",
     "text": [
      "ACC=0.9665185459482811\n",
      "MCC=0.8938624845862319\n"
     ]
    }
   ],
   "source": [
    "TN, FP, FN, TP = cm.ravel()\n",
    "ACC = (TP + TN) / (TP + TN + FP + FN)\n",
    "MCC = matthews_corrcoef(y_test2, y_pred2)\n",
    "print(\"ACC={}\".format(ACC))\n",
    "print(\"MCC={}\".format(MCC))"
   ]
  }
 ],
 "metadata": {
  "kernelspec": {
   "display_name": "Python 3 (ipykernel)",
   "language": "python",
   "name": "python3"
  },
  "language_info": {
   "codemirror_mode": {
    "name": "ipython",
    "version": 3
   },
   "file_extension": ".py",
   "mimetype": "text/x-python",
   "name": "python",
   "nbconvert_exporter": "python",
   "pygments_lexer": "ipython3",
   "version": "3.10.6"
  }
 },
 "nbformat": 4,
 "nbformat_minor": 5
}
