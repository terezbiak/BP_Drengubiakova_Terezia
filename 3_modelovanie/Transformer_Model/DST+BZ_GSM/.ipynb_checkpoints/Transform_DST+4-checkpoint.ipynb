{
 "cells": [
  {
   "cell_type": "code",
   "execution_count": 1,
   "id": "bcb62d07-67a4-406c-b1cb-8e933d5b0bf4",
   "metadata": {},
   "outputs": [
    {
     "name": "stderr",
     "output_type": "stream",
     "text": [
      "2024-05-17 15:28:28.885005: I tensorflow/core/platform/cpu_feature_guard.cc:193] This TensorFlow binary is optimized with oneAPI Deep Neural Network Library (oneDNN) to use the following CPU instructions in performance-critical operations:  SSE4.1 SSE4.2 AVX AVX2 FMA\n",
      "To enable them in other operations, rebuild TensorFlow with the appropriate compiler flags.\n"
     ]
    }
   ],
   "source": [
    "import pandas as pd\n",
    "import numpy as np\n",
    "from tensorflow import keras\n",
    "import matplotlib.pyplot as plt\n",
    "from sklearn.preprocessing import MinMaxScaler, StandardScaler\n",
    "from pandas.plotting import register_matplotlib_converters\n",
    "register_matplotlib_converters()\n",
    "import seaborn as sns\n",
    "\n",
    "from tensorflow.keras.preprocessing.sequence import TimeseriesGenerator\n",
    "from keras.models import Sequential\n",
    "\n",
    "from keras.layers import Dense, Activation, Dropout, Input, Conv1D, LSTM, MaxPooling1D, Flatten, TimeDistributed, Bidirectional\n",
    "from tensorflow.keras.callbacks import ModelCheckpoint, EarlyStopping\n",
    "from keras.models import Model\n",
    "\n",
    "\n",
    "from scipy.special import expit, logit\n",
    "\n",
    "from sklearn.metrics import confusion_matrix, classification_report, matthews_corrcoef\n",
    "import tensorflow as tf\n",
    "from tensorflow.keras.layers import Layer, MultiHeadAttention, Dropout, LayerNormalization, Dense\n",
    "from tensorflow.keras.layers import MultiHeadAttention, Dense, Input, LayerNormalization, Dropout\n",
    "from tensorflow.keras.models import Model"
   ]
  },
  {
   "cell_type": "code",
   "execution_count": 2,
   "id": "1505d839-8601-4069-b902-29974b8d3285",
   "metadata": {},
   "outputs": [],
   "source": [
    "train = pd.read_csv('train_omni.csv')\n",
    "test = pd.read_csv('test_omni.csv')\n",
    "train['BZ_GSM'] = train['BZ_GSM'].fillna(train['BZ_GSM'].mean())  \n",
    "test['BZ_GSM'] = test['BZ_GSM'].fillna(test['BZ_GSM'].mean())\n",
    "features = ['time1', 'DST', 'DST+4', 'BZ_GSM']\n",
    "test = test[features]\n",
    "train = train[features]\n",
    "train['time1']=pd.to_datetime(train['time1'])\n",
    "test['time1']=pd.to_datetime(test['time1'])\n",
    "predicators = [\"DST\", \"BZ_GSM\"]\n",
    "y_col='DST+4'\n",
    "valid_size = int(len(train) * 0.2)\n",
    "valid = train.iloc[-valid_size:,:].copy()\n",
    "train = train.iloc[:-valid_size,:].copy()\n",
    "\n",
    "y_train = train[y_col].values.copy()\n",
    "X_train = train[predicators].values.copy()\n",
    "y_val = valid[y_col].values.copy()\n",
    "X_val = valid[predicators].values.copy()\n",
    "y_test = test[y_col].values.copy()\n",
    "X_test = test[predicators].values.copy()"
   ]
  },
  {
   "cell_type": "code",
   "execution_count": 3,
   "id": "27f1b1d3-1433-4f87-a1d1-19536f3eb578",
   "metadata": {},
   "outputs": [],
   "source": [
    "n_input = 6  \n",
    "n_features= len(X_train) \n",
    "b_size = 256 \n",
    "\n",
    "train_generator = TimeseriesGenerator(X_train, y_train, length=n_input, batch_size=b_size)\n",
    "val_generator = TimeseriesGenerator(X_val, y_val, length=n_input, batch_size=b_size)\n",
    "test_generator = TimeseriesGenerator(X_test, y_test, length=n_input, batch_size=256)"
   ]
  },
  {
   "cell_type": "code",
   "execution_count": 4,
   "id": "693aa2d7-b810-4beb-97d2-aea3b78109da",
   "metadata": {},
   "outputs": [
    {
     "name": "stdout",
     "output_type": "stream",
     "text": [
      "Počet batchov:  896\n",
      "Každý batch má features (X zložku) a labels (y zložku):  2\n",
      "Dĺžka X zložky batchu:  256\n",
      "Dĺžka y zložky batchu (počet meraní v batchi):  256\n",
      "Počet riadkov braných do úvahy pre jedno meranie (koľko sa pozerá dozadu):  6\n"
     ]
    }
   ],
   "source": [
    "print(\"Počet batchov: \", len(train_generator))\n",
    "print(\"Každý batch má features (X zložku) a labels (y zložku): \", len(train_generator[0]))\n",
    "print(\"Dĺžka X zložky batchu: \", len(train_generator[0][0]))\n",
    "print(\"Dĺžka y zložky batchu (počet meraní v batchi): \",len(train_generator[0][1]))\n",
    "print(\"Počet riadkov braných do úvahy pre jedno meranie (koľko sa pozerá dozadu): \", len(train_generator[0][0][0]))"
   ]
  },
  {
   "cell_type": "code",
   "execution_count": 5,
   "id": "1ffc6acc-22ab-4a78-bc3c-adecf6f8f28d",
   "metadata": {},
   "outputs": [
    {
     "name": "stderr",
     "output_type": "stream",
     "text": [
      "2024-05-17 15:28:38.789471: I tensorflow/core/platform/cpu_feature_guard.cc:193] This TensorFlow binary is optimized with oneAPI Deep Neural Network Library (oneDNN) to use the following CPU instructions in performance-critical operations:  SSE4.1 SSE4.2 AVX AVX2 FMA\n",
      "To enable them in other operations, rebuild TensorFlow with the appropriate compiler flags.\n"
     ]
    },
    {
     "name": "stdout",
     "output_type": "stream",
     "text": [
      "Model: \"model\"\n",
      "_________________________________________________________________\n",
      " Layer (type)                Output Shape              Param #   \n",
      "=================================================================\n",
      " input_1 (InputLayer)        [(None, 6, 2)]            0         \n",
      "                                                                 \n",
      " transformer_encoder_layer (  (None, 6, 64)            66752     \n",
      " TransformerEncoderLayer)                                        \n",
      "                                                                 \n",
      " flatten (Flatten)           (None, 384)               0         \n",
      "                                                                 \n",
      " dense_3 (Dense)             (None, 1)                 385       \n",
      "                                                                 \n",
      "=================================================================\n",
      "Total params: 67,137\n",
      "Trainable params: 67,137\n",
      "Non-trainable params: 0\n",
      "_________________________________________________________________\n"
     ]
    }
   ],
   "source": [
    "class TransformerEncoderLayer(Layer):\n",
    "    def __init__(self, embed_dim, num_heads, ff_dim, input_dim, rate=0.1, **kwargs):\n",
    "        super(TransformerEncoderLayer, self).__init__(**kwargs)\n",
    "        self.embed_dim = embed_dim\n",
    "        self.num_heads = num_heads\n",
    "        self.ff_dim = ff_dim\n",
    "        self.input_dim = input_dim\n",
    "        self.rate = rate\n",
    "        self.input_proj = Dense(embed_dim)\n",
    "        self.att = MultiHeadAttention(num_heads=num_heads, key_dim=embed_dim)\n",
    "        self.ffn = tf.keras.Sequential([\n",
    "            Dense(ff_dim, activation=\"relu\"),\n",
    "            Dense(embed_dim)\n",
    "        ])\n",
    "        self.layernorm1 = LayerNormalization(epsilon=1e-6)\n",
    "        self.layernorm2 = LayerNormalization(epsilon=1e-6)\n",
    "        self.dropout1 = Dropout(rate)\n",
    "        self.dropout2 = Dropout(rate)\n",
    "\n",
    "    def call(self, inputs, training=False):\n",
    "        inputs_proj = self.input_proj(inputs)\n",
    "        attn_output = self.att(inputs_proj, inputs_proj)\n",
    "        attn_output = self.dropout1(attn_output, training=training)\n",
    "        out1 = self.layernorm1(inputs_proj + attn_output)\n",
    "        ffn_output = self.ffn(out1)\n",
    "        ffn_output = self.dropout2(ffn_output, training=training)\n",
    "        return self.layernorm2(out1 + ffn_output)\n",
    "\n",
    "    def get_config(self):\n",
    "        config = super().get_config()\n",
    "        config.update({\n",
    "            'embed_dim': self.embed_dim,\n",
    "            'num_heads': self.num_heads,\n",
    "            'ff_dim': self.ff_dim,\n",
    "            'input_dim': self.input_dim,\n",
    "            'rate': self.rate\n",
    "        })\n",
    "        return config\n",
    "\n",
    "def build_model(input_shape, embed_dim, num_heads, ff_dim, rate=0.1):\n",
    "    inputs = tf.keras.Input(shape=input_shape)\n",
    "    x = TransformerEncoderLayer(embed_dim, num_heads, ff_dim, input_shape[-1], rate)(inputs)\n",
    "    x = Flatten()(x)\n",
    "    x = Dense(1, activation='linear')(x)\n",
    "    return tf.keras.Model(inputs=inputs, outputs=x)\n",
    "\n",
    "model = build_model((6, 2), embed_dim=64, num_heads=2, ff_dim=256)\n",
    "model.compile(loss='mse', optimizer='adam', metrics=['mae'])\n",
    "model.summary()"
   ]
  },
  {
   "cell_type": "code",
   "execution_count": 6,
   "id": "73f5a329-7500-46c5-86fe-dad78109b31a",
   "metadata": {},
   "outputs": [],
   "source": [
    "saved_model = \"4h_BZ_GSM1_transform.keras\"\n",
    "checkpoint = ModelCheckpoint(saved_model, monitor='val_mae', verbose=1, save_best_only=True, mode='min')\n",
    "early = EarlyStopping(monitor=\"val_mae\", mode=\"min\", patience=25)\n",
    "callbacks_list = [checkpoint, early]"
   ]
  },
  {
   "cell_type": "code",
   "execution_count": 7,
   "id": "4af77537-6a82-4e7c-9458-9544487c1c5b",
   "metadata": {
    "tags": []
   },
   "outputs": [
    {
     "name": "stdout",
     "output_type": "stream",
     "text": [
      "Epoch 1/200\n",
      "893/896 [============================>.] - ETA: 0s - loss: 244.8087 - mae: 9.2965\n",
      "Epoch 1: val_mae improved from inf to 9.27524, saving model to 4h_BZ_GSM1_transform.keras\n",
      "896/896 [==============================] - 25s 25ms/step - loss: 244.2385 - mae: 9.2869 - val_loss: 308.4201 - val_mae: 9.2752\n",
      "Epoch 2/200\n",
      "894/896 [============================>.] - ETA: 0s - loss: 151.4356 - mae: 7.5957\n",
      "Epoch 2: val_mae did not improve from 9.27524\n",
      "896/896 [==============================] - 22s 25ms/step - loss: 151.7368 - mae: 7.6045 - val_loss: 500.3328 - val_mae: 14.7475\n",
      "Epoch 3/200\n",
      "896/896 [==============================] - ETA: 0s - loss: 127.2649 - mae: 7.0938\n",
      "Epoch 3: val_mae improved from 9.27524 to 8.21134, saving model to 4h_BZ_GSM1_transform.keras\n",
      "896/896 [==============================] - 23s 25ms/step - loss: 127.2649 - mae: 7.0938 - val_loss: 203.1798 - val_mae: 8.2113\n",
      "Epoch 4/200\n",
      "896/896 [==============================] - ETA: 0s - loss: 121.9543 - mae: 7.1134\n",
      "Epoch 4: val_mae improved from 8.21134 to 7.98181, saving model to 4h_BZ_GSM1_transform.keras\n",
      "896/896 [==============================] - 22s 25ms/step - loss: 121.9543 - mae: 7.1134 - val_loss: 193.8789 - val_mae: 7.9818\n",
      "Epoch 5/200\n",
      "895/896 [============================>.] - ETA: 0s - loss: 121.3661 - mae: 7.0202\n",
      "Epoch 5: val_mae did not improve from 7.98181\n",
      "896/896 [==============================] - 22s 24ms/step - loss: 121.5844 - mae: 7.0261 - val_loss: 183.6292 - val_mae: 8.2460\n",
      "Epoch 6/200\n",
      "896/896 [==============================] - ETA: 0s - loss: 116.0719 - mae: 7.0060\n",
      "Epoch 6: val_mae did not improve from 7.98181\n",
      "896/896 [==============================] - 22s 24ms/step - loss: 116.0719 - mae: 7.0060 - val_loss: 182.6298 - val_mae: 8.0983\n",
      "Epoch 7/200\n",
      "894/896 [============================>.] - ETA: 0s - loss: 116.0371 - mae: 6.9663\n",
      "Epoch 7: val_mae improved from 7.98181 to 7.88107, saving model to 4h_BZ_GSM1_transform.keras\n",
      "896/896 [==============================] - 22s 24ms/step - loss: 115.9078 - mae: 6.9638 - val_loss: 184.2447 - val_mae: 7.8811\n",
      "Epoch 8/200\n",
      "895/896 [============================>.] - ETA: 0s - loss: 117.9635 - mae: 7.0131\n",
      "Epoch 8: val_mae did not improve from 7.88107\n",
      "896/896 [==============================] - 21s 23ms/step - loss: 117.8744 - mae: 7.0107 - val_loss: 196.3257 - val_mae: 8.1096\n",
      "Epoch 9/200\n",
      "894/896 [============================>.] - ETA: 0s - loss: 111.8974 - mae: 6.9016\n",
      "Epoch 9: val_mae improved from 7.88107 to 7.74500, saving model to 4h_BZ_GSM1_transform.keras\n",
      "896/896 [==============================] - 23s 25ms/step - loss: 111.8107 - mae: 6.9000 - val_loss: 169.4781 - val_mae: 7.7450\n",
      "Epoch 10/200\n",
      "895/896 [============================>.] - ETA: 0s - loss: 111.7545 - mae: 6.8989\n",
      "Epoch 10: val_mae improved from 7.74500 to 7.71385, saving model to 4h_BZ_GSM1_transform.keras\n",
      "896/896 [==============================] - 22s 24ms/step - loss: 111.6762 - mae: 6.8968 - val_loss: 166.3505 - val_mae: 7.7139\n",
      "Epoch 11/200\n",
      "895/896 [============================>.] - ETA: 0s - loss: 107.9387 - mae: 6.7757\n",
      "Epoch 11: val_mae did not improve from 7.71385\n",
      "896/896 [==============================] - 22s 24ms/step - loss: 107.9241 - mae: 6.7753 - val_loss: 181.7336 - val_mae: 8.0073\n",
      "Epoch 12/200\n",
      "895/896 [============================>.] - ETA: 0s - loss: 106.3846 - mae: 6.7360\n",
      "Epoch 12: val_mae did not improve from 7.71385\n",
      "896/896 [==============================] - 22s 24ms/step - loss: 106.7168 - mae: 6.7428 - val_loss: 167.5744 - val_mae: 7.9519\n",
      "Epoch 13/200\n",
      "894/896 [============================>.] - ETA: 0s - loss: 109.9324 - mae: 6.8428\n",
      "Epoch 13: val_mae improved from 7.71385 to 7.71226, saving model to 4h_BZ_GSM1_transform.keras\n",
      "896/896 [==============================] - 22s 24ms/step - loss: 109.8286 - mae: 6.8399 - val_loss: 166.9485 - val_mae: 7.7123\n",
      "Epoch 14/200\n",
      "895/896 [============================>.] - ETA: 0s - loss: 106.5574 - mae: 6.7449\n",
      "Epoch 14: val_mae did not improve from 7.71226\n",
      "896/896 [==============================] - 22s 25ms/step - loss: 106.4739 - mae: 6.7423 - val_loss: 163.7970 - val_mae: 7.7415\n",
      "Epoch 15/200\n",
      "896/896 [==============================] - ETA: 0s - loss: 104.9198 - mae: 6.6922\n",
      "Epoch 15: val_mae did not improve from 7.71226\n",
      "896/896 [==============================] - 22s 24ms/step - loss: 104.9198 - mae: 6.6922 - val_loss: 169.1477 - val_mae: 7.9504\n",
      "Epoch 16/200\n",
      "894/896 [============================>.] - ETA: 0s - loss: 105.7193 - mae: 6.7267\n",
      "Epoch 16: val_mae did not improve from 7.71226\n",
      "896/896 [==============================] - 22s 24ms/step - loss: 105.5912 - mae: 6.7235 - val_loss: 249.3384 - val_mae: 9.9364\n",
      "Epoch 17/200\n",
      "895/896 [============================>.] - ETA: 0s - loss: 105.4602 - mae: 6.7102\n",
      "Epoch 17: val_mae did not improve from 7.71226\n",
      "896/896 [==============================] - 22s 24ms/step - loss: 105.5109 - mae: 6.7112 - val_loss: 164.1625 - val_mae: 7.7213\n",
      "Epoch 18/200\n",
      "894/896 [============================>.] - ETA: 0s - loss: 105.5848 - mae: 6.7391\n",
      "Epoch 18: val_mae did not improve from 7.71226\n",
      "896/896 [==============================] - 22s 25ms/step - loss: 105.4624 - mae: 6.7359 - val_loss: 165.5000 - val_mae: 7.8618\n",
      "Epoch 19/200\n",
      "896/896 [==============================] - ETA: 0s - loss: 106.5366 - mae: 6.7287\n",
      "Epoch 19: val_mae improved from 7.71226 to 7.61591, saving model to 4h_BZ_GSM1_transform.keras\n",
      "896/896 [==============================] - 21s 24ms/step - loss: 106.5366 - mae: 6.7287 - val_loss: 157.9765 - val_mae: 7.6159\n",
      "Epoch 20/200\n",
      "894/896 [============================>.] - ETA: 0s - loss: 103.8883 - mae: 6.6528\n",
      "Epoch 20: val_mae did not improve from 7.61591\n",
      "896/896 [==============================] - 22s 24ms/step - loss: 104.0894 - mae: 6.6597 - val_loss: 200.8803 - val_mae: 8.9319\n",
      "Epoch 21/200\n",
      "895/896 [============================>.] - ETA: 0s - loss: 105.5652 - mae: 6.7010\n",
      "Epoch 21: val_mae did not improve from 7.61591\n",
      "896/896 [==============================] - 22s 25ms/step - loss: 105.6007 - mae: 6.7023 - val_loss: 160.4670 - val_mae: 7.6544\n",
      "Epoch 22/200\n",
      "894/896 [============================>.] - ETA: 0s - loss: 102.8529 - mae: 6.6355\n",
      "Epoch 22: val_mae did not improve from 7.61591\n",
      "896/896 [==============================] - 22s 24ms/step - loss: 102.8964 - mae: 6.6366 - val_loss: 167.9038 - val_mae: 8.0523\n",
      "Epoch 23/200\n",
      "896/896 [==============================] - ETA: 0s - loss: 103.5325 - mae: 6.6564\n",
      "Epoch 23: val_mae did not improve from 7.61591\n",
      "896/896 [==============================] - 22s 24ms/step - loss: 103.5325 - mae: 6.6564 - val_loss: 154.1231 - val_mae: 7.6682\n",
      "Epoch 24/200\n",
      "894/896 [============================>.] - ETA: 0s - loss: 104.5230 - mae: 6.6747\n",
      "Epoch 24: val_mae did not improve from 7.61591\n",
      "896/896 [==============================] - 22s 24ms/step - loss: 104.4045 - mae: 6.6711 - val_loss: 171.0343 - val_mae: 7.9173\n",
      "Epoch 25/200\n",
      "894/896 [============================>.] - ETA: 0s - loss: 105.4999 - mae: 6.6988\n",
      "Epoch 25: val_mae did not improve from 7.61591\n",
      "896/896 [==============================] - 22s 24ms/step - loss: 105.5875 - mae: 6.7017 - val_loss: 168.1438 - val_mae: 8.0433\n",
      "Epoch 26/200\n",
      "896/896 [==============================] - ETA: 0s - loss: 102.0529 - mae: 6.6158\n",
      "Epoch 26: val_mae did not improve from 7.61591\n",
      "896/896 [==============================] - 22s 25ms/step - loss: 102.0529 - mae: 6.6158 - val_loss: 177.4443 - val_mae: 7.9797\n",
      "Epoch 27/200\n",
      "894/896 [============================>.] - ETA: 0s - loss: 102.9011 - mae: 6.6341\n",
      "Epoch 27: val_mae did not improve from 7.61591\n",
      "896/896 [==============================] - 21s 24ms/step - loss: 102.8082 - mae: 6.6328 - val_loss: 175.3816 - val_mae: 7.9944\n",
      "Epoch 28/200\n",
      "895/896 [============================>.] - ETA: 0s - loss: 106.2414 - mae: 6.7210\n",
      "Epoch 28: val_mae did not improve from 7.61591\n",
      "896/896 [==============================] - 22s 24ms/step - loss: 106.1764 - mae: 6.7192 - val_loss: 155.3155 - val_mae: 7.6798\n",
      "Epoch 29/200\n",
      "894/896 [============================>.] - ETA: 0s - loss: 100.8726 - mae: 6.5648\n",
      "Epoch 29: val_mae did not improve from 7.61591\n",
      "896/896 [==============================] - 22s 25ms/step - loss: 100.8305 - mae: 6.5640 - val_loss: 155.2530 - val_mae: 7.6965\n",
      "Epoch 30/200\n",
      "896/896 [==============================] - ETA: 0s - loss: 102.2027 - mae: 6.6164\n",
      "Epoch 30: val_mae did not improve from 7.61591\n",
      "896/896 [==============================] - 21s 24ms/step - loss: 102.2027 - mae: 6.6164 - val_loss: 154.6298 - val_mae: 7.6731\n",
      "Epoch 31/200\n",
      "895/896 [============================>.] - ETA: 0s - loss: 101.5483 - mae: 6.6021\n",
      "Epoch 31: val_mae did not improve from 7.61591\n",
      "896/896 [==============================] - 22s 25ms/step - loss: 101.6269 - mae: 6.6053 - val_loss: 161.7174 - val_mae: 7.6963\n",
      "Epoch 32/200\n",
      "895/896 [============================>.] - ETA: 0s - loss: 101.3306 - mae: 6.5896\n",
      "Epoch 32: val_mae did not improve from 7.61591\n",
      "896/896 [==============================] - 22s 25ms/step - loss: 101.3413 - mae: 6.5908 - val_loss: 173.8517 - val_mae: 8.0102\n",
      "Epoch 33/200\n",
      "896/896 [==============================] - ETA: 0s - loss: 102.8055 - mae: 6.6127\n",
      "Epoch 33: val_mae improved from 7.61591 to 7.60592, saving model to 4h_BZ_GSM1_transform.keras\n",
      "896/896 [==============================] - 22s 24ms/step - loss: 102.8055 - mae: 6.6127 - val_loss: 156.8610 - val_mae: 7.6059\n",
      "Epoch 34/200\n",
      "896/896 [==============================] - ETA: 0s - loss: 102.6057 - mae: 6.6105\n",
      "Epoch 34: val_mae improved from 7.60592 to 7.58865, saving model to 4h_BZ_GSM1_transform.keras\n",
      "896/896 [==============================] - 22s 25ms/step - loss: 102.6057 - mae: 6.6105 - val_loss: 155.5831 - val_mae: 7.5887\n",
      "Epoch 35/200\n",
      "896/896 [==============================] - ETA: 0s - loss: 102.9960 - mae: 6.6163\n",
      "Epoch 35: val_mae did not improve from 7.58865\n",
      "896/896 [==============================] - 22s 24ms/step - loss: 102.9960 - mae: 6.6163 - val_loss: 162.9119 - val_mae: 7.7981\n",
      "Epoch 36/200\n",
      "895/896 [============================>.] - ETA: 0s - loss: 101.5621 - mae: 6.5853\n",
      "Epoch 36: val_mae did not improve from 7.58865\n",
      "896/896 [==============================] - 22s 25ms/step - loss: 101.5281 - mae: 6.5848 - val_loss: 171.4456 - val_mae: 7.9517\n",
      "Epoch 37/200\n",
      "896/896 [==============================] - ETA: 0s - loss: 101.5558 - mae: 6.5805\n",
      "Epoch 37: val_mae did not improve from 7.58865\n",
      "896/896 [==============================] - 22s 24ms/step - loss: 101.5558 - mae: 6.5805 - val_loss: 172.1711 - val_mae: 8.0522\n",
      "Epoch 38/200\n",
      "895/896 [============================>.] - ETA: 0s - loss: 100.8982 - mae: 6.5729\n",
      "Epoch 38: val_mae did not improve from 7.58865\n",
      "896/896 [==============================] - 22s 25ms/step - loss: 100.8955 - mae: 6.5736 - val_loss: 157.1709 - val_mae: 7.6590\n",
      "Epoch 39/200\n",
      "895/896 [============================>.] - ETA: 0s - loss: 101.8497 - mae: 6.5909\n",
      "Epoch 39: val_mae did not improve from 7.58865\n",
      "896/896 [==============================] - 21s 24ms/step - loss: 101.8521 - mae: 6.5916 - val_loss: 155.9357 - val_mae: 7.6761\n",
      "Epoch 40/200\n",
      "896/896 [==============================] - ETA: 0s - loss: 102.6013 - mae: 6.6100\n",
      "Epoch 40: val_mae did not improve from 7.58865\n",
      "896/896 [==============================] - 22s 25ms/step - loss: 102.6013 - mae: 6.6100 - val_loss: 165.2980 - val_mae: 7.7732\n",
      "Epoch 41/200\n",
      "896/896 [==============================] - ETA: 0s - loss: 100.8180 - mae: 6.5718\n",
      "Epoch 41: val_mae did not improve from 7.58865\n",
      "896/896 [==============================] - 22s 25ms/step - loss: 100.8180 - mae: 6.5718 - val_loss: 171.5896 - val_mae: 7.9782\n",
      "Epoch 42/200\n",
      "896/896 [==============================] - ETA: 0s - loss: 102.6723 - mae: 6.6199\n",
      "Epoch 42: val_mae did not improve from 7.58865\n",
      "896/896 [==============================] - 23s 25ms/step - loss: 102.6723 - mae: 6.6199 - val_loss: 163.7418 - val_mae: 8.1982\n",
      "Epoch 43/200\n",
      "893/896 [============================>.] - ETA: 0s - loss: 100.3345 - mae: 6.5483\n",
      "Epoch 43: val_mae did not improve from 7.58865\n",
      "896/896 [==============================] - 21s 24ms/step - loss: 100.2151 - mae: 6.5459 - val_loss: 153.6092 - val_mae: 7.5987\n",
      "Epoch 44/200\n",
      "896/896 [==============================] - ETA: 0s - loss: 100.4963 - mae: 6.5601\n",
      "Epoch 44: val_mae did not improve from 7.58865\n",
      "896/896 [==============================] - 22s 25ms/step - loss: 100.4963 - mae: 6.5601 - val_loss: 159.9268 - val_mae: 7.7292\n",
      "Epoch 45/200\n",
      "894/896 [============================>.] - ETA: 0s - loss: 100.0782 - mae: 6.5373\n",
      "Epoch 45: val_mae did not improve from 7.58865\n",
      "896/896 [==============================] - 22s 25ms/step - loss: 99.9838 - mae: 6.5357 - val_loss: 151.3043 - val_mae: 7.6332\n",
      "Epoch 46/200\n",
      "896/896 [==============================] - ETA: 0s - loss: 101.2925 - mae: 6.5646\n",
      "Epoch 46: val_mae did not improve from 7.58865\n",
      "896/896 [==============================] - 22s 25ms/step - loss: 101.2925 - mae: 6.5646 - val_loss: 153.8273 - val_mae: 7.6553\n",
      "Epoch 47/200\n",
      "894/896 [============================>.] - ETA: 0s - loss: 100.3894 - mae: 6.5597\n",
      "Epoch 47: val_mae did not improve from 7.58865\n",
      "896/896 [==============================] - 22s 25ms/step - loss: 100.3567 - mae: 6.5595 - val_loss: 158.0537 - val_mae: 7.8556\n",
      "Epoch 48/200\n",
      "894/896 [============================>.] - ETA: 0s - loss: 99.7865 - mae: 6.5420\n",
      "Epoch 48: val_mae did not improve from 7.58865\n",
      "896/896 [==============================] - 22s 25ms/step - loss: 99.6634 - mae: 6.5390 - val_loss: 153.2423 - val_mae: 7.6006\n",
      "Epoch 49/200\n",
      "896/896 [==============================] - ETA: 0s - loss: 100.0273 - mae: 6.5498\n",
      "Epoch 49: val_mae did not improve from 7.58865\n",
      "896/896 [==============================] - 22s 25ms/step - loss: 100.0273 - mae: 6.5498 - val_loss: 166.8584 - val_mae: 7.8988\n",
      "Epoch 50/200\n",
      "896/896 [==============================] - ETA: 0s - loss: 99.9265 - mae: 6.5508 \n",
      "Epoch 50: val_mae did not improve from 7.58865\n",
      "896/896 [==============================] - 21s 24ms/step - loss: 99.9265 - mae: 6.5508 - val_loss: 157.1795 - val_mae: 7.7465\n",
      "Epoch 51/200\n",
      "895/896 [============================>.] - ETA: 0s - loss: 101.6555 - mae: 6.5868\n",
      "Epoch 51: val_mae did not improve from 7.58865\n",
      "896/896 [==============================] - 22s 25ms/step - loss: 101.5730 - mae: 6.5839 - val_loss: 167.1975 - val_mae: 8.0383\n",
      "Epoch 52/200\n",
      "896/896 [==============================] - ETA: 0s - loss: 101.3650 - mae: 6.5810\n",
      "Epoch 52: val_mae did not improve from 7.58865\n",
      "896/896 [==============================] - 22s 24ms/step - loss: 101.3650 - mae: 6.5810 - val_loss: 154.8044 - val_mae: 7.7098\n",
      "Epoch 53/200\n",
      "894/896 [============================>.] - ETA: 0s - loss: 99.6342 - mae: 6.5362\n",
      "Epoch 53: val_mae did not improve from 7.58865\n",
      "896/896 [==============================] - 22s 25ms/step - loss: 99.7020 - mae: 6.5390 - val_loss: 152.6111 - val_mae: 7.7574\n",
      "Epoch 54/200\n",
      "896/896 [==============================] - ETA: 0s - loss: 99.1726 - mae: 6.5190\n",
      "Epoch 54: val_mae did not improve from 7.58865\n",
      "896/896 [==============================] - 22s 24ms/step - loss: 99.1726 - mae: 6.5190 - val_loss: 163.4795 - val_mae: 7.6759\n",
      "Epoch 55/200\n",
      "896/896 [==============================] - ETA: 0s - loss: 99.0227 - mae: 6.5145\n",
      "Epoch 55: val_mae did not improve from 7.58865\n",
      "896/896 [==============================] - 21s 24ms/step - loss: 99.0227 - mae: 6.5145 - val_loss: 151.5549 - val_mae: 7.6885\n",
      "Epoch 56/200\n",
      "893/896 [============================>.] - ETA: 0s - loss: 99.9382 - mae: 6.5576 \n",
      "Epoch 56: val_mae did not improve from 7.58865\n",
      "896/896 [==============================] - 21s 23ms/step - loss: 100.2624 - mae: 6.5634 - val_loss: 179.0323 - val_mae: 8.4810\n",
      "Epoch 57/200\n",
      "894/896 [============================>.] - ETA: 0s - loss: 99.7484 - mae: 6.5444\n",
      "Epoch 57: val_mae did not improve from 7.58865\n",
      "896/896 [==============================] - 20s 22ms/step - loss: 99.7146 - mae: 6.5443 - val_loss: 160.9770 - val_mae: 7.7789\n",
      "Epoch 58/200\n",
      "895/896 [============================>.] - ETA: 0s - loss: 101.3802 - mae: 6.5854\n",
      "Epoch 58: val_mae did not improve from 7.58865\n",
      "896/896 [==============================] - 20s 22ms/step - loss: 101.4081 - mae: 6.5871 - val_loss: 155.4550 - val_mae: 7.6869\n",
      "Epoch 59/200\n",
      "896/896 [==============================] - ETA: 0s - loss: 99.6239 - mae: 6.5391\n",
      "Epoch 59: val_mae did not improve from 7.58865\n",
      "896/896 [==============================] - 19s 21ms/step - loss: 99.6239 - mae: 6.5391 - val_loss: 164.1226 - val_mae: 7.8135\n"
     ]
    }
   ],
   "source": [
    "history = model.fit(train_generator, validation_data=val_generator, epochs=200, verbose=1, callbacks = callbacks_list)"
   ]
  },
  {
   "cell_type": "code",
   "execution_count": 8,
   "id": "b78c14eb-8ccc-484d-9559-e341a22d30a4",
   "metadata": {},
   "outputs": [],
   "source": [
    "model = keras.models.load_model(\n",
    "    '4h_BZ_GSM1_transform.keras', \n",
    "    custom_objects={'TransformerEncoderLayer': TransformerEncoderLayer}\n",
    ")"
   ]
  },
  {
   "cell_type": "code",
   "execution_count": 9,
   "id": "13e782d2-d0ab-4c3a-8f7c-386ac7f4170b",
   "metadata": {},
   "outputs": [
    {
     "name": "stdout",
     "output_type": "stream",
     "text": [
      "633/633 [==============================] - 5s 8ms/step\n"
     ]
    }
   ],
   "source": [
    "y_pred = model.predict(test_generator)"
   ]
  },
  {
   "cell_type": "code",
   "execution_count": 10,
   "id": "8f25268a-3f2d-48fd-9bb8-81f977e9a3f1",
   "metadata": {},
   "outputs": [],
   "source": [
    "from sklearn.metrics import mean_squared_error"
   ]
  },
  {
   "cell_type": "code",
   "execution_count": 11,
   "id": "739dc0d2-c9d1-4bc2-8498-f7810f9cd71b",
   "metadata": {},
   "outputs": [
    {
     "name": "stdout",
     "output_type": "stream",
     "text": [
      "Mean Squared Error: 50.221625987930906\n"
     ]
    }
   ],
   "source": [
    "mse = mean_squared_error(y_test[:-6], y_pred.reshape(-1))\n",
    "print(f\"Mean Squared Error: {mse}\")"
   ]
  },
  {
   "cell_type": "code",
   "execution_count": 12,
   "id": "cb7a11e3-8958-46db-b650-8d32a26fc6c4",
   "metadata": {},
   "outputs": [
    {
     "name": "stdout",
     "output_type": "stream",
     "text": [
      "224/224 [==============================] - 2s 8ms/step\n",
      "Best Threshold for MCC on Validation Set: -20.69999999999996\n",
      "Best MCC on Validation Set: 0.7662374981952924\n"
     ]
    }
   ],
   "source": [
    "y_val_pred = model.predict(val_generator)\n",
    "\n",
    "true_labels_val = np.where(y_val[n_input:] <= -20, 1, 0)  # Adjust n_input as per your setup\n",
    "\n",
    "def calculate_mcc(y_true, y_pred):\n",
    "    return matthews_corrcoef(y_true, y_pred)\n",
    "\n",
    "thresholds = np.arange(-10, -40, -0.1)\n",
    "mcc_scores = []\n",
    "\n",
    "for thresh in thresholds:\n",
    "    predictions = np.where(y_val_pred <= thresh, 1, 0)\n",
    "    mcc = calculate_mcc(true_labels_val, predictions)\n",
    "    mcc_scores.append(mcc)\n",
    "\n",
    "best_threshold_mcc = thresholds[np.argmax(mcc_scores)]\n",
    "best_mcc = max(mcc_scores)\n",
    "\n",
    "print(\"Best Threshold for MCC on Validation Set:\", best_threshold_mcc)\n",
    "print(\"Best MCC on Validation Set:\", best_mcc)\n",
    "best_threshold_mcc_rounded = round(best_threshold_mcc, 1)"
   ]
  },
  {
   "cell_type": "code",
   "execution_count": 13,
   "id": "39a3ac73-fafc-477e-a24b-b41c043c5cb1",
   "metadata": {
    "tags": []
   },
   "outputs": [
    {
     "name": "stdout",
     "output_type": "stream",
     "text": [
      "Confusion matrix: \n",
      "[[125175   4813]\n",
      " [  9235  22807]]\n"
     ]
    }
   ],
   "source": [
    "y_pred2 = np.where(y_pred <= best_threshold_mcc_rounded, 1, 0)\n",
    "y_test2 = np.where(y_test[n_input:]  <= -20, 1, 0)\n",
    "\n",
    "cm = confusion_matrix(y_test2, y_pred2)\n",
    "print(\"Confusion matrix: \\n\" + str(cm))\n"
   ]
  },
  {
   "cell_type": "code",
   "execution_count": 14,
   "id": "f57667b1-0b84-4f96-acb4-c987cfa274db",
   "metadata": {},
   "outputs": [
    {
     "name": "stdout",
     "output_type": "stream",
     "text": [
      "              precision    recall  f1-score   support\n",
      "\n",
      "           0       0.93      0.96      0.95    129988\n",
      "           1       0.83      0.71      0.76     32042\n",
      "\n",
      "    accuracy                           0.91    162030\n",
      "   macro avg       0.88      0.84      0.86    162030\n",
      "weighted avg       0.91      0.91      0.91    162030\n",
      "\n"
     ]
    }
   ],
   "source": [
    "print(classification_report(y_test2, y_pred2))"
   ]
  },
  {
   "cell_type": "code",
   "execution_count": 15,
   "id": "9a763861-08a0-44c5-a343-0b22ca940883",
   "metadata": {},
   "outputs": [
    {
     "data": {
      "image/png": "[encoded data removed]",
      "text/plain": [
       "<Figure size 640x480 with 1 Axes>"
      ]
     },
     "metadata": {},
     "output_type": "display_data"
    }
   ],
   "source": [
    "df = pd.DataFrame(data={\"time\": test['time1'][n_input:],\"y_true\": y_test[n_input:].reshape(-1) , \"y_predict\": y_pred.reshape(-1)})\n",
    "\n",
    "plt.figure()\n",
    "plt.title('Predicting the change in DST Index')\n",
    "plt.plot(df['time'],df['y_true'], label='Skutočné hodnoty')\n",
    "plt.plot(df['time'],df['y_predict'], label='Predikované hodnoty')\n",
    "plt.legend()\n",
    "plt.gcf().autofmt_xdate()\n",
    "plt.grid(True)"
   ]
  },
  {
   "cell_type": "code",
   "execution_count": 16,
   "id": "1a1e9c8e-27df-42d2-933b-b5bfc0682e39",
   "metadata": {},
   "outputs": [],
   "source": [
    "df.to_csv('Transform_BZ4.csv')"
   ]
  },
  {
   "cell_type": "code",
   "execution_count": 17,
   "id": "6a516fdf-1ce9-4328-a1e6-85aba7cfd968",
   "metadata": {},
   "outputs": [
    {
     "name": "stdout",
     "output_type": "stream",
     "text": [
      "ACC=0.9133000061716966\n",
      "MCC=0.714713323249314\n"
     ]
    }
   ],
   "source": [
    "TN, FP, FN, TP = cm.ravel()\n",
    "ACC = (TP + TN) / (TP + TN + FP + FN)\n",
    "MCC = matthews_corrcoef(y_test2, y_pred2)\n",
    "print(\"ACC={}\".format(ACC))\n",
    "print(\"MCC={}\".format(MCC))"
   ]
  }
 ],
 "metadata": {
  "kernelspec": {
   "display_name": "Python 3 (ipykernel)",
   "language": "python",
   "name": "python3"
  },
  "language_info": {
   "codemirror_mode": {
    "name": "ipython",
    "version": 3
   },
   "file_extension": ".py",
   "mimetype": "text/x-python",
   "name": "python",
   "nbconvert_exporter": "python",
   "pygments_lexer": "ipython3",
   "version": "3.10.6"
  }
 },
 "nbformat": 4,
 "nbformat_minor": 5
}
