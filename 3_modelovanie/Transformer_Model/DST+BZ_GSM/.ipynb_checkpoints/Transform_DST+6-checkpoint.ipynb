{
 "cells": [
  {
   "cell_type": "code",
   "execution_count": 1,
   "id": "bcb62d07-67a4-406c-b1cb-8e933d5b0bf4",
   "metadata": {},
   "outputs": [
    {
     "name": "stderr",
     "output_type": "stream",
     "text": [
      "2024-05-17 16:02:23.589829: I tensorflow/core/platform/cpu_feature_guard.cc:193] This TensorFlow binary is optimized with oneAPI Deep Neural Network Library (oneDNN) to use the following CPU instructions in performance-critical operations:  SSE4.1 SSE4.2 AVX AVX2 FMA\n",
      "To enable them in other operations, rebuild TensorFlow with the appropriate compiler flags.\n"
     ]
    }
   ],
   "source": [
    "import pandas as pd\n",
    "import numpy as np\n",
    "from tensorflow import keras\n",
    "import matplotlib.pyplot as plt\n",
    "from sklearn.preprocessing import MinMaxScaler, StandardScaler\n",
    "from pandas.plotting import register_matplotlib_converters\n",
    "register_matplotlib_converters()\n",
    "import seaborn as sns\n",
    "\n",
    "from tensorflow.keras.preprocessing.sequence import TimeseriesGenerator\n",
    "from keras.models import Sequential\n",
    "\n",
    "from keras.layers import Dense, Activation, Dropout, Input, Conv1D, LSTM, MaxPooling1D, Flatten, TimeDistributed, Bidirectional\n",
    "from tensorflow.keras.callbacks import ModelCheckpoint, EarlyStopping\n",
    "from keras.models import Model\n",
    "\n",
    "\n",
    "from scipy.special import expit, logit\n",
    "\n",
    "from sklearn.metrics import confusion_matrix, classification_report, matthews_corrcoef\n",
    "import tensorflow as tf\n",
    "from tensorflow.keras.layers import Layer, MultiHeadAttention, Dropout, LayerNormalization, Dense\n",
    "from tensorflow.keras.layers import MultiHeadAttention, Dense, Input, LayerNormalization, Dropout\n",
    "from tensorflow.keras.models import Model"
   ]
  },
  {
   "cell_type": "code",
   "execution_count": 2,
   "id": "1505d839-8601-4069-b902-29974b8d3285",
   "metadata": {},
   "outputs": [],
   "source": [
    "train = pd.read_csv('train_omni.csv')\n",
    "test = pd.read_csv('test_omni.csv')\n",
    "train['BZ_GSM'] = train['BZ_GSM'].fillna(train['BZ_GSM'].mean())  \n",
    "test['BZ_GSM'] = test['BZ_GSM'].fillna(test['BZ_GSM'].mean())\n",
    "features = ['time1', 'DST', 'DST+6', 'BZ_GSM']\n",
    "test = test[features]\n",
    "train = train[features]\n",
    "train['time1']=pd.to_datetime(train['time1'])\n",
    "test['time1']=pd.to_datetime(test['time1'])\n",
    "predicators = [\"DST\", \"BZ_GSM\"]\n",
    "y_col='DST+6'\n",
    "valid_size = int(len(train) * 0.2)\n",
    "valid = train.iloc[-valid_size:,:].copy()\n",
    "train = train.iloc[:-valid_size,:].copy()\n",
    "\n",
    "y_train = train[y_col].values.copy()\n",
    "X_train = train[predicators].values.copy()\n",
    "y_val = valid[y_col].values.copy()\n",
    "X_val = valid[predicators].values.copy()\n",
    "y_test = test[y_col].values.copy()\n",
    "X_test = test[predicators].values.copy()"
   ]
  },
  {
   "cell_type": "code",
   "execution_count": 3,
   "id": "27f1b1d3-1433-4f87-a1d1-19536f3eb578",
   "metadata": {},
   "outputs": [],
   "source": [
    "n_input = 6 \n",
    "n_features= len(X_train)\n",
    "b_size = 256  \n",
    "\n",
    "train_generator = TimeseriesGenerator(X_train, y_train, length=n_input, batch_size=b_size)\n",
    "val_generator = TimeseriesGenerator(X_val, y_val, length=n_input, batch_size=b_size)\n",
    "test_generator = TimeseriesGenerator(X_test, y_test, length=n_input, batch_size=256)"
   ]
  },
  {
   "cell_type": "code",
   "execution_count": 4,
   "id": "693aa2d7-b810-4beb-97d2-aea3b78109da",
   "metadata": {},
   "outputs": [
    {
     "name": "stdout",
     "output_type": "stream",
     "text": [
      "Počet batchov:  896\n",
      "Každý batch má features (X zložku) a labels (y zložku):  2\n",
      "Dĺžka X zložky batchu:  256\n",
      "Dĺžka y zložky batchu (počet meraní v batchi):  256\n",
      "Počet riadkov braných do úvahy pre jedno meranie (koľko sa pozerá dozadu):  6\n"
     ]
    }
   ],
   "source": [
    "print(\"Počet batchov: \", len(train_generator))\n",
    "print(\"Každý batch má features (X zložku) a labels (y zložku): \", len(train_generator[0]))\n",
    "print(\"Dĺžka X zložky batchu: \", len(train_generator[0][0]))\n",
    "print(\"Dĺžka y zložky batchu (počet meraní v batchi): \",len(train_generator[0][1]))\n",
    "print(\"Počet riadkov braných do úvahy pre jedno meranie (koľko sa pozerá dozadu): \", len(train_generator[0][0][0]))"
   ]
  },
  {
   "cell_type": "code",
   "execution_count": 5,
   "id": "1ffc6acc-22ab-4a78-bc3c-adecf6f8f28d",
   "metadata": {},
   "outputs": [
    {
     "name": "stderr",
     "output_type": "stream",
     "text": [
      "2024-05-17 16:02:32.781723: I tensorflow/core/platform/cpu_feature_guard.cc:193] This TensorFlow binary is optimized with oneAPI Deep Neural Network Library (oneDNN) to use the following CPU instructions in performance-critical operations:  SSE4.1 SSE4.2 AVX AVX2 FMA\n",
      "To enable them in other operations, rebuild TensorFlow with the appropriate compiler flags.\n"
     ]
    },
    {
     "name": "stdout",
     "output_type": "stream",
     "text": [
      "Model: \"model\"\n",
      "_________________________________________________________________\n",
      " Layer (type)                Output Shape              Param #   \n",
      "=================================================================\n",
      " input_1 (InputLayer)        [(None, 6, 2)]            0         \n",
      "                                                                 \n",
      " transformer_encoder_layer (  (None, 6, 64)            66752     \n",
      " TransformerEncoderLayer)                                        \n",
      "                                                                 \n",
      " flatten (Flatten)           (None, 384)               0         \n",
      "                                                                 \n",
      " dense_3 (Dense)             (None, 1)                 385       \n",
      "                                                                 \n",
      "=================================================================\n",
      "Total params: 67,137\n",
      "Trainable params: 67,137\n",
      "Non-trainable params: 0\n",
      "_________________________________________________________________\n"
     ]
    }
   ],
   "source": [
    "class TransformerEncoderLayer(Layer):\n",
    "    def __init__(self, embed_dim, num_heads, ff_dim, input_dim, rate=0.1, **kwargs):\n",
    "        super(TransformerEncoderLayer, self).__init__(**kwargs)\n",
    "        self.embed_dim = embed_dim\n",
    "        self.num_heads = num_heads\n",
    "        self.ff_dim = ff_dim\n",
    "        self.input_dim = input_dim\n",
    "        self.rate = rate\n",
    "        self.input_proj = Dense(embed_dim)\n",
    "        self.att = MultiHeadAttention(num_heads=num_heads, key_dim=embed_dim)\n",
    "        self.ffn = tf.keras.Sequential([\n",
    "            Dense(ff_dim, activation=\"relu\"),\n",
    "            Dense(embed_dim)\n",
    "        ])\n",
    "        self.layernorm1 = LayerNormalization(epsilon=1e-6)\n",
    "        self.layernorm2 = LayerNormalization(epsilon=1e-6)\n",
    "        self.dropout1 = Dropout(rate)\n",
    "        self.dropout2 = Dropout(rate)\n",
    "\n",
    "    def call(self, inputs, training=False):\n",
    "        inputs_proj = self.input_proj(inputs)\n",
    "        attn_output = self.att(inputs_proj, inputs_proj)\n",
    "        attn_output = self.dropout1(attn_output, training=training)\n",
    "        out1 = self.layernorm1(inputs_proj + attn_output)\n",
    "        ffn_output = self.ffn(out1)\n",
    "        ffn_output = self.dropout2(ffn_output, training=training)\n",
    "        return self.layernorm2(out1 + ffn_output)\n",
    "\n",
    "    def get_config(self):\n",
    "        config = super().get_config()\n",
    "        config.update({\n",
    "            'embed_dim': self.embed_dim,\n",
    "            'num_heads': self.num_heads,\n",
    "            'ff_dim': self.ff_dim,\n",
    "            'input_dim': self.input_dim,\n",
    "            'rate': self.rate\n",
    "        })\n",
    "        return config\n",
    "\n",
    "def build_model(input_shape, embed_dim, num_heads, ff_dim, rate=0.1):\n",
    "    inputs = tf.keras.Input(shape=input_shape)\n",
    "    x = TransformerEncoderLayer(embed_dim, num_heads, ff_dim, input_shape[-1], rate)(inputs)\n",
    "    x = Flatten()(x)\n",
    "    x = Dense(1, activation='linear')(x)\n",
    "    return tf.keras.Model(inputs=inputs, outputs=x)\n",
    "\n",
    "model = build_model((6, 2), embed_dim=64, num_heads=2, ff_dim=256)\n",
    "model.compile(loss='mse', optimizer='adam', metrics=['mae'])\n",
    "model.summary()"
   ]
  },
  {
   "cell_type": "code",
   "execution_count": 6,
   "id": "73f5a329-7500-46c5-86fe-dad78109b31a",
   "metadata": {},
   "outputs": [],
   "source": [
    "saved_model = \"6h_BZ_GSM1_transform.keras\"\n",
    "checkpoint = ModelCheckpoint(saved_model, monitor='val_mae', verbose=1, save_best_only=True, mode='min')\n",
    "early = EarlyStopping(monitor=\"val_mae\", mode=\"min\", patience=25)\n",
    "callbacks_list = [checkpoint, early]"
   ]
  },
  {
   "cell_type": "code",
   "execution_count": 7,
   "id": "4af77537-6a82-4e7c-9458-9544487c1c5b",
   "metadata": {
    "tags": []
   },
   "outputs": [
    {
     "name": "stdout",
     "output_type": "stream",
     "text": [
      "Epoch 1/200\n",
      "894/896 [============================>.] - ETA: 0s - loss: 265.4839 - mae: 10.0015\n",
      "Epoch 1: val_mae improved from inf to 10.49521, saving model to 6h_BZ_GSM1_transform.keras\n",
      "896/896 [==============================] - 24s 25ms/step - loss: 265.1538 - mae: 9.9967 - val_loss: 359.3507 - val_mae: 10.4952\n",
      "Epoch 2/200\n",
      "895/896 [============================>.] - ETA: 0s - loss: 183.1898 - mae: 8.4261\n",
      "Epoch 2: val_mae improved from 10.49521 to 9.56160, saving model to 6h_BZ_GSM1_transform.keras\n",
      "896/896 [==============================] - 21s 24ms/step - loss: 183.1037 - mae: 8.4248 - val_loss: 290.5991 - val_mae: 9.5616\n",
      "Epoch 3/200\n",
      "895/896 [============================>.] - ETA: 0s - loss: 165.6979 - mae: 8.1190\n",
      "Epoch 3: val_mae did not improve from 9.56160\n",
      "896/896 [==============================] - 21s 23ms/step - loss: 165.6316 - mae: 8.1191 - val_loss: 264.9867 - val_mae: 9.6010\n",
      "Epoch 4/200\n",
      "896/896 [==============================] - ETA: 0s - loss: 161.5181 - mae: 8.0923\n",
      "Epoch 4: val_mae improved from 9.56160 to 9.50254, saving model to 6h_BZ_GSM1_transform.keras\n",
      "896/896 [==============================] - 21s 23ms/step - loss: 161.5181 - mae: 8.0923 - val_loss: 262.1483 - val_mae: 9.5025\n",
      "Epoch 5/200\n",
      "894/896 [============================>.] - ETA: 0s - loss: 154.3905 - mae: 7.9378\n",
      "Epoch 5: val_mae improved from 9.50254 to 9.38548, saving model to 6h_BZ_GSM1_transform.keras\n",
      "896/896 [==============================] - 20s 23ms/step - loss: 154.1655 - mae: 7.9329 - val_loss: 249.7875 - val_mae: 9.3855\n",
      "Epoch 6/200\n",
      "896/896 [==============================] - ETA: 0s - loss: 156.1440 - mae: 7.9937\n",
      "Epoch 6: val_mae improved from 9.38548 to 9.31027, saving model to 6h_BZ_GSM1_transform.keras\n",
      "896/896 [==============================] - 21s 23ms/step - loss: 156.1440 - mae: 7.9937 - val_loss: 255.0642 - val_mae: 9.3103\n",
      "Epoch 7/200\n",
      "896/896 [==============================] - ETA: 0s - loss: 153.9905 - mae: 7.9359\n",
      "Epoch 7: val_mae did not improve from 9.31027\n",
      "896/896 [==============================] - 21s 24ms/step - loss: 153.9905 - mae: 7.9359 - val_loss: 246.8205 - val_mae: 9.3614\n",
      "Epoch 8/200\n",
      "895/896 [============================>.] - ETA: 0s - loss: 151.1510 - mae: 7.9096\n",
      "Epoch 8: val_mae improved from 9.31027 to 9.07985, saving model to 6h_BZ_GSM1_transform.keras\n",
      "896/896 [==============================] - 20s 23ms/step - loss: 152.0205 - mae: 7.9151 - val_loss: 232.5316 - val_mae: 9.0799\n",
      "Epoch 9/200\n",
      "895/896 [============================>.] - ETA: 0s - loss: 150.2841 - mae: 7.8526\n",
      "Epoch 9: val_mae did not improve from 9.07985\n",
      "896/896 [==============================] - 21s 23ms/step - loss: 150.1765 - mae: 7.8500 - val_loss: 233.6109 - val_mae: 9.1738\n",
      "Epoch 10/200\n",
      "896/896 [==============================] - ETA: 0s - loss: 149.7934 - mae: 7.8365\n",
      "Epoch 10: val_mae did not improve from 9.07985\n",
      "896/896 [==============================] - 21s 24ms/step - loss: 149.7934 - mae: 7.8365 - val_loss: 259.3531 - val_mae: 9.6636\n",
      "Epoch 11/200\n",
      "894/896 [============================>.] - ETA: 0s - loss: 149.6541 - mae: 7.8303\n",
      "Epoch 11: val_mae did not improve from 9.07985\n",
      "896/896 [==============================] - 21s 23ms/step - loss: 149.5139 - mae: 7.8273 - val_loss: 255.2948 - val_mae: 9.3364\n",
      "Epoch 12/200\n",
      "896/896 [==============================] - ETA: 0s - loss: 147.7953 - mae: 7.8267\n",
      "Epoch 12: val_mae did not improve from 9.07985\n",
      "896/896 [==============================] - 21s 23ms/step - loss: 147.7953 - mae: 7.8267 - val_loss: 243.7264 - val_mae: 9.6131\n",
      "Epoch 13/200\n",
      "895/896 [============================>.] - ETA: 0s - loss: 147.4035 - mae: 7.8122\n",
      "Epoch 13: val_mae did not improve from 9.07985\n",
      "896/896 [==============================] - 21s 23ms/step - loss: 147.3357 - mae: 7.8117 - val_loss: 229.4198 - val_mae: 9.1628\n",
      "Epoch 14/200\n",
      "896/896 [==============================] - ETA: 0s - loss: 153.0164 - mae: 7.9154\n",
      "Epoch 14: val_mae did not improve from 9.07985\n",
      "896/896 [==============================] - 21s 23ms/step - loss: 153.0164 - mae: 7.9154 - val_loss: 233.8187 - val_mae: 9.4171\n",
      "Epoch 15/200\n",
      "896/896 [==============================] - ETA: 0s - loss: 146.2987 - mae: 7.7634\n",
      "Epoch 15: val_mae did not improve from 9.07985\n",
      "896/896 [==============================] - 21s 23ms/step - loss: 146.2987 - mae: 7.7634 - val_loss: 234.0402 - val_mae: 9.2027\n",
      "Epoch 16/200\n",
      "893/896 [============================>.] - ETA: 0s - loss: 145.3175 - mae: 7.7459\n",
      "Epoch 16: val_mae did not improve from 9.07985\n",
      "896/896 [==============================] - 20s 22ms/step - loss: 145.0491 - mae: 7.7396 - val_loss: 228.8943 - val_mae: 9.1036\n",
      "Epoch 17/200\n",
      "894/896 [============================>.] - ETA: 0s - loss: 146.4537 - mae: 7.7700\n",
      "Epoch 17: val_mae did not improve from 9.07985\n",
      "896/896 [==============================] - 20s 22ms/step - loss: 146.2470 - mae: 7.7657 - val_loss: 228.3122 - val_mae: 9.1910\n",
      "Epoch 18/200\n",
      "895/896 [============================>.] - ETA: 0s - loss: 147.7216 - mae: 7.7984\n",
      "Epoch 18: val_mae did not improve from 9.07985\n",
      "896/896 [==============================] - 21s 23ms/step - loss: 147.6201 - mae: 7.7964 - val_loss: 229.7001 - val_mae: 9.2602\n",
      "Epoch 19/200\n",
      "896/896 [==============================] - ETA: 0s - loss: 143.6301 - mae: 7.6825\n",
      "Epoch 19: val_mae did not improve from 9.07985\n",
      "896/896 [==============================] - 21s 23ms/step - loss: 143.6301 - mae: 7.6825 - val_loss: 227.4871 - val_mae: 9.1264\n",
      "Epoch 20/200\n",
      "896/896 [==============================] - ETA: 0s - loss: 145.8772 - mae: 7.7412\n",
      "Epoch 20: val_mae did not improve from 9.07985\n",
      "896/896 [==============================] - 21s 23ms/step - loss: 145.8772 - mae: 7.7412 - val_loss: 241.5196 - val_mae: 9.3341\n",
      "Epoch 21/200\n",
      "895/896 [============================>.] - ETA: 0s - loss: 145.1649 - mae: 7.7203\n",
      "Epoch 21: val_mae improved from 9.07985 to 9.07611, saving model to 6h_BZ_GSM1_transform.keras\n",
      "896/896 [==============================] - 21s 23ms/step - loss: 145.1889 - mae: 7.7221 - val_loss: 227.0557 - val_mae: 9.0761\n",
      "Epoch 22/200\n",
      "894/896 [============================>.] - ETA: 0s - loss: 144.1123 - mae: 7.6939\n",
      "Epoch 22: val_mae did not improve from 9.07611\n",
      "896/896 [==============================] - 21s 23ms/step - loss: 144.0621 - mae: 7.6942 - val_loss: 231.8763 - val_mae: 9.1844\n",
      "Epoch 23/200\n",
      "895/896 [============================>.] - ETA: 0s - loss: 143.0080 - mae: 7.6792\n",
      "Epoch 23: val_mae did not improve from 9.07611\n",
      "896/896 [==============================] - 21s 23ms/step - loss: 143.0645 - mae: 7.6820 - val_loss: 226.7730 - val_mae: 9.1372\n",
      "Epoch 24/200\n",
      "895/896 [============================>.] - ETA: 0s - loss: 142.9052 - mae: 7.6722\n",
      "Epoch 24: val_mae did not improve from 9.07611\n",
      "896/896 [==============================] - 21s 23ms/step - loss: 142.8154 - mae: 7.6699 - val_loss: 251.6295 - val_mae: 9.3232\n",
      "Epoch 25/200\n",
      "895/896 [============================>.] - ETA: 0s - loss: 145.1466 - mae: 7.7189\n",
      "Epoch 25: val_mae did not improve from 9.07611\n",
      "896/896 [==============================] - 20s 22ms/step - loss: 145.2209 - mae: 7.7211 - val_loss: 241.8691 - val_mae: 9.3960\n",
      "Epoch 26/200\n",
      "896/896 [==============================] - ETA: 0s - loss: 143.0545 - mae: 7.6653\n",
      "Epoch 26: val_mae improved from 9.07611 to 9.06785, saving model to 6h_BZ_GSM1_transform.keras\n",
      "896/896 [==============================] - 20s 22ms/step - loss: 143.0545 - mae: 7.6653 - val_loss: 218.9246 - val_mae: 9.0678\n",
      "Epoch 27/200\n",
      "895/896 [============================>.] - ETA: 0s - loss: 142.8119 - mae: 7.6798\n",
      "Epoch 27: val_mae did not improve from 9.06785\n",
      "896/896 [==============================] - 21s 23ms/step - loss: 142.7359 - mae: 7.6780 - val_loss: 229.8052 - val_mae: 9.2214\n",
      "Epoch 28/200\n",
      "895/896 [============================>.] - ETA: 0s - loss: 143.2013 - mae: 7.6916\n",
      "Epoch 28: val_mae did not improve from 9.06785\n",
      "896/896 [==============================] - 21s 23ms/step - loss: 143.1981 - mae: 7.6932 - val_loss: 244.9395 - val_mae: 9.4913\n",
      "Epoch 29/200\n",
      "896/896 [==============================] - ETA: 0s - loss: 142.5238 - mae: 7.6419\n",
      "Epoch 29: val_mae did not improve from 9.06785\n",
      "896/896 [==============================] - 21s 23ms/step - loss: 142.5238 - mae: 7.6419 - val_loss: 252.6094 - val_mae: 9.9211\n",
      "Epoch 30/200\n",
      "895/896 [============================>.] - ETA: 0s - loss: 140.5868 - mae: 7.6092\n",
      "Epoch 30: val_mae did not improve from 9.06785\n",
      "896/896 [==============================] - 20s 22ms/step - loss: 140.4892 - mae: 7.6074 - val_loss: 224.0336 - val_mae: 9.0737\n",
      "Epoch 31/200\n",
      "896/896 [==============================] - ETA: 0s - loss: 142.5271 - mae: 7.6438\n",
      "Epoch 31: val_mae did not improve from 9.06785\n",
      "896/896 [==============================] - 21s 23ms/step - loss: 142.5271 - mae: 7.6438 - val_loss: 223.7089 - val_mae: 9.1612\n",
      "Epoch 32/200\n",
      "895/896 [============================>.] - ETA: 0s - loss: 141.7161 - mae: 7.6416\n",
      "Epoch 32: val_mae did not improve from 9.06785\n",
      "896/896 [==============================] - 20s 23ms/step - loss: 142.1003 - mae: 7.6484 - val_loss: 253.8061 - val_mae: 9.9933\n",
      "Epoch 33/200\n",
      "896/896 [==============================] - ETA: 0s - loss: 141.7370 - mae: 7.6420\n",
      "Epoch 33: val_mae did not improve from 9.06785\n",
      "896/896 [==============================] - 20s 22ms/step - loss: 141.7370 - mae: 7.6420 - val_loss: 228.4295 - val_mae: 9.0842\n",
      "Epoch 34/200\n",
      "894/896 [============================>.] - ETA: 0s - loss: 144.3528 - mae: 7.6873\n",
      "Epoch 34: val_mae did not improve from 9.06785\n",
      "896/896 [==============================] - 20s 22ms/step - loss: 144.1767 - mae: 7.6840 - val_loss: 244.1419 - val_mae: 9.2288\n",
      "Epoch 35/200\n",
      "895/896 [============================>.] - ETA: 0s - loss: 140.4311 - mae: 7.6065\n",
      "Epoch 35: val_mae did not improve from 9.06785\n",
      "896/896 [==============================] - 20s 23ms/step - loss: 140.3362 - mae: 7.6041 - val_loss: 230.5218 - val_mae: 9.1389\n",
      "Epoch 36/200\n",
      "894/896 [============================>.] - ETA: 0s - loss: 141.3843 - mae: 7.6267\n",
      "Epoch 36: val_mae did not improve from 9.06785\n",
      "896/896 [==============================] - 19s 22ms/step - loss: 141.5911 - mae: 7.6304 - val_loss: 250.1422 - val_mae: 9.2854\n",
      "Epoch 37/200\n",
      "895/896 [============================>.] - ETA: 0s - loss: 142.1931 - mae: 7.6416\n",
      "Epoch 37: val_mae did not improve from 9.06785\n",
      "896/896 [==============================] - 21s 23ms/step - loss: 142.1269 - mae: 7.6409 - val_loss: 223.5919 - val_mae: 9.3813\n",
      "Epoch 38/200\n",
      "895/896 [============================>.] - ETA: 0s - loss: 142.0460 - mae: 7.6474\n",
      "Epoch 38: val_mae did not improve from 9.06785\n",
      "896/896 [==============================] - 21s 23ms/step - loss: 141.9880 - mae: 7.6456 - val_loss: 274.7567 - val_mae: 9.7908\n",
      "Epoch 39/200\n",
      "895/896 [============================>.] - ETA: 0s - loss: 142.5809 - mae: 7.6368\n",
      "Epoch 39: val_mae did not improve from 9.06785\n",
      "896/896 [==============================] - 21s 23ms/step - loss: 142.5381 - mae: 7.6365 - val_loss: 241.3175 - val_mae: 9.3005\n",
      "Epoch 40/200\n",
      "895/896 [============================>.] - ETA: 0s - loss: 141.3645 - mae: 7.6224\n",
      "Epoch 40: val_mae did not improve from 9.06785\n",
      "896/896 [==============================] - 21s 23ms/step - loss: 141.2984 - mae: 7.6215 - val_loss: 221.1114 - val_mae: 9.1062\n",
      "Epoch 41/200\n",
      "896/896 [==============================] - ETA: 0s - loss: 140.8837 - mae: 7.6047\n",
      "Epoch 41: val_mae did not improve from 9.06785\n",
      "896/896 [==============================] - 21s 23ms/step - loss: 140.8837 - mae: 7.6047 - val_loss: 235.9900 - val_mae: 9.2722\n",
      "Epoch 42/200\n",
      "895/896 [============================>.] - ETA: 0s - loss: 140.4001 - mae: 7.5960\n",
      "Epoch 42: val_mae did not improve from 9.06785\n",
      "896/896 [==============================] - 20s 23ms/step - loss: 140.3098 - mae: 7.5937 - val_loss: 231.6897 - val_mae: 9.1114\n",
      "Epoch 43/200\n",
      "895/896 [============================>.] - ETA: 0s - loss: 140.8556 - mae: 7.6116\n",
      "Epoch 43: val_mae did not improve from 9.06785\n",
      "896/896 [==============================] - 19s 21ms/step - loss: 140.7786 - mae: 7.6106 - val_loss: 234.1550 - val_mae: 9.1537\n",
      "Epoch 44/200\n",
      "895/896 [============================>.] - ETA: 0s - loss: 140.6182 - mae: 7.6012\n",
      "Epoch 44: val_mae improved from 9.06785 to 9.04288, saving model to 6h_BZ_GSM1_transform.keras\n",
      "896/896 [==============================] - 21s 23ms/step - loss: 140.5350 - mae: 7.5996 - val_loss: 230.0217 - val_mae: 9.0429\n",
      "Epoch 45/200\n",
      "895/896 [============================>.] - ETA: 0s - loss: 140.4913 - mae: 7.6035\n",
      "Epoch 45: val_mae did not improve from 9.04288\n",
      "896/896 [==============================] - 21s 24ms/step - loss: 140.3818 - mae: 7.6008 - val_loss: 218.2095 - val_mae: 9.1168\n",
      "Epoch 46/200\n",
      "896/896 [==============================] - ETA: 0s - loss: 140.0639 - mae: 7.6005\n",
      "Epoch 46: val_mae did not improve from 9.04288\n",
      "896/896 [==============================] - 21s 23ms/step - loss: 140.0639 - mae: 7.6005 - val_loss: 219.7390 - val_mae: 9.0763\n",
      "Epoch 47/200\n",
      "896/896 [==============================] - ETA: 0s - loss: 140.5022 - mae: 7.6015\n",
      "Epoch 47: val_mae did not improve from 9.04288\n",
      "896/896 [==============================] - 21s 24ms/step - loss: 140.5022 - mae: 7.6015 - val_loss: 225.1066 - val_mae: 9.2151\n",
      "Epoch 48/200\n",
      "895/896 [============================>.] - ETA: 0s - loss: 139.2594 - mae: 7.5821\n",
      "Epoch 48: val_mae did not improve from 9.04288\n",
      "896/896 [==============================] - 20s 23ms/step - loss: 139.3360 - mae: 7.5826 - val_loss: 227.0304 - val_mae: 9.0932\n",
      "Epoch 49/200\n",
      "896/896 [==============================] - ETA: 0s - loss: 142.9339 - mae: 7.6607\n",
      "Epoch 49: val_mae did not improve from 9.04288\n",
      "896/896 [==============================] - 21s 23ms/step - loss: 142.9339 - mae: 7.6607 - val_loss: 225.3040 - val_mae: 9.0905\n",
      "Epoch 50/200\n",
      "895/896 [============================>.] - ETA: 0s - loss: 139.2475 - mae: 7.5635\n",
      "Epoch 50: val_mae did not improve from 9.04288\n",
      "896/896 [==============================] - 20s 23ms/step - loss: 139.2629 - mae: 7.5640 - val_loss: 225.5464 - val_mae: 9.1091\n",
      "Epoch 51/200\n",
      "894/896 [============================>.] - ETA: 0s - loss: 142.2991 - mae: 7.6463\n",
      "Epoch 51: val_mae did not improve from 9.04288\n",
      "896/896 [==============================] - 20s 23ms/step - loss: 142.5948 - mae: 7.6508 - val_loss: 232.6631 - val_mae: 9.1645\n",
      "Epoch 52/200\n",
      "895/896 [============================>.] - ETA: 0s - loss: 140.3630 - mae: 7.5868\n",
      "Epoch 52: val_mae improved from 9.04288 to 9.00494, saving model to 6h_BZ_GSM1_transform.keras\n",
      "896/896 [==============================] - 21s 23ms/step - loss: 140.3042 - mae: 7.5856 - val_loss: 220.7237 - val_mae: 9.0049\n",
      "Epoch 53/200\n",
      "894/896 [============================>.] - ETA: 0s - loss: 139.9165 - mae: 7.5899\n",
      "Epoch 53: val_mae did not improve from 9.00494\n",
      "896/896 [==============================] - 20s 23ms/step - loss: 139.9113 - mae: 7.5919 - val_loss: 222.2062 - val_mae: 9.0149\n",
      "Epoch 54/200\n",
      "894/896 [============================>.] - ETA: 0s - loss: 139.2508 - mae: 7.5806\n",
      "Epoch 54: val_mae did not improve from 9.00494\n",
      "896/896 [==============================] - 19s 21ms/step - loss: 139.1489 - mae: 7.5796 - val_loss: 221.7530 - val_mae: 9.0070\n",
      "Epoch 55/200\n",
      "896/896 [==============================] - ETA: 0s - loss: 139.3033 - mae: 7.5838\n",
      "Epoch 55: val_mae did not improve from 9.00494\n",
      "896/896 [==============================] - 19s 21ms/step - loss: 139.3033 - mae: 7.5838 - val_loss: 230.8036 - val_mae: 9.1221\n",
      "Epoch 56/200\n",
      "893/896 [============================>.] - ETA: 0s - loss: 144.0424 - mae: 7.6770\n",
      "Epoch 56: val_mae did not improve from 9.00494\n",
      "896/896 [==============================] - 19s 21ms/step - loss: 143.8489 - mae: 7.6737 - val_loss: 225.9633 - val_mae: 9.0836\n",
      "Epoch 57/200\n",
      "894/896 [============================>.] - ETA: 0s - loss: 140.5210 - mae: 7.5908\n",
      "Epoch 57: val_mae did not improve from 9.00494\n",
      "896/896 [==============================] - 19s 21ms/step - loss: 140.7624 - mae: 7.5974 - val_loss: 237.8228 - val_mae: 9.2801\n",
      "Epoch 58/200\n",
      "894/896 [============================>.] - ETA: 0s - loss: 140.3049 - mae: 7.5926\n",
      "Epoch 58: val_mae did not improve from 9.00494\n",
      "896/896 [==============================] - 19s 21ms/step - loss: 140.2932 - mae: 7.5942 - val_loss: 228.1414 - val_mae: 9.0883\n",
      "Epoch 59/200\n",
      "895/896 [============================>.] - ETA: 0s - loss: 139.2753 - mae: 7.5625\n",
      "Epoch 59: val_mae did not improve from 9.00494\n",
      "896/896 [==============================] - 19s 21ms/step - loss: 139.1792 - mae: 7.5602 - val_loss: 229.1752 - val_mae: 9.1964\n",
      "Epoch 60/200\n",
      "894/896 [============================>.] - ETA: 0s - loss: 139.1571 - mae: 7.5636\n",
      "Epoch 60: val_mae did not improve from 9.00494\n",
      "896/896 [==============================] - 19s 21ms/step - loss: 139.0939 - mae: 7.5629 - val_loss: 226.5809 - val_mae: 9.1875\n",
      "Epoch 61/200\n",
      "895/896 [============================>.] - ETA: 0s - loss: 141.5046 - mae: 7.6289\n",
      "Epoch 61: val_mae did not improve from 9.00494\n",
      "896/896 [==============================] - 19s 21ms/step - loss: 141.4242 - mae: 7.6269 - val_loss: 224.2126 - val_mae: 9.1717\n",
      "Epoch 62/200\n",
      "895/896 [============================>.] - ETA: 0s - loss: 139.8363 - mae: 7.5794\n",
      "Epoch 62: val_mae did not improve from 9.00494\n",
      "896/896 [==============================] - 19s 21ms/step - loss: 139.7545 - mae: 7.5780 - val_loss: 235.6869 - val_mae: 9.1946\n",
      "Epoch 63/200\n",
      "893/896 [============================>.] - ETA: 0s - loss: 139.1116 - mae: 7.5555\n",
      "Epoch 63: val_mae did not improve from 9.00494\n",
      "896/896 [==============================] - 19s 21ms/step - loss: 138.9659 - mae: 7.5545 - val_loss: 228.1288 - val_mae: 9.3376\n",
      "Epoch 64/200\n",
      "894/896 [============================>.] - ETA: 0s - loss: 139.7626 - mae: 7.5863\n",
      "Epoch 64: val_mae did not improve from 9.00494\n",
      "896/896 [==============================] - 19s 21ms/step - loss: 139.5768 - mae: 7.5825 - val_loss: 223.0886 - val_mae: 9.0789\n",
      "Epoch 65/200\n",
      "894/896 [============================>.] - ETA: 0s - loss: 138.8210 - mae: 7.5672\n",
      "Epoch 65: val_mae did not improve from 9.00494\n",
      "896/896 [==============================] - 19s 21ms/step - loss: 138.7626 - mae: 7.5665 - val_loss: 225.8472 - val_mae: 9.0221\n",
      "Epoch 66/200\n",
      "895/896 [============================>.] - ETA: 0s - loss: 138.6022 - mae: 7.5607\n",
      "Epoch 66: val_mae did not improve from 9.00494\n",
      "896/896 [==============================] - 19s 21ms/step - loss: 138.7875 - mae: 7.5655 - val_loss: 237.8491 - val_mae: 9.1395\n",
      "Epoch 67/200\n",
      "896/896 [==============================] - ETA: 0s - loss: 140.3711 - mae: 7.5924\n",
      "Epoch 67: val_mae did not improve from 9.00494\n",
      "896/896 [==============================] - 19s 21ms/step - loss: 140.3711 - mae: 7.5924 - val_loss: 222.0515 - val_mae: 9.0415\n",
      "Epoch 68/200\n",
      "896/896 [==============================] - ETA: 0s - loss: 137.7953 - mae: 7.5478\n",
      "Epoch 68: val_mae did not improve from 9.00494\n",
      "896/896 [==============================] - 19s 21ms/step - loss: 137.7953 - mae: 7.5478 - val_loss: 226.9131 - val_mae: 9.4700\n",
      "Epoch 69/200\n",
      "894/896 [============================>.] - ETA: 0s - loss: 140.0665 - mae: 7.6051\n",
      "Epoch 69: val_mae did not improve from 9.00494\n",
      "896/896 [==============================] - 19s 21ms/step - loss: 140.3940 - mae: 7.6113 - val_loss: 228.5964 - val_mae: 9.4824\n",
      "Epoch 70/200\n",
      "895/896 [============================>.] - ETA: 0s - loss: 140.0229 - mae: 7.5862\n",
      "Epoch 70: val_mae did not improve from 9.00494\n",
      "896/896 [==============================] - 19s 21ms/step - loss: 139.9294 - mae: 7.5840 - val_loss: 239.5657 - val_mae: 9.2201\n",
      "Epoch 71/200\n",
      "893/896 [============================>.] - ETA: 0s - loss: 139.7502 - mae: 7.5605\n",
      "Epoch 71: val_mae did not improve from 9.00494\n",
      "896/896 [==============================] - 19s 21ms/step - loss: 139.6817 - mae: 7.5617 - val_loss: 259.7029 - val_mae: 10.0955\n",
      "Epoch 72/200\n",
      "895/896 [============================>.] - ETA: 0s - loss: 140.7783 - mae: 7.6010\n",
      "Epoch 72: val_mae did not improve from 9.00494\n",
      "896/896 [==============================] - 19s 21ms/step - loss: 140.7022 - mae: 7.5999 - val_loss: 233.5867 - val_mae: 9.2524\n",
      "Epoch 73/200\n",
      "895/896 [============================>.] - ETA: 0s - loss: 138.4864 - mae: 7.5401\n",
      "Epoch 73: val_mae did not improve from 9.00494\n",
      "896/896 [==============================] - 19s 21ms/step - loss: 138.4792 - mae: 7.5417 - val_loss: 220.4994 - val_mae: 9.0642\n",
      "Epoch 74/200\n",
      "895/896 [============================>.] - ETA: 0s - loss: 138.3176 - mae: 7.5511\n",
      "Epoch 74: val_mae did not improve from 9.00494\n",
      "896/896 [==============================] - 18s 21ms/step - loss: 138.3516 - mae: 7.5528 - val_loss: 227.2441 - val_mae: 9.0474\n",
      "Epoch 75/200\n",
      "894/896 [============================>.] - ETA: 0s - loss: 139.8016 - mae: 7.5781\n",
      "Epoch 75: val_mae did not improve from 9.00494\n",
      "896/896 [==============================] - 19s 21ms/step - loss: 139.6963 - mae: 7.5750 - val_loss: 233.7072 - val_mae: 9.1765\n",
      "Epoch 76/200\n",
      "895/896 [============================>.] - ETA: 0s - loss: 140.1011 - mae: 7.5701\n",
      "Epoch 76: val_mae did not improve from 9.00494\n",
      "896/896 [==============================] - 19s 21ms/step - loss: 140.1619 - mae: 7.5731 - val_loss: 236.0378 - val_mae: 9.6598\n",
      "Epoch 77/200\n",
      "894/896 [============================>.] - ETA: 0s - loss: 138.5165 - mae: 7.5492\n",
      "Epoch 77: val_mae did not improve from 9.00494\n",
      "896/896 [==============================] - 19s 21ms/step - loss: 138.7095 - mae: 7.5499 - val_loss: 228.4857 - val_mae: 9.1977\n"
     ]
    }
   ],
   "source": [
    "history = model.fit(train_generator, validation_data=val_generator, epochs=200, verbose=1, callbacks = callbacks_list)"
   ]
  },
  {
   "cell_type": "code",
   "execution_count": 8,
   "id": "b78c14eb-8ccc-484d-9559-e341a22d30a4",
   "metadata": {},
   "outputs": [],
   "source": [
    "model = keras.models.load_model(\n",
    "    '6h_BZ_GSM1_transform.keras', \n",
    "    custom_objects={'TransformerEncoderLayer': TransformerEncoderLayer}\n",
    ")"
   ]
  },
  {
   "cell_type": "code",
   "execution_count": 9,
   "id": "13e782d2-d0ab-4c3a-8f7c-386ac7f4170b",
   "metadata": {},
   "outputs": [
    {
     "name": "stdout",
     "output_type": "stream",
     "text": [
      "633/633 [==============================] - 5s 8ms/step\n"
     ]
    }
   ],
   "source": [
    "y_pred = model.predict(test_generator)"
   ]
  },
  {
   "cell_type": "code",
   "execution_count": 10,
   "id": "8f25268a-3f2d-48fd-9bb8-81f977e9a3f1",
   "metadata": {},
   "outputs": [],
   "source": [
    "from sklearn.metrics import mean_squared_error"
   ]
  },
  {
   "cell_type": "code",
   "execution_count": 11,
   "id": "739dc0d2-c9d1-4bc2-8498-f7810f9cd71b",
   "metadata": {},
   "outputs": [
    {
     "name": "stdout",
     "output_type": "stream",
     "text": [
      "Mean Squared Error: 29.397955592952115\n"
     ]
    }
   ],
   "source": [
    "mse = mean_squared_error(y_test[:-6], y_pred.reshape(-1))\n",
    "print(f\"Mean Squared Error: {mse}\")"
   ]
  },
  {
   "cell_type": "code",
   "execution_count": 12,
   "id": "cb7a11e3-8958-46db-b650-8d32a26fc6c4",
   "metadata": {},
   "outputs": [
    {
     "name": "stdout",
     "output_type": "stream",
     "text": [
      "224/224 [==============================] - 2s 8ms/step\n",
      "Best Threshold for MCC on Validation Set: -21.09999999999996\n",
      "Best MCC on Validation Set: 0.720173741852723\n"
     ]
    }
   ],
   "source": [
    "y_val_pred = model.predict(val_generator)\n",
    "\n",
    "true_labels_val = np.where(y_val[n_input:] <= -20, 1, 0)  \n",
    "\n",
    "def calculate_mcc(y_true, y_pred):\n",
    "    return matthews_corrcoef(y_true, y_pred)\n",
    "\n",
    "thresholds = np.arange(-10, -40, -0.1)\n",
    "mcc_scores = []\n",
    "\n",
    "for thresh in thresholds:\n",
    "    predictions = np.where(y_val_pred <= thresh, 1, 0)\n",
    "    mcc = calculate_mcc(true_labels_val, predictions)\n",
    "    mcc_scores.append(mcc)\n",
    "\n",
    "best_threshold_mcc = thresholds[np.argmax(mcc_scores)]\n",
    "best_mcc = max(mcc_scores)\n",
    "\n",
    "print(\"Best Threshold for MCC on Validation Set:\", best_threshold_mcc)\n",
    "print(\"Best MCC on Validation Set:\", best_mcc)\n",
    "best_threshold_mcc_rounded = round(best_threshold_mcc, 1)"
   ]
  },
  {
   "cell_type": "code",
   "execution_count": 13,
   "id": "39a3ac73-fafc-477e-a24b-b41c043c5cb1",
   "metadata": {
    "tags": []
   },
   "outputs": [
    {
     "name": "stdout",
     "output_type": "stream",
     "text": [
      "Confusion matrix: \n",
      "[[124861   5128]\n",
      " [ 11156  20885]]\n"
     ]
    }
   ],
   "source": [
    "y_pred2 = np.where(y_pred <= best_threshold_mcc_rounded, 1, 0)\n",
    "y_test2 = np.where(y_test[n_input:]  <= -20, 1, 0)\n",
    "\n",
    "cm = confusion_matrix(y_test2, y_pred2)\n",
    "print(\"Confusion matrix: \\n\" + str(cm))\n",
    "#dopočítať MCC"
   ]
  },
  {
   "cell_type": "code",
   "execution_count": 14,
   "id": "f57667b1-0b84-4f96-acb4-c987cfa274db",
   "metadata": {},
   "outputs": [
    {
     "name": "stdout",
     "output_type": "stream",
     "text": [
      "              precision    recall  f1-score   support\n",
      "\n",
      "           0       0.92      0.96      0.94    129989\n",
      "           1       0.80      0.65      0.72     32041\n",
      "\n",
      "    accuracy                           0.90    162030\n",
      "   macro avg       0.86      0.81      0.83    162030\n",
      "weighted avg       0.90      0.90      0.90    162030\n",
      "\n"
     ]
    }
   ],
   "source": [
    "print(classification_report(y_test2, y_pred2))"
   ]
  },
  {
   "cell_type": "code",
   "execution_count": 15,
   "id": "54007936-54c7-4da4-ade2-8a86c7455efd",
   "metadata": {},
   "outputs": [
    {
     "data": {
      "image/png": "[encoded data removed]",
      "text/plain": [
       "<Figure size 640x480 with 1 Axes>"
      ]
     },
     "metadata": {},
     "output_type": "display_data"
    }
   ],
   "source": [
    "df = pd.DataFrame(data={\"time\": test['time1'][n_input:],\"y_true\": y_test[n_input:].reshape(-1) , \"y_predict\": y_pred.reshape(-1)})\n",
    "\n",
    "plt.figure()\n",
    "plt.title('Predicting the change in DST Index')\n",
    "plt.plot(df['time'],df['y_true'], label='Skutočné hodnoty')\n",
    "plt.plot(df['time'],df['y_predict'], label='Predikované hodnoty')\n",
    "plt.legend()\n",
    "plt.gcf().autofmt_xdate()\n",
    "plt.grid(True)"
   ]
  },
  {
   "cell_type": "code",
   "execution_count": 16,
   "id": "1a1e9c8e-27df-42d2-933b-b5bfc0682e39",
   "metadata": {},
   "outputs": [],
   "source": [
    "df.to_csv('Transform_BZ6.csv')"
   ]
  },
  {
   "cell_type": "code",
   "execution_count": 17,
   "id": "6a516fdf-1ce9-4328-a1e6-85aba7cfd968",
   "metadata": {},
   "outputs": [
    {
     "name": "stdout",
     "output_type": "stream",
     "text": [
      "ACC=0.8995000925754489\n",
      "MCC=0.6643999114934354\n"
     ]
    }
   ],
   "source": [
    "TN, FP, FN, TP = cm.ravel()\n",
    "ACC = (TP + TN) / (TP + TN + FP + FN)\n",
    "MCC = matthews_corrcoef(y_test2, y_pred2)\n",
    "print(\"ACC={}\".format(ACC))\n",
    "print(\"MCC={}\".format(MCC))"
   ]
  }
 ],
 "metadata": {
  "kernelspec": {
   "display_name": "Python 3 (ipykernel)",
   "language": "python",
   "name": "python3"
  },
  "language_info": {
   "codemirror_mode": {
    "name": "ipython",
    "version": 3
   },
   "file_extension": ".py",
   "mimetype": "text/x-python",
   "name": "python",
   "nbconvert_exporter": "python",
   "pygments_lexer": "ipython3",
   "version": "3.10.6"
  }
 },
 "nbformat": 4,
 "nbformat_minor": 5
}
