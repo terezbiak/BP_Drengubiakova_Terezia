{
 "cells": [
  {
   "cell_type": "markdown",
   "id": "7339571c-dda1-4fa2-8982-652056713f42",
   "metadata": {},
   "source": [
    "## Model na predikciu DST za pomoci použitia atribútu DST a BZ_GMS o 5 hodín dopredu"
   ]
  },
  {
   "cell_type": "markdown",
   "id": "822a166e-8d19-4879-b510-9b8350f83cfd",
   "metadata": {},
   "source": [
    "Súbor: Transform_DST+5.ipynb\n",
    "\n",
    "Program: Hospodárska informatika\n",
    "\n",
    "Vypracovala: Terézia Drengubiaková\n",
    "\n",
    "Bakalárska práca: : Prediktívne modely v spracovaní dát z oblasti kozmického počasia\n",
    "\n",
    "Vedúci diplomovej práce: doc. Ing. Peter Butka, PhD.\n",
    "\n",
    "Konzultanti: Ing. Viera Krešňáková, PhD., RNDr. Šimon Mackovjak, PhD."
   ]
  },
  {
   "cell_type": "markdown",
   "id": "3770b331-01c3-4c00-ac66-499cd0dd3697",
   "metadata": {},
   "source": [
    "### Import knižníc"
   ]
  },
  {
   "cell_type": "code",
   "execution_count": 1,
   "id": "bcb62d07-67a4-406c-b1cb-8e933d5b0bf4",
   "metadata": {},
   "outputs": [
    {
     "name": "stderr",
     "output_type": "stream",
     "text": [
      "2024-05-17 16:00:54.638353: I tensorflow/core/platform/cpu_feature_guard.cc:193] This TensorFlow binary is optimized with oneAPI Deep Neural Network Library (oneDNN) to use the following CPU instructions in performance-critical operations:  SSE4.1 SSE4.2 AVX AVX2 FMA\n",
      "To enable them in other operations, rebuild TensorFlow with the appropriate compiler flags.\n"
     ]
    }
   ],
   "source": [
    "import pandas as pd\n",
    "import numpy as np\n",
    "from tensorflow import keras\n",
    "import matplotlib.pyplot as plt\n",
    "from sklearn.preprocessing import MinMaxScaler, StandardScaler\n",
    "from pandas.plotting import register_matplotlib_converters\n",
    "register_matplotlib_converters()\n",
    "import seaborn as sns\n",
    "\n",
    "from tensorflow.keras.preprocessing.sequence import TimeseriesGenerator\n",
    "from keras.models import Sequential\n",
    "\n",
    "from keras.layers import Dense, Activation, Dropout, Input, Conv1D, LSTM, MaxPooling1D, Flatten, TimeDistributed, Bidirectional\n",
    "from tensorflow.keras.callbacks import ModelCheckpoint, EarlyStopping\n",
    "from keras.models import Model\n",
    "\n",
    "\n",
    "from scipy.special import expit, logit\n",
    "\n",
    "from sklearn.metrics import confusion_matrix, classification_report, matthews_corrcoef\n",
    "import tensorflow as tf\n",
    "from tensorflow.keras.layers import Layer, MultiHeadAttention, Dropout, LayerNormalization, Dense\n",
    "from tensorflow.keras.layers import MultiHeadAttention, Dense, Input, LayerNormalization, Dropout\n",
    "from tensorflow.keras.models import Model"
   ]
  },
  {
   "cell_type": "markdown",
   "id": "9f60314c-e038-49d0-bf36-baa1e1329e6c",
   "metadata": {},
   "source": [
    "### Načítanie dát, odstránenie na hodnôt, určenie predikovaného atribútu"
   ]
  },
  {
   "cell_type": "code",
   "execution_count": 2,
   "id": "1505d839-8601-4069-b902-29974b8d3285",
   "metadata": {},
   "outputs": [],
   "source": [
    "train = pd.read_csv('train_omni.csv')\n",
    "test = pd.read_csv('test_omni.csv')\n",
    "train['BZ_GSM'] = train['BZ_GSM'].fillna(train['BZ_GSM'].mean())  \n",
    "test['BZ_GSM'] = test['BZ_GSM'].fillna(test['BZ_GSM'].mean())\n",
    "features = ['time1', 'DST', 'DST+5', 'BZ_GSM']\n",
    "test = test[features]\n",
    "train = train[features]\n",
    "train['time1']=pd.to_datetime(train['time1'])\n",
    "test['time1']=pd.to_datetime(test['time1'])\n",
    "predicators = [\"DST\", \"BZ_GSM\"]\n",
    "y_col='DST+5'\n",
    "valid_size = int(len(train) * 0.2)\n",
    "valid = train.iloc[-valid_size:,:].copy()\n",
    "train = train.iloc[:-valid_size,:].copy()\n",
    "\n",
    "y_train = train[y_col].values.copy()\n",
    "X_train = train[predicators].values.copy()\n",
    "y_val = valid[y_col].values.copy()\n",
    "X_val = valid[predicators].values.copy()\n",
    "y_test = test[y_col].values.copy()\n",
    "X_test = test[predicators].values.copy()"
   ]
  },
  {
   "cell_type": "markdown",
   "id": "9ed073c0-7d35-4abf-a172-5186c0d542f1",
   "metadata": {},
   "source": [
    "### Definícia premenných a vytvorenie dátových generátorov"
   ]
  },
  {
   "cell_type": "code",
   "execution_count": 3,
   "id": "27f1b1d3-1433-4f87-a1d1-19536f3eb578",
   "metadata": {},
   "outputs": [],
   "source": [
    "n_input = 6  \n",
    "n_features= len(X_train)  \n",
    "b_size = 256 \n",
    "\n",
    "train_generator = TimeseriesGenerator(X_train, y_train, length=n_input, batch_size=b_size)\n",
    "val_generator = TimeseriesGenerator(X_val, y_val, length=n_input, batch_size=b_size)\n",
    "test_generator = TimeseriesGenerator(X_test, y_test, length=n_input, batch_size=256)"
   ]
  },
  {
   "cell_type": "code",
   "execution_count": 4,
   "id": "693aa2d7-b810-4beb-97d2-aea3b78109da",
   "metadata": {},
   "outputs": [
    {
     "name": "stdout",
     "output_type": "stream",
     "text": [
      "Počet batchov:  896\n",
      "Každý batch má features (X zložku) a labels (y zložku):  2\n",
      "Dĺžka X zložky batchu:  256\n",
      "Dĺžka y zložky batchu (počet meraní v batchi):  256\n",
      "Počet riadkov braných do úvahy pre jedno meranie (koľko sa pozerá dozadu):  6\n"
     ]
    }
   ],
   "source": [
    "print(\"Počet batchov: \", len(train_generator))\n",
    "print(\"Každý batch má features (X zložku) a labels (y zložku): \", len(train_generator[0]))\n",
    "print(\"Dĺžka X zložky batchu: \", len(train_generator[0][0]))\n",
    "print(\"Dĺžka y zložky batchu (počet meraní v batchi): \",len(train_generator[0][1]))\n",
    "print(\"Počet riadkov braných do úvahy pre jedno meranie (koľko sa pozerá dozadu): \", len(train_generator[0][0][0]))"
   ]
  },
  {
   "cell_type": "markdown",
   "id": "32746e2a-2c15-49b3-abaf-895787a5044a",
   "metadata": {},
   "source": [
    "### Vytvorenie modelu"
   ]
  },
  {
   "cell_type": "code",
   "execution_count": 5,
   "id": "1ffc6acc-22ab-4a78-bc3c-adecf6f8f28d",
   "metadata": {},
   "outputs": [
    {
     "name": "stderr",
     "output_type": "stream",
     "text": [
      "2024-05-17 16:01:02.838149: I tensorflow/core/platform/cpu_feature_guard.cc:193] This TensorFlow binary is optimized with oneAPI Deep Neural Network Library (oneDNN) to use the following CPU instructions in performance-critical operations:  SSE4.1 SSE4.2 AVX AVX2 FMA\n",
      "To enable them in other operations, rebuild TensorFlow with the appropriate compiler flags.\n"
     ]
    },
    {
     "name": "stdout",
     "output_type": "stream",
     "text": [
      "Model: \"model\"\n",
      "_________________________________________________________________\n",
      " Layer (type)                Output Shape              Param #   \n",
      "=================================================================\n",
      " input_1 (InputLayer)        [(None, 6, 2)]            0         \n",
      "                                                                 \n",
      " transformer_encoder_layer (  (None, 6, 64)            66752     \n",
      " TransformerEncoderLayer)                                        \n",
      "                                                                 \n",
      " flatten (Flatten)           (None, 384)               0         \n",
      "                                                                 \n",
      " dense_3 (Dense)             (None, 1)                 385       \n",
      "                                                                 \n",
      "=================================================================\n",
      "Total params: 67,137\n",
      "Trainable params: 67,137\n",
      "Non-trainable params: 0\n",
      "_________________________________________________________________\n"
     ]
    }
   ],
   "source": [
    "class TransformerEncoderLayer(Layer):\n",
    "    def __init__(self, embed_dim, num_heads, ff_dim, input_dim, rate=0.1, **kwargs):\n",
    "        super(TransformerEncoderLayer, self).__init__(**kwargs)\n",
    "        self.embed_dim = embed_dim\n",
    "        self.num_heads = num_heads\n",
    "        self.ff_dim = ff_dim\n",
    "        self.input_dim = input_dim\n",
    "        self.rate = rate\n",
    "        self.input_proj = Dense(embed_dim)\n",
    "        self.att = MultiHeadAttention(num_heads=num_heads, key_dim=embed_dim)\n",
    "        self.ffn = tf.keras.Sequential([\n",
    "            Dense(ff_dim, activation=\"relu\"),\n",
    "            Dense(embed_dim)\n",
    "        ])\n",
    "        self.layernorm1 = LayerNormalization(epsilon=1e-6)\n",
    "        self.layernorm2 = LayerNormalization(epsilon=1e-6)\n",
    "        self.dropout1 = Dropout(rate)\n",
    "        self.dropout2 = Dropout(rate)\n",
    "\n",
    "    def call(self, inputs, training=False):\n",
    "        inputs_proj = self.input_proj(inputs)\n",
    "        attn_output = self.att(inputs_proj, inputs_proj)\n",
    "        attn_output = self.dropout1(attn_output, training=training)\n",
    "        out1 = self.layernorm1(inputs_proj + attn_output)\n",
    "        ffn_output = self.ffn(out1)\n",
    "        ffn_output = self.dropout2(ffn_output, training=training)\n",
    "        return self.layernorm2(out1 + ffn_output)\n",
    "\n",
    "    def get_config(self):\n",
    "        config = super().get_config()\n",
    "        config.update({\n",
    "            'embed_dim': self.embed_dim,\n",
    "            'num_heads': self.num_heads,\n",
    "            'ff_dim': self.ff_dim,\n",
    "            'input_dim': self.input_dim,\n",
    "            'rate': self.rate\n",
    "        })\n",
    "        return config\n",
    "\n",
    "def build_model(input_shape, embed_dim, num_heads, ff_dim, rate=0.1):\n",
    "    inputs = tf.keras.Input(shape=input_shape)\n",
    "    x = TransformerEncoderLayer(embed_dim, num_heads, ff_dim, input_shape[-1], rate)(inputs)\n",
    "    x = Flatten()(x)\n",
    "    x = Dense(1, activation='linear')(x)\n",
    "    return tf.keras.Model(inputs=inputs, outputs=x)\n",
    "\n",
    "model = build_model((6, 2), embed_dim=64, num_heads=2, ff_dim=256)\n",
    "model.compile(loss='mse', optimizer='adam', metrics=['mae'])\n",
    "model.summary()"
   ]
  },
  {
   "cell_type": "code",
   "execution_count": 6,
   "id": "73f5a329-7500-46c5-86fe-dad78109b31a",
   "metadata": {},
   "outputs": [],
   "source": [
    "saved_model = \"5h_BZ_GSM1_transform.keras\"\n",
    "checkpoint = ModelCheckpoint(saved_model, monitor='val_mae', verbose=1, save_best_only=True, mode='min')\n",
    "early = EarlyStopping(monitor=\"val_mae\", mode=\"min\", patience=25)\n",
    "callbacks_list = [checkpoint, early]"
   ]
  },
  {
   "cell_type": "markdown",
   "id": "d76c306d-4e25-4fc7-8f4e-46e6a7220df7",
   "metadata": {},
   "source": [
    "### Trénovanie"
   ]
  },
  {
   "cell_type": "code",
   "execution_count": 7,
   "id": "4af77537-6a82-4e7c-9458-9544487c1c5b",
   "metadata": {
    "collapsed": true,
    "jupyter": {
     "outputs_hidden": true
    },
    "tags": []
   },
   "outputs": [
    {
     "name": "stdout",
     "output_type": "stream",
     "text": [
      "Epoch 1/200\n",
      "895/896 [============================>.] - ETA: 0s - loss: 251.7512 - mae: 9.6404\n",
      "Epoch 1: val_mae improved from inf to 12.26964, saving model to 5h_BZ_GSM1_transform.keras\n",
      "896/896 [==============================] - 22s 22ms/step - loss: 251.7157 - mae: 9.6413 - val_loss: 438.6019 - val_mae: 12.2696\n",
      "Epoch 2/200\n",
      "895/896 [============================>.] - ETA: 0s - loss: 167.5961 - mae: 8.0382\n",
      "Epoch 2: val_mae improved from 12.26964 to 9.82546, saving model to 5h_BZ_GSM1_transform.keras\n",
      "896/896 [==============================] - 20s 22ms/step - loss: 167.5024 - mae: 8.0372 - val_loss: 304.9722 - val_mae: 9.8255\n",
      "Epoch 3/200\n",
      "893/896 [============================>.] - ETA: 0s - loss: 152.4288 - mae: 7.8015\n",
      "Epoch 3: val_mae improved from 9.82546 to 9.59856, saving model to 5h_BZ_GSM1_transform.keras\n",
      "896/896 [==============================] - 20s 22ms/step - loss: 152.3392 - mae: 7.8016 - val_loss: 289.6793 - val_mae: 9.5986\n",
      "Epoch 4/200\n",
      "895/896 [============================>.] - ETA: 0s - loss: 146.5247 - mae: 7.7415\n",
      "Epoch 4: val_mae improved from 9.59856 to 8.71126, saving model to 5h_BZ_GSM1_transform.keras\n",
      "896/896 [==============================] - 19s 22ms/step - loss: 146.4749 - mae: 7.7406 - val_loss: 226.1547 - val_mae: 8.7113\n",
      "Epoch 5/200\n",
      "895/896 [============================>.] - ETA: 0s - loss: 136.7007 - mae: 7.5085\n",
      "Epoch 5: val_mae did not improve from 8.71126\n",
      "896/896 [==============================] - 20s 23ms/step - loss: 136.6111 - mae: 7.5057 - val_loss: 241.7733 - val_mae: 9.2083\n",
      "Epoch 6/200\n",
      "896/896 [==============================] - ETA: 0s - loss: 141.6182 - mae: 7.6230\n",
      "Epoch 6: val_mae did not improve from 8.71126\n",
      "896/896 [==============================] - 20s 23ms/step - loss: 141.6182 - mae: 7.6230 - val_loss: 213.1184 - val_mae: 8.7253\n",
      "Epoch 7/200\n",
      "896/896 [==============================] - ETA: 0s - loss: 139.2994 - mae: 7.5617\n",
      "Epoch 7: val_mae did not improve from 8.71126\n",
      "896/896 [==============================] - 20s 22ms/step - loss: 139.2994 - mae: 7.5617 - val_loss: 216.8252 - val_mae: 9.3569\n",
      "Epoch 8/200\n",
      "894/896 [============================>.] - ETA: 0s - loss: 130.1138 - mae: 7.3555\n",
      "Epoch 8: val_mae did not improve from 8.71126\n",
      "896/896 [==============================] - 21s 24ms/step - loss: 130.4299 - mae: 7.3620 - val_loss: 232.0125 - val_mae: 9.0497\n",
      "Epoch 9/200\n",
      "896/896 [==============================] - ETA: 0s - loss: 131.1279 - mae: 7.4142\n",
      "Epoch 9: val_mae did not improve from 8.71126\n",
      "896/896 [==============================] - 21s 23ms/step - loss: 131.1279 - mae: 7.4142 - val_loss: 227.3694 - val_mae: 8.7727\n",
      "Epoch 10/200\n",
      "895/896 [============================>.] - ETA: 0s - loss: 131.0235 - mae: 7.4229\n",
      "Epoch 10: val_mae improved from 8.71126 to 8.44513, saving model to 5h_BZ_GSM1_transform.keras\n",
      "896/896 [==============================] - 21s 23ms/step - loss: 130.9458 - mae: 7.4215 - val_loss: 201.5488 - val_mae: 8.4451\n",
      "Epoch 11/200\n",
      "896/896 [==============================] - ETA: 0s - loss: 131.7949 - mae: 7.3982\n",
      "Epoch 11: val_mae did not improve from 8.44513\n",
      "896/896 [==============================] - 20s 23ms/step - loss: 131.7949 - mae: 7.3982 - val_loss: 220.2455 - val_mae: 8.6785\n",
      "Epoch 12/200\n",
      "896/896 [==============================] - ETA: 0s - loss: 127.2731 - mae: 7.2990\n",
      "Epoch 12: val_mae did not improve from 8.44513\n",
      "896/896 [==============================] - 21s 23ms/step - loss: 127.2731 - mae: 7.2990 - val_loss: 203.1966 - val_mae: 8.6122\n",
      "Epoch 13/200\n",
      "894/896 [============================>.] - ETA: 0s - loss: 130.1763 - mae: 7.3812\n",
      "Epoch 13: val_mae did not improve from 8.44513\n",
      "896/896 [==============================] - 21s 24ms/step - loss: 130.0934 - mae: 7.3779 - val_loss: 196.2777 - val_mae: 8.4576\n",
      "Epoch 14/200\n",
      "896/896 [==============================] - ETA: 0s - loss: 127.4746 - mae: 7.2919\n",
      "Epoch 14: val_mae did not improve from 8.44513\n",
      "896/896 [==============================] - 21s 23ms/step - loss: 127.4746 - mae: 7.2919 - val_loss: 197.8758 - val_mae: 8.5426\n",
      "Epoch 15/200\n",
      "896/896 [==============================] - ETA: 0s - loss: 128.7948 - mae: 7.3167\n",
      "Epoch 15: val_mae did not improve from 8.44513\n",
      "896/896 [==============================] - 21s 23ms/step - loss: 128.7948 - mae: 7.3167 - val_loss: 195.7683 - val_mae: 8.5019\n",
      "Epoch 16/200\n",
      "896/896 [==============================] - ETA: 0s - loss: 125.2753 - mae: 7.2323\n",
      "Epoch 16: val_mae did not improve from 8.44513\n",
      "896/896 [==============================] - 21s 24ms/step - loss: 125.2753 - mae: 7.2323 - val_loss: 205.9290 - val_mae: 8.5529\n",
      "Epoch 17/200\n",
      "894/896 [============================>.] - ETA: 0s - loss: 127.4976 - mae: 7.2899\n",
      "Epoch 17: val_mae did not improve from 8.44513\n",
      "896/896 [==============================] - 21s 24ms/step - loss: 127.4797 - mae: 7.2901 - val_loss: 200.7780 - val_mae: 8.6107\n",
      "Epoch 18/200\n",
      "894/896 [============================>.] - ETA: 0s - loss: 124.8697 - mae: 7.2454\n",
      "Epoch 18: val_mae did not improve from 8.44513\n",
      "896/896 [==============================] - 20s 22ms/step - loss: 124.9151 - mae: 7.2472 - val_loss: 199.1651 - val_mae: 8.5022\n",
      "Epoch 19/200\n",
      "895/896 [============================>.] - ETA: 0s - loss: 123.9777 - mae: 7.2216\n",
      "Epoch 19: val_mae improved from 8.44513 to 8.39970, saving model to 5h_BZ_GSM1_transform.keras\n",
      "896/896 [==============================] - 21s 23ms/step - loss: 124.3405 - mae: 7.2241 - val_loss: 195.9646 - val_mae: 8.3997\n",
      "Epoch 20/200\n",
      "896/896 [==============================] - ETA: 0s - loss: 124.6289 - mae: 7.2218\n",
      "Epoch 20: val_mae did not improve from 8.39970\n",
      "896/896 [==============================] - 21s 23ms/step - loss: 124.6289 - mae: 7.2218 - val_loss: 197.4320 - val_mae: 8.8576\n",
      "Epoch 21/200\n",
      "895/896 [============================>.] - ETA: 0s - loss: 126.2066 - mae: 7.2895\n",
      "Epoch 21: val_mae did not improve from 8.39970\n",
      "896/896 [==============================] - 21s 23ms/step - loss: 126.1966 - mae: 7.2904 - val_loss: 212.2823 - val_mae: 8.8074\n",
      "Epoch 22/200\n",
      "896/896 [==============================] - ETA: 0s - loss: 124.0779 - mae: 7.2024\n",
      "Epoch 22: val_mae did not improve from 8.39970\n",
      "896/896 [==============================] - 21s 24ms/step - loss: 124.0779 - mae: 7.2024 - val_loss: 202.3215 - val_mae: 9.0007\n",
      "Epoch 23/200\n",
      "896/896 [==============================] - ETA: 0s - loss: 125.0978 - mae: 7.2430\n",
      "Epoch 23: val_mae did not improve from 8.39970\n",
      "896/896 [==============================] - 21s 23ms/step - loss: 125.0978 - mae: 7.2430 - val_loss: 217.0244 - val_mae: 9.0992\n",
      "Epoch 24/200\n",
      "896/896 [==============================] - ETA: 0s - loss: 124.1534 - mae: 7.2229\n",
      "Epoch 24: val_mae did not improve from 8.39970\n",
      "896/896 [==============================] - 21s 24ms/step - loss: 124.1534 - mae: 7.2229 - val_loss: 193.2699 - val_mae: 8.4330\n",
      "Epoch 25/200\n",
      "894/896 [============================>.] - ETA: 0s - loss: 123.7044 - mae: 7.1981\n",
      "Epoch 25: val_mae did not improve from 8.39970\n",
      "896/896 [==============================] - 21s 24ms/step - loss: 123.7806 - mae: 7.2008 - val_loss: 194.3591 - val_mae: 8.6706\n",
      "Epoch 26/200\n",
      "895/896 [============================>.] - ETA: 0s - loss: 122.5968 - mae: 7.1764\n",
      "Epoch 26: val_mae did not improve from 8.39970\n",
      "896/896 [==============================] - 20s 22ms/step - loss: 122.5339 - mae: 7.1751 - val_loss: 210.4291 - val_mae: 9.0715\n",
      "Epoch 27/200\n",
      "895/896 [============================>.] - ETA: 0s - loss: 124.4462 - mae: 7.2149\n",
      "Epoch 27: val_mae did not improve from 8.39970\n",
      "896/896 [==============================] - 20s 22ms/step - loss: 124.3797 - mae: 7.2133 - val_loss: 197.5376 - val_mae: 8.4250\n",
      "Epoch 28/200\n",
      "894/896 [============================>.] - ETA: 0s - loss: 123.9319 - mae: 7.1972\n",
      "Epoch 28: val_mae did not improve from 8.39970\n",
      "896/896 [==============================] - 21s 23ms/step - loss: 123.7981 - mae: 7.1954 - val_loss: 214.9790 - val_mae: 8.6182\n",
      "Epoch 29/200\n",
      "895/896 [============================>.] - ETA: 0s - loss: 122.4367 - mae: 7.1740\n",
      "Epoch 29: val_mae improved from 8.39970 to 8.37570, saving model to 5h_BZ_GSM1_transform.keras\n",
      "896/896 [==============================] - 20s 22ms/step - loss: 122.3473 - mae: 7.1719 - val_loss: 187.6293 - val_mae: 8.3757\n",
      "Epoch 30/200\n",
      "894/896 [============================>.] - ETA: 0s - loss: 124.8642 - mae: 7.2231\n",
      "Epoch 30: val_mae did not improve from 8.37570\n",
      "896/896 [==============================] - 20s 22ms/step - loss: 124.7563 - mae: 7.2216 - val_loss: 199.1755 - val_mae: 8.4960\n",
      "Epoch 31/200\n",
      "894/896 [============================>.] - ETA: 0s - loss: 121.8631 - mae: 7.1736\n",
      "Epoch 31: val_mae improved from 8.37570 to 8.35489, saving model to 5h_BZ_GSM1_transform.keras\n",
      "896/896 [==============================] - 22s 24ms/step - loss: 122.0123 - mae: 7.1788 - val_loss: 186.5869 - val_mae: 8.3549\n",
      "Epoch 32/200\n",
      "896/896 [==============================] - ETA: 0s - loss: 123.0860 - mae: 7.1856\n",
      "Epoch 32: val_mae did not improve from 8.35489\n",
      "896/896 [==============================] - 21s 24ms/step - loss: 123.0860 - mae: 7.1856 - val_loss: 215.3305 - val_mae: 9.2029\n",
      "Epoch 33/200\n",
      "895/896 [============================>.] - ETA: 0s - loss: 122.4619 - mae: 7.1425\n",
      "Epoch 33: val_mae did not improve from 8.35489\n",
      "896/896 [==============================] - 21s 23ms/step - loss: 122.5268 - mae: 7.1447 - val_loss: 184.6636 - val_mae: 8.4938\n",
      "Epoch 34/200\n",
      "896/896 [==============================] - ETA: 0s - loss: 121.1771 - mae: 7.1444\n",
      "Epoch 34: val_mae improved from 8.35489 to 8.34041, saving model to 5h_BZ_GSM1_transform.keras\n",
      "896/896 [==============================] - 21s 23ms/step - loss: 121.1771 - mae: 7.1444 - val_loss: 187.5202 - val_mae: 8.3404\n",
      "Epoch 35/200\n",
      "895/896 [============================>.] - ETA: 0s - loss: 122.7916 - mae: 7.1660\n",
      "Epoch 35: val_mae did not improve from 8.34041\n",
      "896/896 [==============================] - 21s 23ms/step - loss: 122.8522 - mae: 7.1686 - val_loss: 195.3514 - val_mae: 8.4400\n",
      "Epoch 36/200\n",
      "896/896 [==============================] - ETA: 0s - loss: 122.0709 - mae: 7.1510\n",
      "Epoch 36: val_mae did not improve from 8.34041\n",
      "896/896 [==============================] - 20s 23ms/step - loss: 122.0709 - mae: 7.1510 - val_loss: 187.0432 - val_mae: 8.3494\n",
      "Epoch 37/200\n",
      "895/896 [============================>.] - ETA: 0s - loss: 120.7114 - mae: 7.1286\n",
      "Epoch 37: val_mae did not improve from 8.34041\n",
      "896/896 [==============================] - 21s 23ms/step - loss: 120.7459 - mae: 7.1302 - val_loss: 195.3179 - val_mae: 8.6348\n",
      "Epoch 38/200\n",
      "894/896 [============================>.] - ETA: 0s - loss: 121.5417 - mae: 7.1546\n",
      "Epoch 38: val_mae did not improve from 8.34041\n",
      "896/896 [==============================] - 21s 24ms/step - loss: 121.4149 - mae: 7.1511 - val_loss: 192.4180 - val_mae: 8.4112\n",
      "Epoch 39/200\n",
      "895/896 [============================>.] - ETA: 0s - loss: 121.1374 - mae: 7.1425\n",
      "Epoch 39: val_mae did not improve from 8.34041\n",
      "896/896 [==============================] - 21s 23ms/step - loss: 121.0423 - mae: 7.1396 - val_loss: 201.2895 - val_mae: 8.4824\n",
      "Epoch 40/200\n",
      "895/896 [============================>.] - ETA: 0s - loss: 123.5972 - mae: 7.2001\n",
      "Epoch 40: val_mae did not improve from 8.34041\n",
      "896/896 [==============================] - 21s 24ms/step - loss: 123.5298 - mae: 7.1987 - val_loss: 187.6071 - val_mae: 8.4611\n",
      "Epoch 41/200\n",
      "894/896 [============================>.] - ETA: 0s - loss: 120.5395 - mae: 7.1147\n",
      "Epoch 41: val_mae did not improve from 8.34041\n",
      "896/896 [==============================] - 21s 23ms/step - loss: 120.4859 - mae: 7.1147 - val_loss: 190.4432 - val_mae: 8.4923\n",
      "Epoch 42/200\n",
      "894/896 [============================>.] - ETA: 0s - loss: 120.2607 - mae: 7.1268\n",
      "Epoch 42: val_mae did not improve from 8.34041\n",
      "896/896 [==============================] - 22s 24ms/step - loss: 120.3195 - mae: 7.1279 - val_loss: 186.4644 - val_mae: 8.3955\n",
      "Epoch 43/200\n",
      "895/896 [============================>.] - ETA: 0s - loss: 119.2749 - mae: 7.0897\n",
      "Epoch 43: val_mae did not improve from 8.34041\n",
      "896/896 [==============================] - 21s 24ms/step - loss: 119.2081 - mae: 7.0882 - val_loss: 185.4990 - val_mae: 8.3685\n",
      "Epoch 44/200\n",
      "893/896 [============================>.] - ETA: 0s - loss: 122.8004 - mae: 7.1632\n",
      "Epoch 44: val_mae did not improve from 8.34041\n",
      "896/896 [==============================] - 20s 22ms/step - loss: 122.7575 - mae: 7.1626 - val_loss: 186.9388 - val_mae: 8.3799\n",
      "Epoch 45/200\n",
      "896/896 [==============================] - ETA: 0s - loss: 120.6980 - mae: 7.1282\n",
      "Epoch 45: val_mae did not improve from 8.34041\n",
      "896/896 [==============================] - 21s 23ms/step - loss: 120.6980 - mae: 7.1282 - val_loss: 185.8701 - val_mae: 8.4170\n",
      "Epoch 46/200\n",
      "894/896 [============================>.] - ETA: 0s - loss: 121.5486 - mae: 7.1317\n",
      "Epoch 46: val_mae did not improve from 8.34041\n",
      "896/896 [==============================] - 22s 24ms/step - loss: 121.4378 - mae: 7.1297 - val_loss: 188.6881 - val_mae: 8.4305\n",
      "Epoch 47/200\n",
      "896/896 [==============================] - ETA: 0s - loss: 120.4290 - mae: 7.1104\n",
      "Epoch 47: val_mae did not improve from 8.34041\n",
      "896/896 [==============================] - 21s 24ms/step - loss: 120.4290 - mae: 7.1104 - val_loss: 186.4677 - val_mae: 8.5695\n",
      "Epoch 48/200\n",
      "895/896 [============================>.] - ETA: 0s - loss: 120.0781 - mae: 7.1149\n",
      "Epoch 48: val_mae did not improve from 8.34041\n",
      "896/896 [==============================] - 21s 23ms/step - loss: 120.4813 - mae: 7.1213 - val_loss: 188.7259 - val_mae: 8.3411\n",
      "Epoch 49/200\n",
      "895/896 [============================>.] - ETA: 0s - loss: 120.8529 - mae: 7.1295\n",
      "Epoch 49: val_mae did not improve from 8.34041\n",
      "896/896 [==============================] - 21s 23ms/step - loss: 120.8024 - mae: 7.1287 - val_loss: 192.9666 - val_mae: 8.3704\n",
      "Epoch 50/200\n",
      "896/896 [==============================] - ETA: 0s - loss: 120.5703 - mae: 7.1333\n",
      "Epoch 50: val_mae did not improve from 8.34041\n",
      "896/896 [==============================] - 21s 23ms/step - loss: 120.5703 - mae: 7.1333 - val_loss: 188.4097 - val_mae: 8.3573\n",
      "Epoch 51/200\n",
      "895/896 [============================>.] - ETA: 0s - loss: 121.5860 - mae: 7.1353\n",
      "Epoch 51: val_mae did not improve from 8.34041\n",
      "896/896 [==============================] - 21s 23ms/step - loss: 121.6268 - mae: 7.1363 - val_loss: 191.9213 - val_mae: 8.3791\n",
      "Epoch 52/200\n",
      "896/896 [==============================] - ETA: 0s - loss: 121.9892 - mae: 7.1632\n",
      "Epoch 52: val_mae did not improve from 8.34041\n",
      "896/896 [==============================] - 21s 23ms/step - loss: 121.9892 - mae: 7.1632 - val_loss: 224.1369 - val_mae: 9.1912\n",
      "Epoch 53/200\n",
      "896/896 [==============================] - ETA: 0s - loss: 119.6678 - mae: 7.1031\n",
      "Epoch 53: val_mae did not improve from 8.34041\n",
      "896/896 [==============================] - 21s 23ms/step - loss: 119.6678 - mae: 7.1031 - val_loss: 180.9608 - val_mae: 8.3479\n",
      "Epoch 54/200\n",
      "893/896 [============================>.] - ETA: 0s - loss: 118.7155 - mae: 7.0816\n",
      "Epoch 54: val_mae did not improve from 8.34041\n",
      "896/896 [==============================] - 19s 22ms/step - loss: 118.7469 - mae: 7.0825 - val_loss: 182.6494 - val_mae: 8.3553\n",
      "Epoch 55/200\n",
      "894/896 [============================>.] - ETA: 0s - loss: 122.6428 - mae: 7.1574\n",
      "Epoch 55: val_mae did not improve from 8.34041\n",
      "896/896 [==============================] - 20s 22ms/step - loss: 122.5658 - mae: 7.1561 - val_loss: 193.5113 - val_mae: 8.6357\n",
      "Epoch 56/200\n",
      "894/896 [============================>.] - ETA: 0s - loss: 119.9945 - mae: 7.1074\n",
      "Epoch 56: val_mae did not improve from 8.34041\n",
      "896/896 [==============================] - 20s 23ms/step - loss: 120.0190 - mae: 7.1092 - val_loss: 198.1348 - val_mae: 8.5185\n",
      "Epoch 57/200\n",
      "895/896 [============================>.] - ETA: 0s - loss: 120.2178 - mae: 7.1233\n",
      "Epoch 57: val_mae did not improve from 8.34041\n",
      "896/896 [==============================] - 21s 23ms/step - loss: 120.2480 - mae: 7.1252 - val_loss: 182.6040 - val_mae: 8.5378\n",
      "Epoch 58/200\n",
      "894/896 [============================>.] - ETA: 0s - loss: 120.1282 - mae: 7.1319\n",
      "Epoch 58: val_mae did not improve from 8.34041\n",
      "896/896 [==============================] - 19s 22ms/step - loss: 120.1178 - mae: 7.1320 - val_loss: 187.8076 - val_mae: 8.3525\n",
      "Epoch 59/200\n",
      "894/896 [============================>.] - ETA: 0s - loss: 119.9942 - mae: 7.1117\n",
      "Epoch 59: val_mae did not improve from 8.34041\n",
      "896/896 [==============================] - 20s 23ms/step - loss: 120.0021 - mae: 7.1137 - val_loss: 194.7215 - val_mae: 8.4632\n"
     ]
    }
   ],
   "source": [
    "history = model.fit(train_generator, validation_data=val_generator, epochs=200, verbose=1, callbacks = callbacks_list)"
   ]
  },
  {
   "cell_type": "markdown",
   "id": "5e4731f3-57cb-4a1b-a4b3-4c9a869b7325",
   "metadata": {},
   "source": [
    "### Načítanie najlepšieho modelu"
   ]
  },
  {
   "cell_type": "code",
   "execution_count": 8,
   "id": "b78c14eb-8ccc-484d-9559-e341a22d30a4",
   "metadata": {},
   "outputs": [],
   "source": [
    "model = keras.models.load_model(\n",
    "    '5h_BZ_GSM1_transform.keras', \n",
    "    custom_objects={'TransformerEncoderLayer': TransformerEncoderLayer}\n",
    ")"
   ]
  },
  {
   "cell_type": "markdown",
   "id": "bbc20f19-2bd5-4bce-b75a-bb958a007e46",
   "metadata": {},
   "source": [
    "### Vytvorenie predikcií"
   ]
  },
  {
   "cell_type": "code",
   "execution_count": 9,
   "id": "13e782d2-d0ab-4c3a-8f7c-386ac7f4170b",
   "metadata": {},
   "outputs": [
    {
     "name": "stdout",
     "output_type": "stream",
     "text": [
      "633/633 [==============================] - 6s 9ms/step\n"
     ]
    }
   ],
   "source": [
    "y_pred = model.predict(test_generator)"
   ]
  },
  {
   "cell_type": "markdown",
   "id": "4cef330c-0a68-4226-9c02-174af1db68cd",
   "metadata": {},
   "source": [
    "### Nájdenie optimálneho thresholdu na validačnej sade"
   ]
  },
  {
   "cell_type": "code",
   "execution_count": 12,
   "id": "cb7a11e3-8958-46db-b650-8d32a26fc6c4",
   "metadata": {},
   "outputs": [
    {
     "name": "stdout",
     "output_type": "stream",
     "text": [
      "224/224 [==============================] - 2s 9ms/step\n",
      "Best Threshold for MCC on Validation Set: -19.999999999999964\n",
      "Best MCC on Validation Set: 0.7433210894094078\n"
     ]
    }
   ],
   "source": [
    "y_val_pred = model.predict(val_generator)\n",
    "\n",
    "true_labels_val = np.where(y_val[n_input:] <= -20, 1, 0)  \n",
    "\n",
    "def calculate_mcc(y_true, y_pred):\n",
    "    return matthews_corrcoef(y_true, y_pred)\n",
    "\n",
    "thresholds = np.arange(-10, -40, -0.1)\n",
    "mcc_scores = []\n",
    "\n",
    "for thresh in thresholds:\n",
    "    predictions = np.where(y_val_pred <= thresh, 1, 0)\n",
    "    mcc = calculate_mcc(true_labels_val, predictions)\n",
    "    mcc_scores.append(mcc)\n",
    "\n",
    "best_threshold_mcc = thresholds[np.argmax(mcc_scores)]\n",
    "best_mcc = max(mcc_scores)\n",
    "\n",
    "print(\"Best Threshold for MCC on Validation Set:\", best_threshold_mcc)\n",
    "print(\"Best MCC on Validation Set:\", best_mcc)\n",
    "best_threshold_mcc_rounded = round(best_threshold_mcc, 1)"
   ]
  },
  {
   "cell_type": "markdown",
   "id": "388661ed-2575-4363-9f6d-dd8a0f40a033",
   "metadata": {},
   "source": [
    "### Výpočet metrík, vykreslenie grafu predikcie a uloženie predikcií"
   ]
  },
  {
   "cell_type": "code",
   "execution_count": 10,
   "id": "8f25268a-3f2d-48fd-9bb8-81f977e9a3f1",
   "metadata": {},
   "outputs": [],
   "source": [
    "from sklearn.metrics import mean_squared_error"
   ]
  },
  {
   "cell_type": "code",
   "execution_count": 11,
   "id": "739dc0d2-c9d1-4bc2-8498-f7810f9cd71b",
   "metadata": {},
   "outputs": [
    {
     "name": "stdout",
     "output_type": "stream",
     "text": [
      "Mean Squared Error: 46.47086536825392\n"
     ]
    }
   ],
   "source": [
    "mse = mean_squared_error(y_test[:-6], y_pred.reshape(-1))\n",
    "print(f\"Mean Squared Error: {mse}\")"
   ]
  },
  {
   "cell_type": "code",
   "execution_count": 13,
   "id": "39a3ac73-fafc-477e-a24b-b41c043c5cb1",
   "metadata": {
    "tags": []
   },
   "outputs": [
    {
     "name": "stdout",
     "output_type": "stream",
     "text": [
      "Confusion matrix: \n",
      "[[124993   4996]\n",
      " [ 10305  21736]]\n"
     ]
    }
   ],
   "source": [
    "y_pred2 = np.where(y_pred <= best_threshold_mcc_rounded, 1, 0)\n",
    "y_test2 = np.where(y_test[n_input:]  <= -20, 1, 0)\n",
    "\n",
    "cm = confusion_matrix(y_test2, y_pred2)\n",
    "print(\"Confusion matrix: \\n\" + str(cm))\n"
   ]
  },
  {
   "cell_type": "code",
   "execution_count": 14,
   "id": "f57667b1-0b84-4f96-acb4-c987cfa274db",
   "metadata": {},
   "outputs": [
    {
     "name": "stdout",
     "output_type": "stream",
     "text": [
      "              precision    recall  f1-score   support\n",
      "\n",
      "           0       0.92      0.96      0.94    129989\n",
      "           1       0.81      0.68      0.74     32041\n",
      "\n",
      "    accuracy                           0.91    162030\n",
      "   macro avg       0.87      0.82      0.84    162030\n",
      "weighted avg       0.90      0.91      0.90    162030\n",
      "\n"
     ]
    }
   ],
   "source": [
    "print(classification_report(y_test2, y_pred2))"
   ]
  },
  {
   "cell_type": "code",
   "execution_count": 15,
   "id": "2feaa5dc-3d99-4818-a16f-ab98e5552fc5",
   "metadata": {},
   "outputs": [
    {
     "data": {
      "image/png": "[encoded data removed]",
      "text/plain": [
       "<Figure size 640x480 with 1 Axes>"
      ]
     },
     "metadata": {},
     "output_type": "display_data"
    }
   ],
   "source": [
    "df = pd.DataFrame(data={\"time\": test['time1'][n_input:],\"y_true\": y_test[n_input:].reshape(-1) , \"y_predict\": y_pred.reshape(-1)})\n",
    "\n",
    "plt.figure()\n",
    "plt.title('Predicting the change in DST Index')\n",
    "plt.plot(df['time'],df['y_true'], label='Skutočné hodnoty')\n",
    "plt.plot(df['time'],df['y_predict'], label='Predikované hodnoty')\n",
    "plt.legend()\n",
    "plt.gcf().autofmt_xdate()\n",
    "plt.grid(True)"
   ]
  },
  {
   "cell_type": "code",
   "execution_count": 16,
   "id": "1a1e9c8e-27df-42d2-933b-b5bfc0682e39",
   "metadata": {},
   "outputs": [],
   "source": [
    "df.to_csv('Transform_BZ5.csv')"
   ]
  },
  {
   "cell_type": "code",
   "execution_count": 17,
   "id": "6a516fdf-1ce9-4328-a1e6-85aba7cfd968",
   "metadata": {},
   "outputs": [
    {
     "name": "stdout",
     "output_type": "stream",
     "text": [
      "ACC=0.9055668703326545\n",
      "MCC=0.6867343825814275\n"
     ]
    }
   ],
   "source": [
    "TN, FP, FN, TP = cm.ravel()\n",
    "ACC = (TP + TN) / (TP + TN + FP + FN)\n",
    "MCC = matthews_corrcoef(y_test2, y_pred2)\n",
    "print(\"ACC={}\".format(ACC))\n",
    "print(\"MCC={}\".format(MCC))"
   ]
  }
 ],
 "metadata": {
  "kernelspec": {
   "display_name": "Python 3 (ipykernel)",
   "language": "python",
   "name": "python3"
  },
  "language_info": {
   "codemirror_mode": {
    "name": "ipython",
    "version": 3
   },
   "file_extension": ".py",
   "mimetype": "text/x-python",
   "name": "python",
   "nbconvert_exporter": "python",
   "pygments_lexer": "ipython3",
   "version": "3.10.6"
  }
 },
 "nbformat": 4,
 "nbformat_minor": 5
}
