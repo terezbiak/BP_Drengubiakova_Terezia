{
 "cells": [
  {
   "cell_type": "markdown",
   "id": "92b5ee74-8d7b-4309-997d-55760c5b1e8e",
   "metadata": {},
   "source": [
    "## Model na predikciu DST za pomoci použitia atribútu DST o 4 hodiny dopredu"
   ]
  },
  {
   "cell_type": "markdown",
   "id": "156b3c9c-ee84-424c-a606-b04287e385ad",
   "metadata": {},
   "source": [
    "Súbor: transform_DST+4.ipynb\n",
    "\n",
    "Program: Hospodárska informatika\n",
    "\n",
    "Vypracovala: Terézia Drengubiaková\n",
    "\n",
    "Bakalárska práca: : Prediktívne modely v spracovaní dát z oblasti kozmického počasia\n",
    "\n",
    "Vedúci diplomovej práce: doc. Ing. Peter Butka, PhD.\n",
    "\n",
    "Konzultanti: Ing. Viera Krešňáková, PhD., RNDr. Šimon Mackovjak, PhD."
   ]
  },
  {
   "cell_type": "markdown",
   "id": "cd1dd469-c386-4d19-8065-37fecc022883",
   "metadata": {},
   "source": [
    "### Import knižníc"
   ]
  },
  {
   "cell_type": "code",
   "execution_count": 1,
   "id": "51ef9323-0a7d-4c7a-a1e6-d6b4a03b0e6b",
   "metadata": {},
   "outputs": [
    {
     "name": "stderr",
     "output_type": "stream",
     "text": [
      "2024-05-20 13:41:39.439384: I tensorflow/core/platform/cpu_feature_guard.cc:193] This TensorFlow binary is optimized with oneAPI Deep Neural Network Library (oneDNN) to use the following CPU instructions in performance-critical operations:  SSE4.1 SSE4.2 AVX AVX2 FMA\n",
      "To enable them in other operations, rebuild TensorFlow with the appropriate compiler flags.\n"
     ]
    }
   ],
   "source": [
    "import pandas as pd\n",
    "import numpy as np\n",
    "from tensorflow import keras\n",
    "import matplotlib.pyplot as plt\n",
    "from sklearn.preprocessing import MinMaxScaler, StandardScaler\n",
    "from pandas.plotting import register_matplotlib_converters\n",
    "register_matplotlib_converters()\n",
    "import seaborn as sns\n",
    "\n",
    "from tensorflow.keras.preprocessing.sequence import TimeseriesGenerator\n",
    "from keras.models import Sequential\n",
    "\n",
    "from keras.layers import Dense, Activation, Dropout, Input, Conv1D, LSTM, MaxPooling1D, Flatten, TimeDistributed, Bidirectional\n",
    "from tensorflow.keras.callbacks import ModelCheckpoint, EarlyStopping\n",
    "from keras.models import Model\n",
    "\n",
    "\n",
    "from scipy.special import expit, logit\n",
    "\n",
    "from sklearn.metrics import confusion_matrix, classification_report, matthews_corrcoef\n",
    "import tensorflow as tf\n",
    "from tensorflow.keras.layers import Layer, MultiHeadAttention, Dropout, LayerNormalization, Dense\n",
    "from tensorflow.keras.layers import MultiHeadAttention, Dense, Input, LayerNormalization, Dropout\n",
    "from tensorflow.keras.models import Model\n",
    "from sklearn.metrics import mean_squared_error"
   ]
  },
  {
   "cell_type": "markdown",
   "id": "b8af881d-2046-4dd0-bfd3-257f521534bb",
   "metadata": {},
   "source": [
    "### Načítanie dát, odstránenie na hodnôt, určenie predikovaného atribútu"
   ]
  },
  {
   "cell_type": "code",
   "execution_count": 2,
   "id": "21d43abb-87e8-4c68-9e99-1fcdc0367cea",
   "metadata": {},
   "outputs": [],
   "source": [
    "train = pd.read_csv('train_omni.csv')\n",
    "test = pd.read_csv('test_omni.csv')\n",
    "features = ['time1', 'DST', 'DST+4']\n",
    "test = test[features]\n",
    "train = train[features]\n",
    "train['time1']=pd.to_datetime(train['time1'])\n",
    "test['time1']=pd.to_datetime(test['time1'])\n",
    "\n",
    "y_col='DST+4'\n",
    "valid_size = int(len(train) * 0.2)\n",
    "valid = train.iloc[-valid_size:,:].copy()\n",
    "train = train.iloc[:-valid_size,:].copy()\n",
    "\n",
    "y_train = train[y_col].values.copy()\n",
    "X_train = train['DST'].values.copy()\n",
    "y_val = valid[y_col].values.copy()\n",
    "X_val = valid['DST'].values.copy()\n",
    "y_test = test[y_col].values.copy()\n",
    "X_test = test['DST'].values.copy()"
   ]
  },
  {
   "cell_type": "markdown",
   "id": "afbebb2e-5ef5-4c65-bfa9-75e254a4cdc7",
   "metadata": {},
   "source": [
    "### Definícia premenných a vytvorenie dátových generátorov"
   ]
  },
  {
   "cell_type": "code",
   "execution_count": 3,
   "id": "59d4e002-dddc-4ad9-8bad-c7638095a7e9",
   "metadata": {},
   "outputs": [],
   "source": [
    "n_input = 6 \n",
    "n_features= len(X_train)  \n",
    "b_size = 256  \n",
    "\n",
    "train_generator = TimeseriesGenerator(X_train, y_train, length=n_input, batch_size=b_size)\n",
    "val_generator = TimeseriesGenerator(X_val, y_val, length=n_input, batch_size=b_size)\n",
    "test_generator = TimeseriesGenerator(X_test, y_test, length=n_input, batch_size=256)"
   ]
  },
  {
   "cell_type": "markdown",
   "id": "6714a659-711d-46e1-9d70-e36ca25cf3f7",
   "metadata": {},
   "source": [
    "### Vytvorenie modelu"
   ]
  },
  {
   "cell_type": "code",
   "execution_count": 4,
   "id": "2aa04d2b-9f0e-4e3d-ad51-c7b16d1a97a2",
   "metadata": {},
   "outputs": [
    {
     "name": "stderr",
     "output_type": "stream",
     "text": [
      "2024-05-20 13:41:50.453958: I tensorflow/core/platform/cpu_feature_guard.cc:193] This TensorFlow binary is optimized with oneAPI Deep Neural Network Library (oneDNN) to use the following CPU instructions in performance-critical operations:  SSE4.1 SSE4.2 AVX AVX2 FMA\n",
      "To enable them in other operations, rebuild TensorFlow with the appropriate compiler flags.\n"
     ]
    },
    {
     "name": "stdout",
     "output_type": "stream",
     "text": [
      "Model: \"model\"\n",
      "_________________________________________________________________\n",
      " Layer (type)                Output Shape              Param #   \n",
      "=================================================================\n",
      " input_1 (InputLayer)        [(None, 6, 1)]            0         \n",
      "                                                                 \n",
      " transformer_encoder_layer (  (None, 6, 64)            66688     \n",
      " TransformerEncoderLayer)                                        \n",
      "                                                                 \n",
      " flatten (Flatten)           (None, 384)               0         \n",
      "                                                                 \n",
      " dense_3 (Dense)             (None, 1)                 385       \n",
      "                                                                 \n",
      "=================================================================\n",
      "Total params: 67,073\n",
      "Trainable params: 67,073\n",
      "Non-trainable params: 0\n",
      "_________________________________________________________________\n"
     ]
    }
   ],
   "source": [
    "class TransformerEncoderLayer(Layer):\n",
    "    def __init__(self, embed_dim, num_heads, ff_dim, input_dim, rate=0.1, **kwargs):\n",
    "        super(TransformerEncoderLayer, self).__init__(**kwargs)\n",
    "        self.embed_dim = embed_dim\n",
    "        self.num_heads = num_heads\n",
    "        self.ff_dim = ff_dim\n",
    "        self.input_dim = input_dim\n",
    "        self.rate = rate\n",
    "        self.input_proj = Dense(embed_dim)\n",
    "        self.att = MultiHeadAttention(num_heads=num_heads, key_dim=embed_dim)\n",
    "        self.ffn = tf.keras.Sequential([\n",
    "            Dense(ff_dim, activation=\"relu\"),\n",
    "            Dense(embed_dim)\n",
    "        ])\n",
    "        self.layernorm1 = LayerNormalization(epsilon=1e-6)\n",
    "        self.layernorm2 = LayerNormalization(epsilon=1e-6)\n",
    "        self.dropout1 = Dropout(rate)\n",
    "        self.dropout2 = Dropout(rate)\n",
    "\n",
    "    def call(self, inputs, training=False):\n",
    "        inputs_proj = self.input_proj(inputs)\n",
    "        attn_output = self.att(inputs_proj, inputs_proj)\n",
    "        attn_output = self.dropout1(attn_output, training=training)\n",
    "        out1 = self.layernorm1(inputs_proj + attn_output)\n",
    "        ffn_output = self.ffn(out1)\n",
    "        ffn_output = self.dropout2(ffn_output, training=training)\n",
    "        return self.layernorm2(out1 + ffn_output)\n",
    "\n",
    "    def get_config(self):\n",
    "        config = super().get_config()\n",
    "        config.update({\n",
    "            'embed_dim': self.embed_dim,\n",
    "            'num_heads': self.num_heads,\n",
    "            'ff_dim': self.ff_dim,\n",
    "            'input_dim': self.input_dim,\n",
    "            'rate': self.rate\n",
    "        })\n",
    "        return config\n",
    "\n",
    "def build_model(input_shape, embed_dim, num_heads, ff_dim, rate=0.1):\n",
    "    inputs = tf.keras.Input(shape=input_shape)\n",
    "    x = TransformerEncoderLayer(embed_dim, num_heads, ff_dim, input_shape[-1], rate)(inputs)\n",
    "    x = Flatten()(x)\n",
    "    x = Dense(1, activation='linear')(x)\n",
    "    return tf.keras.Model(inputs=inputs, outputs=x)\n",
    "\n",
    "\n",
    "model = build_model((6, 1), embed_dim=64, num_heads=2, ff_dim=256)\n",
    "model.compile(loss='mse', optimizer='adam', metrics=['mae'])\n",
    "model.summary()"
   ]
  },
  {
   "cell_type": "code",
   "execution_count": 5,
   "id": "f17749e5-32c6-411b-ab2c-36cb3a7924aa",
   "metadata": {},
   "outputs": [],
   "source": [
    "saved_model = \"4h_transform.keras\"\n",
    "checkpoint = ModelCheckpoint(saved_model, monitor='val_mae', verbose=1, save_best_only=True, mode='min')\n",
    "early = EarlyStopping(monitor=\"val_mae\", mode=\"min\", patience=25)\n",
    "callbacks_list = [checkpoint, early]"
   ]
  },
  {
   "cell_type": "markdown",
   "id": "2f2ba24c-8b31-43e9-9388-680ea9ae1289",
   "metadata": {},
   "source": [
    "### Trénovanie"
   ]
  },
  {
   "cell_type": "code",
   "execution_count": 6,
   "id": "80bb916a-799c-48e0-aaa3-cd91fab2febf",
   "metadata": {
    "collapsed": true,
    "jupyter": {
     "outputs_hidden": true
    },
    "tags": []
   },
   "outputs": [
    {
     "name": "stdout",
     "output_type": "stream",
     "text": [
      "Epoch 1/200\n",
      "896/896 [==============================] - ETA: 0s - loss: 240.4368 - mae: 9.2660\n",
      "Epoch 1: val_mae improved from inf to 9.25317, saving model to 4h_transform.keras\n",
      "896/896 [==============================] - 27s 27ms/step - loss: 240.4368 - mae: 9.2660 - val_loss: 307.4719 - val_mae: 9.2532\n",
      "Epoch 2/200\n",
      "896/896 [==============================] - ETA: 0s - loss: 149.8118 - mae: 7.5105\n",
      "Epoch 2: val_mae did not improve from 9.25317\n",
      "896/896 [==============================] - 25s 28ms/step - loss: 149.8118 - mae: 7.5105 - val_loss: 298.0137 - val_mae: 9.6528\n",
      "Epoch 3/200\n",
      "896/896 [==============================] - ETA: 0s - loss: 135.5936 - mae: 7.3739\n",
      "Epoch 3: val_mae did not improve from 9.25317\n",
      "896/896 [==============================] - 27s 31ms/step - loss: 135.5936 - mae: 7.3739 - val_loss: 369.9261 - val_mae: 11.4615\n",
      "Epoch 4/200\n",
      "896/896 [==============================] - ETA: 0s - loss: 136.5285 - mae: 7.4726\n",
      "Epoch 4: val_mae did not improve from 9.25317\n",
      "896/896 [==============================] - 25s 28ms/step - loss: 136.5285 - mae: 7.4726 - val_loss: 224.3313 - val_mae: 9.2608\n",
      "Epoch 5/200\n",
      "895/896 [============================>.] - ETA: 0s - loss: 126.7418 - mae: 7.2564\n",
      "Epoch 5: val_mae improved from 9.25317 to 8.20939, saving model to 4h_transform.keras\n",
      "896/896 [==============================] - 26s 29ms/step - loss: 126.6637 - mae: 7.2552 - val_loss: 181.9781 - val_mae: 8.2094\n",
      "Epoch 6/200\n",
      "895/896 [============================>.] - ETA: 0s - loss: 121.2330 - mae: 7.0678\n",
      "Epoch 6: val_mae improved from 8.20939 to 8.10540, saving model to 4h_transform.keras\n",
      "896/896 [==============================] - 24s 27ms/step - loss: 121.3012 - mae: 7.0690 - val_loss: 178.6157 - val_mae: 8.1054\n",
      "Epoch 7/200\n",
      "895/896 [============================>.] - ETA: 0s - loss: 119.2135 - mae: 7.0259\n",
      "Epoch 7: val_mae improved from 8.10540 to 8.09482, saving model to 4h_transform.keras\n",
      "896/896 [==============================] - 25s 28ms/step - loss: 119.1617 - mae: 7.0245 - val_loss: 181.3982 - val_mae: 8.0948\n",
      "Epoch 8/200\n",
      "895/896 [============================>.] - ETA: 0s - loss: 116.6428 - mae: 6.9653\n",
      "Epoch 8: val_mae did not improve from 8.09482\n",
      "896/896 [==============================] - 25s 28ms/step - loss: 116.5545 - mae: 6.9627 - val_loss: 213.4607 - val_mae: 8.2665\n",
      "Epoch 9/200\n",
      "895/896 [============================>.] - ETA: 0s - loss: 117.7900 - mae: 7.0189\n",
      "Epoch 9: val_mae did not improve from 8.09482\n",
      "896/896 [==============================] - 26s 29ms/step - loss: 117.7664 - mae: 7.0193 - val_loss: 170.5323 - val_mae: 8.1181\n",
      "Epoch 10/200\n",
      "896/896 [==============================] - ETA: 0s - loss: 111.2234 - mae: 6.8591\n",
      "Epoch 10: val_mae improved from 8.09482 to 7.87274, saving model to 4h_transform.keras\n",
      "896/896 [==============================] - 25s 28ms/step - loss: 111.2234 - mae: 6.8591 - val_loss: 172.3800 - val_mae: 7.8727\n",
      "Epoch 11/200\n",
      "896/896 [==============================] - ETA: 0s - loss: 122.8983 - mae: 7.1256\n",
      "Epoch 11: val_mae did not improve from 7.87274\n",
      "896/896 [==============================] - 25s 28ms/step - loss: 122.8983 - mae: 7.1256 - val_loss: 191.6231 - val_mae: 8.5233\n",
      "Epoch 12/200\n",
      "895/896 [============================>.] - ETA: 0s - loss: 113.4368 - mae: 6.8891\n",
      "Epoch 12: val_mae did not improve from 7.87274\n",
      "896/896 [==============================] - 25s 28ms/step - loss: 113.4157 - mae: 6.8894 - val_loss: 188.5965 - val_mae: 8.1694\n",
      "Epoch 13/200\n",
      "895/896 [============================>.] - ETA: 0s - loss: 116.5083 - mae: 6.9189\n",
      "Epoch 13: val_mae did not improve from 7.87274\n",
      "896/896 [==============================] - 24s 27ms/step - loss: 116.4262 - mae: 6.9168 - val_loss: 175.7107 - val_mae: 7.9849\n",
      "Epoch 14/200\n",
      "896/896 [==============================] - ETA: 0s - loss: 113.4523 - mae: 6.8433\n",
      "Epoch 14: val_mae did not improve from 7.87274\n",
      "896/896 [==============================] - 26s 29ms/step - loss: 113.4523 - mae: 6.8433 - val_loss: 177.3869 - val_mae: 8.2425\n",
      "Epoch 15/200\n",
      "896/896 [==============================] - ETA: 0s - loss: 112.2530 - mae: 6.8654\n",
      "Epoch 15: val_mae did not improve from 7.87274\n",
      "896/896 [==============================] - 26s 29ms/step - loss: 112.2530 - mae: 6.8654 - val_loss: 169.3347 - val_mae: 8.2534\n",
      "Epoch 16/200\n",
      "895/896 [============================>.] - ETA: 0s - loss: 113.6808 - mae: 6.8938\n",
      "Epoch 16: val_mae did not improve from 7.87274\n",
      "896/896 [==============================] - 25s 28ms/step - loss: 113.6402 - mae: 6.8935 - val_loss: 242.7363 - val_mae: 10.2810\n",
      "Epoch 17/200\n",
      "894/896 [============================>.] - ETA: 0s - loss: 114.6868 - mae: 6.9212\n",
      "Epoch 17: val_mae did not improve from 7.87274\n",
      "896/896 [==============================] - 28s 32ms/step - loss: 115.3009 - mae: 6.9264 - val_loss: 179.8392 - val_mae: 7.9544\n",
      "Epoch 18/200\n",
      "894/896 [============================>.] - ETA: 0s - loss: 111.2283 - mae: 6.8232\n",
      "Epoch 18: val_mae did not improve from 7.87274\n",
      "896/896 [==============================] - 26s 28ms/step - loss: 111.1748 - mae: 6.8239 - val_loss: 312.9371 - val_mae: 11.2766\n",
      "Epoch 19/200\n",
      "895/896 [============================>.] - ETA: 0s - loss: 111.0171 - mae: 6.8385\n",
      "Epoch 19: val_mae improved from 7.87274 to 7.79062, saving model to 4h_transform.keras\n",
      "896/896 [==============================] - 25s 28ms/step - loss: 110.9462 - mae: 6.8368 - val_loss: 169.5960 - val_mae: 7.7906\n",
      "Epoch 20/200\n",
      "896/896 [==============================] - ETA: 0s - loss: 112.7038 - mae: 6.8583\n",
      "Epoch 20: val_mae did not improve from 7.79062\n",
      "896/896 [==============================] - 25s 28ms/step - loss: 112.7038 - mae: 6.8583 - val_loss: 182.8196 - val_mae: 8.0833\n",
      "Epoch 21/200\n",
      "895/896 [============================>.] - ETA: 0s - loss: 111.2760 - mae: 6.8267\n",
      "Epoch 21: val_mae did not improve from 7.79062\n",
      "896/896 [==============================] - 28s 31ms/step - loss: 111.2006 - mae: 6.8247 - val_loss: 165.0066 - val_mae: 7.8579\n",
      "Epoch 22/200\n",
      "894/896 [============================>.] - ETA: 0s - loss: 109.5789 - mae: 6.7761\n",
      "Epoch 22: val_mae did not improve from 7.79062\n",
      "896/896 [==============================] - 25s 28ms/step - loss: 109.4640 - mae: 6.7740 - val_loss: 165.1780 - val_mae: 7.8661\n",
      "Epoch 23/200\n",
      "895/896 [============================>.] - ETA: 0s - loss: 110.3444 - mae: 6.7888\n",
      "Epoch 23: val_mae did not improve from 7.79062\n",
      "896/896 [==============================] - 26s 29ms/step - loss: 110.3496 - mae: 6.7887 - val_loss: 178.1965 - val_mae: 8.0159\n",
      "Epoch 24/200\n",
      "895/896 [============================>.] - ETA: 0s - loss: 109.6266 - mae: 6.7803\n",
      "Epoch 24: val_mae did not improve from 7.79062\n",
      "896/896 [==============================] - 26s 29ms/step - loss: 109.6888 - mae: 6.7831 - val_loss: 162.0913 - val_mae: 7.9305\n",
      "Epoch 25/200\n",
      "894/896 [============================>.] - ETA: 0s - loss: 112.7640 - mae: 6.8736\n",
      "Epoch 25: val_mae did not improve from 7.79062\n",
      "896/896 [==============================] - 25s 28ms/step - loss: 112.7650 - mae: 6.8737 - val_loss: 175.8736 - val_mae: 7.8545\n",
      "Epoch 26/200\n",
      "895/896 [============================>.] - ETA: 0s - loss: 108.3334 - mae: 6.7471\n",
      "Epoch 26: val_mae did not improve from 7.79062\n",
      "896/896 [==============================] - 25s 28ms/step - loss: 108.3113 - mae: 6.7467 - val_loss: 165.0037 - val_mae: 7.9553\n",
      "Epoch 27/200\n",
      "896/896 [==============================] - ETA: 0s - loss: 109.4807 - mae: 6.7697\n",
      "Epoch 27: val_mae did not improve from 7.79062\n",
      "896/896 [==============================] - 29s 32ms/step - loss: 109.4807 - mae: 6.7697 - val_loss: 159.5895 - val_mae: 7.9655\n",
      "Epoch 28/200\n",
      "895/896 [============================>.] - ETA: 0s - loss: 109.7895 - mae: 6.7689\n",
      "Epoch 28: val_mae did not improve from 7.79062\n",
      "896/896 [==============================] - 26s 29ms/step - loss: 109.8292 - mae: 6.7719 - val_loss: 175.4930 - val_mae: 8.7363\n",
      "Epoch 29/200\n",
      "896/896 [==============================] - ETA: 0s - loss: 110.0649 - mae: 6.8001\n",
      "Epoch 29: val_mae did not improve from 7.79062\n",
      "896/896 [==============================] - 25s 28ms/step - loss: 110.0649 - mae: 6.8001 - val_loss: 169.5511 - val_mae: 7.8436\n",
      "Epoch 30/200\n",
      "896/896 [==============================] - ETA: 0s - loss: 108.4400 - mae: 6.7389\n",
      "Epoch 30: val_mae did not improve from 7.79062\n",
      "896/896 [==============================] - 25s 28ms/step - loss: 108.4400 - mae: 6.7389 - val_loss: 160.0239 - val_mae: 7.8548\n",
      "Epoch 31/200\n",
      "896/896 [==============================] - ETA: 0s - loss: 107.7764 - mae: 6.7317\n",
      "Epoch 31: val_mae did not improve from 7.79062\n",
      "896/896 [==============================] - 26s 29ms/step - loss: 107.7764 - mae: 6.7317 - val_loss: 202.5977 - val_mae: 8.3757\n",
      "Epoch 32/200\n",
      "895/896 [============================>.] - ETA: 0s - loss: 107.9801 - mae: 6.7415\n",
      "Epoch 32: val_mae did not improve from 7.79062\n",
      "896/896 [==============================] - 25s 28ms/step - loss: 108.0247 - mae: 6.7423 - val_loss: 173.9896 - val_mae: 8.0188\n",
      "Epoch 33/200\n",
      "896/896 [==============================] - ETA: 0s - loss: 108.1191 - mae: 6.7341\n",
      "Epoch 33: val_mae improved from 7.79062 to 7.76935, saving model to 4h_transform.keras\n",
      "896/896 [==============================] - 24s 27ms/step - loss: 108.1191 - mae: 6.7341 - val_loss: 164.0507 - val_mae: 7.7693\n",
      "Epoch 34/200\n",
      "896/896 [==============================] - ETA: 0s - loss: 111.4405 - mae: 6.8179\n",
      "Epoch 34: val_mae did not improve from 7.76935\n",
      "896/896 [==============================] - 25s 28ms/step - loss: 111.4405 - mae: 6.8179 - val_loss: 175.3120 - val_mae: 7.9171\n",
      "Epoch 35/200\n",
      "896/896 [==============================] - ETA: 0s - loss: 106.9738 - mae: 6.7215\n",
      "Epoch 35: val_mae did not improve from 7.76935\n",
      "896/896 [==============================] - 24s 27ms/step - loss: 106.9738 - mae: 6.7215 - val_loss: 161.9058 - val_mae: 7.7790\n",
      "Epoch 36/200\n",
      "896/896 [==============================] - ETA: 0s - loss: 107.1716 - mae: 6.7093\n",
      "Epoch 36: val_mae did not improve from 7.76935\n",
      "896/896 [==============================] - 25s 28ms/step - loss: 107.1716 - mae: 6.7093 - val_loss: 175.5328 - val_mae: 8.2190\n",
      "Epoch 37/200\n",
      "896/896 [==============================] - ETA: 0s - loss: 106.9406 - mae: 6.7119\n",
      "Epoch 37: val_mae did not improve from 7.76935\n",
      "896/896 [==============================] - 24s 27ms/step - loss: 106.9406 - mae: 6.7119 - val_loss: 171.0723 - val_mae: 8.0064\n",
      "Epoch 38/200\n",
      "896/896 [==============================] - ETA: 0s - loss: 106.7150 - mae: 6.6976\n",
      "Epoch 38: val_mae did not improve from 7.76935\n",
      "896/896 [==============================] - 24s 26ms/step - loss: 106.7150 - mae: 6.6976 - val_loss: 169.4879 - val_mae: 7.8538\n",
      "Epoch 39/200\n",
      "895/896 [============================>.] - ETA: 0s - loss: 108.1589 - mae: 6.7314\n",
      "Epoch 39: val_mae did not improve from 7.76935\n",
      "896/896 [==============================] - 23s 26ms/step - loss: 108.0955 - mae: 6.7300 - val_loss: 162.2037 - val_mae: 7.7950\n",
      "Epoch 40/200\n",
      "894/896 [============================>.] - ETA: 0s - loss: 110.9637 - mae: 6.8121\n",
      "Epoch 40: val_mae did not improve from 7.76935\n",
      "896/896 [==============================] - 23s 26ms/step - loss: 110.8829 - mae: 6.8116 - val_loss: 161.2634 - val_mae: 7.8551\n",
      "Epoch 41/200\n",
      "896/896 [==============================] - ETA: 0s - loss: 106.4714 - mae: 6.7007\n",
      "Epoch 41: val_mae did not improve from 7.76935\n",
      "896/896 [==============================] - 24s 27ms/step - loss: 106.4714 - mae: 6.7007 - val_loss: 174.1132 - val_mae: 7.9103\n",
      "Epoch 42/200\n",
      "896/896 [==============================] - ETA: 0s - loss: 107.5571 - mae: 6.7143\n",
      "Epoch 42: val_mae improved from 7.76935 to 7.73623, saving model to 4h_transform.keras\n",
      "896/896 [==============================] - 24s 27ms/step - loss: 107.5571 - mae: 6.7143 - val_loss: 161.3022 - val_mae: 7.7362\n",
      "Epoch 43/200\n",
      "895/896 [============================>.] - ETA: 0s - loss: 108.8497 - mae: 6.7585\n",
      "Epoch 43: val_mae improved from 7.73623 to 7.73148, saving model to 4h_transform.keras\n",
      "896/896 [==============================] - 24s 27ms/step - loss: 108.7769 - mae: 6.7566 - val_loss: 160.4618 - val_mae: 7.7315\n",
      "Epoch 44/200\n",
      "894/896 [============================>.] - ETA: 0s - loss: 106.7485 - mae: 6.6890\n",
      "Epoch 44: val_mae did not improve from 7.73148\n",
      "896/896 [==============================] - 23s 26ms/step - loss: 106.6374 - mae: 6.6866 - val_loss: 169.4588 - val_mae: 7.8886\n",
      "Epoch 45/200\n",
      "896/896 [==============================] - ETA: 0s - loss: 107.0542 - mae: 6.7062\n",
      "Epoch 45: val_mae did not improve from 7.73148\n",
      "896/896 [==============================] - 23s 26ms/step - loss: 107.0542 - mae: 6.7062 - val_loss: 161.8789 - val_mae: 7.8936\n",
      "Epoch 46/200\n",
      "895/896 [============================>.] - ETA: 0s - loss: 107.4385 - mae: 6.7125\n",
      "Epoch 46: val_mae did not improve from 7.73148\n",
      "896/896 [==============================] - 24s 26ms/step - loss: 107.3732 - mae: 6.7106 - val_loss: 181.1663 - val_mae: 8.1126\n",
      "Epoch 47/200\n",
      "894/896 [============================>.] - ETA: 0s - loss: 107.0150 - mae: 6.7035\n",
      "Epoch 47: val_mae did not improve from 7.73148\n",
      "896/896 [==============================] - 24s 26ms/step - loss: 107.0206 - mae: 6.7068 - val_loss: 196.0795 - val_mae: 9.1030\n",
      "Epoch 48/200\n",
      "896/896 [==============================] - ETA: 0s - loss: 109.5169 - mae: 6.7767\n",
      "Epoch 48: val_mae did not improve from 7.73148\n",
      "896/896 [==============================] - 24s 27ms/step - loss: 109.5169 - mae: 6.7767 - val_loss: 176.7565 - val_mae: 7.9815\n",
      "Epoch 49/200\n",
      "896/896 [==============================] - ETA: 0s - loss: 106.7291 - mae: 6.7054\n",
      "Epoch 49: val_mae did not improve from 7.73148\n",
      "896/896 [==============================] - 23s 26ms/step - loss: 106.7291 - mae: 6.7054 - val_loss: 169.0282 - val_mae: 7.8751\n",
      "Epoch 50/200\n",
      "895/896 [============================>.] - ETA: 0s - loss: 106.7206 - mae: 6.7001\n",
      "Epoch 50: val_mae did not improve from 7.73148\n",
      "896/896 [==============================] - 24s 27ms/step - loss: 106.7809 - mae: 6.7008 - val_loss: 175.5800 - val_mae: 8.3224\n",
      "Epoch 51/200\n",
      "896/896 [==============================] - ETA: 0s - loss: 105.9033 - mae: 6.6814\n",
      "Epoch 51: val_mae did not improve from 7.73148\n",
      "896/896 [==============================] - 24s 26ms/step - loss: 105.9033 - mae: 6.6814 - val_loss: 160.8394 - val_mae: 7.9007\n",
      "Epoch 52/200\n",
      "896/896 [==============================] - ETA: 0s - loss: 106.7291 - mae: 6.7056\n",
      "Epoch 52: val_mae did not improve from 7.73148\n",
      "896/896 [==============================] - 23s 25ms/step - loss: 106.7291 - mae: 6.7056 - val_loss: 157.5830 - val_mae: 7.7556\n",
      "Epoch 53/200\n",
      "896/896 [==============================] - ETA: 0s - loss: 106.9857 - mae: 6.6913\n",
      "Epoch 53: val_mae did not improve from 7.73148\n",
      "896/896 [==============================] - 22s 24ms/step - loss: 106.9857 - mae: 6.6913 - val_loss: 163.5118 - val_mae: 7.7870\n",
      "Epoch 54/200\n",
      "895/896 [============================>.] - ETA: 0s - loss: 106.9338 - mae: 6.6901\n",
      "Epoch 54: val_mae did not improve from 7.73148\n",
      "896/896 [==============================] - 22s 25ms/step - loss: 106.8733 - mae: 6.6887 - val_loss: 159.7829 - val_mae: 7.7458\n",
      "Epoch 55/200\n",
      "894/896 [============================>.] - ETA: 0s - loss: 109.1544 - mae: 6.7769\n",
      "Epoch 55: val_mae did not improve from 7.73148\n",
      "896/896 [==============================] - 22s 24ms/step - loss: 109.0207 - mae: 6.7727 - val_loss: 160.9391 - val_mae: 7.9146\n",
      "Epoch 56/200\n",
      "896/896 [==============================] - ETA: 0s - loss: 106.5012 - mae: 6.6956\n",
      "Epoch 56: val_mae did not improve from 7.73148\n",
      "896/896 [==============================] - 23s 25ms/step - loss: 106.5012 - mae: 6.6956 - val_loss: 165.9832 - val_mae: 7.8262\n",
      "Epoch 57/200\n",
      "896/896 [==============================] - ETA: 0s - loss: 106.2904 - mae: 6.6810\n",
      "Epoch 57: val_mae did not improve from 7.73148\n",
      "896/896 [==============================] - 23s 26ms/step - loss: 106.2904 - mae: 6.6810 - val_loss: 157.7838 - val_mae: 7.7481\n",
      "Epoch 58/200\n",
      "894/896 [============================>.] - ETA: 0s - loss: 107.4893 - mae: 6.7232\n",
      "Epoch 58: val_mae did not improve from 7.73148\n",
      "896/896 [==============================] - 23s 25ms/step - loss: 107.4933 - mae: 6.7243 - val_loss: 164.7567 - val_mae: 7.8237\n",
      "Epoch 59/200\n",
      "894/896 [============================>.] - ETA: 0s - loss: 105.7156 - mae: 6.6740\n",
      "Epoch 59: val_mae did not improve from 7.73148\n",
      "896/896 [==============================] - 22s 25ms/step - loss: 105.5861 - mae: 6.6709 - val_loss: 160.4570 - val_mae: 7.8156\n",
      "Epoch 60/200\n",
      "895/896 [============================>.] - ETA: 0s - loss: 105.7970 - mae: 6.6656\n",
      "Epoch 60: val_mae did not improve from 7.73148\n",
      "896/896 [==============================] - 23s 26ms/step - loss: 105.7450 - mae: 6.6646 - val_loss: 163.3641 - val_mae: 8.1118\n",
      "Epoch 61/200\n",
      "895/896 [============================>.] - ETA: 0s - loss: 107.3617 - mae: 6.6919\n",
      "Epoch 61: val_mae did not improve from 7.73148\n",
      "896/896 [==============================] - 23s 25ms/step - loss: 107.2869 - mae: 6.6900 - val_loss: 167.2532 - val_mae: 7.7660\n",
      "Epoch 62/200\n",
      "896/896 [==============================] - ETA: 0s - loss: 106.3270 - mae: 6.6658\n",
      "Epoch 62: val_mae did not improve from 7.73148\n",
      "896/896 [==============================] - 23s 26ms/step - loss: 106.3270 - mae: 6.6658 - val_loss: 156.7068 - val_mae: 7.8624\n",
      "Epoch 63/200\n",
      "896/896 [==============================] - ETA: 0s - loss: 106.6363 - mae: 6.6902\n",
      "Epoch 63: val_mae improved from 7.73148 to 7.69832, saving model to 4h_transform.keras\n",
      "896/896 [==============================] - 23s 26ms/step - loss: 106.6363 - mae: 6.6902 - val_loss: 157.3925 - val_mae: 7.6983\n",
      "Epoch 64/200\n",
      "895/896 [============================>.] - ETA: 0s - loss: 106.1606 - mae: 6.6726\n",
      "Epoch 64: val_mae did not improve from 7.69832\n",
      "896/896 [==============================] - 23s 26ms/step - loss: 106.2154 - mae: 6.6751 - val_loss: 163.3828 - val_mae: 8.0127\n",
      "Epoch 65/200\n",
      "894/896 [============================>.] - ETA: 0s - loss: 105.4342 - mae: 6.6646\n",
      "Epoch 65: val_mae did not improve from 7.69832\n",
      "896/896 [==============================] - 22s 25ms/step - loss: 105.3940 - mae: 6.6648 - val_loss: 170.0716 - val_mae: 8.1796\n",
      "Epoch 66/200\n",
      "894/896 [============================>.] - ETA: 0s - loss: 107.5557 - mae: 6.7051\n",
      "Epoch 66: val_mae did not improve from 7.69832\n",
      "896/896 [==============================] - 22s 25ms/step - loss: 107.5493 - mae: 6.7060 - val_loss: 166.9704 - val_mae: 7.8126\n",
      "Epoch 67/200\n",
      "894/896 [============================>.] - ETA: 0s - loss: 106.0204 - mae: 6.6739\n",
      "Epoch 67: val_mae did not improve from 7.69832\n",
      "896/896 [==============================] - 23s 25ms/step - loss: 106.0094 - mae: 6.6753 - val_loss: 160.7831 - val_mae: 7.9335\n",
      "Epoch 68/200\n",
      "894/896 [============================>.] - ETA: 0s - loss: 105.4787 - mae: 6.6631\n",
      "Epoch 68: val_mae did not improve from 7.69832\n",
      "896/896 [==============================] - 23s 26ms/step - loss: 105.3725 - mae: 6.6608 - val_loss: 159.1739 - val_mae: 7.7077\n",
      "Epoch 69/200\n",
      "895/896 [============================>.] - ETA: 0s - loss: 105.3026 - mae: 6.6616\n",
      "Epoch 69: val_mae did not improve from 7.69832\n",
      "896/896 [==============================] - 22s 24ms/step - loss: 105.2571 - mae: 6.6607 - val_loss: 171.0613 - val_mae: 7.8829\n",
      "Epoch 70/200\n",
      "894/896 [============================>.] - ETA: 0s - loss: 108.6674 - mae: 6.7463\n",
      "Epoch 70: val_mae did not improve from 7.69832\n",
      "896/896 [==============================] - 23s 26ms/step - loss: 108.5662 - mae: 6.7438 - val_loss: 161.8648 - val_mae: 7.7665\n",
      "Epoch 71/200\n",
      "894/896 [============================>.] - ETA: 0s - loss: 105.3112 - mae: 6.6529\n",
      "Epoch 71: val_mae did not improve from 7.69832\n",
      "896/896 [==============================] - 23s 25ms/step - loss: 105.5858 - mae: 6.6566 - val_loss: 159.1665 - val_mae: 7.7399\n",
      "Epoch 72/200\n",
      "895/896 [============================>.] - ETA: 0s - loss: 105.9644 - mae: 6.6688\n",
      "Epoch 72: val_mae did not improve from 7.69832\n",
      "896/896 [==============================] - 22s 25ms/step - loss: 105.9281 - mae: 6.6684 - val_loss: 165.2971 - val_mae: 7.8345\n",
      "Epoch 73/200\n",
      "895/896 [============================>.] - ETA: 0s - loss: 109.0889 - mae: 6.7451\n",
      "Epoch 73: val_mae did not improve from 7.69832\n",
      "896/896 [==============================] - 23s 26ms/step - loss: 109.0177 - mae: 6.7434 - val_loss: 159.5143 - val_mae: 7.8025\n",
      "Epoch 74/200\n",
      "896/896 [==============================] - ETA: 0s - loss: 106.8252 - mae: 6.6852\n",
      "Epoch 74: val_mae did not improve from 7.69832\n",
      "896/896 [==============================] - 23s 25ms/step - loss: 106.8252 - mae: 6.6852 - val_loss: 172.8145 - val_mae: 8.1200\n",
      "Epoch 75/200\n",
      "894/896 [============================>.] - ETA: 0s - loss: 107.4242 - mae: 6.6969\n",
      "Epoch 75: val_mae did not improve from 7.69832\n",
      "896/896 [==============================] - 23s 26ms/step - loss: 107.2951 - mae: 6.6937 - val_loss: 159.6381 - val_mae: 7.7306\n",
      "Epoch 76/200\n",
      "895/896 [============================>.] - ETA: 0s - loss: 105.2452 - mae: 6.6440\n",
      "Epoch 76: val_mae did not improve from 7.69832\n",
      "896/896 [==============================] - 23s 26ms/step - loss: 105.1706 - mae: 6.6422 - val_loss: 158.2900 - val_mae: 7.7490\n",
      "Epoch 77/200\n",
      "896/896 [==============================] - ETA: 0s - loss: 107.7015 - mae: 6.6909\n",
      "Epoch 77: val_mae did not improve from 7.69832\n",
      "896/896 [==============================] - 22s 24ms/step - loss: 107.7015 - mae: 6.6909 - val_loss: 166.2019 - val_mae: 7.8086\n",
      "Epoch 78/200\n",
      "896/896 [==============================] - ETA: 0s - loss: 105.3006 - mae: 6.6487\n",
      "Epoch 78: val_mae did not improve from 7.69832\n",
      "896/896 [==============================] - 22s 25ms/step - loss: 105.3006 - mae: 6.6487 - val_loss: 156.4699 - val_mae: 7.9423\n",
      "Epoch 79/200\n",
      "894/896 [============================>.] - ETA: 0s - loss: 106.0920 - mae: 6.6725\n",
      "Epoch 79: val_mae did not improve from 7.69832\n",
      "896/896 [==============================] - 23s 26ms/step - loss: 105.9839 - mae: 6.6704 - val_loss: 162.6678 - val_mae: 8.2176\n",
      "Epoch 80/200\n",
      "895/896 [============================>.] - ETA: 0s - loss: 104.9204 - mae: 6.6513\n",
      "Epoch 80: val_mae did not improve from 7.69832\n",
      "896/896 [==============================] - 23s 26ms/step - loss: 104.8726 - mae: 6.6506 - val_loss: 179.5597 - val_mae: 8.7005\n",
      "Epoch 81/200\n",
      "896/896 [==============================] - ETA: 0s - loss: 106.7845 - mae: 6.6908\n",
      "Epoch 81: val_mae did not improve from 7.69832\n",
      "896/896 [==============================] - 23s 25ms/step - loss: 106.7845 - mae: 6.6908 - val_loss: 161.0555 - val_mae: 7.7628\n",
      "Epoch 82/200\n",
      "895/896 [============================>.] - ETA: 0s - loss: 104.8462 - mae: 6.6413\n",
      "Epoch 82: val_mae did not improve from 7.69832\n",
      "896/896 [==============================] - 22s 24ms/step - loss: 104.8586 - mae: 6.6424 - val_loss: 158.3685 - val_mae: 7.7120\n",
      "Epoch 83/200\n",
      "895/896 [============================>.] - ETA: 0s - loss: 108.0322 - mae: 6.7028\n",
      "Epoch 83: val_mae did not improve from 7.69832\n",
      "896/896 [==============================] - 19s 21ms/step - loss: 107.9611 - mae: 6.7010 - val_loss: 163.2549 - val_mae: 7.9389\n",
      "Epoch 84/200\n",
      "894/896 [============================>.] - ETA: 0s - loss: 106.5254 - mae: 6.6835\n",
      "Epoch 84: val_mae did not improve from 7.69832\n",
      "896/896 [==============================] - 19s 21ms/step - loss: 106.4105 - mae: 6.6813 - val_loss: 163.4216 - val_mae: 7.8085\n",
      "Epoch 85/200\n",
      "895/896 [============================>.] - ETA: 0s - loss: 106.0617 - mae: 6.6884\n",
      "Epoch 85: val_mae did not improve from 7.69832\n",
      "896/896 [==============================] - 19s 21ms/step - loss: 106.0303 - mae: 6.6885 - val_loss: 157.7064 - val_mae: 7.7882\n",
      "Epoch 86/200\n",
      "896/896 [==============================] - ETA: 0s - loss: 106.7129 - mae: 6.6870\n",
      "Epoch 86: val_mae did not improve from 7.69832\n",
      "896/896 [==============================] - 19s 21ms/step - loss: 106.7129 - mae: 6.6870 - val_loss: 165.9314 - val_mae: 8.1131\n",
      "Epoch 87/200\n",
      "893/896 [============================>.] - ETA: 0s - loss: 104.8925 - mae: 6.6537\n",
      "Epoch 87: val_mae did not improve from 7.69832\n",
      "896/896 [==============================] - 18s 20ms/step - loss: 104.9086 - mae: 6.6524 - val_loss: 157.6353 - val_mae: 7.7477\n",
      "Epoch 88/200\n",
      "895/896 [============================>.] - ETA: 0s - loss: 105.4482 - mae: 6.6629\n",
      "Epoch 88: val_mae did not improve from 7.69832\n",
      "896/896 [==============================] - 20s 22ms/step - loss: 105.6720 - mae: 6.6676 - val_loss: 157.4643 - val_mae: 7.8650\n"
     ]
    }
   ],
   "source": [
    "history = model.fit(train_generator, validation_data=val_generator, epochs=200, verbose=1, callbacks = callbacks_list)"
   ]
  },
  {
   "cell_type": "markdown",
   "id": "c45302d3-1452-4243-97e4-22a4a953dbda",
   "metadata": {},
   "source": [
    "### Načítanie najlepšieho modelu"
   ]
  },
  {
   "cell_type": "code",
   "execution_count": 7,
   "id": "3fb26874-787e-46ae-81dc-d531e648a70e",
   "metadata": {},
   "outputs": [],
   "source": [
    "model = keras.models.load_model('4h_transform.keras', custom_objects={'TransformerEncoderLayer': TransformerEncoderLayer})"
   ]
  },
  {
   "cell_type": "markdown",
   "id": "4568d0f0-e603-4f0b-9207-b3a84c081ad4",
   "metadata": {},
   "source": [
    "### Vytvorenie predikcií"
   ]
  },
  {
   "cell_type": "code",
   "execution_count": 8,
   "id": "5a571306-f07a-4d2a-95bf-8a1396aecab6",
   "metadata": {},
   "outputs": [
    {
     "name": "stdout",
     "output_type": "stream",
     "text": [
      "633/633 [==============================] - 6s 8ms/step\n"
     ]
    }
   ],
   "source": [
    "y_pred = model.predict(test_generator)"
   ]
  },
  {
   "cell_type": "markdown",
   "id": "9573b9e6-81bb-41cf-aad1-13eb65e11203",
   "metadata": {},
   "source": [
    "### Nájdenie optimálneho thresholdu na validačnej sade"
   ]
  },
  {
   "cell_type": "code",
   "execution_count": 10,
   "id": "a9c85f39-4837-4a9d-98ff-84b3007af120",
   "metadata": {},
   "outputs": [
    {
     "name": "stdout",
     "output_type": "stream",
     "text": [
      "224/224 [==============================] - 2s 10ms/step\n",
      "Best Threshold for MCC on Validation Set: -19.899999999999963\n",
      "Best MCC on Validation Set: 0.7607000765096534\n"
     ]
    }
   ],
   "source": [
    "y_val_pred = model.predict(val_generator)\n",
    "\n",
    "true_labels_val = np.where(y_val[n_input:] <= -20, 1, 0)  \n",
    "\n",
    "def calculate_mcc(y_true, y_pred):\n",
    "    return matthews_corrcoef(y_true, y_pred)\n",
    "\n",
    "thresholds = np.arange(-10, -40, -0.1)\n",
    "mcc_scores = []\n",
    "\n",
    "for thresh in thresholds:\n",
    "    predictions = np.where(y_val_pred <= thresh, 1, 0)\n",
    "    mcc = calculate_mcc(true_labels_val, predictions)\n",
    "    mcc_scores.append(mcc)\n",
    "\n",
    "best_threshold_mcc = thresholds[np.argmax(mcc_scores)]\n",
    "best_mcc = max(mcc_scores)\n",
    "\n",
    "print(\"Best Threshold for MCC on Validation Set:\", best_threshold_mcc)\n",
    "print(\"Best MCC on Validation Set:\", best_mcc)\n",
    "best_threshold_mcc_rounded = round(best_threshold_mcc, 1)"
   ]
  },
  {
   "cell_type": "markdown",
   "id": "8e6e6a35-19eb-4d36-83cb-abce0e55c6cf",
   "metadata": {},
   "source": [
    "### Výpočet metrík, vykreslenie grafu predikcie a uloženie predikcií"
   ]
  },
  {
   "cell_type": "code",
   "execution_count": 9,
   "id": "ee50d150-532e-4b14-817f-35fa501f75cd",
   "metadata": {},
   "outputs": [
    {
     "name": "stdout",
     "output_type": "stream",
     "text": [
      "Mean Squared Error: 45.286055206661935\n"
     ]
    }
   ],
   "source": [
    "mse = mean_squared_error(y_test[:-n_input], y_pred.reshape(-1))\n",
    "print(f\"Mean Squared Error: {mse}\")"
   ]
  },
  {
   "cell_type": "code",
   "execution_count": 11,
   "id": "80d03dc2-b7ba-4e55-8837-337aa331623f",
   "metadata": {},
   "outputs": [
    {
     "name": "stdout",
     "output_type": "stream",
     "text": [
      "Confusion matrix: \n",
      "[[125083   4905]\n",
      " [  9665  22377]]\n",
      "              precision    recall  f1-score   support\n",
      "\n",
      "           0       0.93      0.96      0.94    129988\n",
      "           1       0.82      0.70      0.75     32042\n",
      "\n",
      "    accuracy                           0.91    162030\n",
      "   macro avg       0.87      0.83      0.85    162030\n",
      "weighted avg       0.91      0.91      0.91    162030\n",
      "\n"
     ]
    }
   ],
   "source": [
    "y_pred2 = np.where(y_pred <= best_threshold_mcc_rounded, 1, 0)\n",
    "y_test2 = np.where(y_test[n_input:]  <= -20, 1, 0)\n",
    "\n",
    "cm = confusion_matrix(y_test2, y_pred2)\n",
    "print(\"Confusion matrix: \\n\" + str(cm))\n",
    "\n",
    "print(classification_report(y_test2, y_pred2))"
   ]
  },
  {
   "cell_type": "code",
   "execution_count": 12,
   "id": "b41f7df5-667a-4d01-b6b1-6da39d50f902",
   "metadata": {},
   "outputs": [
    {
     "data": {
      "image/png": "[encoded data removed]",
      "text/plain": [
       "<Figure size 640x480 with 1 Axes>"
      ]
     },
     "metadata": {},
     "output_type": "display_data"
    }
   ],
   "source": [
    "df = pd.DataFrame(data={\"time\": test['time1'][n_input:],\"y_true\": y_test[n_input:].reshape(-1) , \"y_predict\": y_pred.reshape(-1)})\n",
    "\n",
    "plt.figure()\n",
    "plt.title('Predicting the change in DST Index')\n",
    "plt.plot(df['time'],df['y_true'], label='Skutočné hodnoty')\n",
    "plt.plot(df['time'],df['y_predict'], label='Predikované hodnoty')\n",
    "plt.legend()\n",
    "plt.gcf().autofmt_xdate()\n",
    "plt.grid(True)"
   ]
  },
  {
   "cell_type": "code",
   "execution_count": 13,
   "id": "94440597-b319-45ca-97de-c4099c03f796",
   "metadata": {},
   "outputs": [
    {
     "name": "stdout",
     "output_type": "stream",
     "text": [
      "ACC=0.9100783805468123\n",
      "MCC=0.7031868220627435\n"
     ]
    }
   ],
   "source": [
    "TN, FP, FN, TP = cm.ravel()\n",
    "ACC = (TP + TN) / (TP + TN + FP + FN)\n",
    "MCC = matthews_corrcoef(y_test2, y_pred2)\n",
    "print(\"ACC={}\".format(ACC))\n",
    "print(\"MCC={}\".format(MCC))"
   ]
  },
  {
   "cell_type": "code",
   "execution_count": null,
   "id": "912bc305-213c-4819-bcdc-48d08aa68aab",
   "metadata": {},
   "outputs": [],
   "source": []
  }
 ],
 "metadata": {
  "kernelspec": {
   "display_name": "Python 3 (ipykernel)",
   "language": "python",
   "name": "python3"
  },
  "language_info": {
   "codemirror_mode": {
    "name": "ipython",
    "version": 3
   },
   "file_extension": ".py",
   "mimetype": "text/x-python",
   "name": "python",
   "nbconvert_exporter": "python",
   "pygments_lexer": "ipython3",
   "version": "3.10.6"
  }
 },
 "nbformat": 4,
 "nbformat_minor": 5
}
