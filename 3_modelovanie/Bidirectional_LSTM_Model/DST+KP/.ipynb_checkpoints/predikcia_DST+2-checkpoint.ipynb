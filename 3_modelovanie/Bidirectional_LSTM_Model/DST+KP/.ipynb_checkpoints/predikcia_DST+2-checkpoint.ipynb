{
 "cells": [
  {
   "cell_type": "code",
   "execution_count": 1,
   "id": "ca4af1e5-3d0b-43c2-9ed8-beef9f341d23",
   "metadata": {},
   "outputs": [
    {
     "name": "stderr",
     "output_type": "stream",
     "text": [
      "2024-05-16 10:42:19.358601: I tensorflow/core/platform/cpu_feature_guard.cc:193] This TensorFlow binary is optimized with oneAPI Deep Neural Network Library (oneDNN) to use the following CPU instructions in performance-critical operations:  SSE4.1 SSE4.2 AVX AVX2 FMA\n",
      "To enable them in other operations, rebuild TensorFlow with the appropriate compiler flags.\n"
     ]
    }
   ],
   "source": [
    "import pandas as pd\n",
    "import numpy as np\n",
    "from tensorflow import keras\n",
    "import matplotlib.pyplot as plt\n",
    "from sklearn.preprocessing import MinMaxScaler, StandardScaler\n",
    "from pandas.plotting import register_matplotlib_converters\n",
    "register_matplotlib_converters()\n",
    "import seaborn as sns\n",
    "\n",
    "from tensorflow.keras.preprocessing.sequence import TimeseriesGenerator\n",
    "from keras.models import Sequential\n",
    "\n",
    "from keras.layers import Dense, Activation, Dropout, Input, Conv1D, LSTM, MaxPooling1D, Flatten, TimeDistributed, Bidirectional\n",
    "from tensorflow.keras.callbacks import ModelCheckpoint, EarlyStopping\n",
    "from keras.models import Model\n",
    "\n",
    "\n",
    "from scipy.special import expit, logit\n",
    "\n",
    "from sklearn.metrics import confusion_matrix, classification_report, matthews_corrcoef"
   ]
  },
  {
   "cell_type": "code",
   "execution_count": 2,
   "id": "ddba2f85-112b-4077-811b-591ddd767bb6",
   "metadata": {},
   "outputs": [],
   "source": [
    "train = pd.read_csv('train_omni.csv')\n",
    "test = pd.read_csv('test_omni.csv')\n",
    "features = ['time1',\n",
    "           'DST',\n",
    "            'DST+2', 'KP' ]\n",
    "test = test[features]\n",
    "train = train[features]\n",
    "train['time1']=pd.to_datetime(train['time1'])\n",
    "test['time1']=pd.to_datetime(test['time1'])\n",
    "predicted_label = 'DST+2'\n",
    "predicators = [\"DST\", \"KP\"]\n",
    "y_col='DST+2'\n",
    "valid_size = int(len(train) * 0.2)\n",
    "valid = train.iloc[-valid_size:,:].copy()\n",
    "train = train.iloc[:-valid_size,:].copy()\n",
    "\n",
    "y_train = train[y_col].values.copy()\n",
    "X_train = train[predicators].values.copy()\n",
    "y_val = valid[y_col].values.copy()\n",
    "X_val = valid[predicators].values.copy()\n",
    "y_test = test[y_col].values.copy()\n",
    "X_test = test[predicators].values.copy()"
   ]
  },
  {
   "cell_type": "code",
   "execution_count": 3,
   "id": "0b259104-ab17-4a42-a1b6-dea3d3e6bb25",
   "metadata": {},
   "outputs": [],
   "source": [
    "n_input = 6  # how many samples/rows/timesteps to look in the past in order to forecast the next sample\n",
    "n_features= len(X_train)  # how many predictors/Xs/features we have to predict y\n",
    "b_size = 256  # Number of timeseries samples in each batch\n",
    "\n",
    "train_generator = TimeseriesGenerator(X_train, y_train, length=n_input, batch_size=b_size)\n",
    "val_generator = TimeseriesGenerator(X_val, y_val, length=n_input, batch_size=b_size)\n",
    "test_generator = TimeseriesGenerator(X_test, y_test, length=n_input, batch_size=256)"
   ]
  },
  {
   "cell_type": "code",
   "execution_count": 4,
   "id": "89a8ac06-c384-4aca-b747-4b9642949947",
   "metadata": {},
   "outputs": [
    {
     "name": "stdout",
     "output_type": "stream",
     "text": [
      "Počet batchov:  896\n",
      "Každý batch má features (X zložku) a labels (y zložku):  2\n",
      "Dĺžka X zložky batchu:  256\n",
      "Dĺžka y zložky batchu (počet meraní v batchi):  256\n",
      "Počet riadkov braných do úvahy pre jedno meranie (koľko sa pozerá dozadu):  6\n"
     ]
    }
   ],
   "source": [
    "print(\"Počet batchov: \", len(train_generator))\n",
    "print(\"Každý batch má features (X zložku) a labels (y zložku): \", len(train_generator[0]))\n",
    "print(\"Dĺžka X zložky batchu: \", len(train_generator[0][0]))\n",
    "print(\"Dĺžka y zložky batchu (počet meraní v batchi): \",len(train_generator[0][1]))\n",
    "print(\"Počet riadkov braných do úvahy pre jedno meranie (koľko sa pozerá dozadu): \", len(train_generator[0][0][0]))"
   ]
  },
  {
   "cell_type": "code",
   "execution_count": 5,
   "id": "aa4f6c64-1c16-4799-baac-f425bca25e76",
   "metadata": {},
   "outputs": [
    {
     "name": "stderr",
     "output_type": "stream",
     "text": [
      "2024-05-16 10:42:28.404897: I tensorflow/core/platform/cpu_feature_guard.cc:193] This TensorFlow binary is optimized with oneAPI Deep Neural Network Library (oneDNN) to use the following CPU instructions in performance-critical operations:  SSE4.1 SSE4.2 AVX AVX2 FMA\n",
      "To enable them in other operations, rebuild TensorFlow with the appropriate compiler flags.\n"
     ]
    },
    {
     "name": "stdout",
     "output_type": "stream",
     "text": [
      "Model: \"model\"\n",
      "_________________________________________________________________\n",
      " Layer (type)                Output Shape              Param #   \n",
      "=================================================================\n",
      " input_1 (InputLayer)        [(None, 6, 2)]            0         \n",
      "                                                                 \n",
      " bidirectional (Bidirectiona  (None, 6, 256)           134144    \n",
      " l)                                                              \n",
      "                                                                 \n",
      " lstm_1 (LSTM)               (None, 6, 128)            197120    \n",
      "                                                                 \n",
      " time_distributed (TimeDistr  (None, 6, 1)             129       \n",
      " ibuted)                                                         \n",
      "                                                                 \n",
      " flatten (Flatten)           (None, 6)                 0         \n",
      "                                                                 \n",
      " dense_1 (Dense)             (None, 1)                 7         \n",
      "                                                                 \n",
      "=================================================================\n",
      "Total params: 331,400\n",
      "Trainable params: 331,400\n",
      "Non-trainable params: 0\n",
      "_________________________________________________________________\n",
      "None\n"
     ]
    }
   ],
   "source": [
    "inputs = Input(shape=(6,2))\n",
    "c = Bidirectional(LSTM(128, return_sequences=True, dropout=0.1,recurrent_dropout=0.1))(inputs)\n",
    "c = LSTM(128, return_sequences=True)(c)\n",
    "c = TimeDistributed(Dense(1, activation='linear'))(c)\n",
    "output = Flatten()(c)\n",
    "output = Dense(1, activation='linear')(output)\n",
    "model = Model(inputs=inputs, outputs=output)\n",
    "model.compile(loss='mse', optimizer='adam', metrics=[\"mae\"])\n",
    "print(model.summary())"
   ]
  },
  {
   "cell_type": "code",
   "execution_count": 6,
   "id": "29b4a2d1-52f1-48a5-b4f7-e498817b9de7",
   "metadata": {},
   "outputs": [],
   "source": [
    "saved_model = \"2h_dopredu200+KP.hdf5\"\n",
    "checkpoint = ModelCheckpoint(saved_model, monitor='val_mae', verbose=1, save_best_only=True, mode='min')\n",
    "early = EarlyStopping(monitor=\"val_mae\", mode=\"min\", patience=25)\n",
    "callbacks_list = [checkpoint, early]"
   ]
  },
  {
   "cell_type": "code",
   "execution_count": 7,
   "id": "ba000d8d-7f20-45d6-8c10-025c7976f9f8",
   "metadata": {
    "tags": []
   },
   "outputs": [
    {
     "name": "stdout",
     "output_type": "stream",
     "text": [
      "Epoch 1/200\n",
      "896/896 [==============================] - ETA: 0s - loss: 128.6061 - mae: 6.2382\n",
      "Epoch 1: val_mae improved from inf to 7.13132, saving model to 2h_dopredu200+KP.hdf5\n",
      "896/896 [==============================] - 58s 58ms/step - loss: 128.6061 - mae: 6.2382 - val_loss: 168.1815 - val_mae: 7.1313\n",
      "Epoch 2/200\n",
      "896/896 [==============================] - ETA: 0s - loss: 67.1773 - mae: 5.1268\n",
      "Epoch 2: val_mae improved from 7.13132 to 6.67288, saving model to 2h_dopredu200+KP.hdf5\n",
      "896/896 [==============================] - 50s 56ms/step - loss: 67.1773 - mae: 5.1268 - val_loss: 132.3598 - val_mae: 6.6729\n",
      "Epoch 3/200\n",
      "896/896 [==============================] - ETA: 0s - loss: 59.5083 - mae: 4.9405\n",
      "Epoch 3: val_mae did not improve from 6.67288\n",
      "896/896 [==============================] - 50s 56ms/step - loss: 59.5083 - mae: 4.9405 - val_loss: 159.5877 - val_mae: 8.1112\n",
      "Epoch 4/200\n",
      "896/896 [==============================] - ETA: 0s - loss: 57.0676 - mae: 4.8548\n",
      "Epoch 4: val_mae improved from 6.67288 to 5.96227, saving model to 2h_dopredu200+KP.hdf5\n",
      "896/896 [==============================] - 49s 55ms/step - loss: 57.0676 - mae: 4.8548 - val_loss: 104.5074 - val_mae: 5.9623\n",
      "Epoch 5/200\n",
      "896/896 [==============================] - ETA: 0s - loss: 56.7286 - mae: 4.8765\n",
      "Epoch 5: val_mae improved from 5.96227 to 5.69142, saving model to 2h_dopredu200+KP.hdf5\n",
      "896/896 [==============================] - 45s 50ms/step - loss: 56.7286 - mae: 4.8765 - val_loss: 97.0900 - val_mae: 5.6914\n",
      "Epoch 6/200\n",
      "895/896 [============================>.] - ETA: 0s - loss: 52.7151 - mae: 4.7437\n",
      "Epoch 6: val_mae did not improve from 5.69142\n",
      "896/896 [==============================] - 38s 42ms/step - loss: 52.6780 - mae: 4.7423 - val_loss: 114.6963 - val_mae: 6.1635\n",
      "Epoch 7/200\n",
      "896/896 [==============================] - ETA: 0s - loss: 52.4215 - mae: 4.7427\n",
      "Epoch 7: val_mae did not improve from 5.69142\n",
      "896/896 [==============================] - 41s 46ms/step - loss: 52.4215 - mae: 4.7427 - val_loss: 102.9798 - val_mae: 5.9406\n",
      "Epoch 8/200\n",
      "896/896 [==============================] - ETA: 0s - loss: 51.7019 - mae: 4.7249\n",
      "Epoch 8: val_mae did not improve from 5.69142\n",
      "896/896 [==============================] - 43s 48ms/step - loss: 51.7019 - mae: 4.7249 - val_loss: 133.1227 - val_mae: 6.9659\n",
      "Epoch 9/200\n",
      "896/896 [==============================] - ETA: 0s - loss: 51.0457 - mae: 4.7097\n",
      "Epoch 9: val_mae improved from 5.69142 to 5.36735, saving model to 2h_dopredu200+KP.hdf5\n",
      "896/896 [==============================] - 43s 48ms/step - loss: 51.0457 - mae: 4.7097 - val_loss: 78.7819 - val_mae: 5.3673\n",
      "Epoch 10/200\n",
      "896/896 [==============================] - ETA: 0s - loss: 51.1629 - mae: 4.7140\n",
      "Epoch 10: val_mae did not improve from 5.36735\n",
      "896/896 [==============================] - 43s 48ms/step - loss: 51.1629 - mae: 4.7140 - val_loss: 98.4308 - val_mae: 6.0642\n",
      "Epoch 11/200\n",
      "895/896 [============================>.] - ETA: 0s - loss: 50.0789 - mae: 4.6836\n",
      "Epoch 11: val_mae did not improve from 5.36735\n",
      "896/896 [==============================] - 43s 48ms/step - loss: 50.0710 - mae: 4.6833 - val_loss: 99.3018 - val_mae: 6.0947\n",
      "Epoch 12/200\n",
      "896/896 [==============================] - ETA: 0s - loss: 48.7104 - mae: 4.6426\n",
      "Epoch 12: val_mae did not improve from 5.36735\n",
      "896/896 [==============================] - 50s 56ms/step - loss: 48.7104 - mae: 4.6426 - val_loss: 91.9371 - val_mae: 5.6633\n",
      "Epoch 13/200\n",
      "895/896 [============================>.] - ETA: 0s - loss: 53.5272 - mae: 4.7448\n",
      "Epoch 13: val_mae did not improve from 5.36735\n",
      "896/896 [==============================] - 47s 52ms/step - loss: 53.5059 - mae: 4.7445 - val_loss: 101.6188 - val_mae: 5.7476\n",
      "Epoch 14/200\n",
      "896/896 [==============================] - ETA: 0s - loss: 49.8810 - mae: 4.6554\n",
      "Epoch 14: val_mae did not improve from 5.36735\n",
      "896/896 [==============================] - 48s 54ms/step - loss: 49.8810 - mae: 4.6554 - val_loss: 100.1142 - val_mae: 6.0921\n",
      "Epoch 15/200\n",
      "896/896 [==============================] - ETA: 0s - loss: 49.6958 - mae: 4.6663\n",
      "Epoch 15: val_mae did not improve from 5.36735\n",
      "896/896 [==============================] - 50s 56ms/step - loss: 49.6958 - mae: 4.6663 - val_loss: 89.3489 - val_mae: 5.7469\n",
      "Epoch 16/200\n",
      "895/896 [============================>.] - ETA: 0s - loss: 48.0911 - mae: 4.6163\n",
      "Epoch 16: val_mae did not improve from 5.36735\n",
      "896/896 [==============================] - 51s 57ms/step - loss: 48.0913 - mae: 4.6169 - val_loss: 111.4207 - val_mae: 6.3484\n",
      "Epoch 17/200\n",
      "896/896 [==============================] - ETA: 0s - loss: 49.3004 - mae: 4.6556\n",
      "Epoch 17: val_mae did not improve from 5.36735\n",
      "896/896 [==============================] - 47s 52ms/step - loss: 49.3004 - mae: 4.6556 - val_loss: 96.3120 - val_mae: 6.1492\n",
      "Epoch 18/200\n",
      "896/896 [==============================] - ETA: 0s - loss: 48.9092 - mae: 4.6387\n",
      "Epoch 18: val_mae did not improve from 5.36735\n",
      "896/896 [==============================] - 51s 57ms/step - loss: 48.9092 - mae: 4.6387 - val_loss: 96.1343 - val_mae: 6.1785\n",
      "Epoch 19/200\n",
      "896/896 [==============================] - ETA: 0s - loss: 48.3695 - mae: 4.6153\n",
      "Epoch 19: val_mae did not improve from 5.36735\n",
      "896/896 [==============================] - 51s 57ms/step - loss: 48.3695 - mae: 4.6153 - val_loss: 106.5390 - val_mae: 6.0312\n",
      "Epoch 20/200\n",
      "896/896 [==============================] - ETA: 0s - loss: 49.3000 - mae: 4.6526\n",
      "Epoch 20: val_mae did not improve from 5.36735\n",
      "896/896 [==============================] - 51s 57ms/step - loss: 49.3000 - mae: 4.6526 - val_loss: 100.4731 - val_mae: 6.2234\n",
      "Epoch 21/200\n",
      "896/896 [==============================] - ETA: 0s - loss: 48.1542 - mae: 4.6079\n",
      "Epoch 21: val_mae did not improve from 5.36735\n",
      "896/896 [==============================] - 49s 55ms/step - loss: 48.1542 - mae: 4.6079 - val_loss: 92.6731 - val_mae: 5.9071\n",
      "Epoch 22/200\n",
      "896/896 [==============================] - ETA: 0s - loss: 47.8020 - mae: 4.6185\n",
      "Epoch 22: val_mae did not improve from 5.36735\n",
      "896/896 [==============================] - 49s 54ms/step - loss: 47.8020 - mae: 4.6185 - val_loss: 105.1830 - val_mae: 6.1368\n",
      "Epoch 23/200\n",
      "896/896 [==============================] - ETA: 0s - loss: 48.1250 - mae: 4.6226\n",
      "Epoch 23: val_mae did not improve from 5.36735\n",
      "896/896 [==============================] - 51s 57ms/step - loss: 48.1250 - mae: 4.6226 - val_loss: 82.1340 - val_mae: 5.5446\n",
      "Epoch 24/200\n",
      "896/896 [==============================] - ETA: 0s - loss: 47.4905 - mae: 4.6006\n",
      "Epoch 24: val_mae did not improve from 5.36735\n",
      "896/896 [==============================] - 51s 57ms/step - loss: 47.4905 - mae: 4.6006 - val_loss: 82.5262 - val_mae: 5.7849\n",
      "Epoch 25/200\n",
      "896/896 [==============================] - ETA: 0s - loss: 48.4522 - mae: 4.6245\n",
      "Epoch 25: val_mae did not improve from 5.36735\n",
      "896/896 [==============================] - 47s 53ms/step - loss: 48.4522 - mae: 4.6245 - val_loss: 108.3898 - val_mae: 6.5563\n",
      "Epoch 26/200\n",
      "895/896 [============================>.] - ETA: 0s - loss: 47.3228 - mae: 4.5911\n",
      "Epoch 26: val_mae did not improve from 5.36735\n",
      "896/896 [==============================] - 51s 57ms/step - loss: 47.2945 - mae: 4.5899 - val_loss: 84.1907 - val_mae: 5.6771\n",
      "Epoch 27/200\n",
      "896/896 [==============================] - ETA: 0s - loss: 47.5549 - mae: 4.6010\n",
      "Epoch 27: val_mae did not improve from 5.36735\n",
      "896/896 [==============================] - 51s 57ms/step - loss: 47.5549 - mae: 4.6010 - val_loss: 102.3774 - val_mae: 6.1493\n",
      "Epoch 28/200\n",
      "896/896 [==============================] - ETA: 0s - loss: 46.8971 - mae: 4.5799\n",
      "Epoch 28: val_mae did not improve from 5.36735\n",
      "896/896 [==============================] - 52s 58ms/step - loss: 46.8971 - mae: 4.5799 - val_loss: 107.5046 - val_mae: 6.0913\n",
      "Epoch 29/200\n",
      "896/896 [==============================] - ETA: 0s - loss: 47.0722 - mae: 4.5854\n",
      "Epoch 29: val_mae did not improve from 5.36735\n",
      "896/896 [==============================] - 51s 57ms/step - loss: 47.0722 - mae: 4.5854 - val_loss: 114.3453 - val_mae: 6.3949\n",
      "Epoch 30/200\n",
      "896/896 [==============================] - ETA: 0s - loss: 47.2432 - mae: 4.5913\n",
      "Epoch 30: val_mae did not improve from 5.36735\n",
      "896/896 [==============================] - 51s 57ms/step - loss: 47.2432 - mae: 4.5913 - val_loss: 109.4695 - val_mae: 6.1600\n",
      "Epoch 31/200\n",
      "896/896 [==============================] - ETA: 0s - loss: 46.7834 - mae: 4.5781\n",
      "Epoch 31: val_mae did not improve from 5.36735\n",
      "896/896 [==============================] - 51s 57ms/step - loss: 46.7834 - mae: 4.5781 - val_loss: 106.0266 - val_mae: 6.1561\n",
      "Epoch 32/200\n",
      "895/896 [============================>.] - ETA: 0s - loss: 46.6661 - mae: 4.5760\n",
      "Epoch 32: val_mae did not improve from 5.36735\n",
      "896/896 [==============================] - 50s 55ms/step - loss: 46.7239 - mae: 4.5781 - val_loss: 80.9368 - val_mae: 5.5793\n",
      "Epoch 33/200\n",
      "896/896 [==============================] - ETA: 0s - loss: 47.3683 - mae: 4.5856\n",
      "Epoch 33: val_mae did not improve from 5.36735\n",
      "896/896 [==============================] - 46s 51ms/step - loss: 47.3683 - mae: 4.5856 - val_loss: 99.4527 - val_mae: 6.1487\n",
      "Epoch 34/200\n",
      "895/896 [============================>.] - ETA: 0s - loss: 46.7586 - mae: 4.5800\n",
      "Epoch 34: val_mae did not improve from 5.36735\n",
      "896/896 [==============================] - 45s 50ms/step - loss: 46.7630 - mae: 4.5808 - val_loss: 95.1896 - val_mae: 5.8982\n"
     ]
    }
   ],
   "source": [
    "history = model.fit(train_generator, validation_data=val_generator, epochs=200, verbose=1, callbacks = callbacks_list)"
   ]
  },
  {
   "cell_type": "code",
   "execution_count": 8,
   "id": "dfe83ff5-92f3-4168-8506-c11033d5ea69",
   "metadata": {},
   "outputs": [],
   "source": [
    "model = keras.models.load_model('2h_dopredu200+KP.hdf5')"
   ]
  },
  {
   "cell_type": "code",
   "execution_count": 9,
   "id": "f052fbef-fa70-4985-b17b-fc51d34b394d",
   "metadata": {},
   "outputs": [
    {
     "name": "stdout",
     "output_type": "stream",
     "text": [
      "633/633 [==============================] - 12s 18ms/step\n"
     ]
    }
   ],
   "source": [
    "y_pred = model.predict(test_generator)"
   ]
  },
  {
   "cell_type": "code",
   "execution_count": 10,
   "id": "e02541e2-6e4d-4f10-952b-874ca9158864",
   "metadata": {},
   "outputs": [
    {
     "name": "stdout",
     "output_type": "stream",
     "text": [
      "224/224 [==============================] - 4s 18ms/step\n",
      "Best Threshold for MCC on Validation Set: -18.999999999999968\n",
      "Best MCC on Validation Set: 0.8374076338786272\n",
      "-19.0\n"
     ]
    }
   ],
   "source": [
    "# Assuming you have already trained your model and have the validation generator ready\n",
    "y_val_pred = model.predict(val_generator)\n",
    "\n",
    "# Convert the continuous output into binary labels based on the threshold criteria\n",
    "true_labels_val = np.where(y_val[n_input:] <= -20, 1, 0)  # Adjust n_input as per your setup\n",
    "\n",
    "# Function to calculate MCC\n",
    "def calculate_mcc(y_true, y_pred):\n",
    "    return matthews_corrcoef(y_true, y_pred)\n",
    "\n",
    "# Evaluating thresholds on the validation set\n",
    "thresholds = np.arange(-10, -40, -0.1)\n",
    "mcc_scores = []\n",
    "\n",
    "for thresh in thresholds:\n",
    "    # Convert model output to binary predictions based on the threshold\n",
    "    predictions = np.where(y_val_pred <= thresh, 1, 0)\n",
    "    mcc = calculate_mcc(true_labels_val, predictions)\n",
    "    mcc_scores.append(mcc)\n",
    "\n",
    "# Find the best threshold based on MCC\n",
    "best_threshold_mcc = thresholds[np.argmax(mcc_scores)]\n",
    "best_mcc = max(mcc_scores)\n",
    "\n",
    "print(\"Best Threshold for MCC on Validation Set:\", best_threshold_mcc)\n",
    "print(\"Best MCC on Validation Set:\", best_mcc)\n",
    "best_threshold_mcc_rounded = round(best_threshold_mcc, 1)\n",
    "print(best_threshold_mcc_rounded)"
   ]
  },
  {
   "cell_type": "code",
   "execution_count": 11,
   "id": "acc91932-1931-4c78-839e-d586e3699cba",
   "metadata": {},
   "outputs": [
    {
     "name": "stdout",
     "output_type": "stream",
     "text": [
      "Mean Squared Error: 96.35835410033098\n"
     ]
    }
   ],
   "source": [
    "from sklearn.metrics import mean_squared_error\n",
    "mse = mean_squared_error(y_test[:-n_input], y_pred.reshape(-1))\n",
    "print(f\"Mean Squared Error: {mse}\")"
   ]
  },
  {
   "cell_type": "code",
   "execution_count": 12,
   "id": "59ddd127-36de-4559-9415-d19ecad1fca3",
   "metadata": {},
   "outputs": [
    {
     "name": "stdout",
     "output_type": "stream",
     "text": [
      "Confusion matrix: \n",
      "[[125351   4635]\n",
      " [  5780  26264]]\n"
     ]
    }
   ],
   "source": [
    "y_pred2 = np.where(y_pred <= best_threshold_mcc_rounded, 1, 0)\n",
    "# [n_input:] because prediction starts from n-th row\n",
    "y_test2 = np.where(y_test[n_input:]  <= -20, 1, 0)\n",
    "\n",
    "cm = confusion_matrix(y_test2, y_pred2)\n",
    "print(\"Confusion matrix: \\n\" + str(cm))"
   ]
  },
  {
   "cell_type": "code",
   "execution_count": 17,
   "id": "3ca4f141-1fc5-4fe0-9678-7ad516f2c455",
   "metadata": {},
   "outputs": [
    {
     "name": "stdout",
     "output_type": "stream",
     "text": [
      "              precision    recall  f1-score   support\n",
      "\n",
      "           0       0.96      0.96      0.96    131131\n",
      "           1       0.82      0.85      0.83     30899\n",
      "\n",
      "    accuracy                           0.94    162030\n",
      "   macro avg       0.89      0.90      0.90    162030\n",
      "weighted avg       0.94      0.94      0.94    162030\n",
      "\n"
     ]
    }
   ],
   "source": [
    "print(classification_report(y_pred2, y_test2))\n"
   ]
  },
  {
   "cell_type": "code",
   "execution_count": 14,
   "id": "f877a95e-0666-4e2d-bc78-cc7279b433c0",
   "metadata": {},
   "outputs": [
    {
     "data": {
      "image/png": "[encoded data removed]",
      "text/plain": [
       "<Figure size 640x480 with 1 Axes>"
      ]
     },
     "metadata": {},
     "output_type": "display_data"
    }
   ],
   "source": [
    "df = pd.DataFrame(data={\"time\": test['time1'][n_input:],\"y_true\": y_test[n_input:].reshape(-1) , \"y_predict\": y_pred.reshape(-1)})\n",
    "\n",
    "plt.figure()\n",
    "plt.title('Predicting the change in DST Index')\n",
    "plt.plot(df['time'],df['y_true'], label='Skutočné hodnoty')\n",
    "plt.plot(df['time'],df['y_predict'], label='Predikované hodnoty')\n",
    "plt.legend()\n",
    "plt.gcf().autofmt_xdate()\n",
    "plt.grid(True)"
   ]
  },
  {
   "cell_type": "code",
   "execution_count": 15,
   "id": "98657265-b796-44e8-96ed-a56a92cc00e7",
   "metadata": {},
   "outputs": [],
   "source": [
    "df.to_csv('2h_dopredu+200+KP.csv')"
   ]
  },
  {
   "cell_type": "code",
   "execution_count": 16,
   "id": "dca3ee40-11a3-4dcc-afb4-fd3eaceb09a6",
   "metadata": {},
   "outputs": [
    {
     "name": "stdout",
     "output_type": "stream",
     "text": [
      "ACC=0.9357217799172992\n",
      "MCC=0.7948654327004796\n"
     ]
    }
   ],
   "source": [
    "TN, FP, FN, TP = cm.ravel()\n",
    "ACC = (TP + TN) / (TP + TN + FP + FN)\n",
    "MCC = matthews_corrcoef(y_test2, y_pred2)\n",
    "print(\"ACC={}\".format(ACC))\n",
    "print(\"MCC={}\".format(MCC))"
   ]
  },
  {
   "cell_type": "code",
   "execution_count": null,
   "id": "fe2c344f-b9b5-4833-8b5d-20436c551ef0",
   "metadata": {},
   "outputs": [],
   "source": []
  }
 ],
 "metadata": {
  "kernelspec": {
   "display_name": "Python 3 (ipykernel)",
   "language": "python",
   "name": "python3"
  },
  "language_info": {
   "codemirror_mode": {
    "name": "ipython",
    "version": 3
   },
   "file_extension": ".py",
   "mimetype": "text/x-python",
   "name": "python",
   "nbconvert_exporter": "python",
   "pygments_lexer": "ipython3",
   "version": "3.10.6"
  }
 },
 "nbformat": 4,
 "nbformat_minor": 5
}
