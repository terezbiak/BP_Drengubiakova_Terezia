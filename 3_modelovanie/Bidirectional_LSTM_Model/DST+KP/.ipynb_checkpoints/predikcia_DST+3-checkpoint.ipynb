{
 "cells": [
  {
   "cell_type": "code",
   "execution_count": 1,
   "id": "107ac775-8410-4d8b-848d-b95b1dff932c",
   "metadata": {},
   "outputs": [
    {
     "name": "stderr",
     "output_type": "stream",
     "text": [
      "2024-05-16 10:04:33.828160: I tensorflow/core/platform/cpu_feature_guard.cc:193] This TensorFlow binary is optimized with oneAPI Deep Neural Network Library (oneDNN) to use the following CPU instructions in performance-critical operations:  SSE4.1 SSE4.2 AVX AVX2 FMA\n",
      "To enable them in other operations, rebuild TensorFlow with the appropriate compiler flags.\n"
     ]
    }
   ],
   "source": [
    "import pandas as pd\n",
    "import numpy as np\n",
    "from tensorflow import keras\n",
    "import matplotlib.pyplot as plt\n",
    "from sklearn.preprocessing import MinMaxScaler, StandardScaler\n",
    "from pandas.plotting import register_matplotlib_converters\n",
    "register_matplotlib_converters()\n",
    "import seaborn as sns\n",
    "\n",
    "from tensorflow.keras.preprocessing.sequence import TimeseriesGenerator\n",
    "from keras.models import Sequential\n",
    "\n",
    "from keras.layers import Dense, Activation, Dropout, Input, Conv1D, LSTM, MaxPooling1D, Flatten, TimeDistributed, Bidirectional\n",
    "from tensorflow.keras.callbacks import ModelCheckpoint, EarlyStopping\n",
    "from keras.models import Model\n",
    "\n",
    "\n",
    "from scipy.special import expit, logit\n",
    "\n",
    "from sklearn.metrics import confusion_matrix, classification_report, matthews_corrcoef"
   ]
  },
  {
   "cell_type": "code",
   "execution_count": 2,
   "id": "69621f70-0d4e-4856-b7ae-a037bff6c5f8",
   "metadata": {},
   "outputs": [],
   "source": [
    "train = pd.read_csv('train_omni.csv')\n",
    "test = pd.read_csv('test_omni.csv') \n",
    "features = ['time1',\n",
    "           'DST',\n",
    "            'DST+3', 'KP' ]\n",
    "test = test[features]\n",
    "train = train[features]\n",
    "train['time1']=pd.to_datetime(train['time1'])\n",
    "test['time1']=pd.to_datetime(test['time1'])\n",
    "predicted_label = 'DST+3'\n",
    "predicators = [\"DST\", \"KP\"]\n",
    "y_col='DST+3'\n",
    "valid_size = int(len(train) * 0.2)\n",
    "valid = train.iloc[-valid_size:,:].copy()\n",
    "train = train.iloc[:-valid_size,:].copy()\n",
    "\n",
    "y_train = train[y_col].values.copy()\n",
    "X_train = train[predicators].values.copy()\n",
    "y_val = valid[y_col].values.copy()\n",
    "X_val = valid[predicators].values.copy()\n",
    "y_test = test[y_col].values.copy()\n",
    "X_test = test[predicators].values.copy()"
   ]
  },
  {
   "cell_type": "code",
   "execution_count": 3,
   "id": "ed6b4781-24be-4714-ba45-5ac711675e4b",
   "metadata": {},
   "outputs": [],
   "source": [
    "n_input = 6  # how many samples/rows/timesteps to look in the past in order to forecast the next sample\n",
    "n_features= len(X_train)  # how many predictors/Xs/features we have to predict y\n",
    "b_size = 256  # Number of timeseries samples in each batch\n",
    "\n",
    "train_generator = TimeseriesGenerator(X_train, y_train, length=n_input, batch_size=b_size)\n",
    "val_generator = TimeseriesGenerator(X_val, y_val, length=n_input, batch_size=b_size)\n",
    "test_generator = TimeseriesGenerator(X_test, y_test, length=n_input, batch_size=256)"
   ]
  },
  {
   "cell_type": "code",
   "execution_count": 4,
   "id": "f015e82a-2dcc-4409-99c9-fe65be077b20",
   "metadata": {},
   "outputs": [
    {
     "name": "stdout",
     "output_type": "stream",
     "text": [
      "Počet batchov:  896\n",
      "Každý batch má features (X zložku) a labels (y zložku):  2\n",
      "Dĺžka X zložky batchu:  256\n",
      "Dĺžka y zložky batchu (počet meraní v batchi):  256\n",
      "Počet riadkov braných do úvahy pre jedno meranie (koľko sa pozerá dozadu):  6\n"
     ]
    }
   ],
   "source": [
    "print(\"Počet batchov: \", len(train_generator))\n",
    "print(\"Každý batch má features (X zložku) a labels (y zložku): \", len(train_generator[0]))\n",
    "print(\"Dĺžka X zložky batchu: \", len(train_generator[0][0]))\n",
    "print(\"Dĺžka y zložky batchu (počet meraní v batchi): \",len(train_generator[0][1]))\n",
    "print(\"Počet riadkov braných do úvahy pre jedno meranie (koľko sa pozerá dozadu): \", len(train_generator[0][0][0]))"
   ]
  },
  {
   "cell_type": "code",
   "execution_count": 5,
   "id": "74b15817-2f7d-4987-aa9a-a09089644a45",
   "metadata": {},
   "outputs": [
    {
     "name": "stderr",
     "output_type": "stream",
     "text": [
      "2024-05-16 10:04:39.243420: I tensorflow/core/platform/cpu_feature_guard.cc:193] This TensorFlow binary is optimized with oneAPI Deep Neural Network Library (oneDNN) to use the following CPU instructions in performance-critical operations:  SSE4.1 SSE4.2 AVX AVX2 FMA\n",
      "To enable them in other operations, rebuild TensorFlow with the appropriate compiler flags.\n"
     ]
    },
    {
     "name": "stdout",
     "output_type": "stream",
     "text": [
      "Model: \"model\"\n",
      "_________________________________________________________________\n",
      " Layer (type)                Output Shape              Param #   \n",
      "=================================================================\n",
      " input_1 (InputLayer)        [(None, 6, 2)]            0         \n",
      "                                                                 \n",
      " bidirectional (Bidirectiona  (None, 6, 256)           134144    \n",
      " l)                                                              \n",
      "                                                                 \n",
      " lstm_1 (LSTM)               (None, 6, 128)            197120    \n",
      "                                                                 \n",
      " time_distributed (TimeDistr  (None, 6, 1)             129       \n",
      " ibuted)                                                         \n",
      "                                                                 \n",
      " flatten (Flatten)           (None, 6)                 0         \n",
      "                                                                 \n",
      " dense_1 (Dense)             (None, 1)                 7         \n",
      "                                                                 \n",
      "=================================================================\n",
      "Total params: 331,400\n",
      "Trainable params: 331,400\n",
      "Non-trainable params: 0\n",
      "_________________________________________________________________\n",
      "None\n"
     ]
    }
   ],
   "source": [
    "inputs = Input(shape=(6,2))\n",
    "c = Bidirectional(LSTM(128, return_sequences=True, dropout=0.1,recurrent_dropout=0.1))(inputs)\n",
    "c = LSTM(128, return_sequences=True)(c)\n",
    "c = TimeDistributed(Dense(1, activation='linear'))(c)\n",
    "output = Flatten()(c)\n",
    "output = Dense(1, activation='linear')(output)\n",
    "model = Model(inputs=inputs, outputs=output)\n",
    "model.compile(loss='mse', optimizer='adam', metrics=[\"mae\"])\n",
    "print(model.summary())"
   ]
  },
  {
   "cell_type": "code",
   "execution_count": 6,
   "id": "2f8caecf-273b-4323-9e0c-d7992950092b",
   "metadata": {},
   "outputs": [],
   "source": [
    "saved_model = \"3h_dopredu200+KP.hdf5\"\n",
    "checkpoint = ModelCheckpoint(saved_model, monitor='val_mae', verbose=1, save_best_only=True, mode='min')\n",
    "early = EarlyStopping(monitor=\"val_mae\", mode=\"min\", patience=25)\n",
    "callbacks_list = [checkpoint, early]"
   ]
  },
  {
   "cell_type": "code",
   "execution_count": 7,
   "id": "4fabaaa1-0c84-48a4-a579-e3137991b5eb",
   "metadata": {
    "tags": []
   },
   "outputs": [
    {
     "name": "stdout",
     "output_type": "stream",
     "text": [
      "Epoch 1/200\n",
      "896/896 [==============================] - ETA: 0s - loss: 171.3055 - mae: 7.3323\n",
      "Epoch 1: val_mae improved from inf to 7.64750, saving model to 3h_dopredu200+KP.hdf5\n",
      "896/896 [==============================] - 56s 58ms/step - loss: 171.3055 - mae: 7.3323 - val_loss: 202.9932 - val_mae: 7.6475\n",
      "Epoch 2/200\n",
      "896/896 [==============================] - ETA: 0s - loss: 92.2302 - mae: 6.0795\n",
      "Epoch 2: val_mae did not improve from 7.64750\n",
      "896/896 [==============================] - 50s 55ms/step - loss: 92.2302 - mae: 6.0795 - val_loss: 199.3862 - val_mae: 8.3557\n",
      "Epoch 3/200\n",
      "896/896 [==============================] - ETA: 0s - loss: 83.9113 - mae: 5.9505\n",
      "Epoch 3: val_mae did not improve from 7.64750\n",
      "896/896 [==============================] - 50s 56ms/step - loss: 83.9113 - mae: 5.9505 - val_loss: 165.8026 - val_mae: 7.7069\n",
      "Epoch 4/200\n",
      "896/896 [==============================] - ETA: 0s - loss: 79.2661 - mae: 5.8682\n",
      "Epoch 4: val_mae improved from 7.64750 to 6.86009, saving model to 3h_dopredu200+KP.hdf5\n",
      "896/896 [==============================] - 49s 55ms/step - loss: 79.2661 - mae: 5.8682 - val_loss: 136.2227 - val_mae: 6.8601\n",
      "Epoch 5/200\n",
      "896/896 [==============================] - ETA: 0s - loss: 77.6238 - mae: 5.8287\n",
      "Epoch 5: val_mae did not improve from 6.86009\n",
      "896/896 [==============================] - 50s 55ms/step - loss: 77.6238 - mae: 5.8287 - val_loss: 162.1987 - val_mae: 7.7403\n",
      "Epoch 6/200\n",
      "896/896 [==============================] - ETA: 0s - loss: 77.0388 - mae: 5.8117\n",
      "Epoch 6: val_mae did not improve from 6.86009\n",
      "896/896 [==============================] - 49s 55ms/step - loss: 77.0388 - mae: 5.8117 - val_loss: 145.1754 - val_mae: 7.2217\n",
      "Epoch 7/200\n",
      "896/896 [==============================] - ETA: 0s - loss: 76.0430 - mae: 5.7827\n",
      "Epoch 7: val_mae did not improve from 6.86009\n",
      "896/896 [==============================] - 45s 50ms/step - loss: 76.0430 - mae: 5.7827 - val_loss: 147.0154 - val_mae: 7.4566\n",
      "Epoch 8/200\n",
      "896/896 [==============================] - ETA: 0s - loss: 74.9390 - mae: 5.7709\n",
      "Epoch 8: val_mae did not improve from 6.86009\n",
      "896/896 [==============================] - 45s 51ms/step - loss: 74.9390 - mae: 5.7709 - val_loss: 152.5197 - val_mae: 7.5583\n",
      "Epoch 9/200\n",
      "896/896 [==============================] - ETA: 0s - loss: 73.9043 - mae: 5.7411\n",
      "Epoch 9: val_mae did not improve from 6.86009\n",
      "896/896 [==============================] - 49s 55ms/step - loss: 73.9043 - mae: 5.7411 - val_loss: 150.0703 - val_mae: 7.2456\n",
      "Epoch 10/200\n",
      "896/896 [==============================] - ETA: 0s - loss: 73.6964 - mae: 5.7261\n",
      "Epoch 10: val_mae did not improve from 6.86009\n",
      "896/896 [==============================] - 50s 56ms/step - loss: 73.6964 - mae: 5.7261 - val_loss: 138.5606 - val_mae: 7.2967\n",
      "Epoch 11/200\n",
      "896/896 [==============================] - ETA: 0s - loss: 73.9266 - mae: 5.7369\n",
      "Epoch 11: val_mae did not improve from 6.86009\n",
      "896/896 [==============================] - 49s 55ms/step - loss: 73.9266 - mae: 5.7369 - val_loss: 156.4302 - val_mae: 7.7942\n",
      "Epoch 12/200\n",
      "896/896 [==============================] - ETA: 0s - loss: 73.7966 - mae: 5.7268\n",
      "Epoch 12: val_mae did not improve from 6.86009\n",
      "896/896 [==============================] - 49s 54ms/step - loss: 73.7966 - mae: 5.7268 - val_loss: 155.7350 - val_mae: 7.5239\n",
      "Epoch 13/200\n",
      "895/896 [============================>.] - ETA: 0s - loss: 73.8160 - mae: 5.7343\n",
      "Epoch 13: val_mae did not improve from 6.86009\n",
      "896/896 [==============================] - 47s 52ms/step - loss: 73.7960 - mae: 5.7341 - val_loss: 150.6179 - val_mae: 7.6771\n",
      "Epoch 14/200\n",
      "896/896 [==============================] - ETA: 0s - loss: 73.3309 - mae: 5.7072\n",
      "Epoch 14: val_mae did not improve from 6.86009\n",
      "896/896 [==============================] - 49s 55ms/step - loss: 73.3309 - mae: 5.7072 - val_loss: 139.2752 - val_mae: 7.0195\n",
      "Epoch 15/200\n",
      "895/896 [============================>.] - ETA: 0s - loss: 73.8692 - mae: 5.7250\n",
      "Epoch 15: val_mae did not improve from 6.86009\n",
      "896/896 [==============================] - 47s 53ms/step - loss: 73.8266 - mae: 5.7237 - val_loss: 172.4974 - val_mae: 8.0172\n",
      "Epoch 16/200\n",
      "896/896 [==============================] - ETA: 0s - loss: 73.0972 - mae: 5.7069\n",
      "Epoch 16: val_mae did not improve from 6.86009\n",
      "896/896 [==============================] - 44s 49ms/step - loss: 73.0972 - mae: 5.7069 - val_loss: 134.8281 - val_mae: 7.1743\n",
      "Epoch 17/200\n",
      "896/896 [==============================] - ETA: 0s - loss: 72.7705 - mae: 5.7073\n",
      "Epoch 17: val_mae did not improve from 6.86009\n",
      "896/896 [==============================] - 49s 55ms/step - loss: 72.7705 - mae: 5.7073 - val_loss: 159.5937 - val_mae: 7.4706\n",
      "Epoch 18/200\n",
      "896/896 [==============================] - ETA: 0s - loss: 72.8607 - mae: 5.7159\n",
      "Epoch 18: val_mae did not improve from 6.86009\n",
      "896/896 [==============================] - 50s 56ms/step - loss: 72.8607 - mae: 5.7159 - val_loss: 121.0855 - val_mae: 6.9527\n",
      "Epoch 19/200\n",
      "896/896 [==============================] - ETA: 0s - loss: 72.9469 - mae: 5.7068\n",
      "Epoch 19: val_mae improved from 6.86009 to 6.83943, saving model to 3h_dopredu200+KP.hdf5\n",
      "896/896 [==============================] - 50s 56ms/step - loss: 72.9469 - mae: 5.7068 - val_loss: 122.9460 - val_mae: 6.8394\n",
      "Epoch 20/200\n",
      "896/896 [==============================] - ETA: 0s - loss: 72.4833 - mae: 5.6844\n",
      "Epoch 20: val_mae did not improve from 6.83943\n",
      "896/896 [==============================] - 50s 56ms/step - loss: 72.4833 - mae: 5.6844 - val_loss: 157.8580 - val_mae: 7.6855\n",
      "Epoch 21/200\n",
      "896/896 [==============================] - ETA: 0s - loss: 72.9071 - mae: 5.7017\n",
      "Epoch 21: val_mae did not improve from 6.83943\n",
      "896/896 [==============================] - 50s 56ms/step - loss: 72.9071 - mae: 5.7017 - val_loss: 149.8067 - val_mae: 7.6420\n",
      "Epoch 22/200\n",
      "896/896 [==============================] - ETA: 0s - loss: 71.0964 - mae: 5.6571\n",
      "Epoch 22: val_mae did not improve from 6.83943\n",
      "896/896 [==============================] - 45s 51ms/step - loss: 71.0964 - mae: 5.6571 - val_loss: 126.8189 - val_mae: 6.9044\n",
      "Epoch 23/200\n",
      "895/896 [============================>.] - ETA: 0s - loss: 72.0228 - mae: 5.6725\n",
      "Epoch 23: val_mae improved from 6.83943 to 6.78690, saving model to 3h_dopredu200+KP.hdf5\n",
      "896/896 [==============================] - 50s 56ms/step - loss: 71.9990 - mae: 5.6721 - val_loss: 120.3202 - val_mae: 6.7869\n",
      "Epoch 24/200\n",
      "896/896 [==============================] - ETA: 0s - loss: 71.9740 - mae: 5.6795\n",
      "Epoch 24: val_mae improved from 6.78690 to 6.67980, saving model to 3h_dopredu200+KP.hdf5\n",
      "896/896 [==============================] - 46s 52ms/step - loss: 71.9740 - mae: 5.6795 - val_loss: 114.4880 - val_mae: 6.6798\n",
      "Epoch 25/200\n",
      "895/896 [============================>.] - ETA: 0s - loss: 71.5930 - mae: 5.6728\n",
      "Epoch 25: val_mae did not improve from 6.67980\n",
      "896/896 [==============================] - 48s 54ms/step - loss: 71.5358 - mae: 5.6702 - val_loss: 154.1959 - val_mae: 7.8908\n",
      "Epoch 26/200\n",
      "895/896 [============================>.] - ETA: 0s - loss: 72.3328 - mae: 5.6808\n",
      "Epoch 26: val_mae did not improve from 6.67980\n",
      "896/896 [==============================] - 47s 53ms/step - loss: 72.3554 - mae: 5.6821 - val_loss: 126.3888 - val_mae: 7.0767\n",
      "Epoch 27/200\n",
      "896/896 [==============================] - ETA: 0s - loss: 71.7826 - mae: 5.6713\n",
      "Epoch 27: val_mae did not improve from 6.67980\n",
      "896/896 [==============================] - 50s 56ms/step - loss: 71.7826 - mae: 5.6713 - val_loss: 147.1497 - val_mae: 7.7267\n",
      "Epoch 28/200\n",
      "896/896 [==============================] - ETA: 0s - loss: 71.5786 - mae: 5.6627\n",
      "Epoch 28: val_mae did not improve from 6.67980\n",
      "896/896 [==============================] - 45s 51ms/step - loss: 71.5786 - mae: 5.6627 - val_loss: 138.7287 - val_mae: 7.4972\n",
      "Epoch 29/200\n",
      "895/896 [============================>.] - ETA: 0s - loss: 71.8608 - mae: 5.6742\n",
      "Epoch 29: val_mae did not improve from 6.67980\n",
      "896/896 [==============================] - 50s 56ms/step - loss: 71.8225 - mae: 5.6727 - val_loss: 130.5183 - val_mae: 7.0539\n",
      "Epoch 30/200\n",
      "896/896 [==============================] - ETA: 0s - loss: 71.3322 - mae: 5.6604\n",
      "Epoch 30: val_mae improved from 6.67980 to 6.59722, saving model to 3h_dopredu200+KP.hdf5\n",
      "896/896 [==============================] - 49s 55ms/step - loss: 71.3322 - mae: 5.6604 - val_loss: 112.3025 - val_mae: 6.5972\n",
      "Epoch 31/200\n",
      "896/896 [==============================] - ETA: 0s - loss: 71.5522 - mae: 5.6692\n",
      "Epoch 31: val_mae did not improve from 6.59722\n",
      "896/896 [==============================] - 50s 56ms/step - loss: 71.5522 - mae: 5.6692 - val_loss: 153.4798 - val_mae: 7.7982\n",
      "Epoch 32/200\n",
      "896/896 [==============================] - ETA: 0s - loss: 71.1008 - mae: 5.6480\n",
      "Epoch 32: val_mae did not improve from 6.59722\n",
      "896/896 [==============================] - 50s 56ms/step - loss: 71.1008 - mae: 5.6480 - val_loss: 116.5842 - val_mae: 6.6731\n",
      "Epoch 33/200\n",
      "895/896 [============================>.] - ETA: 0s - loss: 71.4691 - mae: 5.6608\n",
      "Epoch 33: val_mae did not improve from 6.59722\n",
      "896/896 [==============================] - 50s 56ms/step - loss: 71.4519 - mae: 5.6609 - val_loss: 129.8654 - val_mae: 7.1459\n",
      "Epoch 34/200\n",
      "896/896 [==============================] - ETA: 0s - loss: 71.5321 - mae: 5.6652\n",
      "Epoch 34: val_mae did not improve from 6.59722\n",
      "896/896 [==============================] - 50s 55ms/step - loss: 71.5321 - mae: 5.6652 - val_loss: 126.3313 - val_mae: 6.9301\n",
      "Epoch 35/200\n",
      "896/896 [==============================] - ETA: 0s - loss: 70.9900 - mae: 5.6495\n",
      "Epoch 35: val_mae did not improve from 6.59722\n",
      "896/896 [==============================] - 50s 56ms/step - loss: 70.9900 - mae: 5.6495 - val_loss: 124.2655 - val_mae: 7.0050\n",
      "Epoch 36/200\n",
      "895/896 [============================>.] - ETA: 0s - loss: 70.3395 - mae: 5.6403\n",
      "Epoch 36: val_mae did not improve from 6.59722\n",
      "896/896 [==============================] - 50s 56ms/step - loss: 70.3100 - mae: 5.6396 - val_loss: 134.4533 - val_mae: 7.0899\n",
      "Epoch 37/200\n",
      "896/896 [==============================] - ETA: 0s - loss: 71.1287 - mae: 5.6547\n",
      "Epoch 37: val_mae did not improve from 6.59722\n",
      "896/896 [==============================] - 47s 52ms/step - loss: 71.1287 - mae: 5.6547 - val_loss: 136.9201 - val_mae: 7.2352\n",
      "Epoch 38/200\n",
      "896/896 [==============================] - ETA: 0s - loss: 70.8796 - mae: 5.6531\n",
      "Epoch 38: val_mae did not improve from 6.59722\n",
      "896/896 [==============================] - 51s 57ms/step - loss: 70.8796 - mae: 5.6531 - val_loss: 126.9343 - val_mae: 6.8969\n",
      "Epoch 39/200\n",
      "896/896 [==============================] - ETA: 0s - loss: 70.7023 - mae: 5.6334\n",
      "Epoch 39: val_mae did not improve from 6.59722\n",
      "896/896 [==============================] - 50s 56ms/step - loss: 70.7023 - mae: 5.6334 - val_loss: 137.0397 - val_mae: 7.3086\n",
      "Epoch 40/200\n",
      "896/896 [==============================] - ETA: 0s - loss: 70.7174 - mae: 5.6492\n",
      "Epoch 40: val_mae did not improve from 6.59722\n",
      "896/896 [==============================] - 51s 57ms/step - loss: 70.7174 - mae: 5.6492 - val_loss: 130.9490 - val_mae: 7.2678\n",
      "Epoch 41/200\n",
      "896/896 [==============================] - ETA: 0s - loss: 70.3169 - mae: 5.6355\n",
      "Epoch 41: val_mae did not improve from 6.59722\n",
      "896/896 [==============================] - 51s 56ms/step - loss: 70.3169 - mae: 5.6355 - val_loss: 121.3700 - val_mae: 6.8522\n",
      "Epoch 42/200\n",
      "896/896 [==============================] - ETA: 0s - loss: 70.5256 - mae: 5.6374\n",
      "Epoch 42: val_mae did not improve from 6.59722\n",
      "896/896 [==============================] - 51s 56ms/step - loss: 70.5256 - mae: 5.6374 - val_loss: 135.6364 - val_mae: 7.4049\n",
      "Epoch 43/200\n",
      "896/896 [==============================] - ETA: 0s - loss: 70.4833 - mae: 5.6404\n",
      "Epoch 43: val_mae did not improve from 6.59722\n",
      "896/896 [==============================] - 45s 50ms/step - loss: 70.4833 - mae: 5.6404 - val_loss: 149.6661 - val_mae: 7.3900\n",
      "Epoch 44/200\n",
      "896/896 [==============================] - ETA: 0s - loss: 70.6839 - mae: 5.6299\n",
      "Epoch 44: val_mae did not improve from 6.59722\n",
      "896/896 [==============================] - 46s 51ms/step - loss: 70.6839 - mae: 5.6299 - val_loss: 112.3439 - val_mae: 6.6909\n",
      "Epoch 45/200\n",
      "896/896 [==============================] - ETA: 0s - loss: 71.5415 - mae: 5.6608\n",
      "Epoch 45: val_mae did not improve from 6.59722\n",
      "896/896 [==============================] - 50s 56ms/step - loss: 71.5415 - mae: 5.6608 - val_loss: 136.7905 - val_mae: 7.3574\n",
      "Epoch 46/200\n",
      "896/896 [==============================] - ETA: 0s - loss: 70.2951 - mae: 5.6410\n",
      "Epoch 46: val_mae did not improve from 6.59722\n",
      "896/896 [==============================] - 51s 57ms/step - loss: 70.2951 - mae: 5.6410 - val_loss: 139.7869 - val_mae: 7.3823\n",
      "Epoch 47/200\n",
      "896/896 [==============================] - ETA: 0s - loss: 70.3439 - mae: 5.6302\n",
      "Epoch 47: val_mae did not improve from 6.59722\n",
      "896/896 [==============================] - 51s 57ms/step - loss: 70.3439 - mae: 5.6302 - val_loss: 118.8986 - val_mae: 6.8273\n",
      "Epoch 48/200\n",
      "896/896 [==============================] - ETA: 0s - loss: 70.4025 - mae: 5.6286\n",
      "Epoch 48: val_mae did not improve from 6.59722\n",
      "896/896 [==============================] - 50s 56ms/step - loss: 70.4025 - mae: 5.6286 - val_loss: 125.8823 - val_mae: 7.0372\n",
      "Epoch 49/200\n",
      "895/896 [============================>.] - ETA: 0s - loss: 70.5672 - mae: 5.6394\n",
      "Epoch 49: val_mae did not improve from 6.59722\n",
      "896/896 [==============================] - 45s 50ms/step - loss: 70.5869 - mae: 5.6406 - val_loss: 128.8458 - val_mae: 6.9446\n",
      "Epoch 50/200\n",
      "895/896 [============================>.] - ETA: 0s - loss: 70.0308 - mae: 5.6214\n",
      "Epoch 50: val_mae improved from 6.59722 to 6.57093, saving model to 3h_dopredu200+KP.hdf5\n",
      "896/896 [==============================] - 45s 50ms/step - loss: 70.0889 - mae: 5.6235 - val_loss: 108.0495 - val_mae: 6.5709\n",
      "Epoch 51/200\n",
      "895/896 [============================>.] - ETA: 0s - loss: 70.6112 - mae: 5.6358\n",
      "Epoch 51: val_mae did not improve from 6.57093\n",
      "896/896 [==============================] - 45s 50ms/step - loss: 70.5841 - mae: 5.6354 - val_loss: 125.7225 - val_mae: 7.0833\n",
      "Epoch 52/200\n",
      "895/896 [============================>.] - ETA: 0s - loss: 70.2266 - mae: 5.6293\n",
      "Epoch 52: val_mae did not improve from 6.57093\n",
      "896/896 [==============================] - 44s 50ms/step - loss: 70.1913 - mae: 5.6283 - val_loss: 137.2448 - val_mae: 7.2237\n",
      "Epoch 53/200\n",
      "895/896 [============================>.] - ETA: 0s - loss: 69.9279 - mae: 5.6237\n",
      "Epoch 53: val_mae did not improve from 6.57093\n",
      "896/896 [==============================] - 45s 50ms/step - loss: 70.0118 - mae: 5.6259 - val_loss: 146.8264 - val_mae: 7.4156\n",
      "Epoch 54/200\n",
      "896/896 [==============================] - ETA: 0s - loss: 70.2298 - mae: 5.6278\n",
      "Epoch 54: val_mae did not improve from 6.57093\n",
      "896/896 [==============================] - 46s 51ms/step - loss: 70.2298 - mae: 5.6278 - val_loss: 138.7415 - val_mae: 7.2135\n",
      "Epoch 55/200\n",
      "896/896 [==============================] - ETA: 0s - loss: 70.4926 - mae: 5.6276\n",
      "Epoch 55: val_mae did not improve from 6.57093\n",
      "896/896 [==============================] - 48s 54ms/step - loss: 70.4926 - mae: 5.6276 - val_loss: 123.4706 - val_mae: 6.8737\n",
      "Epoch 56/200\n",
      "896/896 [==============================] - ETA: 0s - loss: 69.9743 - mae: 5.6227\n",
      "Epoch 56: val_mae did not improve from 6.57093\n",
      "896/896 [==============================] - 48s 53ms/step - loss: 69.9743 - mae: 5.6227 - val_loss: 141.1430 - val_mae: 7.7662\n",
      "Epoch 57/200\n",
      "896/896 [==============================] - ETA: 0s - loss: 70.1106 - mae: 5.6279\n",
      "Epoch 57: val_mae did not improve from 6.57093\n",
      "896/896 [==============================] - 47s 53ms/step - loss: 70.1106 - mae: 5.6279 - val_loss: 139.3609 - val_mae: 7.2270\n",
      "Epoch 58/200\n",
      "896/896 [==============================] - ETA: 0s - loss: 69.9604 - mae: 5.6168\n",
      "Epoch 58: val_mae did not improve from 6.57093\n",
      "896/896 [==============================] - 50s 56ms/step - loss: 69.9604 - mae: 5.6168 - val_loss: 134.7337 - val_mae: 7.2752\n",
      "Epoch 59/200\n",
      "895/896 [============================>.] - ETA: 0s - loss: 69.9182 - mae: 5.6248\n",
      "Epoch 59: val_mae did not improve from 6.57093\n",
      "896/896 [==============================] - 46s 51ms/step - loss: 69.9019 - mae: 5.6241 - val_loss: 129.8913 - val_mae: 7.0806\n",
      "Epoch 60/200\n",
      "896/896 [==============================] - ETA: 0s - loss: 70.0404 - mae: 5.6266\n",
      "Epoch 60: val_mae did not improve from 6.57093\n",
      "896/896 [==============================] - 51s 57ms/step - loss: 70.0404 - mae: 5.6266 - val_loss: 146.9187 - val_mae: 7.4551\n",
      "Epoch 61/200\n",
      "896/896 [==============================] - ETA: 0s - loss: 69.9267 - mae: 5.6173\n",
      "Epoch 61: val_mae did not improve from 6.57093\n",
      "896/896 [==============================] - 51s 56ms/step - loss: 69.9267 - mae: 5.6173 - val_loss: 125.1181 - val_mae: 7.0159\n",
      "Epoch 62/200\n",
      "896/896 [==============================] - ETA: 0s - loss: 69.8534 - mae: 5.6182\n",
      "Epoch 62: val_mae did not improve from 6.57093\n",
      "896/896 [==============================] - 51s 57ms/step - loss: 69.8534 - mae: 5.6182 - val_loss: 144.5001 - val_mae: 7.3180\n",
      "Epoch 63/200\n",
      "896/896 [==============================] - ETA: 0s - loss: 69.9082 - mae: 5.6131\n",
      "Epoch 63: val_mae did not improve from 6.57093\n",
      "896/896 [==============================] - 50s 56ms/step - loss: 69.9082 - mae: 5.6131 - val_loss: 121.6876 - val_mae: 6.8697\n",
      "Epoch 64/200\n",
      "896/896 [==============================] - ETA: 0s - loss: 69.4608 - mae: 5.6125\n",
      "Epoch 64: val_mae did not improve from 6.57093\n",
      "896/896 [==============================] - 51s 57ms/step - loss: 69.4608 - mae: 5.6125 - val_loss: 121.4142 - val_mae: 6.9288\n",
      "Epoch 65/200\n",
      "896/896 [==============================] - ETA: 0s - loss: 69.7630 - mae: 5.6131\n",
      "Epoch 65: val_mae did not improve from 6.57093\n",
      "896/896 [==============================] - 51s 57ms/step - loss: 69.7630 - mae: 5.6131 - val_loss: 132.0684 - val_mae: 7.0522\n",
      "Epoch 66/200\n",
      "896/896 [==============================] - ETA: 0s - loss: 69.8873 - mae: 5.6202\n",
      "Epoch 66: val_mae did not improve from 6.57093\n",
      "896/896 [==============================] - 51s 57ms/step - loss: 69.8873 - mae: 5.6202 - val_loss: 146.9378 - val_mae: 7.4348\n",
      "Epoch 67/200\n",
      "895/896 [============================>.] - ETA: 0s - loss: 69.4786 - mae: 5.6174\n",
      "Epoch 67: val_mae did not improve from 6.57093\n",
      "896/896 [==============================] - 51s 57ms/step - loss: 69.4669 - mae: 5.6171 - val_loss: 130.5921 - val_mae: 6.9542\n",
      "Epoch 68/200\n",
      "896/896 [==============================] - ETA: 0s - loss: 69.5703 - mae: 5.6175\n",
      "Epoch 68: val_mae did not improve from 6.57093\n",
      "896/896 [==============================] - 47s 52ms/step - loss: 69.5703 - mae: 5.6175 - val_loss: 115.0437 - val_mae: 6.7317\n",
      "Epoch 69/200\n",
      "896/896 [==============================] - ETA: 0s - loss: 69.6409 - mae: 5.6103\n",
      "Epoch 69: val_mae did not improve from 6.57093\n",
      "896/896 [==============================] - 50s 56ms/step - loss: 69.6409 - mae: 5.6103 - val_loss: 142.6829 - val_mae: 7.5477\n",
      "Epoch 70/200\n",
      "896/896 [==============================] - ETA: 0s - loss: 69.4159 - mae: 5.6149\n",
      "Epoch 70: val_mae did not improve from 6.57093\n",
      "896/896 [==============================] - 50s 56ms/step - loss: 69.4159 - mae: 5.6149 - val_loss: 128.3813 - val_mae: 7.0666\n",
      "Epoch 71/200\n",
      "896/896 [==============================] - ETA: 0s - loss: 69.0064 - mae: 5.6060\n",
      "Epoch 71: val_mae did not improve from 6.57093\n",
      "896/896 [==============================] - 51s 56ms/step - loss: 69.0064 - mae: 5.6060 - val_loss: 133.7974 - val_mae: 7.4217\n",
      "Epoch 72/200\n",
      "896/896 [==============================] - ETA: 0s - loss: 69.3338 - mae: 5.6132\n",
      "Epoch 72: val_mae did not improve from 6.57093\n",
      "896/896 [==============================] - 49s 55ms/step - loss: 69.3338 - mae: 5.6132 - val_loss: 131.3940 - val_mae: 7.1280\n",
      "Epoch 73/200\n",
      "896/896 [==============================] - ETA: 0s - loss: 68.8248 - mae: 5.6001\n",
      "Epoch 73: val_mae did not improve from 6.57093\n",
      "896/896 [==============================] - 48s 53ms/step - loss: 68.8248 - mae: 5.6001 - val_loss: 120.6257 - val_mae: 6.7968\n",
      "Epoch 74/200\n",
      "896/896 [==============================] - ETA: 0s - loss: 69.5612 - mae: 5.6147\n",
      "Epoch 74: val_mae did not improve from 6.57093\n",
      "896/896 [==============================] - 51s 57ms/step - loss: 69.5612 - mae: 5.6147 - val_loss: 141.2783 - val_mae: 7.3413\n",
      "Epoch 75/200\n",
      "896/896 [==============================] - ETA: 0s - loss: 69.1766 - mae: 5.6151\n",
      "Epoch 75: val_mae did not improve from 6.57093\n",
      "896/896 [==============================] - 50s 56ms/step - loss: 69.1766 - mae: 5.6151 - val_loss: 129.3795 - val_mae: 7.0367\n"
     ]
    }
   ],
   "source": [
    "history = model.fit(train_generator, validation_data=val_generator, epochs=200, verbose=1, callbacks = callbacks_list)"
   ]
  },
  {
   "cell_type": "code",
   "execution_count": 8,
   "id": "c8de2cd4-1ee2-4827-a264-0f2def4a22c7",
   "metadata": {},
   "outputs": [],
   "source": [
    "model = keras.models.load_model('3h_dopredu200+KP.hdf5')"
   ]
  },
  {
   "cell_type": "code",
   "execution_count": 9,
   "id": "181fc084-f2de-465a-acab-5a7d8335b4a6",
   "metadata": {},
   "outputs": [
    {
     "name": "stdout",
     "output_type": "stream",
     "text": [
      "633/633 [==============================] - 14s 20ms/step\n"
     ]
    }
   ],
   "source": [
    "y_pred = model.predict(test_generator)"
   ]
  },
  {
   "cell_type": "code",
   "execution_count": 10,
   "id": "85ad3e32-cefd-4f18-ad05-ecde1c7ab0fb",
   "metadata": {},
   "outputs": [
    {
     "name": "stdout",
     "output_type": "stream",
     "text": [
      "224/224 [==============================] - 5s 21ms/step\n",
      "Best Threshold for MCC on Validation Set: -17.699999999999974\n",
      "Best MCC on Validation Set: 0.7991184453320564\n",
      "-17.7\n"
     ]
    }
   ],
   "source": [
    "# Assuming you have already trained your model and have the validation generator ready\n",
    "y_val_pred = model.predict(val_generator)\n",
    "\n",
    "# Convert the continuous output into binary labels based on the threshold criteria\n",
    "true_labels_val = np.where(y_val[n_input:] <= -20, 1, 0)  # Adjust n_input as per your setup\n",
    "\n",
    "# Function to calculate MCC\n",
    "def calculate_mcc(y_true, y_pred):\n",
    "    return matthews_corrcoef(y_true, y_pred)\n",
    "\n",
    "# Evaluating thresholds on the validation set\n",
    "thresholds = np.arange(-10, -40, -0.1)\n",
    "mcc_scores = []\n",
    "\n",
    "for thresh in thresholds:\n",
    "    # Convert model output to binary predictions based on the threshold\n",
    "    predictions = np.where(y_val_pred <= thresh, 1, 0)\n",
    "    mcc = calculate_mcc(true_labels_val, predictions)\n",
    "    mcc_scores.append(mcc)\n",
    "\n",
    "# Find the best threshold based on MCC\n",
    "best_threshold_mcc = thresholds[np.argmax(mcc_scores)]\n",
    "best_mcc = max(mcc_scores)\n",
    "\n",
    "print(\"Best Threshold for MCC on Validation Set:\", best_threshold_mcc)\n",
    "print(\"Best MCC on Validation Set:\", best_mcc)\n",
    "best_threshold_mcc_rounded = round(best_threshold_mcc, 1)\n",
    "print(best_threshold_mcc_rounded)"
   ]
  },
  {
   "cell_type": "code",
   "execution_count": 11,
   "id": "6e0b33e1-499b-4c9e-91b4-364da612b3fc",
   "metadata": {},
   "outputs": [
    {
     "name": "stdout",
     "output_type": "stream",
     "text": [
      "Mean Squared Error: 78.67608121601263\n"
     ]
    }
   ],
   "source": [
    "from sklearn.metrics import mean_squared_error\n",
    "mse = mean_squared_error(y_test[:-n_input], y_pred.reshape(-1))\n",
    "print(f\"Mean Squared Error: {mse}\")"
   ]
  },
  {
   "cell_type": "code",
   "execution_count": 12,
   "id": "69516a5c-d215-4f93-9d45-4842c930fe77",
   "metadata": {},
   "outputs": [
    {
     "name": "stdout",
     "output_type": "stream",
     "text": [
      "Confusion matrix: \n",
      "[[124515   5472]\n",
      " [  7462  24581]]\n"
     ]
    }
   ],
   "source": [
    "y_pred2 = np.where(y_pred <= best_threshold_mcc_rounded, 1, 0)\n",
    "# [n_input:] because prediction starts from n-th row\n",
    "y_test2 = np.where(y_test[n_input:]  <= -20, 1, 0)\n",
    "\n",
    "cm = confusion_matrix(y_test2, y_pred2)\n",
    "print(\"Confusion matrix: \\n\" + str(cm))"
   ]
  },
  {
   "cell_type": "code",
   "execution_count": 13,
   "id": "30b002dd-ed6c-4898-a05a-a134293d8e10",
   "metadata": {},
   "outputs": [
    {
     "name": "stdout",
     "output_type": "stream",
     "text": [
      "              precision    recall  f1-score   support\n",
      "\n",
      "           0       0.94      0.96      0.95    129987\n",
      "           1       0.82      0.77      0.79     32043\n",
      "\n",
      "    accuracy                           0.92    162030\n",
      "   macro avg       0.88      0.86      0.87    162030\n",
      "weighted avg       0.92      0.92      0.92    162030\n",
      "\n"
     ]
    }
   ],
   "source": [
    "print(classification_report(y_test2, y_pred2))\n"
   ]
  },
  {
   "cell_type": "code",
   "execution_count": 14,
   "id": "4c22d6ad-c91f-4678-9389-2835442f3f19",
   "metadata": {},
   "outputs": [
    {
     "data": {
      "image/png": "[encoded data removed]",
      "text/plain": [
       "<Figure size 640x480 with 1 Axes>"
      ]
     },
     "metadata": {},
     "output_type": "display_data"
    }
   ],
   "source": [
    "df = pd.DataFrame(data={\"time\": test['time1'][n_input:],\"y_true\": y_test[n_input:].reshape(-1) , \"y_predict\": y_pred.reshape(-1)})\n",
    "\n",
    "plt.figure()\n",
    "plt.title('Predicting the change in DST Index')\n",
    "plt.plot(df['time'],df['y_true'], label='Skutočné hodnoty')\n",
    "plt.plot(df['time'],df['y_predict'], label='Predikované hodnoty')\n",
    "plt.legend()\n",
    "plt.gcf().autofmt_xdate()\n",
    "plt.grid(True)"
   ]
  },
  {
   "cell_type": "code",
   "execution_count": 15,
   "id": "e7a9bc0f-fa98-41b2-9153-eb37f379d3c2",
   "metadata": {},
   "outputs": [],
   "source": [
    "df.to_csv('3h_dopredu+200+KP.csv')"
   ]
  },
  {
   "cell_type": "code",
   "execution_count": 16,
   "id": "103ed9fb-d9f8-4357-ae78-a2bc207f4fef",
   "metadata": {},
   "outputs": [
    {
     "name": "stdout",
     "output_type": "stream",
     "text": [
      "ACC=0.9201752761834229\n",
      "MCC=0.7429829134859285\n"
     ]
    }
   ],
   "source": [
    "TN, FP, FN, TP = cm.ravel()\n",
    "ACC = (TP + TN) / (TP + TN + FP + FN)\n",
    "MCC = matthews_corrcoef(y_test2, y_pred2)\n",
    "print(\"ACC={}\".format(ACC))\n",
    "print(\"MCC={}\".format(MCC))"
   ]
  },
  {
   "cell_type": "code",
   "execution_count": null,
   "id": "4ed6c7f5-0787-4763-8833-15ce193801f6",
   "metadata": {},
   "outputs": [],
   "source": []
  }
 ],
 "metadata": {
  "kernelspec": {
   "display_name": "Python 3 (ipykernel)",
   "language": "python",
   "name": "python3"
  },
  "language_info": {
   "codemirror_mode": {
    "name": "ipython",
    "version": 3
   },
   "file_extension": ".py",
   "mimetype": "text/x-python",
   "name": "python",
   "nbconvert_exporter": "python",
   "pygments_lexer": "ipython3",
   "version": "3.10.6"
  }
 },
 "nbformat": 4,
 "nbformat_minor": 5
}
