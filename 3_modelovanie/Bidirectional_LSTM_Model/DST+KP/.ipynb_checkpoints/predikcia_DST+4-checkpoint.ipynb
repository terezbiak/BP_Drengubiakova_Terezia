{
 "cells": [
  {
   "cell_type": "markdown",
   "id": "e7e6f987-25cb-41a9-8eda-07b58dfdfbe1",
   "metadata": {},
   "source": [
    "## Model na predikciu DST za pomoci použitia atribútu DST a KP o 4 hodiny dopredu"
   ]
  },
  {
   "cell_type": "markdown",
   "id": "584da8c8-cc9f-43e7-bd97-10ffdc06b290",
   "metadata": {},
   "source": [
    "Súbor: predikcia_DST+4.ipynb\n",
    "\n",
    "Program: Hospodárska informatika\n",
    "\n",
    "Vypracovala: Terézia Drengubiaková\n",
    "\n",
    "Bakalárska práca: : Prediktívne modely v spracovaní dát z oblasti kozmického počasia\n",
    "\n",
    "Vedúci diplomovej práce: doc. Ing. Peter Butka, PhD.\n",
    "\n",
    "Konzultanti: Ing. Viera Krešňáková, PhD., RNDr. Šimon Mackovjak, PhD."
   ]
  },
  {
   "cell_type": "markdown",
   "id": "ae4e4349-5984-4cd6-989b-b458cd23ad4f",
   "metadata": {},
   "source": [
    "### Import knižníc"
   ]
  },
  {
   "cell_type": "code",
   "execution_count": 1,
   "id": "89375ba6-e384-4549-a3b5-0b1389851b53",
   "metadata": {},
   "outputs": [
    {
     "name": "stderr",
     "output_type": "stream",
     "text": [
      "2024-05-16 10:04:37.098962: I tensorflow/core/platform/cpu_feature_guard.cc:193] This TensorFlow binary is optimized with oneAPI Deep Neural Network Library (oneDNN) to use the following CPU instructions in performance-critical operations:  SSE4.1 SSE4.2 AVX AVX2 FMA\n",
      "To enable them in other operations, rebuild TensorFlow with the appropriate compiler flags.\n"
     ]
    }
   ],
   "source": [
    "import pandas as pd\n",
    "import numpy as np\n",
    "from tensorflow import keras\n",
    "import matplotlib.pyplot as plt\n",
    "from sklearn.preprocessing import MinMaxScaler, StandardScaler\n",
    "from pandas.plotting import register_matplotlib_converters\n",
    "register_matplotlib_converters()\n",
    "import seaborn as sns\n",
    "from tensorflow.keras.preprocessing.sequence import TimeseriesGenerator\n",
    "from keras.models import Sequential\n",
    "from keras.layers import Dense, Activation, Dropout, Input, Conv1D, LSTM, MaxPooling1D, Flatten, TimeDistributed, Bidirectional\n",
    "from tensorflow.keras.callbacks import ModelCheckpoint, EarlyStopping\n",
    "from keras.models import Model\n",
    "from scipy.special import expit, logit\n",
    "from sklearn.metrics import confusion_matrix, classification_report, matthews_corrcoef"
   ]
  },
  {
   "cell_type": "markdown",
   "id": "8900d0e2-2ff5-436e-a429-165f83984784",
   "metadata": {},
   "source": [
    "### Načítanie dát, odstránenie na hodnôt, určenie predikovaného atribútu"
   ]
  },
  {
   "cell_type": "code",
   "execution_count": 2,
   "id": "bc4a4bce-a26a-4cfa-958d-4cf75fb7da70",
   "metadata": {},
   "outputs": [],
   "source": [
    "train = pd.read_csv('train_omni.csv')\n",
    "test = pd.read_csv('test_omni.csv')\n",
    "features = ['time1', 'DST', 'DST+4', 'KP' ]\n",
    "test = test[features]\n",
    "train = train[features]\n",
    "train['time1']=pd.to_datetime(train['time1'])\n",
    "test['time1']=pd.to_datetime(test['time1'])\n",
    "predicators = [\"DST\", \"KP\"]\n",
    "y_col='DST+4'\n",
    "valid_size = int(len(train) * 0.2)\n",
    "valid = train.iloc[-valid_size:,:].copy()\n",
    "train = train.iloc[:-valid_size,:].copy()\n",
    "\n",
    "y_train = train[y_col].values.copy()\n",
    "X_train = train[predicators].values.copy()\n",
    "y_val = valid[y_col].values.copy()\n",
    "X_val = valid[predicators].values.copy()\n",
    "y_test = test[y_col].values.copy()\n",
    "X_test = test[predicators].values.copy()"
   ]
  },
  {
   "cell_type": "markdown",
   "id": "c41daaf6-5090-4cac-b297-16fb92a662ef",
   "metadata": {},
   "source": [
    "### Definícia premenných a vytvorenie dátových generátorov"
   ]
  },
  {
   "cell_type": "code",
   "execution_count": 3,
   "id": "8148d8e8-b4cd-4e3d-b089-6e8108b541d1",
   "metadata": {},
   "outputs": [],
   "source": [
    "n_input = 6  \n",
    "n_features= len(X_train)  \n",
    "b_size = 256  \n",
    "\n",
    "train_generator = TimeseriesGenerator(X_train, y_train, length=n_input, batch_size=b_size)\n",
    "val_generator = TimeseriesGenerator(X_val, y_val, length=n_input, batch_size=b_size)\n",
    "test_generator = TimeseriesGenerator(X_test, y_test, length=n_input, batch_size=256)"
   ]
  },
  {
   "cell_type": "code",
   "execution_count": 4,
   "id": "9c131b87-dd7f-42df-a09b-b3d3ccaf40f5",
   "metadata": {},
   "outputs": [
    {
     "name": "stdout",
     "output_type": "stream",
     "text": [
      "Počet batchov:  896\n",
      "Každý batch má features (X zložku) a labels (y zložku):  2\n",
      "Dĺžka X zložky batchu:  256\n",
      "Dĺžka y zložky batchu (počet meraní v batchi):  256\n",
      "Počet riadkov braných do úvahy pre jedno meranie (koľko sa pozerá dozadu):  6\n"
     ]
    }
   ],
   "source": [
    "print(\"Počet batchov: \", len(train_generator))\n",
    "print(\"Každý batch má features (X zložku) a labels (y zložku): \", len(train_generator[0]))\n",
    "print(\"Dĺžka X zložky batchu: \", len(train_generator[0][0]))\n",
    "print(\"Dĺžka y zložky batchu (počet meraní v batchi): \",len(train_generator[0][1]))\n",
    "print(\"Počet riadkov braných do úvahy pre jedno meranie (koľko sa pozerá dozadu): \", len(train_generator[0][0][0]))"
   ]
  },
  {
   "cell_type": "markdown",
   "id": "ba3162d3-bd8e-41aa-bb98-6fc63e4e5500",
   "metadata": {},
   "source": [
    "### Vytvorenie modelu"
   ]
  },
  {
   "cell_type": "code",
   "execution_count": 5,
   "id": "31172f6f-50fc-4ec6-ac85-5d083919710d",
   "metadata": {},
   "outputs": [
    {
     "name": "stderr",
     "output_type": "stream",
     "text": [
      "2024-05-16 10:04:44.013660: I tensorflow/core/platform/cpu_feature_guard.cc:193] This TensorFlow binary is optimized with oneAPI Deep Neural Network Library (oneDNN) to use the following CPU instructions in performance-critical operations:  SSE4.1 SSE4.2 AVX AVX2 FMA\n",
      "To enable them in other operations, rebuild TensorFlow with the appropriate compiler flags.\n"
     ]
    },
    {
     "name": "stdout",
     "output_type": "stream",
     "text": [
      "Model: \"model\"\n",
      "_________________________________________________________________\n",
      " Layer (type)                Output Shape              Param #   \n",
      "=================================================================\n",
      " input_1 (InputLayer)        [(None, 6, 2)]            0         \n",
      "                                                                 \n",
      " bidirectional (Bidirectiona  (None, 6, 256)           134144    \n",
      " l)                                                              \n",
      "                                                                 \n",
      " lstm_1 (LSTM)               (None, 6, 128)            197120    \n",
      "                                                                 \n",
      " time_distributed (TimeDistr  (None, 6, 1)             129       \n",
      " ibuted)                                                         \n",
      "                                                                 \n",
      " flatten (Flatten)           (None, 6)                 0         \n",
      "                                                                 \n",
      " dense_1 (Dense)             (None, 1)                 7         \n",
      "                                                                 \n",
      "=================================================================\n",
      "Total params: 331,400\n",
      "Trainable params: 331,400\n",
      "Non-trainable params: 0\n",
      "_________________________________________________________________\n",
      "None\n"
     ]
    }
   ],
   "source": [
    "inputs = Input(shape=(6,2))\n",
    "c = Bidirectional(LSTM(128, return_sequences=True, dropout=0.1,recurrent_dropout=0.1))(inputs)\n",
    "c = LSTM(128, return_sequences=True)(c)\n",
    "c = TimeDistributed(Dense(1, activation='linear'))(c)\n",
    "output = Flatten()(c)\n",
    "output = Dense(1, activation='linear')(output)\n",
    "model = Model(inputs=inputs, outputs=output)\n",
    "model.compile(loss='mse', optimizer='adam', metrics=[\"mae\"])\n",
    "print(model.summary())"
   ]
  },
  {
   "cell_type": "code",
   "execution_count": 6,
   "id": "499fa7b9-37ba-4818-89d2-c3a7292f3085",
   "metadata": {},
   "outputs": [],
   "source": [
    "saved_model = \"4h_dopredu200+KP.hdf5\"\n",
    "checkpoint = ModelCheckpoint(saved_model, monitor='val_mae', verbose=1, save_best_only=True, mode='min')\n",
    "early = EarlyStopping(monitor=\"val_mae\", mode=\"min\", patience=25)\n",
    "callbacks_list = [checkpoint, early]"
   ]
  },
  {
   "cell_type": "markdown",
   "id": "c08da06c-d361-46b0-a68f-7e06cff28679",
   "metadata": {},
   "source": [
    "### Trénovanie"
   ]
  },
  {
   "cell_type": "code",
   "execution_count": 7,
   "id": "7431f2fe-f87d-4083-b7ac-9f5a1f0d09cf",
   "metadata": {
    "collapsed": true,
    "jupyter": {
     "outputs_hidden": true
    },
    "tags": []
   },
   "outputs": [
    {
     "name": "stdout",
     "output_type": "stream",
     "text": [
      "Epoch 1/200\n",
      "896/896 [==============================] - ETA: 0s - loss: 182.2860 - mae: 7.9308\n",
      "Epoch 1: val_mae improved from inf to 8.15158, saving model to 4h_dopredu200+KP.hdf5\n",
      "896/896 [==============================] - 60s 61ms/step - loss: 182.2860 - mae: 7.9308 - val_loss: 213.7693 - val_mae: 8.1516\n",
      "Epoch 2/200\n",
      "896/896 [==============================] - ETA: 0s - loss: 111.7237 - mae: 6.7728\n",
      "Epoch 2: val_mae did not improve from 8.15158\n",
      "896/896 [==============================] - 52s 58ms/step - loss: 111.7237 - mae: 6.7728 - val_loss: 236.0242 - val_mae: 9.6785\n",
      "Epoch 3/200\n",
      "896/896 [==============================] - ETA: 0s - loss: 106.6692 - mae: 6.7373\n",
      "Epoch 3: val_mae improved from 8.15158 to 8.00820, saving model to 4h_dopredu200+KP.hdf5\n",
      "896/896 [==============================] - 52s 58ms/step - loss: 106.6692 - mae: 6.7373 - val_loss: 188.5235 - val_mae: 8.0082\n",
      "Epoch 4/200\n",
      "896/896 [==============================] - ETA: 0s - loss: 102.2964 - mae: 6.6145\n",
      "Epoch 4: val_mae improved from 8.00820 to 7.59677, saving model to 4h_dopredu200+KP.hdf5\n",
      "896/896 [==============================] - 51s 57ms/step - loss: 102.2964 - mae: 6.6145 - val_loss: 153.1154 - val_mae: 7.5968\n",
      "Epoch 5/200\n",
      "896/896 [==============================] - ETA: 0s - loss: 100.4493 - mae: 6.5947\n",
      "Epoch 5: val_mae did not improve from 7.59677\n",
      "896/896 [==============================] - 51s 57ms/step - loss: 100.4493 - mae: 6.5947 - val_loss: 177.1221 - val_mae: 8.0989\n",
      "Epoch 6/200\n",
      "895/896 [============================>.] - ETA: 0s - loss: 98.4058 - mae: 6.5241\n",
      "Epoch 6: val_mae did not improve from 7.59677\n",
      "896/896 [==============================] - 49s 54ms/step - loss: 98.3380 - mae: 6.5219 - val_loss: 188.2336 - val_mae: 8.2655\n",
      "Epoch 7/200\n",
      "896/896 [==============================] - ETA: 0s - loss: 98.6438 - mae: 6.5556\n",
      "Epoch 7: val_mae did not improve from 7.59677\n",
      "896/896 [==============================] - 48s 54ms/step - loss: 98.6438 - mae: 6.5556 - val_loss: 186.9202 - val_mae: 8.4478\n",
      "Epoch 8/200\n",
      "896/896 [==============================] - ETA: 0s - loss: 97.0239 - mae: 6.5019\n",
      "Epoch 8: val_mae did not improve from 7.59677\n",
      "896/896 [==============================] - 51s 57ms/step - loss: 97.0239 - mae: 6.5019 - val_loss: 195.0385 - val_mae: 8.0917\n",
      "Epoch 9/200\n",
      "895/896 [============================>.] - ETA: 0s - loss: 97.1801 - mae: 6.4896\n",
      "Epoch 9: val_mae did not improve from 7.59677\n",
      "896/896 [==============================] - 49s 55ms/step - loss: 97.1707 - mae: 6.4900 - val_loss: 175.8114 - val_mae: 8.0240\n",
      "Epoch 10/200\n",
      "896/896 [==============================] - ETA: 0s - loss: 95.3511 - mae: 6.4615\n",
      "Epoch 10: val_mae did not improve from 7.59677\n",
      "896/896 [==============================] - 48s 53ms/step - loss: 95.3511 - mae: 6.4615 - val_loss: 163.3723 - val_mae: 7.7127\n",
      "Epoch 11/200\n",
      "895/896 [============================>.] - ETA: 0s - loss: 96.4173 - mae: 6.4815\n",
      "Epoch 11: val_mae did not improve from 7.59677\n",
      "896/896 [==============================] - 47s 53ms/step - loss: 96.3644 - mae: 6.4801 - val_loss: 189.0573 - val_mae: 8.5597\n",
      "Epoch 12/200\n",
      "896/896 [==============================] - ETA: 0s - loss: 95.8527 - mae: 6.4696\n",
      "Epoch 12: val_mae did not improve from 7.59677\n",
      "896/896 [==============================] - 50s 55ms/step - loss: 95.8527 - mae: 6.4696 - val_loss: 156.1717 - val_mae: 7.6096\n",
      "Epoch 13/200\n",
      "896/896 [==============================] - ETA: 0s - loss: 95.1307 - mae: 6.4407\n",
      "Epoch 13: val_mae did not improve from 7.59677\n",
      "896/896 [==============================] - 51s 57ms/step - loss: 95.1307 - mae: 6.4407 - val_loss: 177.5684 - val_mae: 8.1058\n",
      "Epoch 14/200\n",
      "896/896 [==============================] - ETA: 0s - loss: 94.5013 - mae: 6.4241\n",
      "Epoch 14: val_mae did not improve from 7.59677\n",
      "896/896 [==============================] - 51s 57ms/step - loss: 94.5013 - mae: 6.4241 - val_loss: 157.9883 - val_mae: 7.6113\n",
      "Epoch 15/200\n",
      "896/896 [==============================] - ETA: 0s - loss: 95.0577 - mae: 6.4484\n",
      "Epoch 15: val_mae did not improve from 7.59677\n",
      "896/896 [==============================] - 45s 50ms/step - loss: 95.0577 - mae: 6.4484 - val_loss: 191.7123 - val_mae: 8.0978\n",
      "Epoch 16/200\n",
      "896/896 [==============================] - ETA: 0s - loss: 94.2256 - mae: 6.4236\n",
      "Epoch 16: val_mae did not improve from 7.59677\n",
      "896/896 [==============================] - 51s 57ms/step - loss: 94.2256 - mae: 6.4236 - val_loss: 164.4369 - val_mae: 7.8320\n",
      "Epoch 17/200\n",
      "895/896 [============================>.] - ETA: 0s - loss: 94.3382 - mae: 6.4252\n",
      "Epoch 17: val_mae did not improve from 7.59677\n",
      "896/896 [==============================] - 51s 57ms/step - loss: 94.2986 - mae: 6.4245 - val_loss: 168.3265 - val_mae: 7.9554\n",
      "Epoch 18/200\n",
      "896/896 [==============================] - ETA: 0s - loss: 93.7860 - mae: 6.4191\n",
      "Epoch 18: val_mae did not improve from 7.59677\n",
      "896/896 [==============================] - 51s 57ms/step - loss: 93.7860 - mae: 6.4191 - val_loss: 152.4098 - val_mae: 7.6524\n",
      "Epoch 19/200\n",
      "896/896 [==============================] - ETA: 0s - loss: 94.7503 - mae: 6.4356\n",
      "Epoch 19: val_mae did not improve from 7.59677\n",
      "896/896 [==============================] - 51s 57ms/step - loss: 94.7503 - mae: 6.4356 - val_loss: 164.0118 - val_mae: 7.7401\n",
      "Epoch 20/200\n",
      "895/896 [============================>.] - ETA: 0s - loss: 92.9034 - mae: 6.3985\n",
      "Epoch 20: val_mae improved from 7.59677 to 7.56713, saving model to 4h_dopredu200+KP.hdf5\n",
      "896/896 [==============================] - 50s 55ms/step - loss: 92.8539 - mae: 6.3975 - val_loss: 159.2779 - val_mae: 7.5671\n",
      "Epoch 21/200\n",
      "896/896 [==============================] - ETA: 0s - loss: 93.5126 - mae: 6.4168\n",
      "Epoch 21: val_mae improved from 7.56713 to 7.53760, saving model to 4h_dopredu200+KP.hdf5\n",
      "896/896 [==============================] - 48s 54ms/step - loss: 93.5126 - mae: 6.4168 - val_loss: 154.0959 - val_mae: 7.5376\n",
      "Epoch 22/200\n",
      "896/896 [==============================] - ETA: 0s - loss: 93.0127 - mae: 6.4114\n",
      "Epoch 22: val_mae did not improve from 7.53760\n",
      "896/896 [==============================] - 47s 53ms/step - loss: 93.0127 - mae: 6.4114 - val_loss: 193.3359 - val_mae: 8.5925\n",
      "Epoch 23/200\n",
      "895/896 [============================>.] - ETA: 0s - loss: 93.1833 - mae: 6.3960\n",
      "Epoch 23: val_mae did not improve from 7.53760\n",
      "896/896 [==============================] - 47s 52ms/step - loss: 93.1937 - mae: 6.3974 - val_loss: 197.4050 - val_mae: 8.6199\n",
      "Epoch 24/200\n",
      "896/896 [==============================] - ETA: 0s - loss: 92.5699 - mae: 6.3857\n",
      "Epoch 24: val_mae did not improve from 7.53760\n",
      "896/896 [==============================] - 49s 55ms/step - loss: 92.5699 - mae: 6.3857 - val_loss: 172.2865 - val_mae: 8.2257\n",
      "Epoch 25/200\n",
      "895/896 [============================>.] - ETA: 0s - loss: 91.8000 - mae: 6.3749\n",
      "Epoch 25: val_mae did not improve from 7.53760\n",
      "896/896 [==============================] - 48s 54ms/step - loss: 91.9116 - mae: 6.3785 - val_loss: 158.3355 - val_mae: 7.6806\n",
      "Epoch 26/200\n",
      "896/896 [==============================] - ETA: 0s - loss: 92.8756 - mae: 6.4026\n",
      "Epoch 26: val_mae did not improve from 7.53760\n",
      "896/896 [==============================] - 50s 56ms/step - loss: 92.8756 - mae: 6.4026 - val_loss: 163.9489 - val_mae: 7.9346\n",
      "Epoch 27/200\n",
      "896/896 [==============================] - ETA: 0s - loss: 92.5891 - mae: 6.3934\n",
      "Epoch 27: val_mae did not improve from 7.53760\n",
      "896/896 [==============================] - 46s 52ms/step - loss: 92.5891 - mae: 6.3934 - val_loss: 168.8812 - val_mae: 7.9352\n",
      "Epoch 28/200\n",
      "896/896 [==============================] - ETA: 0s - loss: 91.6881 - mae: 6.3734\n",
      "Epoch 28: val_mae did not improve from 7.53760\n",
      "896/896 [==============================] - 52s 58ms/step - loss: 91.6881 - mae: 6.3734 - val_loss: 188.4385 - val_mae: 8.2669\n",
      "Epoch 29/200\n",
      "896/896 [==============================] - ETA: 0s - loss: 92.4732 - mae: 6.3737\n",
      "Epoch 29: val_mae did not improve from 7.53760\n",
      "896/896 [==============================] - 51s 57ms/step - loss: 92.4732 - mae: 6.3737 - val_loss: 166.8297 - val_mae: 7.9485\n",
      "Epoch 30/200\n",
      "896/896 [==============================] - ETA: 0s - loss: 92.1354 - mae: 6.3780\n",
      "Epoch 30: val_mae did not improve from 7.53760\n",
      "896/896 [==============================] - 51s 57ms/step - loss: 92.1354 - mae: 6.3780 - val_loss: 172.1134 - val_mae: 7.8358\n",
      "Epoch 31/200\n",
      "896/896 [==============================] - ETA: 0s - loss: 92.6011 - mae: 6.3862\n",
      "Epoch 31: val_mae did not improve from 7.53760\n",
      "896/896 [==============================] - 51s 57ms/step - loss: 92.6011 - mae: 6.3862 - val_loss: 170.8512 - val_mae: 7.9651\n",
      "Epoch 32/200\n",
      "896/896 [==============================] - ETA: 0s - loss: 91.7892 - mae: 6.3755\n",
      "Epoch 32: val_mae did not improve from 7.53760\n",
      "896/896 [==============================] - 51s 57ms/step - loss: 91.7892 - mae: 6.3755 - val_loss: 166.5023 - val_mae: 7.9102\n",
      "Epoch 33/200\n",
      "896/896 [==============================] - ETA: 0s - loss: 92.6936 - mae: 6.3874\n",
      "Epoch 33: val_mae did not improve from 7.53760\n",
      "896/896 [==============================] - 52s 58ms/step - loss: 92.6936 - mae: 6.3874 - val_loss: 160.7755 - val_mae: 7.6732\n",
      "Epoch 34/200\n",
      "896/896 [==============================] - ETA: 0s - loss: 92.4674 - mae: 6.3853\n",
      "Epoch 34: val_mae did not improve from 7.53760\n",
      "896/896 [==============================] - 51s 57ms/step - loss: 92.4674 - mae: 6.3853 - val_loss: 162.8450 - val_mae: 7.6847\n",
      "Epoch 35/200\n",
      "896/896 [==============================] - ETA: 0s - loss: 92.0927 - mae: 6.3785\n",
      "Epoch 35: val_mae did not improve from 7.53760\n",
      "896/896 [==============================] - 51s 57ms/step - loss: 92.0927 - mae: 6.3785 - val_loss: 155.5884 - val_mae: 7.5435\n",
      "Epoch 36/200\n",
      "896/896 [==============================] - ETA: 0s - loss: 91.6479 - mae: 6.3645\n",
      "Epoch 36: val_mae did not improve from 7.53760\n",
      "896/896 [==============================] - 47s 52ms/step - loss: 91.6479 - mae: 6.3645 - val_loss: 163.0475 - val_mae: 7.6744\n",
      "Epoch 37/200\n",
      "896/896 [==============================] - ETA: 0s - loss: 91.6317 - mae: 6.3605\n",
      "Epoch 37: val_mae did not improve from 7.53760\n",
      "896/896 [==============================] - 52s 58ms/step - loss: 91.6317 - mae: 6.3605 - val_loss: 148.6510 - val_mae: 7.5707\n",
      "Epoch 38/200\n",
      "896/896 [==============================] - ETA: 0s - loss: 91.9461 - mae: 6.3854\n",
      "Epoch 38: val_mae did not improve from 7.53760\n",
      "896/896 [==============================] - 52s 58ms/step - loss: 91.9461 - mae: 6.3854 - val_loss: 157.8210 - val_mae: 7.7549\n",
      "Epoch 39/200\n",
      "895/896 [============================>.] - ETA: 0s - loss: 91.4175 - mae: 6.3653\n",
      "Epoch 39: val_mae did not improve from 7.53760\n",
      "896/896 [==============================] - 52s 58ms/step - loss: 91.3521 - mae: 6.3632 - val_loss: 170.7335 - val_mae: 7.9268\n",
      "Epoch 40/200\n",
      "896/896 [==============================] - ETA: 0s - loss: 91.4817 - mae: 6.3657\n",
      "Epoch 40: val_mae did not improve from 7.53760\n",
      "896/896 [==============================] - 52s 58ms/step - loss: 91.4817 - mae: 6.3657 - val_loss: 179.2236 - val_mae: 8.0854\n",
      "Epoch 41/200\n",
      "896/896 [==============================] - ETA: 0s - loss: 91.0401 - mae: 6.3572\n",
      "Epoch 41: val_mae did not improve from 7.53760\n",
      "896/896 [==============================] - 51s 57ms/step - loss: 91.0401 - mae: 6.3572 - val_loss: 174.0564 - val_mae: 8.0272\n",
      "Epoch 42/200\n",
      "896/896 [==============================] - ETA: 0s - loss: 91.5391 - mae: 6.3616\n",
      "Epoch 42: val_mae did not improve from 7.53760\n",
      "896/896 [==============================] - 45s 50ms/step - loss: 91.5391 - mae: 6.3616 - val_loss: 178.3791 - val_mae: 8.0450\n",
      "Epoch 43/200\n",
      "896/896 [==============================] - ETA: 0s - loss: 91.0943 - mae: 6.3482\n",
      "Epoch 43: val_mae did not improve from 7.53760\n",
      "896/896 [==============================] - 52s 58ms/step - loss: 91.0943 - mae: 6.3482 - val_loss: 174.8517 - val_mae: 8.1923\n",
      "Epoch 44/200\n",
      "895/896 [============================>.] - ETA: 0s - loss: 91.1085 - mae: 6.3653\n",
      "Epoch 44: val_mae did not improve from 7.53760\n",
      "896/896 [==============================] - 51s 57ms/step - loss: 91.0411 - mae: 6.3628 - val_loss: 157.4414 - val_mae: 7.5964\n",
      "Epoch 45/200\n",
      "895/896 [============================>.] - ETA: 0s - loss: 91.3636 - mae: 6.3659\n",
      "Epoch 45: val_mae did not improve from 7.53760\n",
      "896/896 [==============================] - 52s 58ms/step - loss: 91.3292 - mae: 6.3655 - val_loss: 155.6664 - val_mae: 7.6202\n",
      "Epoch 46/200\n",
      "896/896 [==============================] - ETA: 0s - loss: 90.8423 - mae: 6.3487\n",
      "Epoch 46: val_mae did not improve from 7.53760\n",
      "896/896 [==============================] - 51s 57ms/step - loss: 90.8423 - mae: 6.3487 - val_loss: 189.0430 - val_mae: 8.5783\n"
     ]
    }
   ],
   "source": [
    "history = model.fit(train_generator, validation_data=val_generator, epochs=200, verbose=1, callbacks = callbacks_list)"
   ]
  },
  {
   "cell_type": "markdown",
   "id": "9dc8fb54-c24d-44f4-b6b4-48f7b87a51c6",
   "metadata": {},
   "source": [
    "### Načítanie najlepšieho modelu"
   ]
  },
  {
   "cell_type": "code",
   "execution_count": 8,
   "id": "95e3acdd-cdc7-4f8c-8d39-c76eb4f14c19",
   "metadata": {},
   "outputs": [],
   "source": [
    "model = keras.models.load_model('4h_dopredu200+KP.hdf5')"
   ]
  },
  {
   "cell_type": "markdown",
   "id": "601d2669-07ee-4512-9a34-87de5a78b104",
   "metadata": {},
   "source": [
    "### Vytvorenie predikcií"
   ]
  },
  {
   "cell_type": "code",
   "execution_count": 9,
   "id": "f4897c48-8811-4bb2-938c-687f98ba1bc5",
   "metadata": {},
   "outputs": [
    {
     "name": "stdout",
     "output_type": "stream",
     "text": [
      "633/633 [==============================] - 14s 20ms/step\n"
     ]
    }
   ],
   "source": [
    "y_pred = model.predict(test_generator)"
   ]
  },
  {
   "cell_type": "markdown",
   "id": "7863dc40-e3c5-43a0-aca1-dbfa3903857c",
   "metadata": {},
   "source": [
    "### Nájdenie optimálneho thresholdu na validačnej sade"
   ]
  },
  {
   "cell_type": "code",
   "execution_count": 10,
   "id": "31c6963b-577a-4299-9901-02f03fb32d9c",
   "metadata": {},
   "outputs": [
    {
     "name": "stdout",
     "output_type": "stream",
     "text": [
      "224/224 [==============================] - 5s 21ms/step\n",
      "Best Threshold for MCC on Validation Set: -17.49999999999997\n",
      "Best MCC on Validation Set: 0.7715770119542331\n",
      "-17.5\n"
     ]
    }
   ],
   "source": [
    "y_val_pred = model.predict(val_generator)\n",
    "\n",
    "true_labels_val = np.where(y_val[n_input:] <= -20, 1, 0)  \n",
    "\n",
    "def calculate_mcc(y_true, y_pred):\n",
    "    return matthews_corrcoef(y_true, y_pred)\n",
    "\n",
    "thresholds = np.arange(-10, -40, -0.1)\n",
    "mcc_scores = []\n",
    "\n",
    "for thresh in thresholds:\n",
    "    predictions = np.where(y_val_pred <= thresh, 1, 0)\n",
    "    mcc = calculate_mcc(true_labels_val, predictions)\n",
    "    mcc_scores.append(mcc)\n",
    "\n",
    "best_threshold_mcc = thresholds[np.argmax(mcc_scores)]\n",
    "best_mcc = max(mcc_scores)\n",
    "\n",
    "print(\"Best Threshold for MCC on Validation Set:\", best_threshold_mcc)\n",
    "print(\"Best MCC on Validation Set:\", best_mcc)\n",
    "best_threshold_mcc_rounded = round(best_threshold_mcc, 1)\n"
   ]
  },
  {
   "cell_type": "markdown",
   "id": "cc471511-c9d4-4bf0-aa53-45cc393b48f0",
   "metadata": {},
   "source": [
    "### Výpočet metrík, vykreslenie grafu predikcie a uloženie predikcií"
   ]
  },
  {
   "cell_type": "code",
   "execution_count": 11,
   "id": "c19dee18-2407-4dfb-955d-91c207aced00",
   "metadata": {},
   "outputs": [
    {
     "name": "stdout",
     "output_type": "stream",
     "text": [
      "Mean Squared Error: 59.03261821809553\n"
     ]
    }
   ],
   "source": [
    "from sklearn.metrics import mean_squared_error\n",
    "mse = mean_squared_error(y_test[:-n_input], y_pred.reshape(-1))\n",
    "print(f\"Mean Squared Error: {mse}\")"
   ]
  },
  {
   "cell_type": "code",
   "execution_count": 12,
   "id": "6ce53680-f23f-4f1d-aa16-86a5b5621f4c",
   "metadata": {},
   "outputs": [
    {
     "name": "stdout",
     "output_type": "stream",
     "text": [
      "Confusion matrix: \n",
      "[[123600   6388]\n",
      " [  8156  23886]]\n"
     ]
    }
   ],
   "source": [
    "y_pred2 = np.where(y_pred <= best_threshold_mcc_rounded, 1, 0)\n",
    "y_test2 = np.where(y_test[n_input:]  <= -20, 1, 0)\n",
    "\n",
    "cm = confusion_matrix(y_test2, y_pred2)\n",
    "print(\"Confusion matrix: \\n\" + str(cm))"
   ]
  },
  {
   "cell_type": "code",
   "execution_count": 13,
   "id": "f3194424-faad-4416-9858-beb74d48931e",
   "metadata": {},
   "outputs": [
    {
     "name": "stdout",
     "output_type": "stream",
     "text": [
      "              precision    recall  f1-score   support\n",
      "\n",
      "           0       0.94      0.95      0.94    129988\n",
      "           1       0.79      0.75      0.77     32042\n",
      "\n",
      "    accuracy                           0.91    162030\n",
      "   macro avg       0.86      0.85      0.86    162030\n",
      "weighted avg       0.91      0.91      0.91    162030\n",
      "\n"
     ]
    }
   ],
   "source": [
    "print(classification_report(y_test2, y_pred2))\n"
   ]
  },
  {
   "cell_type": "code",
   "execution_count": 14,
   "id": "22644397-1c18-4047-9637-48194ca86c88",
   "metadata": {},
   "outputs": [
    {
     "data": {
      "image/png": "[encoded data removed]",
      "text/plain": [
       "<Figure size 640x480 with 1 Axes>"
      ]
     },
     "metadata": {},
     "output_type": "display_data"
    }
   ],
   "source": [
    "df = pd.DataFrame(data={\"time\": test['time1'][n_input:],\"y_true\": y_test[n_input:].reshape(-1) , \"y_predict\": y_pred.reshape(-1)})\n",
    "\n",
    "plt.figure()\n",
    "plt.title('Predicting the change in DST Index')\n",
    "plt.plot(df['time'],df['y_true'], label='Skutočné hodnoty')\n",
    "plt.plot(df['time'],df['y_predict'], label='Predikované hodnoty')\n",
    "plt.legend()\n",
    "plt.gcf().autofmt_xdate()\n",
    "plt.grid(True)"
   ]
  },
  {
   "cell_type": "code",
   "execution_count": 15,
   "id": "1e791017-d97d-437a-84c0-5549bfeca915",
   "metadata": {},
   "outputs": [],
   "source": [
    "df.to_csv('4h_dopredu+200+KP.csv')"
   ]
  },
  {
   "cell_type": "code",
   "execution_count": 16,
   "id": "819927f3-7315-4c28-9e5b-6ef50ed7d10a",
   "metadata": {},
   "outputs": [
    {
     "name": "stdout",
     "output_type": "stream",
     "text": [
      "ACC=0.9102388446583966\n",
      "MCC=0.7115374511415565\n"
     ]
    }
   ],
   "source": [
    "TN, FP, FN, TP = cm.ravel()\n",
    "ACC = (TP + TN) / (TP + TN + FP + FN)\n",
    "MCC = matthews_corrcoef(y_test2, y_pred2)\n",
    "print(\"ACC={}\".format(ACC))\n",
    "print(\"MCC={}\".format(MCC))"
   ]
  },
  {
   "cell_type": "code",
   "execution_count": null,
   "id": "82f409b3-cd9e-4d4b-bce1-4144e9ee1da6",
   "metadata": {},
   "outputs": [],
   "source": []
  }
 ],
 "metadata": {
  "kernelspec": {
   "display_name": "Python 3 (ipykernel)",
   "language": "python",
   "name": "python3"
  },
  "language_info": {
   "codemirror_mode": {
    "name": "ipython",
    "version": 3
   },
   "file_extension": ".py",
   "mimetype": "text/x-python",
   "name": "python",
   "nbconvert_exporter": "python",
   "pygments_lexer": "ipython3",
   "version": "3.10.6"
  }
 },
 "nbformat": 4,
 "nbformat_minor": 5
}
