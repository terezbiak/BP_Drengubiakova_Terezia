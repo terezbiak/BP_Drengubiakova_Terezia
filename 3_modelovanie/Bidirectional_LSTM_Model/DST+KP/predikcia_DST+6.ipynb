{
 "cells": [
  {
   "cell_type": "markdown",
   "id": "84cf9fe8-e146-49e5-90d8-ea8f783a513e",
   "metadata": {},
   "source": [
    "## Model na predikciu DST za pomoci použitia atribútu DST a KP o 6 hodín dopredu"
   ]
  },
  {
   "cell_type": "markdown",
   "id": "07971a0b-074a-45b8-87cb-bfbfc843073e",
   "metadata": {},
   "source": [
    "Súbor: predikcia_DST+6.ipynb\n",
    "\n",
    "Program: Hospodárska informatika\n",
    "\n",
    "Vypracovala: Terézia Drengubiaková\n",
    "\n",
    "Bakalárska práca: : Prediktívne modely v spracovaní dát z oblasti kozmického počasia\n",
    "\n",
    "Vedúci diplomovej práce: doc. Ing. Peter Butka, PhD.\n",
    "\n",
    "Konzultanti: Ing. Viera Krešňáková, PhD., RNDr. Šimon Mackovjak, PhD."
   ]
  },
  {
   "cell_type": "markdown",
   "id": "17d99816-075f-4348-820c-ea07bfca6ea1",
   "metadata": {},
   "source": [
    "### Import knižníc"
   ]
  },
  {
   "cell_type": "code",
   "execution_count": 1,
   "id": "24c710a5-5bcb-4a4c-905f-2eef19579e09",
   "metadata": {},
   "outputs": [
    {
     "name": "stderr",
     "output_type": "stream",
     "text": [
      "2024-05-16 12:33:42.537340: I tensorflow/core/platform/cpu_feature_guard.cc:193] This TensorFlow binary is optimized with oneAPI Deep Neural Network Library (oneDNN) to use the following CPU instructions in performance-critical operations:  SSE4.1 SSE4.2 AVX AVX2 FMA\n",
      "To enable them in other operations, rebuild TensorFlow with the appropriate compiler flags.\n"
     ]
    }
   ],
   "source": [
    "import pandas as pd\n",
    "import numpy as np\n",
    "from tensorflow import keras\n",
    "import matplotlib.pyplot as plt\n",
    "from sklearn.preprocessing import MinMaxScaler, StandardScaler\n",
    "from pandas.plotting import register_matplotlib_converters\n",
    "register_matplotlib_converters()\n",
    "import seaborn as sns\n",
    "from tensorflow.keras.preprocessing.sequence import TimeseriesGenerator\n",
    "from keras.models import Sequential\n",
    "from keras.layers import Dense, Activation, Dropout, Input, Conv1D, LSTM, MaxPooling1D, Flatten, TimeDistributed, Bidirectional\n",
    "from tensorflow.keras.callbacks import ModelCheckpoint, EarlyStopping\n",
    "from keras.models import Model\n",
    "from scipy.special import expit, logit\n",
    "from sklearn.metrics import confusion_matrix, classification_report, matthews_corrcoef"
   ]
  },
  {
   "cell_type": "markdown",
   "id": "d8e7c8c2-55d3-4cf3-99a4-53a5f47a2d7e",
   "metadata": {},
   "source": [
    "### Načítanie dát, odstránenie na hodnôt, určenie predikovaného atribútu"
   ]
  },
  {
   "cell_type": "code",
   "execution_count": 2,
   "id": "7387b853-427a-4ef8-9af4-c00073c5f3ae",
   "metadata": {},
   "outputs": [],
   "source": [
    "train = pd.read_csv('train_omni.csv')\n",
    "test = pd.read_csv('test_omni.csv')\n",
    "features = ['time1', 'DST', 'DST+6', 'KP' ]\n",
    "test = test[features]\n",
    "train = train[features]\n",
    "train['time1']=pd.to_datetime(train['time1'])\n",
    "test['time1']=pd.to_datetime(test['time1'])\n",
    "predicators = [\"DST\", \"KP\"]\n",
    "y_col='DST+6'\n",
    "valid_size = int(len(train) * 0.2)\n",
    "valid = train.iloc[-valid_size:,:].copy()\n",
    "train = train.iloc[:-valid_size,:].copy()\n",
    "\n",
    "y_train = train[y_col].values.copy()\n",
    "X_train = train[predicators].values.copy()\n",
    "y_val = valid[y_col].values.copy()\n",
    "X_val = valid[predicators].values.copy()\n",
    "y_test = test[y_col].values.copy()\n",
    "X_test = test[predicators].values.copy()"
   ]
  },
  {
   "cell_type": "markdown",
   "id": "15f9c7d5-f02f-4e9e-917b-ccbff305d098",
   "metadata": {},
   "source": [
    "### Definícia premenných a vytvorenie dátových generátorov"
   ]
  },
  {
   "cell_type": "code",
   "execution_count": 4,
   "id": "02b9a544-9fd4-4861-8796-323ecfd83957",
   "metadata": {},
   "outputs": [],
   "source": [
    "n_input = 6  \n",
    "n_features= len(X_train)  \n",
    "b_size = 256  \n",
    "\n",
    "train_generator = TimeseriesGenerator(X_train, y_train, length=n_input, batch_size=b_size)\n",
    "val_generator = TimeseriesGenerator(X_val, y_val, length=n_input, batch_size=b_size)\n",
    "test_generator = TimeseriesGenerator(X_test, y_test, length=n_input, batch_size=256)"
   ]
  },
  {
   "cell_type": "code",
   "execution_count": 5,
   "id": "634e08c1-3637-4073-ac91-f6ea4d31d063",
   "metadata": {},
   "outputs": [
    {
     "name": "stdout",
     "output_type": "stream",
     "text": [
      "Počet batchov:  896\n",
      "Každý batch má features (X zložku) a labels (y zložku):  2\n",
      "Dĺžka X zložky batchu:  256\n",
      "Dĺžka y zložky batchu (počet meraní v batchi):  256\n",
      "Počet riadkov braných do úvahy pre jedno meranie (koľko sa pozerá dozadu):  6\n"
     ]
    }
   ],
   "source": [
    "print(\"Počet batchov: \", len(train_generator))\n",
    "print(\"Každý batch má features (X zložku) a labels (y zložku): \", len(train_generator[0]))\n",
    "print(\"Dĺžka X zložky batchu: \", len(train_generator[0][0]))\n",
    "print(\"Dĺžka y zložky batchu (počet meraní v batchi): \",len(train_generator[0][1]))\n",
    "print(\"Počet riadkov braných do úvahy pre jedno meranie (koľko sa pozerá dozadu): \", len(train_generator[0][0][0]))"
   ]
  },
  {
   "cell_type": "markdown",
   "id": "4f3e412b-87c3-43a2-bae9-3ba895e766a9",
   "metadata": {},
   "source": [
    "### Vytvorenie modelu"
   ]
  },
  {
   "cell_type": "code",
   "execution_count": 6,
   "id": "60a0d6fc-2c98-49e5-a86a-3802748c4f93",
   "metadata": {},
   "outputs": [
    {
     "name": "stderr",
     "output_type": "stream",
     "text": [
      "2024-05-16 12:33:50.561126: I tensorflow/core/platform/cpu_feature_guard.cc:193] This TensorFlow binary is optimized with oneAPI Deep Neural Network Library (oneDNN) to use the following CPU instructions in performance-critical operations:  SSE4.1 SSE4.2 AVX AVX2 FMA\n",
      "To enable them in other operations, rebuild TensorFlow with the appropriate compiler flags.\n"
     ]
    },
    {
     "name": "stdout",
     "output_type": "stream",
     "text": [
      "Model: \"model\"\n",
      "_________________________________________________________________\n",
      " Layer (type)                Output Shape              Param #   \n",
      "=================================================================\n",
      " input_1 (InputLayer)        [(None, 6, 2)]            0         \n",
      "                                                                 \n",
      " bidirectional (Bidirectiona  (None, 6, 256)           134144    \n",
      " l)                                                              \n",
      "                                                                 \n",
      " lstm_1 (LSTM)               (None, 6, 128)            197120    \n",
      "                                                                 \n",
      " time_distributed (TimeDistr  (None, 6, 1)             129       \n",
      " ibuted)                                                         \n",
      "                                                                 \n",
      " flatten (Flatten)           (None, 6)                 0         \n",
      "                                                                 \n",
      " dense_1 (Dense)             (None, 1)                 7         \n",
      "                                                                 \n",
      "=================================================================\n",
      "Total params: 331,400\n",
      "Trainable params: 331,400\n",
      "Non-trainable params: 0\n",
      "_________________________________________________________________\n",
      "None\n"
     ]
    }
   ],
   "source": [
    "inputs = Input(shape=(6,2))\n",
    "c = Bidirectional(LSTM(128, return_sequences=True, dropout=0.1,recurrent_dropout=0.1))(inputs)\n",
    "c = LSTM(128, return_sequences=True)(c)\n",
    "c = TimeDistributed(Dense(1, activation='linear'))(c)\n",
    "output = Flatten()(c)\n",
    "output = Dense(1, activation='linear')(output)\n",
    "model = Model(inputs=inputs, outputs=output)\n",
    "model.compile(loss='mse', optimizer='adam', metrics=[\"mae\"])\n",
    "print(model.summary())"
   ]
  },
  {
   "cell_type": "code",
   "execution_count": 7,
   "id": "a3f35d02-c177-428d-a3c2-3919ded4d622",
   "metadata": {},
   "outputs": [],
   "source": [
    "saved_model = \"6h_dopredu200+KP.hdf5\"\n",
    "checkpoint = ModelCheckpoint(saved_model, monitor='val_mae', verbose=1, save_best_only=True, mode='min')\n",
    "early = EarlyStopping(monitor=\"val_mae\", mode=\"min\", patience=25)\n",
    "callbacks_list = [checkpoint, early]"
   ]
  },
  {
   "cell_type": "markdown",
   "id": "8ed7cb68-aa0b-40ff-ab03-619b77833814",
   "metadata": {},
   "source": [
    "### Trénovanie"
   ]
  },
  {
   "cell_type": "code",
   "execution_count": 8,
   "id": "0d644cf6-2506-4af9-8b99-9559a748f662",
   "metadata": {
    "collapsed": true,
    "jupyter": {
     "outputs_hidden": true
    },
    "tags": []
   },
   "outputs": [
    {
     "name": "stdout",
     "output_type": "stream",
     "text": [
      "Epoch 1/200\n",
      "896/896 [==============================] - ETA: 0s - loss: 201.6209 - mae: 8.5807\n",
      "Epoch 1: val_mae improved from inf to 9.49332, saving model to 6h_dopredu200+KP.hdf5\n",
      "896/896 [==============================] - 55s 56ms/step - loss: 201.6209 - mae: 8.5807 - val_loss: 285.9125 - val_mae: 9.4933\n",
      "Epoch 2/200\n",
      "896/896 [==============================] - ETA: 0s - loss: 153.0843 - mae: 7.7932\n",
      "Epoch 2: val_mae improved from 9.49332 to 9.00305, saving model to 6h_dopredu200+KP.hdf5\n",
      "896/896 [==============================] - 47s 53ms/step - loss: 153.0843 - mae: 7.7932 - val_loss: 227.7157 - val_mae: 9.0031\n",
      "Epoch 3/200\n",
      "896/896 [==============================] - ETA: 0s - loss: 143.6823 - mae: 7.6983\n",
      "Epoch 3: val_mae did not improve from 9.00305\n",
      "896/896 [==============================] - 47s 52ms/step - loss: 143.6823 - mae: 7.6983 - val_loss: 271.2072 - val_mae: 9.5197\n",
      "Epoch 4/200\n",
      "896/896 [==============================] - ETA: 0s - loss: 139.1796 - mae: 7.6097\n",
      "Epoch 4: val_mae improved from 9.00305 to 8.88122, saving model to 6h_dopredu200+KP.hdf5\n",
      "896/896 [==============================] - 48s 54ms/step - loss: 139.1796 - mae: 7.6097 - val_loss: 224.4802 - val_mae: 8.8812\n",
      "Epoch 5/200\n",
      "895/896 [============================>.] - ETA: 0s - loss: 136.3694 - mae: 7.5611\n",
      "Epoch 5: val_mae did not improve from 8.88122\n",
      "896/896 [==============================] - 47s 52ms/step - loss: 136.3159 - mae: 7.5608 - val_loss: 230.6415 - val_mae: 9.0088\n",
      "Epoch 6/200\n",
      "896/896 [==============================] - ETA: 0s - loss: 135.3291 - mae: 7.5209\n",
      "Epoch 6: val_mae did not improve from 8.88122\n",
      "896/896 [==============================] - 47s 52ms/step - loss: 135.3291 - mae: 7.5209 - val_loss: 233.3679 - val_mae: 8.9703\n",
      "Epoch 7/200\n",
      "896/896 [==============================] - ETA: 0s - loss: 135.1252 - mae: 7.5049\n",
      "Epoch 7: val_mae did not improve from 8.88122\n",
      "896/896 [==============================] - 47s 52ms/step - loss: 135.1252 - mae: 7.5049 - val_loss: 229.9838 - val_mae: 8.9703\n",
      "Epoch 8/200\n",
      "895/896 [============================>.] - ETA: 0s - loss: 134.5005 - mae: 7.4994\n",
      "Epoch 8: val_mae did not improve from 8.88122\n",
      "896/896 [==============================] - 47s 52ms/step - loss: 134.8048 - mae: 7.5018 - val_loss: 239.1390 - val_mae: 9.1758\n",
      "Epoch 9/200\n",
      "896/896 [==============================] - ETA: 0s - loss: 133.5547 - mae: 7.4849\n",
      "Epoch 9: val_mae improved from 8.88122 to 8.82966, saving model to 6h_dopredu200+KP.hdf5\n",
      "896/896 [==============================] - 47s 52ms/step - loss: 133.5547 - mae: 7.4849 - val_loss: 225.9270 - val_mae: 8.8297\n",
      "Epoch 10/200\n",
      "895/896 [============================>.] - ETA: 0s - loss: 134.0163 - mae: 7.4840\n",
      "Epoch 10: val_mae did not improve from 8.82966\n",
      "896/896 [==============================] - 47s 52ms/step - loss: 133.9182 - mae: 7.4817 - val_loss: 250.0052 - val_mae: 9.3058\n",
      "Epoch 11/200\n",
      "896/896 [==============================] - ETA: 0s - loss: 132.0789 - mae: 7.4467\n",
      "Epoch 11: val_mae did not improve from 8.82966\n",
      "896/896 [==============================] - 46s 52ms/step - loss: 132.0789 - mae: 7.4467 - val_loss: 227.4520 - val_mae: 8.9068\n",
      "Epoch 12/200\n",
      "895/896 [============================>.] - ETA: 0s - loss: 132.5437 - mae: 7.4645\n",
      "Epoch 12: val_mae did not improve from 8.82966\n",
      "896/896 [==============================] - 47s 52ms/step - loss: 132.4934 - mae: 7.4640 - val_loss: 224.5235 - val_mae: 9.0042\n",
      "Epoch 13/200\n",
      "895/896 [============================>.] - ETA: 0s - loss: 132.0113 - mae: 7.4412\n",
      "Epoch 13: val_mae did not improve from 8.82966\n",
      "896/896 [==============================] - 47s 52ms/step - loss: 131.9277 - mae: 7.4393 - val_loss: 244.8292 - val_mae: 9.2679\n",
      "Epoch 14/200\n",
      "896/896 [==============================] - ETA: 0s - loss: 131.3857 - mae: 7.4417\n",
      "Epoch 14: val_mae improved from 8.82966 to 8.63297, saving model to 6h_dopredu200+KP.hdf5\n",
      "896/896 [==============================] - 47s 53ms/step - loss: 131.3857 - mae: 7.4417 - val_loss: 201.6279 - val_mae: 8.6330\n",
      "Epoch 15/200\n",
      "896/896 [==============================] - ETA: 0s - loss: 130.5314 - mae: 7.4264\n",
      "Epoch 15: val_mae did not improve from 8.63297\n",
      "896/896 [==============================] - 47s 52ms/step - loss: 130.5314 - mae: 7.4264 - val_loss: 243.6073 - val_mae: 9.4707\n",
      "Epoch 16/200\n",
      "896/896 [==============================] - ETA: 0s - loss: 131.4224 - mae: 7.4389\n",
      "Epoch 16: val_mae did not improve from 8.63297\n",
      "896/896 [==============================] - 46s 52ms/step - loss: 131.4224 - mae: 7.4389 - val_loss: 279.3735 - val_mae: 10.0027\n",
      "Epoch 17/200\n",
      "895/896 [============================>.] - ETA: 0s - loss: 131.4684 - mae: 7.4493\n",
      "Epoch 17: val_mae did not improve from 8.63297\n",
      "896/896 [==============================] - 47s 52ms/step - loss: 131.3767 - mae: 7.4468 - val_loss: 229.1248 - val_mae: 9.1216\n",
      "Epoch 18/200\n",
      "895/896 [============================>.] - ETA: 0s - loss: 131.1271 - mae: 7.4187\n",
      "Epoch 18: val_mae did not improve from 8.63297\n",
      "896/896 [==============================] - 47s 52ms/step - loss: 131.1041 - mae: 7.4189 - val_loss: 230.3639 - val_mae: 9.1115\n",
      "Epoch 19/200\n",
      "895/896 [============================>.] - ETA: 0s - loss: 129.8273 - mae: 7.4019\n",
      "Epoch 19: val_mae did not improve from 8.63297\n",
      "896/896 [==============================] - 47s 52ms/step - loss: 129.7518 - mae: 7.4004 - val_loss: 230.5582 - val_mae: 9.0075\n",
      "Epoch 20/200\n",
      "895/896 [============================>.] - ETA: 0s - loss: 130.6249 - mae: 7.4210\n",
      "Epoch 20: val_mae did not improve from 8.63297\n",
      "896/896 [==============================] - 47s 52ms/step - loss: 130.6385 - mae: 7.4209 - val_loss: 226.6958 - val_mae: 8.8885\n",
      "Epoch 21/200\n",
      "895/896 [============================>.] - ETA: 0s - loss: 129.8009 - mae: 7.4119\n",
      "Epoch 21: val_mae did not improve from 8.63297\n",
      "896/896 [==============================] - 47s 52ms/step - loss: 129.7042 - mae: 7.4094 - val_loss: 251.2853 - val_mae: 9.3403\n",
      "Epoch 22/200\n",
      "896/896 [==============================] - ETA: 0s - loss: 129.4351 - mae: 7.4025\n",
      "Epoch 22: val_mae did not improve from 8.63297\n",
      "896/896 [==============================] - 47s 53ms/step - loss: 129.4351 - mae: 7.4025 - val_loss: 242.1170 - val_mae: 9.1949\n",
      "Epoch 23/200\n",
      "895/896 [============================>.] - ETA: 0s - loss: 130.0649 - mae: 7.4096\n",
      "Epoch 23: val_mae did not improve from 8.63297\n",
      "896/896 [==============================] - 47s 53ms/step - loss: 130.0445 - mae: 7.4089 - val_loss: 234.4025 - val_mae: 9.1288\n",
      "Epoch 24/200\n",
      "896/896 [==============================] - ETA: 0s - loss: 129.4826 - mae: 7.4014\n",
      "Epoch 24: val_mae did not improve from 8.63297\n",
      "896/896 [==============================] - 47s 52ms/step - loss: 129.4826 - mae: 7.4014 - val_loss: 228.5247 - val_mae: 8.9762\n",
      "Epoch 25/200\n",
      "896/896 [==============================] - ETA: 0s - loss: 129.1504 - mae: 7.4019\n",
      "Epoch 25: val_mae did not improve from 8.63297\n",
      "896/896 [==============================] - 47s 52ms/step - loss: 129.1504 - mae: 7.4019 - val_loss: 211.0447 - val_mae: 8.7385\n",
      "Epoch 26/200\n",
      "896/896 [==============================] - ETA: 0s - loss: 130.1292 - mae: 7.4009\n",
      "Epoch 26: val_mae did not improve from 8.63297\n",
      "896/896 [==============================] - 47s 52ms/step - loss: 130.1292 - mae: 7.4009 - val_loss: 222.9632 - val_mae: 9.0510\n",
      "Epoch 27/200\n",
      "896/896 [==============================] - ETA: 0s - loss: 129.5502 - mae: 7.3930\n",
      "Epoch 27: val_mae did not improve from 8.63297\n",
      "896/896 [==============================] - 47s 52ms/step - loss: 129.5502 - mae: 7.3930 - val_loss: 253.2672 - val_mae: 9.5891\n",
      "Epoch 28/200\n",
      "895/896 [============================>.] - ETA: 0s - loss: 130.2726 - mae: 7.4056\n",
      "Epoch 28: val_mae did not improve from 8.63297\n",
      "896/896 [==============================] - 47s 52ms/step - loss: 130.2166 - mae: 7.4047 - val_loss: 308.4911 - val_mae: 10.5459\n",
      "Epoch 29/200\n",
      "896/896 [==============================] - ETA: 0s - loss: 129.1010 - mae: 7.3859\n",
      "Epoch 29: val_mae did not improve from 8.63297\n",
      "896/896 [==============================] - 47s 52ms/step - loss: 129.1010 - mae: 7.3859 - val_loss: 236.9921 - val_mae: 9.0376\n",
      "Epoch 30/200\n",
      "896/896 [==============================] - ETA: 0s - loss: 128.2115 - mae: 7.3819\n",
      "Epoch 30: val_mae did not improve from 8.63297\n",
      "896/896 [==============================] - 48s 53ms/step - loss: 128.2115 - mae: 7.3819 - val_loss: 225.9712 - val_mae: 9.0384\n",
      "Epoch 31/200\n",
      "895/896 [============================>.] - ETA: 0s - loss: 128.7866 - mae: 7.3906\n",
      "Epoch 31: val_mae did not improve from 8.63297\n",
      "896/896 [==============================] - 47s 52ms/step - loss: 128.6915 - mae: 7.3878 - val_loss: 246.6610 - val_mae: 9.2565\n",
      "Epoch 32/200\n",
      "896/896 [==============================] - ETA: 0s - loss: 128.1405 - mae: 7.3862\n",
      "Epoch 32: val_mae did not improve from 8.63297\n",
      "896/896 [==============================] - 47s 52ms/step - loss: 128.1405 - mae: 7.3862 - val_loss: 227.5128 - val_mae: 8.8818\n",
      "Epoch 33/200\n",
      "896/896 [==============================] - ETA: 0s - loss: 128.4991 - mae: 7.3768\n",
      "Epoch 33: val_mae did not improve from 8.63297\n",
      "896/896 [==============================] - 47s 53ms/step - loss: 128.4991 - mae: 7.3768 - val_loss: 210.9688 - val_mae: 8.7228\n",
      "Epoch 34/200\n",
      "895/896 [============================>.] - ETA: 0s - loss: 127.6278 - mae: 7.3819\n",
      "Epoch 34: val_mae did not improve from 8.63297\n",
      "896/896 [==============================] - 47s 52ms/step - loss: 127.9696 - mae: 7.3841 - val_loss: 227.9090 - val_mae: 9.0030\n",
      "Epoch 35/200\n",
      "896/896 [==============================] - ETA: 0s - loss: 128.4224 - mae: 7.3780\n",
      "Epoch 35: val_mae did not improve from 8.63297\n",
      "896/896 [==============================] - 48s 53ms/step - loss: 128.4224 - mae: 7.3780 - val_loss: 234.1004 - val_mae: 9.0185\n",
      "Epoch 36/200\n",
      "896/896 [==============================] - ETA: 0s - loss: 128.2515 - mae: 7.3819\n",
      "Epoch 36: val_mae did not improve from 8.63297\n",
      "896/896 [==============================] - 47s 52ms/step - loss: 128.2515 - mae: 7.3819 - val_loss: 244.5344 - val_mae: 9.1459\n",
      "Epoch 37/200\n",
      "896/896 [==============================] - ETA: 0s - loss: 127.2328 - mae: 7.3684\n",
      "Epoch 37: val_mae did not improve from 8.63297\n",
      "896/896 [==============================] - 47s 52ms/step - loss: 127.2328 - mae: 7.3684 - val_loss: 238.3873 - val_mae: 9.2753\n",
      "Epoch 38/200\n",
      "896/896 [==============================] - ETA: 0s - loss: 127.6728 - mae: 7.3693\n",
      "Epoch 38: val_mae did not improve from 8.63297\n",
      "896/896 [==============================] - 47s 52ms/step - loss: 127.6728 - mae: 7.3693 - val_loss: 222.7794 - val_mae: 8.8491\n",
      "Epoch 39/200\n",
      "895/896 [============================>.] - ETA: 0s - loss: 127.3479 - mae: 7.3581\n",
      "Epoch 39: val_mae did not improve from 8.63297\n",
      "896/896 [==============================] - 47s 52ms/step - loss: 127.2845 - mae: 7.3573 - val_loss: 245.3728 - val_mae: 9.3685\n"
     ]
    }
   ],
   "source": [
    "history = model.fit(train_generator, validation_data=val_generator, epochs=200, verbose=1, callbacks = callbacks_list)"
   ]
  },
  {
   "cell_type": "markdown",
   "id": "a4e585e6-91e0-4b20-beeb-df2ee125fb3f",
   "metadata": {},
   "source": [
    "### Načítanie najlepšieho modelu"
   ]
  },
  {
   "cell_type": "code",
   "execution_count": 9,
   "id": "cadb072b-c0eb-4219-a414-7531a609fd57",
   "metadata": {},
   "outputs": [],
   "source": [
    "model = keras.models.load_model('6h_dopredu200+KP.hdf5')"
   ]
  },
  {
   "cell_type": "markdown",
   "id": "583a3c1d-e408-43c5-8c2e-d267e4fd1ac0",
   "metadata": {},
   "source": [
    "### Vytvorenie predikcií"
   ]
  },
  {
   "cell_type": "code",
   "execution_count": 10,
   "id": "e5dedb9d-c147-4481-b96f-6e616767ac7f",
   "metadata": {},
   "outputs": [
    {
     "name": "stdout",
     "output_type": "stream",
     "text": [
      "633/633 [==============================] - 13s 18ms/step\n"
     ]
    }
   ],
   "source": [
    "y_pred = model.predict(test_generator)"
   ]
  },
  {
   "cell_type": "markdown",
   "id": "64935668-8835-4ac0-9676-e03b18d09821",
   "metadata": {},
   "source": [
    "### Nájdenie optimálneho thresholdu na validačnej sade"
   ]
  },
  {
   "cell_type": "code",
   "execution_count": 11,
   "id": "f190e05e-e600-4ac3-9c23-5632ea0f877c",
   "metadata": {},
   "outputs": [
    {
     "name": "stdout",
     "output_type": "stream",
     "text": [
      "224/224 [==============================] - 4s 18ms/step\n",
      "Best Threshold for MCC on Validation Set: -20.399999999999963\n",
      "Best MCC on Validation Set: 0.7321694399088968\n",
      "-20.4\n"
     ]
    }
   ],
   "source": [
    "y_val_pred = model.predict(val_generator)\n",
    "\n",
    "true_labels_val = np.where(y_val[n_input:] <= -20, 1, 0)  \n",
    "\n",
    "def calculate_mcc(y_true, y_pred):\n",
    "    return matthews_corrcoef(y_true, y_pred)\n",
    "\n",
    "thresholds = np.arange(-10, -40, -0.1)\n",
    "mcc_scores = []\n",
    "\n",
    "for thresh in thresholds:\n",
    "    predictions = np.where(y_val_pred <= thresh, 1, 0)\n",
    "    mcc = calculate_mcc(true_labels_val, predictions)\n",
    "    mcc_scores.append(mcc)\n",
    "\n",
    "best_threshold_mcc = thresholds[np.argmax(mcc_scores)]\n",
    "best_mcc = max(mcc_scores)\n",
    "\n",
    "print(\"Best Threshold for MCC on Validation Set:\", best_threshold_mcc)\n",
    "print(\"Best MCC on Validation Set:\", best_mcc)\n",
    "best_threshold_mcc_rounded = round(best_threshold_mcc, 1)"
   ]
  },
  {
   "cell_type": "markdown",
   "id": "176cb5b6-3cfc-440e-a9cb-d6b4eb348f99",
   "metadata": {},
   "source": [
    "### Výpočet metrík, vykreslenie grafu predikcie a uloženie predikcií"
   ]
  },
  {
   "cell_type": "code",
   "execution_count": 12,
   "id": "d1af153b-bae7-440f-9c89-fe60b0e85baf",
   "metadata": {},
   "outputs": [
    {
     "name": "stdout",
     "output_type": "stream",
     "text": [
      "Mean Squared Error: 53.52224088044185\n"
     ]
    }
   ],
   "source": [
    "from sklearn.metrics import mean_squared_error\n",
    "mse = mean_squared_error(y_test[:-n_input], y_pred.reshape(-1))\n",
    "print(f\"Mean Squared Error: {mse}\")"
   ]
  },
  {
   "cell_type": "code",
   "execution_count": 13,
   "id": "e975e1ab-ac1b-4791-8b0b-1a7121542ac9",
   "metadata": {},
   "outputs": [
    {
     "name": "stdout",
     "output_type": "stream",
     "text": [
      "Confusion matrix: \n",
      "[[123808   6181]\n",
      " [ 10332  21709]]\n"
     ]
    }
   ],
   "source": [
    "y_pred2 = np.where(y_pred <= best_threshold_mcc_rounded, 1, 0)\n",
    "y_test2 = np.where(y_test[n_input:]  <= -20, 1, 0)\n",
    "\n",
    "cm = confusion_matrix(y_test2, y_pred2)\n",
    "print(\"Confusion matrix: \\n\" + str(cm))"
   ]
  },
  {
   "cell_type": "code",
   "execution_count": 14,
   "id": "61fef047-3308-486f-a170-6f26989e74ba",
   "metadata": {},
   "outputs": [
    {
     "name": "stdout",
     "output_type": "stream",
     "text": [
      "              precision    recall  f1-score   support\n",
      "\n",
      "           0       0.92      0.95      0.94    129989\n",
      "           1       0.78      0.68      0.72     32041\n",
      "\n",
      "    accuracy                           0.90    162030\n",
      "   macro avg       0.85      0.81      0.83    162030\n",
      "weighted avg       0.89      0.90      0.90    162030\n",
      "\n"
     ]
    }
   ],
   "source": [
    "print(classification_report(y_test2, y_pred2))\n"
   ]
  },
  {
   "cell_type": "code",
   "execution_count": 15,
   "id": "92c383bf-5d98-4608-a256-24c0c23f49a9",
   "metadata": {},
   "outputs": [
    {
     "data": {
      "image/png": "[encoded data removed]",
      "text/plain": [
       "<Figure size 640x480 with 1 Axes>"
      ]
     },
     "metadata": {},
     "output_type": "display_data"
    }
   ],
   "source": [
    "df = pd.DataFrame(data={\"time\": test['time1'][n_input:],\"y_true\": y_test[n_input:].reshape(-1) , \"y_predict\": y_pred.reshape(-1)})\n",
    "\n",
    "plt.figure()\n",
    "plt.title('Predicting the change in DST Index')\n",
    "plt.plot(df['time'],df['y_true'], label='Skutočné hodnoty')\n",
    "plt.plot(df['time'],df['y_predict'], label='Predikované hodnoty')\n",
    "plt.legend()\n",
    "plt.gcf().autofmt_xdate()\n",
    "plt.grid(True)"
   ]
  },
  {
   "cell_type": "code",
   "execution_count": 16,
   "id": "42173a9a-ed85-49e7-8b02-6e76c2ff7b31",
   "metadata": {},
   "outputs": [],
   "source": [
    "df.to_csv('6h_dopredu+200+KP.csv')"
   ]
  },
  {
   "cell_type": "code",
   "execution_count": 17,
   "id": "9b96f626-9bc0-4758-a7bd-70ec64066e33",
   "metadata": {},
   "outputs": [
    {
     "name": "stdout",
     "output_type": "stream",
     "text": [
      "ACC=0.8980867740541875\n",
      "MCC=0.6647145503339923\n"
     ]
    }
   ],
   "source": [
    "TN, FP, FN, TP = cm.ravel()\n",
    "ACC = (TP + TN) / (TP + TN + FP + FN)\n",
    "MCC = matthews_corrcoef(y_test2, y_pred2)\n",
    "print(\"ACC={}\".format(ACC))\n",
    "print(\"MCC={}\".format(MCC))"
   ]
  },
  {
   "cell_type": "code",
   "execution_count": null,
   "id": "b0d3c4b0-cbeb-448a-b79f-8ab6a376df1b",
   "metadata": {},
   "outputs": [],
   "source": []
  }
 ],
 "metadata": {
  "kernelspec": {
   "display_name": "Python 3 (ipykernel)",
   "language": "python",
   "name": "python3"
  },
  "language_info": {
   "codemirror_mode": {
    "name": "ipython",
    "version": 3
   },
   "file_extension": ".py",
   "mimetype": "text/x-python",
   "name": "python",
   "nbconvert_exporter": "python",
   "pygments_lexer": "ipython3",
   "version": "3.10.6"
  }
 },
 "nbformat": 4,
 "nbformat_minor": 5
}
