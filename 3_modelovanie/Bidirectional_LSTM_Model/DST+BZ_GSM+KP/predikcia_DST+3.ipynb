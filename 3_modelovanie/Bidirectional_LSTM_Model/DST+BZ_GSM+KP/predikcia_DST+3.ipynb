{
 "cells": [
  {
   "cell_type": "markdown",
   "id": "1ae0d510-5313-464a-8cf5-3e9794762656",
   "metadata": {},
   "source": [
    "## Model na predikciu DST za pomoci použitia atribútu DST, BZ_GSM a KP o 3 hodiny dopredu"
   ]
  },
  {
   "cell_type": "markdown",
   "id": "30172107-2ec0-4c13-bc46-780a75fa638d",
   "metadata": {},
   "source": [
    "Súbor: predikcia_DST+3.ipynb\n",
    "\n",
    "Program: Hospodárska informatika\n",
    "\n",
    "Vypracovala: Terézia Drengubiaková\n",
    "\n",
    "Bakalárska práca: : Prediktívne modely v spracovaní dát z oblasti kozmického počasia\n",
    "\n",
    "Vedúci diplomovej práce: doc. Ing. Peter Butka, PhD.\n",
    "\n",
    "Konzultanti: Ing. Viera Krešňáková, PhD., RNDr. Šimon Mackovjak, PhD."
   ]
  },
  {
   "cell_type": "markdown",
   "id": "877ab80d-31d5-496e-a9b9-4ccd5b559118",
   "metadata": {},
   "source": [
    "### Import knižníc"
   ]
  },
  {
   "cell_type": "code",
   "execution_count": 1,
   "id": "107ac775-8410-4d8b-848d-b95b1dff932c",
   "metadata": {},
   "outputs": [
    {
     "name": "stderr",
     "output_type": "stream",
     "text": [
      "2024-05-16 08:30:11.252744: I tensorflow/core/platform/cpu_feature_guard.cc:193] This TensorFlow binary is optimized with oneAPI Deep Neural Network Library (oneDNN) to use the following CPU instructions in performance-critical operations:  SSE4.1 SSE4.2 AVX AVX2 FMA\n",
      "To enable them in other operations, rebuild TensorFlow with the appropriate compiler flags.\n"
     ]
    }
   ],
   "source": [
    "import pandas as pd\n",
    "import numpy as np\n",
    "from tensorflow import keras\n",
    "import matplotlib.pyplot as plt\n",
    "from sklearn.preprocessing import MinMaxScaler, StandardScaler\n",
    "from pandas.plotting import register_matplotlib_converters\n",
    "register_matplotlib_converters()\n",
    "import seaborn as sns\n",
    "from tensorflow.keras.preprocessing.sequence import TimeseriesGenerator\n",
    "from keras.models import Sequential\n",
    "from keras.layers import Dense, Activation, Dropout, Input, Conv1D, LSTM, MaxPooling1D, Flatten, TimeDistributed, Bidirectional\n",
    "from tensorflow.keras.callbacks import ModelCheckpoint, EarlyStopping\n",
    "from keras.models import Model\n",
    "from scipy.special import expit, logit\n",
    "from sklearn.metrics import confusion_matrix, classification_report, matthews_corrcoef"
   ]
  },
  {
   "cell_type": "markdown",
   "id": "8a07c481-523e-44f0-bac0-39c91b8000e0",
   "metadata": {},
   "source": [
    "### Načítanie dát, odstránenie na hodnôt, určenie predikovaného atribútu"
   ]
  },
  {
   "cell_type": "code",
   "execution_count": 3,
   "id": "69621f70-0d4e-4856-b7ae-a037bff6c5f8",
   "metadata": {},
   "outputs": [],
   "source": [
    "train = pd.read_csv('train_omni.csv')\n",
    "test = pd.read_csv('test_omni.csv')\n",
    "train['BZ_GSM'] = train['BZ_GSM'].fillna(train['BZ_GSM'].mean())  # Naplní NaN hodnoty priemerom danej stĺpca\n",
    "test['BZ_GSM'] = test['BZ_GSM'].fillna(test['BZ_GSM'].mean())  \n",
    "features = ['time1', 'DST', 'DST+3', 'BZ_GSM', 'KP']\n",
    "test = test[features]\n",
    "train = train[features]\n",
    "train['time1']=pd.to_datetime(train['time1'])\n",
    "test['time1']=pd.to_datetime(test['time1'])\n",
    "predicators = [\"DST\", \"BZ_GSM\", \"KP\"]\n",
    "y_col='DST+3'\n",
    "valid_size = int(len(train) * 0.2)\n",
    "valid = train.iloc[-valid_size:,:].copy()\n",
    "train = train.iloc[:-valid_size,:].copy()\n",
    "\n",
    "y_train = train[y_col].values.copy()\n",
    "X_train = train[predicators].values.copy()\n",
    "y_val = valid[y_col].values.copy()\n",
    "X_val = valid[predicators].values.copy()\n",
    "y_test = test[y_col].values.copy()\n",
    "X_test = test[predicators].values.copy()"
   ]
  },
  {
   "cell_type": "markdown",
   "id": "2d944852-3c23-4e1a-9a66-45dda3f5b7ed",
   "metadata": {},
   "source": [
    "### Definícia premenných a vytvorenie dátových generátorov"
   ]
  },
  {
   "cell_type": "code",
   "execution_count": 4,
   "id": "ed6b4781-24be-4714-ba45-5ac711675e4b",
   "metadata": {},
   "outputs": [],
   "source": [
    "n_input = 6 \n",
    "n_features= len(X_train)  \n",
    "b_size = 256  \n",
    "\n",
    "train_generator = TimeseriesGenerator(X_train, y_train, length=n_input, batch_size=b_size)\n",
    "val_generator = TimeseriesGenerator(X_val, y_val, length=n_input, batch_size=b_size)\n",
    "test_generator = TimeseriesGenerator(X_test, y_test, length=n_input, batch_size=256)"
   ]
  },
  {
   "cell_type": "code",
   "execution_count": 5,
   "id": "f015e82a-2dcc-4409-99c9-fe65be077b20",
   "metadata": {},
   "outputs": [
    {
     "name": "stdout",
     "output_type": "stream",
     "text": [
      "Počet batchov:  896\n",
      "Každý batch má features (X zložku) a labels (y zložku):  2\n",
      "Dĺžka X zložky batchu:  256\n",
      "Dĺžka y zložky batchu (počet meraní v batchi):  256\n",
      "Počet riadkov braných do úvahy pre jedno meranie (koľko sa pozerá dozadu):  6\n"
     ]
    }
   ],
   "source": [
    "print(\"Počet batchov: \", len(train_generator))\n",
    "print(\"Každý batch má features (X zložku) a labels (y zložku): \", len(train_generator[0]))\n",
    "print(\"Dĺžka X zložky batchu: \", len(train_generator[0][0]))\n",
    "print(\"Dĺžka y zložky batchu (počet meraní v batchi): \",len(train_generator[0][1]))\n",
    "print(\"Počet riadkov braných do úvahy pre jedno meranie (koľko sa pozerá dozadu): \", len(train_generator[0][0][0]))"
   ]
  },
  {
   "cell_type": "markdown",
   "id": "3566440e-3e21-4ef1-ad98-0ce7b81b0a4d",
   "metadata": {},
   "source": [
    "### Vytvorenie modelu"
   ]
  },
  {
   "cell_type": "code",
   "execution_count": 6,
   "id": "74b15817-2f7d-4987-aa9a-a09089644a45",
   "metadata": {},
   "outputs": [
    {
     "name": "stderr",
     "output_type": "stream",
     "text": [
      "2024-05-16 08:32:38.848507: I tensorflow/core/platform/cpu_feature_guard.cc:193] This TensorFlow binary is optimized with oneAPI Deep Neural Network Library (oneDNN) to use the following CPU instructions in performance-critical operations:  SSE4.1 SSE4.2 AVX AVX2 FMA\n",
      "To enable them in other operations, rebuild TensorFlow with the appropriate compiler flags.\n"
     ]
    },
    {
     "name": "stdout",
     "output_type": "stream",
     "text": [
      "Model: \"model\"\n",
      "_________________________________________________________________\n",
      " Layer (type)                Output Shape              Param #   \n",
      "=================================================================\n",
      " input_1 (InputLayer)        [(None, 6, 3)]            0         \n",
      "                                                                 \n",
      " bidirectional (Bidirectiona  (None, 6, 256)           135168    \n",
      " l)                                                              \n",
      "                                                                 \n",
      " lstm_1 (LSTM)               (None, 6, 128)            197120    \n",
      "                                                                 \n",
      " time_distributed (TimeDistr  (None, 6, 1)             129       \n",
      " ibuted)                                                         \n",
      "                                                                 \n",
      " flatten (Flatten)           (None, 6)                 0         \n",
      "                                                                 \n",
      " dense_1 (Dense)             (None, 1)                 7         \n",
      "                                                                 \n",
      "=================================================================\n",
      "Total params: 332,424\n",
      "Trainable params: 332,424\n",
      "Non-trainable params: 0\n",
      "_________________________________________________________________\n",
      "None\n"
     ]
    }
   ],
   "source": [
    "inputs = Input(shape=(6,3))\n",
    "c = Bidirectional(LSTM(128, return_sequences=True, dropout=0.1,recurrent_dropout=0.1))(inputs)\n",
    "c = LSTM(128, return_sequences=True)(c)\n",
    "c = TimeDistributed(Dense(1, activation='linear'))(c)\n",
    "output = Flatten()(c)\n",
    "output = Dense(1, activation='linear')(output)\n",
    "model = Model(inputs=inputs, outputs=output)\n",
    "model.compile(loss='mse', optimizer='adam', metrics=[\"mae\"])\n",
    "print(model.summary())"
   ]
  },
  {
   "cell_type": "code",
   "execution_count": 7,
   "id": "2f8caecf-273b-4323-9e0c-d7992950092b",
   "metadata": {},
   "outputs": [],
   "source": [
    "saved_model = \"3h_dopredu200+BZ+KP.hdf5\"\n",
    "checkpoint = ModelCheckpoint(saved_model, monitor='val_mae', verbose=1, save_best_only=True, mode='min')\n",
    "early = EarlyStopping(monitor=\"val_mae\", mode=\"min\", patience=25)\n",
    "callbacks_list = [checkpoint, early]"
   ]
  },
  {
   "cell_type": "markdown",
   "id": "890a4516-40e5-49b7-9ab4-704c1df54ac6",
   "metadata": {},
   "source": [
    "### Trénovanie"
   ]
  },
  {
   "cell_type": "code",
   "execution_count": 7,
   "id": "4fabaaa1-0c84-48a4-a579-e3137991b5eb",
   "metadata": {
    "collapsed": true,
    "jupyter": {
     "outputs_hidden": true
    },
    "tags": []
   },
   "outputs": [
    {
     "name": "stdout",
     "output_type": "stream",
     "text": [
      "Epoch 1/200\n",
      "1139/1139 [==============================] - ETA: 0s - loss: 159.0514 - mae: 6.9750\n",
      "Epoch 1: val_mae improved from inf to 5.46299, saving model to 3h_dopredu200+BZ+KP.hdf5\n",
      "1139/1139 [==============================] - 84s 69ms/step - loss: 159.0514 - mae: 6.9750 - val_loss: 98.7283 - val_mae: 5.4630\n",
      "Epoch 2/200\n",
      "1138/1139 [============================>.] - ETA: 0s - loss: 88.1216 - mae: 5.9316\n",
      "Epoch 2: val_mae improved from 5.46299 to 5.25022, saving model to 3h_dopredu200+BZ+KP.hdf5\n",
      "1139/1139 [==============================] - 63s 55ms/step - loss: 88.1922 - mae: 5.9337 - val_loss: 76.4414 - val_mae: 5.2502\n",
      "Epoch 3/200\n",
      "1139/1139 [==============================] - ETA: 0s - loss: 78.8676 - mae: 5.7632\n",
      "Epoch 3: val_mae did not improve from 5.25022\n",
      "1139/1139 [==============================] - 68s 60ms/step - loss: 78.8676 - mae: 5.7632 - val_loss: 73.5041 - val_mae: 5.3422\n",
      "Epoch 4/200\n",
      "1138/1139 [============================>.] - ETA: 0s - loss: 74.9000 - mae: 5.6829\n",
      "Epoch 4: val_mae did not improve from 5.25022\n",
      "1139/1139 [==============================] - 70s 62ms/step - loss: 74.8672 - mae: 5.6818 - val_loss: 77.4635 - val_mae: 5.5521\n",
      "Epoch 5/200\n",
      "1139/1139 [==============================] - ETA: 0s - loss: 72.8360 - mae: 5.6192\n",
      "Epoch 5: val_mae did not improve from 5.25022\n",
      "1139/1139 [==============================] - 73s 64ms/step - loss: 72.8360 - mae: 5.6192 - val_loss: 72.6956 - val_mae: 5.4913\n",
      "Epoch 6/200\n",
      "1139/1139 [==============================] - ETA: 0s - loss: 70.8096 - mae: 5.5992\n",
      "Epoch 6: val_mae did not improve from 5.25022\n",
      "1139/1139 [==============================] - 73s 65ms/step - loss: 70.8096 - mae: 5.5992 - val_loss: 83.8904 - val_mae: 5.8207\n",
      "Epoch 7/200\n",
      "1139/1139 [==============================] - ETA: 0s - loss: 70.6671 - mae: 5.5604\n",
      "Epoch 7: val_mae did not improve from 5.25022\n",
      "1139/1139 [==============================] - 65s 57ms/step - loss: 70.6671 - mae: 5.5604 - val_loss: 89.4919 - val_mae: 6.2845\n",
      "Epoch 8/200\n",
      "1139/1139 [==============================] - ETA: 0s - loss: 69.4698 - mae: 5.5473\n",
      "Epoch 8: val_mae did not improve from 5.25022\n",
      "1139/1139 [==============================] - 73s 64ms/step - loss: 69.4698 - mae: 5.5473 - val_loss: 70.3416 - val_mae: 5.7758\n",
      "Epoch 9/200\n",
      "1139/1139 [==============================] - ETA: 0s - loss: 69.8268 - mae: 5.5567\n",
      "Epoch 9: val_mae did not improve from 5.25022\n",
      "1139/1139 [==============================] - 71s 63ms/step - loss: 69.8268 - mae: 5.5567 - val_loss: 78.5106 - val_mae: 6.1409\n",
      "Epoch 10/200\n",
      "1139/1139 [==============================] - ETA: 0s - loss: 68.6136 - mae: 5.5219\n",
      "Epoch 10: val_mae improved from 5.25022 to 5.14373, saving model to 3h_dopredu200+BZ+KP.hdf5\n",
      "1139/1139 [==============================] - 77s 67ms/step - loss: 68.6136 - mae: 5.5219 - val_loss: 64.1737 - val_mae: 5.1437\n",
      "Epoch 11/200\n",
      "1139/1139 [==============================] - ETA: 0s - loss: 67.1255 - mae: 5.4826\n",
      "Epoch 11: val_mae did not improve from 5.14373\n",
      "1139/1139 [==============================] - 75s 66ms/step - loss: 67.1255 - mae: 5.4826 - val_loss: 70.6682 - val_mae: 5.4700\n",
      "Epoch 12/200\n",
      "1139/1139 [==============================] - ETA: 0s - loss: 67.7807 - mae: 5.4965\n",
      "Epoch 12: val_mae improved from 5.14373 to 5.10401, saving model to 3h_dopredu200+BZ+KP.hdf5\n",
      "1139/1139 [==============================] - 71s 62ms/step - loss: 67.7807 - mae: 5.4965 - val_loss: 59.2669 - val_mae: 5.1040\n",
      "Epoch 13/200\n",
      "1138/1139 [============================>.] - ETA: 0s - loss: 66.8930 - mae: 5.4664\n",
      "Epoch 13: val_mae did not improve from 5.10401\n",
      "1139/1139 [==============================] - 74s 65ms/step - loss: 66.8802 - mae: 5.4661 - val_loss: 76.9310 - val_mae: 5.8904\n",
      "Epoch 14/200\n",
      "1139/1139 [==============================] - ETA: 0s - loss: 66.3981 - mae: 5.4544\n",
      "Epoch 14: val_mae did not improve from 5.10401\n",
      "1139/1139 [==============================] - 72s 63ms/step - loss: 66.3981 - mae: 5.4544 - val_loss: 66.7256 - val_mae: 5.3759\n",
      "Epoch 15/200\n",
      "1139/1139 [==============================] - ETA: 0s - loss: 65.9064 - mae: 5.4491\n",
      "Epoch 15: val_mae did not improve from 5.10401\n",
      "1139/1139 [==============================] - 71s 62ms/step - loss: 65.9064 - mae: 5.4491 - val_loss: 70.5573 - val_mae: 5.4380\n",
      "Epoch 16/200\n",
      "1139/1139 [==============================] - ETA: 0s - loss: 65.9412 - mae: 5.4422\n",
      "Epoch 16: val_mae did not improve from 5.10401\n",
      "1139/1139 [==============================] - 70s 62ms/step - loss: 65.9412 - mae: 5.4422 - val_loss: 69.2006 - val_mae: 5.5561\n",
      "Epoch 17/200\n",
      "1139/1139 [==============================] - ETA: 0s - loss: 65.2436 - mae: 5.4357\n",
      "Epoch 17: val_mae did not improve from 5.10401\n",
      "1139/1139 [==============================] - 73s 64ms/step - loss: 65.2436 - mae: 5.4357 - val_loss: 58.8955 - val_mae: 5.1236\n",
      "Epoch 18/200\n",
      "1139/1139 [==============================] - ETA: 0s - loss: 65.9742 - mae: 5.4398\n",
      "Epoch 18: val_mae did not improve from 5.10401\n",
      "1139/1139 [==============================] - 71s 62ms/step - loss: 65.9742 - mae: 5.4398 - val_loss: 62.1920 - val_mae: 5.2909\n",
      "Epoch 19/200\n",
      "1139/1139 [==============================] - ETA: 0s - loss: 66.3183 - mae: 5.4346\n",
      "Epoch 19: val_mae did not improve from 5.10401\n",
      "1139/1139 [==============================] - 72s 63ms/step - loss: 66.3183 - mae: 5.4346 - val_loss: 66.1033 - val_mae: 5.3450\n",
      "Epoch 20/200\n",
      "1139/1139 [==============================] - ETA: 0s - loss: 64.9144 - mae: 5.4121\n",
      "Epoch 20: val_mae did not improve from 5.10401\n",
      "1139/1139 [==============================] - 72s 63ms/step - loss: 64.9144 - mae: 5.4121 - val_loss: 61.6001 - val_mae: 5.1955\n",
      "Epoch 21/200\n",
      "1139/1139 [==============================] - ETA: 0s - loss: 65.5575 - mae: 5.4358\n",
      "Epoch 21: val_mae did not improve from 5.10401\n",
      "1139/1139 [==============================] - 69s 60ms/step - loss: 65.5575 - mae: 5.4358 - val_loss: 68.4211 - val_mae: 5.2246\n",
      "Epoch 22/200\n",
      "1139/1139 [==============================] - ETA: 0s - loss: 65.3981 - mae: 5.4301\n",
      "Epoch 22: val_mae did not improve from 5.10401\n",
      "1139/1139 [==============================] - 75s 66ms/step - loss: 65.3981 - mae: 5.4301 - val_loss: 65.7047 - val_mae: 5.2435\n",
      "Epoch 23/200\n",
      "1139/1139 [==============================] - ETA: 0s - loss: 64.9226 - mae: 5.4098\n",
      "Epoch 23: val_mae did not improve from 5.10401\n",
      "1139/1139 [==============================] - 72s 63ms/step - loss: 64.9226 - mae: 5.4098 - val_loss: 62.7341 - val_mae: 5.1890\n",
      "Epoch 24/200\n",
      "1138/1139 [============================>.] - ETA: 0s - loss: 64.5794 - mae: 5.4097\n",
      "Epoch 24: val_mae did not improve from 5.10401\n",
      "1139/1139 [==============================] - 73s 64ms/step - loss: 64.5472 - mae: 5.4085 - val_loss: 63.2021 - val_mae: 5.1909\n",
      "Epoch 25/200\n",
      "1139/1139 [==============================] - ETA: 0s - loss: 64.1811 - mae: 5.3946\n",
      "Epoch 25: val_mae did not improve from 5.10401\n",
      "1139/1139 [==============================] - 78s 68ms/step - loss: 64.1811 - mae: 5.3946 - val_loss: 61.6677 - val_mae: 5.2709\n",
      "Epoch 26/200\n",
      "1139/1139 [==============================] - ETA: 0s - loss: 63.5598 - mae: 5.3890\n",
      "Epoch 26: val_mae did not improve from 5.10401\n",
      "1139/1139 [==============================] - 75s 66ms/step - loss: 63.5598 - mae: 5.3890 - val_loss: 62.3867 - val_mae: 5.2236\n",
      "Epoch 27/200\n",
      "1139/1139 [==============================] - ETA: 0s - loss: 64.3349 - mae: 5.3956\n",
      "Epoch 27: val_mae did not improve from 5.10401\n",
      "1139/1139 [==============================] - 77s 68ms/step - loss: 64.3349 - mae: 5.3956 - val_loss: 62.0072 - val_mae: 5.3285\n",
      "Epoch 28/200\n",
      "1139/1139 [==============================] - ETA: 0s - loss: 64.5685 - mae: 5.4182\n",
      "Epoch 28: val_mae did not improve from 5.10401\n",
      "1139/1139 [==============================] - 71s 62ms/step - loss: 64.5685 - mae: 5.4182 - val_loss: 61.8373 - val_mae: 5.1447\n",
      "Epoch 29/200\n",
      "1139/1139 [==============================] - ETA: 0s - loss: 63.5112 - mae: 5.3825\n",
      "Epoch 29: val_mae did not improve from 5.10401\n",
      "1139/1139 [==============================] - 72s 63ms/step - loss: 63.5112 - mae: 5.3825 - val_loss: 65.6596 - val_mae: 5.2871\n",
      "Epoch 30/200\n",
      "1139/1139 [==============================] - ETA: 0s - loss: 63.6661 - mae: 5.3795\n",
      "Epoch 30: val_mae did not improve from 5.10401\n",
      "1139/1139 [==============================] - 73s 64ms/step - loss: 63.6661 - mae: 5.3795 - val_loss: 65.1790 - val_mae: 5.1848\n",
      "Epoch 31/200\n",
      "1139/1139 [==============================] - ETA: 0s - loss: 63.8436 - mae: 5.3798\n",
      "Epoch 31: val_mae did not improve from 5.10401\n",
      "1139/1139 [==============================] - 73s 64ms/step - loss: 63.8436 - mae: 5.3798 - val_loss: 73.2218 - val_mae: 5.3327\n",
      "Epoch 32/200\n",
      "1139/1139 [==============================] - ETA: 0s - loss: 63.9982 - mae: 5.3877\n",
      "Epoch 32: val_mae did not improve from 5.10401\n",
      "1139/1139 [==============================] - 72s 64ms/step - loss: 63.9982 - mae: 5.3877 - val_loss: 78.1355 - val_mae: 5.6285\n",
      "Epoch 33/200\n",
      "1139/1139 [==============================] - ETA: 0s - loss: 63.4652 - mae: 5.3776\n",
      "Epoch 33: val_mae did not improve from 5.10401\n",
      "1139/1139 [==============================] - 72s 63ms/step - loss: 63.4652 - mae: 5.3776 - val_loss: 65.8719 - val_mae: 5.3052\n",
      "Epoch 34/200\n",
      "1139/1139 [==============================] - ETA: 0s - loss: 63.7372 - mae: 5.3830\n",
      "Epoch 34: val_mae did not improve from 5.10401\n",
      "1139/1139 [==============================] - 75s 66ms/step - loss: 63.7372 - mae: 5.3830 - val_loss: 70.6292 - val_mae: 5.3879\n",
      "Epoch 35/200\n",
      "1139/1139 [==============================] - ETA: 0s - loss: 63.5990 - mae: 5.3759\n",
      "Epoch 35: val_mae did not improve from 5.10401\n",
      "1139/1139 [==============================] - 72s 63ms/step - loss: 63.5990 - mae: 5.3759 - val_loss: 59.8385 - val_mae: 5.2050\n",
      "Epoch 36/200\n",
      "1139/1139 [==============================] - ETA: 0s - loss: 63.2011 - mae: 5.3760\n",
      "Epoch 36: val_mae improved from 5.10401 to 5.04736, saving model to 3h_dopredu200+BZ+KP.hdf5\n",
      "1139/1139 [==============================] - 75s 66ms/step - loss: 63.2011 - mae: 5.3760 - val_loss: 56.0958 - val_mae: 5.0474\n",
      "Epoch 37/200\n",
      "1139/1139 [==============================] - ETA: 0s - loss: 63.3579 - mae: 5.3698\n",
      "Epoch 37: val_mae did not improve from 5.04736\n",
      "1139/1139 [==============================] - 73s 64ms/step - loss: 63.3579 - mae: 5.3698 - val_loss: 68.8535 - val_mae: 5.5155\n",
      "Epoch 38/200\n",
      "1139/1139 [==============================] - ETA: 0s - loss: 62.4573 - mae: 5.3597\n",
      "Epoch 38: val_mae did not improve from 5.04736\n",
      "1139/1139 [==============================] - 74s 65ms/step - loss: 62.4573 - mae: 5.3597 - val_loss: 65.5175 - val_mae: 5.4349\n",
      "Epoch 39/200\n",
      "1139/1139 [==============================] - ETA: 0s - loss: 63.2104 - mae: 5.3728\n",
      "Epoch 39: val_mae did not improve from 5.04736\n",
      "1139/1139 [==============================] - 74s 65ms/step - loss: 63.2104 - mae: 5.3728 - val_loss: 64.5541 - val_mae: 5.1712\n",
      "Epoch 40/200\n",
      "1139/1139 [==============================] - ETA: 0s - loss: 62.6109 - mae: 5.3623\n",
      "Epoch 40: val_mae did not improve from 5.04736\n",
      "1139/1139 [==============================] - 72s 63ms/step - loss: 62.6109 - mae: 5.3623 - val_loss: 66.7262 - val_mae: 5.3091\n",
      "Epoch 41/200\n",
      "1139/1139 [==============================] - ETA: 0s - loss: 62.8339 - mae: 5.3576\n",
      "Epoch 41: val_mae did not improve from 5.04736\n",
      "1139/1139 [==============================] - 73s 64ms/step - loss: 62.8339 - mae: 5.3576 - val_loss: 64.0181 - val_mae: 5.1920\n",
      "Epoch 42/200\n",
      "1139/1139 [==============================] - ETA: 0s - loss: 63.1059 - mae: 5.3667\n",
      "Epoch 42: val_mae did not improve from 5.04736\n",
      "1139/1139 [==============================] - 76s 67ms/step - loss: 63.1059 - mae: 5.3667 - val_loss: 62.6418 - val_mae: 5.4443\n",
      "Epoch 43/200\n",
      "1139/1139 [==============================] - ETA: 0s - loss: 62.0868 - mae: 5.3375\n",
      "Epoch 43: val_mae did not improve from 5.04736\n",
      "1139/1139 [==============================] - 73s 64ms/step - loss: 62.0868 - mae: 5.3375 - val_loss: 64.7034 - val_mae: 5.1655\n",
      "Epoch 44/200\n",
      "1138/1139 [============================>.] - ETA: 0s - loss: 63.1224 - mae: 5.3624\n",
      "Epoch 44: val_mae did not improve from 5.04736\n",
      "1139/1139 [==============================] - 73s 64ms/step - loss: 63.1219 - mae: 5.3631 - val_loss: 67.0163 - val_mae: 5.4503\n",
      "Epoch 45/200\n",
      "1139/1139 [==============================] - ETA: 0s - loss: 61.7235 - mae: 5.3330\n",
      "Epoch 45: val_mae did not improve from 5.04736\n",
      "1139/1139 [==============================] - 73s 64ms/step - loss: 61.7235 - mae: 5.3330 - val_loss: 69.6670 - val_mae: 5.3663\n",
      "Epoch 46/200\n",
      "1139/1139 [==============================] - ETA: 0s - loss: 61.9492 - mae: 5.3376\n",
      "Epoch 46: val_mae did not improve from 5.04736\n",
      "1139/1139 [==============================] - 75s 66ms/step - loss: 61.9492 - mae: 5.3376 - val_loss: 69.9912 - val_mae: 5.4190\n",
      "Epoch 47/200\n",
      "1139/1139 [==============================] - ETA: 0s - loss: 62.0177 - mae: 5.3457\n",
      "Epoch 47: val_mae did not improve from 5.04736\n",
      "1139/1139 [==============================] - 74s 65ms/step - loss: 62.0177 - mae: 5.3457 - val_loss: 61.1908 - val_mae: 5.2639\n",
      "Epoch 48/200\n",
      "1139/1139 [==============================] - ETA: 0s - loss: 62.0302 - mae: 5.3371\n",
      "Epoch 48: val_mae did not improve from 5.04736\n",
      "1139/1139 [==============================] - 73s 64ms/step - loss: 62.0302 - mae: 5.3371 - val_loss: 64.1450 - val_mae: 5.2730\n",
      "Epoch 49/200\n",
      "1138/1139 [============================>.] - ETA: 0s - loss: 61.8899 - mae: 5.3376\n",
      "Epoch 49: val_mae did not improve from 5.04736\n",
      "1139/1139 [==============================] - 73s 64ms/step - loss: 61.8656 - mae: 5.3367 - val_loss: 65.4279 - val_mae: 5.5129\n",
      "Epoch 50/200\n",
      "1139/1139 [==============================] - ETA: 0s - loss: 62.0445 - mae: 5.3489\n",
      "Epoch 50: val_mae did not improve from 5.04736\n",
      "1139/1139 [==============================] - 75s 66ms/step - loss: 62.0445 - mae: 5.3489 - val_loss: 61.8958 - val_mae: 5.1740\n",
      "Epoch 51/200\n",
      "1139/1139 [==============================] - ETA: 0s - loss: 61.5086 - mae: 5.3222\n",
      "Epoch 51: val_mae did not improve from 5.04736\n",
      "1139/1139 [==============================] - 74s 65ms/step - loss: 61.5086 - mae: 5.3222 - val_loss: 66.9937 - val_mae: 5.3921\n",
      "Epoch 52/200\n",
      "1139/1139 [==============================] - ETA: 0s - loss: 61.3150 - mae: 5.3288\n",
      "Epoch 52: val_mae did not improve from 5.04736\n",
      "1139/1139 [==============================] - 79s 69ms/step - loss: 61.3150 - mae: 5.3288 - val_loss: 60.9670 - val_mae: 5.1739\n",
      "Epoch 53/200\n",
      "1138/1139 [============================>.] - ETA: 0s - loss: 61.6160 - mae: 5.3350\n",
      "Epoch 53: val_mae did not improve from 5.04736\n",
      "1139/1139 [==============================] - 72s 64ms/step - loss: 61.6068 - mae: 5.3351 - val_loss: 70.8260 - val_mae: 5.4801\n",
      "Epoch 54/200\n",
      "1139/1139 [==============================] - ETA: 0s - loss: 61.7244 - mae: 5.3294\n",
      "Epoch 54: val_mae did not improve from 5.04736\n",
      "1139/1139 [==============================] - 73s 64ms/step - loss: 61.7244 - mae: 5.3294 - val_loss: 68.3877 - val_mae: 5.2717\n",
      "Epoch 55/200\n",
      "1139/1139 [==============================] - ETA: 0s - loss: 62.0640 - mae: 5.3250\n",
      "Epoch 55: val_mae did not improve from 5.04736\n",
      "1139/1139 [==============================] - 74s 65ms/step - loss: 62.0640 - mae: 5.3250 - val_loss: 63.8628 - val_mae: 5.3681\n",
      "Epoch 56/200\n",
      "1139/1139 [==============================] - ETA: 0s - loss: 61.4332 - mae: 5.3210\n",
      "Epoch 56: val_mae did not improve from 5.04736\n",
      "1139/1139 [==============================] - 74s 65ms/step - loss: 61.4332 - mae: 5.3210 - val_loss: 80.4357 - val_mae: 6.4311\n",
      "Epoch 57/200\n",
      "1139/1139 [==============================] - ETA: 0s - loss: 61.3368 - mae: 5.3241\n",
      "Epoch 57: val_mae did not improve from 5.04736\n",
      "1139/1139 [==============================] - 70s 61ms/step - loss: 61.3368 - mae: 5.3241 - val_loss: 60.5756 - val_mae: 5.1939\n",
      "Epoch 58/200\n",
      "1139/1139 [==============================] - ETA: 0s - loss: 61.3196 - mae: 5.3159\n",
      "Epoch 58: val_mae did not improve from 5.04736\n",
      "1139/1139 [==============================] - 71s 62ms/step - loss: 61.3196 - mae: 5.3159 - val_loss: 60.8468 - val_mae: 5.2365\n",
      "Epoch 59/200\n",
      "1139/1139 [==============================] - ETA: 0s - loss: 61.9360 - mae: 5.3275\n",
      "Epoch 59: val_mae did not improve from 5.04736\n",
      "1139/1139 [==============================] - 74s 65ms/step - loss: 61.9360 - mae: 5.3275 - val_loss: 61.8078 - val_mae: 5.1843\n",
      "Epoch 60/200\n",
      "1139/1139 [==============================] - ETA: 0s - loss: 61.1311 - mae: 5.3138\n",
      "Epoch 60: val_mae did not improve from 5.04736\n",
      "1139/1139 [==============================] - 78s 68ms/step - loss: 61.1311 - mae: 5.3138 - val_loss: 65.6418 - val_mae: 5.4544\n",
      "Epoch 61/200\n",
      "1139/1139 [==============================] - ETA: 0s - loss: 61.2176 - mae: 5.3164\n",
      "Epoch 61: val_mae did not improve from 5.04736\n",
      "1139/1139 [==============================] - 77s 68ms/step - loss: 61.2176 - mae: 5.3164 - val_loss: 62.7073 - val_mae: 5.3087\n"
     ]
    }
   ],
   "source": [
    "history = model.fit(train_generator, validation_data=val_generator, epochs=200, verbose=1, callbacks = callbacks_list)"
   ]
  },
  {
   "cell_type": "markdown",
   "id": "bd4cab61-62c6-4f10-88c2-a69b48439121",
   "metadata": {},
   "source": [
    "### Načítanie najlepšieho modelu"
   ]
  },
  {
   "cell_type": "code",
   "execution_count": 8,
   "id": "c8de2cd4-1ee2-4827-a264-0f2def4a22c7",
   "metadata": {},
   "outputs": [],
   "source": [
    "model = keras.models.load_model('3h_dopredu200+BZ+KP.hdf5')"
   ]
  },
  {
   "cell_type": "markdown",
   "id": "82800ed5-cedd-43e2-b40e-2a90a33d9521",
   "metadata": {},
   "source": [
    "### Vytvorenie predikcií"
   ]
  },
  {
   "cell_type": "code",
   "execution_count": 9,
   "id": "181fc084-f2de-465a-acab-5a7d8335b4a6",
   "metadata": {},
   "outputs": [
    {
     "name": "stdout",
     "output_type": "stream",
     "text": [
      "633/633 [==============================] - 14s 21ms/step\n"
     ]
    }
   ],
   "source": [
    "y_pred = model.predict(test_generator)"
   ]
  },
  {
   "cell_type": "markdown",
   "id": "d6182210-64df-4dda-a0db-b6bd754bc585",
   "metadata": {},
   "source": [
    "### Nájdenie optimálneho thresholdu na validačnej sade"
   ]
  },
  {
   "cell_type": "code",
   "execution_count": 11,
   "id": "69516a5c-d215-4f93-9d45-4842c930fe77",
   "metadata": {},
   "outputs": [
    {
     "name": "stdout",
     "output_type": "stream",
     "text": [
      "224/224 [==============================] - 5s 21ms/step\n",
      "-21.1\n",
      "Confusion matrix: \n",
      "[[124220   5767]\n",
      " [  8188  23855]]\n"
     ]
    }
   ],
   "source": [
    "y_val_pred = model.predict(val_generator)\n",
    "\n",
    "true_labels_val = np.where(y_val[n_input:] <= -20, 1, 0)  \n",
    "\n",
    "def calculate_mcc(y_true, y_pred):\n",
    "    return matthews_corrcoef(y_true, y_pred)\n",
    "\n",
    "thresholds = np.arange(-10, -40, -0.1)\n",
    "mcc_scores = []\n",
    "\n",
    "for thresh in thresholds:\n",
    "    predictions = np.where(y_val_pred <= thresh, 1, 0)\n",
    "    mcc = calculate_mcc(true_labels_val, predictions)\n",
    "    mcc_scores.append(mcc)\n",
    "\n",
    "best_threshold_mcc = thresholds[np.argmax(mcc_scores)]\n",
    "best_mcc = max(mcc_scores)\n",
    "\n",
    "best_threshold_mcc_rounded = round(best_threshold_mcc, 1)\n",
    "print(best_threshold_mcc_rounded)\n",
    "y_pred2 = np.where(y_pred <= best_threshold_mcc_rounded, 1, 0)\n",
    "y_test2 = np.where(y_test[n_input:]  <= -20, 1, 0)\n",
    "\n",
    "cm = confusion_matrix(y_test2, y_pred2)\n",
    "print(\"Confusion matrix: \\n\" + str(cm))"
   ]
  },
  {
   "cell_type": "markdown",
   "id": "c0f91f27-cf49-44cd-ac96-a79105bfadeb",
   "metadata": {},
   "source": [
    "### Výpočet metrík, vykreslenie grafu predikcie a uloženie predikcií"
   ]
  },
  {
   "cell_type": "code",
   "execution_count": 10,
   "id": "0baee4dd-6606-4434-bedd-88b90b234e81",
   "metadata": {},
   "outputs": [
    {
     "name": "stdout",
     "output_type": "stream",
     "text": [
      "Mean Squared Error: 70.42804889016108\n"
     ]
    }
   ],
   "source": [
    "from sklearn.metrics import mean_squared_error\n",
    "mse = mean_squared_error(y_test[:-n_input], y_pred.reshape(-1))\n",
    "print(f\"Mean Squared Error: {mse}\")"
   ]
  },
  {
   "cell_type": "code",
   "execution_count": 12,
   "id": "30b002dd-ed6c-4898-a05a-a134293d8e10",
   "metadata": {},
   "outputs": [
    {
     "name": "stdout",
     "output_type": "stream",
     "text": [
      "              precision    recall  f1-score   support\n",
      "\n",
      "           0       0.94      0.96      0.95    129987\n",
      "           1       0.81      0.74      0.77     32043\n",
      "\n",
      "    accuracy                           0.91    162030\n",
      "   macro avg       0.87      0.85      0.86    162030\n",
      "weighted avg       0.91      0.91      0.91    162030\n",
      "\n"
     ]
    }
   ],
   "source": [
    "print(classification_report(y_test2, y_pred2))\n"
   ]
  },
  {
   "cell_type": "code",
   "execution_count": 13,
   "id": "4c22d6ad-c91f-4678-9389-2835442f3f19",
   "metadata": {},
   "outputs": [
    {
     "data": {
      "image/png": "[encoded data removed]",
      "text/plain": [
       "<Figure size 640x480 with 1 Axes>"
      ]
     },
     "metadata": {},
     "output_type": "display_data"
    }
   ],
   "source": [
    "df = pd.DataFrame(data={\"time\": test['time1'][n_input:],\"y_true\": y_test[n_input:].reshape(-1) , \"y_predict\": y_pred.reshape(-1)})\n",
    "\n",
    "plt.figure()\n",
    "plt.title('Predicting the change in DST Index')\n",
    "plt.plot(df['time'],df['y_true'], label='Skutočné hodnoty')\n",
    "plt.plot(df['time'],df['y_predict'], label='Predikované hodnoty')\n",
    "plt.legend()\n",
    "plt.gcf().autofmt_xdate()\n",
    "plt.grid(True)"
   ]
  },
  {
   "cell_type": "code",
   "execution_count": 14,
   "id": "e7a9bc0f-fa98-41b2-9153-eb37f379d3c2",
   "metadata": {},
   "outputs": [],
   "source": [
    "df.to_csv('3h_dopredu+200+BZ+KP.csv')"
   ]
  },
  {
   "cell_type": "code",
   "execution_count": 15,
   "id": "103ed9fb-d9f8-4357-ae78-a2bc207f4fef",
   "metadata": {},
   "outputs": [
    {
     "name": "stdout",
     "output_type": "stream",
     "text": [
      "ACC=0.9138739739554403\n",
      "MCC=0.7214625746433205\n"
     ]
    }
   ],
   "source": [
    "TN, FP, FN, TP = cm.ravel()\n",
    "ACC = (TP + TN) / (TP + TN + FP + FN)\n",
    "MCC = matthews_corrcoef(y_test2, y_pred2)\n",
    "print(\"ACC={}\".format(ACC))\n",
    "print(\"MCC={}\".format(MCC))"
   ]
  },
  {
   "cell_type": "code",
   "execution_count": null,
   "id": "817974ae-d568-47c8-97f1-ccdecc7c2e2f",
   "metadata": {},
   "outputs": [],
   "source": []
  }
 ],
 "metadata": {
  "kernelspec": {
   "display_name": "Python 3 (ipykernel)",
   "language": "python",
   "name": "python3"
  },
  "language_info": {
   "codemirror_mode": {
    "name": "ipython",
    "version": 3
   },
   "file_extension": ".py",
   "mimetype": "text/x-python",
   "name": "python",
   "nbconvert_exporter": "python",
   "pygments_lexer": "ipython3",
   "version": "3.10.6"
  }
 },
 "nbformat": 4,
 "nbformat_minor": 5
}
