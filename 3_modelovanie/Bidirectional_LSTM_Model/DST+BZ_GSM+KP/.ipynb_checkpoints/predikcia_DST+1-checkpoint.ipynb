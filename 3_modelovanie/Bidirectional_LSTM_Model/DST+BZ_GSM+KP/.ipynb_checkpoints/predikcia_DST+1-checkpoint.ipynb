{
 "cells": [
  {
   "cell_type": "markdown",
   "id": "b0e211d5-a572-43e3-804c-4f3b5232b0b2",
   "metadata": {},
   "source": [
    "## Model na predikciu DST za pomoci použitia atribútu DST, BZ_GSM  a KP o 1 hodinu dopredu"
   ]
  },
  {
   "cell_type": "markdown",
   "id": "565e23ce-6fc1-4518-9a3a-60f79e5e9cb2",
   "metadata": {},
   "source": [
    "Súbor: predikcia_DST+1.ipynb\n",
    "\n",
    "Program: Hospodárska informatika\n",
    "\n",
    "Vypracovala: Terézia Drengubiaková\n",
    "\n",
    "Bakalárska práca: : Prediktívne modely v spracovaní dát z oblasti kozmického počasia\n",
    "\n",
    "Vedúci diplomovej práce: doc. Ing. Peter Butka, PhD.\n",
    "\n",
    "Konzultanti: Ing. Viera Krešňáková, PhD., RNDr. Šimon Mackovjak, PhD."
   ]
  },
  {
   "cell_type": "markdown",
   "id": "a653bb38-91d7-4279-b483-f30cf17d158b",
   "metadata": {},
   "source": [
    "### Import knižníc"
   ]
  },
  {
   "cell_type": "code",
   "execution_count": 3,
   "id": "678ced3a-40e2-4062-be21-a67e5322f1a0",
   "metadata": {},
   "outputs": [],
   "source": [
    "import pandas as pd\n",
    "import numpy as np\n",
    "from tensorflow import keras\n",
    "import matplotlib.pyplot as plt\n",
    "from sklearn.preprocessing import MinMaxScaler, StandardScaler\n",
    "from pandas.plotting import register_matplotlib_converters\n",
    "register_matplotlib_converters()\n",
    "import seaborn as sns\n",
    "from tensorflow.keras.preprocessing.sequence import TimeseriesGenerator\n",
    "from keras.models import Sequential\n",
    "from keras.layers import Dense, Activation, Dropout, Input, Conv1D, LSTM, MaxPooling1D, Flatten, TimeDistributed, Bidirectional\n",
    "from tensorflow.keras.callbacks import ModelCheckpoint, EarlyStopping\n",
    "from keras.models import Model\n",
    "from scipy.special import expit, logit\n",
    "from sklearn.metrics import confusion_matrix, classification_report, matthews_corrcoef"
   ]
  },
  {
   "cell_type": "markdown",
   "id": "c6afd17b-b450-4c0e-be7d-dbfb84a6f7ff",
   "metadata": {},
   "source": [
    "### Načítanie dát, odstránenie na hodnôt, určenie predikovaného atribútu"
   ]
  },
  {
   "cell_type": "code",
   "execution_count": 4,
   "id": "471c1c51-a25b-48cc-a581-1c86aad2867b",
   "metadata": {},
   "outputs": [],
   "source": [
    "train = pd.read_csv('train_omni.csv')\n",
    "test = pd.read_csv('test_omni.csv')\n",
    "train['BZ_GSM'] = train['BZ_GSM'].fillna(train['BZ_GSM'].mean())  # Naplní NaN hodnoty priemerom danej stĺpca\n",
    "test['BZ_GSM'] = test['BZ_GSM'].fillna(test['BZ_GSM'].mean())  \n",
    "features = ['time1', 'DST', 'DST+1', 'BZ_GSM', 'KP' ]\n",
    "test = test[features]\n",
    "train = train[features]\n",
    "train['time1']=pd.to_datetime(train['time1'])\n",
    "test['time1']=pd.to_datetime(test['time1'])\n",
    "predicators = [\"DST\", \"BZ_GSM\", \"KP\"]\n",
    "y_col='DST+1'\n",
    "valid_size = int(len(train) * 0.2)\n",
    "valid = train.iloc[-valid_size:,:].copy()\n",
    "train = train.iloc[:-valid_size,:].copy()\n",
    "\n",
    "y_train = train[y_col].values.copy()\n",
    "X_train = train[predicators].values.copy()\n",
    "y_val = valid[y_col].values.copy()\n",
    "X_val = valid[predicators].values.copy()\n",
    "y_test = test[y_col].values.copy()\n",
    "X_test = test[predicators].values.copy()"
   ]
  },
  {
   "cell_type": "markdown",
   "id": "d21df562-2ae7-4562-8ec9-2562662cb83c",
   "metadata": {},
   "source": [
    "### Definícia premenných a vytvorenie dátových generátorov"
   ]
  },
  {
   "cell_type": "code",
   "execution_count": 5,
   "id": "18274429-36ef-40ad-984b-d65e5bae8f7e",
   "metadata": {},
   "outputs": [],
   "source": [
    "n_input = 6  \n",
    "n_features= len(X_train)  \n",
    "b_size = 256  \n",
    "\n",
    "train_generator = TimeseriesGenerator(X_train, y_train, length=n_input, batch_size=b_size)\n",
    "val_generator = TimeseriesGenerator(X_val, y_val, length=n_input, batch_size=b_size)\n",
    "test_generator = TimeseriesGenerator(X_test, y_test, length=n_input, batch_size=256)"
   ]
  },
  {
   "cell_type": "code",
   "execution_count": 6,
   "id": "84ac694f-dd1e-4c29-b792-f4e2cd5c2618",
   "metadata": {},
   "outputs": [
    {
     "name": "stdout",
     "output_type": "stream",
     "text": [
      "Počet batchov:  896\n",
      "Každý batch má features (X zložku) a labels (y zložku):  2\n",
      "Dĺžka X zložky batchu:  256\n",
      "Dĺžka y zložky batchu (počet meraní v batchi):  256\n",
      "Počet riadkov braných do úvahy pre jedno meranie (koľko sa pozerá dozadu):  6\n"
     ]
    }
   ],
   "source": [
    "print(\"Počet batchov: \", len(train_generator))\n",
    "print(\"Každý batch má features (X zložku) a labels (y zložku): \", len(train_generator[0]))\n",
    "print(\"Dĺžka X zložky batchu: \", len(train_generator[0][0]))\n",
    "print(\"Dĺžka y zložky batchu (počet meraní v batchi): \",len(train_generator[0][1]))\n",
    "print(\"Počet riadkov braných do úvahy pre jedno meranie (koľko sa pozerá dozadu): \", len(train_generator[0][0][0]))"
   ]
  },
  {
   "cell_type": "markdown",
   "id": "2fd0aa25-4b62-4322-a1c9-31cb5463f998",
   "metadata": {},
   "source": [
    "### Vytvorenie modelu"
   ]
  },
  {
   "cell_type": "code",
   "execution_count": 7,
   "id": "ff052921-77ae-4a01-9ded-8e6d21bc5505",
   "metadata": {},
   "outputs": [
    {
     "name": "stderr",
     "output_type": "stream",
     "text": [
      "2024-05-16 08:31:54.555797: I tensorflow/core/platform/cpu_feature_guard.cc:193] This TensorFlow binary is optimized with oneAPI Deep Neural Network Library (oneDNN) to use the following CPU instructions in performance-critical operations:  SSE4.1 SSE4.2 AVX AVX2 FMA\n",
      "To enable them in other operations, rebuild TensorFlow with the appropriate compiler flags.\n"
     ]
    },
    {
     "name": "stdout",
     "output_type": "stream",
     "text": [
      "Model: \"model\"\n",
      "_________________________________________________________________\n",
      " Layer (type)                Output Shape              Param #   \n",
      "=================================================================\n",
      " input_1 (InputLayer)        [(None, 6, 3)]            0         \n",
      "                                                                 \n",
      " bidirectional (Bidirectiona  (None, 6, 256)           135168    \n",
      " l)                                                              \n",
      "                                                                 \n",
      " lstm_1 (LSTM)               (None, 6, 128)            197120    \n",
      "                                                                 \n",
      " time_distributed (TimeDistr  (None, 6, 1)             129       \n",
      " ibuted)                                                         \n",
      "                                                                 \n",
      " flatten (Flatten)           (None, 6)                 0         \n",
      "                                                                 \n",
      " dense_1 (Dense)             (None, 1)                 7         \n",
      "                                                                 \n",
      "=================================================================\n",
      "Total params: 332,424\n",
      "Trainable params: 332,424\n",
      "Non-trainable params: 0\n",
      "_________________________________________________________________\n",
      "None\n"
     ]
    }
   ],
   "source": [
    "inputs = Input(shape=(6,3))\n",
    "c = Bidirectional(LSTM(128, return_sequences=True, dropout=0.1,recurrent_dropout=0.1))(inputs)\n",
    "c = LSTM(128, return_sequences=True)(c)\n",
    "c = TimeDistributed(Dense(1, activation='linear'))(c)\n",
    "output = Flatten()(c)\n",
    "output = Dense(1, activation='linear')(output)\n",
    "model = Model(inputs=inputs, outputs=output)\n",
    "model.compile(loss='mse', optimizer='adam', metrics=[\"mae\"])\n",
    "print(model.summary())"
   ]
  },
  {
   "cell_type": "code",
   "execution_count": 8,
   "id": "38a43040-da67-4404-afdc-272b76d75d19",
   "metadata": {},
   "outputs": [],
   "source": [
    "saved_model = \"1h_dopredu200+BZ+KP.hdf5\"\n",
    "checkpoint = ModelCheckpoint(saved_model, monitor='val_mae', verbose=1, save_best_only=True, mode='min')\n",
    "early = EarlyStopping(monitor=\"val_mae\", mode=\"min\", patience=25)\n",
    "callbacks_list = [checkpoint, early]"
   ]
  },
  {
   "cell_type": "markdown",
   "id": "5b6f105f-5d19-48b3-a3cc-33700210b861",
   "metadata": {},
   "source": [
    "### Trénovanie"
   ]
  },
  {
   "cell_type": "code",
   "execution_count": 8,
   "id": "c84fe0a8-eb35-4bda-8c91-3384452fecf0",
   "metadata": {
    "collapsed": true,
    "jupyter": {
     "outputs_hidden": true
    },
    "tags": []
   },
   "outputs": [
    {
     "name": "stdout",
     "output_type": "stream",
     "text": [
      "Epoch 1/200\n",
      "1139/1139 [==============================] - ETA: 0s - loss: 101.6794 - mae: 4.9654\n",
      "Epoch 1: val_mae improved from inf to 3.09028, saving model to 1h_dopredu200+BZ+KP.hdf5\n",
      "1139/1139 [==============================] - 84s 70ms/step - loss: 101.6794 - mae: 4.9654 - val_loss: 49.2203 - val_mae: 3.0903\n",
      "Epoch 2/200\n",
      "1138/1139 [============================>.] - ETA: 0s - loss: 35.3532 - mae: 3.4584\n",
      "Epoch 2: val_mae did not improve from 3.09028\n",
      "1139/1139 [==============================] - 62s 54ms/step - loss: 35.3342 - mae: 3.4579 - val_loss: 47.4187 - val_mae: 3.4326\n",
      "Epoch 3/200\n",
      "1139/1139 [==============================] - ETA: 0s - loss: 35.4450 - mae: 3.4394\n",
      "Epoch 3: val_mae improved from 3.09028 to 3.08254, saving model to 1h_dopredu200+BZ+KP.hdf5\n",
      "1139/1139 [==============================] - 75s 66ms/step - loss: 35.4450 - mae: 3.4394 - val_loss: 31.3959 - val_mae: 3.0825\n",
      "Epoch 4/200\n",
      "1139/1139 [==============================] - ETA: 0s - loss: 30.6400 - mae: 3.2687\n",
      "Epoch 4: val_mae did not improve from 3.08254\n",
      "1139/1139 [==============================] - 73s 64ms/step - loss: 30.6400 - mae: 3.2687 - val_loss: 44.5112 - val_mae: 3.9340\n",
      "Epoch 5/200\n",
      "1139/1139 [==============================] - ETA: 0s - loss: 27.2861 - mae: 3.1935\n",
      "Epoch 5: val_mae did not improve from 3.08254\n",
      "1139/1139 [==============================] - 69s 60ms/step - loss: 27.2861 - mae: 3.1935 - val_loss: 51.5851 - val_mae: 4.3022\n",
      "Epoch 6/200\n",
      "1139/1139 [==============================] - ETA: 0s - loss: 28.1630 - mae: 3.1854\n",
      "Epoch 6: val_mae did not improve from 3.08254\n",
      "1139/1139 [==============================] - 79s 69ms/step - loss: 28.1630 - mae: 3.1854 - val_loss: 31.9964 - val_mae: 3.3689\n",
      "Epoch 7/200\n",
      "1139/1139 [==============================] - ETA: 0s - loss: 24.6172 - mae: 3.1050\n",
      "Epoch 7: val_mae improved from 3.08254 to 2.92607, saving model to 1h_dopredu200+BZ+KP.hdf5\n",
      "1139/1139 [==============================] - 74s 65ms/step - loss: 24.6172 - mae: 3.1050 - val_loss: 22.4682 - val_mae: 2.9261\n",
      "Epoch 8/200\n",
      "1139/1139 [==============================] - ETA: 0s - loss: 23.7829 - mae: 3.0954\n",
      "Epoch 8: val_mae did not improve from 2.92607\n",
      "1139/1139 [==============================] - 74s 65ms/step - loss: 23.7829 - mae: 3.0954 - val_loss: 40.4222 - val_mae: 3.2315\n",
      "Epoch 9/200\n",
      "1139/1139 [==============================] - ETA: 0s - loss: 24.1819 - mae: 3.0767\n",
      "Epoch 9: val_mae did not improve from 2.92607\n",
      "1139/1139 [==============================] - 72s 63ms/step - loss: 24.1819 - mae: 3.0767 - val_loss: 26.3767 - val_mae: 3.0847\n",
      "Epoch 10/200\n",
      "1139/1139 [==============================] - ETA: 0s - loss: 23.4388 - mae: 3.0379\n",
      "Epoch 10: val_mae did not improve from 2.92607\n",
      "1139/1139 [==============================] - 73s 64ms/step - loss: 23.4388 - mae: 3.0379 - val_loss: 26.1906 - val_mae: 2.9309\n",
      "Epoch 11/200\n",
      "1139/1139 [==============================] - ETA: 0s - loss: 24.7941 - mae: 3.1079\n",
      "Epoch 11: val_mae improved from 2.92607 to 2.91861, saving model to 1h_dopredu200+BZ+KP.hdf5\n",
      "1139/1139 [==============================] - 74s 65ms/step - loss: 24.7941 - mae: 3.1079 - val_loss: 22.3704 - val_mae: 2.9186\n",
      "Epoch 12/200\n",
      "1139/1139 [==============================] - ETA: 0s - loss: 21.8687 - mae: 2.9851\n",
      "Epoch 12: val_mae did not improve from 2.91861\n",
      "1139/1139 [==============================] - 73s 64ms/step - loss: 21.8687 - mae: 2.9851 - val_loss: 27.7812 - val_mae: 3.1524\n",
      "Epoch 13/200\n",
      "1139/1139 [==============================] - ETA: 0s - loss: 23.1060 - mae: 3.0291\n",
      "Epoch 13: val_mae did not improve from 2.91861\n",
      "1139/1139 [==============================] - 74s 65ms/step - loss: 23.1060 - mae: 3.0291 - val_loss: 28.4143 - val_mae: 3.1708\n",
      "Epoch 14/200\n",
      "1139/1139 [==============================] - ETA: 0s - loss: 23.6029 - mae: 3.0504\n",
      "Epoch 14: val_mae did not improve from 2.91861\n",
      "1139/1139 [==============================] - 74s 65ms/step - loss: 23.6029 - mae: 3.0504 - val_loss: 26.1906 - val_mae: 3.2932\n",
      "Epoch 15/200\n",
      "1139/1139 [==============================] - ETA: 0s - loss: 21.3462 - mae: 2.9808\n",
      "Epoch 15: val_mae did not improve from 2.91861\n",
      "1139/1139 [==============================] - 74s 65ms/step - loss: 21.3462 - mae: 2.9808 - val_loss: 25.3497 - val_mae: 3.1970\n",
      "Epoch 16/200\n",
      "1139/1139 [==============================] - ETA: 0s - loss: 21.7058 - mae: 2.9757\n",
      "Epoch 16: val_mae did not improve from 2.91861\n",
      "1139/1139 [==============================] - 74s 65ms/step - loss: 21.7058 - mae: 2.9757 - val_loss: 22.6454 - val_mae: 3.0615\n",
      "Epoch 17/200\n",
      "1139/1139 [==============================] - ETA: 0s - loss: 21.8273 - mae: 2.9624\n",
      "Epoch 17: val_mae did not improve from 2.91861\n",
      "1139/1139 [==============================] - 77s 67ms/step - loss: 21.8273 - mae: 2.9624 - val_loss: 21.3256 - val_mae: 2.9299\n",
      "Epoch 18/200\n",
      "1139/1139 [==============================] - ETA: 0s - loss: 23.2875 - mae: 2.9999\n",
      "Epoch 18: val_mae did not improve from 2.91861\n",
      "1139/1139 [==============================] - 74s 65ms/step - loss: 23.2875 - mae: 2.9999 - val_loss: 26.9723 - val_mae: 3.2983\n",
      "Epoch 19/200\n",
      "1139/1139 [==============================] - ETA: 0s - loss: 20.5389 - mae: 2.9115\n",
      "Epoch 19: val_mae did not improve from 2.91861\n",
      "1139/1139 [==============================] - 74s 65ms/step - loss: 20.5389 - mae: 2.9115 - val_loss: 24.4795 - val_mae: 3.1114\n",
      "Epoch 20/200\n",
      "1139/1139 [==============================] - ETA: 0s - loss: 20.5747 - mae: 2.9290\n",
      "Epoch 20: val_mae did not improve from 2.91861\n",
      "1139/1139 [==============================] - 75s 66ms/step - loss: 20.5747 - mae: 2.9290 - val_loss: 30.5566 - val_mae: 3.3956\n",
      "Epoch 21/200\n",
      "1139/1139 [==============================] - ETA: 0s - loss: 22.1118 - mae: 2.9648\n",
      "Epoch 21: val_mae did not improve from 2.91861\n",
      "1139/1139 [==============================] - 71s 62ms/step - loss: 22.1118 - mae: 2.9648 - val_loss: 24.0793 - val_mae: 3.1547\n",
      "Epoch 22/200\n",
      "1139/1139 [==============================] - ETA: 0s - loss: 20.8437 - mae: 2.9325\n",
      "Epoch 22: val_mae did not improve from 2.91861\n",
      "1139/1139 [==============================] - 76s 66ms/step - loss: 20.8437 - mae: 2.9325 - val_loss: 24.7429 - val_mae: 3.0780\n",
      "Epoch 23/200\n",
      "1139/1139 [==============================] - ETA: 0s - loss: 20.4094 - mae: 2.9223\n",
      "Epoch 23: val_mae did not improve from 2.91861\n",
      "1139/1139 [==============================] - 73s 64ms/step - loss: 20.4094 - mae: 2.9223 - val_loss: 29.6791 - val_mae: 3.4761\n",
      "Epoch 24/200\n",
      "1139/1139 [==============================] - ETA: 0s - loss: 22.1523 - mae: 2.9527\n",
      "Epoch 24: val_mae did not improve from 2.91861\n",
      "1139/1139 [==============================] - 75s 65ms/step - loss: 22.1523 - mae: 2.9527 - val_loss: 35.3244 - val_mae: 3.8462\n",
      "Epoch 25/200\n",
      "1139/1139 [==============================] - ETA: 0s - loss: 21.0705 - mae: 2.9184\n",
      "Epoch 25: val_mae did not improve from 2.91861\n",
      "1139/1139 [==============================] - 75s 66ms/step - loss: 21.0705 - mae: 2.9184 - val_loss: 30.0214 - val_mae: 3.3235\n",
      "Epoch 26/200\n",
      "1139/1139 [==============================] - ETA: 0s - loss: 20.4551 - mae: 2.9059\n",
      "Epoch 26: val_mae did not improve from 2.91861\n",
      "1139/1139 [==============================] - 73s 64ms/step - loss: 20.4551 - mae: 2.9059 - val_loss: 27.8727 - val_mae: 3.3659\n",
      "Epoch 27/200\n",
      "1139/1139 [==============================] - ETA: 0s - loss: 20.4180 - mae: 2.9274\n",
      "Epoch 27: val_mae did not improve from 2.91861\n",
      "1139/1139 [==============================] - 79s 69ms/step - loss: 20.4180 - mae: 2.9274 - val_loss: 23.7881 - val_mae: 3.0874\n",
      "Epoch 28/200\n",
      "1139/1139 [==============================] - ETA: 0s - loss: 20.9869 - mae: 2.9127\n",
      "Epoch 28: val_mae improved from 2.91861 to 2.81788, saving model to 1h_dopredu200+BZ+KP.hdf5\n",
      "1139/1139 [==============================] - 74s 65ms/step - loss: 20.9869 - mae: 2.9127 - val_loss: 25.5710 - val_mae: 2.8179\n",
      "Epoch 29/200\n",
      "1139/1139 [==============================] - ETA: 0s - loss: 19.8067 - mae: 2.8926\n",
      "Epoch 29: val_mae did not improve from 2.81788\n",
      "1139/1139 [==============================] - 78s 69ms/step - loss: 19.8067 - mae: 2.8926 - val_loss: 31.0824 - val_mae: 3.5696\n",
      "Epoch 30/200\n",
      "1139/1139 [==============================] - ETA: 0s - loss: 20.9221 - mae: 2.9223\n",
      "Epoch 30: val_mae did not improve from 2.81788\n",
      "1139/1139 [==============================] - 76s 67ms/step - loss: 20.9221 - mae: 2.9223 - val_loss: 26.7021 - val_mae: 3.2463\n",
      "Epoch 31/200\n",
      "1139/1139 [==============================] - ETA: 0s - loss: 20.8152 - mae: 2.9348\n",
      "Epoch 31: val_mae did not improve from 2.81788\n",
      "1139/1139 [==============================] - 76s 67ms/step - loss: 20.8152 - mae: 2.9348 - val_loss: 41.8956 - val_mae: 3.6659\n",
      "Epoch 32/200\n",
      "1139/1139 [==============================] - ETA: 0s - loss: 20.7724 - mae: 2.9207\n",
      "Epoch 32: val_mae did not improve from 2.81788\n",
      "1139/1139 [==============================] - 78s 69ms/step - loss: 20.7724 - mae: 2.9207 - val_loss: 26.5712 - val_mae: 3.4502\n",
      "Epoch 33/200\n",
      "1139/1139 [==============================] - ETA: 0s - loss: 19.9585 - mae: 2.8851\n",
      "Epoch 33: val_mae did not improve from 2.81788\n",
      "1139/1139 [==============================] - 79s 69ms/step - loss: 19.9585 - mae: 2.8851 - val_loss: 23.5478 - val_mae: 3.0903\n",
      "Epoch 34/200\n",
      "1139/1139 [==============================] - ETA: 0s - loss: 21.1797 - mae: 2.8790\n",
      "Epoch 34: val_mae did not improve from 2.81788\n",
      "1139/1139 [==============================] - 76s 66ms/step - loss: 21.1797 - mae: 2.8790 - val_loss: 25.7836 - val_mae: 3.1952\n",
      "Epoch 35/200\n",
      "1139/1139 [==============================] - ETA: 0s - loss: 19.2069 - mae: 2.8450\n",
      "Epoch 35: val_mae did not improve from 2.81788\n",
      "1139/1139 [==============================] - 73s 64ms/step - loss: 19.2069 - mae: 2.8450 - val_loss: 27.3421 - val_mae: 3.2073\n",
      "Epoch 36/200\n",
      "1139/1139 [==============================] - ETA: 0s - loss: 19.6074 - mae: 2.8633\n",
      "Epoch 36: val_mae did not improve from 2.81788\n",
      "1139/1139 [==============================] - 74s 65ms/step - loss: 19.6074 - mae: 2.8633 - val_loss: 25.9352 - val_mae: 3.3155\n",
      "Epoch 37/200\n",
      "1139/1139 [==============================] - ETA: 0s - loss: 19.9262 - mae: 2.8789\n",
      "Epoch 37: val_mae improved from 2.81788 to 2.78265, saving model to 1h_dopredu200+BZ+KP.hdf5\n",
      "1139/1139 [==============================] - 75s 66ms/step - loss: 19.9262 - mae: 2.8789 - val_loss: 21.7773 - val_mae: 2.7827\n",
      "Epoch 38/200\n",
      "1139/1139 [==============================] - ETA: 0s - loss: 20.3969 - mae: 2.8826\n",
      "Epoch 38: val_mae did not improve from 2.78265\n",
      "1139/1139 [==============================] - 79s 69ms/step - loss: 20.3969 - mae: 2.8826 - val_loss: 27.3506 - val_mae: 3.4164\n",
      "Epoch 39/200\n",
      "1139/1139 [==============================] - ETA: 0s - loss: 19.6841 - mae: 2.8694\n",
      "Epoch 39: val_mae did not improve from 2.78265\n",
      "1139/1139 [==============================] - 76s 67ms/step - loss: 19.6841 - mae: 2.8694 - val_loss: 23.0415 - val_mae: 2.9378\n",
      "Epoch 40/200\n",
      "1139/1139 [==============================] - ETA: 0s - loss: 19.7267 - mae: 2.8736\n",
      "Epoch 40: val_mae did not improve from 2.78265\n",
      "1139/1139 [==============================] - 76s 67ms/step - loss: 19.7267 - mae: 2.8736 - val_loss: 26.1729 - val_mae: 2.9733\n",
      "Epoch 41/200\n",
      "1139/1139 [==============================] - ETA: 0s - loss: 19.6931 - mae: 2.8887\n",
      "Epoch 41: val_mae did not improve from 2.78265\n",
      "1139/1139 [==============================] - 74s 65ms/step - loss: 19.6931 - mae: 2.8887 - val_loss: 34.1850 - val_mae: 3.2416\n",
      "Epoch 42/200\n",
      "1139/1139 [==============================] - ETA: 0s - loss: 19.8618 - mae: 2.8631\n",
      "Epoch 42: val_mae did not improve from 2.78265\n",
      "1139/1139 [==============================] - 75s 66ms/step - loss: 19.8618 - mae: 2.8631 - val_loss: 19.6889 - val_mae: 2.8794\n",
      "Epoch 43/200\n",
      "1139/1139 [==============================] - ETA: 0s - loss: 23.3114 - mae: 2.8841\n",
      "Epoch 43: val_mae did not improve from 2.78265\n",
      "1139/1139 [==============================] - 75s 66ms/step - loss: 23.3114 - mae: 2.8841 - val_loss: 28.6396 - val_mae: 3.2006\n",
      "Epoch 44/200\n",
      "1139/1139 [==============================] - ETA: 0s - loss: 20.3422 - mae: 2.8733\n",
      "Epoch 44: val_mae did not improve from 2.78265\n",
      "1139/1139 [==============================] - 75s 66ms/step - loss: 20.3422 - mae: 2.8733 - val_loss: 25.2341 - val_mae: 2.9628\n",
      "Epoch 45/200\n",
      "1139/1139 [==============================] - ETA: 0s - loss: 19.6990 - mae: 2.8613\n",
      "Epoch 45: val_mae did not improve from 2.78265\n",
      "1139/1139 [==============================] - 75s 66ms/step - loss: 19.6990 - mae: 2.8613 - val_loss: 28.2196 - val_mae: 3.2542\n",
      "Epoch 46/200\n",
      "1139/1139 [==============================] - ETA: 0s - loss: 19.6217 - mae: 2.8671\n",
      "Epoch 46: val_mae did not improve from 2.78265\n",
      "1139/1139 [==============================] - 80s 70ms/step - loss: 19.6217 - mae: 2.8671 - val_loss: 28.4725 - val_mae: 3.4734\n",
      "Epoch 47/200\n",
      "1139/1139 [==============================] - ETA: 0s - loss: 18.7082 - mae: 2.8376\n",
      "Epoch 47: val_mae did not improve from 2.78265\n",
      "1139/1139 [==============================] - 75s 66ms/step - loss: 18.7082 - mae: 2.8376 - val_loss: 34.3732 - val_mae: 3.3870\n",
      "Epoch 48/200\n",
      "1139/1139 [==============================] - ETA: 0s - loss: 20.1051 - mae: 2.8866\n",
      "Epoch 48: val_mae did not improve from 2.78265\n",
      "1139/1139 [==============================] - 75s 66ms/step - loss: 20.1051 - mae: 2.8866 - val_loss: 27.7830 - val_mae: 3.4216\n",
      "Epoch 49/200\n",
      "1139/1139 [==============================] - ETA: 0s - loss: 21.6989 - mae: 2.8921\n",
      "Epoch 49: val_mae did not improve from 2.78265\n",
      "1139/1139 [==============================] - 75s 66ms/step - loss: 21.6989 - mae: 2.8921 - val_loss: 26.1798 - val_mae: 3.1474\n",
      "Epoch 50/200\n",
      "1139/1139 [==============================] - ETA: 0s - loss: 19.1656 - mae: 2.8308\n",
      "Epoch 50: val_mae did not improve from 2.78265\n",
      "1139/1139 [==============================] - 75s 66ms/step - loss: 19.1656 - mae: 2.8308 - val_loss: 24.2005 - val_mae: 3.1437\n",
      "Epoch 51/200\n",
      "1139/1139 [==============================] - ETA: 0s - loss: 19.3617 - mae: 2.8610\n",
      "Epoch 51: val_mae did not improve from 2.78265\n",
      "1139/1139 [==============================] - 74s 65ms/step - loss: 19.3617 - mae: 2.8610 - val_loss: 25.2859 - val_mae: 3.1398\n",
      "Epoch 52/200\n",
      "1139/1139 [==============================] - ETA: 0s - loss: 19.3285 - mae: 2.8692\n",
      "Epoch 52: val_mae did not improve from 2.78265\n",
      "1139/1139 [==============================] - 74s 65ms/step - loss: 19.3285 - mae: 2.8692 - val_loss: 22.9516 - val_mae: 3.2360\n",
      "Epoch 53/200\n",
      "1139/1139 [==============================] - ETA: 0s - loss: 19.9559 - mae: 2.8601\n",
      "Epoch 53: val_mae did not improve from 2.78265\n",
      "1139/1139 [==============================] - 73s 64ms/step - loss: 19.9559 - mae: 2.8601 - val_loss: 22.8323 - val_mae: 3.1761\n",
      "Epoch 54/200\n",
      "1139/1139 [==============================] - ETA: 0s - loss: 18.9917 - mae: 2.8339\n",
      "Epoch 54: val_mae did not improve from 2.78265\n",
      "1139/1139 [==============================] - 77s 67ms/step - loss: 18.9917 - mae: 2.8339 - val_loss: 32.3676 - val_mae: 3.3996\n",
      "Epoch 55/200\n",
      "1139/1139 [==============================] - ETA: 0s - loss: 18.7639 - mae: 2.8354\n",
      "Epoch 55: val_mae did not improve from 2.78265\n",
      "1139/1139 [==============================] - 75s 66ms/step - loss: 18.7639 - mae: 2.8354 - val_loss: 25.0974 - val_mae: 3.2104\n",
      "Epoch 56/200\n",
      "1138/1139 [============================>.] - ETA: 0s - loss: 19.3480 - mae: 2.8496\n",
      "Epoch 56: val_mae did not improve from 2.78265\n",
      "1139/1139 [==============================] - 77s 68ms/step - loss: 19.3376 - mae: 2.8488 - val_loss: 27.2962 - val_mae: 3.0851\n",
      "Epoch 57/200\n",
      "1139/1139 [==============================] - ETA: 0s - loss: 19.4772 - mae: 2.8414\n",
      "Epoch 57: val_mae did not improve from 2.78265\n",
      "1139/1139 [==============================] - 71s 62ms/step - loss: 19.4772 - mae: 2.8414 - val_loss: 22.7856 - val_mae: 3.1011\n",
      "Epoch 58/200\n",
      "1139/1139 [==============================] - ETA: 0s - loss: 18.3958 - mae: 2.8272\n",
      "Epoch 58: val_mae did not improve from 2.78265\n",
      "1139/1139 [==============================] - 67s 59ms/step - loss: 18.3958 - mae: 2.8272 - val_loss: 24.9463 - val_mae: 3.1455\n",
      "Epoch 59/200\n",
      "1139/1139 [==============================] - ETA: 0s - loss: 18.7263 - mae: 2.8448\n",
      "Epoch 59: val_mae did not improve from 2.78265\n",
      "1139/1139 [==============================] - 74s 65ms/step - loss: 18.7263 - mae: 2.8448 - val_loss: 24.5800 - val_mae: 3.0191\n",
      "Epoch 60/200\n",
      "1138/1139 [============================>.] - ETA: 0s - loss: 19.5102 - mae: 2.8633\n",
      "Epoch 60: val_mae did not improve from 2.78265\n",
      "1139/1139 [==============================] - 67s 59ms/step - loss: 19.5429 - mae: 2.8652 - val_loss: 28.7050 - val_mae: 3.3101\n",
      "Epoch 61/200\n",
      "1139/1139 [==============================] - ETA: 0s - loss: 18.6112 - mae: 2.8214\n",
      "Epoch 61: val_mae did not improve from 2.78265\n",
      "1139/1139 [==============================] - 68s 60ms/step - loss: 18.6112 - mae: 2.8214 - val_loss: 26.6812 - val_mae: 3.2034\n",
      "Epoch 62/200\n",
      "1139/1139 [==============================] - ETA: 0s - loss: 18.7687 - mae: 2.8371\n",
      "Epoch 62: val_mae did not improve from 2.78265\n",
      "1139/1139 [==============================] - 97s 86ms/step - loss: 18.7687 - mae: 2.8371 - val_loss: 25.4561 - val_mae: 3.2540\n"
     ]
    }
   ],
   "source": [
    "history = model.fit(train_generator, validation_data=val_generator, epochs=200, verbose=1, callbacks = callbacks_list)"
   ]
  },
  {
   "cell_type": "markdown",
   "id": "fbd2aedb-1c3b-40fc-b7e3-411493d9bece",
   "metadata": {},
   "source": [
    "### Načítanie najlepšieho modelu"
   ]
  },
  {
   "cell_type": "code",
   "execution_count": 9,
   "id": "08a0bf14-5cb6-4851-adc8-6363fe066563",
   "metadata": {},
   "outputs": [],
   "source": [
    "model = keras.models.load_model('1h_dopredu200+BZ+KP.hdf5')"
   ]
  },
  {
   "cell_type": "markdown",
   "id": "f2386fea-2362-4977-a8b8-4b0db6e9cf02",
   "metadata": {},
   "source": [
    "### Vytvorenie predikcií"
   ]
  },
  {
   "cell_type": "code",
   "execution_count": 10,
   "id": "57378f58-5c57-4f2a-b208-c77da1ee2414",
   "metadata": {},
   "outputs": [
    {
     "name": "stdout",
     "output_type": "stream",
     "text": [
      "633/633 [==============================] - 13s 18ms/step\n"
     ]
    }
   ],
   "source": [
    "y_pred = model.predict(test_generator)"
   ]
  },
  {
   "cell_type": "markdown",
   "id": "b2a658be-f0f6-4633-8104-4f3375b9b302",
   "metadata": {},
   "source": [
    "### Nájdenie optimálneho thresholdu na validačnej sade"
   ]
  },
  {
   "cell_type": "code",
   "execution_count": 12,
   "id": "5227ec8f-7425-43c0-8776-d5a0bf79ae0c",
   "metadata": {},
   "outputs": [
    {
     "name": "stdout",
     "output_type": "stream",
     "text": [
      "224/224 [==============================] - 5s 20ms/step\n",
      "-20.3\n",
      "Confusion matrix: \n",
      "[[126739   3246]\n",
      " [  3562  28483]]\n"
     ]
    }
   ],
   "source": [
    "y_val_pred = model.predict(val_generator)\n",
    "\n",
    "true_labels_val = np.where(y_val[n_input:] <= -20, 1, 0) \n",
    "\n",
    "def calculate_mcc(y_true, y_pred):\n",
    "    return matthews_corrcoef(y_true, y_pred)\n",
    "\n",
    "thresholds = np.arange(-10, -40, -0.1)\n",
    "mcc_scores = []\n",
    "\n",
    "for thresh in thresholds:\n",
    "    predictions = np.where(y_val_pred <= thresh, 1, 0)\n",
    "    mcc = calculate_mcc(true_labels_val, predictions)\n",
    "    mcc_scores.append(mcc)\n",
    "\n",
    "best_threshold_mcc = thresholds[np.argmax(mcc_scores)]\n",
    "best_mcc = max(mcc_scores)\n",
    "\n",
    "best_threshold_mcc_rounded = round(best_threshold_mcc, 1)\n",
    "print(best_threshold_mcc_rounded)\n",
    "\n",
    "y_pred2 = np.where(y_pred <= best_threshold_mcc_rounded, 1, 0)\n",
    "y_test2 = np.where(y_test[n_input:]  <= -20, 1, 0)\n",
    "\n",
    "cm = confusion_matrix(y_test2, y_pred2)\n",
    "print(\"Confusion matrix: \\n\" + str(cm))"
   ]
  },
  {
   "cell_type": "markdown",
   "id": "d2fdeb42-52c5-4095-aebe-8f93770468ed",
   "metadata": {},
   "source": [
    "### Výpočet metrík, vykreslenie grafu predikcie a uloženie predikcií"
   ]
  },
  {
   "cell_type": "code",
   "execution_count": 11,
   "id": "9c37d4c2-0337-4249-a153-8552a1133698",
   "metadata": {},
   "outputs": [
    {
     "name": "stdout",
     "output_type": "stream",
     "text": [
      "Mean Squared Error: 100.74865621588302\n"
     ]
    }
   ],
   "source": [
    "from sklearn.metrics import mean_squared_error\n",
    "mse = mean_squared_error(y_test[:-n_input], y_pred.reshape(-1))\n",
    "print(f\"Mean Squared Error: {mse}\")"
   ]
  },
  {
   "cell_type": "code",
   "execution_count": 13,
   "id": "0781527d-f548-4f95-95d2-4834a1c50bb9",
   "metadata": {},
   "outputs": [
    {
     "name": "stdout",
     "output_type": "stream",
     "text": [
      "              precision    recall  f1-score   support\n",
      "\n",
      "           0       0.97      0.98      0.97    129985\n",
      "           1       0.90      0.89      0.89     32045\n",
      "\n",
      "    accuracy                           0.96    162030\n",
      "   macro avg       0.94      0.93      0.93    162030\n",
      "weighted avg       0.96      0.96      0.96    162030\n",
      "\n"
     ]
    }
   ],
   "source": [
    "print(classification_report(y_test2, y_pred2))\n"
   ]
  },
  {
   "cell_type": "code",
   "execution_count": 14,
   "id": "b6841a79-1437-4313-9960-ed08cb0b1910",
   "metadata": {},
   "outputs": [
    {
     "data": {
      "image/png": "[encoded data removed]",
      "text/plain": [
       "<Figure size 640x480 with 1 Axes>"
      ]
     },
     "metadata": {},
     "output_type": "display_data"
    }
   ],
   "source": [
    "df = pd.DataFrame(data={\"time\": test['time1'][n_input:],\"y_true\": y_test[n_input:].reshape(-1) , \"y_predict\": y_pred.reshape(-1)})\n",
    "\n",
    "plt.figure()\n",
    "plt.title('Predicting the change in DST Index')\n",
    "plt.plot(df['time'],df['y_true'], label='Skutočné hodnoty')\n",
    "plt.plot(df['time'],df['y_predict'], label='Predikované hodnoty')\n",
    "plt.legend()\n",
    "plt.gcf().autofmt_xdate()\n",
    "plt.grid(True)"
   ]
  },
  {
   "cell_type": "code",
   "execution_count": 15,
   "id": "7f57d33d-462c-4a3f-afbe-26ad75dfe563",
   "metadata": {},
   "outputs": [],
   "source": [
    "df.to_csv('1h_dopredu+200+BZ+KP.csv')"
   ]
  },
  {
   "cell_type": "code",
   "execution_count": 16,
   "id": "220727c6-19fb-4b0f-9414-b48fa06d7bb2",
   "metadata": {},
   "outputs": [
    {
     "name": "stdout",
     "output_type": "stream",
     "text": [
      "ACC=0.9579830895513176\n",
      "MCC=0.8671094874836762\n"
     ]
    }
   ],
   "source": [
    "TN, FP, FN, TP = cm.ravel()\n",
    "ACC = (TP + TN) / (TP + TN + FP + FN)\n",
    "MCC = matthews_corrcoef(y_test2, y_pred2)\n",
    "print(\"ACC={}\".format(ACC))\n",
    "print(\"MCC={}\".format(MCC))"
   ]
  },
  {
   "cell_type": "code",
   "execution_count": null,
   "id": "2fdbfa07-06ed-4e43-a5ba-e690ebb37138",
   "metadata": {},
   "outputs": [],
   "source": []
  }
 ],
 "metadata": {
  "kernelspec": {
   "display_name": "Python 3 (ipykernel)",
   "language": "python",
   "name": "python3"
  },
  "language_info": {
   "codemirror_mode": {
    "name": "ipython",
    "version": 3
   },
   "file_extension": ".py",
   "mimetype": "text/x-python",
   "name": "python",
   "nbconvert_exporter": "python",
   "pygments_lexer": "ipython3",
   "version": "3.10.6"
  }
 },
 "nbformat": 4,
 "nbformat_minor": 5
}
