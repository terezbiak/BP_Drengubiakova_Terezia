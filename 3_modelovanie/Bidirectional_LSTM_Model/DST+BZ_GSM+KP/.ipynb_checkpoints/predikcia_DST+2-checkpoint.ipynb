{
 "cells": [
  {
   "cell_type": "markdown",
   "id": "05f69062-c264-4a20-9686-64e272f4aae3",
   "metadata": {},
   "source": [
    "## Model na predikciu DST za pomoci použitia atribútu DST, BZ_GSM a KP o 2 hodiny dopredu"
   ]
  },
  {
   "cell_type": "markdown",
   "id": "04dc5d62-9051-4c1e-8c87-59937cc9b513",
   "metadata": {},
   "source": [
    "Súbor: predikcia_DST+2.ipynb\n",
    "\n",
    "Program: Hospodárska informatika\n",
    "\n",
    "Vypracovala: Terézia Drengubiaková\n",
    "\n",
    "Bakalárska práca: : Prediktívne modely v spracovaní dát z oblasti kozmického počasia\n",
    "\n",
    "Vedúci diplomovej práce: doc. Ing. Peter Butka, PhD.\n",
    "\n",
    "Konzultanti: Ing. Viera Krešňáková, PhD., RNDr. Šimon Mackovjak, PhD."
   ]
  },
  {
   "cell_type": "markdown",
   "id": "c6d719ea-f828-4303-9a74-6c870b191c24",
   "metadata": {},
   "source": [
    "### Import knižníc"
   ]
  },
  {
   "cell_type": "code",
   "execution_count": 15,
   "id": "ca4af1e5-3d0b-43c2-9ed8-beef9f341d23",
   "metadata": {},
   "outputs": [],
   "source": [
    "import pandas as pd\n",
    "import numpy as np\n",
    "from tensorflow import keras\n",
    "import matplotlib.pyplot as plt\n",
    "from sklearn.preprocessing import MinMaxScaler, StandardScaler\n",
    "from pandas.plotting import register_matplotlib_converters\n",
    "register_matplotlib_converters()\n",
    "import seaborn as sns\n",
    "from tensorflow.keras.preprocessing.sequence import TimeseriesGenerator\n",
    "from keras.models import Sequential\n",
    "from keras.layers import Dense, Activation, Dropout, Input, Conv1D, LSTM, MaxPooling1D, Flatten, TimeDistributed, Bidirectional\n",
    "from tensorflow.keras.callbacks import ModelCheckpoint, EarlyStopping\n",
    "from keras.models import Model\n",
    "from scipy.special import expit, logit\n",
    "from sklearn.metrics import confusion_matrix, classification_report, matthews_corrcoef"
   ]
  },
  {
   "cell_type": "markdown",
   "id": "d8da6602-c776-4e11-9f7d-f03977608352",
   "metadata": {},
   "source": [
    "### Načítanie dát, odstránenie na hodnôt, určenie predikovaného atribútu"
   ]
  },
  {
   "cell_type": "code",
   "execution_count": 16,
   "id": "ddba2f85-112b-4077-811b-591ddd767bb6",
   "metadata": {},
   "outputs": [],
   "source": [
    "train = pd.read_csv('train_omni.csv')\n",
    "test = pd.read_csv('test_omni.csv')\n",
    "train['BZ_GSM'] = train['BZ_GSM'].fillna(train['BZ_GSM'].mean())  # Naplní NaN hodnoty priemerom danej stĺpca\n",
    "test['BZ_GSM'] = test['BZ_GSM'].fillna(test['BZ_GSM'].mean())  \n",
    "features = ['time1', 'DST', 'DST+2', 'BZ_GSM', 'KP']\n",
    "test = test[features]\n",
    "train = train[features]\n",
    "train['time1']=pd.to_datetime(train['time1'])\n",
    "test['time1']=pd.to_datetime(test['time1'])\n",
    "predicators = [\"DST\", \"BZ_GSM\", \"KP\"]\n",
    "y_col='DST+2'\n",
    "valid_size = int(len(train) * 0.2)\n",
    "valid = train.iloc[-valid_size:,:].copy()\n",
    "train = train.iloc[:-valid_size,:].copy()\n",
    "\n",
    "y_train = train[y_col].values.copy()\n",
    "X_train = train[predicators].values.copy()\n",
    "y_val = valid[y_col].values.copy()\n",
    "X_val = valid[predicators].values.copy()\n",
    "y_test = test[y_col].values.copy()\n",
    "X_test = test[predicators].values.copy()"
   ]
  },
  {
   "cell_type": "markdown",
   "id": "2423b083-ec6e-461d-bd6b-541faa3cf1b8",
   "metadata": {},
   "source": [
    "### Definícia premenných a vytvorenie dátových generátorov"
   ]
  },
  {
   "cell_type": "code",
   "execution_count": 17,
   "id": "0b259104-ab17-4a42-a1b6-dea3d3e6bb25",
   "metadata": {},
   "outputs": [],
   "source": [
    "n_input = 6  \n",
    "n_features= len(X_train)  \n",
    "b_size = 256  \n",
    "\n",
    "train_generator = TimeseriesGenerator(X_train, y_train, length=n_input, batch_size=b_size)\n",
    "val_generator = TimeseriesGenerator(X_val, y_val, length=n_input, batch_size=b_size)\n",
    "test_generator = TimeseriesGenerator(X_test, y_test, length=n_input, batch_size=256)"
   ]
  },
  {
   "cell_type": "code",
   "execution_count": 18,
   "id": "89a8ac06-c384-4aca-b747-4b9642949947",
   "metadata": {},
   "outputs": [
    {
     "name": "stdout",
     "output_type": "stream",
     "text": [
      "Počet batchov:  896\n",
      "Každý batch má features (X zložku) a labels (y zložku):  2\n",
      "Dĺžka X zložky batchu:  256\n",
      "Dĺžka y zložky batchu (počet meraní v batchi):  256\n",
      "Počet riadkov braných do úvahy pre jedno meranie (koľko sa pozerá dozadu):  6\n"
     ]
    }
   ],
   "source": [
    "print(\"Počet batchov: \", len(train_generator))\n",
    "print(\"Každý batch má features (X zložku) a labels (y zložku): \", len(train_generator[0]))\n",
    "print(\"Dĺžka X zložky batchu: \", len(train_generator[0][0]))\n",
    "print(\"Dĺžka y zložky batchu (počet meraní v batchi): \",len(train_generator[0][1]))\n",
    "print(\"Počet riadkov braných do úvahy pre jedno meranie (koľko sa pozerá dozadu): \", len(train_generator[0][0][0]))"
   ]
  },
  {
   "cell_type": "markdown",
   "id": "a4740bd2-a10c-417b-a3d0-5286d40a39cb",
   "metadata": {},
   "source": [
    "### Vytvorenie modelu"
   ]
  },
  {
   "cell_type": "code",
   "execution_count": 19,
   "id": "aa4f6c64-1c16-4799-baac-f425bca25e76",
   "metadata": {},
   "outputs": [
    {
     "name": "stdout",
     "output_type": "stream",
     "text": [
      "Model: \"model_1\"\n",
      "_________________________________________________________________\n",
      " Layer (type)                Output Shape              Param #   \n",
      "=================================================================\n",
      " input_2 (InputLayer)        [(None, 6, 3)]            0         \n",
      "                                                                 \n",
      " bidirectional_1 (Bidirectio  (None, 6, 256)           135168    \n",
      " nal)                                                            \n",
      "                                                                 \n",
      " lstm_3 (LSTM)               (None, 6, 128)            197120    \n",
      "                                                                 \n",
      " time_distributed_1 (TimeDis  (None, 6, 1)             129       \n",
      " tributed)                                                       \n",
      "                                                                 \n",
      " flatten_1 (Flatten)         (None, 6)                 0         \n",
      "                                                                 \n",
      " dense_3 (Dense)             (None, 1)                 7         \n",
      "                                                                 \n",
      "=================================================================\n",
      "Total params: 332,424\n",
      "Trainable params: 332,424\n",
      "Non-trainable params: 0\n",
      "_________________________________________________________________\n",
      "None\n"
     ]
    }
   ],
   "source": [
    "inputs = Input(shape=(6,3))\n",
    "c = Bidirectional(LSTM(128, return_sequences=True, dropout=0.1,recurrent_dropout=0.1))(inputs)\n",
    "c = LSTM(128, return_sequences=True)(c)\n",
    "c = TimeDistributed(Dense(1, activation='linear'))(c)\n",
    "output = Flatten()(c)\n",
    "output = Dense(1, activation='linear')(output)\n",
    "model = Model(inputs=inputs, outputs=output)\n",
    "model.compile(loss='mse', optimizer='adam', metrics=[\"mae\"])\n",
    "print(model.summary())"
   ]
  },
  {
   "cell_type": "code",
   "execution_count": 20,
   "id": "29b4a2d1-52f1-48a5-b4f7-e498817b9de7",
   "metadata": {},
   "outputs": [],
   "source": [
    "saved_model = \"2h_dopredu200+BZ+KP.hdf5\"\n",
    "checkpoint = ModelCheckpoint(saved_model, monitor='val_mae', verbose=1, save_best_only=True, mode='min')\n",
    "early = EarlyStopping(monitor=\"val_mae\", mode=\"min\", patience=25)\n",
    "callbacks_list = [checkpoint, early]"
   ]
  },
  {
   "cell_type": "markdown",
   "id": "70e50b06-e96a-48ed-bf19-bde9cd96f5eb",
   "metadata": {},
   "source": [
    "### Trénovanie"
   ]
  },
  {
   "cell_type": "code",
   "execution_count": null,
   "id": "ba000d8d-7f20-45d6-8c10-025c7976f9f8",
   "metadata": {
    "collapsed": true,
    "jupyter": {
     "outputs_hidden": true
    },
    "tags": []
   },
   "outputs": [
    {
     "name": "stdout",
     "output_type": "stream",
     "text": [
      "Epoch 1/200\n",
      "1139/1139 [==============================] - ETA: 0s - loss: 125.2398 - mae: 6.1527\n",
      "Epoch 1: val_mae improved from inf to 5.17834, saving model to 2h_dopredu200+BZ+KP.hdf5\n",
      "1139/1139 [==============================] - 74s 61ms/step - loss: 125.2398 - mae: 6.1527 - val_loss: 82.2821 - val_mae: 5.1783\n",
      "Epoch 2/200\n",
      "1138/1139 [============================>.] - ETA: 0s - loss: 67.1036 - mae: 5.0828\n",
      "Epoch 2: val_mae improved from 5.17834 to 5.14208, saving model to 2h_dopredu200+BZ+KP.hdf5\n",
      "1139/1139 [==============================] - 63s 55ms/step - loss: 67.0749 - mae: 5.0821 - val_loss: 73.0875 - val_mae: 5.1421\n",
      "Epoch 3/200\n",
      "1139/1139 [==============================] - ETA: 0s - loss: 60.6533 - mae: 4.9475\n",
      "Epoch 3: val_mae improved from 5.14208 to 4.51487, saving model to 2h_dopredu200+BZ+KP.hdf5\n",
      "1139/1139 [==============================] - 71s 62ms/step - loss: 60.6533 - mae: 4.9475 - val_loss: 53.3518 - val_mae: 4.5149\n",
      "Epoch 4/200\n",
      "1139/1139 [==============================] - ETA: 0s - loss: 56.9526 - mae: 4.8522\n",
      "Epoch 4: val_mae did not improve from 4.51487\n",
      "1139/1139 [==============================] - 70s 61ms/step - loss: 56.9526 - mae: 4.8522 - val_loss: 59.5695 - val_mae: 5.2360\n",
      "Epoch 5/200\n",
      "1139/1139 [==============================] - ETA: 0s - loss: 56.6842 - mae: 4.8254\n",
      "Epoch 5: val_mae did not improve from 4.51487\n",
      "1139/1139 [==============================] - 69s 61ms/step - loss: 56.6842 - mae: 4.8254 - val_loss: 51.7174 - val_mae: 4.5672\n",
      "Epoch 6/200\n",
      "1139/1139 [==============================] - ETA: 0s - loss: 54.1308 - mae: 4.7367\n",
      "Epoch 6: val_mae did not improve from 4.51487\n",
      "1139/1139 [==============================] - 73s 64ms/step - loss: 54.1308 - mae: 4.7367 - val_loss: 53.0854 - val_mae: 4.5632\n",
      "Epoch 7/200\n",
      "1139/1139 [==============================] - ETA: 0s - loss: 53.3854 - mae: 4.6969\n",
      "Epoch 7: val_mae did not improve from 4.51487\n",
      "1139/1139 [==============================] - 72s 63ms/step - loss: 53.3854 - mae: 4.6969 - val_loss: 55.4535 - val_mae: 4.7080\n",
      "Epoch 8/200\n",
      "1139/1139 [==============================] - ETA: 0s - loss: 50.5259 - mae: 4.6383\n",
      "Epoch 8: val_mae did not improve from 4.51487\n",
      "1139/1139 [==============================] - 68s 60ms/step - loss: 50.5259 - mae: 4.6383 - val_loss: 50.6502 - val_mae: 4.7877\n",
      "Epoch 9/200\n",
      "1139/1139 [==============================] - ETA: 0s - loss: 51.0023 - mae: 4.6504\n",
      "Epoch 9: val_mae improved from 4.51487 to 4.21707, saving model to 2h_dopredu200+BZ+KP.hdf5\n",
      "1139/1139 [==============================] - 77s 68ms/step - loss: 51.0023 - mae: 4.6504 - val_loss: 43.8399 - val_mae: 4.2171\n",
      "Epoch 10/200\n",
      "1139/1139 [==============================] - ETA: 0s - loss: 49.7632 - mae: 4.6163\n",
      "Epoch 10: val_mae did not improve from 4.21707\n",
      "1139/1139 [==============================] - 70s 62ms/step - loss: 49.7632 - mae: 4.6163 - val_loss: 62.8619 - val_mae: 5.2253\n",
      "Epoch 11/200\n",
      "1139/1139 [==============================] - ETA: 0s - loss: 48.8479 - mae: 4.5742\n",
      "Epoch 11: val_mae did not improve from 4.21707\n",
      "1139/1139 [==============================] - 72s 63ms/step - loss: 48.8479 - mae: 4.5742 - val_loss: 43.1337 - val_mae: 4.2782\n",
      "Epoch 12/200\n",
      "1139/1139 [==============================] - ETA: 0s - loss: 52.2000 - mae: 4.6259\n",
      "Epoch 12: val_mae did not improve from 4.21707\n",
      "1139/1139 [==============================] - 73s 64ms/step - loss: 52.2000 - mae: 4.6259 - val_loss: 54.7676 - val_mae: 4.7254\n",
      "Epoch 13/200\n",
      "1139/1139 [==============================] - ETA: 0s - loss: 47.8071 - mae: 4.5325\n",
      "Epoch 13: val_mae did not improve from 4.21707\n",
      "1139/1139 [==============================] - 73s 64ms/step - loss: 47.8071 - mae: 4.5325 - val_loss: 49.0161 - val_mae: 4.5690\n",
      "Epoch 14/200\n",
      "1139/1139 [==============================] - ETA: 0s - loss: 48.7526 - mae: 4.5506\n",
      "Epoch 14: val_mae improved from 4.21707 to 4.18096, saving model to 2h_dopredu200+BZ+KP.hdf5\n",
      "1139/1139 [==============================] - 78s 68ms/step - loss: 48.7526 - mae: 4.5506 - val_loss: 42.6755 - val_mae: 4.1810\n",
      "Epoch 15/200\n",
      "1139/1139 [==============================] - ETA: 0s - loss: 47.4601 - mae: 4.5477\n",
      "Epoch 15: val_mae did not improve from 4.18096\n",
      "1139/1139 [==============================] - 72s 63ms/step - loss: 47.4601 - mae: 4.5477 - val_loss: 52.4100 - val_mae: 4.5045\n",
      "Epoch 16/200\n",
      "1139/1139 [==============================] - ETA: 0s - loss: 47.9677 - mae: 4.5502\n",
      "Epoch 16: val_mae did not improve from 4.18096\n",
      "1139/1139 [==============================] - 73s 64ms/step - loss: 47.9677 - mae: 4.5502 - val_loss: 46.3047 - val_mae: 4.4166\n",
      "Epoch 17/200\n",
      "1139/1139 [==============================] - ETA: 0s - loss: 48.4550 - mae: 4.5470\n",
      "Epoch 17: val_mae did not improve from 4.18096\n",
      "1139/1139 [==============================] - 72s 63ms/step - loss: 48.4550 - mae: 4.5470 - val_loss: 55.1692 - val_mae: 4.7177\n",
      "Epoch 18/200\n",
      "1139/1139 [==============================] - ETA: 0s - loss: 46.4522 - mae: 4.5017\n",
      "Epoch 18: val_mae did not improve from 4.18096\n",
      "1139/1139 [==============================] - 77s 68ms/step - loss: 46.4522 - mae: 4.5017 - val_loss: 46.9374 - val_mae: 4.4062\n",
      "Epoch 19/200\n",
      "1139/1139 [==============================] - ETA: 0s - loss: 47.0283 - mae: 4.5078\n",
      "Epoch 19: val_mae did not improve from 4.18096\n",
      "1139/1139 [==============================] - 73s 65ms/step - loss: 47.0283 - mae: 4.5078 - val_loss: 49.1464 - val_mae: 4.5036\n",
      "Epoch 20/200\n",
      "1139/1139 [==============================] - ETA: 0s - loss: 47.0919 - mae: 4.5211\n",
      "Epoch 20: val_mae did not improve from 4.18096\n",
      "1139/1139 [==============================] - 73s 64ms/step - loss: 47.0919 - mae: 4.5211 - val_loss: 53.7330 - val_mae: 4.6668\n",
      "Epoch 21/200\n",
      "1139/1139 [==============================] - ETA: 0s - loss: 46.5660 - mae: 4.5058\n",
      "Epoch 21: val_mae did not improve from 4.18096\n",
      "1139/1139 [==============================] - 66s 58ms/step - loss: 46.5660 - mae: 4.5058 - val_loss: 52.5014 - val_mae: 4.6234\n",
      "Epoch 22/200\n",
      "1139/1139 [==============================] - ETA: 0s - loss: 46.7481 - mae: 4.5065\n",
      "Epoch 22: val_mae did not improve from 4.18096\n",
      "1139/1139 [==============================] - 75s 66ms/step - loss: 46.7481 - mae: 4.5065 - val_loss: 53.5459 - val_mae: 4.7364\n",
      "Epoch 23/200\n",
      "1139/1139 [==============================] - ETA: 0s - loss: 47.3935 - mae: 4.5082\n",
      "Epoch 23: val_mae did not improve from 4.18096\n",
      "1139/1139 [==============================] - 77s 68ms/step - loss: 47.3935 - mae: 4.5082 - val_loss: 58.7931 - val_mae: 4.8615\n",
      "Epoch 24/200\n",
      "1139/1139 [==============================] - ETA: 0s - loss: 45.8806 - mae: 4.4903\n",
      "Epoch 24: val_mae did not improve from 4.18096\n",
      "1139/1139 [==============================] - 77s 67ms/step - loss: 45.8806 - mae: 4.4903 - val_loss: 56.9883 - val_mae: 4.8533\n",
      "Epoch 25/200\n",
      "1139/1139 [==============================] - ETA: 0s - loss: 46.0924 - mae: 4.4933\n",
      "Epoch 25: val_mae did not improve from 4.18096\n",
      "1139/1139 [==============================] - 73s 64ms/step - loss: 46.0924 - mae: 4.4933 - val_loss: 46.9843 - val_mae: 4.4215\n",
      "Epoch 26/200\n",
      "1139/1139 [==============================] - ETA: 0s - loss: 45.1137 - mae: 4.4709\n",
      "Epoch 26: val_mae did not improve from 4.18096\n",
      "1139/1139 [==============================] - 72s 64ms/step - loss: 45.1137 - mae: 4.4709 - val_loss: 51.3536 - val_mae: 4.5470\n",
      "Epoch 27/200\n",
      "1139/1139 [==============================] - ETA: 0s - loss: 45.3488 - mae: 4.4684\n",
      "Epoch 27: val_mae did not improve from 4.18096\n",
      "1139/1139 [==============================] - 74s 65ms/step - loss: 45.3488 - mae: 4.4684 - val_loss: 40.6595 - val_mae: 4.2143\n",
      "Epoch 28/200\n",
      "1139/1139 [==============================] - ETA: 0s - loss: 44.6706 - mae: 4.4681\n",
      "Epoch 28: val_mae did not improve from 4.18096\n",
      "1139/1139 [==============================] - 76s 67ms/step - loss: 44.6706 - mae: 4.4681 - val_loss: 40.2017 - val_mae: 4.2200\n",
      "Epoch 29/200\n",
      "1139/1139 [==============================] - ETA: 0s - loss: 44.9160 - mae: 4.4611\n",
      "Epoch 29: val_mae did not improve from 4.18096\n",
      "1139/1139 [==============================] - 74s 65ms/step - loss: 44.9160 - mae: 4.4611 - val_loss: 40.7697 - val_mae: 4.2301\n",
      "Epoch 30/200\n",
      "1139/1139 [==============================] - ETA: 0s - loss: 44.7441 - mae: 4.4597\n",
      "Epoch 30: val_mae did not improve from 4.18096\n",
      "1139/1139 [==============================] - 75s 66ms/step - loss: 44.7441 - mae: 4.4597 - val_loss: 48.5193 - val_mae: 4.5193\n",
      "Epoch 31/200\n",
      "1139/1139 [==============================] - ETA: 0s - loss: 43.8509 - mae: 4.4504\n",
      "Epoch 31: val_mae did not improve from 4.18096\n",
      "1139/1139 [==============================] - 74s 65ms/step - loss: 43.8509 - mae: 4.4504 - val_loss: 49.6923 - val_mae: 4.5938\n",
      "Epoch 32/200\n",
      "1139/1139 [==============================] - ETA: 0s - loss: 44.6089 - mae: 4.4560\n",
      "Epoch 32: val_mae did not improve from 4.18096\n",
      "1139/1139 [==============================] - 75s 66ms/step - loss: 44.6089 - mae: 4.4560 - val_loss: 54.2835 - val_mae: 5.0522\n",
      "Epoch 33/200\n",
      "1139/1139 [==============================] - ETA: 0s - loss: 43.5192 - mae: 4.4385\n",
      "Epoch 33: val_mae improved from 4.18096 to 4.16503, saving model to 2h_dopredu200+BZ+KP.hdf5\n",
      "1139/1139 [==============================] - 77s 67ms/step - loss: 43.5192 - mae: 4.4385 - val_loss: 38.8844 - val_mae: 4.1650\n",
      "Epoch 34/200\n",
      "1139/1139 [==============================] - ETA: 0s - loss: 44.9427 - mae: 4.4446\n",
      "Epoch 34: val_mae did not improve from 4.16503\n",
      "1139/1139 [==============================] - 74s 65ms/step - loss: 44.9427 - mae: 4.4446 - val_loss: 49.6119 - val_mae: 4.7339\n",
      "Epoch 35/200\n",
      "1139/1139 [==============================] - ETA: 0s - loss: 43.9797 - mae: 4.4364\n",
      "Epoch 35: val_mae did not improve from 4.16503\n",
      "1139/1139 [==============================] - 72s 63ms/step - loss: 43.9797 - mae: 4.4364 - val_loss: 40.1608 - val_mae: 4.1719\n",
      "Epoch 36/200\n",
      "1139/1139 [==============================] - ETA: 0s - loss: 44.2887 - mae: 4.4460\n",
      "Epoch 36: val_mae did not improve from 4.16503\n",
      "1139/1139 [==============================] - 73s 64ms/step - loss: 44.2887 - mae: 4.4460 - val_loss: 46.5553 - val_mae: 4.4159\n",
      "Epoch 37/200\n",
      "1138/1139 [============================>.] - ETA: 0s - loss: 44.5018 - mae: 4.4421\n",
      "Epoch 37: val_mae did not improve from 4.16503\n",
      "1139/1139 [==============================] - 77s 67ms/step - loss: 44.4911 - mae: 4.4420 - val_loss: 55.3206 - val_mae: 4.7938\n",
      "Epoch 38/200\n",
      "1139/1139 [==============================] - ETA: 0s - loss: 43.2816 - mae: 4.4196\n",
      "Epoch 38: val_mae did not improve from 4.16503\n",
      "1139/1139 [==============================] - 73s 64ms/step - loss: 43.2816 - mae: 4.4196 - val_loss: 50.9425 - val_mae: 4.6326\n",
      "Epoch 39/200\n",
      "1139/1139 [==============================] - ETA: 0s - loss: 45.7655 - mae: 4.4607\n",
      "Epoch 39: val_mae did not improve from 4.16503\n",
      "1139/1139 [==============================] - 74s 65ms/step - loss: 45.7655 - mae: 4.4607 - val_loss: 59.3290 - val_mae: 5.1645\n",
      "Epoch 40/200\n",
      "1139/1139 [==============================] - ETA: 0s - loss: 44.4297 - mae: 4.4368\n",
      "Epoch 40: val_mae did not improve from 4.16503\n",
      "1139/1139 [==============================] - 77s 68ms/step - loss: 44.4297 - mae: 4.4368 - val_loss: 44.5346 - val_mae: 4.3184\n",
      "Epoch 41/200\n",
      "1139/1139 [==============================] - ETA: 0s - loss: 44.8974 - mae: 4.4417\n",
      "Epoch 41: val_mae did not improve from 4.16503\n",
      "1139/1139 [==============================] - 72s 63ms/step - loss: 44.8974 - mae: 4.4417 - val_loss: 54.2348 - val_mae: 4.8038\n",
      "Epoch 42/200\n",
      "1139/1139 [==============================] - ETA: 0s - loss: 43.5320 - mae: 4.4259\n",
      "Epoch 42: val_mae did not improve from 4.16503\n",
      "1139/1139 [==============================] - 76s 67ms/step - loss: 43.5320 - mae: 4.4259 - val_loss: 40.0446 - val_mae: 4.2062\n",
      "Epoch 43/200\n",
      "1139/1139 [==============================] - ETA: 0s - loss: 43.6863 - mae: 4.4293\n",
      "Epoch 43: val_mae did not improve from 4.16503\n",
      "1139/1139 [==============================] - 73s 64ms/step - loss: 43.6863 - mae: 4.4293 - val_loss: 49.0256 - val_mae: 4.7695\n",
      "Epoch 44/200\n",
      "1139/1139 [==============================] - ETA: 0s - loss: 43.8624 - mae: 4.4402\n",
      "Epoch 44: val_mae did not improve from 4.16503\n",
      "1139/1139 [==============================] - 72s 63ms/step - loss: 43.8624 - mae: 4.4402 - val_loss: 48.4181 - val_mae: 4.4473\n",
      "Epoch 45/200\n",
      "1139/1139 [==============================] - ETA: 0s - loss: 42.9578 - mae: 4.4058\n",
      "Epoch 45: val_mae did not improve from 4.16503\n",
      "1139/1139 [==============================] - 78s 68ms/step - loss: 42.9578 - mae: 4.4058 - val_loss: 51.1089 - val_mae: 4.4310\n",
      "Epoch 46/200\n",
      "1139/1139 [==============================] - ETA: 0s - loss: 43.6752 - mae: 4.4152\n",
      "Epoch 46: val_mae did not improve from 4.16503\n",
      "1139/1139 [==============================] - 74s 65ms/step - loss: 43.6752 - mae: 4.4152 - val_loss: 46.0260 - val_mae: 4.4510\n",
      "Epoch 47/200\n",
      "1139/1139 [==============================] - ETA: 0s - loss: 43.7748 - mae: 4.4241\n",
      "Epoch 47: val_mae did not improve from 4.16503\n",
      "1139/1139 [==============================] - 74s 65ms/step - loss: 43.7748 - mae: 4.4241 - val_loss: 62.3149 - val_mae: 4.9980\n",
      "Epoch 48/200\n",
      "1138/1139 [============================>.] - ETA: 0s - loss: 43.7503 - mae: 4.4175\n",
      "Epoch 48: val_mae did not improve from 4.16503\n",
      "1139/1139 [==============================] - 73s 64ms/step - loss: 43.7313 - mae: 4.4168 - val_loss: 51.4532 - val_mae: 4.5677\n",
      "Epoch 49/200\n",
      "1139/1139 [==============================] - ETA: 0s - loss: 42.4890 - mae: 4.3927\n",
      "Epoch 49: val_mae improved from 4.16503 to 4.11394, saving model to 2h_dopredu200+BZ+KP.hdf5\n",
      "1139/1139 [==============================] - 72s 63ms/step - loss: 42.4890 - mae: 4.3927 - val_loss: 37.9767 - val_mae: 4.1139\n",
      "Epoch 50/200\n",
      "1138/1139 [============================>.] - ETA: 0s - loss: 43.3765 - mae: 4.4069\n",
      "Epoch 50: val_mae did not improve from 4.11394\n",
      "1139/1139 [==============================] - 77s 68ms/step - loss: 43.3675 - mae: 4.4068 - val_loss: 52.5557 - val_mae: 4.7215\n",
      "Epoch 51/200\n",
      "1139/1139 [==============================] - ETA: 0s - loss: 42.4886 - mae: 4.3928\n",
      "Epoch 51: val_mae did not improve from 4.11394\n",
      "1139/1139 [==============================] - 73s 64ms/step - loss: 42.4886 - mae: 4.3928 - val_loss: 52.6857 - val_mae: 4.6733\n",
      "Epoch 52/200\n",
      "1139/1139 [==============================] - ETA: 0s - loss: 42.9657 - mae: 4.4001\n",
      "Epoch 52: val_mae did not improve from 4.11394\n",
      "1139/1139 [==============================] - 75s 66ms/step - loss: 42.9657 - mae: 4.4001 - val_loss: 42.4966 - val_mae: 4.3766\n",
      "Epoch 53/200\n",
      "1139/1139 [==============================] - ETA: 0s - loss: 43.6014 - mae: 4.4133\n",
      "Epoch 53: val_mae did not improve from 4.11394\n",
      "1139/1139 [==============================] - 72s 63ms/step - loss: 43.6014 - mae: 4.4133 - val_loss: 50.4969 - val_mae: 4.9056\n",
      "Epoch 54/200\n",
      "1139/1139 [==============================] - ETA: 0s - loss: 42.6837 - mae: 4.3924\n",
      "Epoch 54: val_mae did not improve from 4.11394\n",
      "1139/1139 [==============================] - 73s 64ms/step - loss: 42.6837 - mae: 4.3924 - val_loss: 51.1816 - val_mae: 4.4807\n",
      "Epoch 55/200\n",
      "1139/1139 [==============================] - ETA: 0s - loss: 42.0321 - mae: 4.3856\n",
      "Epoch 55: val_mae did not improve from 4.11394\n",
      "1139/1139 [==============================] - 80s 71ms/step - loss: 42.0321 - mae: 4.3856 - val_loss: 47.1651 - val_mae: 4.3014\n",
      "Epoch 56/200\n",
      "1139/1139 [==============================] - ETA: 0s - loss: 42.6999 - mae: 4.4002\n",
      "Epoch 56: val_mae did not improve from 4.11394\n",
      "1139/1139 [==============================] - 73s 64ms/step - loss: 42.6999 - mae: 4.4002 - val_loss: 46.3653 - val_mae: 4.6226\n",
      "Epoch 57/200\n",
      "1139/1139 [==============================] - ETA: 0s - loss: 43.4684 - mae: 4.4033\n",
      "Epoch 57: val_mae did not improve from 4.11394\n",
      "1139/1139 [==============================] - 69s 61ms/step - loss: 43.4684 - mae: 4.4033 - val_loss: 54.7324 - val_mae: 4.7678\n",
      "Epoch 58/200\n",
      "1139/1139 [==============================] - ETA: 0s - loss: 41.9710 - mae: 4.3752\n",
      "Epoch 58: val_mae did not improve from 4.11394\n",
      "1139/1139 [==============================] - 74s 65ms/step - loss: 41.9710 - mae: 4.3752 - val_loss: 50.6872 - val_mae: 4.5836\n",
      "Epoch 59/200\n",
      "1139/1139 [==============================] - ETA: 0s - loss: 42.1195 - mae: 4.3792\n",
      "Epoch 59: val_mae did not improve from 4.11394\n",
      "1139/1139 [==============================] - 74s 65ms/step - loss: 42.1195 - mae: 4.3792 - val_loss: 45.9450 - val_mae: 4.3859\n",
      "Epoch 60/200\n",
      "1139/1139 [==============================] - ETA: 0s - loss: 42.4901 - mae: 4.3800\n",
      "Epoch 60: val_mae did not improve from 4.11394\n",
      "1139/1139 [==============================] - 76s 67ms/step - loss: 42.4901 - mae: 4.3800 - val_loss: 48.6384 - val_mae: 4.5742\n",
      "Epoch 61/200\n",
      "1139/1139 [==============================] - ETA: 0s - loss: 41.9927 - mae: 4.3741\n",
      "Epoch 61: val_mae did not improve from 4.11394\n",
      "1139/1139 [==============================] - 77s 67ms/step - loss: 41.9927 - mae: 4.3741 - val_loss: 51.2357 - val_mae: 4.7263\n",
      "Epoch 62/200\n",
      "1139/1139 [==============================] - ETA: 0s - loss: 42.6880 - mae: 4.3904\n",
      "Epoch 62: val_mae did not improve from 4.11394\n",
      "1139/1139 [==============================] - 73s 64ms/step - loss: 42.6880 - mae: 4.3904 - val_loss: 45.4062 - val_mae: 4.3942\n",
      "Epoch 63/200\n",
      "1139/1139 [==============================] - ETA: 0s - loss: 43.7498 - mae: 4.4145\n",
      "Epoch 63: val_mae did not improve from 4.11394\n",
      "1139/1139 [==============================] - 216s 189ms/step - loss: 43.7498 - mae: 4.4145 - val_loss: 47.3594 - val_mae: 4.4725\n",
      "Epoch 64/200\n",
      "1139/1139 [==============================] - ETA: 0s - loss: 41.5241 - mae: 4.3622\n",
      "Epoch 64: val_mae did not improve from 4.11394\n",
      "1139/1139 [==============================] - 181s 159ms/step - loss: 41.5241 - mae: 4.3622 - val_loss: 55.9283 - val_mae: 4.9150\n",
      "Epoch 65/200\n",
      "1138/1139 [============================>.] - ETA: 0s - loss: 42.3092 - mae: 4.3782\n",
      "Epoch 65: val_mae did not improve from 4.11394\n",
      "1139/1139 [==============================] - 220s 193ms/step - loss: 42.2959 - mae: 4.3776 - val_loss: 46.7009 - val_mae: 4.6114\n",
      "Epoch 66/200\n",
      "1139/1139 [==============================] - ETA: 0s - loss: 42.6132 - mae: 4.3875\n",
      "Epoch 66: val_mae did not improve from 4.11394\n",
      "1139/1139 [==============================] - 185s 163ms/step - loss: 42.6132 - mae: 4.3875 - val_loss: 53.4171 - val_mae: 4.7429\n",
      "Epoch 67/200\n",
      "1139/1139 [==============================] - ETA: 0s - loss: 41.7163 - mae: 4.3637\n",
      "Epoch 67: val_mae did not improve from 4.11394\n",
      "1139/1139 [==============================] - 303s 266ms/step - loss: 41.7163 - mae: 4.3637 - val_loss: 50.8352 - val_mae: 4.7269\n",
      "Epoch 68/200\n",
      "1138/1139 [============================>.] - ETA: 0s - loss: 41.5913 - mae: 4.3695\n",
      "Epoch 68: val_mae did not improve from 4.11394\n",
      "1139/1139 [==============================] - 265s 233ms/step - loss: 41.5942 - mae: 4.3701 - val_loss: 53.6910 - val_mae: 4.8821\n",
      "Epoch 69/200\n",
      " 960/1139 [========================>.....] - ETA: 1:29 - loss: 41.9538 - mae: 4.3619"
     ]
    }
   ],
   "source": [
    "history = model.fit(train_generator, validation_data=val_generator, epochs=200, verbose=1, callbacks = callbacks_list)"
   ]
  },
  {
   "cell_type": "markdown",
   "id": "c2d5ec10-c5ce-4a75-a8f1-4d931d6773a0",
   "metadata": {},
   "source": [
    "### Načítanie najlepšieho modelu"
   ]
  },
  {
   "cell_type": "code",
   "execution_count": 21,
   "id": "dfe83ff5-92f3-4168-8506-c11033d5ea69",
   "metadata": {},
   "outputs": [],
   "source": [
    "model = keras.models.load_model('2h_dopredu200+BZ+KP.hdf5')"
   ]
  },
  {
   "cell_type": "markdown",
   "id": "9bbadd0e-7fe4-48e8-9548-dcfea83e7d29",
   "metadata": {},
   "source": [
    "### Vytvorenie predikcií"
   ]
  },
  {
   "cell_type": "code",
   "execution_count": 22,
   "id": "f052fbef-fa70-4985-b17b-fc51d34b394d",
   "metadata": {},
   "outputs": [
    {
     "name": "stdout",
     "output_type": "stream",
     "text": [
      "633/633 [==============================] - 13s 20ms/step\n"
     ]
    }
   ],
   "source": [
    "y_pred = model.predict(test_generator)"
   ]
  },
  {
   "cell_type": "markdown",
   "id": "d95d44c5-b602-4723-b74f-5f89ecf1b70a",
   "metadata": {},
   "source": [
    "### Nájdenie optimálneho thresholdu na validačnej sade"
   ]
  },
  {
   "cell_type": "code",
   "execution_count": 24,
   "id": "59ddd127-36de-4559-9415-d19ecad1fca3",
   "metadata": {},
   "outputs": [
    {
     "name": "stdout",
     "output_type": "stream",
     "text": [
      "224/224 [==============================] - 5s 20ms/step\n",
      "-19.1\n",
      "Confusion matrix: \n",
      "[[123807   6179]\n",
      " [  5783  26261]]\n"
     ]
    }
   ],
   "source": [
    "y_val_pred = model.predict(val_generator)\n",
    "\n",
    "true_labels_val = np.where(y_val[n_input:] <= -20, 1, 0)  \n",
    "\n",
    "def calculate_mcc(y_true, y_pred):\n",
    "    return matthews_corrcoef(y_true, y_pred)\n",
    "\n",
    "thresholds = np.arange(-10, -40, -0.1)\n",
    "mcc_scores = []\n",
    "\n",
    "for thresh in thresholds:\n",
    "    predictions = np.where(y_val_pred <= thresh, 1, 0)\n",
    "    mcc = calculate_mcc(true_labels_val, predictions)\n",
    "    mcc_scores.append(mcc)\n",
    "\n",
    "best_threshold_mcc = thresholds[np.argmax(mcc_scores)]\n",
    "best_mcc = max(mcc_scores)\n",
    "\n",
    "best_threshold_mcc_rounded = round(best_threshold_mcc, 1)\n",
    "print(best_threshold_mcc_rounded)\n",
    "y_pred2 = np.where(y_pred <= best_threshold_mcc_rounded, 1, 0)\n",
    "y_test2 = np.where(y_test[n_input:]  <= -20, 1, 0)\n",
    "\n",
    "cm = confusion_matrix(y_test2, y_pred2)\n",
    "print(\"Confusion matrix: \\n\" + str(cm))"
   ]
  },
  {
   "cell_type": "markdown",
   "id": "689d4a7b-7d29-4d68-8bd4-937d42a26568",
   "metadata": {},
   "source": [
    "### Výpočet metrík, vykreslenie grafu predikcie a uloženie predikcií"
   ]
  },
  {
   "cell_type": "code",
   "execution_count": 23,
   "id": "acc91932-1931-4c78-839e-d586e3699cba",
   "metadata": {},
   "outputs": [
    {
     "name": "stdout",
     "output_type": "stream",
     "text": [
      "Mean Squared Error: 82.99069175992655\n"
     ]
    }
   ],
   "source": [
    "from sklearn.metrics import mean_squared_error\n",
    "mse = mean_squared_error(y_test[:-n_input], y_pred.reshape(-1))\n",
    "print(f\"Mean Squared Error: {mse}\")"
   ]
  },
  {
   "cell_type": "code",
   "execution_count": 25,
   "id": "3ca4f141-1fc5-4fe0-9678-7ad516f2c455",
   "metadata": {},
   "outputs": [
    {
     "name": "stdout",
     "output_type": "stream",
     "text": [
      "              precision    recall  f1-score   support\n",
      "\n",
      "           0       0.96      0.95      0.95    129986\n",
      "           1       0.81      0.82      0.81     32044\n",
      "\n",
      "    accuracy                           0.93    162030\n",
      "   macro avg       0.88      0.89      0.88    162030\n",
      "weighted avg       0.93      0.93      0.93    162030\n",
      "\n"
     ]
    }
   ],
   "source": [
    "print(classification_report(y_test2, y_pred2))\n"
   ]
  },
  {
   "cell_type": "code",
   "execution_count": 26,
   "id": "f877a95e-0666-4e2d-bc78-cc7279b433c0",
   "metadata": {},
   "outputs": [
    {
     "data": {
      "image/png": "[encoded data removed]",
      "text/plain": [
       "<Figure size 640x480 with 1 Axes>"
      ]
     },
     "metadata": {},
     "output_type": "display_data"
    }
   ],
   "source": [
    "df = pd.DataFrame(data={\"time\": test['time1'][n_input:],\"y_true\": y_test[n_input:].reshape(-1) , \"y_predict\": y_pred.reshape(-1)})\n",
    "\n",
    "plt.figure()\n",
    "plt.title('Predicting the change in DST Index')\n",
    "plt.plot(df['time'],df['y_true'], label='Skutočné hodnoty')\n",
    "plt.plot(df['time'],df['y_predict'], label='Predikované hodnoty')\n",
    "plt.legend()\n",
    "plt.gcf().autofmt_xdate()\n",
    "plt.grid(True)"
   ]
  },
  {
   "cell_type": "code",
   "execution_count": 27,
   "id": "98657265-b796-44e8-96ed-a56a92cc00e7",
   "metadata": {},
   "outputs": [],
   "source": [
    "df.to_csv('2h_dopredu+200+BZ+KP.csv')"
   ]
  },
  {
   "cell_type": "code",
   "execution_count": 28,
   "id": "dca3ee40-11a3-4dcc-afb4-fd3eaceb09a6",
   "metadata": {},
   "outputs": [
    {
     "name": "stdout",
     "output_type": "stream",
     "text": [
      "ACC=0.926174165278035\n",
      "MCC=0.7684385293469462\n"
     ]
    }
   ],
   "source": [
    "TN, FP, FN, TP = cm.ravel()\n",
    "ACC = (TP + TN) / (TP + TN + FP + FN)\n",
    "MCC = matthews_corrcoef(y_test2, y_pred2)\n",
    "print(\"ACC={}\".format(ACC))\n",
    "print(\"MCC={}\".format(MCC))"
   ]
  },
  {
   "cell_type": "code",
   "execution_count": null,
   "id": "09eac797-29d6-487c-9a94-28f824df88a0",
   "metadata": {},
   "outputs": [],
   "source": []
  }
 ],
 "metadata": {
  "kernelspec": {
   "display_name": "Python 3 (ipykernel)",
   "language": "python",
   "name": "python3"
  },
  "language_info": {
   "codemirror_mode": {
    "name": "ipython",
    "version": 3
   },
   "file_extension": ".py",
   "mimetype": "text/x-python",
   "name": "python",
   "nbconvert_exporter": "python",
   "pygments_lexer": "ipython3",
   "version": "3.10.6"
  }
 },
 "nbformat": 4,
 "nbformat_minor": 5
}
