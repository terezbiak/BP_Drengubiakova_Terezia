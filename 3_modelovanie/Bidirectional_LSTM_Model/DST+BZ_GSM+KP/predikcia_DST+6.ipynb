{
 "cells": [
  {
   "cell_type": "markdown",
   "id": "dd868c7f-5794-4dc9-986f-6396fce1a130",
   "metadata": {},
   "source": [
    "## Model na predikciu DST za pomoci použitia atribútu DST, BZ_GSM a KP o 6 hodín dopredu"
   ]
  },
  {
   "cell_type": "markdown",
   "id": "9fbe0682-671c-4704-8114-80c7b26531ba",
   "metadata": {},
   "source": [
    "Súbor: predikcia_DST+6.ipynb\n",
    "\n",
    "Program: Hospodárska informatika\n",
    "\n",
    "Vypracovala: Terézia Drengubiaková\n",
    "\n",
    "Bakalárska práca: : Prediktívne modely v spracovaní dát z oblasti kozmického počasia\n",
    "\n",
    "Vedúci diplomovej práce: doc. Ing. Peter Butka, PhD.\n",
    "\n",
    "Konzultanti: Ing. Viera Krešňáková, PhD., RNDr. Šimon Mackovjak, PhD."
   ]
  },
  {
   "cell_type": "markdown",
   "id": "9e14807b-51ee-4b20-9b45-d37cbf9ae90a",
   "metadata": {},
   "source": [
    "### Import knižníc"
   ]
  },
  {
   "cell_type": "code",
   "execution_count": 1,
   "id": "24c710a5-5bcb-4a4c-905f-2eef19579e09",
   "metadata": {},
   "outputs": [
    {
     "name": "stderr",
     "output_type": "stream",
     "text": [
      "2024-05-20 20:36:41.418227: I tensorflow/core/platform/cpu_feature_guard.cc:193] This TensorFlow binary is optimized with oneAPI Deep Neural Network Library (oneDNN) to use the following CPU instructions in performance-critical operations:  SSE4.1 SSE4.2 AVX AVX2 FMA\n",
      "To enable them in other operations, rebuild TensorFlow with the appropriate compiler flags.\n"
     ]
    }
   ],
   "source": [
    "import pandas as pd\n",
    "import numpy as np\n",
    "from tensorflow import keras\n",
    "import matplotlib.pyplot as plt\n",
    "from sklearn.preprocessing import MinMaxScaler, StandardScaler\n",
    "from pandas.plotting import register_matplotlib_converters\n",
    "register_matplotlib_converters()\n",
    "import seaborn as sns\n",
    "from tensorflow.keras.preprocessing.sequence import TimeseriesGenerator\n",
    "from keras.models import Sequential\n",
    "from keras.layers import Dense, Activation, Dropout, Input, Conv1D, LSTM, MaxPooling1D, Flatten, TimeDistributed, Bidirectional\n",
    "from tensorflow.keras.callbacks import ModelCheckpoint, EarlyStopping\n",
    "from keras.models import Model\n",
    "from scipy.special import expit, logit\n",
    "from sklearn.metrics import confusion_matrix, classification_report, matthews_corrcoef"
   ]
  },
  {
   "cell_type": "markdown",
   "id": "ea4f8f87-0c66-4814-94e4-96fd393e1419",
   "metadata": {},
   "source": [
    "### Načítanie dát, odstránenie na hodnôt, určenie predikovaného atribútu"
   ]
  },
  {
   "cell_type": "code",
   "execution_count": 2,
   "id": "7387b853-427a-4ef8-9af4-c00073c5f3ae",
   "metadata": {},
   "outputs": [],
   "source": [
    "train = pd.read_csv('train_omni.csv')\n",
    "test = pd.read_csv('test_omni.csv')\n",
    "train['BZ_GSM'] = train['BZ_GSM'].fillna(train['BZ_GSM'].mean())  # Naplní NaN hodnoty priemerom danej stĺpca\n",
    "test['BZ_GSM'] = test['BZ_GSM'].fillna(test['BZ_GSM'].mean()) \n",
    "features = ['time1', 'DST', 'DST+6', 'BZ_GSM']\n",
    "test = test[features]\n",
    "train = train[features]\n",
    "train['time1']=pd.to_datetime(train['time1'])\n",
    "test['time1']=pd.to_datetime(test['time1'])\n",
    "predicators = [\"DST\", \"BZ_GSM\"]\n",
    "y_col='DST+6'\n",
    "valid_size = int(len(train) * 0.2)\n",
    "valid = train.iloc[-valid_size:,:].copy()\n",
    "train = train.iloc[:-valid_size,:].copy()\n",
    "\n",
    "y_train = train[y_col].values.copy()\n",
    "X_train = train[predicators].values.copy()\n",
    "y_val = valid[y_col].values.copy()\n",
    "X_val = valid[predicators].values.copy()\n",
    "y_test = test[y_col].values.copy()\n",
    "X_test = test[predicators].values.copy()"
   ]
  },
  {
   "cell_type": "markdown",
   "id": "61feba99-dd49-41be-86ee-242841b83640",
   "metadata": {},
   "source": [
    "### Definícia premenných a vytvorenie dátových generátorov"
   ]
  },
  {
   "cell_type": "code",
   "execution_count": 3,
   "id": "02b9a544-9fd4-4861-8796-323ecfd83957",
   "metadata": {
    "tags": []
   },
   "outputs": [],
   "source": [
    "n_input = 6  \n",
    "n_features= len(X_train)  \n",
    "b_size = 256  \n",
    "\n",
    "train_generator = TimeseriesGenerator(X_train, y_train, length=n_input, batch_size=b_size)\n",
    "val_generator = TimeseriesGenerator(X_val, y_val, length=n_input, batch_size=b_size)\n",
    "test_generator = TimeseriesGenerator(X_test, y_test, length=n_input, batch_size=256)"
   ]
  },
  {
   "cell_type": "code",
   "execution_count": 4,
   "id": "634e08c1-3637-4073-ac91-f6ea4d31d063",
   "metadata": {},
   "outputs": [
    {
     "name": "stdout",
     "output_type": "stream",
     "text": [
      "Počet batchov:  896\n",
      "Každý batch má features (X zložku) a labels (y zložku):  2\n",
      "Dĺžka X zložky batchu:  256\n",
      "Dĺžka y zložky batchu (počet meraní v batchi):  256\n",
      "Počet riadkov braných do úvahy pre jedno meranie (koľko sa pozerá dozadu):  6\n"
     ]
    }
   ],
   "source": [
    "print(\"Počet batchov: \", len(train_generator))\n",
    "print(\"Každý batch má features (X zložku) a labels (y zložku): \", len(train_generator[0]))\n",
    "print(\"Dĺžka X zložky batchu: \", len(train_generator[0][0]))\n",
    "print(\"Dĺžka y zložky batchu (počet meraní v batchi): \",len(train_generator[0][1]))\n",
    "print(\"Počet riadkov braných do úvahy pre jedno meranie (koľko sa pozerá dozadu): \", len(train_generator[0][0][0]))"
   ]
  },
  {
   "cell_type": "markdown",
   "id": "cfaebb17-b02b-4aec-ab6d-a7a97de16980",
   "metadata": {},
   "source": [
    "### Vytvorenie modelu"
   ]
  },
  {
   "cell_type": "code",
   "execution_count": 5,
   "id": "60a0d6fc-2c98-49e5-a86a-3802748c4f93",
   "metadata": {},
   "outputs": [
    {
     "name": "stderr",
     "output_type": "stream",
     "text": [
      "2024-05-20 20:36:49.799714: I tensorflow/core/platform/cpu_feature_guard.cc:193] This TensorFlow binary is optimized with oneAPI Deep Neural Network Library (oneDNN) to use the following CPU instructions in performance-critical operations:  SSE4.1 SSE4.2 AVX AVX2 FMA\n",
      "To enable them in other operations, rebuild TensorFlow with the appropriate compiler flags.\n"
     ]
    },
    {
     "name": "stdout",
     "output_type": "stream",
     "text": [
      "Model: \"model\"\n",
      "_________________________________________________________________\n",
      " Layer (type)                Output Shape              Param #   \n",
      "=================================================================\n",
      " input_1 (InputLayer)        [(None, 6, 2)]            0         \n",
      "                                                                 \n",
      " bidirectional (Bidirectiona  (None, 6, 256)           134144    \n",
      " l)                                                              \n",
      "                                                                 \n",
      " lstm_1 (LSTM)               (None, 6, 128)            197120    \n",
      "                                                                 \n",
      " time_distributed (TimeDistr  (None, 6, 1)             129       \n",
      " ibuted)                                                         \n",
      "                                                                 \n",
      " flatten (Flatten)           (None, 6)                 0         \n",
      "                                                                 \n",
      " dense_1 (Dense)             (None, 1)                 7         \n",
      "                                                                 \n",
      "=================================================================\n",
      "Total params: 331,400\n",
      "Trainable params: 331,400\n",
      "Non-trainable params: 0\n",
      "_________________________________________________________________\n",
      "None\n"
     ]
    }
   ],
   "source": [
    "inputs = Input(shape=(6,2))\n",
    "c = Bidirectional(LSTM(128, return_sequences=True, dropout=0.1,recurrent_dropout=0.1))(inputs)\n",
    "c = LSTM(128, return_sequences=True)(c)\n",
    "c = TimeDistributed(Dense(1, activation='linear'))(c)\n",
    "output = Flatten()(c)\n",
    "output = Dense(1, activation='linear')(output)\n",
    "model = Model(inputs=inputs, outputs=output)\n",
    "model.compile(loss='mse', optimizer='adam', metrics=[\"mae\"])\n",
    "print(model.summary())"
   ]
  },
  {
   "cell_type": "code",
   "execution_count": 6,
   "id": "a3f35d02-c177-428d-a3c2-3919ded4d622",
   "metadata": {},
   "outputs": [],
   "source": [
    "saved_model = \"6h_dopredu200+BZ.hdf5\"\n",
    "checkpoint = ModelCheckpoint(saved_model, monitor='val_mae', verbose=1, save_best_only=True, mode='min')\n",
    "early = EarlyStopping(monitor=\"val_mae\", mode=\"min\", patience=25)\n",
    "callbacks_list = [checkpoint, early]"
   ]
  },
  {
   "cell_type": "markdown",
   "id": "07b9e201-4d2e-4fc0-b55d-d1a8651cb3a3",
   "metadata": {},
   "source": [
    "### Trénovanie"
   ]
  },
  {
   "cell_type": "code",
   "execution_count": 7,
   "id": "0d644cf6-2506-4af9-8b99-9559a748f662",
   "metadata": {
    "collapsed": true,
    "jupyter": {
     "outputs_hidden": true
    },
    "tags": []
   },
   "outputs": [
    {
     "name": "stdout",
     "output_type": "stream",
     "text": [
      "Epoch 1/200\n",
      "896/896 [==============================] - ETA: 0s - loss: 217.3116 - mae: 8.8821\n",
      "Epoch 1: val_mae improved from inf to 9.88426, saving model to 6h_dopredu200+BZ.hdf5\n",
      "896/896 [==============================] - 64s 65ms/step - loss: 217.3116 - mae: 8.8821 - val_loss: 307.0596 - val_mae: 9.8843\n",
      "Epoch 2/200\n",
      "896/896 [==============================] - ETA: 0s - loss: 161.0509 - mae: 7.9460\n",
      "Epoch 2: val_mae improved from 9.88426 to 9.39469, saving model to 6h_dopredu200+BZ.hdf5\n",
      "896/896 [==============================] - 55s 61ms/step - loss: 161.0509 - mae: 7.9460 - val_loss: 258.5621 - val_mae: 9.3947\n",
      "Epoch 3/200\n",
      "895/896 [============================>.] - ETA: 0s - loss: 154.5922 - mae: 7.8644\n",
      "Epoch 3: val_mae did not improve from 9.39469\n",
      "896/896 [==============================] - 56s 62ms/step - loss: 154.5271 - mae: 7.8645 - val_loss: 272.2454 - val_mae: 9.7512\n",
      "Epoch 4/200\n",
      "896/896 [==============================] - ETA: 0s - loss: 150.4288 - mae: 7.8056\n",
      "Epoch 4: val_mae improved from 9.39469 to 9.16343, saving model to 6h_dopredu200+BZ.hdf5\n",
      "896/896 [==============================] - 55s 62ms/step - loss: 150.4288 - mae: 7.8056 - val_loss: 247.1618 - val_mae: 9.1634\n",
      "Epoch 5/200\n",
      "896/896 [==============================] - ETA: 0s - loss: 147.1967 - mae: 7.7212\n",
      "Epoch 5: val_mae did not improve from 9.16343\n",
      "896/896 [==============================] - 51s 57ms/step - loss: 147.1967 - mae: 7.7212 - val_loss: 244.6796 - val_mae: 9.2211\n",
      "Epoch 6/200\n",
      "896/896 [==============================] - ETA: 0s - loss: 145.6072 - mae: 7.6977\n",
      "Epoch 6: val_mae did not improve from 9.16343\n",
      "896/896 [==============================] - 55s 61ms/step - loss: 145.6072 - mae: 7.6977 - val_loss: 259.9558 - val_mae: 9.4277\n",
      "Epoch 7/200\n",
      "895/896 [============================>.] - ETA: 0s - loss: 143.3840 - mae: 7.6602\n",
      "Epoch 7: val_mae did not improve from 9.16343\n",
      "896/896 [==============================] - 55s 61ms/step - loss: 143.3610 - mae: 7.6611 - val_loss: 250.9926 - val_mae: 9.4977\n",
      "Epoch 8/200\n",
      "556/896 [=================>............] - ETA: 19s - loss: 144.4215 - mae: 7.6008"
     ]
    },
    {
     "name": "stderr",
     "output_type": "stream",
     "text": [
      "IOPub message rate exceeded.\n",
      "The Jupyter server will temporarily stop sending output\n",
      "to the client in order to avoid crashing it.\n",
      "To change this limit, set the config variable\n",
      "`--ServerApp.iopub_msg_rate_limit`.\n",
      "\n",
      "Current values:\n",
      "ServerApp.iopub_msg_rate_limit=1000.0 (msgs/sec)\n",
      "ServerApp.rate_limit_window=3.0 (secs)\n",
      "\n"
     ]
    },
    {
     "name": "stdout",
     "output_type": "stream",
     "text": [
      "896/896 [==============================] - ETA: 0s - loss: 135.9597 - mae: 7.5178\n",
      "Epoch 18: val_mae did not improve from 9.16343\n",
      "896/896 [==============================] - 56s 62ms/step - loss: 135.9597 - mae: 7.5178 - val_loss: 246.7505 - val_mae: 9.3379\n",
      "Epoch 19/200\n",
      "895/896 [============================>.] - ETA: 0s - loss: 136.6041 - mae: 7.5176\n",
      "Epoch 19: val_mae improved from 9.16343 to 9.00667, saving model to 6h_dopredu200+BZ.hdf5\n",
      "896/896 [==============================] - 56s 62ms/step - loss: 136.5779 - mae: 7.5174 - val_loss: 219.8609 - val_mae: 9.0067\n",
      "Epoch 20/200\n",
      " 60/896 [=>............................] - ETA: 47s - loss: 145.7846 - mae: 7.8010"
     ]
    },
    {
     "name": "stderr",
     "output_type": "stream",
     "text": [
      "IOPub message rate exceeded.\n",
      "The Jupyter server will temporarily stop sending output\n",
      "to the client in order to avoid crashing it.\n",
      "To change this limit, set the config variable\n",
      "`--ServerApp.iopub_msg_rate_limit`.\n",
      "\n",
      "Current values:\n",
      "ServerApp.iopub_msg_rate_limit=1000.0 (msgs/sec)\n",
      "ServerApp.rate_limit_window=3.0 (secs)\n",
      "\n"
     ]
    },
    {
     "name": "stdout",
     "output_type": "stream",
     "text": [
      "895/896 [============================>.] - ETA: 0s - loss: 135.0685 - mae: 7.4947\n",
      "Epoch 21: val_mae did not improve from 9.00667\n",
      "896/896 [==============================] - 56s 62ms/step - loss: 134.9844 - mae: 7.4929 - val_loss: 282.0108 - val_mae: 10.1914\n",
      "Epoch 22/200\n",
      "896/896 [==============================] - ETA: 0s - loss: 134.8512 - mae: 7.4906\n",
      "Epoch 22: val_mae did not improve from 9.00667\n",
      "896/896 [==============================] - 56s 63ms/step - loss: 134.8512 - mae: 7.4906 - val_loss: 259.8038 - val_mae: 9.5931\n",
      "Epoch 23/200\n",
      "896/896 [==============================] - ETA: 0s - loss: 134.3882 - mae: 7.4795\n",
      "Epoch 23: val_mae did not improve from 9.00667\n",
      "896/896 [==============================] - 56s 62ms/step - loss: 134.3882 - mae: 7.4795 - val_loss: 240.1309 - val_mae: 9.3316\n",
      "Epoch 24/200\n",
      "256/896 [=======>......................] - ETA: 36s - loss: 128.2042 - mae: 7.4845"
     ]
    },
    {
     "name": "stderr",
     "output_type": "stream",
     "text": [
      "IOPub message rate exceeded.\n",
      "The Jupyter server will temporarily stop sending output\n",
      "to the client in order to avoid crashing it.\n",
      "To change this limit, set the config variable\n",
      "`--ServerApp.iopub_msg_rate_limit`.\n",
      "\n",
      "Current values:\n",
      "ServerApp.iopub_msg_rate_limit=1000.0 (msgs/sec)\n",
      "ServerApp.rate_limit_window=3.0 (secs)\n",
      "\n"
     ]
    },
    {
     "name": "stdout",
     "output_type": "stream",
     "text": [
      "896/896 [==============================] - ETA: 0s - loss: 129.7088 - mae: 7.4135\n",
      "Epoch 34: val_mae did not improve from 9.00667\n",
      "896/896 [==============================] - 56s 63ms/step - loss: 129.7088 - mae: 7.4135 - val_loss: 237.5754 - val_mae: 9.2878\n",
      "Epoch 35/200\n",
      "742/896 [=======================>......] - ETA: 8s - loss: 126.3858 - mae: 7.3900"
     ]
    },
    {
     "name": "stderr",
     "output_type": "stream",
     "text": [
      "IOPub message rate exceeded.\n",
      "The Jupyter server will temporarily stop sending output\n",
      "to the client in order to avoid crashing it.\n",
      "To change this limit, set the config variable\n",
      "`--ServerApp.iopub_msg_rate_limit`.\n",
      "\n",
      "Current values:\n",
      "ServerApp.iopub_msg_rate_limit=1000.0 (msgs/sec)\n",
      "ServerApp.rate_limit_window=3.0 (secs)\n",
      "\n"
     ]
    },
    {
     "name": "stdout",
     "output_type": "stream",
     "text": [
      "896/896 [==============================] - ETA: 0s - loss: 128.6562 - mae: 7.4038\n",
      "Epoch 37: val_mae did not improve from 9.00667\n",
      "896/896 [==============================] - 56s 62ms/step - loss: 128.6562 - mae: 7.4038 - val_loss: 242.3991 - val_mae: 9.3834\n",
      "Epoch 38/200\n",
      "896/896 [==============================] - ETA: 0s - loss: 128.9164 - mae: 7.4000\n",
      "Epoch 38: val_mae did not improve from 9.00667\n",
      "896/896 [==============================] - 56s 63ms/step - loss: 128.9164 - mae: 7.4000 - val_loss: 236.9121 - val_mae: 9.1403\n",
      "Epoch 39/200\n",
      "896/896 [==============================] - ETA: 0s - loss: 128.9316 - mae: 7.4048\n",
      "Epoch 39: val_mae did not improve from 9.00667\n",
      "896/896 [==============================] - 57s 63ms/step - loss: 128.9316 - mae: 7.4048 - val_loss: 265.0014 - val_mae: 9.8384\n",
      "Epoch 40/200\n",
      "119/896 [==>...........................] - ETA: 44s - loss: 127.6853 - mae: 7.5133"
     ]
    },
    {
     "name": "stderr",
     "output_type": "stream",
     "text": [
      "IOPub message rate exceeded.\n",
      "The Jupyter server will temporarily stop sending output\n",
      "to the client in order to avoid crashing it.\n",
      "To change this limit, set the config variable\n",
      "`--ServerApp.iopub_msg_rate_limit`.\n",
      "\n",
      "Current values:\n",
      "ServerApp.iopub_msg_rate_limit=1000.0 (msgs/sec)\n",
      "ServerApp.rate_limit_window=3.0 (secs)\n",
      "\n"
     ]
    }
   ],
   "source": [
    "history = model.fit(train_generator, validation_data=val_generator, epochs=200, verbose=1, callbacks = callbacks_list)"
   ]
  },
  {
   "cell_type": "markdown",
   "id": "2158653e-bd5b-41d7-bcc6-831685cff338",
   "metadata": {},
   "source": [
    "### Načítanie najlepšieho modelu"
   ]
  },
  {
   "cell_type": "code",
   "execution_count": 8,
   "id": "cadb072b-c0eb-4219-a414-7531a609fd57",
   "metadata": {},
   "outputs": [],
   "source": [
    "model = keras.models.load_model('6h_dopredu200+BZ.hdf5')"
   ]
  },
  {
   "cell_type": "markdown",
   "id": "22548f1c-cbc0-44f5-b753-79fc0d75f1ea",
   "metadata": {},
   "source": [
    "### Vytvorenie predikcií"
   ]
  },
  {
   "cell_type": "code",
   "execution_count": 9,
   "id": "e5dedb9d-c147-4481-b96f-6e616767ac7f",
   "metadata": {},
   "outputs": [
    {
     "name": "stdout",
     "output_type": "stream",
     "text": [
      "633/633 [==============================] - 16s 23ms/step\n"
     ]
    }
   ],
   "source": [
    "y_pred = model.predict(test_generator)"
   ]
  },
  {
   "cell_type": "markdown",
   "id": "9124f24a-67dc-4e28-a765-1d7e015a906a",
   "metadata": {},
   "source": [
    "### Nájdenie optimálneho thresholdu na validačnej sade"
   ]
  },
  {
   "cell_type": "code",
   "execution_count": 11,
   "id": "4c33934f-8978-4642-a327-7f4783f96a21",
   "metadata": {},
   "outputs": [
    {
     "name": "stdout",
     "output_type": "stream",
     "text": [
      "224/224 [==============================] - 5s 23ms/step\n",
      "Best Threshold for MCC on Validation Set: -17.699999999999974\n",
      "Best MCC on Validation Set: 0.7237730795194612\n"
     ]
    }
   ],
   "source": [
    "y_val_pred = model.predict(val_generator)\n",
    "\n",
    "true_labels_val = np.where(y_val[n_input:] <= -20, 1, 0) \n",
    "\n",
    "def calculate_mcc(y_true, y_pred):\n",
    "    return matthews_corrcoef(y_true, y_pred)\n",
    "\n",
    "thresholds = np.arange(-10, -40, -0.1)\n",
    "mcc_scores = []\n",
    "\n",
    "for thresh in thresholds:\n",
    "    predictions = np.where(y_val_pred <= thresh, 1, 0)\n",
    "    mcc = calculate_mcc(true_labels_val, predictions)\n",
    "    mcc_scores.append(mcc)\n",
    "\n",
    "best_threshold_mcc = thresholds[np.argmax(mcc_scores)]\n",
    "best_mcc = max(mcc_scores)\n",
    "\n",
    "print(\"Best Threshold for MCC on Validation Set:\", best_threshold_mcc)\n",
    "print(\"Best MCC on Validation Set:\", best_mcc)\n",
    "best_threshold_mcc_rounded = round(best_threshold_mcc, 1)\n"
   ]
  },
  {
   "cell_type": "markdown",
   "id": "664ffecd-e623-445b-8f59-0ef3be8475ff",
   "metadata": {},
   "source": [
    "### Výpočet metrík, vykreslenie grafu predikcie a uloženie predikcií"
   ]
  },
  {
   "cell_type": "code",
   "execution_count": 10,
   "id": "d1af153b-bae7-440f-9c89-fe60b0e85baf",
   "metadata": {},
   "outputs": [
    {
     "name": "stdout",
     "output_type": "stream",
     "text": [
      "Mean Squared Error: 33.82734936513145\n"
     ]
    }
   ],
   "source": [
    "from sklearn.metrics import mean_squared_error\n",
    "y_test2 = y_test[:-6]\n",
    "mse = mean_squared_error(y_test2, y_pred.reshape(-1))\n",
    "print(f\"Mean Squared Error: {mse}\")"
   ]
  },
  {
   "cell_type": "code",
   "execution_count": 12,
   "id": "e975e1ab-ac1b-4791-8b0b-1a7121542ac9",
   "metadata": {},
   "outputs": [
    {
     "name": "stdout",
     "output_type": "stream",
     "text": [
      "Confusion matrix: \n",
      "[[123535   6454]\n",
      " [  9853  22188]]\n"
     ]
    }
   ],
   "source": [
    "y_pred2 = np.where(y_pred <= best_threshold_mcc_rounded, 1, 0)\n",
    "y_test2 = np.where(y_test[n_input:]  <= -20, 1, 0)\n",
    "\n",
    "cm = confusion_matrix(y_test2, y_pred2)\n",
    "print(\"Confusion matrix: \\n\" + str(cm))"
   ]
  },
  {
   "cell_type": "code",
   "execution_count": 13,
   "id": "61fef047-3308-486f-a170-6f26989e74ba",
   "metadata": {},
   "outputs": [
    {
     "name": "stdout",
     "output_type": "stream",
     "text": [
      "              precision    recall  f1-score   support\n",
      "\n",
      "           0       0.93      0.95      0.94    129989\n",
      "           1       0.77      0.69      0.73     32041\n",
      "\n",
      "    accuracy                           0.90    162030\n",
      "   macro avg       0.85      0.82      0.83    162030\n",
      "weighted avg       0.90      0.90      0.90    162030\n",
      "\n"
     ]
    }
   ],
   "source": [
    "print(classification_report(y_test2, y_pred2))\n"
   ]
  },
  {
   "cell_type": "code",
   "execution_count": 14,
   "id": "92c383bf-5d98-4608-a256-24c0c23f49a9",
   "metadata": {},
   "outputs": [
    {
     "data": {
      "image/png": "[encoded data removed]",
      "text/plain": [
       "<Figure size 640x480 with 1 Axes>"
      ]
     },
     "metadata": {},
     "output_type": "display_data"
    }
   ],
   "source": [
    "df = pd.DataFrame(data={\"time\": test['time1'][n_input:],\"y_true\": y_test[n_input:].reshape(-1) , \"y_predict\": y_pred.reshape(-1)})\n",
    "\n",
    "plt.figure()\n",
    "plt.title('Predicting the change in DST Index')\n",
    "plt.plot(df['time'],df['y_true'], label='Skutočné hodnoty')\n",
    "plt.plot(df['time'],df['y_predict'], label='Predikované hodnoty')\n",
    "plt.legend()\n",
    "plt.gcf().autofmt_xdate()\n",
    "plt.grid(True)"
   ]
  },
  {
   "cell_type": "code",
   "execution_count": 15,
   "id": "42173a9a-ed85-49e7-8b02-6e76c2ff7b31",
   "metadata": {},
   "outputs": [],
   "source": [
    "df.to_csv('6h_dopredu+200+BZ.csv')"
   ]
  },
  {
   "cell_type": "code",
   "execution_count": 16,
   "id": "9b96f626-9bc0-4758-a7bd-70ec64066e33",
   "metadata": {},
   "outputs": [
    {
     "name": "stdout",
     "output_type": "stream",
     "text": [
      "ACC=0.899358143553663\n",
      "MCC=0.6711929934551714\n"
     ]
    }
   ],
   "source": [
    "TN, FP, FN, TP = cm.ravel()\n",
    "ACC = (TP + TN) / (TP + TN + FP + FN)\n",
    "MCC = matthews_corrcoef(y_test2, y_pred2)\n",
    "print(\"ACC={}\".format(ACC))\n",
    "print(\"MCC={}\".format(MCC))"
   ]
  },
  {
   "cell_type": "code",
   "execution_count": null,
   "id": "ce143fda-25cd-45c4-a315-525c07a968ac",
   "metadata": {},
   "outputs": [],
   "source": []
  }
 ],
 "metadata": {
  "kernelspec": {
   "display_name": "Python 3 (ipykernel)",
   "language": "python",
   "name": "python3"
  },
  "language_info": {
   "codemirror_mode": {
    "name": "ipython",
    "version": 3
   },
   "file_extension": ".py",
   "mimetype": "text/x-python",
   "name": "python",
   "nbconvert_exporter": "python",
   "pygments_lexer": "ipython3",
   "version": "3.10.6"
  }
 },
 "nbformat": 4,
 "nbformat_minor": 5
}
