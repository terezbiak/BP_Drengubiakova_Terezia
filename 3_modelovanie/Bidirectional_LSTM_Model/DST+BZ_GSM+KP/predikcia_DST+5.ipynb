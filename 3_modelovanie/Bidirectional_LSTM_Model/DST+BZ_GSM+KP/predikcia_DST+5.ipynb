{
 "cells": [
  {
   "cell_type": "code",
   "execution_count": 1,
   "id": "5de6ff54-6d93-44d9-b962-793c72fe29cb",
   "metadata": {},
   "outputs": [
    {
     "name": "stderr",
     "output_type": "stream",
     "text": [
      "2024-05-20 20:36:44.379707: I tensorflow/core/platform/cpu_feature_guard.cc:193] This TensorFlow binary is optimized with oneAPI Deep Neural Network Library (oneDNN) to use the following CPU instructions in performance-critical operations:  SSE4.1 SSE4.2 AVX AVX2 FMA\n",
      "To enable them in other operations, rebuild TensorFlow with the appropriate compiler flags.\n"
     ]
    }
   ],
   "source": [
    "import pandas as pd\n",
    "import numpy as np\n",
    "from tensorflow import keras\n",
    "import matplotlib.pyplot as plt\n",
    "from sklearn.preprocessing import MinMaxScaler, StandardScaler\n",
    "from pandas.plotting import register_matplotlib_converters\n",
    "register_matplotlib_converters()\n",
    "import seaborn as sns\n",
    "from tensorflow.keras.preprocessing.sequence import TimeseriesGenerator\n",
    "from keras.models import Sequential\n",
    "from keras.layers import Dense, Activation, Dropout, Input, Conv1D, LSTM, MaxPooling1D, Flatten, TimeDistributed, Bidirectional\n",
    "from tensorflow.keras.callbacks import ModelCheckpoint, EarlyStopping\n",
    "from keras.models import Model\n",
    "from scipy.special import expit, logit\n",
    "from sklearn.metrics import confusion_matrix, classification_report, matthews_corrcoef"
   ]
  },
  {
   "cell_type": "code",
   "execution_count": 2,
   "id": "f783db96-b45a-4f6c-9da4-7a85de6fb5b4",
   "metadata": {},
   "outputs": [],
   "source": [
    "train = pd.read_csv('train_omni.csv')\n",
    "test = pd.read_csv('test_omni.csv')\n",
    "train['BZ_GSM'] = train['BZ_GSM'].fillna(train['BZ_GSM'].mean())  # Naplní NaN hodnoty priemerom danej stĺpca\n",
    "test['BZ_GSM'] = test['BZ_GSM'].fillna(test['BZ_GSM'].mean())  \n",
    "features = ['time1', 'DST', 'DST+5', 'BZ_GSM', 'KP']\n",
    "test = test[features]\n",
    "train = train[features]\n",
    "train['time1']=pd.to_datetime(train['time1'])\n",
    "test['time1']=pd.to_datetime(test['time1'])\n",
    "predicators = [\"DST\", \"BZ_GSM\", \"KP\"]\n",
    "y_col='DST+5'\n",
    "valid_size = int(len(train) * 0.2)\n",
    "valid = train.iloc[-valid_size:,:].copy()\n",
    "train = train.iloc[:-valid_size,:].copy()\n",
    "\n",
    "y_train = train[y_col].values.copy()\n",
    "X_train = train[predicators].values.copy()\n",
    "y_val = valid[y_col].values.copy()\n",
    "X_val = valid[predicators].values.copy()\n",
    "y_test = test[y_col].values.copy()\n",
    "X_test = test[predicators].values.copy()"
   ]
  },
  {
   "cell_type": "code",
   "execution_count": 3,
   "id": "21dc3709-f122-4b33-acc8-340cb9eaafe4",
   "metadata": {},
   "outputs": [],
   "source": [
    "n_input = 6  \n",
    "n_features= len(X_train)  \n",
    "b_size = 256  \n",
    "\n",
    "train_generator = TimeseriesGenerator(X_train, y_train, length=n_input, batch_size=b_size)\n",
    "val_generator = TimeseriesGenerator(X_val, y_val, length=n_input, batch_size=b_size)\n",
    "test_generator = TimeseriesGenerator(X_test, y_test, length=n_input, batch_size=256)"
   ]
  },
  {
   "cell_type": "code",
   "execution_count": 4,
   "id": "b66fe2fe-44a3-454e-b417-51db9da42266",
   "metadata": {},
   "outputs": [
    {
     "name": "stdout",
     "output_type": "stream",
     "text": [
      "Počet batchov:  896\n",
      "Každý batch má features (X zložku) a labels (y zložku):  2\n",
      "Dĺžka X zložky batchu:  256\n",
      "Dĺžka y zložky batchu (počet meraní v batchi):  256\n",
      "Počet riadkov braných do úvahy pre jedno meranie (koľko sa pozerá dozadu):  6\n"
     ]
    }
   ],
   "source": [
    "print(\"Počet batchov: \", len(train_generator))\n",
    "print(\"Každý batch má features (X zložku) a labels (y zložku): \", len(train_generator[0]))\n",
    "print(\"Dĺžka X zložky batchu: \", len(train_generator[0][0]))\n",
    "print(\"Dĺžka y zložky batchu (počet meraní v batchi): \",len(train_generator[0][1]))\n",
    "print(\"Počet riadkov braných do úvahy pre jedno meranie (koľko sa pozerá dozadu): \", len(train_generator[0][0][0]))"
   ]
  },
  {
   "cell_type": "code",
   "execution_count": 5,
   "id": "62f4be23-993b-4a71-9a21-ebec2af46f4f",
   "metadata": {},
   "outputs": [
    {
     "name": "stderr",
     "output_type": "stream",
     "text": [
      "2024-05-20 20:36:50.667788: I tensorflow/core/platform/cpu_feature_guard.cc:193] This TensorFlow binary is optimized with oneAPI Deep Neural Network Library (oneDNN) to use the following CPU instructions in performance-critical operations:  SSE4.1 SSE4.2 AVX AVX2 FMA\n",
      "To enable them in other operations, rebuild TensorFlow with the appropriate compiler flags.\n"
     ]
    },
    {
     "name": "stdout",
     "output_type": "stream",
     "text": [
      "Model: \"model\"\n",
      "_________________________________________________________________\n",
      " Layer (type)                Output Shape              Param #   \n",
      "=================================================================\n",
      " input_1 (InputLayer)        [(None, 6, 3)]            0         \n",
      "                                                                 \n",
      " bidirectional (Bidirectiona  (None, 6, 256)           135168    \n",
      " l)                                                              \n",
      "                                                                 \n",
      " lstm_1 (LSTM)               (None, 6, 128)            197120    \n",
      "                                                                 \n",
      " time_distributed (TimeDistr  (None, 6, 1)             129       \n",
      " ibuted)                                                         \n",
      "                                                                 \n",
      " flatten (Flatten)           (None, 6)                 0         \n",
      "                                                                 \n",
      " dense_1 (Dense)             (None, 1)                 7         \n",
      "                                                                 \n",
      "=================================================================\n",
      "Total params: 332,424\n",
      "Trainable params: 332,424\n",
      "Non-trainable params: 0\n",
      "_________________________________________________________________\n",
      "None\n"
     ]
    }
   ],
   "source": [
    "inputs = Input(shape=(6,3))\n",
    "c = Bidirectional(LSTM(128, return_sequences=True, dropout=0.1,recurrent_dropout=0.1))(inputs)\n",
    "c = LSTM(128, return_sequences=True)(c)\n",
    "c = TimeDistributed(Dense(1, activation='linear'))(c)\n",
    "output = Flatten()(c)\n",
    "output = Dense(1, activation='linear')(output)\n",
    "model = Model(inputs=inputs, outputs=output)\n",
    "model.compile(loss='mse', optimizer='adam', metrics=[\"mae\"])\n",
    "print(model.summary())"
   ]
  },
  {
   "cell_type": "code",
   "execution_count": 6,
   "id": "8d1a40da-fa1c-4b3d-bdbd-e4d7793b01a2",
   "metadata": {},
   "outputs": [],
   "source": [
    "saved_model = \"5h_dopredu200+BZ+KP.hdf5\"\n",
    "checkpoint = ModelCheckpoint(saved_model, monitor='val_mae', verbose=1, save_best_only=True, mode='min')\n",
    "early = EarlyStopping(monitor=\"val_mae\", mode=\"min\", patience=25)\n",
    "callbacks_list = [checkpoint, early]"
   ]
  },
  {
   "cell_type": "code",
   "execution_count": 7,
   "id": "983fbac3-9067-4fe7-8f61-cac9d641ce0a",
   "metadata": {
    "tags": []
   },
   "outputs": [
    {
     "name": "stdout",
     "output_type": "stream",
     "text": [
      "Epoch 1/200\n",
      "896/896 [==============================] - ETA: 0s - loss: 216.5898 - mae: 8.5731\n",
      "Epoch 1: val_mae improved from inf to 8.79905, saving model to 5h_dopredu200+BZ+KP.hdf5\n",
      "896/896 [==============================] - 64s 64ms/step - loss: 216.5898 - mae: 8.5731 - val_loss: 263.9133 - val_mae: 8.7990\n",
      "Epoch 2/200\n",
      "896/896 [==============================] - ETA: 0s - loss: 129.1533 - mae: 7.2059\n",
      "Epoch 2: val_mae improved from 8.79905 to 8.69203, saving model to 5h_dopredu200+BZ+KP.hdf5\n",
      "896/896 [==============================] - 55s 62ms/step - loss: 129.1533 - mae: 7.2059 - val_loss: 226.7019 - val_mae: 8.6920\n",
      "Epoch 3/200\n",
      "896/896 [==============================] - ETA: 0s - loss: 121.4408 - mae: 7.1297\n",
      "Epoch 3: val_mae improved from 8.69203 to 8.57695, saving model to 5h_dopredu200+BZ+KP.hdf5\n",
      "896/896 [==============================] - 55s 61ms/step - loss: 121.4408 - mae: 7.1297 - val_loss: 209.3314 - val_mae: 8.5770\n",
      "Epoch 4/200\n",
      "896/896 [==============================] - ETA: 0s - loss: 116.1195 - mae: 7.0170\n",
      "Epoch 4: val_mae did not improve from 8.57695\n",
      "896/896 [==============================] - 55s 62ms/step - loss: 116.1195 - mae: 7.0170 - val_loss: 248.9837 - val_mae: 9.2575\n",
      "Epoch 5/200\n",
      "895/896 [============================>.] - ETA: 0s - loss: 115.3964 - mae: 7.0358\n",
      "Epoch 5: val_mae did not improve from 8.57695\n",
      "896/896 [==============================] - 55s 62ms/step - loss: 115.7832 - mae: 7.0374 - val_loss: 236.7996 - val_mae: 9.2024\n",
      "Epoch 6/200\n",
      "896/896 [==============================] - ETA: 0s - loss: 114.8633 - mae: 7.0172\n",
      "Epoch 6: val_mae did not improve from 8.57695\n",
      "896/896 [==============================] - 55s 61ms/step - loss: 114.8633 - mae: 7.0172 - val_loss: 211.2598 - val_mae: 8.7926\n",
      "Epoch 7/200\n",
      "896/896 [==============================] - ETA: 0s - loss: 112.3956 - mae: 6.9454\n",
      "Epoch 7: val_mae did not improve from 8.57695\n",
      "896/896 [==============================] - 54s 61ms/step - loss: 112.3956 - mae: 6.9454 - val_loss: 207.6987 - val_mae: 8.8581\n",
      "Epoch 8/200\n",
      "545/896 [=================>............] - ETA: 19s - loss: 106.4948 - mae: 6.8676"
     ]
    },
    {
     "name": "stderr",
     "output_type": "stream",
     "text": [
      "IOPub message rate exceeded.\n",
      "The Jupyter server will temporarily stop sending output\n",
      "to the client in order to avoid crashing it.\n",
      "To change this limit, set the config variable\n",
      "`--ServerApp.iopub_msg_rate_limit`.\n",
      "\n",
      "Current values:\n",
      "ServerApp.iopub_msg_rate_limit=1000.0 (msgs/sec)\n",
      "ServerApp.rate_limit_window=3.0 (secs)\n",
      "\n"
     ]
    },
    {
     "name": "stdout",
     "output_type": "stream",
     "text": [
      "896/896 [==============================] - ETA: 0s - loss: 109.0199 - mae: 6.8780\n",
      "Epoch 20: val_mae did not improve from 8.19941\n",
      "896/896 [==============================] - 55s 62ms/step - loss: 109.0199 - mae: 6.8780 - val_loss: 187.9577 - val_mae: 8.3705\n",
      "Epoch 21/200\n",
      "896/896 [==============================] - ETA: 0s - loss: 107.9656 - mae: 6.8639\n",
      "Epoch 21: val_mae did not improve from 8.19941\n",
      "896/896 [==============================] - 55s 62ms/step - loss: 107.9656 - mae: 6.8639 - val_loss: 189.0096 - val_mae: 8.2832\n",
      "Epoch 22/200\n",
      "896/896 [==============================] - ETA: 0s - loss: 107.3299 - mae: 6.8335\n",
      "Epoch 22: val_mae did not improve from 8.19941\n",
      "896/896 [==============================] - 55s 62ms/step - loss: 107.3299 - mae: 6.8335 - val_loss: 211.3188 - val_mae: 8.7588\n",
      "Epoch 23/200\n",
      "896/896 [==============================] - ETA: 0s - loss: 107.2953 - mae: 6.8536\n",
      "Epoch 23: val_mae did not improve from 8.19941\n",
      "896/896 [==============================] - 56s 63ms/step - loss: 107.2953 - mae: 6.8536 - val_loss: 227.3112 - val_mae: 9.1239\n",
      "Epoch 24/200\n",
      "599/896 [===================>..........] - ETA: 16s - loss: 112.3083 - mae: 6.9369"
     ]
    },
    {
     "name": "stderr",
     "output_type": "stream",
     "text": [
      "IOPub message rate exceeded.\n",
      "The Jupyter server will temporarily stop sending output\n",
      "to the client in order to avoid crashing it.\n",
      "To change this limit, set the config variable\n",
      "`--ServerApp.iopub_msg_rate_limit`.\n",
      "\n",
      "Current values:\n",
      "ServerApp.iopub_msg_rate_limit=1000.0 (msgs/sec)\n",
      "ServerApp.rate_limit_window=3.0 (secs)\n",
      "\n"
     ]
    },
    {
     "name": "stdout",
     "output_type": "stream",
     "text": [
      "896/896 [==============================] - ETA: 0s - loss: 106.3229 - mae: 6.8233\n",
      "Epoch 34: val_mae did not improve from 8.19941\n",
      "896/896 [==============================] - 52s 58ms/step - loss: 106.3229 - mae: 6.8233 - val_loss: 191.1266 - val_mae: 8.3661\n",
      "Epoch 35/200\n",
      "896/896 [==============================] - ETA: 0s - loss: 105.2161 - mae: 6.8052\n",
      "Epoch 35: val_mae did not improve from 8.19941\n",
      "896/896 [==============================] - 56s 62ms/step - loss: 105.2161 - mae: 6.8052 - val_loss: 193.4988 - val_mae: 8.3888\n",
      "Epoch 36/200\n",
      "896/896 [==============================] - ETA: 0s - loss: 105.7612 - mae: 6.8240\n",
      "Epoch 36: val_mae improved from 8.19941 to 8.13406, saving model to 5h_dopredu200+BZ+KP.hdf5\n",
      "896/896 [==============================] - 57s 63ms/step - loss: 105.7612 - mae: 6.8240 - val_loss: 177.4151 - val_mae: 8.1341\n",
      "Epoch 37/200\n",
      "896/896 [==============================] - ETA: 0s - loss: 105.5524 - mae: 6.8076\n",
      "Epoch 37: val_mae did not improve from 8.13406\n",
      "896/896 [==============================] - 56s 63ms/step - loss: 105.5524 - mae: 6.8076 - val_loss: 202.6545 - val_mae: 8.6095\n",
      "Epoch 38/200\n",
      "444/896 [=============>................] - ETA: 25s - loss: 107.0172 - mae: 6.8178"
     ]
    },
    {
     "name": "stderr",
     "output_type": "stream",
     "text": [
      "IOPub message rate exceeded.\n",
      "The Jupyter server will temporarily stop sending output\n",
      "to the client in order to avoid crashing it.\n",
      "To change this limit, set the config variable\n",
      "`--ServerApp.iopub_msg_rate_limit`.\n",
      "\n",
      "Current values:\n",
      "ServerApp.iopub_msg_rate_limit=1000.0 (msgs/sec)\n",
      "ServerApp.rate_limit_window=3.0 (secs)\n",
      "\n"
     ]
    },
    {
     "name": "stdout",
     "output_type": "stream",
     "text": [
      "895/896 [============================>.] - ETA: 0s - loss: 104.0564 - mae: 6.7850\n",
      "Epoch 49: val_mae did not improve from 8.10317\n",
      "896/896 [==============================] - 49s 54ms/step - loss: 103.9761 - mae: 6.7823 - val_loss: 206.9962 - val_mae: 8.6404\n",
      "Epoch 50/200\n",
      "896/896 [==============================] - ETA: 0s - loss: 103.6963 - mae: 6.7829\n",
      "Epoch 50: val_mae did not improve from 8.10317\n",
      "896/896 [==============================] - 49s 54ms/step - loss: 103.6963 - mae: 6.7829 - val_loss: 198.6344 - val_mae: 8.5738\n",
      "Epoch 51/200\n",
      "896/896 [==============================] - ETA: 0s - loss: 103.9700 - mae: 6.7799\n",
      "Epoch 51: val_mae did not improve from 8.10317\n",
      "896/896 [==============================] - 50s 55ms/step - loss: 103.9700 - mae: 6.7799 - val_loss: 216.2056 - val_mae: 8.7948\n",
      "Epoch 52/200\n",
      "896/896 [==============================] - ETA: 0s - loss: 103.9046 - mae: 6.7834\n",
      "Epoch 52: val_mae did not improve from 8.10317\n",
      "896/896 [==============================] - 49s 54ms/step - loss: 103.9046 - mae: 6.7834 - val_loss: 222.9325 - val_mae: 8.9435\n",
      "Epoch 53/200\n",
      "895/896 [============================>.] - ETA: 0s - loss: 104.0965 - mae: 6.7808\n",
      "Epoch 53: val_mae did not improve from 8.10317\n",
      "896/896 [==============================] - 49s 54ms/step - loss: 104.0614 - mae: 6.7801 - val_loss: 176.8053 - val_mae: 8.1057\n",
      "Epoch 54/200\n",
      "896/896 [==============================] - ETA: 0s - loss: 103.9625 - mae: 6.7808\n",
      "Epoch 54: val_mae did not improve from 8.10317\n",
      "896/896 [==============================] - 49s 54ms/step - loss: 103.9625 - mae: 6.7808 - val_loss: 199.4983 - val_mae: 8.5673\n",
      "Epoch 55/200\n",
      "191/896 [=====>........................] - ETA: 34s - loss: 110.4647 - mae: 6.7918"
     ]
    },
    {
     "name": "stderr",
     "output_type": "stream",
     "text": [
      "IOPub message rate exceeded.\n",
      "The Jupyter server will temporarily stop sending output\n",
      "to the client in order to avoid crashing it.\n",
      "To change this limit, set the config variable\n",
      "`--ServerApp.iopub_msg_rate_limit`.\n",
      "\n",
      "Current values:\n",
      "ServerApp.iopub_msg_rate_limit=1000.0 (msgs/sec)\n",
      "ServerApp.rate_limit_window=3.0 (secs)\n",
      "\n"
     ]
    },
    {
     "name": "stdout",
     "output_type": "stream",
     "text": [
      "896/896 [==============================] - ETA: 0s - loss: 101.8664 - mae: 6.7394\n",
      "Epoch 68: val_mae did not improve from 8.10317\n",
      "896/896 [==============================] - 49s 55ms/step - loss: 101.8664 - mae: 6.7394 - val_loss: 196.0084 - val_mae: 8.5831\n",
      "Epoch 69/200\n",
      "896/896 [==============================] - ETA: 0s - loss: 101.8603 - mae: 6.7452\n",
      "Epoch 69: val_mae did not improve from 8.10317\n",
      "896/896 [==============================] - 48s 54ms/step - loss: 101.8603 - mae: 6.7452 - val_loss: 198.2364 - val_mae: 8.5837\n",
      "Epoch 70/200\n",
      "896/896 [==============================] - ETA: 0s - loss: 102.2821 - mae: 6.7587\n",
      "Epoch 70: val_mae did not improve from 8.10317\n",
      "896/896 [==============================] - 49s 55ms/step - loss: 102.2821 - mae: 6.7587 - val_loss: 207.5416 - val_mae: 8.7628\n",
      "Epoch 71/200\n",
      "895/896 [============================>.] - ETA: 0s - loss: 101.6481 - mae: 6.7406\n",
      "Epoch 71: val_mae did not improve from 8.10317\n",
      "896/896 [==============================] - 49s 55ms/step - loss: 101.6294 - mae: 6.7410 - val_loss: 217.3880 - val_mae: 8.9683\n",
      "Epoch 72/200\n",
      "896/896 [==============================] - ETA: 0s - loss: 101.5033 - mae: 6.7430\n",
      "Epoch 72: val_mae did not improve from 8.10317\n",
      "896/896 [==============================] - 49s 55ms/step - loss: 101.5033 - mae: 6.7430 - val_loss: 183.8938 - val_mae: 8.2829\n",
      "Epoch 73/200\n",
      "344/896 [==========>...................] - ETA: 27s - loss: 106.6267 - mae: 6.8014"
     ]
    },
    {
     "name": "stderr",
     "output_type": "stream",
     "text": [
      "IOPub message rate exceeded.\n",
      "The Jupyter server will temporarily stop sending output\n",
      "to the client in order to avoid crashing it.\n",
      "To change this limit, set the config variable\n",
      "`--ServerApp.iopub_msg_rate_limit`.\n",
      "\n",
      "Current values:\n",
      "ServerApp.iopub_msg_rate_limit=1000.0 (msgs/sec)\n",
      "ServerApp.rate_limit_window=3.0 (secs)\n",
      "\n"
     ]
    }
   ],
   "source": [
    "history = model.fit(train_generator, validation_data=val_generator, epochs=200, verbose=1, callbacks = callbacks_list)"
   ]
  },
  {
   "cell_type": "code",
   "execution_count": 8,
   "id": "4c79485e-f83d-4a9f-9f70-4ebfb5de2fce",
   "metadata": {},
   "outputs": [],
   "source": [
    "model = keras.models.load_model('5h_dopredu200+BZ+KP.hdf5')"
   ]
  },
  {
   "cell_type": "code",
   "execution_count": 9,
   "id": "23a98654-2300-430e-98c7-066159026f30",
   "metadata": {},
   "outputs": [
    {
     "name": "stdout",
     "output_type": "stream",
     "text": [
      "633/633 [==============================] - 14s 19ms/step\n"
     ]
    }
   ],
   "source": [
    "y_pred = model.predict(test_generator)"
   ]
  },
  {
   "cell_type": "code",
   "execution_count": 10,
   "id": "37dc5c65-bcff-404c-b6d1-7104ee59d001",
   "metadata": {},
   "outputs": [
    {
     "name": "stdout",
     "output_type": "stream",
     "text": [
      "Mean Squared Error: 87.18916794032232\n"
     ]
    }
   ],
   "source": [
    "from sklearn.metrics import mean_squared_error\n",
    "mse = mean_squared_error(y_test[:-6], y_pred.reshape(-1))\n",
    "print(f\"Mean Squared Error: {mse}\")"
   ]
  },
  {
   "cell_type": "code",
   "execution_count": 11,
   "id": "39df0af9-00f4-47eb-a9ad-b8e1aa1bad71",
   "metadata": {},
   "outputs": [
    {
     "name": "stdout",
     "output_type": "stream",
     "text": [
      "224/224 [==============================] - 5s 20ms/step\n",
      "-20.2\n",
      "Confusion matrix: \n",
      "[[125343   4646]\n",
      " [ 10775  21266]]\n"
     ]
    }
   ],
   "source": [
    "y_val_pred = model.predict(val_generator)\n",
    "\n",
    "true_labels_val = np.where(y_val[n_input:] <= -20, 1, 0)  \n",
    "\n",
    "def calculate_mcc(y_true, y_pred):\n",
    "    return matthews_corrcoef(y_true, y_pred)\n",
    "\n",
    "thresholds = np.arange(-10, -40, -0.1)\n",
    "mcc_scores = []\n",
    "\n",
    "for thresh in thresholds:\n",
    "    predictions = np.where(y_val_pred <= thresh, 1, 0)\n",
    "    mcc = calculate_mcc(true_labels_val, predictions)\n",
    "    mcc_scores.append(mcc)\n",
    "\n",
    "best_threshold_mcc = thresholds[np.argmax(mcc_scores)]\n",
    "best_mcc = max(mcc_scores)\n",
    "\n",
    "best_threshold_mcc_rounded = round(best_threshold_mcc, 1)\n",
    "print(best_threshold_mcc_rounded)\n",
    "y_pred2 = np.where(y_pred <= best_threshold_mcc_rounded, 1, 0)\n",
    "y_test2 = np.where(y_test[n_input:]  <= -20, 1, 0)\n",
    "\n",
    "cm = confusion_matrix(y_test2, y_pred2)\n",
    "print(\"Confusion matrix: \\n\" + str(cm))"
   ]
  },
  {
   "cell_type": "code",
   "execution_count": 12,
   "id": "ec6a51d0-0fd0-4781-a0fd-a47ed6ec36f0",
   "metadata": {},
   "outputs": [
    {
     "name": "stdout",
     "output_type": "stream",
     "text": [
      "              precision    recall  f1-score   support\n",
      "\n",
      "           0       0.92      0.96      0.94    129989\n",
      "           1       0.82      0.66      0.73     32041\n",
      "\n",
      "    accuracy                           0.90    162030\n",
      "   macro avg       0.87      0.81      0.84    162030\n",
      "weighted avg       0.90      0.90      0.90    162030\n",
      "\n"
     ]
    }
   ],
   "source": [
    "print(classification_report(y_test2, y_pred2))\n"
   ]
  },
  {
   "cell_type": "code",
   "execution_count": 13,
   "id": "74eea3d5-eecc-4920-bd0c-809ab4ca01aa",
   "metadata": {},
   "outputs": [
    {
     "data": {
      "image/png": "[encoded data removed]",
      "text/plain": [
       "<Figure size 640x480 with 1 Axes>"
      ]
     },
     "metadata": {},
     "output_type": "display_data"
    }
   ],
   "source": [
    "df = pd.DataFrame(data={\"time\": test['time1'][n_input:],\"y_true\": y_test[n_input:].reshape(-1) , \"y_predict\": y_pred.reshape(-1)})\n",
    "\n",
    "plt.figure()\n",
    "plt.title('Predicting the change in DST Index')\n",
    "plt.plot(df['time'],df['y_true'], label='Skutočné hodnoty')\n",
    "plt.plot(df['time'],df['y_predict'], label='Predikované hodnoty')\n",
    "plt.legend()\n",
    "plt.gcf().autofmt_xdate()\n",
    "plt.grid(True)"
   ]
  },
  {
   "cell_type": "code",
   "execution_count": 14,
   "id": "c3647b9d-eea2-4653-b0ea-51865a2c4af8",
   "metadata": {},
   "outputs": [],
   "source": [
    "df.to_csv('5h_dopredu+200+BZ+KP.csv')"
   ]
  },
  {
   "cell_type": "code",
   "execution_count": 15,
   "id": "26fb8edd-0e9c-4357-9f23-5b9e2f083c14",
   "metadata": {},
   "outputs": [
    {
     "name": "stdout",
     "output_type": "stream",
     "text": [
      "ACC=0.9048262667407271\n",
      "MCC=0.6823974883379283\n"
     ]
    }
   ],
   "source": [
    "TN, FP, FN, TP = cm.ravel()\n",
    "ACC = (TP + TN) / (TP + TN + FP + FN)\n",
    "MCC = matthews_corrcoef(y_test2, y_pred2)\n",
    "print(\"ACC={}\".format(ACC))\n",
    "print(\"MCC={}\".format(MCC))"
   ]
  },
  {
   "cell_type": "code",
   "execution_count": null,
   "id": "6d5adb7a-d785-40b5-9614-cf99f7a14e07",
   "metadata": {},
   "outputs": [],
   "source": []
  }
 ],
 "metadata": {
  "kernelspec": {
   "display_name": "Python 3 (ipykernel)",
   "language": "python",
   "name": "python3"
  },
  "language_info": {
   "codemirror_mode": {
    "name": "ipython",
    "version": 3
   },
   "file_extension": ".py",
   "mimetype": "text/x-python",
   "name": "python",
   "nbconvert_exporter": "python",
   "pygments_lexer": "ipython3",
   "version": "3.10.6"
  }
 },
 "nbformat": 4,
 "nbformat_minor": 5
}
