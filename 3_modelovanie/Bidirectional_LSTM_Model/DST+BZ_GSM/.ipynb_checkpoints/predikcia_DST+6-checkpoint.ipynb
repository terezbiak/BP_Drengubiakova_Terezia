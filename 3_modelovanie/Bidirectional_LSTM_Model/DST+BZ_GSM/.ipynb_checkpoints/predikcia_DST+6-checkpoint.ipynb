{
 "cells": [
  {
   "cell_type": "markdown",
   "id": "2a6cda6a-ca14-4f92-9706-b17bc2b1a72e",
   "metadata": {},
   "source": [
    "## Model na predikciu DST za pomoci použitia atribútu DST a BZ_GSM o 6 hodín dopredu"
   ]
  },
  {
   "cell_type": "markdown",
   "id": "8044d9db-d537-4973-a855-084c1bbd45ef",
   "metadata": {},
   "source": [
    "Súbor: predikcia_DST+6.ipynb\n",
    "\n",
    "Program: Hospodárska informatika\n",
    "\n",
    "Vypracovala: Terézia Drengubiaková\n",
    "\n",
    "Bakalárska práca: : Prediktívne modely v spracovaní dát z oblasti kozmického počasia\n",
    "\n",
    "Vedúci diplomovej práce: doc. Ing. Peter Butka, PhD.\n",
    "\n",
    "Konzultanti: Ing. Viera Krešňáková, PhD., RNDr. Šimon Mackovjak, PhD."
   ]
  },
  {
   "cell_type": "markdown",
   "id": "32f02251-3f31-47d9-87a7-5d7640a63578",
   "metadata": {},
   "source": [
    "### Import knižníc"
   ]
  },
  {
   "cell_type": "code",
   "execution_count": 2,
   "id": "24c710a5-5bcb-4a4c-905f-2eef19579e09",
   "metadata": {},
   "outputs": [
    {
     "name": "stderr",
     "output_type": "stream",
     "text": [
      "2024-05-16 08:23:49.367189: I tensorflow/core/platform/cpu_feature_guard.cc:193] This TensorFlow binary is optimized with oneAPI Deep Neural Network Library (oneDNN) to use the following CPU instructions in performance-critical operations:  SSE4.1 SSE4.2 AVX AVX2 FMA\n",
      "To enable them in other operations, rebuild TensorFlow with the appropriate compiler flags.\n"
     ]
    }
   ],
   "source": [
    "import pandas as pd\n",
    "import numpy as np\n",
    "from tensorflow import keras\n",
    "import matplotlib.pyplot as plt\n",
    "from sklearn.preprocessing import MinMaxScaler, StandardScaler\n",
    "from pandas.plotting import register_matplotlib_converters\n",
    "register_matplotlib_converters()\n",
    "import seaborn as sns\n",
    "from tensorflow.keras.preprocessing.sequence import TimeseriesGenerator\n",
    "from keras.models import Sequential\n",
    "from keras.layers import Dense, Activation, Dropout, Input, Conv1D, LSTM, MaxPooling1D, Flatten, TimeDistributed, Bidirectional\n",
    "from tensorflow.keras.callbacks import ModelCheckpoint, EarlyStopping\n",
    "from keras.models import Model\n",
    "from scipy.special import expit, logit\n",
    "from sklearn.metrics import confusion_matrix, classification_report, matthews_corrcoef"
   ]
  },
  {
   "cell_type": "markdown",
   "id": "041dc778-be69-4186-9cbd-d92cb6a6f82f",
   "metadata": {},
   "source": [
    "### Načítanie dát, odstránenie na hodnôt, určenie predikovaného atribútu"
   ]
  },
  {
   "cell_type": "code",
   "execution_count": 3,
   "id": "7387b853-427a-4ef8-9af4-c00073c5f3ae",
   "metadata": {},
   "outputs": [],
   "source": [
    "train = pd.read_csv('train_omni.csv')\n",
    "test = pd.read_csv('test_omni.csv')\n",
    "train['BZ_GSM'] = train['BZ_GSM'].fillna(train['BZ_GSM'].mean())  # Naplní NaN hodnoty priemerom danej stĺpca\n",
    "test['BZ_GSM'] = test['BZ_GSM'].fillna(test['BZ_GSM'].mean()) \n",
    "features = ['time1', 'DST', 'DST+6', 'BZ_GSM']\n",
    "test = test[features]\n",
    "train = train[features]\n",
    "train['time1']=pd.to_datetime(train['time1'])\n",
    "test['time1']=pd.to_datetime(test['time1'])\n",
    "predicators = [\"DST\", \"BZ_GSM\"]\n",
    "y_col='DST+6'\n",
    "valid_size = int(len(train) * 0.2)\n",
    "valid = train.iloc[-valid_size:,:].copy()\n",
    "train = train.iloc[:-valid_size,:].copy()\n",
    "\n",
    "y_train = train[y_col].values.copy()\n",
    "X_train = train[predicators].values.copy()\n",
    "y_val = valid[y_col].values.copy()\n",
    "X_val = valid[predicators].values.copy()\n",
    "y_test = test[y_col].values.copy()\n",
    "X_test = test[predicators].values.copy()"
   ]
  },
  {
   "cell_type": "markdown",
   "id": "f16d10a6-04da-417f-b97c-8d628a598b53",
   "metadata": {},
   "source": [
    "### Definícia premenných a vytvorenie dátových generátorov"
   ]
  },
  {
   "cell_type": "code",
   "execution_count": 4,
   "id": "02b9a544-9fd4-4861-8796-323ecfd83957",
   "metadata": {
    "tags": []
   },
   "outputs": [
    {
     "name": "stdout",
     "output_type": "stream",
     "text": [
      "Data from Train Generator:\n",
      "Data from Validation Generator:\n",
      "Data from Test Generator:\n"
     ]
    }
   ],
   "source": [
    "n_input = 6  \n",
    "n_features= len(X_train)  \n",
    "b_size = 256 \n",
    "\n",
    "train_generator = TimeseriesGenerator(X_train, y_train, length=n_input, batch_size=b_size)\n",
    "val_generator = TimeseriesGenerator(X_val, y_val, length=n_input, batch_size=b_size)\n",
    "test_generator = TimeseriesGenerator(X_test, y_test, length=n_input, batch_size=256)"
   ]
  },
  {
   "cell_type": "code",
   "execution_count": 5,
   "id": "634e08c1-3637-4073-ac91-f6ea4d31d063",
   "metadata": {},
   "outputs": [
    {
     "name": "stdout",
     "output_type": "stream",
     "text": [
      "Počet batchov:  896\n",
      "Každý batch má features (X zložku) a labels (y zložku):  2\n",
      "Dĺžka X zložky batchu:  256\n",
      "Dĺžka y zložky batchu (počet meraní v batchi):  256\n",
      "Počet riadkov braných do úvahy pre jedno meranie (koľko sa pozerá dozadu):  6\n"
     ]
    }
   ],
   "source": [
    "print(\"Počet batchov: \", len(train_generator))\n",
    "print(\"Každý batch má features (X zložku) a labels (y zložku): \", len(train_generator[0]))\n",
    "print(\"Dĺžka X zložky batchu: \", len(train_generator[0][0]))\n",
    "print(\"Dĺžka y zložky batchu (počet meraní v batchi): \",len(train_generator[0][1]))\n",
    "print(\"Počet riadkov braných do úvahy pre jedno meranie (koľko sa pozerá dozadu): \", len(train_generator[0][0][0]))"
   ]
  },
  {
   "cell_type": "markdown",
   "id": "64dac2d1-c2af-4db8-8f89-5886e9828559",
   "metadata": {},
   "source": [
    "### Vytvorenie modelu"
   ]
  },
  {
   "cell_type": "code",
   "execution_count": 6,
   "id": "60a0d6fc-2c98-49e5-a86a-3802748c4f93",
   "metadata": {},
   "outputs": [
    {
     "name": "stderr",
     "output_type": "stream",
     "text": [
      "2024-05-16 08:23:58.326244: I tensorflow/core/platform/cpu_feature_guard.cc:193] This TensorFlow binary is optimized with oneAPI Deep Neural Network Library (oneDNN) to use the following CPU instructions in performance-critical operations:  SSE4.1 SSE4.2 AVX AVX2 FMA\n",
      "To enable them in other operations, rebuild TensorFlow with the appropriate compiler flags.\n"
     ]
    },
    {
     "name": "stdout",
     "output_type": "stream",
     "text": [
      "Model: \"model\"\n",
      "_________________________________________________________________\n",
      " Layer (type)                Output Shape              Param #   \n",
      "=================================================================\n",
      " input_1 (InputLayer)        [(None, 6, 2)]            0         \n",
      "                                                                 \n",
      " bidirectional (Bidirectiona  (None, 6, 256)           134144    \n",
      " l)                                                              \n",
      "                                                                 \n",
      " lstm_1 (LSTM)               (None, 6, 128)            197120    \n",
      "                                                                 \n",
      " time_distributed (TimeDistr  (None, 6, 1)             129       \n",
      " ibuted)                                                         \n",
      "                                                                 \n",
      " flatten (Flatten)           (None, 6)                 0         \n",
      "                                                                 \n",
      " dense_1 (Dense)             (None, 1)                 7         \n",
      "                                                                 \n",
      "=================================================================\n",
      "Total params: 331,400\n",
      "Trainable params: 331,400\n",
      "Non-trainable params: 0\n",
      "_________________________________________________________________\n",
      "None\n"
     ]
    }
   ],
   "source": [
    "inputs = Input(shape=(6,2))\n",
    "c = Bidirectional(LSTM(128, return_sequences=True, dropout=0.1,recurrent_dropout=0.1))(inputs)\n",
    "c = LSTM(128, return_sequences=True)(c)\n",
    "c = TimeDistributed(Dense(1, activation='linear'))(c)\n",
    "output = Flatten()(c)\n",
    "output = Dense(1, activation='linear')(output)\n",
    "model = Model(inputs=inputs, outputs=output)\n",
    "model.compile(loss='mse', optimizer='adam', metrics=[\"mae\"])\n",
    "print(model.summary())"
   ]
  },
  {
   "cell_type": "code",
   "execution_count": 7,
   "id": "a3f35d02-c177-428d-a3c2-3919ded4d622",
   "metadata": {},
   "outputs": [],
   "source": [
    "saved_model = \"6h_dopredu200+BZ.hdf5\"\n",
    "checkpoint = ModelCheckpoint(saved_model, monitor='val_mae', verbose=1, save_best_only=True, mode='min')\n",
    "early = EarlyStopping(monitor=\"val_mae\", mode=\"min\", patience=25)\n",
    "callbacks_list = [checkpoint, early]"
   ]
  },
  {
   "cell_type": "markdown",
   "id": "00d12828-4c6d-49be-8fa7-5b4eb5951385",
   "metadata": {},
   "source": [
    "### Trénovanie"
   ]
  },
  {
   "cell_type": "code",
   "execution_count": 7,
   "id": "0d644cf6-2506-4af9-8b99-9559a748f662",
   "metadata": {
    "collapsed": true,
    "jupyter": {
     "outputs_hidden": true
    },
    "tags": []
   },
   "outputs": [
    {
     "name": "stdout",
     "output_type": "stream",
     "text": [
      "Epoch 1/200\n",
      "1139/1139 [==============================] - ETA: 0s - loss: 253.0797 - mae: 9.3238\n",
      "Epoch 1: val_mae improved from inf to 8.10391, saving model to 6h_dopredu200+BZ.hdf5\n",
      "1139/1139 [==============================] - 67s 54ms/step - loss: 253.0797 - mae: 9.3238 - val_loss: 211.7879 - val_mae: 8.1039\n",
      "Epoch 2/200\n",
      "1138/1139 [============================>.] - ETA: 0s - loss: 174.6696 - mae: 8.1893\n",
      "Epoch 2: val_mae improved from 8.10391 to 8.07664, saving model to 6h_dopredu200+BZ.hdf5\n",
      "1139/1139 [==============================] - 57s 50ms/step - loss: 174.7355 - mae: 8.1909 - val_loss: 196.2328 - val_mae: 8.0766\n",
      "Epoch 3/200\n",
      "1138/1139 [============================>.] - ETA: 0s - loss: 166.2348 - mae: 8.0881\n",
      "Epoch 3: val_mae did not improve from 8.07664\n",
      "1139/1139 [==============================] - 57s 50ms/step - loss: 166.1729 - mae: 8.0874 - val_loss: 196.2176 - val_mae: 8.0799\n",
      "Epoch 4/200\n",
      "1139/1139 [==============================] - ETA: 0s - loss: 163.3355 - mae: 8.0371\n",
      "Epoch 4: val_mae improved from 8.07664 to 7.85865, saving model to 6h_dopredu200+BZ.hdf5\n",
      "1139/1139 [==============================] - 65s 57ms/step - loss: 163.3355 - mae: 8.0371 - val_loss: 181.9653 - val_mae: 7.8587\n",
      "Epoch 5/200\n",
      "1139/1139 [==============================] - ETA: 0s - loss: 160.5823 - mae: 7.9834\n",
      "Epoch 5: val_mae did not improve from 7.85865\n",
      "1139/1139 [==============================] - 65s 57ms/step - loss: 160.5823 - mae: 7.9834 - val_loss: 188.2241 - val_mae: 7.9268\n",
      "Epoch 6/200\n",
      "1139/1139 [==============================] - ETA: 0s - loss: 158.4279 - mae: 7.9498\n",
      "Epoch 6: val_mae improved from 7.85865 to 7.75752, saving model to 6h_dopredu200+BZ.hdf5\n",
      "1139/1139 [==============================] - 65s 57ms/step - loss: 158.4279 - mae: 7.9498 - val_loss: 175.3961 - val_mae: 7.7575\n",
      "Epoch 7/200\n",
      "1139/1139 [==============================] - ETA: 0s - loss: 157.0603 - mae: 7.9218\n",
      "Epoch 7: val_mae did not improve from 7.75752\n",
      "1139/1139 [==============================] - 64s 56ms/step - loss: 157.0603 - mae: 7.9218 - val_loss: 193.3634 - val_mae: 8.2149\n",
      "Epoch 8/200\n",
      "1139/1139 [==============================] - ETA: 0s - loss: 155.9249 - mae: 7.9035\n",
      "Epoch 8: val_mae did not improve from 7.75752\n",
      "1139/1139 [==============================] - 63s 55ms/step - loss: 155.9249 - mae: 7.9035 - val_loss: 185.0712 - val_mae: 8.0069\n",
      "Epoch 9/200\n",
      "1139/1139 [==============================] - ETA: 0s - loss: 155.4900 - mae: 7.9000\n",
      "Epoch 9: val_mae did not improve from 7.75752\n",
      "1139/1139 [==============================] - 65s 57ms/step - loss: 155.4900 - mae: 7.9000 - val_loss: 172.4465 - val_mae: 7.7853\n",
      "Epoch 10/200\n",
      "1139/1139 [==============================] - ETA: 0s - loss: 153.9609 - mae: 7.8733\n",
      "Epoch 10: val_mae did not improve from 7.75752\n",
      "1139/1139 [==============================] - 61s 54ms/step - loss: 153.9609 - mae: 7.8733 - val_loss: 182.3274 - val_mae: 7.9629\n",
      "Epoch 11/200\n",
      "1139/1139 [==============================] - ETA: 0s - loss: 154.4507 - mae: 7.8635\n",
      "Epoch 11: val_mae did not improve from 7.75752\n",
      "1139/1139 [==============================] - 65s 57ms/step - loss: 154.4507 - mae: 7.8635 - val_loss: 185.1218 - val_mae: 8.0057\n",
      "Epoch 12/200\n",
      "1139/1139 [==============================] - ETA: 0s - loss: 153.5876 - mae: 7.8502\n",
      "Epoch 12: val_mae improved from 7.75752 to 7.74149, saving model to 6h_dopredu200+BZ.hdf5\n",
      "1139/1139 [==============================] - 65s 57ms/step - loss: 153.5876 - mae: 7.8502 - val_loss: 174.4263 - val_mae: 7.7415\n",
      "Epoch 13/200\n",
      "1139/1139 [==============================] - ETA: 0s - loss: 152.9046 - mae: 7.8519\n",
      "Epoch 13: val_mae did not improve from 7.74149\n",
      "1139/1139 [==============================] - 66s 58ms/step - loss: 152.9046 - mae: 7.8519 - val_loss: 178.9152 - val_mae: 7.8752\n",
      "Epoch 14/200\n",
      "1139/1139 [==============================] - ETA: 0s - loss: 151.7103 - mae: 7.8289\n",
      "Epoch 14: val_mae improved from 7.74149 to 7.72645, saving model to 6h_dopredu200+BZ.hdf5\n",
      "1139/1139 [==============================] - 65s 57ms/step - loss: 151.7103 - mae: 7.8289 - val_loss: 170.6503 - val_mae: 7.7264\n",
      "Epoch 15/200\n",
      "1139/1139 [==============================] - ETA: 0s - loss: 152.4539 - mae: 7.8372\n",
      "Epoch 15: val_mae did not improve from 7.72645\n",
      "1139/1139 [==============================] - 66s 58ms/step - loss: 152.4539 - mae: 7.8372 - val_loss: 173.3397 - val_mae: 7.7284\n",
      "Epoch 16/200\n",
      "1139/1139 [==============================] - ETA: 0s - loss: 150.3437 - mae: 7.8055\n",
      "Epoch 16: val_mae did not improve from 7.72645\n",
      "1139/1139 [==============================] - 70s 62ms/step - loss: 150.3437 - mae: 7.8055 - val_loss: 173.7606 - val_mae: 7.8006\n",
      "Epoch 17/200\n",
      "1139/1139 [==============================] - ETA: 0s - loss: 150.8393 - mae: 7.8073\n",
      "Epoch 17: val_mae did not improve from 7.72645\n",
      "1139/1139 [==============================] - 62s 55ms/step - loss: 150.8393 - mae: 7.8073 - val_loss: 175.0534 - val_mae: 7.7517\n",
      "Epoch 18/200\n",
      "1139/1139 [==============================] - ETA: 0s - loss: 150.7205 - mae: 7.8191\n",
      "Epoch 18: val_mae did not improve from 7.72645\n",
      "1139/1139 [==============================] - 70s 62ms/step - loss: 150.7205 - mae: 7.8191 - val_loss: 171.4322 - val_mae: 7.7561\n",
      "Epoch 19/200\n",
      "1139/1139 [==============================] - ETA: 0s - loss: 149.4968 - mae: 7.7920\n",
      "Epoch 19: val_mae did not improve from 7.72645\n",
      "1139/1139 [==============================] - 66s 58ms/step - loss: 149.4968 - mae: 7.7920 - val_loss: 192.8583 - val_mae: 8.1845\n",
      "Epoch 20/200\n",
      "1138/1139 [============================>.] - ETA: 0s - loss: 150.8017 - mae: 7.8073\n",
      "Epoch 20: val_mae did not improve from 7.72645\n",
      "1139/1139 [==============================] - 65s 57ms/step - loss: 150.7576 - mae: 7.8068 - val_loss: 177.2206 - val_mae: 7.8149\n",
      "Epoch 21/200\n",
      "1139/1139 [==============================] - ETA: 0s - loss: 149.2311 - mae: 7.7871\n",
      "Epoch 21: val_mae did not improve from 7.72645\n",
      "1139/1139 [==============================] - 64s 56ms/step - loss: 149.2311 - mae: 7.7871 - val_loss: 169.7202 - val_mae: 7.7377\n",
      "Epoch 22/200\n",
      "1138/1139 [============================>.] - ETA: 0s - loss: 148.3408 - mae: 7.7760\n",
      "Epoch 22: val_mae improved from 7.72645 to 7.71941, saving model to 6h_dopredu200+BZ.hdf5\n",
      "1139/1139 [==============================] - 63s 55ms/step - loss: 148.3537 - mae: 7.7781 - val_loss: 167.4307 - val_mae: 7.7194\n",
      "Epoch 23/200\n",
      "1139/1139 [==============================] - ETA: 0s - loss: 147.6561 - mae: 7.7849\n",
      "Epoch 23: val_mae did not improve from 7.71941\n",
      "1139/1139 [==============================] - 67s 58ms/step - loss: 147.6561 - mae: 7.7849 - val_loss: 172.0525 - val_mae: 7.7368\n",
      "Epoch 24/200\n",
      "1139/1139 [==============================] - ETA: 0s - loss: 147.9912 - mae: 7.7747\n",
      "Epoch 24: val_mae did not improve from 7.71941\n",
      "1139/1139 [==============================] - 69s 60ms/step - loss: 147.9912 - mae: 7.7747 - val_loss: 181.5769 - val_mae: 7.9732\n",
      "Epoch 25/200\n",
      "1139/1139 [==============================] - ETA: 0s - loss: 147.6003 - mae: 7.7652\n",
      "Epoch 25: val_mae did not improve from 7.71941\n",
      "1139/1139 [==============================] - 69s 61ms/step - loss: 147.6003 - mae: 7.7652 - val_loss: 187.8725 - val_mae: 8.0479\n",
      "Epoch 26/200\n",
      "1139/1139 [==============================] - ETA: 0s - loss: 146.4371 - mae: 7.7514\n",
      "Epoch 26: val_mae did not improve from 7.71941\n",
      "1139/1139 [==============================] - 70s 61ms/step - loss: 146.4371 - mae: 7.7514 - val_loss: 186.3258 - val_mae: 8.0151\n",
      "Epoch 27/200\n",
      "1139/1139 [==============================] - ETA: 0s - loss: 147.2605 - mae: 7.7540\n",
      "Epoch 27: val_mae improved from 7.71941 to 7.70576, saving model to 6h_dopredu200+BZ.hdf5\n",
      "1139/1139 [==============================] - 69s 61ms/step - loss: 147.2605 - mae: 7.7540 - val_loss: 170.2893 - val_mae: 7.7058\n",
      "Epoch 28/200\n",
      "1139/1139 [==============================] - ETA: 0s - loss: 147.2742 - mae: 7.7567\n",
      "Epoch 28: val_mae did not improve from 7.70576\n",
      "1139/1139 [==============================] - 69s 61ms/step - loss: 147.2742 - mae: 7.7567 - val_loss: 170.4140 - val_mae: 7.7474\n",
      "Epoch 29/200\n",
      "1139/1139 [==============================] - ETA: 0s - loss: 146.2430 - mae: 7.7418\n",
      "Epoch 29: val_mae did not improve from 7.70576\n",
      "1139/1139 [==============================] - 69s 61ms/step - loss: 146.2430 - mae: 7.7418 - val_loss: 174.6223 - val_mae: 7.8151\n",
      "Epoch 30/200\n",
      "1139/1139 [==============================] - ETA: 0s - loss: 145.3350 - mae: 7.7301\n",
      "Epoch 30: val_mae did not improve from 7.70576\n",
      "1139/1139 [==============================] - 69s 61ms/step - loss: 145.3350 - mae: 7.7301 - val_loss: 168.9715 - val_mae: 7.7560\n",
      "Epoch 31/200\n",
      "1139/1139 [==============================] - ETA: 0s - loss: 145.4873 - mae: 7.7370\n",
      "Epoch 31: val_mae did not improve from 7.70576\n",
      "1139/1139 [==============================] - 70s 61ms/step - loss: 145.4873 - mae: 7.7370 - val_loss: 174.9124 - val_mae: 7.8037\n",
      "Epoch 32/200\n",
      "1139/1139 [==============================] - ETA: 0s - loss: 145.2139 - mae: 7.7260\n",
      "Epoch 32: val_mae did not improve from 7.70576\n",
      "1139/1139 [==============================] - 68s 60ms/step - loss: 145.2139 - mae: 7.7260 - val_loss: 169.5593 - val_mae: 7.7170\n",
      "Epoch 33/200\n",
      "1139/1139 [==============================] - ETA: 0s - loss: 144.5400 - mae: 7.7165\n",
      "Epoch 33: val_mae did not improve from 7.70576\n",
      "1139/1139 [==============================] - 67s 59ms/step - loss: 144.5400 - mae: 7.7165 - val_loss: 174.8186 - val_mae: 7.8463\n",
      "Epoch 34/200\n",
      "1139/1139 [==============================] - ETA: 0s - loss: 144.4307 - mae: 7.7260\n",
      "Epoch 34: val_mae improved from 7.70576 to 7.69426, saving model to 6h_dopredu200+BZ.hdf5\n",
      "1139/1139 [==============================] - 70s 61ms/step - loss: 144.4307 - mae: 7.7260 - val_loss: 167.4822 - val_mae: 7.6943\n",
      "Epoch 35/200\n",
      "1139/1139 [==============================] - ETA: 0s - loss: 144.3253 - mae: 7.7264\n",
      "Epoch 35: val_mae did not improve from 7.69426\n",
      "1139/1139 [==============================] - 70s 61ms/step - loss: 144.3253 - mae: 7.7264 - val_loss: 182.6225 - val_mae: 8.0365\n",
      "Epoch 36/200\n",
      "1139/1139 [==============================] - ETA: 0s - loss: 144.3374 - mae: 7.7192\n",
      "Epoch 36: val_mae did not improve from 7.69426\n",
      "1139/1139 [==============================] - 69s 61ms/step - loss: 144.3374 - mae: 7.7192 - val_loss: 173.9355 - val_mae: 7.8216\n",
      "Epoch 37/200\n",
      "1139/1139 [==============================] - ETA: 0s - loss: 143.6376 - mae: 7.7186\n",
      "Epoch 37: val_mae did not improve from 7.69426\n",
      "1139/1139 [==============================] - 65s 57ms/step - loss: 143.6376 - mae: 7.7186 - val_loss: 181.2682 - val_mae: 8.0028\n",
      "Epoch 38/200\n",
      "1139/1139 [==============================] - ETA: 0s - loss: 143.2747 - mae: 7.7109\n",
      "Epoch 38: val_mae did not improve from 7.69426\n",
      "1139/1139 [==============================] - 64s 56ms/step - loss: 143.2747 - mae: 7.7109 - val_loss: 180.9681 - val_mae: 7.9909\n",
      "Epoch 39/200\n",
      "1138/1139 [============================>.] - ETA: 0s - loss: 142.6014 - mae: 7.6952\n",
      "Epoch 39: val_mae did not improve from 7.69426\n",
      "1139/1139 [==============================] - 64s 56ms/step - loss: 142.5553 - mae: 7.6944 - val_loss: 179.9559 - val_mae: 8.0019\n",
      "Epoch 40/200\n",
      "1139/1139 [==============================] - ETA: 0s - loss: 142.7046 - mae: 7.7067\n",
      "Epoch 40: val_mae did not improve from 7.69426\n",
      "1139/1139 [==============================] - 63s 55ms/step - loss: 142.7046 - mae: 7.7067 - val_loss: 182.8312 - val_mae: 8.0284\n",
      "Epoch 41/200\n",
      "1138/1139 [============================>.] - ETA: 0s - loss: 142.8972 - mae: 7.6897\n",
      "Epoch 41: val_mae did not improve from 7.69426\n",
      "1139/1139 [==============================] - 60s 53ms/step - loss: 142.8676 - mae: 7.6898 - val_loss: 175.2540 - val_mae: 7.8360\n",
      "Epoch 42/200\n",
      "1138/1139 [============================>.] - ETA: 0s - loss: 141.9474 - mae: 7.6895\n",
      "Epoch 42: val_mae did not improve from 7.69426\n",
      "1139/1139 [==============================] - 51s 45ms/step - loss: 142.0394 - mae: 7.6924 - val_loss: 175.3188 - val_mae: 7.8510\n",
      "Epoch 43/200\n",
      "1139/1139 [==============================] - ETA: 0s - loss: 142.5548 - mae: 7.7012\n",
      "Epoch 43: val_mae did not improve from 7.69426\n",
      "1139/1139 [==============================] - 45s 40ms/step - loss: 142.5548 - mae: 7.7012 - val_loss: 177.9886 - val_mae: 7.9068\n",
      "Epoch 44/200\n",
      "1139/1139 [==============================] - ETA: 0s - loss: 140.9775 - mae: 7.6856\n",
      "Epoch 44: val_mae did not improve from 7.69426\n",
      "1139/1139 [==============================] - 45s 40ms/step - loss: 140.9775 - mae: 7.6856 - val_loss: 186.2127 - val_mae: 8.2194\n",
      "Epoch 45/200\n",
      "1139/1139 [==============================] - ETA: 0s - loss: 141.4133 - mae: 7.6794\n",
      "Epoch 45: val_mae did not improve from 7.69426\n",
      "1139/1139 [==============================] - 45s 40ms/step - loss: 141.4133 - mae: 7.6794 - val_loss: 179.1878 - val_mae: 7.9399\n",
      "Epoch 46/200\n",
      "1139/1139 [==============================] - ETA: 0s - loss: 141.7777 - mae: 7.6926\n",
      "Epoch 46: val_mae did not improve from 7.69426\n",
      "1139/1139 [==============================] - 45s 40ms/step - loss: 141.7777 - mae: 7.6926 - val_loss: 174.6921 - val_mae: 7.8669\n",
      "Epoch 47/200\n",
      "1139/1139 [==============================] - ETA: 0s - loss: 140.9002 - mae: 7.6729\n",
      "Epoch 47: val_mae did not improve from 7.69426\n",
      "1139/1139 [==============================] - 45s 40ms/step - loss: 140.9002 - mae: 7.6729 - val_loss: 176.7495 - val_mae: 7.9031\n",
      "Epoch 48/200\n",
      "1139/1139 [==============================] - ETA: 0s - loss: 141.0947 - mae: 7.6720\n",
      "Epoch 48: val_mae did not improve from 7.69426\n",
      "1139/1139 [==============================] - 45s 40ms/step - loss: 141.0947 - mae: 7.6720 - val_loss: 180.5543 - val_mae: 7.9159\n",
      "Epoch 49/200\n",
      "1139/1139 [==============================] - ETA: 0s - loss: 139.9190 - mae: 7.6670\n",
      "Epoch 49: val_mae did not improve from 7.69426\n",
      "1139/1139 [==============================] - 45s 40ms/step - loss: 139.9190 - mae: 7.6670 - val_loss: 180.3791 - val_mae: 7.9350\n",
      "Epoch 50/200\n",
      "1139/1139 [==============================] - ETA: 0s - loss: 140.6553 - mae: 7.6714\n",
      "Epoch 50: val_mae did not improve from 7.69426\n",
      "1139/1139 [==============================] - 45s 40ms/step - loss: 140.6553 - mae: 7.6714 - val_loss: 176.7424 - val_mae: 7.7882\n",
      "Epoch 51/200\n",
      "1139/1139 [==============================] - ETA: 0s - loss: 140.3378 - mae: 7.6736\n",
      "Epoch 51: val_mae did not improve from 7.69426\n",
      "1139/1139 [==============================] - 45s 39ms/step - loss: 140.3378 - mae: 7.6736 - val_loss: 173.6582 - val_mae: 7.8500\n",
      "Epoch 52/200\n",
      "1139/1139 [==============================] - ETA: 0s - loss: 139.2395 - mae: 7.6517\n",
      "Epoch 52: val_mae did not improve from 7.69426\n",
      "1139/1139 [==============================] - 45s 40ms/step - loss: 139.2395 - mae: 7.6517 - val_loss: 176.1191 - val_mae: 7.8691\n",
      "Epoch 53/200\n",
      "1139/1139 [==============================] - ETA: 0s - loss: 140.0406 - mae: 7.6535\n",
      "Epoch 53: val_mae did not improve from 7.69426\n",
      "1139/1139 [==============================] - 45s 39ms/step - loss: 140.0406 - mae: 7.6535 - val_loss: 193.0291 - val_mae: 8.2658\n",
      "Epoch 54/200\n",
      "1139/1139 [==============================] - ETA: 0s - loss: 139.6776 - mae: 7.6486\n",
      "Epoch 54: val_mae did not improve from 7.69426\n",
      "1139/1139 [==============================] - 45s 39ms/step - loss: 139.6776 - mae: 7.6486 - val_loss: 175.8394 - val_mae: 7.8715\n",
      "Epoch 55/200\n",
      "1139/1139 [==============================] - ETA: 0s - loss: 139.5280 - mae: 7.6457\n",
      "Epoch 55: val_mae did not improve from 7.69426\n",
      "1139/1139 [==============================] - 45s 39ms/step - loss: 139.5280 - mae: 7.6457 - val_loss: 184.2639 - val_mae: 7.9857\n",
      "Epoch 56/200\n",
      "1139/1139 [==============================] - ETA: 0s - loss: 138.9341 - mae: 7.6339\n",
      "Epoch 56: val_mae did not improve from 7.69426\n",
      "1139/1139 [==============================] - 45s 40ms/step - loss: 138.9341 - mae: 7.6339 - val_loss: 174.2809 - val_mae: 7.7417\n",
      "Epoch 57/200\n",
      "1139/1139 [==============================] - ETA: 0s - loss: 138.8178 - mae: 7.6433\n",
      "Epoch 57: val_mae did not improve from 7.69426\n",
      "1139/1139 [==============================] - 45s 39ms/step - loss: 138.8178 - mae: 7.6433 - val_loss: 177.4330 - val_mae: 7.8958\n",
      "Epoch 58/200\n",
      "1139/1139 [==============================] - ETA: 0s - loss: 138.6783 - mae: 7.6339\n",
      "Epoch 58: val_mae did not improve from 7.69426\n",
      "1139/1139 [==============================] - 45s 39ms/step - loss: 138.6783 - mae: 7.6339 - val_loss: 175.1746 - val_mae: 7.8263\n",
      "Epoch 59/200\n",
      "1139/1139 [==============================] - ETA: 0s - loss: 137.5596 - mae: 7.6303\n",
      "Epoch 59: val_mae did not improve from 7.69426\n",
      "1139/1139 [==============================] - 45s 39ms/step - loss: 137.5596 - mae: 7.6303 - val_loss: 172.1028 - val_mae: 7.7799\n"
     ]
    }
   ],
   "source": [
    "history = model.fit(train_generator, validation_data=val_generator, epochs=200, verbose=1, callbacks = callbacks_list)"
   ]
  },
  {
   "cell_type": "markdown",
   "id": "a98fadef-172f-4314-8f93-1488465c0a6e",
   "metadata": {},
   "source": [
    "### Načítanie najlepšieho modelu"
   ]
  },
  {
   "cell_type": "code",
   "execution_count": 8,
   "id": "cadb072b-c0eb-4219-a414-7531a609fd57",
   "metadata": {},
   "outputs": [],
   "source": [
    "model = keras.models.load_model('6h_dopredu200+BZ.hdf5')"
   ]
  },
  {
   "cell_type": "markdown",
   "id": "e6e478f0-06ab-4ac6-a9f3-d4db4de04173",
   "metadata": {},
   "source": [
    "### Vytvorenie predikcií"
   ]
  },
  {
   "cell_type": "code",
   "execution_count": 9,
   "id": "e5dedb9d-c147-4481-b96f-6e616767ac7f",
   "metadata": {},
   "outputs": [
    {
     "name": "stdout",
     "output_type": "stream",
     "text": [
      "633/633 [==============================] - 12s 18ms/step\n"
     ]
    }
   ],
   "source": [
    "y_pred = model.predict(test_generator)"
   ]
  },
  {
   "cell_type": "markdown",
   "id": "684d51ba-0428-4127-a275-27d25d4d25f7",
   "metadata": {},
   "source": [
    "### Nájdenie optimálneho thresholdu na validačnej sade"
   ]
  },
  {
   "cell_type": "code",
   "execution_count": 13,
   "id": "4c33934f-8978-4642-a327-7f4783f96a21",
   "metadata": {},
   "outputs": [
    {
     "name": "stdout",
     "output_type": "stream",
     "text": [
      "224/224 [==============================] - 4s 19ms/step\n",
      "Best Threshold for MCC on Validation Set: -19.29999999999997\n",
      "Best MCC on Validation Set: 0.7278753419161719\n",
      "-19.3\n"
     ]
    }
   ],
   "source": [
    "y_val_pred = model.predict(val_generator)\n",
    "\n",
    "true_labels_val = np.where(y_val[n_input:] <= -20, 1, 0) \n",
    "\n",
    "def calculate_mcc(y_true, y_pred):\n",
    "    return matthews_corrcoef(y_true, y_pred)\n",
    "\n",
    "thresholds = np.arange(-10, -40, -0.1)\n",
    "mcc_scores = []\n",
    "\n",
    "for thresh in thresholds:\n",
    "    predictions = np.where(y_val_pred <= thresh, 1, 0)\n",
    "    mcc = calculate_mcc(true_labels_val, predictions)\n",
    "    mcc_scores.append(mcc)\n",
    "\n",
    "best_threshold_mcc = thresholds[np.argmax(mcc_scores)]\n",
    "best_mcc = max(mcc_scores)\n",
    "\n",
    "print(\"Best Threshold for MCC on Validation Set:\", best_threshold_mcc)\n",
    "print(\"Best MCC on Validation Set:\", best_mcc)\n",
    "best_threshold_mcc_rounded = round(best_threshold_mcc, 1)"
   ]
  },
  {
   "cell_type": "markdown",
   "id": "5172e89b-ded3-4670-a4df-dd21c89cf33f",
   "metadata": {},
   "source": [
    "### Výpočet metrík, vykreslenie grafu predikcie a uloženie predikcií"
   ]
  },
  {
   "cell_type": "code",
   "execution_count": 11,
   "id": "d1af153b-bae7-440f-9c89-fe60b0e85baf",
   "metadata": {},
   "outputs": [
    {
     "name": "stdout",
     "output_type": "stream",
     "text": [
      "162030\n",
      "162030\n",
      "Mean Squared Error: 33.78657483639972\n"
     ]
    }
   ],
   "source": [
    "from sklearn.metrics import mean_squared_error\n",
    "y_test2 = y_test[:-6]\n",
    "mse = mean_squared_error(y_test2, y_pred.reshape(-1))\n",
    "print(f\"Mean Squared Error: {mse}\")"
   ]
  },
  {
   "cell_type": "code",
   "execution_count": 14,
   "id": "e975e1ab-ac1b-4791-8b0b-1a7121542ac9",
   "metadata": {},
   "outputs": [
    {
     "name": "stdout",
     "output_type": "stream",
     "text": [
      "Confusion matrix: \n",
      "[[124888   5101]\n",
      " [ 11033  21008]]\n"
     ]
    }
   ],
   "source": [
    "y_pred2 = np.where(y_pred <= best_threshold_mcc_rounded, 1, 0)\n",
    "y_test2 = np.where(y_test[n_input:]  <= -20, 1, 0)\n",
    "\n",
    "cm = confusion_matrix(y_test2, y_pred2)\n",
    "print(\"Confusion matrix: \\n\" + str(cm))"
   ]
  },
  {
   "cell_type": "code",
   "execution_count": 15,
   "id": "61fef047-3308-486f-a170-6f26989e74ba",
   "metadata": {},
   "outputs": [
    {
     "name": "stdout",
     "output_type": "stream",
     "text": [
      "              precision    recall  f1-score   support\n",
      "\n",
      "           0       0.92      0.96      0.94    129989\n",
      "           1       0.80      0.66      0.72     32041\n",
      "\n",
      "    accuracy                           0.90    162030\n",
      "   macro avg       0.86      0.81      0.83    162030\n",
      "weighted avg       0.90      0.90      0.90    162030\n",
      "\n"
     ]
    }
   ],
   "source": [
    "print(classification_report(y_test2, y_pred2))\n"
   ]
  },
  {
   "cell_type": "code",
   "execution_count": 16,
   "id": "92c383bf-5d98-4608-a256-24c0c23f49a9",
   "metadata": {},
   "outputs": [
    {
     "data": {
      "image/png": "[encoded data removed]",
      "text/plain": [
       "<Figure size 640x480 with 1 Axes>"
      ]
     },
     "metadata": {},
     "output_type": "display_data"
    }
   ],
   "source": [
    "df = pd.DataFrame(data={\"time\": test['time1'][n_input:],\"y_true\": y_test[n_input:].reshape(-1) , \"y_predict\": y_pred.reshape(-1)})\n",
    "\n",
    "plt.figure()\n",
    "plt.title('Predicting the change in DST Index')\n",
    "plt.plot(df['time'],df['y_true'], label='Skutočné hodnoty')\n",
    "plt.plot(df['time'],df['y_predict'], label='Predikované hodnoty')\n",
    "plt.legend()\n",
    "plt.gcf().autofmt_xdate()\n",
    "plt.grid(True)"
   ]
  },
  {
   "cell_type": "code",
   "execution_count": 17,
   "id": "42173a9a-ed85-49e7-8b02-6e76c2ff7b31",
   "metadata": {},
   "outputs": [],
   "source": [
    "df.to_csv('6h_dopredu+200+BZ.csv')"
   ]
  },
  {
   "cell_type": "code",
   "execution_count": 18,
   "id": "9b96f626-9bc0-4758-a7bd-70ec64066e33",
   "metadata": {},
   "outputs": [
    {
     "name": "stdout",
     "output_type": "stream",
     "text": [
      "ACC=0.9004258470653582\n",
      "MCC=0.6677952921884168\n"
     ]
    }
   ],
   "source": [
    "TN, FP, FN, TP = cm.ravel()\n",
    "ACC = (TP + TN) / (TP + TN + FP + FN)\n",
    "MCC = matthews_corrcoef(y_test2, y_pred2)\n",
    "print(\"ACC={}\".format(ACC))\n",
    "print(\"MCC={}\".format(MCC))"
   ]
  },
  {
   "cell_type": "code",
   "execution_count": null,
   "id": "ce143fda-25cd-45c4-a315-525c07a968ac",
   "metadata": {},
   "outputs": [],
   "source": []
  }
 ],
 "metadata": {
  "kernelspec": {
   "display_name": "Python 3 (ipykernel)",
   "language": "python",
   "name": "python3"
  },
  "language_info": {
   "codemirror_mode": {
    "name": "ipython",
    "version": 3
   },
   "file_extension": ".py",
   "mimetype": "text/x-python",
   "name": "python",
   "nbconvert_exporter": "python",
   "pygments_lexer": "ipython3",
   "version": "3.10.6"
  }
 },
 "nbformat": 4,
 "nbformat_minor": 5
}
