{
 "cells": [
  {
   "cell_type": "markdown",
   "id": "ada0322f-a966-4193-ab68-aa153950b20f",
   "metadata": {},
   "source": [
    "## Model na predikciu DST za pomoci použitia atribútu DST a BZ_GSM o 4 hodiny dopredu"
   ]
  },
  {
   "cell_type": "markdown",
   "id": "0f168d06-3e8a-4f86-8a77-212430a3ddb3",
   "metadata": {},
   "source": [
    "Súbor: predikcia_DST+4.ipynb\n",
    "\n",
    "Program: Hospodárska informatika\n",
    "\n",
    "Vypracovala: Terézia Drengubiaková\n",
    "\n",
    "Bakalárska práca: : Prediktívne modely v spracovaní dát z oblasti kozmického počasia\n",
    "\n",
    "Vedúci diplomovej práce: doc. Ing. Peter Butka, PhD.\n",
    "\n",
    "Konzultanti: Ing. Viera Krešňáková, PhD., RNDr. Šimon Mackovjak, PhD."
   ]
  },
  {
   "cell_type": "markdown",
   "id": "c959bb32-ba17-4f4d-a8a5-c66c4bc121de",
   "metadata": {},
   "source": [
    "### Import knižníc"
   ]
  },
  {
   "cell_type": "code",
   "execution_count": 1,
   "id": "89375ba6-e384-4549-a3b5-0b1389851b53",
   "metadata": {},
   "outputs": [
    {
     "name": "stderr",
     "output_type": "stream",
     "text": [
      "2024-05-16 08:23:11.779727: I tensorflow/core/platform/cpu_feature_guard.cc:193] This TensorFlow binary is optimized with oneAPI Deep Neural Network Library (oneDNN) to use the following CPU instructions in performance-critical operations:  SSE4.1 SSE4.2 AVX AVX2 FMA\n",
      "To enable them in other operations, rebuild TensorFlow with the appropriate compiler flags.\n"
     ]
    }
   ],
   "source": [
    "import pandas as pd\n",
    "import numpy as np\n",
    "from tensorflow import keras\n",
    "import matplotlib.pyplot as plt\n",
    "from sklearn.preprocessing import MinMaxScaler, StandardScaler\n",
    "from pandas.plotting import register_matplotlib_converters\n",
    "register_matplotlib_converters()\n",
    "import seaborn as sns\n",
    "from tensorflow.keras.preprocessing.sequence import TimeseriesGenerator\n",
    "from keras.models import Sequential\n",
    "from keras.layers import Dense, Activation, Dropout, Input, Conv1D, LSTM, MaxPooling1D, Flatten, TimeDistributed, Bidirectional\n",
    "from tensorflow.keras.callbacks import ModelCheckpoint, EarlyStopping\n",
    "from keras.models import Model\n",
    "from scipy.special import expit, logit\n",
    "from sklearn.metrics import confusion_matrix, classification_report, matthews_corrcoef"
   ]
  },
  {
   "cell_type": "markdown",
   "id": "459cf458-5471-486d-b3bb-6ee514460c3e",
   "metadata": {},
   "source": [
    "### Načítanie dát, odstránenie na hodnôt, určenie predikovaného atribútu"
   ]
  },
  {
   "cell_type": "code",
   "execution_count": 2,
   "id": "bc4a4bce-a26a-4cfa-958d-4cf75fb7da70",
   "metadata": {},
   "outputs": [],
   "source": [
    "train = pd.read_csv('train_omni.csv')\n",
    "test = pd.read_csv('test_omni.csv')\n",
    "train['BZ_GSM'] = train['BZ_GSM'].fillna(train['BZ_GSM'].mean())  # Naplní NaN hodnoty priemerom danej stĺpca\n",
    "test['BZ_GSM'] = test['BZ_GSM'].fillna(test['BZ_GSM'].mean())  \n",
    "features = ['time1', 'DST', 'DST+4', 'BZ_GSM']\n",
    "test = test[features]\n",
    "train = train[features]\n",
    "train['time1']=pd.to_datetime(train['time1'])\n",
    "test['time1']=pd.to_datetime(test['time1'])\n",
    "predicators = [\"DST\", \"BZ_GSM\"]\n",
    "y_col='DST+4'\n",
    "valid_size = int(len(train) * 0.2)\n",
    "valid = train.iloc[-valid_size:,:].copy()\n",
    "train = train.iloc[:-valid_size,:].copy()\n",
    "\n",
    "y_train = train[y_col].values.copy()\n",
    "X_train = train[predicators].values.copy()\n",
    "y_val = valid[y_col].values.copy()\n",
    "X_val = valid[predicators].values.copy()\n",
    "y_test = test[y_col].values.copy()\n",
    "X_test = test[predicators].values.copy()"
   ]
  },
  {
   "cell_type": "markdown",
   "id": "2efa3ca5-0ee7-4fe2-a5df-40fbacc3c3a9",
   "metadata": {},
   "source": [
    "### Definícia premenných a vytvorenie dátových generátorov"
   ]
  },
  {
   "cell_type": "code",
   "execution_count": 3,
   "id": "8148d8e8-b4cd-4e3d-b089-6e8108b541d1",
   "metadata": {},
   "outputs": [],
   "source": [
    "n_input = 6  \n",
    "n_features= len(X_train) \n",
    "b_size = 256 \n",
    "\n",
    "train_generator = TimeseriesGenerator(X_train, y_train, length=n_input, batch_size=b_size)\n",
    "val_generator = TimeseriesGenerator(X_val, y_val, length=n_input, batch_size=b_size)\n",
    "test_generator = TimeseriesGenerator(X_test, y_test, length=n_input, batch_size=256)"
   ]
  },
  {
   "cell_type": "code",
   "execution_count": 4,
   "id": "9c131b87-dd7f-42df-a09b-b3d3ccaf40f5",
   "metadata": {},
   "outputs": [
    {
     "name": "stdout",
     "output_type": "stream",
     "text": [
      "Počet batchov:  896\n",
      "Každý batch má features (X zložku) a labels (y zložku):  2\n",
      "Dĺžka X zložky batchu:  256\n",
      "Dĺžka y zložky batchu (počet meraní v batchi):  256\n",
      "Počet riadkov braných do úvahy pre jedno meranie (koľko sa pozerá dozadu):  6\n"
     ]
    }
   ],
   "source": [
    "print(\"Počet batchov: \", len(train_generator))\n",
    "print(\"Každý batch má features (X zložku) a labels (y zložku): \", len(train_generator[0]))\n",
    "print(\"Dĺžka X zložky batchu: \", len(train_generator[0][0]))\n",
    "print(\"Dĺžka y zložky batchu (počet meraní v batchi): \",len(train_generator[0][1]))\n",
    "print(\"Počet riadkov braných do úvahy pre jedno meranie (koľko sa pozerá dozadu): \", len(train_generator[0][0][0]))"
   ]
  },
  {
   "cell_type": "markdown",
   "id": "82be30e1-49e3-4792-af62-9143e11661ca",
   "metadata": {},
   "source": [
    "### Vytvorenie modelu"
   ]
  },
  {
   "cell_type": "code",
   "execution_count": 5,
   "id": "31172f6f-50fc-4ec6-ac85-5d083919710d",
   "metadata": {},
   "outputs": [
    {
     "name": "stderr",
     "output_type": "stream",
     "text": [
      "2024-05-16 08:23:20.126843: I tensorflow/core/platform/cpu_feature_guard.cc:193] This TensorFlow binary is optimized with oneAPI Deep Neural Network Library (oneDNN) to use the following CPU instructions in performance-critical operations:  SSE4.1 SSE4.2 AVX AVX2 FMA\n",
      "To enable them in other operations, rebuild TensorFlow with the appropriate compiler flags.\n"
     ]
    },
    {
     "name": "stdout",
     "output_type": "stream",
     "text": [
      "Model: \"model\"\n",
      "_________________________________________________________________\n",
      " Layer (type)                Output Shape              Param #   \n",
      "=================================================================\n",
      " input_1 (InputLayer)        [(None, 6, 2)]            0         \n",
      "                                                                 \n",
      " bidirectional (Bidirectiona  (None, 6, 256)           134144    \n",
      " l)                                                              \n",
      "                                                                 \n",
      " lstm_1 (LSTM)               (None, 6, 128)            197120    \n",
      "                                                                 \n",
      " time_distributed (TimeDistr  (None, 6, 1)             129       \n",
      " ibuted)                                                         \n",
      "                                                                 \n",
      " flatten (Flatten)           (None, 6)                 0         \n",
      "                                                                 \n",
      " dense_1 (Dense)             (None, 1)                 7         \n",
      "                                                                 \n",
      "=================================================================\n",
      "Total params: 331,400\n",
      "Trainable params: 331,400\n",
      "Non-trainable params: 0\n",
      "_________________________________________________________________\n",
      "None\n"
     ]
    }
   ],
   "source": [
    "inputs = Input(shape=(6,2))\n",
    "c = Bidirectional(LSTM(128, return_sequences=True, dropout=0.1,recurrent_dropout=0.1))(inputs)\n",
    "c = LSTM(128, return_sequences=True)(c)\n",
    "c = TimeDistributed(Dense(1, activation='linear'))(c)\n",
    "output = Flatten()(c)\n",
    "output = Dense(1, activation='linear')(output)\n",
    "model = Model(inputs=inputs, outputs=output)\n",
    "model.compile(loss='mse', optimizer='adam', metrics=[\"mae\"])\n",
    "print(model.summary())"
   ]
  },
  {
   "cell_type": "code",
   "execution_count": 6,
   "id": "499fa7b9-37ba-4818-89d2-c3a7292f3085",
   "metadata": {},
   "outputs": [],
   "source": [
    "saved_model = \"4h_dopredu200+BZ.hdf5\"\n",
    "checkpoint = ModelCheckpoint(saved_model, monitor='val_mae', verbose=1, save_best_only=True, mode='min')\n",
    "early = EarlyStopping(monitor=\"val_mae\", mode=\"min\", patience=25)\n",
    "callbacks_list = [checkpoint, early]"
   ]
  },
  {
   "cell_type": "markdown",
   "id": "b4cbff4f-fa32-43ea-8674-1c6ba7b29579",
   "metadata": {},
   "source": [
    "### Trénovanie"
   ]
  },
  {
   "cell_type": "code",
   "execution_count": 7,
   "id": "7431f2fe-f87d-4083-b7ac-9f5a1f0d09cf",
   "metadata": {
    "collapsed": true,
    "jupyter": {
     "outputs_hidden": true
    },
    "tags": []
   },
   "outputs": [
    {
     "name": "stdout",
     "output_type": "stream",
     "text": [
      "Epoch 1/200\n",
      "1138/1139 [============================>.] - ETA: 0s - loss: 187.1979 - mae: 7.9231\n",
      "Epoch 1: val_mae improved from inf to 7.16029, saving model to 4h_dopredu200+BZ.hdf5\n",
      "1139/1139 [==============================] - 67s 54ms/step - loss: 187.1092 - mae: 7.9217 - val_loss: 158.8120 - val_mae: 7.1603\n",
      "Epoch 2/200\n",
      "1138/1139 [============================>.] - ETA: 0s - loss: 127.9302 - mae: 7.0786\n",
      "Epoch 2: val_mae improved from 7.16029 to 6.96264, saving model to 4h_dopredu200+BZ.hdf5\n",
      "1139/1139 [==============================] - 58s 51ms/step - loss: 127.9181 - mae: 7.0789 - val_loss: 137.8937 - val_mae: 6.9626\n",
      "Epoch 3/200\n",
      "1138/1139 [============================>.] - ETA: 0s - loss: 120.6527 - mae: 6.9780\n",
      "Epoch 3: val_mae did not improve from 6.96264\n",
      "1139/1139 [==============================] - 57s 50ms/step - loss: 120.6008 - mae: 6.9772 - val_loss: 137.2551 - val_mae: 7.0289\n",
      "Epoch 4/200\n",
      "1138/1139 [============================>.] - ETA: 0s - loss: 119.3507 - mae: 6.9553\n",
      "Epoch 4: val_mae improved from 6.96264 to 6.91336, saving model to 4h_dopredu200+BZ.hdf5\n",
      "1139/1139 [==============================] - 50s 44ms/step - loss: 119.2888 - mae: 6.9534 - val_loss: 130.4323 - val_mae: 6.9134\n",
      "Epoch 5/200\n",
      "1139/1139 [==============================] - ETA: 0s - loss: 115.9889 - mae: 6.8686\n",
      "Epoch 5: val_mae improved from 6.91336 to 6.81467, saving model to 4h_dopredu200+BZ.hdf5\n",
      "1139/1139 [==============================] - 49s 43ms/step - loss: 115.9889 - mae: 6.8686 - val_loss: 130.6102 - val_mae: 6.8147\n",
      "Epoch 6/200\n",
      "1139/1139 [==============================] - ETA: 0s - loss: 114.6403 - mae: 6.8574\n",
      "Epoch 6: val_mae did not improve from 6.81467\n",
      "1139/1139 [==============================] - 49s 43ms/step - loss: 114.6403 - mae: 6.8574 - val_loss: 135.4731 - val_mae: 7.0592\n",
      "Epoch 7/200\n",
      "1139/1139 [==============================] - ETA: 0s - loss: 113.0768 - mae: 6.8177\n",
      "Epoch 7: val_mae did not improve from 6.81467\n",
      "1139/1139 [==============================] - 48s 42ms/step - loss: 113.0768 - mae: 6.8177 - val_loss: 124.7073 - val_mae: 6.9046\n",
      "Epoch 8/200\n",
      "1139/1139 [==============================] - ETA: 0s - loss: 113.3659 - mae: 6.8116\n",
      "Epoch 8: val_mae improved from 6.81467 to 6.67001, saving model to 4h_dopredu200+BZ.hdf5\n",
      "1139/1139 [==============================] - 49s 43ms/step - loss: 113.3659 - mae: 6.8116 - val_loss: 124.0503 - val_mae: 6.6700\n",
      "Epoch 9/200\n",
      "1139/1139 [==============================] - ETA: 0s - loss: 111.8335 - mae: 6.7936\n",
      "Epoch 9: val_mae did not improve from 6.67001\n",
      "1139/1139 [==============================] - 49s 43ms/step - loss: 111.8335 - mae: 6.7936 - val_loss: 123.3313 - val_mae: 6.6912\n",
      "Epoch 10/200\n",
      "1139/1139 [==============================] - ETA: 0s - loss: 111.8213 - mae: 6.7939\n",
      "Epoch 10: val_mae did not improve from 6.67001\n",
      "1139/1139 [==============================] - 48s 43ms/step - loss: 111.8213 - mae: 6.7939 - val_loss: 139.1040 - val_mae: 7.1640\n",
      "Epoch 11/200\n",
      "1139/1139 [==============================] - ETA: 0s - loss: 110.8889 - mae: 6.7616\n",
      "Epoch 11: val_mae did not improve from 6.67001\n",
      "1139/1139 [==============================] - 49s 43ms/step - loss: 110.8889 - mae: 6.7616 - val_loss: 122.9676 - val_mae: 6.6961\n",
      "Epoch 12/200\n",
      "1139/1139 [==============================] - ETA: 0s - loss: 110.7796 - mae: 6.7634\n",
      "Epoch 12: val_mae did not improve from 6.67001\n",
      "1139/1139 [==============================] - 49s 43ms/step - loss: 110.7796 - mae: 6.7634 - val_loss: 122.2706 - val_mae: 6.7327\n",
      "Epoch 13/200\n",
      "1139/1139 [==============================] - ETA: 0s - loss: 109.7334 - mae: 6.7534\n",
      "Epoch 13: val_mae did not improve from 6.67001\n",
      "1139/1139 [==============================] - 49s 43ms/step - loss: 109.7334 - mae: 6.7534 - val_loss: 128.1081 - val_mae: 6.9985\n",
      "Epoch 14/200\n",
      "1139/1139 [==============================] - ETA: 0s - loss: 109.2220 - mae: 6.7384\n",
      "Epoch 14: val_mae did not improve from 6.67001\n",
      "1139/1139 [==============================] - 49s 43ms/step - loss: 109.2220 - mae: 6.7384 - val_loss: 120.7212 - val_mae: 6.7178\n",
      "Epoch 15/200\n",
      "1139/1139 [==============================] - ETA: 0s - loss: 108.9090 - mae: 6.7325\n",
      "Epoch 15: val_mae improved from 6.67001 to 6.60703, saving model to 4h_dopredu200+BZ.hdf5\n",
      "1139/1139 [==============================] - 49s 43ms/step - loss: 108.9090 - mae: 6.7325 - val_loss: 117.9787 - val_mae: 6.6070\n",
      "Epoch 16/200\n",
      "1139/1139 [==============================] - ETA: 0s - loss: 108.3263 - mae: 6.7183\n",
      "Epoch 16: val_mae did not improve from 6.60703\n",
      "1139/1139 [==============================] - 49s 43ms/step - loss: 108.3263 - mae: 6.7183 - val_loss: 120.4351 - val_mae: 6.7217\n",
      "Epoch 17/200\n",
      "1139/1139 [==============================] - ETA: 0s - loss: 107.1147 - mae: 6.7096\n",
      "Epoch 17: val_mae did not improve from 6.60703\n",
      "1139/1139 [==============================] - 49s 43ms/step - loss: 107.1147 - mae: 6.7096 - val_loss: 125.2704 - val_mae: 6.8611\n",
      "Epoch 18/200\n",
      "1139/1139 [==============================] - ETA: 0s - loss: 108.3062 - mae: 6.7170\n",
      "Epoch 18: val_mae did not improve from 6.60703\n",
      "1139/1139 [==============================] - 48s 42ms/step - loss: 108.3062 - mae: 6.7170 - val_loss: 117.3265 - val_mae: 6.6286\n",
      "Epoch 19/200\n",
      "1139/1139 [==============================] - ETA: 0s - loss: 107.4509 - mae: 6.7031\n",
      "Epoch 19: val_mae did not improve from 6.60703\n",
      "1139/1139 [==============================] - 49s 43ms/step - loss: 107.4509 - mae: 6.7031 - val_loss: 125.3021 - val_mae: 6.7703\n",
      "Epoch 20/200\n",
      "1139/1139 [==============================] - ETA: 0s - loss: 107.1822 - mae: 6.6881\n",
      "Epoch 20: val_mae did not improve from 6.60703\n",
      "1139/1139 [==============================] - 49s 43ms/step - loss: 107.1822 - mae: 6.6881 - val_loss: 119.4921 - val_mae: 6.6675\n",
      "Epoch 21/200\n",
      "1139/1139 [==============================] - ETA: 0s - loss: 106.4683 - mae: 6.6951\n",
      "Epoch 21: val_mae did not improve from 6.60703\n",
      "1139/1139 [==============================] - 49s 43ms/step - loss: 106.4683 - mae: 6.6951 - val_loss: 123.7931 - val_mae: 6.8447\n",
      "Epoch 22/200\n",
      "1139/1139 [==============================] - ETA: 0s - loss: 106.3154 - mae: 6.6890\n",
      "Epoch 22: val_mae did not improve from 6.60703\n",
      "1139/1139 [==============================] - 48s 42ms/step - loss: 106.3154 - mae: 6.6890 - val_loss: 120.3442 - val_mae: 6.7512\n",
      "Epoch 23/200\n",
      "1139/1139 [==============================] - ETA: 0s - loss: 106.1345 - mae: 6.6791\n",
      "Epoch 23: val_mae did not improve from 6.60703\n",
      "1139/1139 [==============================] - 48s 42ms/step - loss: 106.1345 - mae: 6.6791 - val_loss: 130.5805 - val_mae: 7.1348\n",
      "Epoch 24/200\n",
      "1139/1139 [==============================] - ETA: 0s - loss: 105.9696 - mae: 6.6737\n",
      "Epoch 24: val_mae did not improve from 6.60703\n",
      "1139/1139 [==============================] - 48s 42ms/step - loss: 105.9696 - mae: 6.6737 - val_loss: 120.9132 - val_mae: 6.7397\n",
      "Epoch 25/200\n",
      "1139/1139 [==============================] - ETA: 0s - loss: 105.7903 - mae: 6.6722\n",
      "Epoch 25: val_mae did not improve from 6.60703\n",
      "1139/1139 [==============================] - 48s 42ms/step - loss: 105.7903 - mae: 6.6722 - val_loss: 121.2538 - val_mae: 6.7955\n",
      "Epoch 26/200\n",
      "1139/1139 [==============================] - ETA: 0s - loss: 105.0130 - mae: 6.6563\n",
      "Epoch 26: val_mae did not improve from 6.60703\n",
      "1139/1139 [==============================] - 48s 42ms/step - loss: 105.0130 - mae: 6.6563 - val_loss: 118.3146 - val_mae: 6.7025\n",
      "Epoch 27/200\n",
      "1139/1139 [==============================] - ETA: 0s - loss: 104.8523 - mae: 6.6587\n",
      "Epoch 27: val_mae did not improve from 6.60703\n",
      "1139/1139 [==============================] - 48s 42ms/step - loss: 104.8523 - mae: 6.6587 - val_loss: 120.6941 - val_mae: 6.6652\n",
      "Epoch 28/200\n",
      "1139/1139 [==============================] - ETA: 0s - loss: 104.2389 - mae: 6.6492\n",
      "Epoch 28: val_mae did not improve from 6.60703\n",
      "1139/1139 [==============================] - 48s 42ms/step - loss: 104.2389 - mae: 6.6492 - val_loss: 123.7221 - val_mae: 6.8403\n",
      "Epoch 29/200\n",
      "1139/1139 [==============================] - ETA: 0s - loss: 104.5191 - mae: 6.6567\n",
      "Epoch 29: val_mae did not improve from 6.60703\n",
      "1139/1139 [==============================] - 48s 42ms/step - loss: 104.5191 - mae: 6.6567 - val_loss: 133.0757 - val_mae: 7.0815\n",
      "Epoch 30/200\n",
      "1139/1139 [==============================] - ETA: 0s - loss: 104.0817 - mae: 6.6459\n",
      "Epoch 30: val_mae did not improve from 6.60703\n",
      "1139/1139 [==============================] - 48s 42ms/step - loss: 104.0817 - mae: 6.6459 - val_loss: 121.6292 - val_mae: 6.7622\n",
      "Epoch 31/200\n",
      "1139/1139 [==============================] - ETA: 0s - loss: 104.3374 - mae: 6.6487\n",
      "Epoch 31: val_mae did not improve from 6.60703\n",
      "1139/1139 [==============================] - 48s 42ms/step - loss: 104.3374 - mae: 6.6487 - val_loss: 119.5789 - val_mae: 6.7945\n",
      "Epoch 32/200\n",
      "1139/1139 [==============================] - ETA: 0s - loss: 103.4737 - mae: 6.6446\n",
      "Epoch 32: val_mae did not improve from 6.60703\n",
      "1139/1139 [==============================] - 48s 42ms/step - loss: 103.4737 - mae: 6.6446 - val_loss: 124.5008 - val_mae: 6.7680\n",
      "Epoch 33/200\n",
      "1139/1139 [==============================] - ETA: 0s - loss: 103.1934 - mae: 6.6289\n",
      "Epoch 33: val_mae did not improve from 6.60703\n",
      "1139/1139 [==============================] - 48s 42ms/step - loss: 103.1934 - mae: 6.6289 - val_loss: 121.9254 - val_mae: 6.7478\n",
      "Epoch 34/200\n",
      "1139/1139 [==============================] - ETA: 0s - loss: 103.1979 - mae: 6.6223\n",
      "Epoch 34: val_mae improved from 6.60703 to 6.59797, saving model to 4h_dopredu200+BZ.hdf5\n",
      "1139/1139 [==============================] - 48s 42ms/step - loss: 103.1979 - mae: 6.6223 - val_loss: 116.0743 - val_mae: 6.5980\n",
      "Epoch 35/200\n",
      "1139/1139 [==============================] - ETA: 0s - loss: 102.3634 - mae: 6.6221\n",
      "Epoch 35: val_mae did not improve from 6.59797\n",
      "1139/1139 [==============================] - 48s 42ms/step - loss: 102.3634 - mae: 6.6221 - val_loss: 133.5643 - val_mae: 7.0754\n",
      "Epoch 36/200\n",
      "1139/1139 [==============================] - ETA: 0s - loss: 102.8533 - mae: 6.6252\n",
      "Epoch 36: val_mae did not improve from 6.59797\n",
      "1139/1139 [==============================] - 48s 42ms/step - loss: 102.8533 - mae: 6.6252 - val_loss: 120.1171 - val_mae: 6.6408\n",
      "Epoch 37/200\n",
      "1139/1139 [==============================] - ETA: 0s - loss: 102.0983 - mae: 6.6166\n",
      "Epoch 37: val_mae did not improve from 6.59797\n",
      "1139/1139 [==============================] - 48s 42ms/step - loss: 102.0983 - mae: 6.6166 - val_loss: 124.7791 - val_mae: 6.8841\n",
      "Epoch 38/200\n",
      "1139/1139 [==============================] - ETA: 0s - loss: 103.1992 - mae: 6.6261\n",
      "Epoch 38: val_mae did not improve from 6.59797\n",
      "1139/1139 [==============================] - 48s 42ms/step - loss: 103.1992 - mae: 6.6261 - val_loss: 120.8971 - val_mae: 6.6709\n",
      "Epoch 39/200\n",
      "1139/1139 [==============================] - ETA: 0s - loss: 102.2577 - mae: 6.6173\n",
      "Epoch 39: val_mae did not improve from 6.59797\n",
      "1139/1139 [==============================] - 48s 42ms/step - loss: 102.2577 - mae: 6.6173 - val_loss: 126.5705 - val_mae: 7.0486\n",
      "Epoch 40/200\n",
      "1139/1139 [==============================] - ETA: 0s - loss: 102.0536 - mae: 6.6135\n",
      "Epoch 40: val_mae did not improve from 6.59797\n",
      "1139/1139 [==============================] - 48s 42ms/step - loss: 102.0536 - mae: 6.6135 - val_loss: 116.9374 - val_mae: 6.6341\n",
      "Epoch 41/200\n",
      "1139/1139 [==============================] - ETA: 0s - loss: 101.0074 - mae: 6.6021\n",
      "Epoch 41: val_mae did not improve from 6.59797\n",
      "1139/1139 [==============================] - 48s 42ms/step - loss: 101.0074 - mae: 6.6021 - val_loss: 122.7373 - val_mae: 6.7963\n",
      "Epoch 42/200\n",
      "1139/1139 [==============================] - ETA: 0s - loss: 101.9255 - mae: 6.6045\n",
      "Epoch 42: val_mae did not improve from 6.59797\n",
      "1139/1139 [==============================] - 48s 42ms/step - loss: 101.9255 - mae: 6.6045 - val_loss: 126.1078 - val_mae: 6.7948\n",
      "Epoch 43/200\n",
      "1139/1139 [==============================] - ETA: 0s - loss: 101.8707 - mae: 6.6080\n",
      "Epoch 43: val_mae did not improve from 6.59797\n",
      "1139/1139 [==============================] - 48s 42ms/step - loss: 101.8707 - mae: 6.6080 - val_loss: 130.8939 - val_mae: 7.0555\n",
      "Epoch 44/200\n",
      "1139/1139 [==============================] - ETA: 0s - loss: 101.7377 - mae: 6.6072\n",
      "Epoch 44: val_mae did not improve from 6.59797\n",
      "1139/1139 [==============================] - 48s 42ms/step - loss: 101.7377 - mae: 6.6072 - val_loss: 116.7591 - val_mae: 6.5986\n",
      "Epoch 45/200\n",
      "1139/1139 [==============================] - ETA: 0s - loss: 100.9598 - mae: 6.5949\n",
      "Epoch 45: val_mae did not improve from 6.59797\n",
      "1139/1139 [==============================] - 48s 42ms/step - loss: 100.9598 - mae: 6.5949 - val_loss: 127.6800 - val_mae: 6.9051\n",
      "Epoch 46/200\n",
      "1139/1139 [==============================] - ETA: 0s - loss: 100.5686 - mae: 6.5924\n",
      "Epoch 46: val_mae did not improve from 6.59797\n",
      "1139/1139 [==============================] - 48s 42ms/step - loss: 100.5686 - mae: 6.5924 - val_loss: 123.4613 - val_mae: 6.7908\n",
      "Epoch 47/200\n",
      "1139/1139 [==============================] - ETA: 0s - loss: 101.2869 - mae: 6.5982\n",
      "Epoch 47: val_mae did not improve from 6.59797\n",
      "1139/1139 [==============================] - 48s 42ms/step - loss: 101.2869 - mae: 6.5982 - val_loss: 122.3844 - val_mae: 6.7735\n",
      "Epoch 48/200\n",
      "1139/1139 [==============================] - ETA: 0s - loss: 100.8856 - mae: 6.5944\n",
      "Epoch 48: val_mae did not improve from 6.59797\n",
      "1139/1139 [==============================] - 48s 42ms/step - loss: 100.8856 - mae: 6.5944 - val_loss: 124.8222 - val_mae: 6.8172\n",
      "Epoch 49/200\n",
      "1139/1139 [==============================] - ETA: 0s - loss: 100.0709 - mae: 6.5776\n",
      "Epoch 49: val_mae did not improve from 6.59797\n",
      "1139/1139 [==============================] - 48s 42ms/step - loss: 100.0709 - mae: 6.5776 - val_loss: 124.1534 - val_mae: 6.7165\n",
      "Epoch 50/200\n",
      "1139/1139 [==============================] - ETA: 0s - loss: 100.3674 - mae: 6.5850\n",
      "Epoch 50: val_mae did not improve from 6.59797\n",
      "1139/1139 [==============================] - 48s 42ms/step - loss: 100.3674 - mae: 6.5850 - val_loss: 128.7611 - val_mae: 6.9218\n",
      "Epoch 51/200\n",
      "1139/1139 [==============================] - ETA: 0s - loss: 99.5513 - mae: 6.5691\n",
      "Epoch 51: val_mae did not improve from 6.59797\n",
      "1139/1139 [==============================] - 48s 42ms/step - loss: 99.5513 - mae: 6.5691 - val_loss: 127.1882 - val_mae: 6.8928\n",
      "Epoch 52/200\n",
      "1139/1139 [==============================] - ETA: 0s - loss: 100.0505 - mae: 6.5793\n",
      "Epoch 52: val_mae did not improve from 6.59797\n",
      "1139/1139 [==============================] - 48s 42ms/step - loss: 100.0505 - mae: 6.5793 - val_loss: 126.3011 - val_mae: 6.8355\n",
      "Epoch 53/200\n",
      "1139/1139 [==============================] - ETA: 0s - loss: 100.0271 - mae: 6.5759\n",
      "Epoch 53: val_mae did not improve from 6.59797\n",
      "1139/1139 [==============================] - 48s 42ms/step - loss: 100.0271 - mae: 6.5759 - val_loss: 126.1220 - val_mae: 6.8913\n",
      "Epoch 54/200\n",
      "1139/1139 [==============================] - ETA: 0s - loss: 99.4170 - mae: 6.5658\n",
      "Epoch 54: val_mae did not improve from 6.59797\n",
      "1139/1139 [==============================] - 48s 42ms/step - loss: 99.4170 - mae: 6.5658 - val_loss: 125.2631 - val_mae: 6.8062\n",
      "Epoch 55/200\n",
      "1139/1139 [==============================] - ETA: 0s - loss: 98.7912 - mae: 6.5602\n",
      "Epoch 55: val_mae did not improve from 6.59797\n",
      "1139/1139 [==============================] - 48s 42ms/step - loss: 98.7912 - mae: 6.5602 - val_loss: 121.4330 - val_mae: 6.7356\n",
      "Epoch 56/200\n",
      "1139/1139 [==============================] - ETA: 0s - loss: 99.5538 - mae: 6.5692\n",
      "Epoch 56: val_mae did not improve from 6.59797\n",
      "1139/1139 [==============================] - 48s 42ms/step - loss: 99.5538 - mae: 6.5692 - val_loss: 118.6993 - val_mae: 6.6461\n",
      "Epoch 57/200\n",
      "1139/1139 [==============================] - ETA: 0s - loss: 99.7229 - mae: 6.5711\n",
      "Epoch 57: val_mae did not improve from 6.59797\n",
      "1139/1139 [==============================] - 48s 42ms/step - loss: 99.7229 - mae: 6.5711 - val_loss: 124.8715 - val_mae: 6.8281\n",
      "Epoch 58/200\n",
      "1139/1139 [==============================] - ETA: 0s - loss: 97.9374 - mae: 6.5433\n",
      "Epoch 58: val_mae did not improve from 6.59797\n",
      "1139/1139 [==============================] - 48s 42ms/step - loss: 97.9374 - mae: 6.5433 - val_loss: 122.0158 - val_mae: 6.7173\n",
      "Epoch 59/200\n",
      "1139/1139 [==============================] - ETA: 0s - loss: 98.9059 - mae: 6.5605\n",
      "Epoch 59: val_mae did not improve from 6.59797\n",
      "1139/1139 [==============================] - 48s 42ms/step - loss: 98.9059 - mae: 6.5605 - val_loss: 128.9971 - val_mae: 6.9414\n"
     ]
    }
   ],
   "source": [
    "history = model.fit(train_generator, validation_data=val_generator, epochs=200, verbose=1, callbacks = callbacks_list)"
   ]
  },
  {
   "cell_type": "markdown",
   "id": "6c033ba9-3087-4317-85dc-1bcaecda304d",
   "metadata": {},
   "source": [
    "### Načítanie najlepšieho modelu"
   ]
  },
  {
   "cell_type": "code",
   "execution_count": 7,
   "id": "95e3acdd-cdc7-4f8c-8d39-c76eb4f14c19",
   "metadata": {},
   "outputs": [],
   "source": [
    "model = keras.models.load_model('4h_dopredu200+BZ.hdf5')"
   ]
  },
  {
   "cell_type": "markdown",
   "id": "31ebb383-6016-421f-a981-e1f196b2996a",
   "metadata": {},
   "source": [
    "### Vytvorenie predikcií"
   ]
  },
  {
   "cell_type": "code",
   "execution_count": 8,
   "id": "f4897c48-8811-4bb2-938c-687f98ba1bc5",
   "metadata": {},
   "outputs": [
    {
     "name": "stdout",
     "output_type": "stream",
     "text": [
      "633/633 [==============================] - 12s 18ms/step\n"
     ]
    }
   ],
   "source": [
    "y_pred = model.predict(test_generator)"
   ]
  },
  {
   "cell_type": "markdown",
   "id": "f95340dc-2a7f-4eaf-a50d-b8d23ad52897",
   "metadata": {},
   "source": [
    "### Nájdenie optimálneho thresholdu na validačnej sade"
   ]
  },
  {
   "cell_type": "code",
   "execution_count": 9,
   "id": "4abf4ac6-73b9-4ee1-8c0a-f9b8e6834fde",
   "metadata": {},
   "outputs": [
    {
     "name": "stdout",
     "output_type": "stream",
     "text": [
      "224/224 [==============================] - 4s 18ms/step\n",
      "Best Threshold for MCC on Validation Set: -19.599999999999966\n",
      "Best MCC on Validation Set: 0.7695250230343575\n",
      "-19.6\n"
     ]
    }
   ],
   "source": [
    "y_val_pred = model.predict(val_generator)\n",
    "\n",
    "true_labels_val = np.where(y_val[n_input:] <= -20, 1, 0)  \n",
    "\n",
    "def calculate_mcc(y_true, y_pred):\n",
    "    return matthews_corrcoef(y_true, y_pred)\n",
    "\n",
    "thresholds = np.arange(-10, -40, -0.1)\n",
    "mcc_scores = []\n",
    "\n",
    "for thresh in thresholds:\n",
    "    predictions = np.where(y_val_pred <= thresh, 1, 0)\n",
    "    mcc = calculate_mcc(true_labels_val, predictions)\n",
    "    mcc_scores.append(mcc)\n",
    "\n",
    "best_threshold_mcc = thresholds[np.argmax(mcc_scores)]\n",
    "best_mcc = max(mcc_scores)\n",
    "\n",
    "print(\"Best Threshold for MCC on Validation Set:\", best_threshold_mcc)\n",
    "print(\"Best MCC on Validation Set:\", best_mcc)\n",
    "best_threshold_mcc_rounded = round(best_threshold_mcc, 1)"
   ]
  },
  {
   "cell_type": "markdown",
   "id": "d0df61cb-503c-4da1-9a02-9e44ad41a951",
   "metadata": {},
   "source": [
    "### Výpočet metrík, vykreslenie grafu predikcie a uloženie predikcií"
   ]
  },
  {
   "cell_type": "code",
   "execution_count": 10,
   "id": "c19dee18-2407-4dfb-955d-91c207aced00",
   "metadata": {},
   "outputs": [
    {
     "name": "stdout",
     "output_type": "stream",
     "text": [
      "Mean Squared Error: 56.34220335552329\n"
     ]
    }
   ],
   "source": [
    "from sklearn.metrics import mean_squared_error\n",
    "mse = mean_squared_error(y_test[:-6], y_pred.reshape(-1))\n",
    "print(f\"Mean Squared Error: {mse}\")"
   ]
  },
  {
   "cell_type": "code",
   "execution_count": 11,
   "id": "6ce53680-f23f-4f1d-aa16-86a5b5621f4c",
   "metadata": {},
   "outputs": [
    {
     "name": "stdout",
     "output_type": "stream",
     "text": [
      "Confusion matrix: \n",
      "[[125551   4437]\n",
      " [  9582  22460]]\n"
     ]
    }
   ],
   "source": [
    "y_pred2 = np.where(y_pred <= best_threshold_mcc_rounded, 1, 0)\n",
    "y_test2 = np.where(y_test[n_input:]  <= -20, 1, 0)\n",
    "\n",
    "cm = confusion_matrix(y_test2, y_pred2)\n",
    "print(\"Confusion matrix: \\n\" + str(cm))"
   ]
  },
  {
   "cell_type": "code",
   "execution_count": 12,
   "id": "f3194424-faad-4416-9858-beb74d48931e",
   "metadata": {},
   "outputs": [
    {
     "name": "stdout",
     "output_type": "stream",
     "text": [
      "              precision    recall  f1-score   support\n",
      "\n",
      "           0       0.93      0.97      0.95    129988\n",
      "           1       0.84      0.70      0.76     32042\n",
      "\n",
      "    accuracy                           0.91    162030\n",
      "   macro avg       0.88      0.83      0.85    162030\n",
      "weighted avg       0.91      0.91      0.91    162030\n",
      "\n"
     ]
    }
   ],
   "source": [
    "print(classification_report(y_test2, y_pred2))\n"
   ]
  },
  {
   "cell_type": "code",
   "execution_count": 13,
   "id": "22644397-1c18-4047-9637-48194ca86c88",
   "metadata": {},
   "outputs": [
    {
     "data": {
      "image/png": "[encoded data removed]",
      "text/plain": [
       "<Figure size 640x480 with 1 Axes>"
      ]
     },
     "metadata": {},
     "output_type": "display_data"
    }
   ],
   "source": [
    "df = pd.DataFrame(data={\"time\": test['time1'][n_input:],\"y_true\": y_test[n_input:].reshape(-1) , \"y_predict\": y_pred.reshape(-1)})\n",
    "\n",
    "plt.figure()\n",
    "plt.title('Predicting the change in DST Index')\n",
    "plt.plot(df['time'],df['y_true'], label='Skutočné hodnoty')\n",
    "plt.plot(df['time'],df['y_predict'], label='Predikované hodnoty')\n",
    "plt.legend()\n",
    "plt.gcf().autofmt_xdate()\n",
    "plt.grid(True)"
   ]
  },
  {
   "cell_type": "code",
   "execution_count": 14,
   "id": "1e791017-d97d-437a-84c0-5549bfeca915",
   "metadata": {},
   "outputs": [],
   "source": [
    "df.to_csv('4h_dopredu+200+BZ.csv')"
   ]
  },
  {
   "cell_type": "code",
   "execution_count": 15,
   "id": "819927f3-7315-4c28-9e5b-6ef50ed7d10a",
   "metadata": {},
   "outputs": [
    {
     "name": "stdout",
     "output_type": "stream",
     "text": [
      "ACC=0.913478985373079\n",
      "MCC=0.7138190377967837\n"
     ]
    }
   ],
   "source": [
    "TN, FP, FN, TP = cm.ravel()\n",
    "ACC = (TP + TN) / (TP + TN + FP + FN)\n",
    "MCC = matthews_corrcoef(y_test2, y_pred2)\n",
    "print(\"ACC={}\".format(ACC))\n",
    "print(\"MCC={}\".format(MCC))"
   ]
  },
  {
   "cell_type": "code",
   "execution_count": null,
   "id": "5346eed1-c2ac-4405-80cd-cf69a754875e",
   "metadata": {},
   "outputs": [],
   "source": []
  }
 ],
 "metadata": {
  "kernelspec": {
   "display_name": "Python 3 (ipykernel)",
   "language": "python",
   "name": "python3"
  },
  "language_info": {
   "codemirror_mode": {
    "name": "ipython",
    "version": 3
   },
   "file_extension": ".py",
   "mimetype": "text/x-python",
   "name": "python",
   "nbconvert_exporter": "python",
   "pygments_lexer": "ipython3",
   "version": "3.10.6"
  }
 },
 "nbformat": 4,
 "nbformat_minor": 5
}
