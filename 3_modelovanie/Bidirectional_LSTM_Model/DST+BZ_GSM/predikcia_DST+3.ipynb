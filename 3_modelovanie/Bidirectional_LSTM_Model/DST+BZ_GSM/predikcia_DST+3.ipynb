{
 "cells": [
  {
   "cell_type": "code",
   "execution_count": 1,
   "id": "107ac775-8410-4d8b-848d-b95b1dff932c",
   "metadata": {},
   "outputs": [
    {
     "name": "stderr",
     "output_type": "stream",
     "text": [
      "2024-05-16 08:22:31.872246: I tensorflow/core/platform/cpu_feature_guard.cc:193] This TensorFlow binary is optimized with oneAPI Deep Neural Network Library (oneDNN) to use the following CPU instructions in performance-critical operations:  SSE4.1 SSE4.2 AVX AVX2 FMA\n",
      "To enable them in other operations, rebuild TensorFlow with the appropriate compiler flags.\n"
     ]
    }
   ],
   "source": [
    "import pandas as pd\n",
    "import numpy as np\n",
    "from tensorflow import keras\n",
    "import matplotlib.pyplot as plt\n",
    "from sklearn.preprocessing import MinMaxScaler, StandardScaler\n",
    "from pandas.plotting import register_matplotlib_converters\n",
    "register_matplotlib_converters()\n",
    "import seaborn as sns\n",
    "from tensorflow.keras.preprocessing.sequence import TimeseriesGenerator\n",
    "from keras.models import Sequential\n",
    "from keras.layers import Dense, Activation, Dropout, Input, Conv1D, LSTM, MaxPooling1D, Flatten, TimeDistributed, Bidirectional\n",
    "from tensorflow.keras.callbacks import ModelCheckpoint, EarlyStopping\n",
    "from keras.models import Model\n",
    "from scipy.special import expit, logit\n",
    "from sklearn.metrics import confusion_matrix, classification_report, matthews_corrcoef"
   ]
  },
  {
   "cell_type": "code",
   "execution_count": 2,
   "id": "69621f70-0d4e-4856-b7ae-a037bff6c5f8",
   "metadata": {},
   "outputs": [],
   "source": [
    "train = pd.read_csv('train_omni.csv')\n",
    "test = pd.read_csv('test_omni.csv')\n",
    "train['BZ_GSM'] = train['BZ_GSM'].fillna(train['BZ_GSM'].mean())  # Naplní NaN hodnoty priemerom danej stĺpca\n",
    "test['BZ_GSM'] = test['BZ_GSM'].fillna(test['BZ_GSM'].mean())  \n",
    "features = ['time1', 'DST', 'DST+3', 'BZ_GSM']\n",
    "test = test[features]\n",
    "train = train[features]\n",
    "train['time1']=pd.to_datetime(train['time1'])\n",
    "test['time1']=pd.to_datetime(test['time1'])\n",
    "predicators = [\"DST\", \"BZ_GSM\"]\n",
    "\n",
    "y_col='DST+3'\n",
    "valid_size = int(len(train) * 0.2)\n",
    "valid = train.iloc[-valid_size:,:].copy()\n",
    "train = train.iloc[:-valid_size,:].copy()\n",
    "\n",
    "y_train = train[y_col].values.copy()\n",
    "X_train = train[predicators].values.copy()\n",
    "y_val = valid[y_col].values.copy()\n",
    "X_val = valid[predicators].values.copy()\n",
    "y_test = test[y_col].values.copy()\n",
    "X_test = test[predicators].values.copy()"
   ]
  },
  {
   "cell_type": "code",
   "execution_count": 4,
   "id": "d5279821-aebb-42e9-9973-9752042d5907",
   "metadata": {
    "tags": []
   },
   "outputs": [],
   "source": [
    "n_input = 6  \n",
    "n_features= len(X_train)  \n",
    "b_size = 256  \n",
    "\n",
    "train_generator = TimeseriesGenerator(X_train, y_train, length=n_input, batch_size=b_size)\n",
    "val_generator = TimeseriesGenerator(X_val, y_val, length=n_input, batch_size=b_size)\n",
    "test_generator = TimeseriesGenerator(X_test, y_test, length=n_input, batch_size=256)"
   ]
  },
  {
   "cell_type": "code",
   "execution_count": 5,
   "id": "f015e82a-2dcc-4409-99c9-fe65be077b20",
   "metadata": {},
   "outputs": [
    {
     "name": "stdout",
     "output_type": "stream",
     "text": [
      "Počet batchov:  896\n",
      "Každý batch má features (X zložku) a labels (y zložku):  2\n",
      "Dĺžka X zložky batchu:  256\n",
      "Dĺžka y zložky batchu (počet meraní v batchi):  256\n",
      "Počet riadkov braných do úvahy pre jedno meranie (koľko sa pozerá dozadu):  6\n"
     ]
    }
   ],
   "source": [
    "print(\"Počet batchov: \", len(train_generator))\n",
    "print(\"Každý batch má features (X zložku) a labels (y zložku): \", len(train_generator[0]))\n",
    "print(\"Dĺžka X zložky batchu: \", len(train_generator[0][0]))\n",
    "print(\"Dĺžka y zložky batchu (počet meraní v batchi): \",len(train_generator[0][1]))\n",
    "print(\"Počet riadkov braných do úvahy pre jedno meranie (koľko sa pozerá dozadu): \", len(train_generator[0][0][0]))"
   ]
  },
  {
   "cell_type": "code",
   "execution_count": 6,
   "id": "74b15817-2f7d-4987-aa9a-a09089644a45",
   "metadata": {},
   "outputs": [
    {
     "name": "stderr",
     "output_type": "stream",
     "text": [
      "2024-05-16 08:22:45.592062: I tensorflow/core/platform/cpu_feature_guard.cc:193] This TensorFlow binary is optimized with oneAPI Deep Neural Network Library (oneDNN) to use the following CPU instructions in performance-critical operations:  SSE4.1 SSE4.2 AVX AVX2 FMA\n",
      "To enable them in other operations, rebuild TensorFlow with the appropriate compiler flags.\n"
     ]
    },
    {
     "name": "stdout",
     "output_type": "stream",
     "text": [
      "Model: \"model\"\n",
      "_________________________________________________________________\n",
      " Layer (type)                Output Shape              Param #   \n",
      "=================================================================\n",
      " input_1 (InputLayer)        [(None, 6, 2)]            0         \n",
      "                                                                 \n",
      " bidirectional (Bidirectiona  (None, 6, 256)           134144    \n",
      " l)                                                              \n",
      "                                                                 \n",
      " lstm_1 (LSTM)               (None, 6, 128)            197120    \n",
      "                                                                 \n",
      " time_distributed (TimeDistr  (None, 6, 1)             129       \n",
      " ibuted)                                                         \n",
      "                                                                 \n",
      " flatten (Flatten)           (None, 6)                 0         \n",
      "                                                                 \n",
      " dense_1 (Dense)             (None, 1)                 7         \n",
      "                                                                 \n",
      "=================================================================\n",
      "Total params: 331,400\n",
      "Trainable params: 331,400\n",
      "Non-trainable params: 0\n",
      "_________________________________________________________________\n",
      "None\n"
     ]
    }
   ],
   "source": [
    "inputs = Input(shape=(6,2))\n",
    "c = Bidirectional(LSTM(128, return_sequences=True, dropout=0.1,recurrent_dropout=0.1))(inputs)\n",
    "c = LSTM(128, return_sequences=True)(c)\n",
    "c = TimeDistributed(Dense(1, activation='linear'))(c)\n",
    "output = Flatten()(c)\n",
    "output = Dense(1, activation='linear')(output)\n",
    "model = Model(inputs=inputs, outputs=output)\n",
    "model.compile(loss='mse', optimizer='adam', metrics=[\"mae\"])\n",
    "print(model.summary())"
   ]
  },
  {
   "cell_type": "code",
   "execution_count": 7,
   "id": "2f8caecf-273b-4323-9e0c-d7992950092b",
   "metadata": {},
   "outputs": [],
   "source": [
    "saved_model = \"3h_dopredu200+BZ.hdf5\"\n",
    "checkpoint = ModelCheckpoint(saved_model, monitor='val_mae', verbose=1, save_best_only=True, mode='min')\n",
    "early = EarlyStopping(monitor=\"val_mae\", mode=\"min\", patience=25)\n",
    "callbacks_list = [checkpoint, early]"
   ]
  },
  {
   "cell_type": "code",
   "execution_count": 10,
   "id": "4fabaaa1-0c84-48a4-a579-e3137991b5eb",
   "metadata": {
    "collapsed": true,
    "jupyter": {
     "outputs_hidden": true
    },
    "tags": []
   },
   "outputs": [
    {
     "name": "stdout",
     "output_type": "stream",
     "text": [
      "Epoch 1/200\n",
      "1139/1139 [==============================] - ETA: 0s - loss: 190.7267 - mae: 7.5573\n",
      "Epoch 1: val_mae improved from inf to 6.80338, saving model to 3h_dopredu200+BZ.hdf5\n",
      "1139/1139 [==============================] - 77s 63ms/step - loss: 190.7267 - mae: 7.5573 - val_loss: 153.8640 - val_mae: 6.8034\n",
      "Epoch 2/200\n",
      "1139/1139 [==============================] - ETA: 0s - loss: 102.8134 - mae: 6.2701\n",
      "Epoch 2: val_mae improved from 6.80338 to 6.28776, saving model to 3h_dopredu200+BZ.hdf5\n",
      "1139/1139 [==============================] - 63s 56ms/step - loss: 102.8134 - mae: 6.2701 - val_loss: 116.5063 - val_mae: 6.2878\n",
      "Epoch 3/200\n",
      "1139/1139 [==============================] - ETA: 0s - loss: 92.9083 - mae: 6.1014\n",
      "Epoch 3: val_mae improved from 6.28776 to 5.88658, saving model to 3h_dopredu200+BZ.hdf5\n",
      "1139/1139 [==============================] - 62s 55ms/step - loss: 92.9083 - mae: 6.1014 - val_loss: 98.5279 - val_mae: 5.8866\n",
      "Epoch 4/200\n",
      "1139/1139 [==============================] - ETA: 0s - loss: 89.3228 - mae: 6.0470\n",
      "Epoch 4: val_mae did not improve from 5.88658\n",
      "1139/1139 [==============================] - 62s 55ms/step - loss: 89.3228 - mae: 6.0470 - val_loss: 100.4525 - val_mae: 6.0921\n",
      "Epoch 5/200\n",
      "1138/1139 [============================>.] - ETA: 0s - loss: 89.3401 - mae: 6.0463\n",
      "Epoch 5: val_mae improved from 5.88658 to 5.85643, saving model to 3h_dopredu200+BZ.hdf5\n",
      "1139/1139 [==============================] - 63s 55ms/step - loss: 89.3293 - mae: 6.0468 - val_loss: 93.2412 - val_mae: 5.8564\n",
      "Epoch 6/200\n",
      "1139/1139 [==============================] - ETA: 0s - loss: 88.1932 - mae: 6.0110\n",
      "Epoch 6: val_mae did not improve from 5.85643\n",
      "1139/1139 [==============================] - 62s 55ms/step - loss: 88.1932 - mae: 6.0110 - val_loss: 102.6480 - val_mae: 6.1384\n",
      "Epoch 7/200\n",
      "1138/1139 [============================>.] - ETA: 0s - loss: 86.2161 - mae: 5.9868\n",
      "Epoch 7: val_mae improved from 5.85643 to 5.79264, saving model to 3h_dopredu200+BZ.hdf5\n",
      "1139/1139 [==============================] - 62s 55ms/step - loss: 86.1793 - mae: 5.9858 - val_loss: 90.0177 - val_mae: 5.7926\n",
      "Epoch 8/200\n",
      "1138/1139 [============================>.] - ETA: 0s - loss: 83.7997 - mae: 5.9216\n",
      "Epoch 8: val_mae improved from 5.79264 to 5.73250, saving model to 3h_dopredu200+BZ.hdf5\n",
      "1139/1139 [==============================] - 63s 55ms/step - loss: 83.7911 - mae: 5.9215 - val_loss: 86.0609 - val_mae: 5.7325\n",
      "Epoch 9/200\n",
      "1139/1139 [==============================] - ETA: 0s - loss: 85.5119 - mae: 5.9600\n",
      "Epoch 9: val_mae did not improve from 5.73250\n",
      "1139/1139 [==============================] - 63s 55ms/step - loss: 85.5119 - mae: 5.9600 - val_loss: 97.3438 - val_mae: 6.0403\n",
      "Epoch 10/200\n",
      "1139/1139 [==============================] - ETA: 0s - loss: 83.3361 - mae: 5.9160\n",
      "Epoch 10: val_mae did not improve from 5.73250\n",
      "1139/1139 [==============================] - 62s 55ms/step - loss: 83.3361 - mae: 5.9160 - val_loss: 94.3538 - val_mae: 5.8409\n",
      "Epoch 11/200\n",
      "1139/1139 [==============================] - ETA: 0s - loss: 83.4962 - mae: 5.9100\n",
      "Epoch 11: val_mae did not improve from 5.73250\n",
      "1139/1139 [==============================] - 61s 54ms/step - loss: 83.4962 - mae: 5.9100 - val_loss: 93.4216 - val_mae: 5.9568\n",
      "Epoch 12/200\n",
      "1139/1139 [==============================] - ETA: 0s - loss: 82.9380 - mae: 5.9127\n",
      "Epoch 12: val_mae did not improve from 5.73250\n",
      "1139/1139 [==============================] - 62s 55ms/step - loss: 82.9380 - mae: 5.9127 - val_loss: 99.4954 - val_mae: 5.9694\n",
      "Epoch 13/200\n",
      "1139/1139 [==============================] - ETA: 0s - loss: 82.4006 - mae: 5.9017\n",
      "Epoch 13: val_mae did not improve from 5.73250\n",
      "1139/1139 [==============================] - 62s 55ms/step - loss: 82.4006 - mae: 5.9017 - val_loss: 93.5382 - val_mae: 5.9459\n",
      "Epoch 14/200\n",
      "1138/1139 [============================>.] - ETA: 0s - loss: 82.4926 - mae: 5.8928\n",
      "Epoch 14: val_mae improved from 5.73250 to 5.70563, saving model to 3h_dopredu200+BZ.hdf5\n",
      "1139/1139 [==============================] - 61s 53ms/step - loss: 82.4544 - mae: 5.8918 - val_loss: 82.8372 - val_mae: 5.7056\n",
      "Epoch 15/200\n",
      "1139/1139 [==============================] - ETA: 0s - loss: 82.1609 - mae: 5.8864\n",
      "Epoch 15: val_mae did not improve from 5.70563\n",
      "1139/1139 [==============================] - 61s 54ms/step - loss: 82.1609 - mae: 5.8864 - val_loss: 89.1726 - val_mae: 5.8826\n",
      "Epoch 16/200\n",
      "1138/1139 [============================>.] - ETA: 0s - loss: 81.5895 - mae: 5.8790\n",
      "Epoch 16: val_mae did not improve from 5.70563\n",
      "1139/1139 [==============================] - 63s 55ms/step - loss: 81.5509 - mae: 5.8780 - val_loss: 88.1216 - val_mae: 5.8111\n",
      "Epoch 17/200\n",
      "1139/1139 [==============================] - ETA: 0s - loss: 81.5132 - mae: 5.8800\n",
      "Epoch 17: val_mae did not improve from 5.70563\n",
      "1139/1139 [==============================] - 62s 54ms/step - loss: 81.5132 - mae: 5.8800 - val_loss: 86.1650 - val_mae: 5.7716\n",
      "Epoch 18/200\n",
      "1138/1139 [============================>.] - ETA: 0s - loss: 81.6985 - mae: 5.8753\n",
      "Epoch 18: val_mae did not improve from 5.70563\n",
      "1139/1139 [==============================] - 61s 54ms/step - loss: 81.6535 - mae: 5.8738 - val_loss: 89.1310 - val_mae: 5.8356\n",
      "Epoch 19/200\n",
      "1139/1139 [==============================] - ETA: 0s - loss: 81.9709 - mae: 5.8667\n",
      "Epoch 19: val_mae did not improve from 5.70563\n",
      "1139/1139 [==============================] - 60s 53ms/step - loss: 81.9709 - mae: 5.8667 - val_loss: 92.5633 - val_mae: 5.9158\n",
      "Epoch 20/200\n",
      "1138/1139 [============================>.] - ETA: 0s - loss: 80.4167 - mae: 5.8497\n",
      "Epoch 20: val_mae did not improve from 5.70563\n",
      "1139/1139 [==============================] - 63s 55ms/step - loss: 80.3915 - mae: 5.8492 - val_loss: 90.3280 - val_mae: 5.8813\n",
      "Epoch 21/200\n",
      "1139/1139 [==============================] - ETA: 0s - loss: 79.7931 - mae: 5.8504\n",
      "Epoch 21: val_mae did not improve from 5.70563\n",
      "1139/1139 [==============================] - 65s 57ms/step - loss: 79.7931 - mae: 5.8504 - val_loss: 113.2800 - val_mae: 6.5447\n",
      "Epoch 22/200\n",
      "1139/1139 [==============================] - ETA: 0s - loss: 80.1550 - mae: 5.8527\n",
      "Epoch 22: val_mae did not improve from 5.70563\n",
      "1139/1139 [==============================] - 66s 58ms/step - loss: 80.1550 - mae: 5.8527 - val_loss: 96.4836 - val_mae: 6.1105\n",
      "Epoch 23/200\n",
      "1139/1139 [==============================] - ETA: 0s - loss: 80.9046 - mae: 5.8617\n",
      "Epoch 23: val_mae did not improve from 5.70563\n",
      "1139/1139 [==============================] - 65s 57ms/step - loss: 80.9046 - mae: 5.8617 - val_loss: 89.2991 - val_mae: 5.9288\n",
      "Epoch 24/200\n",
      "1139/1139 [==============================] - ETA: 0s - loss: 80.8803 - mae: 5.8662\n",
      "Epoch 24: val_mae did not improve from 5.70563\n",
      "1139/1139 [==============================] - 65s 57ms/step - loss: 80.8803 - mae: 5.8662 - val_loss: 101.7310 - val_mae: 6.0647\n",
      "Epoch 25/200\n",
      "1139/1139 [==============================] - ETA: 0s - loss: 78.8368 - mae: 5.8342\n",
      "Epoch 25: val_mae did not improve from 5.70563\n",
      "1139/1139 [==============================] - 65s 57ms/step - loss: 78.8368 - mae: 5.8342 - val_loss: 104.1282 - val_mae: 6.1540\n",
      "Epoch 26/200\n",
      "1139/1139 [==============================] - ETA: 0s - loss: 79.2758 - mae: 5.8358\n",
      "Epoch 26: val_mae did not improve from 5.70563\n",
      "1139/1139 [==============================] - 64s 57ms/step - loss: 79.2758 - mae: 5.8358 - val_loss: 87.8752 - val_mae: 5.8783\n",
      "Epoch 27/200\n",
      "1138/1139 [============================>.] - ETA: 0s - loss: 79.5645 - mae: 5.8406\n",
      "Epoch 27: val_mae did not improve from 5.70563\n",
      "1139/1139 [==============================] - 65s 57ms/step - loss: 79.5251 - mae: 5.8394 - val_loss: 84.9892 - val_mae: 5.7298\n",
      "Epoch 28/200\n",
      "1138/1139 [============================>.] - ETA: 0s - loss: 79.4205 - mae: 5.8306\n",
      "Epoch 28: val_mae did not improve from 5.70563\n",
      "1139/1139 [==============================] - 65s 57ms/step - loss: 79.4784 - mae: 5.8318 - val_loss: 91.1133 - val_mae: 5.9448\n",
      "Epoch 29/200\n",
      "1139/1139 [==============================] - ETA: 0s - loss: 78.7349 - mae: 5.8286\n",
      "Epoch 29: val_mae did not improve from 5.70563\n",
      "1139/1139 [==============================] - 66s 58ms/step - loss: 78.7349 - mae: 5.8286 - val_loss: 90.6372 - val_mae: 5.9042\n",
      "Epoch 30/200\n",
      "1139/1139 [==============================] - ETA: 0s - loss: 78.3575 - mae: 5.8218\n",
      "Epoch 30: val_mae did not improve from 5.70563\n",
      "1139/1139 [==============================] - 67s 59ms/step - loss: 78.3575 - mae: 5.8218 - val_loss: 93.1817 - val_mae: 5.9446\n",
      "Epoch 31/200\n",
      "1139/1139 [==============================] - ETA: 0s - loss: 77.9345 - mae: 5.8139\n",
      "Epoch 31: val_mae did not improve from 5.70563\n",
      "1139/1139 [==============================] - 66s 58ms/step - loss: 77.9345 - mae: 5.8139 - val_loss: 91.2550 - val_mae: 5.9713\n",
      "Epoch 32/200\n",
      "1138/1139 [============================>.] - ETA: 0s - loss: 77.7605 - mae: 5.8156\n",
      "Epoch 32: val_mae did not improve from 5.70563\n",
      "1139/1139 [==============================] - 65s 57ms/step - loss: 78.0744 - mae: 5.8234 - val_loss: 95.6691 - val_mae: 6.1487\n",
      "Epoch 33/200\n",
      "1138/1139 [============================>.] - ETA: 0s - loss: 77.6529 - mae: 5.8151\n",
      "Epoch 33: val_mae did not improve from 5.70563\n",
      "1139/1139 [==============================] - 64s 57ms/step - loss: 77.7782 - mae: 5.8161 - val_loss: 99.7881 - val_mae: 6.1468\n",
      "Epoch 34/200\n",
      "1139/1139 [==============================] - ETA: 0s - loss: 77.9538 - mae: 5.8051\n",
      "Epoch 34: val_mae did not improve from 5.70563\n",
      "1139/1139 [==============================] - 65s 57ms/step - loss: 77.9538 - mae: 5.8051 - val_loss: 93.0538 - val_mae: 6.0275\n",
      "Epoch 35/200\n",
      "1139/1139 [==============================] - ETA: 0s - loss: 77.5602 - mae: 5.8000\n",
      "Epoch 35: val_mae did not improve from 5.70563\n",
      "1139/1139 [==============================] - 66s 58ms/step - loss: 77.5602 - mae: 5.8000 - val_loss: 93.6840 - val_mae: 5.8969\n",
      "Epoch 36/200\n",
      "1139/1139 [==============================] - ETA: 0s - loss: 77.6994 - mae: 5.8046\n",
      "Epoch 36: val_mae did not improve from 5.70563\n",
      "1139/1139 [==============================] - 66s 58ms/step - loss: 77.6994 - mae: 5.8046 - val_loss: 90.9984 - val_mae: 5.9996\n",
      "Epoch 37/200\n",
      "1139/1139 [==============================] - ETA: 0s - loss: 78.4096 - mae: 5.8139\n",
      "Epoch 37: val_mae did not improve from 5.70563\n",
      "1139/1139 [==============================] - 65s 57ms/step - loss: 78.4096 - mae: 5.8139 - val_loss: 88.1094 - val_mae: 5.8760\n",
      "Epoch 38/200\n",
      "1139/1139 [==============================] - ETA: 0s - loss: 77.3654 - mae: 5.7965\n",
      "Epoch 38: val_mae did not improve from 5.70563\n",
      "1139/1139 [==============================] - 62s 55ms/step - loss: 77.3654 - mae: 5.7965 - val_loss: 91.5423 - val_mae: 5.9190\n",
      "Epoch 39/200\n",
      "1139/1139 [==============================] - ETA: 0s - loss: 76.8916 - mae: 5.7937\n",
      "Epoch 39: val_mae did not improve from 5.70563\n",
      "1139/1139 [==============================] - 60s 53ms/step - loss: 76.8916 - mae: 5.7937 - val_loss: 96.6813 - val_mae: 6.0639\n"
     ]
    }
   ],
   "source": [
    "history = model.fit(train_generator, validation_data=val_generator, epochs=200, verbose=1, callbacks = callbacks_list)"
   ]
  },
  {
   "cell_type": "code",
   "execution_count": 8,
   "id": "c8de2cd4-1ee2-4827-a264-0f2def4a22c7",
   "metadata": {},
   "outputs": [],
   "source": [
    "model = keras.models.load_model('3h_dopredu200+BZ.hdf5')"
   ]
  },
  {
   "cell_type": "code",
   "execution_count": 9,
   "id": "181fc084-f2de-465a-acab-5a7d8335b4a6",
   "metadata": {},
   "outputs": [
    {
     "name": "stdout",
     "output_type": "stream",
     "text": [
      "633/633 [==============================] - 12s 18ms/step\n"
     ]
    }
   ],
   "source": [
    "y_pred = model.predict(test_generator)"
   ]
  },
  {
   "cell_type": "code",
   "execution_count": 10,
   "id": "1dd2a344-f2d3-4eb4-aca3-de735cd56c65",
   "metadata": {},
   "outputs": [
    {
     "name": "stdout",
     "output_type": "stream",
     "text": [
      "224/224 [==============================] - 5s 21ms/step\n",
      "Best Threshold for MCC on Validation Set: -18.699999999999967\n",
      "Best MCC on Validation Set: 0.798421199546549\n",
      "-18.7\n"
     ]
    }
   ],
   "source": [
    "y_val_pred = model.predict(val_generator)\n",
    "\n",
    "true_labels_val = np.where(y_val[n_input:] <= -20, 1, 0)  \n",
    "\n",
    "def calculate_mcc(y_true, y_pred):\n",
    "    return matthews_corrcoef(y_true, y_pred)\n",
    "\n",
    "thresholds = np.arange(-10, -40, -0.1)\n",
    "mcc_scores = []\n",
    "\n",
    "for thresh in thresholds:\n",
    "    predictions = np.where(y_val_pred <= thresh, 1, 0)\n",
    "    mcc = calculate_mcc(true_labels_val, predictions)\n",
    "    mcc_scores.append(mcc)\n",
    "\n",
    "best_threshold_mcc = thresholds[np.argmax(mcc_scores)]\n",
    "best_mcc = max(mcc_scores)\n",
    "\n",
    "print(\"Best Threshold for MCC on Validation Set:\", best_threshold_mcc)\n",
    "print(\"Best MCC on Validation Set:\", best_mcc)\n",
    "best_threshold_mcc_rounded = round(best_threshold_mcc, 1)\n"
   ]
  },
  {
   "cell_type": "code",
   "execution_count": 11,
   "id": "6e0b33e1-499b-4c9e-91b4-364da612b3fc",
   "metadata": {},
   "outputs": [
    {
     "name": "stdout",
     "output_type": "stream",
     "text": [
      "Mean Squared Error: 74.2170447469537\n"
     ]
    }
   ],
   "source": [
    "from sklearn.metrics import mean_squared_error\n",
    "mse = mean_squared_error(y_test[:-6], y_pred.reshape(-1))\n",
    "print(f\"Mean Squared Error: {mse}\")"
   ]
  },
  {
   "cell_type": "code",
   "execution_count": 12,
   "id": "69516a5c-d215-4f93-9d45-4842c930fe77",
   "metadata": {},
   "outputs": [
    {
     "name": "stdout",
     "output_type": "stream",
     "text": [
      "Confusion matrix: \n",
      "[[126171   3816]\n",
      " [  8427  23616]]\n"
     ]
    }
   ],
   "source": [
    "y_pred2 = np.where(y_pred <= -20, 1, 0)\n",
    "# [n_input:] because prediction starts from n-th row\n",
    "y_test2 = np.where(y_test[n_input:]  <= -20, 1, 0)\n",
    "\n",
    "cm = confusion_matrix(y_test2, y_pred2)\n",
    "print(\"Confusion matrix: \\n\" + str(cm))"
   ]
  },
  {
   "cell_type": "code",
   "execution_count": 13,
   "id": "30b002dd-ed6c-4898-a05a-a134293d8e10",
   "metadata": {},
   "outputs": [
    {
     "name": "stdout",
     "output_type": "stream",
     "text": [
      "              precision    recall  f1-score   support\n",
      "\n",
      "           0       0.94      0.97      0.95    129987\n",
      "           1       0.86      0.74      0.79     32043\n",
      "\n",
      "    accuracy                           0.92    162030\n",
      "   macro avg       0.90      0.85      0.87    162030\n",
      "weighted avg       0.92      0.92      0.92    162030\n",
      "\n"
     ]
    }
   ],
   "source": [
    "print(classification_report(y_test2, y_pred2))\n"
   ]
  },
  {
   "cell_type": "code",
   "execution_count": 14,
   "id": "4c22d6ad-c91f-4678-9389-2835442f3f19",
   "metadata": {},
   "outputs": [
    {
     "data": {
      "image/png": "[encoded data removed]",
      "text/plain": [
       "<Figure size 640x480 with 1 Axes>"
      ]
     },
     "metadata": {},
     "output_type": "display_data"
    }
   ],
   "source": [
    "df = pd.DataFrame(data={\"time\": test['time1'][n_input:],\"y_true\": y_test[n_input:].reshape(-1) , \"y_predict\": y_pred.reshape(-1)})\n",
    "\n",
    "plt.figure()\n",
    "plt.title('Predicting the change in DST Index')\n",
    "plt.plot(df['time'],df['y_true'], label='Skutočné hodnoty')\n",
    "plt.plot(df['time'],df['y_predict'], label='Predikované hodnoty')\n",
    "plt.legend()\n",
    "plt.gcf().autofmt_xdate()\n",
    "plt.grid(True)"
   ]
  },
  {
   "cell_type": "code",
   "execution_count": 15,
   "id": "e7a9bc0f-fa98-41b2-9153-eb37f379d3c2",
   "metadata": {},
   "outputs": [],
   "source": [
    "df.to_csv('3h_dopredu+200+BZ.csv')"
   ]
  },
  {
   "cell_type": "code",
   "execution_count": 16,
   "id": "7f5449e6-3332-4331-9036-71133df2e677",
   "metadata": {},
   "outputs": [
    {
     "name": "stdout",
     "output_type": "stream",
     "text": [
      "ACC=0.9244399185336049\n",
      "MCC=0.751603463866873\n"
     ]
    }
   ],
   "source": [
    "TN, FP, FN, TP = cm.ravel()\n",
    "ACC = (TP + TN) / (TP + TN + FP + FN)\n",
    "MCC = matthews_corrcoef(y_test2, y_pred2)\n",
    "print(\"ACC={}\".format(ACC))\n",
    "print(\"MCC={}\".format(MCC))"
   ]
  },
  {
   "cell_type": "code",
   "execution_count": null,
   "id": "6979170a-33d2-4a8a-b002-a090e35cfb9c",
   "metadata": {},
   "outputs": [],
   "source": []
  }
 ],
 "metadata": {
  "kernelspec": {
   "display_name": "Python 3 (ipykernel)",
   "language": "python",
   "name": "python3"
  },
  "language_info": {
   "codemirror_mode": {
    "name": "ipython",
    "version": 3
   },
   "file_extension": ".py",
   "mimetype": "text/x-python",
   "name": "python",
   "nbconvert_exporter": "python",
   "pygments_lexer": "ipython3",
   "version": "3.10.6"
  }
 },
 "nbformat": 4,
 "nbformat_minor": 5
}
