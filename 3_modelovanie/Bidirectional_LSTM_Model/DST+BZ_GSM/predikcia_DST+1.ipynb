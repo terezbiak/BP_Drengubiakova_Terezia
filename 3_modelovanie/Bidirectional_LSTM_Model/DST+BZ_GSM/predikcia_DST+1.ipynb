{
 "cells": [
  {
   "cell_type": "code",
   "execution_count": 1,
   "id": "678ced3a-40e2-4062-be21-a67e5322f1a0",
   "metadata": {},
   "outputs": [
    {
     "name": "stderr",
     "output_type": "stream",
     "text": [
      "2024-05-16 08:21:28.197912: I tensorflow/core/platform/cpu_feature_guard.cc:193] This TensorFlow binary is optimized with oneAPI Deep Neural Network Library (oneDNN) to use the following CPU instructions in performance-critical operations:  SSE4.1 SSE4.2 AVX AVX2 FMA\n",
      "To enable them in other operations, rebuild TensorFlow with the appropriate compiler flags.\n"
     ]
    }
   ],
   "source": [
    "import pandas as pd\n",
    "import numpy as np\n",
    "from tensorflow import keras\n",
    "import matplotlib.pyplot as plt\n",
    "from sklearn.preprocessing import MinMaxScaler, StandardScaler\n",
    "from pandas.plotting import register_matplotlib_converters\n",
    "register_matplotlib_converters()\n",
    "import seaborn as sns\n",
    "from tensorflow.keras.preprocessing.sequence import TimeseriesGenerator\n",
    "from keras.models import Sequential\n",
    "from keras.layers import Dense, Activation, Dropout, Input, Conv1D, LSTM, MaxPooling1D, Flatten, TimeDistributed, Bidirectional\n",
    "from tensorflow.keras.callbacks import ModelCheckpoint, EarlyStopping\n",
    "from keras.models import Model\n",
    "from scipy.special import expit, logit\n",
    "from sklearn.metrics import confusion_matrix, classification_report, matthews_corrcoef"
   ]
  },
  {
   "cell_type": "code",
   "execution_count": 5,
   "id": "471c1c51-a25b-48cc-a581-1c86aad2867b",
   "metadata": {},
   "outputs": [],
   "source": [
    "train = pd.read_csv('train_omni.csv')\n",
    "test = pd.read_csv('test_omni.csv')\n",
    "train['BZ_GSM'] = train['BZ_GSM'].fillna(train['BZ_GSM'].mean())  # Naplní NaN hodnoty priemerom danej stĺpca\n",
    "test['BZ_GSM'] = test['BZ_GSM'].fillna(test['BZ_GSM'].mean())   \n",
    "features = ['time1', 'DST', 'DST+1', 'BZ_GSM']\n",
    "test = test[features]\n",
    "train = train[features]\n",
    "train['time1']=pd.to_datetime(train['time1'])\n",
    "test['time1']=pd.to_datetime(test['time1'])\n",
    "predicators = [\"DST\", \"BZ_GSM\"]\n",
    "y_col='DST+1'\n",
    "valid_size = int(len(train) * 0.2)\n",
    "valid = train.iloc[-valid_size:,:].copy()\n",
    "train = train.iloc[:-valid_size,:].copy()\n",
    "\n",
    "y_train = train[y_col].values.copy()\n",
    "X_train = train[predicators].values.copy()\n",
    "y_val = valid[y_col].values.copy()\n",
    "X_val = valid[predicators].values.copy()\n",
    "y_test = test[y_col].values.copy()\n",
    "X_test = test[predicators].values.copy()"
   ]
  },
  {
   "cell_type": "code",
   "execution_count": 6,
   "id": "18274429-36ef-40ad-984b-d65e5bae8f7e",
   "metadata": {
    "tags": []
   },
   "outputs": [],
   "source": [
    "n_input = 6  \n",
    "n_features= len(X_train) \n",
    "b_size = 256  \n",
    "\n",
    "train_generator = TimeseriesGenerator(X_train, y_train, length=n_input, batch_size=b_size)\n",
    "val_generator = TimeseriesGenerator(X_val, y_val, length=n_input, batch_size=b_size)\n",
    "test_generator = TimeseriesGenerator(X_test, y_test, length=n_input, batch_size=256)\n"
   ]
  },
  {
   "cell_type": "code",
   "execution_count": 7,
   "id": "84ac694f-dd1e-4c29-b792-f4e2cd5c2618",
   "metadata": {},
   "outputs": [
    {
     "name": "stdout",
     "output_type": "stream",
     "text": [
      "Počet batchov:  896\n",
      "Každý batch má features (X zložku) a labels (y zložku):  2\n",
      "Dĺžka X zložky batchu:  256\n",
      "Dĺžka y zložky batchu (počet meraní v batchi):  256\n",
      "Počet riadkov braných do úvahy pre jedno meranie (koľko sa pozerá dozadu):  6\n"
     ]
    }
   ],
   "source": [
    "print(\"Počet batchov: \", len(train_generator))\n",
    "print(\"Každý batch má features (X zložku) a labels (y zložku): \", len(train_generator[0]))\n",
    "print(\"Dĺžka X zložky batchu: \", len(train_generator[0][0]))\n",
    "print(\"Dĺžka y zložky batchu (počet meraní v batchi): \",len(train_generator[0][1]))\n",
    "print(\"Počet riadkov braných do úvahy pre jedno meranie (koľko sa pozerá dozadu): \", len(train_generator[0][0][0]))"
   ]
  },
  {
   "cell_type": "code",
   "execution_count": 8,
   "id": "ff052921-77ae-4a01-9ded-8e6d21bc5505",
   "metadata": {
    "tags": []
   },
   "outputs": [
    {
     "name": "stdout",
     "output_type": "stream",
     "text": [
      "Model: \"model\"\n",
      "_________________________________________________________________\n",
      " Layer (type)                Output Shape              Param #   \n",
      "=================================================================\n",
      " input_1 (InputLayer)        [(None, 6, 2)]            0         \n",
      "                                                                 \n",
      " bidirectional (Bidirectiona  (None, 6, 256)           134144    \n",
      " l)                                                              \n",
      "                                                                 \n",
      " lstm_1 (LSTM)               (None, 6, 128)            197120    \n",
      "                                                                 \n",
      " time_distributed (TimeDistr  (None, 6, 1)             129       \n",
      " ibuted)                                                         \n",
      "                                                                 \n",
      " flatten (Flatten)           (None, 6)                 0         \n",
      "                                                                 \n",
      " dense_1 (Dense)             (None, 1)                 7         \n",
      "                                                                 \n",
      "=================================================================\n",
      "Total params: 331,400\n",
      "Trainable params: 331,400\n",
      "Non-trainable params: 0\n",
      "_________________________________________________________________\n",
      "None\n"
     ]
    }
   ],
   "source": [
    "inputs = Input(shape=(6,2))\n",
    "c = Bidirectional(LSTM(128, return_sequences=True, dropout=0.1,recurrent_dropout=0.1))(inputs)\n",
    "c = LSTM(128, return_sequences=True)(c)\n",
    "c = TimeDistributed(Dense(1, activation='linear'))(c)\n",
    "output = Flatten()(c)\n",
    "output = Dense(1, activation='linear')(output)\n",
    "model = Model(inputs=inputs, outputs=output)\n",
    "model.compile(loss='mse', optimizer='adam', metrics=[\"mae\"])\n",
    "print(model.summary())"
   ]
  },
  {
   "cell_type": "code",
   "execution_count": 9,
   "id": "38a43040-da67-4404-afdc-272b76d75d19",
   "metadata": {},
   "outputs": [],
   "source": [
    "saved_model = \"1h_dopredu200+BZ.hdf5\"\n",
    "checkpoint = ModelCheckpoint(saved_model, monitor='val_mae', verbose=1, save_best_only=True, mode='min')\n",
    "early = EarlyStopping(monitor=\"val_mae\", mode=\"min\", patience=25)\n",
    "callbacks_list = [checkpoint, early]"
   ]
  },
  {
   "cell_type": "code",
   "execution_count": 7,
   "id": "c84fe0a8-eb35-4bda-8c91-3384452fecf0",
   "metadata": {
    "collapsed": true,
    "jupyter": {
     "outputs_hidden": true
    },
    "tags": []
   },
   "outputs": [
    {
     "name": "stdout",
     "output_type": "stream",
     "text": [
      "Epoch 1/200\n",
      "1139/1139 [==============================] - ETA: 0s - loss: 114.4281 - mae: 4.9304\n",
      "Epoch 1: val_mae improved from inf to 3.54899, saving model to 1h_dopredu200+BZ.hdf5\n",
      "1139/1139 [==============================] - 74s 61ms/step - loss: 114.4281 - mae: 4.9304 - val_loss: 60.4488 - val_mae: 3.5490\n",
      "Epoch 2/200\n",
      "1139/1139 [==============================] - ETA: 0s - loss: 39.6650 - mae: 3.4709\n",
      "Epoch 2: val_mae did not improve from 3.54899\n",
      "1139/1139 [==============================] - 66s 58ms/step - loss: 39.6650 - mae: 3.4709 - val_loss: 43.3314 - val_mae: 3.7452\n",
      "Epoch 3/200\n",
      "1139/1139 [==============================] - ETA: 0s - loss: 33.3695 - mae: 3.3455\n",
      "Epoch 3: val_mae improved from 3.54899 to 3.04197, saving model to 1h_dopredu200+BZ.hdf5\n",
      "1139/1139 [==============================] - 70s 61ms/step - loss: 33.3695 - mae: 3.3455 - val_loss: 33.9769 - val_mae: 3.0420\n",
      "Epoch 4/200\n",
      "1139/1139 [==============================] - ETA: 0s - loss: 28.1439 - mae: 3.1350\n",
      "Epoch 4: val_mae did not improve from 3.04197\n",
      "1139/1139 [==============================] - 67s 59ms/step - loss: 28.1439 - mae: 3.1350 - val_loss: 28.6961 - val_mae: 3.0871\n",
      "Epoch 5/200\n",
      "1138/1139 [============================>.] - ETA: 0s - loss: 25.4378 - mae: 3.0623\n",
      "Epoch 5: val_mae improved from 3.04197 to 2.73114, saving model to 1h_dopredu200+BZ.hdf5\n",
      "1139/1139 [==============================] - 65s 57ms/step - loss: 25.4323 - mae: 3.0626 - val_loss: 23.4052 - val_mae: 2.7311\n",
      "Epoch 6/200\n",
      "1139/1139 [==============================] - ETA: 0s - loss: 25.1325 - mae: 3.0823\n",
      "Epoch 6: val_mae did not improve from 2.73114\n",
      "1139/1139 [==============================] - 66s 58ms/step - loss: 25.1325 - mae: 3.0823 - val_loss: 26.0037 - val_mae: 3.0026\n",
      "Epoch 7/200\n",
      "1139/1139 [==============================] - ETA: 0s - loss: 25.5094 - mae: 3.0805\n",
      "Epoch 7: val_mae did not improve from 2.73114\n",
      "1139/1139 [==============================] - 67s 59ms/step - loss: 25.5094 - mae: 3.0805 - val_loss: 29.2826 - val_mae: 3.6047\n",
      "Epoch 8/200\n",
      "1139/1139 [==============================] - ETA: 0s - loss: 25.1543 - mae: 3.0639\n",
      "Epoch 8: val_mae did not improve from 2.73114\n",
      "1139/1139 [==============================] - 67s 59ms/step - loss: 25.1543 - mae: 3.0639 - val_loss: 27.8540 - val_mae: 3.2791\n",
      "Epoch 9/200\n",
      "1139/1139 [==============================] - ETA: 0s - loss: 25.3472 - mae: 3.0521\n",
      "Epoch 9: val_mae did not improve from 2.73114\n",
      "1139/1139 [==============================] - 64s 56ms/step - loss: 25.3472 - mae: 3.0521 - val_loss: 26.7323 - val_mae: 3.2377\n",
      "Epoch 10/200\n",
      "1138/1139 [============================>.] - ETA: 0s - loss: 23.4165 - mae: 3.0043\n",
      "Epoch 10: val_mae did not improve from 2.73114\n",
      "1139/1139 [==============================] - 66s 58ms/step - loss: 23.4148 - mae: 3.0040 - val_loss: 25.6674 - val_mae: 3.1973\n",
      "Epoch 11/200\n",
      "1139/1139 [==============================] - ETA: 0s - loss: 22.2335 - mae: 2.9391\n",
      "Epoch 11: val_mae did not improve from 2.73114\n",
      "1139/1139 [==============================] - 72s 63ms/step - loss: 22.2335 - mae: 2.9391 - val_loss: 28.8674 - val_mae: 3.2885\n",
      "Epoch 12/200\n",
      "1139/1139 [==============================] - ETA: 0s - loss: 22.6117 - mae: 2.9449\n",
      "Epoch 12: val_mae did not improve from 2.73114\n",
      "1139/1139 [==============================] - 66s 58ms/step - loss: 22.6117 - mae: 2.9449 - val_loss: 27.0712 - val_mae: 3.1608\n",
      "Epoch 13/200\n",
      "1138/1139 [============================>.] - ETA: 0s - loss: 22.7595 - mae: 2.9593\n",
      "Epoch 13: val_mae did not improve from 2.73114\n",
      "1139/1139 [==============================] - 65s 57ms/step - loss: 22.7530 - mae: 2.9593 - val_loss: 47.6197 - val_mae: 4.1853\n",
      "Epoch 14/200\n",
      "1138/1139 [============================>.] - ETA: 0s - loss: 23.2483 - mae: 2.9470\n",
      "Epoch 14: val_mae did not improve from 2.73114\n",
      "1139/1139 [==============================] - 68s 59ms/step - loss: 23.2348 - mae: 2.9462 - val_loss: 29.8363 - val_mae: 3.3841\n",
      "Epoch 15/200\n",
      "1138/1139 [============================>.] - ETA: 0s - loss: 21.5049 - mae: 2.9100\n",
      "Epoch 15: val_mae did not improve from 2.73114\n",
      "1139/1139 [==============================] - 67s 59ms/step - loss: 21.4900 - mae: 2.9089 - val_loss: 32.8553 - val_mae: 3.5306\n",
      "Epoch 16/200\n",
      "1139/1139 [==============================] - ETA: 0s - loss: 21.2205 - mae: 2.8853\n",
      "Epoch 16: val_mae did not improve from 2.73114\n",
      "1139/1139 [==============================] - 67s 59ms/step - loss: 21.2205 - mae: 2.8853 - val_loss: 21.7160 - val_mae: 2.7461\n",
      "Epoch 17/200\n",
      "1139/1139 [==============================] - ETA: 0s - loss: 22.1405 - mae: 2.9173\n",
      "Epoch 17: val_mae did not improve from 2.73114\n",
      "1139/1139 [==============================] - 70s 61ms/step - loss: 22.1405 - mae: 2.9173 - val_loss: 25.0449 - val_mae: 3.0670\n",
      "Epoch 18/200\n",
      "1139/1139 [==============================] - ETA: 0s - loss: 22.5431 - mae: 2.9361\n",
      "Epoch 18: val_mae did not improve from 2.73114\n",
      "1139/1139 [==============================] - 67s 59ms/step - loss: 22.5431 - mae: 2.9361 - val_loss: 30.4944 - val_mae: 2.9313\n",
      "Epoch 19/200\n",
      "1139/1139 [==============================] - ETA: 0s - loss: 21.6347 - mae: 2.9154\n",
      "Epoch 19: val_mae did not improve from 2.73114\n",
      "1139/1139 [==============================] - 72s 63ms/step - loss: 21.6347 - mae: 2.9154 - val_loss: 27.8211 - val_mae: 3.1742\n",
      "Epoch 20/200\n",
      "1139/1139 [==============================] - ETA: 0s - loss: 20.5947 - mae: 2.8680\n",
      "Epoch 20: val_mae did not improve from 2.73114\n",
      "1139/1139 [==============================] - 67s 58ms/step - loss: 20.5947 - mae: 2.8680 - val_loss: 23.9655 - val_mae: 3.1006\n",
      "Epoch 21/200\n",
      "1139/1139 [==============================] - ETA: 0s - loss: 21.1165 - mae: 2.8928\n",
      "Epoch 21: val_mae did not improve from 2.73114\n",
      "1139/1139 [==============================] - 65s 57ms/step - loss: 21.1165 - mae: 2.8928 - val_loss: 26.5412 - val_mae: 3.3151\n",
      "Epoch 22/200\n",
      "1139/1139 [==============================] - ETA: 0s - loss: 20.3839 - mae: 2.8705\n",
      "Epoch 22: val_mae did not improve from 2.73114\n",
      "1139/1139 [==============================] - 71s 62ms/step - loss: 20.3839 - mae: 2.8705 - val_loss: 22.3837 - val_mae: 2.9486\n",
      "Epoch 23/200\n",
      "1139/1139 [==============================] - ETA: 0s - loss: 22.2353 - mae: 2.9123\n",
      "Epoch 23: val_mae did not improve from 2.73114\n",
      "1139/1139 [==============================] - 68s 59ms/step - loss: 22.2353 - mae: 2.9123 - val_loss: 25.9208 - val_mae: 3.2118\n",
      "Epoch 24/200\n",
      "1139/1139 [==============================] - ETA: 0s - loss: 22.2341 - mae: 2.9155\n",
      "Epoch 24: val_mae did not improve from 2.73114\n",
      "1139/1139 [==============================] - 72s 64ms/step - loss: 22.2341 - mae: 2.9155 - val_loss: 25.3830 - val_mae: 3.0445\n",
      "Epoch 25/200\n",
      "1138/1139 [============================>.] - ETA: 0s - loss: 21.6992 - mae: 2.8803\n",
      "Epoch 25: val_mae did not improve from 2.73114\n",
      "1139/1139 [==============================] - 67s 59ms/step - loss: 21.6849 - mae: 2.8794 - val_loss: 22.3537 - val_mae: 3.0006\n",
      "Epoch 26/200\n",
      "1138/1139 [============================>.] - ETA: 0s - loss: 20.0437 - mae: 2.8407\n",
      "Epoch 26: val_mae did not improve from 2.73114\n",
      "1139/1139 [==============================] - 67s 59ms/step - loss: 20.0347 - mae: 2.8402 - val_loss: 28.7726 - val_mae: 3.0590\n",
      "Epoch 27/200\n",
      "1139/1139 [==============================] - ETA: 0s - loss: 21.3344 - mae: 2.8935\n",
      "Epoch 27: val_mae did not improve from 2.73114\n",
      "1139/1139 [==============================] - 69s 61ms/step - loss: 21.3344 - mae: 2.8935 - val_loss: 30.1208 - val_mae: 3.4943\n",
      "Epoch 28/200\n",
      "1139/1139 [==============================] - ETA: 0s - loss: 19.6659 - mae: 2.8350\n",
      "Epoch 28: val_mae did not improve from 2.73114\n",
      "1139/1139 [==============================] - 71s 62ms/step - loss: 19.6659 - mae: 2.8350 - val_loss: 22.1032 - val_mae: 2.9101\n",
      "Epoch 29/200\n",
      "1138/1139 [============================>.] - ETA: 0s - loss: 20.2609 - mae: 2.8533\n",
      "Epoch 29: val_mae did not improve from 2.73114\n",
      "1139/1139 [==============================] - 66s 58ms/step - loss: 20.2603 - mae: 2.8536 - val_loss: 27.1733 - val_mae: 3.0517\n",
      "Epoch 30/200\n",
      "1138/1139 [============================>.] - ETA: 0s - loss: 20.2883 - mae: 2.8428\n",
      "Epoch 30: val_mae did not improve from 2.73114\n",
      "1139/1139 [==============================] - 66s 58ms/step - loss: 20.2769 - mae: 2.8421 - val_loss: 24.5848 - val_mae: 3.1781\n"
     ]
    }
   ],
   "source": [
    "history = model.fit(train_generator, validation_data=val_generator, epochs=200, verbose=1, callbacks = callbacks_list)"
   ]
  },
  {
   "cell_type": "code",
   "execution_count": 10,
   "id": "08a0bf14-5cb6-4851-adc8-6363fe066563",
   "metadata": {},
   "outputs": [],
   "source": [
    "model = keras.models.load_model('1h_dopredu200+BZ.hdf5')"
   ]
  },
  {
   "cell_type": "code",
   "execution_count": 11,
   "id": "57378f58-5c57-4f2a-b208-c77da1ee2414",
   "metadata": {},
   "outputs": [
    {
     "name": "stdout",
     "output_type": "stream",
     "text": [
      "633/633 [==============================] - 13s 18ms/step\n"
     ]
    }
   ],
   "source": [
    "y_pred = model.predict(test_generator)"
   ]
  },
  {
   "cell_type": "code",
   "execution_count": 12,
   "id": "b8c9f7d8-16fe-4fb1-82cd-daabc7e66b85",
   "metadata": {},
   "outputs": [
    {
     "name": "stdout",
     "output_type": "stream",
     "text": [
      "224/224 [==============================] - 4s 18ms/step\n",
      "Best Threshold for MCC on Validation Set: -18.89999999999997\n",
      "Best MCC on Validation Set: 0.9050334083955451\n",
      "-18.9\n"
     ]
    }
   ],
   "source": [
    "y_val_pred = model.predict(val_generator)\n",
    "\n",
    "true_labels_val = np.where(y_val[n_input:] <= -20, 1, 0) \n",
    "\n",
    "def calculate_mcc(y_true, y_pred):\n",
    "    return matthews_corrcoef(y_true, y_pred)\n",
    "\n",
    "thresholds = np.arange(-10, -40, -0.1)\n",
    "mcc_scores = []\n",
    "\n",
    "for thresh in thresholds:\n",
    "    predictions = np.where(y_val_pred <= thresh, 1, 0)\n",
    "    mcc = calculate_mcc(true_labels_val, predictions)\n",
    "    mcc_scores.append(mcc)\n",
    "\n",
    "best_threshold_mcc = thresholds[np.argmax(mcc_scores)]\n",
    "best_mcc = max(mcc_scores)\n",
    "\n",
    "print(\"Best Threshold for MCC on Validation Set:\", best_threshold_mcc)\n",
    "print(\"Best MCC on Validation Set:\", best_mcc)\n",
    "best_threshold_mcc_rounded = round(best_threshold_mcc, 1)"
   ]
  },
  {
   "cell_type": "code",
   "execution_count": 13,
   "id": "9c37d4c2-0337-4249-a153-8552a1133698",
   "metadata": {},
   "outputs": [
    {
     "name": "stdout",
     "output_type": "stream",
     "text": [
      "Mean Squared Error: 99.42540910179977\n"
     ]
    }
   ],
   "source": [
    "from sklearn.metrics import mean_squared_error\n",
    "mse = mean_squared_error(y_test[:-6], y_pred.reshape(-1))\n",
    "print(f\"Mean Squared Error: {mse}\")"
   ]
  },
  {
   "cell_type": "code",
   "execution_count": 14,
   "id": "bc20344a-7af4-4c3e-8ec1-2e19fbda1921",
   "metadata": {},
   "outputs": [
    {
     "name": "stdout",
     "output_type": "stream",
     "text": [
      "Confusion matrix: \n",
      "[[127292   2693]\n",
      " [  2760  29285]]\n"
     ]
    }
   ],
   "source": [
    "y_pred2 = np.where(y_pred <= best_threshold_mcc_rounded, 1, 0)\n",
    "# [n_input:] because prediction starts from n-th row\n",
    "y_test2 = np.where(y_test[n_input:]  <= -20, 1, 0)\n",
    "\n",
    "cm = confusion_matrix(y_test2, y_pred2)\n",
    "print(\"Confusion matrix: \\n\" + str(cm))"
   ]
  },
  {
   "cell_type": "code",
   "execution_count": 15,
   "id": "0781527d-f548-4f95-95d2-4834a1c50bb9",
   "metadata": {},
   "outputs": [
    {
     "name": "stdout",
     "output_type": "stream",
     "text": [
      "              precision    recall  f1-score   support\n",
      "\n",
      "           0       0.98      0.98      0.98    129985\n",
      "           1       0.92      0.91      0.91     32045\n",
      "\n",
      "    accuracy                           0.97    162030\n",
      "   macro avg       0.95      0.95      0.95    162030\n",
      "weighted avg       0.97      0.97      0.97    162030\n",
      "\n"
     ]
    }
   ],
   "source": [
    "print(classification_report(y_test2, y_pred2))\n"
   ]
  },
  {
   "cell_type": "code",
   "execution_count": 16,
   "id": "b6841a79-1437-4313-9960-ed08cb0b1910",
   "metadata": {},
   "outputs": [
    {
     "data": {
      "image/png": "[encoded data removed]",
      "text/plain": [
       "<Figure size 640x480 with 1 Axes>"
      ]
     },
     "metadata": {},
     "output_type": "display_data"
    }
   ],
   "source": [
    "df = pd.DataFrame(data={\"time\": test['time1'][n_input:],\"y_true\": y_test[n_input:].reshape(-1) , \"y_predict\": y_pred.reshape(-1)})\n",
    "\n",
    "plt.figure()\n",
    "plt.title('Predicting the change in DST Index')\n",
    "plt.plot(df['time'],df['y_true'], label='Skutočné hodnoty')\n",
    "plt.plot(df['time'],df['y_predict'], label='Predikované hodnoty')\n",
    "plt.legend()\n",
    "plt.gcf().autofmt_xdate()\n",
    "plt.grid(True)"
   ]
  },
  {
   "cell_type": "code",
   "execution_count": 17,
   "id": "7f57d33d-462c-4a3f-afbe-26ad75dfe563",
   "metadata": {},
   "outputs": [],
   "source": [
    "df.to_csv('1h_dopredu+200+BZ.csv')"
   ]
  },
  {
   "cell_type": "code",
   "execution_count": 18,
   "id": "0a501ed0-0483-48a9-8736-9c174b179c27",
   "metadata": {},
   "outputs": [
    {
     "name": "stdout",
     "output_type": "stream",
     "text": [
      "ACC=0.9663457384434981\n",
      "MCC=0.8938581799207543\n"
     ]
    }
   ],
   "source": [
    "TN, FP, FN, TP = cm.ravel()\n",
    "ACC = (TP + TN) / (TP + TN + FP + FN)\n",
    "MCC = matthews_corrcoef(y_test2, y_pred2)\n",
    "print(\"ACC={}\".format(ACC))\n",
    "print(\"MCC={}\".format(MCC))"
   ]
  },
  {
   "cell_type": "code",
   "execution_count": null,
   "id": "aadbb8be-b54a-4d25-86c6-1a8ebefc06ee",
   "metadata": {},
   "outputs": [],
   "source": []
  }
 ],
 "metadata": {
  "kernelspec": {
   "display_name": "Python 3 (ipykernel)",
   "language": "python",
   "name": "python3"
  },
  "language_info": {
   "codemirror_mode": {
    "name": "ipython",
    "version": 3
   },
   "file_extension": ".py",
   "mimetype": "text/x-python",
   "name": "python",
   "nbconvert_exporter": "python",
   "pygments_lexer": "ipython3",
   "version": "3.10.6"
  }
 },
 "nbformat": 4,
 "nbformat_minor": 5
}
