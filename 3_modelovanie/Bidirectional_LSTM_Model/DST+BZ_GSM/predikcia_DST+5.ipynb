{
 "cells": [
  {
   "cell_type": "markdown",
   "id": "915a2803-fa16-4a6b-8871-0a72264b5a00",
   "metadata": {},
   "source": [
    "## Model na predikciu DST za pomoci použitia atribútu DST a BZ_GSM o 5 hodíndopredu\n"
   ]
  },
  {
   "cell_type": "markdown",
   "id": "d9576582-b98b-48be-8658-89f896c4c504",
   "metadata": {},
   "source": [
    "Súbor: predikcia_DST+5.ipynb\n",
    "\n",
    "Program: Hospodárska informatika\n",
    "\n",
    "Vypracovala: Terézia Drengubiaková\n",
    "\n",
    "Bakalárska práca: : Prediktívne modely v spracovaní dát z oblasti kozmického počasia\n",
    "\n",
    "Vedúci diplomovej práce: doc. Ing. Peter Butka, PhD.\n",
    "\n",
    "Konzultanti: Ing. Viera Krešňáková, PhD., RNDr. Šimon Mackovjak, PhD."
   ]
  },
  {
   "cell_type": "markdown",
   "id": "33527d77-1b96-48ba-a486-456e3d87874f",
   "metadata": {},
   "source": [
    "### Import knižníc"
   ]
  },
  {
   "cell_type": "code",
   "execution_count": 1,
   "id": "5de6ff54-6d93-44d9-b962-793c72fe29cb",
   "metadata": {},
   "outputs": [
    {
     "name": "stderr",
     "output_type": "stream",
     "text": [
      "2024-05-16 08:23:32.547143: I tensorflow/core/platform/cpu_feature_guard.cc:193] This TensorFlow binary is optimized with oneAPI Deep Neural Network Library (oneDNN) to use the following CPU instructions in performance-critical operations:  SSE4.1 SSE4.2 AVX AVX2 FMA\n",
      "To enable them in other operations, rebuild TensorFlow with the appropriate compiler flags.\n"
     ]
    }
   ],
   "source": [
    "import pandas as pd\n",
    "import numpy as np\n",
    "from tensorflow import keras\n",
    "import matplotlib.pyplot as plt\n",
    "from sklearn.preprocessing import MinMaxScaler, StandardScaler\n",
    "from pandas.plotting import register_matplotlib_converters\n",
    "register_matplotlib_converters()\n",
    "import seaborn as sns\n",
    "from tensorflow.keras.preprocessing.sequence import TimeseriesGenerator\n",
    "from keras.models import Sequential\n",
    "from keras.layers import Dense, Activation, Dropout, Input, Conv1D, LSTM, MaxPooling1D, Flatten, TimeDistributed, Bidirectional\n",
    "from tensorflow.keras.callbacks import ModelCheckpoint, EarlyStopping\n",
    "from keras.models import Model\n",
    "from scipy.special import expit, logit\n",
    "from sklearn.metrics import confusion_matrix, classification_report, matthews_corrcoef"
   ]
  },
  {
   "cell_type": "markdown",
   "id": "b942ce37-2104-431d-a222-35844bec6651",
   "metadata": {},
   "source": [
    "### Načítanie dát, odstránenie na hodnôt, určenie predikovaného atribútu"
   ]
  },
  {
   "cell_type": "code",
   "execution_count": 2,
   "id": "f783db96-b45a-4f6c-9da4-7a85de6fb5b4",
   "metadata": {},
   "outputs": [],
   "source": [
    "train = pd.read_csv('train_omni.csv')\n",
    "test = pd.read_csv('test_omni.csv')\n",
    "train['BZ_GSM'] = train['BZ_GSM'].fillna(train['BZ_GSM'].mean())  \n",
    "test['BZ_GSM'] = test['BZ_GSM'].fillna(test['BZ_GSM'].mean())\n",
    "features = ['time1', 'DST', 'DST+5', 'BZ_GSM']\n",
    "test = test[features]\n",
    "train = train[features]\n",
    "train['time1']=pd.to_datetime(train['time1'])\n",
    "test['time1']=pd.to_datetime(test['time1'])\n",
    "predicators = [\"DST\", \"BZ_GSM\"]\n",
    "y_col='DST+5'\n",
    "valid_size = int(len(train) * 0.2)\n",
    "valid = train.iloc[-valid_size:,:].copy()\n",
    "train = train.iloc[:-valid_size,:].copy()\n",
    "\n",
    "y_train = train[y_col].values.copy()\n",
    "X_train = train[predicators].values.copy()\n",
    "y_val = valid[y_col].values.copy()\n",
    "X_val = valid[predicators].values.copy()\n",
    "y_test = test[y_col].values.copy()\n",
    "X_test = test[predicators].values.copy()"
   ]
  },
  {
   "cell_type": "markdown",
   "id": "a3c395ae-3dc8-4b3c-8d65-52a8676aaca0",
   "metadata": {},
   "source": [
    "### Definícia premenných a vytvorenie dátových generátorov"
   ]
  },
  {
   "cell_type": "code",
   "execution_count": 3,
   "id": "21dc3709-f122-4b33-acc8-340cb9eaafe4",
   "metadata": {
    "tags": []
   },
   "outputs": [],
   "source": [
    "n_input = 6 \n",
    "n_features= len(X_train)  \n",
    "b_size = 256 \n",
    "train_generator = TimeseriesGenerator(X_train, y_train, length=n_input, batch_size=b_size)\n",
    "val_generator = TimeseriesGenerator(X_val, y_val, length=n_input, batch_size=b_size)\n",
    "test_generator = TimeseriesGenerator(X_test, y_test, length=n_input, batch_size=256)"
   ]
  },
  {
   "cell_type": "code",
   "execution_count": 4,
   "id": "b66fe2fe-44a3-454e-b417-51db9da42266",
   "metadata": {},
   "outputs": [
    {
     "name": "stdout",
     "output_type": "stream",
     "text": [
      "Počet batchov:  896\n",
      "Každý batch má features (X zložku) a labels (y zložku):  2\n",
      "Dĺžka X zložky batchu:  256\n",
      "Dĺžka y zložky batchu (počet meraní v batchi):  256\n",
      "Počet riadkov braných do úvahy pre jedno meranie (koľko sa pozerá dozadu):  6\n"
     ]
    }
   ],
   "source": [
    "print(\"Počet batchov: \", len(train_generator))\n",
    "print(\"Každý batch má features (X zložku) a labels (y zložku): \", len(train_generator[0]))\n",
    "print(\"Dĺžka X zložky batchu: \", len(train_generator[0][0]))\n",
    "print(\"Dĺžka y zložky batchu (počet meraní v batchi): \",len(train_generator[0][1]))\n",
    "print(\"Počet riadkov braných do úvahy pre jedno meranie (koľko sa pozerá dozadu): \", len(train_generator[0][0][0]))"
   ]
  },
  {
   "cell_type": "markdown",
   "id": "9789f3e7-816f-414d-b2db-f72390688c73",
   "metadata": {},
   "source": [
    "### Vytvorenie modelu"
   ]
  },
  {
   "cell_type": "code",
   "execution_count": 5,
   "id": "62f4be23-993b-4a71-9a21-ebec2af46f4f",
   "metadata": {},
   "outputs": [
    {
     "name": "stderr",
     "output_type": "stream",
     "text": [
      "2024-05-16 08:23:41.317083: I tensorflow/core/platform/cpu_feature_guard.cc:193] This TensorFlow binary is optimized with oneAPI Deep Neural Network Library (oneDNN) to use the following CPU instructions in performance-critical operations:  SSE4.1 SSE4.2 AVX AVX2 FMA\n",
      "To enable them in other operations, rebuild TensorFlow with the appropriate compiler flags.\n"
     ]
    },
    {
     "name": "stdout",
     "output_type": "stream",
     "text": [
      "Model: \"model\"\n",
      "_________________________________________________________________\n",
      " Layer (type)                Output Shape              Param #   \n",
      "=================================================================\n",
      " input_1 (InputLayer)        [(None, 6, 2)]            0         \n",
      "                                                                 \n",
      " bidirectional (Bidirectiona  (None, 6, 256)           134144    \n",
      " l)                                                              \n",
      "                                                                 \n",
      " lstm_1 (LSTM)               (None, 6, 128)            197120    \n",
      "                                                                 \n",
      " time_distributed (TimeDistr  (None, 6, 1)             129       \n",
      " ibuted)                                                         \n",
      "                                                                 \n",
      " flatten (Flatten)           (None, 6)                 0         \n",
      "                                                                 \n",
      " dense_1 (Dense)             (None, 1)                 7         \n",
      "                                                                 \n",
      "=================================================================\n",
      "Total params: 331,400\n",
      "Trainable params: 331,400\n",
      "Non-trainable params: 0\n",
      "_________________________________________________________________\n",
      "None\n"
     ]
    }
   ],
   "source": [
    "inputs = Input(shape=(6,2))\n",
    "c = Bidirectional(LSTM(128, return_sequences=True, dropout=0.1,recurrent_dropout=0.1))(inputs)\n",
    "c = LSTM(128, return_sequences=True)(c)\n",
    "c = TimeDistributed(Dense(1, activation='linear'))(c)\n",
    "output = Flatten()(c)\n",
    "output = Dense(1, activation='linear')(output)\n",
    "model = Model(inputs=inputs, outputs=output)\n",
    "model.compile(loss='mse', optimizer='adam', metrics=[\"mae\"])\n",
    "print(model.summary())"
   ]
  },
  {
   "cell_type": "code",
   "execution_count": 6,
   "id": "8d1a40da-fa1c-4b3d-bdbd-e4d7793b01a2",
   "metadata": {},
   "outputs": [],
   "source": [
    "saved_model = \"5h_dopredu200+BZ.hdf5\"\n",
    "checkpoint = ModelCheckpoint(saved_model, monitor='val_mae', verbose=1, save_best_only=True, mode='min')\n",
    "early = EarlyStopping(monitor=\"val_mae\", mode=\"min\", patience=25)\n",
    "callbacks_list = [checkpoint, early]"
   ]
  },
  {
   "cell_type": "markdown",
   "id": "ee0eaf66-9a2a-43f0-b142-2807a17667be",
   "metadata": {},
   "source": [
    "### Trénovanie"
   ]
  },
  {
   "cell_type": "code",
   "execution_count": 7,
   "id": "983fbac3-9067-4fe7-8f61-cac9d641ce0a",
   "metadata": {
    "collapsed": true,
    "jupyter": {
     "outputs_hidden": true
    },
    "tags": []
   },
   "outputs": [
    {
     "name": "stdout",
     "output_type": "stream",
     "text": [
      "Epoch 1/200\n",
      "1139/1139 [==============================] - ETA: 0s - loss: 237.4863 - mae: 8.9340\n",
      "Epoch 1: val_mae improved from inf to 7.62322, saving model to 5h_dopredu200+BZ.hdf5\n",
      "1139/1139 [==============================] - 65s 53ms/step - loss: 237.4863 - mae: 8.9340 - val_loss: 186.6942 - val_mae: 7.6232\n",
      "Epoch 2/200\n",
      "1138/1139 [============================>.] - ETA: 0s - loss: 155.9028 - mae: 7.7298\n",
      "Epoch 2: val_mae did not improve from 7.62322\n",
      "1139/1139 [==============================] - 57s 50ms/step - loss: 155.8581 - mae: 7.7305 - val_loss: 172.6747 - val_mae: 7.7706\n",
      "Epoch 3/200\n",
      "1139/1139 [==============================] - ETA: 0s - loss: 146.0344 - mae: 7.6208\n",
      "Epoch 3: val_mae improved from 7.62322 to 7.53395, saving model to 5h_dopredu200+BZ.hdf5\n",
      "1139/1139 [==============================] - 56s 49ms/step - loss: 146.0344 - mae: 7.6208 - val_loss: 160.0660 - val_mae: 7.5340\n",
      "Epoch 4/200\n",
      "1139/1139 [==============================] - ETA: 0s - loss: 140.9752 - mae: 7.5465\n",
      "Epoch 4: val_mae improved from 7.53395 to 7.52884, saving model to 5h_dopredu200+BZ.hdf5\n",
      "1139/1139 [==============================] - 62s 55ms/step - loss: 140.9752 - mae: 7.5465 - val_loss: 159.8127 - val_mae: 7.5288\n",
      "Epoch 5/200\n",
      "1139/1139 [==============================] - ETA: 0s - loss: 142.3046 - mae: 7.5485\n",
      "Epoch 5: val_mae improved from 7.52884 to 7.26775, saving model to 5h_dopredu200+BZ.hdf5\n",
      "1139/1139 [==============================] - 61s 54ms/step - loss: 142.3046 - mae: 7.5485 - val_loss: 149.7436 - val_mae: 7.2677\n",
      "Epoch 6/200\n",
      "1139/1139 [==============================] - ETA: 0s - loss: 137.4454 - mae: 7.4515\n",
      "Epoch 6: val_mae did not improve from 7.26775\n",
      "1139/1139 [==============================] - 61s 54ms/step - loss: 137.4454 - mae: 7.4515 - val_loss: 171.7774 - val_mae: 7.6561\n",
      "Epoch 7/200\n",
      "1138/1139 [============================>.] - ETA: 0s - loss: 138.8719 - mae: 7.4822\n",
      "Epoch 7: val_mae did not improve from 7.26775\n",
      "1139/1139 [==============================] - 61s 54ms/step - loss: 138.8270 - mae: 7.4818 - val_loss: 149.3455 - val_mae: 7.4166\n",
      "Epoch 8/200\n",
      "1139/1139 [==============================] - ETA: 0s - loss: 136.7345 - mae: 7.4424\n",
      "Epoch 8: val_mae did not improve from 7.26775\n",
      "1139/1139 [==============================] - 60s 52ms/step - loss: 136.7345 - mae: 7.4424 - val_loss: 159.4578 - val_mae: 7.6726\n",
      "Epoch 9/200\n",
      "1139/1139 [==============================] - ETA: 0s - loss: 135.8142 - mae: 7.4186\n",
      "Epoch 9: val_mae did not improve from 7.26775\n",
      "1139/1139 [==============================] - 61s 54ms/step - loss: 135.8142 - mae: 7.4186 - val_loss: 163.9010 - val_mae: 7.6072\n",
      "Epoch 10/200\n",
      "1139/1139 [==============================] - ETA: 0s - loss: 133.5951 - mae: 7.3945\n",
      "Epoch 10: val_mae improved from 7.26775 to 7.21874, saving model to 5h_dopredu200+BZ.hdf5\n",
      "1139/1139 [==============================] - 58s 51ms/step - loss: 133.5951 - mae: 7.3945 - val_loss: 142.0600 - val_mae: 7.2187\n",
      "Epoch 11/200\n",
      "1139/1139 [==============================] - ETA: 0s - loss: 135.1902 - mae: 7.3910\n",
      "Epoch 11: val_mae did not improve from 7.21874\n",
      "1139/1139 [==============================] - 62s 55ms/step - loss: 135.1902 - mae: 7.3910 - val_loss: 147.8913 - val_mae: 7.3067\n",
      "Epoch 12/200\n",
      "1138/1139 [============================>.] - ETA: 0s - loss: 133.0847 - mae: 7.3636\n",
      "Epoch 12: val_mae did not improve from 7.21874\n",
      "1139/1139 [==============================] - 62s 54ms/step - loss: 133.0326 - mae: 7.3626 - val_loss: 149.8185 - val_mae: 7.2878\n",
      "Epoch 13/200\n",
      "1139/1139 [==============================] - ETA: 0s - loss: 132.7538 - mae: 7.3659\n",
      "Epoch 13: val_mae did not improve from 7.21874\n",
      "1139/1139 [==============================] - 62s 54ms/step - loss: 132.7538 - mae: 7.3659 - val_loss: 151.7141 - val_mae: 7.3250\n",
      "Epoch 14/200\n",
      "1139/1139 [==============================] - ETA: 0s - loss: 131.0080 - mae: 7.3344\n",
      "Epoch 14: val_mae improved from 7.21874 to 7.18494, saving model to 5h_dopredu200+BZ.hdf5\n",
      "1139/1139 [==============================] - 63s 55ms/step - loss: 131.0080 - mae: 7.3344 - val_loss: 142.0618 - val_mae: 7.1849\n",
      "Epoch 15/200\n",
      "1138/1139 [============================>.] - ETA: 0s - loss: 131.2806 - mae: 7.3421\n",
      "Epoch 15: val_mae did not improve from 7.18494\n",
      "1139/1139 [==============================] - 62s 54ms/step - loss: 131.2266 - mae: 7.3414 - val_loss: 145.1648 - val_mae: 7.3065\n",
      "Epoch 16/200\n",
      "1138/1139 [============================>.] - ETA: 0s - loss: 130.5532 - mae: 7.3394\n",
      "Epoch 16: val_mae did not improve from 7.18494\n",
      "1139/1139 [==============================] - 63s 55ms/step - loss: 130.4925 - mae: 7.3381 - val_loss: 151.9346 - val_mae: 7.3135\n",
      "Epoch 17/200\n",
      "1139/1139 [==============================] - ETA: 0s - loss: 130.1758 - mae: 7.3241\n",
      "Epoch 17: val_mae did not improve from 7.18494\n",
      "1139/1139 [==============================] - 63s 55ms/step - loss: 130.1758 - mae: 7.3241 - val_loss: 146.5663 - val_mae: 7.2711\n",
      "Epoch 18/200\n",
      "1139/1139 [==============================] - ETA: 0s - loss: 130.1020 - mae: 7.3194\n",
      "Epoch 18: val_mae did not improve from 7.18494\n",
      "1139/1139 [==============================] - 62s 55ms/step - loss: 130.1020 - mae: 7.3194 - val_loss: 145.8656 - val_mae: 7.2420\n",
      "Epoch 19/200\n",
      "1139/1139 [==============================] - ETA: 0s - loss: 130.2583 - mae: 7.3044\n",
      "Epoch 19: val_mae did not improve from 7.18494\n",
      "1139/1139 [==============================] - 62s 55ms/step - loss: 130.2583 - mae: 7.3044 - val_loss: 158.9506 - val_mae: 7.5683\n",
      "Epoch 20/200\n",
      "1139/1139 [==============================] - ETA: 0s - loss: 129.4623 - mae: 7.2975\n",
      "Epoch 20: val_mae did not improve from 7.18494\n",
      "1139/1139 [==============================] - 63s 55ms/step - loss: 129.4623 - mae: 7.2975 - val_loss: 155.2079 - val_mae: 7.3770\n",
      "Epoch 21/200\n",
      "1139/1139 [==============================] - ETA: 0s - loss: 128.9099 - mae: 7.3001\n",
      "Epoch 21: val_mae did not improve from 7.18494\n",
      "1139/1139 [==============================] - 60s 53ms/step - loss: 128.9099 - mae: 7.3001 - val_loss: 142.8969 - val_mae: 7.1852\n",
      "Epoch 22/200\n",
      "1139/1139 [==============================] - ETA: 0s - loss: 128.8338 - mae: 7.2982\n",
      "Epoch 22: val_mae did not improve from 7.18494\n",
      "1139/1139 [==============================] - 61s 54ms/step - loss: 128.8338 - mae: 7.2982 - val_loss: 151.5362 - val_mae: 7.3242\n",
      "Epoch 23/200\n",
      "1138/1139 [============================>.] - ETA: 0s - loss: 127.9875 - mae: 7.2879\n",
      "Epoch 23: val_mae did not improve from 7.18494\n",
      "1139/1139 [==============================] - 61s 54ms/step - loss: 127.9125 - mae: 7.2861 - val_loss: 146.2807 - val_mae: 7.2842\n",
      "Epoch 24/200\n",
      "1139/1139 [==============================] - ETA: 0s - loss: 127.5199 - mae: 7.2760\n",
      "Epoch 24: val_mae did not improve from 7.18494\n",
      "1139/1139 [==============================] - 58s 51ms/step - loss: 127.5199 - mae: 7.2760 - val_loss: 149.2512 - val_mae: 7.3128\n",
      "Epoch 25/200\n",
      "1139/1139 [==============================] - ETA: 0s - loss: 127.4592 - mae: 7.2783\n",
      "Epoch 25: val_mae did not improve from 7.18494\n",
      "1139/1139 [==============================] - 59s 52ms/step - loss: 127.4592 - mae: 7.2783 - val_loss: 146.7615 - val_mae: 7.2728\n",
      "Epoch 26/200\n",
      "1139/1139 [==============================] - ETA: 0s - loss: 127.2168 - mae: 7.2648\n",
      "Epoch 26: val_mae did not improve from 7.18494\n",
      "1139/1139 [==============================] - 62s 54ms/step - loss: 127.2168 - mae: 7.2648 - val_loss: 147.6143 - val_mae: 7.2587\n",
      "Epoch 27/200\n",
      "1138/1139 [============================>.] - ETA: 0s - loss: 126.6090 - mae: 7.2582\n",
      "Epoch 27: val_mae did not improve from 7.18494\n",
      "1139/1139 [==============================] - 59s 52ms/step - loss: 126.5422 - mae: 7.2564 - val_loss: 153.1842 - val_mae: 7.4042\n",
      "Epoch 28/200\n",
      "1138/1139 [============================>.] - ETA: 0s - loss: 126.3488 - mae: 7.2556\n",
      "Epoch 28: val_mae did not improve from 7.18494\n",
      "1139/1139 [==============================] - 59s 52ms/step - loss: 126.3896 - mae: 7.2559 - val_loss: 157.1060 - val_mae: 7.5284\n",
      "Epoch 29/200\n",
      "1139/1139 [==============================] - ETA: 0s - loss: 127.5122 - mae: 7.2703\n",
      "Epoch 29: val_mae did not improve from 7.18494\n",
      "1139/1139 [==============================] - 59s 52ms/step - loss: 127.5122 - mae: 7.2703 - val_loss: 149.2323 - val_mae: 7.3700\n",
      "Epoch 30/200\n",
      "1138/1139 [============================>.] - ETA: 0s - loss: 126.7995 - mae: 7.2541\n",
      "Epoch 30: val_mae did not improve from 7.18494\n",
      "1139/1139 [==============================] - 58s 51ms/step - loss: 126.7753 - mae: 7.2545 - val_loss: 152.8795 - val_mae: 7.5251\n",
      "Epoch 31/200\n",
      "1138/1139 [============================>.] - ETA: 0s - loss: 126.3051 - mae: 7.2579\n",
      "Epoch 31: val_mae did not improve from 7.18494\n",
      "1139/1139 [==============================] - 60s 53ms/step - loss: 126.2893 - mae: 7.2587 - val_loss: 146.0453 - val_mae: 7.2410\n",
      "Epoch 32/200\n",
      "1138/1139 [============================>.] - ETA: 0s - loss: 125.8152 - mae: 7.2409\n",
      "Epoch 32: val_mae did not improve from 7.18494\n",
      "1139/1139 [==============================] - 59s 52ms/step - loss: 125.7496 - mae: 7.2393 - val_loss: 157.3085 - val_mae: 7.5689\n",
      "Epoch 33/200\n",
      "1139/1139 [==============================] - ETA: 0s - loss: 125.3807 - mae: 7.2374\n",
      "Epoch 33: val_mae did not improve from 7.18494\n",
      "1139/1139 [==============================] - 61s 54ms/step - loss: 125.3807 - mae: 7.2374 - val_loss: 159.5117 - val_mae: 7.5794\n",
      "Epoch 34/200\n",
      "1139/1139 [==============================] - ETA: 0s - loss: 125.9444 - mae: 7.2409\n",
      "Epoch 34: val_mae did not improve from 7.18494\n",
      "1139/1139 [==============================] - 58s 51ms/step - loss: 125.9444 - mae: 7.2409 - val_loss: 150.0349 - val_mae: 7.4060\n",
      "Epoch 35/200\n",
      "1139/1139 [==============================] - ETA: 0s - loss: 124.8397 - mae: 7.2243\n",
      "Epoch 35: val_mae did not improve from 7.18494\n",
      "1139/1139 [==============================] - 61s 53ms/step - loss: 124.8397 - mae: 7.2243 - val_loss: 152.7019 - val_mae: 7.4039\n",
      "Epoch 36/200\n",
      "1139/1139 [==============================] - ETA: 0s - loss: 124.9496 - mae: 7.2360\n",
      "Epoch 36: val_mae did not improve from 7.18494\n",
      "1139/1139 [==============================] - 59s 52ms/step - loss: 124.9496 - mae: 7.2360 - val_loss: 149.4071 - val_mae: 7.2762\n",
      "Epoch 37/200\n",
      "1138/1139 [============================>.] - ETA: 0s - loss: 124.9250 - mae: 7.2329\n",
      "Epoch 37: val_mae did not improve from 7.18494\n",
      "1139/1139 [==============================] - 59s 52ms/step - loss: 124.8728 - mae: 7.2319 - val_loss: 146.9338 - val_mae: 7.2763\n",
      "Epoch 38/200\n",
      "1139/1139 [==============================] - ETA: 0s - loss: 123.7734 - mae: 7.2173\n",
      "Epoch 38: val_mae did not improve from 7.18494\n",
      "1139/1139 [==============================] - 58s 51ms/step - loss: 123.7734 - mae: 7.2173 - val_loss: 147.0234 - val_mae: 7.3463\n",
      "Epoch 39/200\n",
      "1139/1139 [==============================] - ETA: 0s - loss: 124.2266 - mae: 7.2210\n",
      "Epoch 39: val_mae did not improve from 7.18494\n",
      "1139/1139 [==============================] - 60s 52ms/step - loss: 124.2266 - mae: 7.2210 - val_loss: 148.7959 - val_mae: 7.4331\n"
     ]
    }
   ],
   "source": [
    "history = model.fit(train_generator, validation_data=val_generator, epochs=200, verbose=1, callbacks = callbacks_list)"
   ]
  },
  {
   "cell_type": "markdown",
   "id": "104f1620-4288-49a6-9398-90a3543ef865",
   "metadata": {},
   "source": [
    "### Načítanie najlepšieho modelu"
   ]
  },
  {
   "cell_type": "code",
   "execution_count": 7,
   "id": "4c79485e-f83d-4a9f-9f70-4ebfb5de2fce",
   "metadata": {},
   "outputs": [],
   "source": [
    "model = keras.models.load_model('5h_dopredu200+BZ.hdf5')"
   ]
  },
  {
   "cell_type": "markdown",
   "id": "e3e6906b-e6a0-4d2e-a1ee-18431e9a2055",
   "metadata": {},
   "source": [
    "### Vytvorenie predikcií"
   ]
  },
  {
   "cell_type": "code",
   "execution_count": 8,
   "id": "23a98654-2300-430e-98c7-066159026f30",
   "metadata": {},
   "outputs": [
    {
     "name": "stdout",
     "output_type": "stream",
     "text": [
      "633/633 [==============================] - 12s 18ms/step\n"
     ]
    }
   ],
   "source": [
    "y_pred = model.predict(test_generator)"
   ]
  },
  {
   "cell_type": "markdown",
   "id": "8a03e615-9f81-480e-9245-8377da35c272",
   "metadata": {},
   "source": [
    "### Nájdenie optimálneho thresholdu na validačnej sade"
   ]
  },
  {
   "cell_type": "code",
   "execution_count": 11,
   "id": "e37a8ed7-0595-4b04-9d0a-6af0e4cf5344",
   "metadata": {},
   "outputs": [
    {
     "name": "stdout",
     "output_type": "stream",
     "text": [
      "224/224 [==============================] - 4s 19ms/step\n",
      "Best Threshold for MCC on Validation Set: -18.39999999999997\n",
      "Best MCC on Validation Set: 0.7467834764352157\n",
      "-18.4\n"
     ]
    }
   ],
   "source": [
    "y_val_pred = model.predict(val_generator)\n",
    "\n",
    "true_labels_val = np.where(y_val[n_input:] <= -20, 1, 0) \n",
    "\n",
    "def calculate_mcc(y_true, y_pred):\n",
    "    return matthews_corrcoef(y_true, y_pred)\n",
    "\n",
    "thresholds = np.arange(-10, -40, -0.1)\n",
    "mcc_scores = []\n",
    "\n",
    "for thresh in thresholds:\n",
    "    predictions = np.where(y_val_pred <= thresh, 1, 0)\n",
    "    mcc = calculate_mcc(true_labels_val, predictions)\n",
    "    mcc_scores.append(mcc)\n",
    "\n",
    "best_threshold_mcc = thresholds[np.argmax(mcc_scores)]\n",
    "best_mcc = max(mcc_scores)\n",
    "\n",
    "print(\"Best Threshold for MCC on Validation Set:\", best_threshold_mcc)\n",
    "print(\"Best MCC on Validation Set:\", best_mcc)\n",
    "best_threshold_mcc_rounded = round(best_threshold_mcc, 1)\n"
   ]
  },
  {
   "cell_type": "markdown",
   "id": "554272e0-53fa-4fd0-b8e0-d6643a8ee1b8",
   "metadata": {},
   "source": [
    "### Výpočet metrík, vykreslenie grafu predikcie a uloženie predikcií"
   ]
  },
  {
   "cell_type": "code",
   "execution_count": 10,
   "id": "37dc5c65-bcff-404c-b6d1-7104ee59d001",
   "metadata": {},
   "outputs": [
    {
     "name": "stdout",
     "output_type": "stream",
     "text": [
      "Mean Squared Error: 41.46816234706448\n"
     ]
    }
   ],
   "source": [
    "from sklearn.metrics import mean_squared_error\n",
    "mse = mean_squared_error(y_test[:-6], y_pred.reshape(-1))\n",
    "print(f\"Mean Squared Error: {mse}\")"
   ]
  },
  {
   "cell_type": "code",
   "execution_count": 12,
   "id": "39df0af9-00f4-47eb-a9ad-b8e1aa1bad71",
   "metadata": {},
   "outputs": [
    {
     "name": "stdout",
     "output_type": "stream",
     "text": [
      "Confusion matrix: \n",
      "[[124519   5470]\n",
      " [  9750  22291]]\n"
     ]
    }
   ],
   "source": [
    "y_pred2 = np.where(y_pred <= best_threshold_mcc_rounded, 1, 0)\n",
    "y_test2 = np.where(y_test[n_input:]  <= -20, 1, 0)\n",
    "\n",
    "cm = confusion_matrix(y_test2, y_pred2)\n",
    "print(\"Confusion matrix: \\n\" + str(cm))"
   ]
  },
  {
   "cell_type": "code",
   "execution_count": 13,
   "id": "ec6a51d0-0fd0-4781-a0fd-a47ed6ec36f0",
   "metadata": {},
   "outputs": [
    {
     "name": "stdout",
     "output_type": "stream",
     "text": [
      "              precision    recall  f1-score   support\n",
      "\n",
      "           0       0.93      0.96      0.94    129989\n",
      "           1       0.80      0.70      0.75     32041\n",
      "\n",
      "    accuracy                           0.91    162030\n",
      "   macro avg       0.87      0.83      0.84    162030\n",
      "weighted avg       0.90      0.91      0.90    162030\n",
      "\n"
     ]
    }
   ],
   "source": [
    "print(classification_report(y_test2, y_pred2))\n"
   ]
  },
  {
   "cell_type": "code",
   "execution_count": 14,
   "id": "74eea3d5-eecc-4920-bd0c-809ab4ca01aa",
   "metadata": {},
   "outputs": [
    {
     "data": {
      "image/png": "[encoded data removed]",
      "text/plain": [
       "<Figure size 640x480 with 1 Axes>"
      ]
     },
     "metadata": {},
     "output_type": "display_data"
    }
   ],
   "source": [
    "df = pd.DataFrame(data={\"time\": test['time1'][n_input:],\"y_true\": y_test[n_input:].reshape(-1) , \"y_predict\": y_pred.reshape(-1)})\n",
    "\n",
    "plt.figure()\n",
    "plt.title('Predicting the change in DST Index')\n",
    "plt.plot(df['time'],df['y_true'], label='Skutočné hodnoty')\n",
    "plt.plot(df['time'],df['y_predict'], label='Predikované hodnoty')\n",
    "plt.legend()\n",
    "plt.gcf().autofmt_xdate()\n",
    "plt.grid(True)"
   ]
  },
  {
   "cell_type": "code",
   "execution_count": 15,
   "id": "c3647b9d-eea2-4653-b0ea-51865a2c4af8",
   "metadata": {},
   "outputs": [],
   "source": [
    "df.to_csv('5h_dopredu+200+BZ.csv')"
   ]
  },
  {
   "cell_type": "code",
   "execution_count": 16,
   "id": "0c59d060-301f-4891-ae4f-8d5e26976e7d",
   "metadata": {},
   "outputs": [
    {
     "name": "stdout",
     "output_type": "stream",
     "text": [
      "ACC=0.9060667777572055\n",
      "MCC=0.6909195723826034\n"
     ]
    }
   ],
   "source": [
    "TN, FP, FN, TP = cm.ravel()\n",
    "ACC = (TP + TN) / (TP + TN + FP + FN)\n",
    "MCC = matthews_corrcoef(y_test2, y_pred2)\n",
    "print(\"ACC={}\".format(ACC))\n",
    "print(\"MCC={}\".format(MCC))"
   ]
  },
  {
   "cell_type": "code",
   "execution_count": null,
   "id": "f32092da-d9f3-488a-9012-93a4b72ca169",
   "metadata": {},
   "outputs": [],
   "source": []
  }
 ],
 "metadata": {
  "kernelspec": {
   "display_name": "Python 3 (ipykernel)",
   "language": "python",
   "name": "python3"
  },
  "language_info": {
   "codemirror_mode": {
    "name": "ipython",
    "version": 3
   },
   "file_extension": ".py",
   "mimetype": "text/x-python",
   "name": "python",
   "nbconvert_exporter": "python",
   "pygments_lexer": "ipython3",
   "version": "3.10.6"
  }
 },
 "nbformat": 4,
 "nbformat_minor": 5
}
