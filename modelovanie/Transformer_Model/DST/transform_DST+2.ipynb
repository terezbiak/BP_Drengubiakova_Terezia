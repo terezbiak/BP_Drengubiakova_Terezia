{
 "cells": [
  {
   "cell_type": "code",
   "execution_count": 1,
   "id": "51ef9323-0a7d-4c7a-a1e6-d6b4a03b0e6b",
   "metadata": {},
   "outputs": [
    {
     "name": "stderr",
     "output_type": "stream",
     "text": [
      "2024-05-20 13:40:49.560165: I tensorflow/core/platform/cpu_feature_guard.cc:193] This TensorFlow binary is optimized with oneAPI Deep Neural Network Library (oneDNN) to use the following CPU instructions in performance-critical operations:  SSE4.1 SSE4.2 AVX AVX2 FMA\n",
      "To enable them in other operations, rebuild TensorFlow with the appropriate compiler flags.\n"
     ]
    }
   ],
   "source": [
    "import pandas as pd\n",
    "import numpy as np\n",
    "from tensorflow import keras\n",
    "import matplotlib.pyplot as plt\n",
    "from sklearn.preprocessing import MinMaxScaler, StandardScaler\n",
    "from pandas.plotting import register_matplotlib_converters\n",
    "register_matplotlib_converters()\n",
    "import seaborn as sns\n",
    "\n",
    "from tensorflow.keras.preprocessing.sequence import TimeseriesGenerator\n",
    "from keras.models import Sequential\n",
    "\n",
    "from keras.layers import Dense, Activation, Dropout, Input, Conv1D, LSTM, MaxPooling1D, Flatten, TimeDistributed, Bidirectional\n",
    "from tensorflow.keras.callbacks import ModelCheckpoint, EarlyStopping\n",
    "from keras.models import Model\n",
    "\n",
    "\n",
    "from scipy.special import expit, logit\n",
    "\n",
    "from sklearn.metrics import confusion_matrix, classification_report, matthews_corrcoef\n",
    "import tensorflow as tf\n",
    "from tensorflow.keras.layers import Layer, MultiHeadAttention, Dropout, LayerNormalization, Dense\n",
    "from tensorflow.keras.layers import MultiHeadAttention, Dense, Input, LayerNormalization, Dropout\n",
    "from tensorflow.keras.models import Model\n",
    "from sklearn.metrics import mean_squared_error"
   ]
  },
  {
   "cell_type": "code",
   "execution_count": 2,
   "id": "21d43abb-87e8-4c68-9e99-1fcdc0367cea",
   "metadata": {},
   "outputs": [],
   "source": [
    "train = pd.read_csv('train_omni.csv')\n",
    "test = pd.read_csv('test_omni.csv')\n",
    "features = ['time1', 'DST', 'DST+2']\n",
    "test = test[features]\n",
    "train = train[features]\n",
    "train['time1']=pd.to_datetime(train['time1'])\n",
    "test['time1']=pd.to_datetime(test['time1'])\n",
    "\n",
    "y_col='DST+2'\n",
    "valid_size = int(len(train) * 0.2)\n",
    "valid = train.iloc[-valid_size:,:].copy()\n",
    "train = train.iloc[:-valid_size,:].copy()\n",
    "\n",
    "y_train = train[y_col].values.copy()\n",
    "X_train = train['DST'].values.copy()\n",
    "y_val = valid[y_col].values.copy()\n",
    "X_val = valid['DST'].values.copy()\n",
    "y_test = test[y_col].values.copy()\n",
    "X_test = test['DST'].values.copy()"
   ]
  },
  {
   "cell_type": "code",
   "execution_count": 3,
   "id": "59d4e002-dddc-4ad9-8bad-c7638095a7e9",
   "metadata": {},
   "outputs": [],
   "source": [
    "n_input = 6 \n",
    "n_features= len(X_train)  \n",
    "b_size = 256  \n",
    "\n",
    "train_generator = TimeseriesGenerator(X_train, y_train, length=n_input, batch_size=b_size)\n",
    "val_generator = TimeseriesGenerator(X_val, y_val, length=n_input, batch_size=b_size)\n",
    "test_generator = TimeseriesGenerator(X_test, y_test, length=n_input, batch_size=256)"
   ]
  },
  {
   "cell_type": "code",
   "execution_count": 4,
   "id": "2aa04d2b-9f0e-4e3d-ad51-c7b16d1a97a2",
   "metadata": {},
   "outputs": [
    {
     "name": "stderr",
     "output_type": "stream",
     "text": [
      "2024-05-20 13:40:59.325629: I tensorflow/core/platform/cpu_feature_guard.cc:193] This TensorFlow binary is optimized with oneAPI Deep Neural Network Library (oneDNN) to use the following CPU instructions in performance-critical operations:  SSE4.1 SSE4.2 AVX AVX2 FMA\n",
      "To enable them in other operations, rebuild TensorFlow with the appropriate compiler flags.\n"
     ]
    },
    {
     "name": "stdout",
     "output_type": "stream",
     "text": [
      "Model: \"model\"\n",
      "_________________________________________________________________\n",
      " Layer (type)                Output Shape              Param #   \n",
      "=================================================================\n",
      " input_1 (InputLayer)        [(None, 6, 1)]            0         \n",
      "                                                                 \n",
      " transformer_encoder_layer (  (None, 6, 64)            66688     \n",
      " TransformerEncoderLayer)                                        \n",
      "                                                                 \n",
      " flatten (Flatten)           (None, 384)               0         \n",
      "                                                                 \n",
      " dense_3 (Dense)             (None, 1)                 385       \n",
      "                                                                 \n",
      "=================================================================\n",
      "Total params: 67,073\n",
      "Trainable params: 67,073\n",
      "Non-trainable params: 0\n",
      "_________________________________________________________________\n"
     ]
    }
   ],
   "source": [
    "class TransformerEncoderLayer(Layer):\n",
    "    def __init__(self, embed_dim, num_heads, ff_dim, input_dim, rate=0.1, **kwargs):\n",
    "        super(TransformerEncoderLayer, self).__init__(**kwargs)\n",
    "        self.embed_dim = embed_dim\n",
    "        self.num_heads = num_heads\n",
    "        self.ff_dim = ff_dim\n",
    "        self.input_dim = input_dim\n",
    "        self.rate = rate\n",
    "        self.input_proj = Dense(embed_dim)\n",
    "        self.att = MultiHeadAttention(num_heads=num_heads, key_dim=embed_dim)\n",
    "        self.ffn = tf.keras.Sequential([\n",
    "            Dense(ff_dim, activation=\"relu\"),\n",
    "            Dense(embed_dim)\n",
    "        ])\n",
    "        self.layernorm1 = LayerNormalization(epsilon=1e-6)\n",
    "        self.layernorm2 = LayerNormalization(epsilon=1e-6)\n",
    "        self.dropout1 = Dropout(rate)\n",
    "        self.dropout2 = Dropout(rate)\n",
    "\n",
    "    def call(self, inputs, training=False):\n",
    "        inputs_proj = self.input_proj(inputs)\n",
    "        attn_output = self.att(inputs_proj, inputs_proj)\n",
    "        attn_output = self.dropout1(attn_output, training=training)\n",
    "        out1 = self.layernorm1(inputs_proj + attn_output)\n",
    "        ffn_output = self.ffn(out1)\n",
    "        ffn_output = self.dropout2(ffn_output, training=training)\n",
    "        return self.layernorm2(out1 + ffn_output)\n",
    "\n",
    "    def get_config(self):\n",
    "        config = super().get_config()\n",
    "        config.update({\n",
    "            'embed_dim': self.embed_dim,\n",
    "            'num_heads': self.num_heads,\n",
    "            'ff_dim': self.ff_dim,\n",
    "            'input_dim': self.input_dim,\n",
    "            'rate': self.rate\n",
    "        })\n",
    "        return config\n",
    "\n",
    "def build_model(input_shape, embed_dim, num_heads, ff_dim, rate=0.1):\n",
    "    inputs = tf.keras.Input(shape=input_shape)\n",
    "    x = TransformerEncoderLayer(embed_dim, num_heads, ff_dim, input_shape[-1], rate)(inputs)\n",
    "    x = Flatten()(x)\n",
    "    x = Dense(1, activation='linear')(x)\n",
    "    return tf.keras.Model(inputs=inputs, outputs=x)\n",
    "\n",
    "\n",
    "model = build_model((6, 1), embed_dim=64, num_heads=2, ff_dim=256)\n",
    "model.compile(loss='mse', optimizer='adam', metrics=['mae'])\n",
    "model.summary()"
   ]
  },
  {
   "cell_type": "code",
   "execution_count": 5,
   "id": "f17749e5-32c6-411b-ab2c-36cb3a7924aa",
   "metadata": {},
   "outputs": [],
   "source": [
    "saved_model = \"2h_transform.keras\"\n",
    "checkpoint = ModelCheckpoint(saved_model, monitor='val_mae', verbose=1, save_best_only=True, mode='min')\n",
    "early = EarlyStopping(monitor=\"val_mae\", mode=\"min\", patience=25)\n",
    "callbacks_list = [checkpoint, early]"
   ]
  },
  {
   "cell_type": "code",
   "execution_count": 6,
   "id": "80bb916a-799c-48e0-aaa3-cd91fab2febf",
   "metadata": {},
   "outputs": [
    {
     "name": "stdout",
     "output_type": "stream",
     "text": [
      "Epoch 1/200\n",
      "896/896 [==============================] - ETA: 0s - loss: 295.2483 - mae: 10.3956\n",
      "Epoch 1: val_mae improved from inf to 19.15107, saving model to 2h_transform.keras\n",
      "896/896 [==============================] - 26s 26ms/step - loss: 295.2483 - mae: 10.3956 - val_loss: 681.7357 - val_mae: 19.1511\n",
      "Epoch 2/200\n",
      "894/896 [============================>.] - ETA: 0s - loss: 148.5990 - mae: 6.9661\n",
      "Epoch 2: val_mae improved from 19.15107 to 6.98470, saving model to 2h_transform.keras\n",
      "896/896 [==============================] - 23s 26ms/step - loss: 148.4694 - mae: 6.9647 - val_loss: 187.3957 - val_mae: 6.9847\n",
      "Epoch 3/200\n",
      "895/896 [============================>.] - ETA: 0s - loss: 101.5838 - mae: 6.0197\n",
      "Epoch 3: val_mae improved from 6.98470 to 6.55902, saving model to 2h_transform.keras\n",
      "896/896 [==============================] - 22s 25ms/step - loss: 101.7646 - mae: 6.0249 - val_loss: 150.3886 - val_mae: 6.5590\n",
      "Epoch 4/200\n",
      "895/896 [============================>.] - ETA: 0s - loss: 79.7556 - mae: 5.6057\n",
      "Epoch 4: val_mae improved from 6.55902 to 6.33105, saving model to 2h_transform.keras\n",
      "896/896 [==============================] - 23s 26ms/step - loss: 79.7527 - mae: 5.6064 - val_loss: 132.4593 - val_mae: 6.3311\n",
      "Epoch 5/200\n",
      "895/896 [============================>.] - ETA: 0s - loss: 89.6578 - mae: 5.9545\n",
      "Epoch 5: val_mae improved from 6.33105 to 5.87534, saving model to 2h_transform.keras\n",
      "896/896 [==============================] - 23s 25ms/step - loss: 89.5786 - mae: 5.9517 - val_loss: 113.3249 - val_mae: 5.8753\n",
      "Epoch 6/200\n",
      "896/896 [==============================] - ETA: 0s - loss: 73.6144 - mae: 5.5430\n",
      "Epoch 6: val_mae did not improve from 5.87534\n",
      "896/896 [==============================] - 24s 26ms/step - loss: 73.6144 - mae: 5.5430 - val_loss: 140.0753 - val_mae: 6.9637\n",
      "Epoch 7/200\n",
      "896/896 [==============================] - ETA: 0s - loss: 67.7366 - mae: 5.3599\n",
      "Epoch 7: val_mae improved from 5.87534 to 5.74997, saving model to 2h_transform.keras\n",
      "896/896 [==============================] - 22s 25ms/step - loss: 67.7366 - mae: 5.3599 - val_loss: 100.2415 - val_mae: 5.7500\n",
      "Epoch 8/200\n",
      "896/896 [==============================] - ETA: 0s - loss: 68.5133 - mae: 5.3726\n",
      "Epoch 8: val_mae did not improve from 5.74997\n",
      "896/896 [==============================] - 23s 25ms/step - loss: 68.5133 - mae: 5.3726 - val_loss: 105.6722 - val_mae: 6.1578\n",
      "Epoch 9/200\n",
      "894/896 [============================>.] - ETA: 0s - loss: 60.7107 - mae: 5.1054\n",
      "Epoch 9: val_mae did not improve from 5.74997\n",
      "896/896 [==============================] - 23s 25ms/step - loss: 60.7479 - mae: 5.1068 - val_loss: 116.7467 - val_mae: 6.3027\n",
      "Epoch 10/200\n",
      "894/896 [============================>.] - ETA: 0s - loss: 62.9667 - mae: 5.1784\n",
      "Epoch 10: val_mae improved from 5.74997 to 5.59465, saving model to 2h_transform.keras\n",
      "896/896 [==============================] - 22s 25ms/step - loss: 62.9738 - mae: 5.1792 - val_loss: 90.5936 - val_mae: 5.5947\n",
      "Epoch 11/200\n",
      "894/896 [============================>.] - ETA: 0s - loss: 62.3659 - mae: 5.1540\n",
      "Epoch 11: val_mae did not improve from 5.59465\n",
      "896/896 [==============================] - 23s 25ms/step - loss: 62.4405 - mae: 5.1589 - val_loss: 131.2186 - val_mae: 7.0693\n",
      "Epoch 12/200\n",
      "895/896 [============================>.] - ETA: 0s - loss: 62.9172 - mae: 5.2016\n",
      "Epoch 12: val_mae did not improve from 5.59465\n",
      "896/896 [==============================] - 23s 26ms/step - loss: 62.8739 - mae: 5.1996 - val_loss: 106.1354 - val_mae: 6.0091\n",
      "Epoch 13/200\n",
      "895/896 [============================>.] - ETA: 0s - loss: 61.0978 - mae: 5.1018\n",
      "Epoch 13: val_mae did not improve from 5.59465\n",
      "896/896 [==============================] - 23s 26ms/step - loss: 61.0924 - mae: 5.1019 - val_loss: 93.8460 - val_mae: 5.7067\n",
      "Epoch 14/200\n",
      "895/896 [============================>.] - ETA: 0s - loss: 59.3887 - mae: 5.0511\n",
      "Epoch 14: val_mae did not improve from 5.59465\n",
      "896/896 [==============================] - 24s 27ms/step - loss: 59.3381 - mae: 5.0487 - val_loss: 93.3108 - val_mae: 5.8879\n",
      "Epoch 15/200\n",
      "894/896 [============================>.] - ETA: 0s - loss: 56.2542 - mae: 4.9526\n",
      "Epoch 15: val_mae did not improve from 5.59465\n",
      "896/896 [==============================] - 24s 26ms/step - loss: 56.2370 - mae: 4.9527 - val_loss: 90.1368 - val_mae: 5.8742\n",
      "Epoch 16/200\n",
      "894/896 [============================>.] - ETA: 0s - loss: 64.0920 - mae: 5.2344\n",
      "Epoch 16: val_mae did not improve from 5.59465\n",
      "896/896 [==============================] - 23s 25ms/step - loss: 64.0373 - mae: 5.2330 - val_loss: 89.5382 - val_mae: 5.7601\n",
      "Epoch 17/200\n",
      "894/896 [============================>.] - ETA: 0s - loss: 59.5942 - mae: 5.0484\n",
      "Epoch 17: val_mae did not improve from 5.59465\n",
      "896/896 [==============================] - 23s 26ms/step - loss: 59.5991 - mae: 5.0486 - val_loss: 87.9282 - val_mae: 5.6363\n",
      "Epoch 18/200\n",
      "895/896 [============================>.] - ETA: 0s - loss: 61.4667 - mae: 5.0885\n",
      "Epoch 18: val_mae did not improve from 5.59465\n",
      "896/896 [==============================] - 23s 26ms/step - loss: 61.4208 - mae: 5.0867 - val_loss: 106.3789 - val_mae: 6.4124\n",
      "Epoch 19/200\n",
      "894/896 [============================>.] - ETA: 0s - loss: 58.9322 - mae: 5.0449\n",
      "Epoch 19: val_mae did not improve from 5.59465\n",
      "896/896 [==============================] - 23s 26ms/step - loss: 58.9956 - mae: 5.0481 - val_loss: 87.5186 - val_mae: 5.7360\n",
      "Epoch 20/200\n",
      "894/896 [============================>.] - ETA: 0s - loss: 56.6541 - mae: 4.9725\n",
      "Epoch 20: val_mae did not improve from 5.59465\n",
      "896/896 [==============================] - 22s 25ms/step - loss: 56.6131 - mae: 4.9714 - val_loss: 87.6337 - val_mae: 5.6513\n",
      "Epoch 21/200\n",
      "896/896 [==============================] - ETA: 0s - loss: 59.3697 - mae: 5.0579\n",
      "Epoch 21: val_mae did not improve from 5.59465\n",
      "896/896 [==============================] - 24s 26ms/step - loss: 59.3697 - mae: 5.0579 - val_loss: 85.9685 - val_mae: 5.6471\n",
      "Epoch 22/200\n",
      "896/896 [==============================] - ETA: 0s - loss: 63.7105 - mae: 5.1401\n",
      "Epoch 22: val_mae did not improve from 5.59465\n",
      "896/896 [==============================] - 22s 25ms/step - loss: 63.7105 - mae: 5.1401 - val_loss: 90.9186 - val_mae: 5.7128\n",
      "Epoch 23/200\n",
      "894/896 [============================>.] - ETA: 0s - loss: 59.8354 - mae: 5.0325\n",
      "Epoch 23: val_mae did not improve from 5.59465\n",
      "896/896 [==============================] - 23s 25ms/step - loss: 59.7806 - mae: 5.0307 - val_loss: 98.9807 - val_mae: 5.8017\n",
      "Epoch 24/200\n",
      "895/896 [============================>.] - ETA: 0s - loss: 55.0439 - mae: 4.8877\n",
      "Epoch 24: val_mae did not improve from 5.59465\n",
      "896/896 [==============================] - 24s 26ms/step - loss: 55.0224 - mae: 4.8866 - val_loss: 98.1244 - val_mae: 5.9888\n",
      "Epoch 25/200\n",
      "896/896 [==============================] - ETA: 0s - loss: 56.4325 - mae: 4.9575\n",
      "Epoch 25: val_mae did not improve from 5.59465\n",
      "896/896 [==============================] - 23s 25ms/step - loss: 56.4325 - mae: 4.9575 - val_loss: 109.1680 - val_mae: 6.7309\n",
      "Epoch 26/200\n",
      "895/896 [============================>.] - ETA: 0s - loss: 55.8183 - mae: 4.9354\n",
      "Epoch 26: val_mae did not improve from 5.59465\n",
      "896/896 [==============================] - 23s 25ms/step - loss: 55.8133 - mae: 4.9354 - val_loss: 86.1933 - val_mae: 5.6871\n",
      "Epoch 27/200\n",
      "895/896 [============================>.] - ETA: 0s - loss: 60.0233 - mae: 5.0878\n",
      "Epoch 27: val_mae did not improve from 5.59465\n",
      "896/896 [==============================] - 23s 26ms/step - loss: 60.0330 - mae: 5.0894 - val_loss: 98.9904 - val_mae: 6.0151\n",
      "Epoch 28/200\n",
      "895/896 [============================>.] - ETA: 0s - loss: 55.1946 - mae: 4.8988\n",
      "Epoch 28: val_mae did not improve from 5.59465\n",
      "896/896 [==============================] - 23s 26ms/step - loss: 55.1785 - mae: 4.8991 - val_loss: 84.7290 - val_mae: 5.6631\n",
      "Epoch 29/200\n",
      "895/896 [============================>.] - ETA: 0s - loss: 56.7375 - mae: 4.9791\n",
      "Epoch 29: val_mae did not improve from 5.59465\n",
      "896/896 [==============================] - 22s 25ms/step - loss: 56.7227 - mae: 4.9788 - val_loss: 110.1265 - val_mae: 7.1403\n",
      "Epoch 30/200\n",
      "896/896 [==============================] - ETA: 0s - loss: 55.1215 - mae: 4.9239\n",
      "Epoch 30: val_mae did not improve from 5.59465\n",
      "896/896 [==============================] - 24s 26ms/step - loss: 55.1215 - mae: 4.9239 - val_loss: 84.0548 - val_mae: 5.6768\n",
      "Epoch 31/200\n",
      "895/896 [============================>.] - ETA: 0s - loss: 54.8034 - mae: 4.8959\n",
      "Epoch 31: val_mae did not improve from 5.59465\n",
      "896/896 [==============================] - 23s 26ms/step - loss: 54.7736 - mae: 4.8948 - val_loss: 94.9169 - val_mae: 5.7353\n",
      "Epoch 32/200\n",
      "895/896 [============================>.] - ETA: 0s - loss: 59.5090 - mae: 5.0465\n",
      "Epoch 32: val_mae did not improve from 5.59465\n",
      "896/896 [==============================] - 24s 27ms/step - loss: 59.4746 - mae: 5.0454 - val_loss: 106.0673 - val_mae: 6.5767\n",
      "Epoch 33/200\n",
      "896/896 [==============================] - ETA: 0s - loss: 54.1411 - mae: 4.8617\n",
      "Epoch 33: val_mae did not improve from 5.59465\n",
      "896/896 [==============================] - 23s 25ms/step - loss: 54.1411 - mae: 4.8617 - val_loss: 93.2351 - val_mae: 5.8969\n",
      "Epoch 34/200\n",
      "896/896 [==============================] - ETA: 0s - loss: 60.2767 - mae: 5.0512\n",
      "Epoch 34: val_mae did not improve from 5.59465\n",
      "896/896 [==============================] - 23s 26ms/step - loss: 60.2767 - mae: 5.0512 - val_loss: 88.5964 - val_mae: 5.6871\n",
      "Epoch 35/200\n",
      "896/896 [==============================] - ETA: 0s - loss: 54.6559 - mae: 4.8654\n",
      "Epoch 35: val_mae did not improve from 5.59465\n",
      "896/896 [==============================] - 24s 26ms/step - loss: 54.6559 - mae: 4.8654 - val_loss: 88.2658 - val_mae: 5.8902\n"
     ]
    }
   ],
   "source": [
    "history = model.fit(train_generator, validation_data=val_generator, epochs=200, verbose=1, callbacks = callbacks_list)"
   ]
  },
  {
   "cell_type": "code",
   "execution_count": 7,
   "id": "3fb26874-787e-46ae-81dc-d531e648a70e",
   "metadata": {},
   "outputs": [],
   "source": [
    "model = keras.models.load_model('2h_transform.keras', custom_objects={'TransformerEncoderLayer': TransformerEncoderLayer})"
   ]
  },
  {
   "cell_type": "code",
   "execution_count": 8,
   "id": "5a571306-f07a-4d2a-95bf-8a1396aecab6",
   "metadata": {},
   "outputs": [
    {
     "name": "stdout",
     "output_type": "stream",
     "text": [
      "633/633 [==============================] - 7s 11ms/step\n"
     ]
    }
   ],
   "source": [
    "y_pred = model.predict(test_generator)"
   ]
  },
  {
   "cell_type": "code",
   "execution_count": 9,
   "id": "ee50d150-532e-4b14-817f-35fa501f75cd",
   "metadata": {},
   "outputs": [
    {
     "name": "stdout",
     "output_type": "stream",
     "text": [
      "Mean Squared Error: 81.89509980958232\n"
     ]
    }
   ],
   "source": [
    "mse = mean_squared_error(y_test[:-n_input], y_pred.reshape(-1))\n",
    "print(f\"Mean Squared Error: {mse}\")"
   ]
  },
  {
   "cell_type": "code",
   "execution_count": 10,
   "id": "a9c85f39-4837-4a9d-98ff-84b3007af120",
   "metadata": {},
   "outputs": [
    {
     "name": "stdout",
     "output_type": "stream",
     "text": [
      "224/224 [==============================] - 3s 11ms/step\n",
      "Best Threshold for MCC on Validation Set: -19.799999999999965\n",
      "Best MCC on Validation Set: 0.829840625892096\n"
     ]
    }
   ],
   "source": [
    "y_val_pred = model.predict(val_generator)\n",
    "\n",
    "true_labels_val = np.where(y_val[n_input:] <= -20, 1, 0)  \n",
    "\n",
    "def calculate_mcc(y_true, y_pred):\n",
    "    return matthews_corrcoef(y_true, y_pred)\n",
    "\n",
    "thresholds = np.arange(-10, -40, -0.1)\n",
    "mcc_scores = []\n",
    "\n",
    "for thresh in thresholds:\n",
    "    predictions = np.where(y_val_pred <= thresh, 1, 0)\n",
    "    mcc = calculate_mcc(true_labels_val, predictions)\n",
    "    mcc_scores.append(mcc)\n",
    "\n",
    "best_threshold_mcc = thresholds[np.argmax(mcc_scores)]\n",
    "best_mcc = max(mcc_scores)\n",
    "\n",
    "print(\"Best Threshold for MCC on Validation Set:\", best_threshold_mcc)\n",
    "print(\"Best MCC on Validation Set:\", best_mcc)\n",
    "best_threshold_mcc_rounded = round(best_threshold_mcc, 1)"
   ]
  },
  {
   "cell_type": "code",
   "execution_count": 11,
   "id": "80d03dc2-b7ba-4e55-8837-337aa331623f",
   "metadata": {},
   "outputs": [
    {
     "name": "stdout",
     "output_type": "stream",
     "text": [
      "Confusion matrix: \n",
      "[[125834   4152]\n",
      " [  6329  25715]]\n",
      "              precision    recall  f1-score   support\n",
      "\n",
      "           0       0.95      0.97      0.96    129986\n",
      "           1       0.86      0.80      0.83     32044\n",
      "\n",
      "    accuracy                           0.94    162030\n",
      "   macro avg       0.91      0.89      0.90    162030\n",
      "weighted avg       0.93      0.94      0.93    162030\n",
      "\n"
     ]
    }
   ],
   "source": [
    "y_pred2 = np.where(y_pred <= best_threshold_mcc_rounded, 1, 0)\n",
    "y_test2 = np.where(y_test[n_input:]  <= -20, 1, 0)\n",
    "\n",
    "cm = confusion_matrix(y_test2, y_pred2)\n",
    "print(\"Confusion matrix: \\n\" + str(cm))\n",
    "\n",
    "print(classification_report(y_test2, y_pred2))"
   ]
  },
  {
   "cell_type": "code",
   "execution_count": 12,
   "id": "b41f7df5-667a-4d01-b6b1-6da39d50f902",
   "metadata": {},
   "outputs": [
    {
     "data": {
      "image/png": "[encoded data removed]",
      "text/plain": [
       "<Figure size 640x480 with 1 Axes>"
      ]
     },
     "metadata": {},
     "output_type": "display_data"
    }
   ],
   "source": [
    "df = pd.DataFrame(data={\"time\": test['time1'][n_input:],\"y_true\": y_test[n_input:].reshape(-1) , \"y_predict\": y_pred.reshape(-1)})\n",
    "\n",
    "plt.figure()\n",
    "plt.title('Predicting the change in DST Index')\n",
    "plt.plot(df['time'],df['y_true'], label='Skutočné hodnoty')\n",
    "plt.plot(df['time'],df['y_predict'], label='Predikované hodnoty')\n",
    "plt.legend()\n",
    "plt.gcf().autofmt_xdate()\n",
    "plt.grid(True)"
   ]
  },
  {
   "cell_type": "code",
   "execution_count": 13,
   "id": "c374fbbb-8c84-4a9f-8c54-e04443f02938",
   "metadata": {},
   "outputs": [
    {
     "name": "stdout",
     "output_type": "stream",
     "text": [
      "ACC=0.9353144479417392\n",
      "MCC=0.7915363118241955\n"
     ]
    }
   ],
   "source": [
    "TN, FP, FN, TP = cm.ravel()\n",
    "ACC = (TP + TN) / (TP + TN + FP + FN)\n",
    "MCC = matthews_corrcoef(y_test2, y_pred2)\n",
    "print(\"ACC={}\".format(ACC))\n",
    "print(\"MCC={}\".format(MCC))"
   ]
  },
  {
   "cell_type": "code",
   "execution_count": null,
   "id": "0daf897d-cc1a-4163-baac-b67e789f3ec7",
   "metadata": {},
   "outputs": [],
   "source": []
  }
 ],
 "metadata": {
  "kernelspec": {
   "display_name": "Python 3 (ipykernel)",
   "language": "python",
   "name": "python3"
  },
  "language_info": {
   "codemirror_mode": {
    "name": "ipython",
    "version": 3
   },
   "file_extension": ".py",
   "mimetype": "text/x-python",
   "name": "python",
   "nbconvert_exporter": "python",
   "pygments_lexer": "ipython3",
   "version": "3.10.6"
  }
 },
 "nbformat": 4,
 "nbformat_minor": 5
}
