{
 "cells": [
  {
   "cell_type": "code",
   "execution_count": 1,
   "id": "51ef9323-0a7d-4c7a-a1e6-d6b4a03b0e6b",
   "metadata": {},
   "outputs": [
    {
     "name": "stderr",
     "output_type": "stream",
     "text": [
      "2024-05-20 13:41:15.795987: I tensorflow/core/platform/cpu_feature_guard.cc:193] This TensorFlow binary is optimized with oneAPI Deep Neural Network Library (oneDNN) to use the following CPU instructions in performance-critical operations:  SSE4.1 SSE4.2 AVX AVX2 FMA\n",
      "To enable them in other operations, rebuild TensorFlow with the appropriate compiler flags.\n"
     ]
    }
   ],
   "source": [
    "import pandas as pd\n",
    "import numpy as np\n",
    "from tensorflow import keras\n",
    "import matplotlib.pyplot as plt\n",
    "from sklearn.preprocessing import MinMaxScaler, StandardScaler\n",
    "from pandas.plotting import register_matplotlib_converters\n",
    "register_matplotlib_converters()\n",
    "import seaborn as sns\n",
    "\n",
    "from tensorflow.keras.preprocessing.sequence import TimeseriesGenerator\n",
    "from keras.models import Sequential\n",
    "\n",
    "from keras.layers import Dense, Activation, Dropout, Input, Conv1D, LSTM, MaxPooling1D, Flatten, TimeDistributed, Bidirectional\n",
    "from tensorflow.keras.callbacks import ModelCheckpoint, EarlyStopping\n",
    "from keras.models import Model\n",
    "\n",
    "\n",
    "from scipy.special import expit, logit\n",
    "\n",
    "from sklearn.metrics import confusion_matrix, classification_report, matthews_corrcoef\n",
    "import tensorflow as tf\n",
    "from tensorflow.keras.layers import Layer, MultiHeadAttention, Dropout, LayerNormalization, Dense\n",
    "from tensorflow.keras.layers import MultiHeadAttention, Dense, Input, LayerNormalization, Dropout\n",
    "from tensorflow.keras.models import Model\n",
    "from sklearn.metrics import mean_squared_error"
   ]
  },
  {
   "cell_type": "code",
   "execution_count": 2,
   "id": "21d43abb-87e8-4c68-9e99-1fcdc0367cea",
   "metadata": {},
   "outputs": [],
   "source": [
    "train = pd.read_csv('train_omni.csv')\n",
    "test = pd.read_csv('test_omni.csv')\n",
    "features = ['time1', 'DST', 'DST+3']\n",
    "test = test[features]\n",
    "train = train[features]\n",
    "train['time1']=pd.to_datetime(train['time1'])\n",
    "test['time1']=pd.to_datetime(test['time1'])\n",
    "\n",
    "y_col='DST+3'\n",
    "valid_size = int(len(train) * 0.2)\n",
    "valid = train.iloc[-valid_size:,:].copy()\n",
    "train = train.iloc[:-valid_size,:].copy()\n",
    "\n",
    "y_train = train[y_col].values.copy()\n",
    "X_train = train['DST'].values.copy()\n",
    "y_val = valid[y_col].values.copy()\n",
    "X_val = valid['DST'].values.copy()\n",
    "y_test = test[y_col].values.copy()\n",
    "X_test = test['DST'].values.copy()"
   ]
  },
  {
   "cell_type": "code",
   "execution_count": 3,
   "id": "59d4e002-dddc-4ad9-8bad-c7638095a7e9",
   "metadata": {},
   "outputs": [],
   "source": [
    "n_input = 6 \n",
    "n_features= len(X_train)  \n",
    "b_size = 256  \n",
    "\n",
    "train_generator = TimeseriesGenerator(X_train, y_train, length=n_input, batch_size=b_size)\n",
    "val_generator = TimeseriesGenerator(X_val, y_val, length=n_input, batch_size=b_size)\n",
    "test_generator = TimeseriesGenerator(X_test, y_test, length=n_input, batch_size=256)"
   ]
  },
  {
   "cell_type": "code",
   "execution_count": 4,
   "id": "2aa04d2b-9f0e-4e3d-ad51-c7b16d1a97a2",
   "metadata": {},
   "outputs": [
    {
     "name": "stderr",
     "output_type": "stream",
     "text": [
      "2024-05-20 13:41:25.854469: I tensorflow/core/platform/cpu_feature_guard.cc:193] This TensorFlow binary is optimized with oneAPI Deep Neural Network Library (oneDNN) to use the following CPU instructions in performance-critical operations:  SSE4.1 SSE4.2 AVX AVX2 FMA\n",
      "To enable them in other operations, rebuild TensorFlow with the appropriate compiler flags.\n"
     ]
    },
    {
     "name": "stdout",
     "output_type": "stream",
     "text": [
      "Model: \"model\"\n",
      "_________________________________________________________________\n",
      " Layer (type)                Output Shape              Param #   \n",
      "=================================================================\n",
      " input_1 (InputLayer)        [(None, 6, 1)]            0         \n",
      "                                                                 \n",
      " transformer_encoder_layer (  (None, 6, 64)            66688     \n",
      " TransformerEncoderLayer)                                        \n",
      "                                                                 \n",
      " flatten (Flatten)           (None, 384)               0         \n",
      "                                                                 \n",
      " dense_3 (Dense)             (None, 1)                 385       \n",
      "                                                                 \n",
      "=================================================================\n",
      "Total params: 67,073\n",
      "Trainable params: 67,073\n",
      "Non-trainable params: 0\n",
      "_________________________________________________________________\n"
     ]
    }
   ],
   "source": [
    "class TransformerEncoderLayer(Layer):\n",
    "    def __init__(self, embed_dim, num_heads, ff_dim, input_dim, rate=0.1, **kwargs):\n",
    "        super(TransformerEncoderLayer, self).__init__(**kwargs)\n",
    "        self.embed_dim = embed_dim\n",
    "        self.num_heads = num_heads\n",
    "        self.ff_dim = ff_dim\n",
    "        self.input_dim = input_dim\n",
    "        self.rate = rate\n",
    "        self.input_proj = Dense(embed_dim)\n",
    "        self.att = MultiHeadAttention(num_heads=num_heads, key_dim=embed_dim)\n",
    "        self.ffn = tf.keras.Sequential([\n",
    "            Dense(ff_dim, activation=\"relu\"),\n",
    "            Dense(embed_dim)\n",
    "        ])\n",
    "        self.layernorm1 = LayerNormalization(epsilon=1e-6)\n",
    "        self.layernorm2 = LayerNormalization(epsilon=1e-6)\n",
    "        self.dropout1 = Dropout(rate)\n",
    "        self.dropout2 = Dropout(rate)\n",
    "\n",
    "    def call(self, inputs, training=False):\n",
    "        inputs_proj = self.input_proj(inputs)\n",
    "        attn_output = self.att(inputs_proj, inputs_proj)\n",
    "        attn_output = self.dropout1(attn_output, training=training)\n",
    "        out1 = self.layernorm1(inputs_proj + attn_output)\n",
    "        ffn_output = self.ffn(out1)\n",
    "        ffn_output = self.dropout2(ffn_output, training=training)\n",
    "        return self.layernorm2(out1 + ffn_output)\n",
    "\n",
    "    def get_config(self):\n",
    "        config = super().get_config()\n",
    "        config.update({\n",
    "            'embed_dim': self.embed_dim,\n",
    "            'num_heads': self.num_heads,\n",
    "            'ff_dim': self.ff_dim,\n",
    "            'input_dim': self.input_dim,\n",
    "            'rate': self.rate\n",
    "        })\n",
    "        return config\n",
    "\n",
    "def build_model(input_shape, embed_dim, num_heads, ff_dim, rate=0.1):\n",
    "    inputs = tf.keras.Input(shape=input_shape)\n",
    "    x = TransformerEncoderLayer(embed_dim, num_heads, ff_dim, input_shape[-1], rate)(inputs)\n",
    "    x = Flatten()(x)\n",
    "    x = Dense(1, activation='linear')(x)\n",
    "    return tf.keras.Model(inputs=inputs, outputs=x)\n",
    "\n",
    "\n",
    "model = build_model((6, 1), embed_dim=64, num_heads=2, ff_dim=256)\n",
    "model.compile(loss='mse', optimizer='adam', metrics=['mae'])\n",
    "model.summary()"
   ]
  },
  {
   "cell_type": "code",
   "execution_count": 5,
   "id": "f17749e5-32c6-411b-ab2c-36cb3a7924aa",
   "metadata": {},
   "outputs": [],
   "source": [
    "saved_model = \"3h_transform.keras\"\n",
    "checkpoint = ModelCheckpoint(saved_model, monitor='val_mae', verbose=1, save_best_only=True, mode='min')\n",
    "early = EarlyStopping(monitor=\"val_mae\", mode=\"min\", patience=25)\n",
    "callbacks_list = [checkpoint, early]"
   ]
  },
  {
   "cell_type": "code",
   "execution_count": 6,
   "id": "80bb916a-799c-48e0-aaa3-cd91fab2febf",
   "metadata": {},
   "outputs": [
    {
     "name": "stdout",
     "output_type": "stream",
     "text": [
      "Epoch 1/200\n",
      "894/896 [============================>.] - ETA: 0s - loss: 216.0467 - mae: 8.6459\n",
      "Epoch 1: val_mae improved from inf to 8.27173, saving model to 3h_transform.keras\n",
      "896/896 [==============================] - 27s 27ms/step - loss: 215.6494 - mae: 8.6378 - val_loss: 255.3190 - val_mae: 8.2717\n",
      "Epoch 2/200\n",
      "895/896 [============================>.] - ETA: 0s - loss: 126.1549 - mae: 6.8477\n",
      "Epoch 2: val_mae improved from 8.27173 to 7.44727, saving model to 3h_transform.keras\n",
      "896/896 [==============================] - 22s 25ms/step - loss: 126.0920 - mae: 6.8472 - val_loss: 192.1136 - val_mae: 7.4473\n",
      "Epoch 3/200\n",
      "896/896 [==============================] - ETA: 0s - loss: 108.8800 - mae: 6.5837\n",
      "Epoch 3: val_mae improved from 7.44727 to 7.39560, saving model to 3h_transform.keras\n",
      "896/896 [==============================] - 28s 31ms/step - loss: 108.8800 - mae: 6.5837 - val_loss: 165.6637 - val_mae: 7.3956\n",
      "Epoch 4/200\n",
      "896/896 [==============================] - ETA: 0s - loss: 110.5944 - mae: 6.6558\n",
      "Epoch 4: val_mae did not improve from 7.39560\n",
      "896/896 [==============================] - 25s 28ms/step - loss: 110.5944 - mae: 6.6558 - val_loss: 222.8318 - val_mae: 9.2846\n",
      "Epoch 5/200\n",
      "894/896 [============================>.] - ETA: 0s - loss: 96.7580 - mae: 6.3313\n",
      "Epoch 5: val_mae improved from 7.39560 to 7.00043, saving model to 3h_transform.keras\n",
      "896/896 [==============================] - 28s 31ms/step - loss: 96.8604 - mae: 6.3318 - val_loss: 144.3779 - val_mae: 7.0004\n",
      "Epoch 6/200\n",
      "894/896 [============================>.] - ETA: 0s - loss: 93.6532 - mae: 6.2701\n",
      "Epoch 6: val_mae did not improve from 7.00043\n",
      "896/896 [==============================] - 24s 27ms/step - loss: 93.8023 - mae: 6.2743 - val_loss: 143.0797 - val_mae: 7.0292\n",
      "Epoch 7/200\n",
      "895/896 [============================>.] - ETA: 0s - loss: 93.4764 - mae: 6.2956\n",
      "Epoch 7: val_mae did not improve from 7.00043\n",
      "896/896 [==============================] - 25s 27ms/step - loss: 93.4272 - mae: 6.2943 - val_loss: 139.3069 - val_mae: 7.0475\n",
      "Epoch 8/200\n",
      "895/896 [============================>.] - ETA: 0s - loss: 96.5164 - mae: 6.3939\n",
      "Epoch 8: val_mae did not improve from 7.00043\n",
      "896/896 [==============================] - 25s 28ms/step - loss: 96.5748 - mae: 6.3961 - val_loss: 152.4350 - val_mae: 7.7117\n",
      "Epoch 9/200\n",
      "895/896 [============================>.] - ETA: 0s - loss: 94.2269 - mae: 6.2823\n",
      "Epoch 9: val_mae did not improve from 7.00043\n",
      "896/896 [==============================] - 24s 26ms/step - loss: 94.1760 - mae: 6.2811 - val_loss: 138.6166 - val_mae: 7.0426\n",
      "Epoch 10/200\n",
      "896/896 [==============================] - ETA: 0s - loss: 93.1520 - mae: 6.2502\n",
      "Epoch 10: val_mae did not improve from 7.00043\n",
      "896/896 [==============================] - 24s 26ms/step - loss: 93.1520 - mae: 6.2502 - val_loss: 136.7402 - val_mae: 7.0635\n",
      "Epoch 11/200\n",
      "896/896 [==============================] - ETA: 0s - loss: 88.3223 - mae: 6.1375\n",
      "Epoch 11: val_mae improved from 7.00043 to 6.99906, saving model to 3h_transform.keras\n",
      "896/896 [==============================] - 24s 26ms/step - loss: 88.3223 - mae: 6.1375 - val_loss: 133.6106 - val_mae: 6.9991\n",
      "Epoch 12/200\n",
      "896/896 [==============================] - ETA: 0s - loss: 89.1947 - mae: 6.2085\n",
      "Epoch 12: val_mae did not improve from 6.99906\n",
      "896/896 [==============================] - 23s 26ms/step - loss: 89.1947 - mae: 6.2085 - val_loss: 137.5383 - val_mae: 7.2490\n",
      "Epoch 13/200\n",
      "896/896 [==============================] - ETA: 0s - loss: 86.6427 - mae: 6.0839\n",
      "Epoch 13: val_mae did not improve from 6.99906\n",
      "896/896 [==============================] - 24s 27ms/step - loss: 86.6427 - mae: 6.0839 - val_loss: 143.3412 - val_mae: 7.1036\n",
      "Epoch 14/200\n",
      "895/896 [============================>.] - ETA: 0s - loss: 88.0922 - mae: 6.1375\n",
      "Epoch 14: val_mae improved from 6.99906 to 6.85627, saving model to 3h_transform.keras\n",
      "896/896 [==============================] - 23s 26ms/step - loss: 88.0934 - mae: 6.1367 - val_loss: 129.1413 - val_mae: 6.8563\n",
      "Epoch 15/200\n",
      "896/896 [==============================] - ETA: 0s - loss: 88.9878 - mae: 6.1515\n",
      "Epoch 15: val_mae did not improve from 6.85627\n",
      "896/896 [==============================] - 24s 26ms/step - loss: 88.9878 - mae: 6.1515 - val_loss: 145.8847 - val_mae: 7.1537\n",
      "Epoch 16/200\n",
      "896/896 [==============================] - ETA: 0s - loss: 86.0695 - mae: 6.0720\n",
      "Epoch 16: val_mae improved from 6.85627 to 6.84880, saving model to 3h_transform.keras\n",
      "896/896 [==============================] - 24s 27ms/step - loss: 86.0695 - mae: 6.0720 - val_loss: 127.1768 - val_mae: 6.8488\n",
      "Epoch 17/200\n",
      "894/896 [============================>.] - ETA: 0s - loss: 87.2286 - mae: 6.1343\n",
      "Epoch 17: val_mae did not improve from 6.84880\n",
      "896/896 [==============================] - 24s 27ms/step - loss: 87.2280 - mae: 6.1344 - val_loss: 137.5271 - val_mae: 7.0360\n",
      "Epoch 18/200\n",
      "896/896 [==============================] - ETA: 0s - loss: 86.1929 - mae: 6.0776\n",
      "Epoch 18: val_mae did not improve from 6.84880\n",
      "896/896 [==============================] - 24s 27ms/step - loss: 86.1929 - mae: 6.0776 - val_loss: 147.4035 - val_mae: 7.5296\n",
      "Epoch 19/200\n",
      "895/896 [============================>.] - ETA: 0s - loss: 87.5165 - mae: 6.1159\n",
      "Epoch 19: val_mae did not improve from 6.84880\n",
      "896/896 [==============================] - 24s 27ms/step - loss: 87.5508 - mae: 6.1172 - val_loss: 128.3001 - val_mae: 6.8914\n",
      "Epoch 20/200\n",
      "896/896 [==============================] - ETA: 0s - loss: 85.3918 - mae: 6.0598\n",
      "Epoch 20: val_mae did not improve from 6.84880\n",
      "896/896 [==============================] - 24s 27ms/step - loss: 85.3918 - mae: 6.0598 - val_loss: 126.1100 - val_mae: 6.9370\n",
      "Epoch 21/200\n",
      "896/896 [==============================] - ETA: 0s - loss: 90.9930 - mae: 6.1899\n",
      "Epoch 21: val_mae did not improve from 6.84880\n",
      "896/896 [==============================] - 22s 25ms/step - loss: 90.9930 - mae: 6.1899 - val_loss: 166.0656 - val_mae: 7.8514\n",
      "Epoch 22/200\n",
      "894/896 [============================>.] - ETA: 0s - loss: 84.5752 - mae: 6.0260\n",
      "Epoch 22: val_mae did not improve from 6.84880\n",
      "896/896 [==============================] - 23s 26ms/step - loss: 84.4568 - mae: 6.0223 - val_loss: 131.9694 - val_mae: 7.0169\n",
      "Epoch 23/200\n",
      "896/896 [==============================] - ETA: 0s - loss: 86.3699 - mae: 6.0585\n",
      "Epoch 23: val_mae did not improve from 6.84880\n",
      "896/896 [==============================] - 22s 25ms/step - loss: 86.3699 - mae: 6.0585 - val_loss: 136.9234 - val_mae: 7.2035\n",
      "Epoch 24/200\n",
      "894/896 [============================>.] - ETA: 0s - loss: 85.1542 - mae: 6.0533\n",
      "Epoch 24: val_mae improved from 6.84880 to 6.81280, saving model to 3h_transform.keras\n",
      "896/896 [==============================] - 23s 26ms/step - loss: 85.3131 - mae: 6.0546 - val_loss: 125.9569 - val_mae: 6.8128\n",
      "Epoch 25/200\n",
      "896/896 [==============================] - ETA: 0s - loss: 84.6940 - mae: 6.0236\n",
      "Epoch 25: val_mae did not improve from 6.81280\n",
      "896/896 [==============================] - 24s 26ms/step - loss: 84.6940 - mae: 6.0236 - val_loss: 126.4725 - val_mae: 6.9404\n",
      "Epoch 26/200\n",
      "894/896 [============================>.] - ETA: 0s - loss: 84.4691 - mae: 6.0227\n",
      "Epoch 26: val_mae did not improve from 6.81280\n",
      "896/896 [==============================] - 22s 25ms/step - loss: 84.3545 - mae: 6.0190 - val_loss: 147.4129 - val_mae: 7.2230\n",
      "Epoch 27/200\n",
      "895/896 [============================>.] - ETA: 0s - loss: 84.2563 - mae: 6.0224\n",
      "Epoch 27: val_mae did not improve from 6.81280\n",
      "896/896 [==============================] - 23s 25ms/step - loss: 84.2297 - mae: 6.0218 - val_loss: 130.3539 - val_mae: 7.0310\n",
      "Epoch 28/200\n",
      "894/896 [============================>.] - ETA: 0s - loss: 84.1329 - mae: 5.9973\n",
      "Epoch 28: val_mae improved from 6.81280 to 6.79258, saving model to 3h_transform.keras\n",
      "896/896 [==============================] - 24s 27ms/step - loss: 84.0208 - mae: 5.9943 - val_loss: 122.4020 - val_mae: 6.7926\n",
      "Epoch 29/200\n",
      "896/896 [==============================] - ETA: 0s - loss: 84.9368 - mae: 6.0391\n",
      "Epoch 29: val_mae did not improve from 6.79258\n",
      "896/896 [==============================] - 25s 28ms/step - loss: 84.9368 - mae: 6.0391 - val_loss: 134.9683 - val_mae: 7.3707\n",
      "Epoch 30/200\n",
      "894/896 [============================>.] - ETA: 0s - loss: 88.1310 - mae: 6.1208\n",
      "Epoch 30: val_mae did not improve from 6.79258\n",
      "896/896 [==============================] - 23s 26ms/step - loss: 88.0840 - mae: 6.1206 - val_loss: 124.0483 - val_mae: 6.7962\n",
      "Epoch 31/200\n",
      "895/896 [============================>.] - ETA: 0s - loss: 82.4458 - mae: 5.9742\n",
      "Epoch 31: val_mae did not improve from 6.79258\n",
      "896/896 [==============================] - 23s 26ms/step - loss: 82.9369 - mae: 5.9806 - val_loss: 127.7367 - val_mae: 7.1725\n",
      "Epoch 32/200\n",
      "895/896 [============================>.] - ETA: 0s - loss: 84.7987 - mae: 6.0188\n",
      "Epoch 32: val_mae did not improve from 6.79258\n",
      "896/896 [==============================] - 23s 25ms/step - loss: 85.1142 - mae: 6.0231 - val_loss: 132.1170 - val_mae: 7.0368\n",
      "Epoch 33/200\n",
      "896/896 [==============================] - ETA: 0s - loss: 83.9983 - mae: 6.0036\n",
      "Epoch 33: val_mae did not improve from 6.79258\n",
      "896/896 [==============================] - 21s 23ms/step - loss: 83.9983 - mae: 6.0036 - val_loss: 123.4162 - val_mae: 6.9141\n",
      "Epoch 34/200\n",
      "896/896 [==============================] - ETA: 0s - loss: 82.7911 - mae: 5.9819\n",
      "Epoch 34: val_mae did not improve from 6.79258\n",
      "896/896 [==============================] - 24s 27ms/step - loss: 82.7911 - mae: 5.9819 - val_loss: 121.5806 - val_mae: 6.9266\n",
      "Epoch 35/200\n",
      "894/896 [============================>.] - ETA: 0s - loss: 84.0786 - mae: 6.0154\n",
      "Epoch 35: val_mae did not improve from 6.79258\n",
      "896/896 [==============================] - 24s 27ms/step - loss: 84.1567 - mae: 6.0182 - val_loss: 121.9330 - val_mae: 6.9235\n",
      "Epoch 36/200\n",
      "896/896 [==============================] - ETA: 0s - loss: 82.6071 - mae: 5.9660\n",
      "Epoch 36: val_mae did not improve from 6.79258\n",
      "896/896 [==============================] - 23s 25ms/step - loss: 82.6071 - mae: 5.9660 - val_loss: 121.0956 - val_mae: 6.8164\n",
      "Epoch 37/200\n",
      "895/896 [============================>.] - ETA: 0s - loss: 82.4982 - mae: 5.9674\n",
      "Epoch 37: val_mae did not improve from 6.79258\n",
      "896/896 [==============================] - 23s 26ms/step - loss: 82.4444 - mae: 5.9659 - val_loss: 142.9076 - val_mae: 7.4288\n",
      "Epoch 38/200\n",
      "895/896 [============================>.] - ETA: 0s - loss: 84.0562 - mae: 6.0208\n",
      "Epoch 38: val_mae did not improve from 6.79258\n",
      "896/896 [==============================] - 22s 25ms/step - loss: 84.0869 - mae: 6.0229 - val_loss: 138.6009 - val_mae: 7.3627\n",
      "Epoch 39/200\n",
      "895/896 [============================>.] - ETA: 0s - loss: 85.6080 - mae: 6.0662\n",
      "Epoch 39: val_mae did not improve from 6.79258\n",
      "896/896 [==============================] - 23s 26ms/step - loss: 85.5349 - mae: 6.0632 - val_loss: 129.2862 - val_mae: 6.8656\n",
      "Epoch 40/200\n",
      "894/896 [============================>.] - ETA: 0s - loss: 82.4396 - mae: 5.9605\n",
      "Epoch 40: val_mae did not improve from 6.79258\n",
      "896/896 [==============================] - 23s 25ms/step - loss: 82.8430 - mae: 5.9668 - val_loss: 121.2392 - val_mae: 6.9368\n",
      "Epoch 41/200\n",
      "896/896 [==============================] - ETA: 0s - loss: 85.3417 - mae: 6.0459\n",
      "Epoch 41: val_mae did not improve from 6.79258\n",
      "896/896 [==============================] - 23s 26ms/step - loss: 85.3417 - mae: 6.0459 - val_loss: 127.1067 - val_mae: 6.8563\n",
      "Epoch 42/200\n",
      "895/896 [============================>.] - ETA: 0s - loss: 85.0694 - mae: 6.0561\n",
      "Epoch 42: val_mae did not improve from 6.79258\n",
      "896/896 [==============================] - 22s 25ms/step - loss: 85.0859 - mae: 6.0574 - val_loss: 130.8801 - val_mae: 6.9229\n",
      "Epoch 43/200\n",
      "896/896 [==============================] - ETA: 0s - loss: 82.0432 - mae: 5.9474\n",
      "Epoch 43: val_mae did not improve from 6.79258\n",
      "896/896 [==============================] - 22s 24ms/step - loss: 82.0432 - mae: 5.9474 - val_loss: 124.9427 - val_mae: 7.0573\n",
      "Epoch 44/200\n",
      "895/896 [============================>.] - ETA: 0s - loss: 82.4953 - mae: 5.9717\n",
      "Epoch 44: val_mae did not improve from 6.79258\n",
      "896/896 [==============================] - 22s 25ms/step - loss: 82.4452 - mae: 5.9700 - val_loss: 122.0233 - val_mae: 6.8356\n",
      "Epoch 45/200\n",
      "895/896 [============================>.] - ETA: 0s - loss: 81.7890 - mae: 5.9470\n",
      "Epoch 45: val_mae did not improve from 6.79258\n",
      "896/896 [==============================] - 22s 25ms/step - loss: 81.7204 - mae: 5.9443 - val_loss: 131.0712 - val_mae: 7.2628\n",
      "Epoch 46/200\n",
      "894/896 [============================>.] - ETA: 0s - loss: 83.9476 - mae: 6.0105\n",
      "Epoch 46: val_mae did not improve from 6.79258\n",
      "896/896 [==============================] - 21s 24ms/step - loss: 83.8550 - mae: 6.0081 - val_loss: 122.7237 - val_mae: 6.8267\n",
      "Epoch 47/200\n",
      "896/896 [==============================] - ETA: 0s - loss: 85.9849 - mae: 6.0226\n",
      "Epoch 47: val_mae did not improve from 6.79258\n",
      "896/896 [==============================] - 22s 24ms/step - loss: 85.9849 - mae: 6.0226 - val_loss: 133.4693 - val_mae: 6.9848\n",
      "Epoch 48/200\n",
      "896/896 [==============================] - ETA: 0s - loss: 84.7991 - mae: 6.0220\n",
      "Epoch 48: val_mae did not improve from 6.79258\n",
      "896/896 [==============================] - 21s 24ms/step - loss: 84.7991 - mae: 6.0220 - val_loss: 122.5374 - val_mae: 6.8734\n",
      "Epoch 49/200\n",
      "896/896 [==============================] - ETA: 0s - loss: 81.6301 - mae: 5.9204\n",
      "Epoch 49: val_mae did not improve from 6.79258\n",
      "896/896 [==============================] - 22s 25ms/step - loss: 81.6301 - mae: 5.9204 - val_loss: 125.8349 - val_mae: 6.8322\n",
      "Epoch 50/200\n",
      "895/896 [============================>.] - ETA: 0s - loss: 82.4296 - mae: 5.9568\n",
      "Epoch 50: val_mae did not improve from 6.79258\n",
      "896/896 [==============================] - 23s 25ms/step - loss: 82.3725 - mae: 5.9550 - val_loss: 122.0845 - val_mae: 6.9124\n",
      "Epoch 51/200\n",
      "895/896 [============================>.] - ETA: 0s - loss: 82.4053 - mae: 5.9610\n",
      "Epoch 51: val_mae did not improve from 6.79258\n",
      "896/896 [==============================] - 23s 26ms/step - loss: 82.3865 - mae: 5.9617 - val_loss: 124.2316 - val_mae: 6.9830\n",
      "Epoch 52/200\n",
      "895/896 [============================>.] - ETA: 0s - loss: 83.3679 - mae: 5.9894\n",
      "Epoch 52: val_mae did not improve from 6.79258\n",
      "896/896 [==============================] - 22s 25ms/step - loss: 83.3369 - mae: 5.9889 - val_loss: 128.4417 - val_mae: 6.9290\n",
      "Epoch 53/200\n",
      "894/896 [============================>.] - ETA: 0s - loss: 83.4947 - mae: 5.9871\n",
      "Epoch 53: val_mae did not improve from 6.79258\n",
      "896/896 [==============================] - 22s 24ms/step - loss: 83.5717 - mae: 5.9899 - val_loss: 160.2355 - val_mae: 8.1618\n"
     ]
    }
   ],
   "source": [
    "history = model.fit(train_generator, validation_data=val_generator, epochs=200, verbose=1, callbacks = callbacks_list)"
   ]
  },
  {
   "cell_type": "code",
   "execution_count": 7,
   "id": "3fb26874-787e-46ae-81dc-d531e648a70e",
   "metadata": {},
   "outputs": [],
   "source": [
    "model = keras.models.load_model('3h_transform.keras', custom_objects={'TransformerEncoderLayer': TransformerEncoderLayer})"
   ]
  },
  {
   "cell_type": "code",
   "execution_count": 8,
   "id": "5a571306-f07a-4d2a-95bf-8a1396aecab6",
   "metadata": {},
   "outputs": [
    {
     "name": "stdout",
     "output_type": "stream",
     "text": [
      "633/633 [==============================] - 6s 10ms/step\n"
     ]
    }
   ],
   "source": [
    "y_pred = model.predict(test_generator)"
   ]
  },
  {
   "cell_type": "code",
   "execution_count": 9,
   "id": "ee50d150-532e-4b14-817f-35fa501f75cd",
   "metadata": {},
   "outputs": [
    {
     "name": "stdout",
     "output_type": "stream",
     "text": [
      "Mean Squared Error: 60.32858958719346\n"
     ]
    }
   ],
   "source": [
    "mse = mean_squared_error(y_test[:-n_input], y_pred.reshape(-1))\n",
    "print(f\"Mean Squared Error: {mse}\")"
   ]
  },
  {
   "cell_type": "code",
   "execution_count": 10,
   "id": "a9c85f39-4837-4a9d-98ff-84b3007af120",
   "metadata": {},
   "outputs": [
    {
     "name": "stdout",
     "output_type": "stream",
     "text": [
      "224/224 [==============================] - 2s 10ms/step\n",
      "Best Threshold for MCC on Validation Set: -19.799999999999965\n",
      "Best MCC on Validation Set: 0.788974126712728\n"
     ]
    }
   ],
   "source": [
    "y_val_pred = model.predict(val_generator)\n",
    "\n",
    "true_labels_val = np.where(y_val[n_input:] <= -20, 1, 0)  \n",
    "\n",
    "def calculate_mcc(y_true, y_pred):\n",
    "    return matthews_corrcoef(y_true, y_pred)\n",
    "\n",
    "thresholds = np.arange(-10, -40, -0.1)\n",
    "mcc_scores = []\n",
    "\n",
    "for thresh in thresholds:\n",
    "    predictions = np.where(y_val_pred <= thresh, 1, 0)\n",
    "    mcc = calculate_mcc(true_labels_val, predictions)\n",
    "    mcc_scores.append(mcc)\n",
    "\n",
    "best_threshold_mcc = thresholds[np.argmax(mcc_scores)]\n",
    "best_mcc = max(mcc_scores)\n",
    "\n",
    "print(\"Best Threshold for MCC on Validation Set:\", best_threshold_mcc)\n",
    "print(\"Best MCC on Validation Set:\", best_mcc)\n",
    "best_threshold_mcc_rounded = round(best_threshold_mcc, 1)"
   ]
  },
  {
   "cell_type": "code",
   "execution_count": 11,
   "id": "80d03dc2-b7ba-4e55-8837-337aa331623f",
   "metadata": {},
   "outputs": [
    {
     "name": "stdout",
     "output_type": "stream",
     "text": [
      "Confusion matrix: \n",
      "[[125345   4642]\n",
      " [  8250  23793]]\n",
      "              precision    recall  f1-score   support\n",
      "\n",
      "           0       0.94      0.96      0.95    129987\n",
      "           1       0.84      0.74      0.79     32043\n",
      "\n",
      "    accuracy                           0.92    162030\n",
      "   macro avg       0.89      0.85      0.87    162030\n",
      "weighted avg       0.92      0.92      0.92    162030\n",
      "\n"
     ]
    }
   ],
   "source": [
    "y_pred2 = np.where(y_pred <= best_threshold_mcc_rounded, 1, 0)\n",
    "y_test2 = np.where(y_test[n_input:]  <= -20, 1, 0)\n",
    "\n",
    "cm = confusion_matrix(y_test2, y_pred2)\n",
    "print(\"Confusion matrix: \\n\" + str(cm))\n",
    "\n",
    "print(classification_report(y_test2, y_pred2))"
   ]
  },
  {
   "cell_type": "code",
   "execution_count": 12,
   "id": "b41f7df5-667a-4d01-b6b1-6da39d50f902",
   "metadata": {},
   "outputs": [
    {
     "data": {
      "image/png": "[encoded data removed]",
      "text/plain": [
       "<Figure size 640x480 with 1 Axes>"
      ]
     },
     "metadata": {},
     "output_type": "display_data"
    }
   ],
   "source": [
    "df = pd.DataFrame(data={\"time\": test['time1'][n_input:],\"y_true\": y_test[n_input:].reshape(-1) , \"y_predict\": y_pred.reshape(-1)})\n",
    "\n",
    "plt.figure()\n",
    "plt.title('Predicting the change in DST Index')\n",
    "plt.plot(df['time'],df['y_true'], label='Skutočné hodnoty')\n",
    "plt.plot(df['time'],df['y_predict'], label='Predikované hodnoty')\n",
    "plt.legend()\n",
    "plt.gcf().autofmt_xdate()\n",
    "plt.grid(True)"
   ]
  },
  {
   "cell_type": "code",
   "execution_count": 13,
   "id": "edb52659-e9e7-4f5b-95c1-5e4d71ee3717",
   "metadata": {},
   "outputs": [
    {
     "name": "stdout",
     "output_type": "stream",
     "text": [
      "ACC=0.9204344874405974\n",
      "MCC=0.740124895335672\n"
     ]
    }
   ],
   "source": [
    "TN, FP, FN, TP = cm.ravel()\n",
    "ACC = (TP + TN) / (TP + TN + FP + FN)\n",
    "MCC = matthews_corrcoef(y_test2, y_pred2)\n",
    "print(\"ACC={}\".format(ACC))\n",
    "print(\"MCC={}\".format(MCC))"
   ]
  },
  {
   "cell_type": "code",
   "execution_count": null,
   "id": "9c8ed3b4-7e63-47ea-8a17-b1bf2fc13ffe",
   "metadata": {},
   "outputs": [],
   "source": []
  }
 ],
 "metadata": {
  "kernelspec": {
   "display_name": "Python 3 (ipykernel)",
   "language": "python",
   "name": "python3"
  },
  "language_info": {
   "codemirror_mode": {
    "name": "ipython",
    "version": 3
   },
   "file_extension": ".py",
   "mimetype": "text/x-python",
   "name": "python",
   "nbconvert_exporter": "python",
   "pygments_lexer": "ipython3",
   "version": "3.10.6"
  }
 },
 "nbformat": 4,
 "nbformat_minor": 5
}
