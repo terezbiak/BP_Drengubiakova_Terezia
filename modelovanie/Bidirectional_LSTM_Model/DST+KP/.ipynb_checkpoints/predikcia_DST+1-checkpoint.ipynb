{
 "cells": [
  {
   "cell_type": "code",
   "execution_count": 1,
   "id": "678ced3a-40e2-4062-be21-a67e5322f1a0",
   "metadata": {},
   "outputs": [
    {
     "name": "stderr",
     "output_type": "stream",
     "text": [
      "2024-05-16 09:05:38.072977: I tensorflow/core/platform/cpu_feature_guard.cc:193] This TensorFlow binary is optimized with oneAPI Deep Neural Network Library (oneDNN) to use the following CPU instructions in performance-critical operations:  SSE4.1 SSE4.2 AVX AVX2 FMA\n",
      "To enable them in other operations, rebuild TensorFlow with the appropriate compiler flags.\n"
     ]
    }
   ],
   "source": [
    "import pandas as pd\n",
    "import numpy as np\n",
    "from tensorflow import keras\n",
    "import matplotlib.pyplot as plt\n",
    "from sklearn.preprocessing import MinMaxScaler, StandardScaler\n",
    "from pandas.plotting import register_matplotlib_converters\n",
    "register_matplotlib_converters()\n",
    "import seaborn as sns\n",
    "\n",
    "from tensorflow.keras.preprocessing.sequence import TimeseriesGenerator\n",
    "from keras.models import Sequential\n",
    "\n",
    "from keras.layers import Dense, Activation, Dropout, Input, Conv1D, LSTM, MaxPooling1D, Flatten, TimeDistributed, Bidirectional\n",
    "from tensorflow.keras.callbacks import ModelCheckpoint, EarlyStopping\n",
    "from keras.models import Model\n",
    "\n",
    "\n",
    "from scipy.special import expit, logit\n",
    "\n",
    "from sklearn.metrics import confusion_matrix, classification_report, matthews_corrcoef"
   ]
  },
  {
   "cell_type": "code",
   "execution_count": 2,
   "id": "471c1c51-a25b-48cc-a581-1c86aad2867b",
   "metadata": {},
   "outputs": [],
   "source": [
    "train = pd.read_csv('train_omni.csv')\n",
    "test = pd.read_csv('test_omni.csv')\n",
    "features = ['time1',\n",
    "           'DST',\n",
    "            'DST+1', 'KP' ]\n",
    "test = test[features]\n",
    "train = train[features]\n",
    "train['time1']=pd.to_datetime(train['time1'])\n",
    "test['time1']=pd.to_datetime(test['time1'])\n",
    "predicted_label = 'DST+1'\n",
    "predicators = [\"DST\", \"KP\"]\n",
    "y_col='DST+1'\n",
    "valid_size = int(len(train) * 0.2)\n",
    "valid = train.iloc[-valid_size:,:].copy()\n",
    "train = train.iloc[:-valid_size,:].copy()\n",
    "\n",
    "y_train = train[y_col].values.copy()\n",
    "X_train = train[predicators].values.copy()\n",
    "y_val = valid[y_col].values.copy()\n",
    "X_val = valid[predicators].values.copy()\n",
    "y_test = test[y_col].values.copy()\n",
    "X_test = test[predicators].values.copy()"
   ]
  },
  {
   "cell_type": "code",
   "execution_count": 3,
   "id": "18274429-36ef-40ad-984b-d65e5bae8f7e",
   "metadata": {},
   "outputs": [],
   "source": [
    "n_input = 6  # how many samples/rows/timesteps to look in the past in order to forecast the next sample\n",
    "n_features= len(X_train)  # how many predictors/Xs/features we have to predict y\n",
    "b_size = 256  # Number of timeseries samples in each batch\n",
    "\n",
    "train_generator = TimeseriesGenerator(X_train, y_train, length=n_input, batch_size=b_size)\n",
    "val_generator = TimeseriesGenerator(X_val, y_val, length=n_input, batch_size=b_size)\n",
    "test_generator = TimeseriesGenerator(X_test, y_test, length=n_input, batch_size=256)"
   ]
  },
  {
   "cell_type": "code",
   "execution_count": 4,
   "id": "84ac694f-dd1e-4c29-b792-f4e2cd5c2618",
   "metadata": {},
   "outputs": [
    {
     "name": "stdout",
     "output_type": "stream",
     "text": [
      "Počet batchov:  896\n",
      "Každý batch má features (X zložku) a labels (y zložku):  2\n",
      "Dĺžka X zložky batchu:  256\n",
      "Dĺžka y zložky batchu (počet meraní v batchi):  256\n",
      "Počet riadkov braných do úvahy pre jedno meranie (koľko sa pozerá dozadu):  6\n"
     ]
    }
   ],
   "source": [
    "print(\"Počet batchov: \", len(train_generator))\n",
    "print(\"Každý batch má features (X zložku) a labels (y zložku): \", len(train_generator[0]))\n",
    "print(\"Dĺžka X zložky batchu: \", len(train_generator[0][0]))\n",
    "print(\"Dĺžka y zložky batchu (počet meraní v batchi): \",len(train_generator[0][1]))\n",
    "print(\"Počet riadkov braných do úvahy pre jedno meranie (koľko sa pozerá dozadu): \", len(train_generator[0][0][0]))"
   ]
  },
  {
   "cell_type": "code",
   "execution_count": 5,
   "id": "ff052921-77ae-4a01-9ded-8e6d21bc5505",
   "metadata": {},
   "outputs": [
    {
     "name": "stderr",
     "output_type": "stream",
     "text": [
      "2024-05-16 09:05:43.573786: I tensorflow/core/platform/cpu_feature_guard.cc:193] This TensorFlow binary is optimized with oneAPI Deep Neural Network Library (oneDNN) to use the following CPU instructions in performance-critical operations:  SSE4.1 SSE4.2 AVX AVX2 FMA\n",
      "To enable them in other operations, rebuild TensorFlow with the appropriate compiler flags.\n"
     ]
    },
    {
     "name": "stdout",
     "output_type": "stream",
     "text": [
      "Model: \"model\"\n",
      "_________________________________________________________________\n",
      " Layer (type)                Output Shape              Param #   \n",
      "=================================================================\n",
      " input_1 (InputLayer)        [(None, 6, 2)]            0         \n",
      "                                                                 \n",
      " bidirectional (Bidirectiona  (None, 6, 256)           134144    \n",
      " l)                                                              \n",
      "                                                                 \n",
      " lstm_1 (LSTM)               (None, 6, 128)            197120    \n",
      "                                                                 \n",
      " time_distributed (TimeDistr  (None, 6, 1)             129       \n",
      " ibuted)                                                         \n",
      "                                                                 \n",
      " flatten (Flatten)           (None, 6)                 0         \n",
      "                                                                 \n",
      " dense_1 (Dense)             (None, 1)                 7         \n",
      "                                                                 \n",
      "=================================================================\n",
      "Total params: 331,400\n",
      "Trainable params: 331,400\n",
      "Non-trainable params: 0\n",
      "_________________________________________________________________\n",
      "None\n"
     ]
    }
   ],
   "source": [
    "inputs = Input(shape=(6,2))\n",
    "c = Bidirectional(LSTM(128, return_sequences=True, dropout=0.1,recurrent_dropout=0.1))(inputs)\n",
    "c = LSTM(128, return_sequences=True)(c)\n",
    "c = TimeDistributed(Dense(1, activation='linear'))(c)\n",
    "output = Flatten()(c)\n",
    "output = Dense(1, activation='linear')(output)\n",
    "model = Model(inputs=inputs, outputs=output)\n",
    "model.compile(loss='mse', optimizer='adam', metrics=[\"mae\"])\n",
    "print(model.summary())"
   ]
  },
  {
   "cell_type": "code",
   "execution_count": 6,
   "id": "38a43040-da67-4404-afdc-272b76d75d19",
   "metadata": {},
   "outputs": [],
   "source": [
    "saved_model = \"1h_dopredu200+KP.hdf5\"\n",
    "checkpoint = ModelCheckpoint(saved_model, monitor='val_mae', verbose=1, save_best_only=True, mode='min')\n",
    "early = EarlyStopping(monitor=\"val_mae\", mode=\"min\", patience=25)\n",
    "callbacks_list = [checkpoint, early]"
   ]
  },
  {
   "cell_type": "code",
   "execution_count": 7,
   "id": "c84fe0a8-eb35-4bda-8c91-3384452fecf0",
   "metadata": {
    "tags": []
   },
   "outputs": [
    {
     "name": "stdout",
     "output_type": "stream",
     "text": [
      "Epoch 1/200\n",
      "896/896 [==============================] - ETA: 0s - loss: 120.5037 - mae: 5.0364\n",
      "Epoch 1: val_mae improved from inf to 5.02944, saving model to 1h_dopredu200+KP.hdf5\n",
      "896/896 [==============================] - 43s 44ms/step - loss: 120.5037 - mae: 5.0364 - val_loss: 127.9394 - val_mae: 5.0294\n",
      "Epoch 2/200\n",
      "895/896 [============================>.] - ETA: 0s - loss: 35.7681 - mae: 3.3391\n",
      "Epoch 2: val_mae improved from 5.02944 to 4.90782, saving model to 1h_dopredu200+KP.hdf5\n",
      "896/896 [==============================] - 38s 42ms/step - loss: 35.7758 - mae: 3.3401 - val_loss: 81.9520 - val_mae: 4.9078\n",
      "Epoch 3/200\n",
      "896/896 [==============================] - ETA: 0s - loss: 27.9708 - mae: 3.2292\n",
      "Epoch 3: val_mae improved from 4.90782 to 4.55296, saving model to 1h_dopredu200+KP.hdf5\n",
      "896/896 [==============================] - 38s 42ms/step - loss: 27.9708 - mae: 3.2292 - val_loss: 72.0595 - val_mae: 4.5530\n",
      "Epoch 4/200\n",
      "895/896 [============================>.] - ETA: 0s - loss: 24.6083 - mae: 3.1133\n",
      "Epoch 4: val_mae did not improve from 4.55296\n",
      "896/896 [==============================] - 37s 42ms/step - loss: 24.6029 - mae: 3.1133 - val_loss: 67.0131 - val_mae: 4.6227\n",
      "Epoch 5/200\n",
      "895/896 [============================>.] - ETA: 0s - loss: 23.7153 - mae: 3.0980\n",
      "Epoch 5: val_mae did not improve from 4.55296\n",
      "896/896 [==============================] - 37s 41ms/step - loss: 23.7041 - mae: 3.0976 - val_loss: 74.7114 - val_mae: 4.7589\n",
      "Epoch 6/200\n",
      "895/896 [============================>.] - ETA: 0s - loss: 23.1176 - mae: 3.0693\n",
      "Epoch 6: val_mae did not improve from 4.55296\n",
      "896/896 [==============================] - 38s 42ms/step - loss: 23.1013 - mae: 3.0683 - val_loss: 93.2223 - val_mae: 5.6993\n",
      "Epoch 7/200\n",
      "895/896 [============================>.] - ETA: 0s - loss: 22.7913 - mae: 3.0702\n",
      "Epoch 7: val_mae improved from 4.55296 to 4.35143, saving model to 1h_dopredu200+KP.hdf5\n",
      "896/896 [==============================] - 39s 43ms/step - loss: 22.7856 - mae: 3.0701 - val_loss: 55.6751 - val_mae: 4.3514\n",
      "Epoch 8/200\n",
      "895/896 [============================>.] - ETA: 0s - loss: 21.4056 - mae: 2.9952\n",
      "Epoch 8: val_mae improved from 4.35143 to 4.15652, saving model to 1h_dopredu200+KP.hdf5\n",
      "896/896 [==============================] - 39s 44ms/step - loss: 21.4033 - mae: 2.9953 - val_loss: 54.8112 - val_mae: 4.1565\n",
      "Epoch 9/200\n",
      "895/896 [============================>.] - ETA: 0s - loss: 21.9785 - mae: 3.0294\n",
      "Epoch 9: val_mae did not improve from 4.15652\n",
      "896/896 [==============================] - 39s 44ms/step - loss: 22.0063 - mae: 3.0321 - val_loss: 75.4351 - val_mae: 5.1875\n",
      "Epoch 10/200\n",
      "895/896 [============================>.] - ETA: 0s - loss: 20.6712 - mae: 2.9526\n",
      "Epoch 10: val_mae improved from 4.15652 to 4.08833, saving model to 1h_dopredu200+KP.hdf5\n",
      "896/896 [==============================] - 39s 43ms/step - loss: 20.6857 - mae: 2.9541 - val_loss: 47.4029 - val_mae: 4.0883\n",
      "Epoch 11/200\n",
      "895/896 [============================>.] - ETA: 0s - loss: 22.5759 - mae: 3.0330\n",
      "Epoch 11: val_mae did not improve from 4.08833\n",
      "896/896 [==============================] - 39s 44ms/step - loss: 22.5664 - mae: 3.0327 - val_loss: 55.8102 - val_mae: 4.6953\n",
      "Epoch 12/200\n",
      "895/896 [============================>.] - ETA: 0s - loss: 20.4695 - mae: 2.9448\n",
      "Epoch 12: val_mae did not improve from 4.08833\n",
      "896/896 [==============================] - 39s 44ms/step - loss: 20.4694 - mae: 2.9451 - val_loss: 51.2592 - val_mae: 4.2450\n",
      "Epoch 13/200\n",
      "895/896 [============================>.] - ETA: 0s - loss: 21.8888 - mae: 2.9846\n",
      "Epoch 13: val_mae did not improve from 4.08833\n",
      "896/896 [==============================] - 39s 44ms/step - loss: 21.8821 - mae: 2.9845 - val_loss: 52.4001 - val_mae: 4.2272\n",
      "Epoch 14/200\n",
      "895/896 [============================>.] - ETA: 0s - loss: 20.2613 - mae: 2.9316\n",
      "Epoch 14: val_mae did not improve from 4.08833\n",
      "896/896 [==============================] - 39s 44ms/step - loss: 20.2585 - mae: 2.9319 - val_loss: 50.3001 - val_mae: 4.2791\n",
      "Epoch 15/200\n",
      "895/896 [============================>.] - ETA: 0s - loss: 20.6835 - mae: 2.9549\n",
      "Epoch 15: val_mae did not improve from 4.08833\n",
      "896/896 [==============================] - 38s 43ms/step - loss: 20.6813 - mae: 2.9548 - val_loss: 49.2679 - val_mae: 4.2403\n",
      "Epoch 16/200\n",
      "895/896 [============================>.] - ETA: 0s - loss: 20.2538 - mae: 2.9362\n",
      "Epoch 16: val_mae did not improve from 4.08833\n",
      "896/896 [==============================] - 38s 42ms/step - loss: 20.2397 - mae: 2.9352 - val_loss: 54.0029 - val_mae: 4.6157\n",
      "Epoch 17/200\n",
      "896/896 [==============================] - ETA: 0s - loss: 19.8030 - mae: 2.9092\n",
      "Epoch 17: val_mae did not improve from 4.08833\n",
      "896/896 [==============================] - 39s 43ms/step - loss: 19.8030 - mae: 2.9092 - val_loss: 59.4281 - val_mae: 4.2696\n",
      "Epoch 18/200\n",
      "895/896 [============================>.] - ETA: 0s - loss: 20.5676 - mae: 2.9592\n",
      "Epoch 18: val_mae did not improve from 4.08833\n",
      "896/896 [==============================] - 40s 44ms/step - loss: 20.5561 - mae: 2.9586 - val_loss: 59.2046 - val_mae: 4.5590\n",
      "Epoch 19/200\n",
      "895/896 [============================>.] - ETA: 0s - loss: 20.6821 - mae: 2.9227\n",
      "Epoch 19: val_mae did not improve from 4.08833\n",
      "896/896 [==============================] - 39s 44ms/step - loss: 20.6660 - mae: 2.9216 - val_loss: 50.3435 - val_mae: 4.2405\n",
      "Epoch 20/200\n",
      "895/896 [============================>.] - ETA: 0s - loss: 19.8433 - mae: 2.9060\n",
      "Epoch 20: val_mae did not improve from 4.08833\n",
      "896/896 [==============================] - 39s 44ms/step - loss: 19.8390 - mae: 2.9062 - val_loss: 50.4465 - val_mae: 4.2795\n",
      "Epoch 21/200\n",
      "895/896 [============================>.] - ETA: 0s - loss: 19.9596 - mae: 2.9031\n",
      "Epoch 21: val_mae did not improve from 4.08833\n",
      "896/896 [==============================] - 38s 43ms/step - loss: 19.9487 - mae: 2.9026 - val_loss: 46.9787 - val_mae: 4.2960\n",
      "Epoch 22/200\n",
      "895/896 [============================>.] - ETA: 0s - loss: 19.7194 - mae: 2.9120\n",
      "Epoch 22: val_mae improved from 4.08833 to 3.65411, saving model to 1h_dopredu200+KP.hdf5\n",
      "896/896 [==============================] - 38s 43ms/step - loss: 19.7207 - mae: 2.9124 - val_loss: 38.1888 - val_mae: 3.6541\n",
      "Epoch 23/200\n",
      "895/896 [============================>.] - ETA: 0s - loss: 19.7711 - mae: 2.9066\n",
      "Epoch 23: val_mae did not improve from 3.65411\n",
      "896/896 [==============================] - 39s 43ms/step - loss: 19.7658 - mae: 2.9064 - val_loss: 50.6015 - val_mae: 4.1309\n",
      "Epoch 24/200\n",
      "896/896 [==============================] - ETA: 0s - loss: 19.4829 - mae: 2.8872\n",
      "Epoch 24: val_mae did not improve from 3.65411\n",
      "896/896 [==============================] - 39s 43ms/step - loss: 19.4829 - mae: 2.8872 - val_loss: 56.8235 - val_mae: 4.7279\n",
      "Epoch 25/200\n",
      "895/896 [============================>.] - ETA: 0s - loss: 19.5241 - mae: 2.9036\n",
      "Epoch 25: val_mae did not improve from 3.65411\n",
      "896/896 [==============================] - 39s 43ms/step - loss: 19.5350 - mae: 2.9044 - val_loss: 53.1696 - val_mae: 4.4582\n",
      "Epoch 26/200\n",
      "895/896 [============================>.] - ETA: 0s - loss: 19.9090 - mae: 2.9035\n",
      "Epoch 26: val_mae did not improve from 3.65411\n",
      "896/896 [==============================] - 40s 45ms/step - loss: 19.9108 - mae: 2.9042 - val_loss: 52.2135 - val_mae: 4.3671\n",
      "Epoch 27/200\n",
      "896/896 [==============================] - ETA: 0s - loss: 19.2755 - mae: 2.8765\n",
      "Epoch 27: val_mae did not improve from 3.65411\n",
      "896/896 [==============================] - 43s 48ms/step - loss: 19.2755 - mae: 2.8765 - val_loss: 88.6176 - val_mae: 6.0247\n",
      "Epoch 28/200\n",
      "895/896 [============================>.] - ETA: 0s - loss: 19.4234 - mae: 2.8803\n",
      "Epoch 28: val_mae did not improve from 3.65411\n",
      "896/896 [==============================] - 49s 54ms/step - loss: 19.4148 - mae: 2.8801 - val_loss: 47.1532 - val_mae: 4.2118\n",
      "Epoch 29/200\n",
      "896/896 [==============================] - ETA: 0s - loss: 18.9350 - mae: 2.8693\n",
      "Epoch 29: val_mae did not improve from 3.65411\n",
      "896/896 [==============================] - 50s 56ms/step - loss: 18.9350 - mae: 2.8693 - val_loss: 52.6286 - val_mae: 4.4223\n",
      "Epoch 30/200\n",
      "895/896 [============================>.] - ETA: 0s - loss: 20.0020 - mae: 2.8966\n",
      "Epoch 30: val_mae did not improve from 3.65411\n",
      "896/896 [==============================] - 52s 58ms/step - loss: 19.9883 - mae: 2.8956 - val_loss: 47.8258 - val_mae: 4.1205\n",
      "Epoch 31/200\n",
      "895/896 [============================>.] - ETA: 0s - loss: 19.3670 - mae: 2.8739\n",
      "Epoch 31: val_mae did not improve from 3.65411\n",
      "896/896 [==============================] - 51s 57ms/step - loss: 19.3526 - mae: 2.8728 - val_loss: 58.3416 - val_mae: 4.6253\n",
      "Epoch 32/200\n",
      "895/896 [============================>.] - ETA: 0s - loss: 19.0083 - mae: 2.8651\n",
      "Epoch 32: val_mae did not improve from 3.65411\n",
      "896/896 [==============================] - 46s 51ms/step - loss: 19.0018 - mae: 2.8644 - val_loss: 55.5867 - val_mae: 4.6311\n",
      "Epoch 33/200\n",
      "896/896 [==============================] - ETA: 0s - loss: 19.7399 - mae: 2.8835\n",
      "Epoch 33: val_mae did not improve from 3.65411\n",
      "896/896 [==============================] - 51s 57ms/step - loss: 19.7399 - mae: 2.8835 - val_loss: 47.2635 - val_mae: 4.3357\n",
      "Epoch 34/200\n",
      "896/896 [==============================] - ETA: 0s - loss: 19.7893 - mae: 2.8995\n",
      "Epoch 34: val_mae did not improve from 3.65411\n",
      "896/896 [==============================] - 47s 52ms/step - loss: 19.7893 - mae: 2.8995 - val_loss: 62.1272 - val_mae: 4.6702\n",
      "Epoch 35/200\n",
      "895/896 [============================>.] - ETA: 0s - loss: 19.2876 - mae: 2.8680\n",
      "Epoch 35: val_mae did not improve from 3.65411\n",
      "896/896 [==============================] - 49s 55ms/step - loss: 19.2815 - mae: 2.8678 - val_loss: 53.9220 - val_mae: 4.5651\n",
      "Epoch 36/200\n",
      "895/896 [============================>.] - ETA: 0s - loss: 18.9173 - mae: 2.8664\n",
      "Epoch 36: val_mae did not improve from 3.65411\n",
      "896/896 [==============================] - 49s 55ms/step - loss: 18.9195 - mae: 2.8670 - val_loss: 55.3975 - val_mae: 4.3846\n",
      "Epoch 37/200\n",
      "896/896 [==============================] - ETA: 0s - loss: 19.4739 - mae: 2.8851\n",
      "Epoch 37: val_mae did not improve from 3.65411\n",
      "896/896 [==============================] - 49s 55ms/step - loss: 19.4739 - mae: 2.8851 - val_loss: 73.7073 - val_mae: 4.8557\n",
      "Epoch 38/200\n",
      "895/896 [============================>.] - ETA: 0s - loss: 19.0946 - mae: 2.8616\n",
      "Epoch 38: val_mae did not improve from 3.65411\n",
      "896/896 [==============================] - 44s 49ms/step - loss: 19.0869 - mae: 2.8611 - val_loss: 51.6097 - val_mae: 4.3754\n",
      "Epoch 39/200\n",
      "895/896 [============================>.] - ETA: 0s - loss: 18.9053 - mae: 2.8518\n",
      "Epoch 39: val_mae did not improve from 3.65411\n",
      "896/896 [==============================] - 50s 56ms/step - loss: 18.9090 - mae: 2.8516 - val_loss: 53.1210 - val_mae: 4.4908\n",
      "Epoch 40/200\n",
      "895/896 [============================>.] - ETA: 0s - loss: 19.0785 - mae: 2.8709\n",
      "Epoch 40: val_mae did not improve from 3.65411\n",
      "896/896 [==============================] - 44s 49ms/step - loss: 19.0711 - mae: 2.8704 - val_loss: 46.5812 - val_mae: 4.3409\n",
      "Epoch 41/200\n",
      "896/896 [==============================] - ETA: 0s - loss: 19.5469 - mae: 2.8745\n",
      "Epoch 41: val_mae did not improve from 3.65411\n",
      "896/896 [==============================] - 50s 55ms/step - loss: 19.5469 - mae: 2.8745 - val_loss: 45.8864 - val_mae: 4.1145\n",
      "Epoch 42/200\n",
      "896/896 [==============================] - ETA: 0s - loss: 19.0316 - mae: 2.8571\n",
      "Epoch 42: val_mae did not improve from 3.65411\n",
      "896/896 [==============================] - 50s 55ms/step - loss: 19.0316 - mae: 2.8571 - val_loss: 46.8256 - val_mae: 4.1838\n",
      "Epoch 43/200\n",
      "896/896 [==============================] - ETA: 0s - loss: 18.8057 - mae: 2.8564\n",
      "Epoch 43: val_mae did not improve from 3.65411\n",
      "896/896 [==============================] - 49s 55ms/step - loss: 18.8057 - mae: 2.8564 - val_loss: 44.2872 - val_mae: 3.9643\n",
      "Epoch 44/200\n",
      "896/896 [==============================] - ETA: 0s - loss: 18.4272 - mae: 2.8403\n",
      "Epoch 44: val_mae did not improve from 3.65411\n",
      "896/896 [==============================] - 50s 56ms/step - loss: 18.4272 - mae: 2.8403 - val_loss: 57.1159 - val_mae: 4.7804\n",
      "Epoch 45/200\n",
      "896/896 [==============================] - ETA: 0s - loss: 18.9804 - mae: 2.8576\n",
      "Epoch 45: val_mae did not improve from 3.65411\n",
      "896/896 [==============================] - 51s 57ms/step - loss: 18.9804 - mae: 2.8576 - val_loss: 51.5798 - val_mae: 4.5195\n",
      "Epoch 46/200\n",
      "896/896 [==============================] - ETA: 0s - loss: 18.5342 - mae: 2.8469\n",
      "Epoch 46: val_mae did not improve from 3.65411\n",
      "896/896 [==============================] - 49s 54ms/step - loss: 18.5342 - mae: 2.8469 - val_loss: 51.5440 - val_mae: 4.4552\n",
      "Epoch 47/200\n",
      "895/896 [============================>.] - ETA: 0s - loss: 18.9723 - mae: 2.8640\n",
      "Epoch 47: val_mae did not improve from 3.65411\n",
      "896/896 [==============================] - 48s 53ms/step - loss: 18.9622 - mae: 2.8633 - val_loss: 44.0453 - val_mae: 4.2466\n"
     ]
    }
   ],
   "source": [
    "history = model.fit(train_generator, validation_data=val_generator, epochs=200, verbose=1, callbacks = callbacks_list)"
   ]
  },
  {
   "cell_type": "code",
   "execution_count": 8,
   "id": "08a0bf14-5cb6-4851-adc8-6363fe066563",
   "metadata": {},
   "outputs": [],
   "source": [
    "model = keras.models.load_model('1h_dopredu200+KP.hdf5')"
   ]
  },
  {
   "cell_type": "code",
   "execution_count": 9,
   "id": "57378f58-5c57-4f2a-b208-c77da1ee2414",
   "metadata": {},
   "outputs": [
    {
     "name": "stdout",
     "output_type": "stream",
     "text": [
      "633/633 [==============================] - 14s 20ms/step\n"
     ]
    }
   ],
   "source": [
    "y_pred = model.predict(test_generator)"
   ]
  },
  {
   "cell_type": "code",
   "execution_count": 10,
   "id": "5f7f80f3-95f5-43c8-abfa-748f353125ee",
   "metadata": {},
   "outputs": [
    {
     "name": "stdout",
     "output_type": "stream",
     "text": [
      "224/224 [==============================] - 4s 19ms/step\n",
      "Best Threshold for MCC on Validation Set: -18.29999999999997\n",
      "Best MCC on Validation Set: 0.9012302261301212\n",
      "-18.3\n"
     ]
    }
   ],
   "source": [
    "# Assuming you have already trained your model and have the validation generator ready\n",
    "y_val_pred = model.predict(val_generator)\n",
    "\n",
    "# Convert the continuous output into binary labels based on the threshold criteria\n",
    "true_labels_val = np.where(y_val[n_input:] <= -20, 1, 0)  # Adjust n_input as per your setup\n",
    "\n",
    "# Function to calculate MCC\n",
    "def calculate_mcc(y_true, y_pred):\n",
    "    return matthews_corrcoef(y_true, y_pred)\n",
    "\n",
    "# Evaluating thresholds on the validation set\n",
    "thresholds = np.arange(-10, -40, -0.1)\n",
    "mcc_scores = []\n",
    "\n",
    "for thresh in thresholds:\n",
    "    # Convert model output to binary predictions based on the threshold\n",
    "    predictions = np.where(y_val_pred <= thresh, 1, 0)\n",
    "    mcc = calculate_mcc(true_labels_val, predictions)\n",
    "    mcc_scores.append(mcc)\n",
    "\n",
    "# Find the best threshold based on MCC\n",
    "best_threshold_mcc = thresholds[np.argmax(mcc_scores)]\n",
    "best_mcc = max(mcc_scores)\n",
    "\n",
    "print(\"Best Threshold for MCC on Validation Set:\", best_threshold_mcc)\n",
    "print(\"Best MCC on Validation Set:\", best_mcc)\n",
    "best_threshold_mcc_rounded = round(best_threshold_mcc, 1)\n",
    "print(best_threshold_mcc_rounded)"
   ]
  },
  {
   "cell_type": "code",
   "execution_count": 11,
   "id": "9c37d4c2-0337-4249-a153-8552a1133698",
   "metadata": {},
   "outputs": [
    {
     "name": "stdout",
     "output_type": "stream",
     "text": [
      "Mean Squared Error: 98.73289854647149\n"
     ]
    }
   ],
   "source": [
    "from sklearn.metrics import mean_squared_error\n",
    "mse = mean_squared_error(y_test[:-n_input], y_pred.reshape(-1))\n",
    "print(f\"Mean Squared Error: {mse}\")"
   ]
  },
  {
   "cell_type": "code",
   "execution_count": 12,
   "id": "bc20344a-7af4-4c3e-8ec1-2e19fbda1921",
   "metadata": {},
   "outputs": [
    {
     "name": "stdout",
     "output_type": "stream",
     "text": [
      "Confusion matrix: \n",
      "[[127219   2766]\n",
      " [  3560  28485]]\n"
     ]
    }
   ],
   "source": [
    "y_pred2 = np.where(y_pred <= best_threshold_mcc_rounded, 1, 0)\n",
    "# [n_input:] because prediction starts from n-th row\n",
    "y_test2 = np.where(y_test[n_input:]  <= -20, 1, 0)\n",
    "\n",
    "cm = confusion_matrix(y_test2, y_pred2)\n",
    "print(\"Confusion matrix: \\n\" + str(cm))"
   ]
  },
  {
   "cell_type": "code",
   "execution_count": 13,
   "id": "0781527d-f548-4f95-95d2-4834a1c50bb9",
   "metadata": {},
   "outputs": [
    {
     "name": "stdout",
     "output_type": "stream",
     "text": [
      "              precision    recall  f1-score   support\n",
      "\n",
      "           0       0.97      0.98      0.98    129985\n",
      "           1       0.91      0.89      0.90     32045\n",
      "\n",
      "    accuracy                           0.96    162030\n",
      "   macro avg       0.94      0.93      0.94    162030\n",
      "weighted avg       0.96      0.96      0.96    162030\n",
      "\n"
     ]
    }
   ],
   "source": [
    "print(classification_report(y_test2, y_pred2))\n"
   ]
  },
  {
   "cell_type": "code",
   "execution_count": 14,
   "id": "b6841a79-1437-4313-9960-ed08cb0b1910",
   "metadata": {},
   "outputs": [
    {
     "data": {
      "image/png": "[encoded data removed]",
      "text/plain": [
       "<Figure size 640x480 with 1 Axes>"
      ]
     },
     "metadata": {},
     "output_type": "display_data"
    }
   ],
   "source": [
    "df = pd.DataFrame(data={\"time\": test['time1'][n_input:],\"y_true\": y_test[n_input:].reshape(-1) , \"y_predict\": y_pred.reshape(-1)})\n",
    "\n",
    "plt.figure()\n",
    "plt.title('Predicting the change in DST Index')\n",
    "plt.plot(df['time'],df['y_true'], label='Skutočné hodnoty')\n",
    "plt.plot(df['time'],df['y_predict'], label='Predikované hodnoty')\n",
    "plt.legend()\n",
    "plt.gcf().autofmt_xdate()\n",
    "plt.grid(True)"
   ]
  },
  {
   "cell_type": "code",
   "execution_count": 15,
   "id": "7f57d33d-462c-4a3f-afbe-26ad75dfe563",
   "metadata": {},
   "outputs": [],
   "source": [
    "df.to_csv('1h_dopredu+200+KP.csv')"
   ]
  },
  {
   "cell_type": "code",
   "execution_count": 16,
   "id": "220727c6-19fb-4b0f-9414-b48fa06d7bb2",
   "metadata": {},
   "outputs": [
    {
     "name": "stdout",
     "output_type": "stream",
     "text": [
      "ACC=0.9609578473122261\n",
      "MCC=0.8759085663008117\n"
     ]
    }
   ],
   "source": [
    "TN, FP, FN, TP = cm.ravel()\n",
    "ACC = (TP + TN) / (TP + TN + FP + FN)\n",
    "MCC = matthews_corrcoef(y_test2, y_pred2)\n",
    "print(\"ACC={}\".format(ACC))\n",
    "print(\"MCC={}\".format(MCC))"
   ]
  },
  {
   "cell_type": "code",
   "execution_count": null,
   "id": "eed764ea-64db-48e6-9913-804647c75035",
   "metadata": {},
   "outputs": [],
   "source": []
  }
 ],
 "metadata": {
  "kernelspec": {
   "display_name": "Python 3 (ipykernel)",
   "language": "python",
   "name": "python3"
  },
  "language_info": {
   "codemirror_mode": {
    "name": "ipython",
    "version": 3
   },
   "file_extension": ".py",
   "mimetype": "text/x-python",
   "name": "python",
   "nbconvert_exporter": "python",
   "pygments_lexer": "ipython3",
   "version": "3.10.6"
  }
 },
 "nbformat": 4,
 "nbformat_minor": 5
}
