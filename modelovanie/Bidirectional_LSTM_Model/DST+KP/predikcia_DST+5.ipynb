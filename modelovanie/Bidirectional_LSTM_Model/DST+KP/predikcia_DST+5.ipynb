{
 "cells": [
  {
   "cell_type": "code",
   "execution_count": 1,
   "id": "5de6ff54-6d93-44d9-b962-793c72fe29cb",
   "metadata": {},
   "outputs": [
    {
     "name": "stderr",
     "output_type": "stream",
     "text": [
      "2024-05-16 10:50:46.923572: I tensorflow/core/platform/cpu_feature_guard.cc:193] This TensorFlow binary is optimized with oneAPI Deep Neural Network Library (oneDNN) to use the following CPU instructions in performance-critical operations:  SSE4.1 SSE4.2 AVX AVX2 FMA\n",
      "To enable them in other operations, rebuild TensorFlow with the appropriate compiler flags.\n"
     ]
    }
   ],
   "source": [
    "import pandas as pd\n",
    "import numpy as np\n",
    "from tensorflow import keras\n",
    "import matplotlib.pyplot as plt\n",
    "from sklearn.preprocessing import MinMaxScaler, StandardScaler\n",
    "from pandas.plotting import register_matplotlib_converters\n",
    "register_matplotlib_converters()\n",
    "import seaborn as sns\n",
    "from tensorflow.keras.preprocessing.sequence import TimeseriesGenerator\n",
    "from keras.models import Sequential\n",
    "from keras.layers import Dense, Activation, Dropout, Input, Conv1D, LSTM, MaxPooling1D, Flatten, TimeDistributed, Bidirectional\n",
    "from tensorflow.keras.callbacks import ModelCheckpoint, EarlyStopping\n",
    "from keras.models import Model\n",
    "from scipy.special import expit, logit\n",
    "from sklearn.metrics import confusion_matrix, classification_report, matthews_corrcoef"
   ]
  },
  {
   "cell_type": "code",
   "execution_count": 2,
   "id": "f783db96-b45a-4f6c-9da4-7a85de6fb5b4",
   "metadata": {},
   "outputs": [],
   "source": [
    "train = pd.read_csv('train_omni.csv')\n",
    "test = pd.read_csv('test_omni.csv')\n",
    "features = ['time1', 'DST', 'DST+5', 'KP' ]\n",
    "test = test[features]\n",
    "train = train[features]\n",
    "train['time1']=pd.to_datetime(train['time1'])\n",
    "test['time1']=pd.to_datetime(test['time1'])\n",
    "predicators = [\"DST\", \"KP\"]\n",
    "y_col='DST+5'\n",
    "valid_size = int(len(train) * 0.2)\n",
    "valid = train.iloc[-valid_size:,:].copy()\n",
    "train = train.iloc[:-valid_size,:].copy()\n",
    "\n",
    "y_train = train[y_col].values.copy()\n",
    "X_train = train[predicators].values.copy()\n",
    "y_val = valid[y_col].values.copy()\n",
    "X_val = valid[predicators].values.copy()\n",
    "y_test = test[y_col].values.copy()\n",
    "X_test = test[predicators].values.copy()"
   ]
  },
  {
   "cell_type": "code",
   "execution_count": 3,
   "id": "21dc3709-f122-4b33-acc8-340cb9eaafe4",
   "metadata": {},
   "outputs": [],
   "source": [
    "n_input = 6  \n",
    "n_features= len(X_train)  \n",
    "b_size = 256  \n",
    "\n",
    "train_generator = TimeseriesGenerator(X_train, y_train, length=n_input, batch_size=b_size)\n",
    "val_generator = TimeseriesGenerator(X_val, y_val, length=n_input, batch_size=b_size)\n",
    "test_generator = TimeseriesGenerator(X_test, y_test, length=n_input, batch_size=256)"
   ]
  },
  {
   "cell_type": "code",
   "execution_count": 4,
   "id": "b66fe2fe-44a3-454e-b417-51db9da42266",
   "metadata": {},
   "outputs": [
    {
     "name": "stdout",
     "output_type": "stream",
     "text": [
      "Počet batchov:  896\n",
      "Každý batch má features (X zložku) a labels (y zložku):  2\n",
      "Dĺžka X zložky batchu:  256\n",
      "Dĺžka y zložky batchu (počet meraní v batchi):  256\n",
      "Počet riadkov braných do úvahy pre jedno meranie (koľko sa pozerá dozadu):  6\n"
     ]
    }
   ],
   "source": [
    "print(\"Počet batchov: \", len(train_generator))\n",
    "print(\"Každý batch má features (X zložku) a labels (y zložku): \", len(train_generator[0]))\n",
    "print(\"Dĺžka X zložky batchu: \", len(train_generator[0][0]))\n",
    "print(\"Dĺžka y zložky batchu (počet meraní v batchi): \",len(train_generator[0][1]))\n",
    "print(\"Počet riadkov braných do úvahy pre jedno meranie (koľko sa pozerá dozadu): \", len(train_generator[0][0][0]))"
   ]
  },
  {
   "cell_type": "code",
   "execution_count": 5,
   "id": "62f4be23-993b-4a71-9a21-ebec2af46f4f",
   "metadata": {},
   "outputs": [
    {
     "name": "stderr",
     "output_type": "stream",
     "text": [
      "2024-05-16 10:50:55.525427: I tensorflow/core/platform/cpu_feature_guard.cc:193] This TensorFlow binary is optimized with oneAPI Deep Neural Network Library (oneDNN) to use the following CPU instructions in performance-critical operations:  SSE4.1 SSE4.2 AVX AVX2 FMA\n",
      "To enable them in other operations, rebuild TensorFlow with the appropriate compiler flags.\n"
     ]
    },
    {
     "name": "stdout",
     "output_type": "stream",
     "text": [
      "Model: \"model\"\n",
      "_________________________________________________________________\n",
      " Layer (type)                Output Shape              Param #   \n",
      "=================================================================\n",
      " input_1 (InputLayer)        [(None, 6, 2)]            0         \n",
      "                                                                 \n",
      " bidirectional (Bidirectiona  (None, 6, 256)           134144    \n",
      " l)                                                              \n",
      "                                                                 \n",
      " lstm_1 (LSTM)               (None, 6, 128)            197120    \n",
      "                                                                 \n",
      " time_distributed (TimeDistr  (None, 6, 1)             129       \n",
      " ibuted)                                                         \n",
      "                                                                 \n",
      " flatten (Flatten)           (None, 6)                 0         \n",
      "                                                                 \n",
      " dense_1 (Dense)             (None, 1)                 7         \n",
      "                                                                 \n",
      "=================================================================\n",
      "Total params: 331,400\n",
      "Trainable params: 331,400\n",
      "Non-trainable params: 0\n",
      "_________________________________________________________________\n",
      "None\n"
     ]
    }
   ],
   "source": [
    "inputs = Input(shape=(6,2))\n",
    "c = Bidirectional(LSTM(128, return_sequences=True, dropout=0.1,recurrent_dropout=0.1))(inputs)\n",
    "c = LSTM(128, return_sequences=True)(c)\n",
    "c = TimeDistributed(Dense(1, activation='linear'))(c)\n",
    "output = Flatten()(c)\n",
    "output = Dense(1, activation='linear')(output)\n",
    "model = Model(inputs=inputs, outputs=output)\n",
    "model.compile(loss='mse', optimizer='adam', metrics=[\"mae\"])\n",
    "print(model.summary())"
   ]
  },
  {
   "cell_type": "code",
   "execution_count": 6,
   "id": "8d1a40da-fa1c-4b3d-bdbd-e4d7793b01a2",
   "metadata": {},
   "outputs": [],
   "source": [
    "saved_model = \"5h_dopredu200+KP.hdf5\"\n",
    "checkpoint = ModelCheckpoint(saved_model, monitor='val_mae', verbose=1, save_best_only=True, mode='min')\n",
    "early = EarlyStopping(monitor=\"val_mae\", mode=\"min\", patience=25)\n",
    "callbacks_list = [checkpoint, early]"
   ]
  },
  {
   "cell_type": "code",
   "execution_count": 7,
   "id": "983fbac3-9067-4fe7-8f61-cac9d641ce0a",
   "metadata": {
    "tags": []
   },
   "outputs": [
    {
     "name": "stdout",
     "output_type": "stream",
     "text": [
      "Epoch 1/200\n",
      "895/896 [============================>.] - ETA: 0s - loss: 201.7328 - mae: 8.4832\n",
      "Epoch 1: val_mae improved from inf to 9.06059, saving model to 5h_dopredu200+KP.hdf5\n",
      "896/896 [==============================] - 58s 57ms/step - loss: 201.5706 - mae: 8.4802 - val_loss: 271.1855 - val_mae: 9.0606\n",
      "Epoch 2/200\n",
      "896/896 [==============================] - ETA: 0s - loss: 138.0609 - mae: 7.4212\n",
      "Epoch 2: val_mae improved from 9.06059 to 8.55725, saving model to 5h_dopredu200+KP.hdf5\n",
      "896/896 [==============================] - 47s 53ms/step - loss: 138.0609 - mae: 7.4212 - val_loss: 216.9528 - val_mae: 8.5572\n",
      "Epoch 3/200\n",
      "896/896 [==============================] - ETA: 0s - loss: 130.0982 - mae: 7.3075\n",
      "Epoch 3: val_mae did not improve from 8.55725\n",
      "896/896 [==============================] - 50s 56ms/step - loss: 130.0982 - mae: 7.3075 - val_loss: 265.0868 - val_mae: 9.5515\n",
      "Epoch 4/200\n",
      "896/896 [==============================] - ETA: 0s - loss: 126.9560 - mae: 7.2617\n",
      "Epoch 4: val_mae did not improve from 8.55725\n",
      "896/896 [==============================] - 48s 53ms/step - loss: 126.9560 - mae: 7.2617 - val_loss: 253.2263 - val_mae: 9.2050\n",
      "Epoch 5/200\n",
      "896/896 [==============================] - ETA: 0s - loss: 124.4324 - mae: 7.2119\n",
      "Epoch 5: val_mae did not improve from 8.55725\n",
      "896/896 [==============================] - 47s 52ms/step - loss: 124.4324 - mae: 7.2119 - val_loss: 222.4233 - val_mae: 8.7295\n",
      "Epoch 6/200\n",
      "895/896 [============================>.] - ETA: 0s - loss: 124.1445 - mae: 7.1933\n",
      "Epoch 6: val_mae did not improve from 8.55725\n",
      "896/896 [==============================] - 47s 53ms/step - loss: 124.1387 - mae: 7.1943 - val_loss: 214.3716 - val_mae: 8.6956\n",
      "Epoch 7/200\n",
      "896/896 [==============================] - ETA: 0s - loss: 121.8618 - mae: 7.1436\n",
      "Epoch 7: val_mae did not improve from 8.55725\n",
      "896/896 [==============================] - 49s 55ms/step - loss: 121.8618 - mae: 7.1436 - val_loss: 304.8402 - val_mae: 10.5584\n",
      "Epoch 8/200\n",
      "896/896 [==============================] - ETA: 0s - loss: 121.2144 - mae: 7.1447\n",
      "Epoch 8: val_mae did not improve from 8.55725\n",
      "896/896 [==============================] - 49s 55ms/step - loss: 121.2144 - mae: 7.1447 - val_loss: 231.2173 - val_mae: 9.1057\n",
      "Epoch 9/200\n",
      "895/896 [============================>.] - ETA: 0s - loss: 121.4659 - mae: 7.1642\n",
      "Epoch 9: val_mae did not improve from 8.55725\n",
      "896/896 [==============================] - 50s 55ms/step - loss: 121.4096 - mae: 7.1628 - val_loss: 216.1925 - val_mae: 8.6541\n",
      "Epoch 10/200\n",
      "895/896 [============================>.] - ETA: 0s - loss: 120.7472 - mae: 7.1243\n",
      "Epoch 10: val_mae did not improve from 8.55725\n",
      "896/896 [==============================] - 50s 56ms/step - loss: 120.7718 - mae: 7.1259 - val_loss: 228.4563 - val_mae: 8.8621\n",
      "Epoch 11/200\n",
      "895/896 [============================>.] - ETA: 0s - loss: 123.0906 - mae: 7.1662\n",
      "Epoch 11: val_mae improved from 8.55725 to 8.39406, saving model to 5h_dopredu200+KP.hdf5\n",
      "896/896 [==============================] - 47s 53ms/step - loss: 123.0331 - mae: 7.1657 - val_loss: 204.6280 - val_mae: 8.3941\n",
      "Epoch 12/200\n",
      "896/896 [==============================] - ETA: 0s - loss: 119.7482 - mae: 7.0976\n",
      "Epoch 12: val_mae improved from 8.39406 to 8.14874, saving model to 5h_dopredu200+KP.hdf5\n",
      "896/896 [==============================] - 50s 56ms/step - loss: 119.7482 - mae: 7.0976 - val_loss: 183.9383 - val_mae: 8.1487\n",
      "Epoch 13/200\n",
      "896/896 [==============================] - ETA: 0s - loss: 119.5750 - mae: 7.0953\n",
      "Epoch 13: val_mae did not improve from 8.14874\n",
      "896/896 [==============================] - 50s 55ms/step - loss: 119.5750 - mae: 7.0953 - val_loss: 186.6662 - val_mae: 8.1814\n",
      "Epoch 14/200\n",
      "895/896 [============================>.] - ETA: 0s - loss: 119.0137 - mae: 7.0873\n",
      "Epoch 14: val_mae did not improve from 8.14874\n",
      "896/896 [==============================] - 50s 56ms/step - loss: 118.9631 - mae: 7.0866 - val_loss: 178.3194 - val_mae: 8.2245\n",
      "Epoch 15/200\n",
      "896/896 [==============================] - ETA: 0s - loss: 118.9238 - mae: 7.0907\n",
      "Epoch 15: val_mae did not improve from 8.14874\n",
      "896/896 [==============================] - 44s 49ms/step - loss: 118.9238 - mae: 7.0907 - val_loss: 226.9102 - val_mae: 8.7699\n",
      "Epoch 16/200\n",
      "895/896 [============================>.] - ETA: 0s - loss: 119.8254 - mae: 7.1083\n",
      "Epoch 16: val_mae did not improve from 8.14874\n",
      "896/896 [==============================] - 48s 53ms/step - loss: 119.7185 - mae: 7.1045 - val_loss: 197.3497 - val_mae: 8.4943\n",
      "Epoch 17/200\n",
      "896/896 [==============================] - ETA: 0s - loss: 120.6446 - mae: 7.1123\n",
      "Epoch 17: val_mae did not improve from 8.14874\n",
      "896/896 [==============================] - 50s 56ms/step - loss: 120.6446 - mae: 7.1123 - val_loss: 197.3385 - val_mae: 8.3478\n",
      "Epoch 18/200\n",
      "896/896 [==============================] - ETA: 0s - loss: 118.3068 - mae: 7.0652\n",
      "Epoch 18: val_mae did not improve from 8.14874\n",
      "896/896 [==============================] - 50s 56ms/step - loss: 118.3068 - mae: 7.0652 - val_loss: 225.1992 - val_mae: 8.7531\n",
      "Epoch 19/200\n",
      "896/896 [==============================] - ETA: 0s - loss: 118.2219 - mae: 7.0739\n",
      "Epoch 19: val_mae did not improve from 8.14874\n",
      "896/896 [==============================] - 51s 57ms/step - loss: 118.2219 - mae: 7.0739 - val_loss: 241.9186 - val_mae: 9.0738\n",
      "Epoch 20/200\n",
      "895/896 [============================>.] - ETA: 0s - loss: 119.9159 - mae: 7.0832\n",
      "Epoch 20: val_mae did not improve from 8.14874\n",
      "896/896 [==============================] - 47s 52ms/step - loss: 119.8259 - mae: 7.0808 - val_loss: 250.5515 - val_mae: 9.4467\n",
      "Epoch 21/200\n",
      "896/896 [==============================] - ETA: 0s - loss: 117.0102 - mae: 7.0351\n",
      "Epoch 21: val_mae did not improve from 8.14874\n",
      "896/896 [==============================] - 50s 55ms/step - loss: 117.0102 - mae: 7.0351 - val_loss: 216.9793 - val_mae: 8.5815\n",
      "Epoch 22/200\n",
      "896/896 [==============================] - ETA: 0s - loss: 117.5297 - mae: 7.0618\n",
      "Epoch 22: val_mae did not improve from 8.14874\n",
      "896/896 [==============================] - 50s 56ms/step - loss: 117.5297 - mae: 7.0618 - val_loss: 218.5359 - val_mae: 8.7298\n",
      "Epoch 23/200\n",
      "896/896 [==============================] - ETA: 0s - loss: 117.0975 - mae: 7.0444\n",
      "Epoch 23: val_mae did not improve from 8.14874\n",
      "896/896 [==============================] - 49s 55ms/step - loss: 117.0975 - mae: 7.0444 - val_loss: 201.2701 - val_mae: 8.4905\n",
      "Epoch 24/200\n",
      "896/896 [==============================] - ETA: 0s - loss: 116.8042 - mae: 7.0335\n",
      "Epoch 24: val_mae did not improve from 8.14874\n",
      "896/896 [==============================] - 46s 51ms/step - loss: 116.8042 - mae: 7.0335 - val_loss: 217.2571 - val_mae: 8.7588\n",
      "Epoch 25/200\n",
      "896/896 [==============================] - ETA: 0s - loss: 115.7642 - mae: 7.0123\n",
      "Epoch 25: val_mae did not improve from 8.14874\n",
      "896/896 [==============================] - 45s 50ms/step - loss: 115.7642 - mae: 7.0123 - val_loss: 200.2186 - val_mae: 8.6920\n",
      "Epoch 26/200\n",
      "895/896 [============================>.] - ETA: 0s - loss: 116.8603 - mae: 7.0416\n",
      "Epoch 26: val_mae did not improve from 8.14874\n",
      "896/896 [==============================] - 41s 45ms/step - loss: 117.0391 - mae: 7.0442 - val_loss: 223.8444 - val_mae: 8.8987\n",
      "Epoch 27/200\n",
      "895/896 [============================>.] - ETA: 0s - loss: 116.4266 - mae: 7.0144\n",
      "Epoch 27: val_mae did not improve from 8.14874\n",
      "896/896 [==============================] - 36s 40ms/step - loss: 116.3488 - mae: 7.0119 - val_loss: 210.3861 - val_mae: 8.5994\n",
      "Epoch 28/200\n",
      "895/896 [============================>.] - ETA: 0s - loss: 116.0357 - mae: 7.0091\n",
      "Epoch 28: val_mae did not improve from 8.14874\n",
      "896/896 [==============================] - 36s 40ms/step - loss: 115.9906 - mae: 7.0083 - val_loss: 234.7856 - val_mae: 9.0204\n",
      "Epoch 29/200\n",
      "895/896 [============================>.] - ETA: 0s - loss: 115.7169 - mae: 7.0266\n",
      "Epoch 29: val_mae did not improve from 8.14874\n",
      "896/896 [==============================] - 36s 40ms/step - loss: 115.6655 - mae: 7.0259 - val_loss: 237.7915 - val_mae: 9.1110\n",
      "Epoch 30/200\n",
      "895/896 [============================>.] - ETA: 0s - loss: 116.2436 - mae: 7.0100\n",
      "Epoch 30: val_mae did not improve from 8.14874\n",
      "896/896 [==============================] - 36s 40ms/step - loss: 116.1973 - mae: 7.0089 - val_loss: 189.5074 - val_mae: 8.3594\n",
      "Epoch 31/200\n",
      "895/896 [============================>.] - ETA: 0s - loss: 115.1654 - mae: 6.9892\n",
      "Epoch 31: val_mae did not improve from 8.14874\n",
      "896/896 [==============================] - 36s 40ms/step - loss: 115.4492 - mae: 6.9937 - val_loss: 205.4782 - val_mae: 8.7448\n",
      "Epoch 32/200\n",
      "895/896 [============================>.] - ETA: 0s - loss: 115.8388 - mae: 7.0182\n",
      "Epoch 32: val_mae did not improve from 8.14874\n",
      "896/896 [==============================] - 36s 40ms/step - loss: 115.8027 - mae: 7.0181 - val_loss: 218.4782 - val_mae: 8.8230\n",
      "Epoch 33/200\n",
      "895/896 [============================>.] - ETA: 0s - loss: 115.0426 - mae: 7.0025\n",
      "Epoch 33: val_mae did not improve from 8.14874\n",
      "896/896 [==============================] - 36s 40ms/step - loss: 114.9569 - mae: 6.9998 - val_loss: 220.4248 - val_mae: 8.8947\n",
      "Epoch 34/200\n",
      "895/896 [============================>.] - ETA: 0s - loss: 115.2115 - mae: 6.9933\n",
      "Epoch 34: val_mae did not improve from 8.14874\n",
      "896/896 [==============================] - 36s 40ms/step - loss: 115.1619 - mae: 6.9927 - val_loss: 212.9491 - val_mae: 8.5281\n",
      "Epoch 35/200\n",
      "895/896 [============================>.] - ETA: 0s - loss: 114.1045 - mae: 6.9820\n",
      "Epoch 35: val_mae did not improve from 8.14874\n",
      "896/896 [==============================] - 36s 40ms/step - loss: 114.1706 - mae: 6.9847 - val_loss: 198.8951 - val_mae: 8.5634\n",
      "Epoch 36/200\n",
      "895/896 [============================>.] - ETA: 0s - loss: 113.7616 - mae: 6.9603\n",
      "Epoch 36: val_mae did not improve from 8.14874\n",
      "896/896 [==============================] - 36s 40ms/step - loss: 113.9584 - mae: 6.9641 - val_loss: 196.5034 - val_mae: 8.4225\n",
      "Epoch 37/200\n",
      "895/896 [============================>.] - ETA: 0s - loss: 115.1610 - mae: 7.0049\n",
      "Epoch 37: val_mae did not improve from 8.14874\n",
      "896/896 [==============================] - 36s 40ms/step - loss: 115.0839 - mae: 7.0027 - val_loss: 217.1341 - val_mae: 8.7672\n"
     ]
    }
   ],
   "source": [
    "history = model.fit(train_generator, validation_data=val_generator, epochs=200, verbose=1, callbacks = callbacks_list)"
   ]
  },
  {
   "cell_type": "code",
   "execution_count": 8,
   "id": "4c79485e-f83d-4a9f-9f70-4ebfb5de2fce",
   "metadata": {},
   "outputs": [],
   "source": [
    "model = keras.models.load_model('5h_dopredu200+KP.hdf5')"
   ]
  },
  {
   "cell_type": "code",
   "execution_count": 9,
   "id": "23a98654-2300-430e-98c7-066159026f30",
   "metadata": {},
   "outputs": [
    {
     "name": "stdout",
     "output_type": "stream",
     "text": [
      "633/633 [==============================] - 9s 13ms/step\n"
     ]
    }
   ],
   "source": [
    "y_pred = model.predict(test_generator)"
   ]
  },
  {
   "cell_type": "code",
   "execution_count": 10,
   "id": "b4ef329f-0ba1-4c9d-b0a9-4e8531b2a268",
   "metadata": {},
   "outputs": [
    {
     "name": "stdout",
     "output_type": "stream",
     "text": [
      "224/224 [==============================] - 3s 13ms/step\n",
      "Best Threshold for MCC on Validation Set: -20.199999999999964\n",
      "Best MCC on Validation Set: 0.7528985245751049\n",
      "-20.2\n"
     ]
    }
   ],
   "source": [
    "y_val_pred = model.predict(val_generator)\n",
    "\n",
    "true_labels_val = np.where(y_val[n_input:] <= -20, 1, 0)  \n",
    "\n",
    "def calculate_mcc(y_true, y_pred):\n",
    "    return matthews_corrcoef(y_true, y_pred)\n",
    "\n",
    "thresholds = np.arange(-10, -40, -0.1)\n",
    "mcc_scores = []\n",
    "\n",
    "for thresh in thresholds:\n",
    "    predictions = np.where(y_val_pred <= thresh, 1, 0)\n",
    "    mcc = calculate_mcc(true_labels_val, predictions)\n",
    "    mcc_scores.append(mcc)\n",
    "\n",
    "best_threshold_mcc = thresholds[np.argmax(mcc_scores)]\n",
    "best_mcc = max(mcc_scores)\n",
    "\n",
    "print(\"Best Threshold for MCC on Validation Set:\", best_threshold_mcc)\n",
    "print(\"Best MCC on Validation Set:\", best_mcc)\n",
    "best_threshold_mcc_rounded = round(best_threshold_mcc, 1)\n"
   ]
  },
  {
   "cell_type": "code",
   "execution_count": 11,
   "id": "37dc5c65-bcff-404c-b6d1-7104ee59d001",
   "metadata": {},
   "outputs": [
    {
     "name": "stdout",
     "output_type": "stream",
     "text": [
      "Mean Squared Error: 54.19306262243896\n"
     ]
    }
   ],
   "source": [
    "from sklearn.metrics import mean_squared_error\n",
    "mse = mean_squared_error(y_test[:-n_input], y_pred.reshape(-1))\n",
    "print(f\"Mean Squared Error: {mse}\")"
   ]
  },
  {
   "cell_type": "code",
   "execution_count": 12,
   "id": "39df0af9-00f4-47eb-a9ad-b8e1aa1bad71",
   "metadata": {},
   "outputs": [
    {
     "name": "stdout",
     "output_type": "stream",
     "text": [
      "Confusion matrix: \n",
      "[[124895   5094]\n",
      " [ 10420  21621]]\n"
     ]
    }
   ],
   "source": [
    "y_pred2 = np.where(y_pred <= best_threshold_mcc_rounded, 1, 0)\n",
    "y_test2 = np.where(y_test[n_input:]  <= -20, 1, 0)\n",
    "\n",
    "cm = confusion_matrix(y_test2, y_pred2)\n",
    "print(\"Confusion matrix: \\n\" + str(cm))"
   ]
  },
  {
   "cell_type": "code",
   "execution_count": 13,
   "id": "ec6a51d0-0fd0-4781-a0fd-a47ed6ec36f0",
   "metadata": {},
   "outputs": [
    {
     "name": "stdout",
     "output_type": "stream",
     "text": [
      "              precision    recall  f1-score   support\n",
      "\n",
      "           0       0.92      0.96      0.94    129989\n",
      "           1       0.81      0.67      0.74     32041\n",
      "\n",
      "    accuracy                           0.90    162030\n",
      "   macro avg       0.87      0.82      0.84    162030\n",
      "weighted avg       0.90      0.90      0.90    162030\n",
      "\n"
     ]
    }
   ],
   "source": [
    "print(classification_report(y_test2, y_pred2))\n"
   ]
  },
  {
   "cell_type": "code",
   "execution_count": 14,
   "id": "74eea3d5-eecc-4920-bd0c-809ab4ca01aa",
   "metadata": {},
   "outputs": [
    {
     "data": {
      "image/png": "[encoded data removed]",
      "text/plain": [
       "<Figure size 640x480 with 1 Axes>"
      ]
     },
     "metadata": {},
     "output_type": "display_data"
    }
   ],
   "source": [
    "df = pd.DataFrame(data={\"time\": test['time1'][n_input:],\"y_true\": y_test[n_input:].reshape(-1) , \"y_predict\": y_pred.reshape(-1)})\n",
    "\n",
    "plt.figure()\n",
    "plt.title('Predicting the change in DST Index')\n",
    "plt.plot(df['time'],df['y_true'], label='Skutočné hodnoty')\n",
    "plt.plot(df['time'],df['y_predict'], label='Predikované hodnoty')\n",
    "plt.legend()\n",
    "plt.gcf().autofmt_xdate()\n",
    "plt.grid(True)"
   ]
  },
  {
   "cell_type": "code",
   "execution_count": 15,
   "id": "c3647b9d-eea2-4653-b0ea-51865a2c4af8",
   "metadata": {},
   "outputs": [],
   "source": [
    "df.to_csv('5h_dopredu+200+KP.csv')"
   ]
  },
  {
   "cell_type": "code",
   "execution_count": 16,
   "id": "26fb8edd-0e9c-4357-9f23-5b9e2f083c14",
   "metadata": {},
   "outputs": [
    {
     "name": "stdout",
     "output_type": "stream",
     "text": [
      "ACC=0.9042522989569832\n",
      "MCC=0.6822479155411196\n"
     ]
    }
   ],
   "source": [
    "TN, FP, FN, TP = cm.ravel()\n",
    "ACC = (TP + TN) / (TP + TN + FP + FN)\n",
    "MCC = matthews_corrcoef(y_test2, y_pred2)\n",
    "print(\"ACC={}\".format(ACC))\n",
    "print(\"MCC={}\".format(MCC))"
   ]
  },
  {
   "cell_type": "code",
   "execution_count": null,
   "id": "7ae7311c-2f4a-4e9e-adca-df1caecb9c70",
   "metadata": {},
   "outputs": [],
   "source": []
  }
 ],
 "metadata": {
  "kernelspec": {
   "display_name": "Python 3 (ipykernel)",
   "language": "python",
   "name": "python3"
  },
  "language_info": {
   "codemirror_mode": {
    "name": "ipython",
    "version": 3
   },
   "file_extension": ".py",
   "mimetype": "text/x-python",
   "name": "python",
   "nbconvert_exporter": "python",
   "pygments_lexer": "ipython3",
   "version": "3.10.6"
  }
 },
 "nbformat": 4,
 "nbformat_minor": 5
}
