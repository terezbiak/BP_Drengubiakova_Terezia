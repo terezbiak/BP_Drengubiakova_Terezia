{
 "cells": [
  {
   "cell_type": "code",
   "execution_count": 1,
   "id": "ca4af1e5-3d0b-43c2-9ed8-beef9f341d23",
   "metadata": {},
   "outputs": [
    {
     "name": "stderr",
     "output_type": "stream",
     "text": [
      "2024-05-16 08:22:08.528904: I tensorflow/core/platform/cpu_feature_guard.cc:193] This TensorFlow binary is optimized with oneAPI Deep Neural Network Library (oneDNN) to use the following CPU instructions in performance-critical operations:  SSE4.1 SSE4.2 AVX AVX2 FMA\n",
      "To enable them in other operations, rebuild TensorFlow with the appropriate compiler flags.\n"
     ]
    }
   ],
   "source": [
    "import pandas as pd\n",
    "import numpy as np\n",
    "from tensorflow import keras\n",
    "import matplotlib.pyplot as plt\n",
    "from sklearn.preprocessing import MinMaxScaler, StandardScaler\n",
    "from pandas.plotting import register_matplotlib_converters\n",
    "register_matplotlib_converters()\n",
    "import seaborn as sns\n",
    "\n",
    "from tensorflow.keras.preprocessing.sequence import TimeseriesGenerator\n",
    "from keras.models import Sequential\n",
    "\n",
    "from keras.layers import Dense, Activation, Dropout, Input, Conv1D, LSTM, MaxPooling1D, Flatten, TimeDistributed, Bidirectional\n",
    "from tensorflow.keras.callbacks import ModelCheckpoint, EarlyStopping\n",
    "from keras.models import Model\n",
    "\n",
    "\n",
    "from scipy.special import expit, logit\n",
    "\n",
    "from sklearn.metrics import confusion_matrix, classification_report, matthews_corrcoef"
   ]
  },
  {
   "cell_type": "code",
   "execution_count": 2,
   "id": "ddba2f85-112b-4077-811b-591ddd767bb6",
   "metadata": {},
   "outputs": [],
   "source": [
    "train = pd.read_csv('train_omni.csv')\n",
    "test = pd.read_csv('test_omni.csv')\n",
    "train['BZ_GSM'] = train['BZ_GSM'].fillna(train['BZ_GSM'].mean())  # Naplní NaN hodnoty priemerom danej stĺpca\n",
    "test['BZ_GSM'] = test['BZ_GSM'].fillna(test['BZ_GSM'].mean())  \n",
    "features = ['time1',\n",
    "           'DST',\n",
    "            'DST+2', 'BZ_GSM']\n",
    "test = test[features]\n",
    "train = train[features]\n",
    "train['time1']=pd.to_datetime(train['time1'])\n",
    "test['time1']=pd.to_datetime(test['time1'])\n",
    "predicted_label = 'DST+2'\n",
    "predicators = [\"DST\", \"BZ_GSM\"]\n",
    "y_col='DST+2'\n",
    "valid_size = int(len(train) * 0.2)\n",
    "valid = train.iloc[-valid_size:,:].copy()\n",
    "train = train.iloc[:-valid_size,:].copy()\n",
    "\n",
    "y_train = train[y_col].values.copy()\n",
    "X_train = train[predicators].values.copy()\n",
    "y_val = valid[y_col].values.copy()\n",
    "X_val = valid[predicators].values.copy()\n",
    "y_test = test[y_col].values.copy()\n",
    "X_test = test[predicators].values.copy()"
   ]
  },
  {
   "cell_type": "code",
   "execution_count": 3,
   "id": "8c19c03d-b94d-45e2-a7e3-29ba2deb5dd2",
   "metadata": {},
   "outputs": [
    {
     "data": {
      "text/html": [
       "<div>\n",
       "<style scoped>\n",
       "    .dataframe tbody tr th:only-of-type {\n",
       "        vertical-align: middle;\n",
       "    }\n",
       "\n",
       "    .dataframe tbody tr th {\n",
       "        vertical-align: top;\n",
       "    }\n",
       "\n",
       "    .dataframe thead th {\n",
       "        text-align: right;\n",
       "    }\n",
       "</style>\n",
       "<table border=\"1\" class=\"dataframe\">\n",
       "  <thead>\n",
       "    <tr style=\"text-align: right;\">\n",
       "      <th></th>\n",
       "      <th>time1</th>\n",
       "      <th>DST</th>\n",
       "      <th>DST+2</th>\n",
       "      <th>BZ_GSM</th>\n",
       "    </tr>\n",
       "  </thead>\n",
       "  <tbody>\n",
       "    <tr>\n",
       "      <th>0</th>\n",
       "      <td>1963-01-01 01:00:00</td>\n",
       "      <td>-5.0</td>\n",
       "      <td>-5.0</td>\n",
       "      <td>0.050328</td>\n",
       "    </tr>\n",
       "    <tr>\n",
       "      <th>1</th>\n",
       "      <td>1963-01-01 02:00:00</td>\n",
       "      <td>-5.0</td>\n",
       "      <td>-3.0</td>\n",
       "      <td>0.050328</td>\n",
       "    </tr>\n",
       "    <tr>\n",
       "      <th>2</th>\n",
       "      <td>1963-01-01 03:00:00</td>\n",
       "      <td>-3.0</td>\n",
       "      <td>-3.0</td>\n",
       "      <td>0.050328</td>\n",
       "    </tr>\n",
       "    <tr>\n",
       "      <th>3</th>\n",
       "      <td>1963-01-01 04:00:00</td>\n",
       "      <td>-3.0</td>\n",
       "      <td>-6.0</td>\n",
       "      <td>0.050328</td>\n",
       "    </tr>\n",
       "    <tr>\n",
       "      <th>4</th>\n",
       "      <td>1963-01-01 05:00:00</td>\n",
       "      <td>-6.0</td>\n",
       "      <td>-8.0</td>\n",
       "      <td>0.050328</td>\n",
       "    </tr>\n",
       "    <tr>\n",
       "      <th>...</th>\n",
       "      <td>...</td>\n",
       "      <td>...</td>\n",
       "      <td>...</td>\n",
       "      <td>...</td>\n",
       "    </tr>\n",
       "    <tr>\n",
       "      <th>229376</th>\n",
       "      <td>1989-03-01 07:00:00</td>\n",
       "      <td>-18.0</td>\n",
       "      <td>-18.0</td>\n",
       "      <td>0.050328</td>\n",
       "    </tr>\n",
       "    <tr>\n",
       "      <th>229377</th>\n",
       "      <td>1989-03-01 08:00:00</td>\n",
       "      <td>-18.0</td>\n",
       "      <td>-16.0</td>\n",
       "      <td>0.050328</td>\n",
       "    </tr>\n",
       "    <tr>\n",
       "      <th>229378</th>\n",
       "      <td>1989-03-01 09:00:00</td>\n",
       "      <td>-16.0</td>\n",
       "      <td>-10.0</td>\n",
       "      <td>0.050328</td>\n",
       "    </tr>\n",
       "    <tr>\n",
       "      <th>229379</th>\n",
       "      <td>1989-03-01 10:00:00</td>\n",
       "      <td>-10.0</td>\n",
       "      <td>-4.0</td>\n",
       "      <td>0.050328</td>\n",
       "    </tr>\n",
       "    <tr>\n",
       "      <th>229380</th>\n",
       "      <td>1989-03-01 11:00:00</td>\n",
       "      <td>-4.0</td>\n",
       "      <td>-5.0</td>\n",
       "      <td>0.050328</td>\n",
       "    </tr>\n",
       "  </tbody>\n",
       "</table>\n",
       "<p>229381 rows × 4 columns</p>\n",
       "</div>"
      ],
      "text/plain": [
       "                     time1   DST  DST+2    BZ_GSM\n",
       "0      1963-01-01 01:00:00  -5.0   -5.0  0.050328\n",
       "1      1963-01-01 02:00:00  -5.0   -3.0  0.050328\n",
       "2      1963-01-01 03:00:00  -3.0   -3.0  0.050328\n",
       "3      1963-01-01 04:00:00  -3.0   -6.0  0.050328\n",
       "4      1963-01-01 05:00:00  -6.0   -8.0  0.050328\n",
       "...                    ...   ...    ...       ...\n",
       "229376 1989-03-01 07:00:00 -18.0  -18.0  0.050328\n",
       "229377 1989-03-01 08:00:00 -18.0  -16.0  0.050328\n",
       "229378 1989-03-01 09:00:00 -16.0  -10.0  0.050328\n",
       "229379 1989-03-01 10:00:00 -10.0   -4.0  0.050328\n",
       "229380 1989-03-01 11:00:00  -4.0   -5.0  0.050328\n",
       "\n",
       "[229381 rows x 4 columns]"
      ]
     },
     "execution_count": 3,
     "metadata": {},
     "output_type": "execute_result"
    }
   ],
   "source": [
    "train"
   ]
  },
  {
   "cell_type": "code",
   "execution_count": 4,
   "id": "0b259104-ab17-4a42-a1b6-dea3d3e6bb25",
   "metadata": {},
   "outputs": [],
   "source": [
    "n_input = 6  # how many samples/rows/timesteps to look in the past in order to forecast the next sample\n",
    "n_features= len(X_train)  # how many predictors/Xs/features we have to predict y\n",
    "b_size = 256  # Number of timeseries samples in each batch\n",
    "\n",
    "train_generator = TimeseriesGenerator(X_train, y_train, length=n_input, batch_size=b_size)\n",
    "val_generator = TimeseriesGenerator(X_val, y_val, length=n_input, batch_size=b_size)\n",
    "test_generator = TimeseriesGenerator(X_test, y_test, length=n_input, batch_size=256)"
   ]
  },
  {
   "cell_type": "code",
   "execution_count": 5,
   "id": "89a8ac06-c384-4aca-b747-4b9642949947",
   "metadata": {},
   "outputs": [
    {
     "name": "stdout",
     "output_type": "stream",
     "text": [
      "Počet batchov:  896\n",
      "Každý batch má features (X zložku) a labels (y zložku):  2\n",
      "Dĺžka X zložky batchu:  256\n",
      "Dĺžka y zložky batchu (počet meraní v batchi):  256\n",
      "Počet riadkov braných do úvahy pre jedno meranie (koľko sa pozerá dozadu):  6\n"
     ]
    }
   ],
   "source": [
    "print(\"Počet batchov: \", len(train_generator))\n",
    "print(\"Každý batch má features (X zložku) a labels (y zložku): \", len(train_generator[0]))\n",
    "print(\"Dĺžka X zložky batchu: \", len(train_generator[0][0]))\n",
    "print(\"Dĺžka y zložky batchu (počet meraní v batchi): \",len(train_generator[0][1]))\n",
    "print(\"Počet riadkov braných do úvahy pre jedno meranie (koľko sa pozerá dozadu): \", len(train_generator[0][0][0]))"
   ]
  },
  {
   "cell_type": "code",
   "execution_count": 6,
   "id": "aa4f6c64-1c16-4799-baac-f425bca25e76",
   "metadata": {},
   "outputs": [
    {
     "name": "stderr",
     "output_type": "stream",
     "text": [
      "2024-05-16 08:22:17.950596: I tensorflow/core/platform/cpu_feature_guard.cc:193] This TensorFlow binary is optimized with oneAPI Deep Neural Network Library (oneDNN) to use the following CPU instructions in performance-critical operations:  SSE4.1 SSE4.2 AVX AVX2 FMA\n",
      "To enable them in other operations, rebuild TensorFlow with the appropriate compiler flags.\n"
     ]
    },
    {
     "name": "stdout",
     "output_type": "stream",
     "text": [
      "Model: \"model\"\n",
      "_________________________________________________________________\n",
      " Layer (type)                Output Shape              Param #   \n",
      "=================================================================\n",
      " input_1 (InputLayer)        [(None, 6, 2)]            0         \n",
      "                                                                 \n",
      " bidirectional (Bidirectiona  (None, 6, 256)           134144    \n",
      " l)                                                              \n",
      "                                                                 \n",
      " lstm_1 (LSTM)               (None, 6, 128)            197120    \n",
      "                                                                 \n",
      " time_distributed (TimeDistr  (None, 6, 1)             129       \n",
      " ibuted)                                                         \n",
      "                                                                 \n",
      " flatten (Flatten)           (None, 6)                 0         \n",
      "                                                                 \n",
      " dense_1 (Dense)             (None, 1)                 7         \n",
      "                                                                 \n",
      "=================================================================\n",
      "Total params: 331,400\n",
      "Trainable params: 331,400\n",
      "Non-trainable params: 0\n",
      "_________________________________________________________________\n",
      "None\n"
     ]
    }
   ],
   "source": [
    "inputs = Input(shape=(6,2))\n",
    "c = Bidirectional(LSTM(128, return_sequences=True, dropout=0.1,recurrent_dropout=0.1))(inputs)\n",
    "c = LSTM(128, return_sequences=True)(c)\n",
    "c = TimeDistributed(Dense(1, activation='linear'))(c)\n",
    "output = Flatten()(c)\n",
    "output = Dense(1, activation='linear')(output)\n",
    "model = Model(inputs=inputs, outputs=output)\n",
    "model.compile(loss='mse', optimizer='adam', metrics=[\"mae\"])\n",
    "print(model.summary())"
   ]
  },
  {
   "cell_type": "code",
   "execution_count": 7,
   "id": "29b4a2d1-52f1-48a5-b4f7-e498817b9de7",
   "metadata": {},
   "outputs": [],
   "source": [
    "saved_model = \"2h_dopredu200+BZ.hdf5\"\n",
    "checkpoint = ModelCheckpoint(saved_model, monitor='val_mae', verbose=1, save_best_only=True, mode='min')\n",
    "early = EarlyStopping(monitor=\"val_mae\", mode=\"min\", patience=25)\n",
    "callbacks_list = [checkpoint, early]"
   ]
  },
  {
   "cell_type": "code",
   "execution_count": 8,
   "id": "ba000d8d-7f20-45d6-8c10-025c7976f9f8",
   "metadata": {
    "collapsed": true,
    "jupyter": {
     "outputs_hidden": true
    },
    "tags": []
   },
   "outputs": [
    {
     "name": "stdout",
     "output_type": "stream",
     "text": [
      "Epoch 1/200\n",
      "1139/1139 [==============================] - ETA: 0s - loss: 158.0408 - mae: 6.6026\n",
      "Epoch 1: val_mae improved from inf to 5.00109, saving model to 2h_dopredu200+BZ.hdf5\n",
      "1139/1139 [==============================] - 76s 61ms/step - loss: 158.0408 - mae: 6.6026 - val_loss: 94.4255 - val_mae: 5.0011\n",
      "Epoch 2/200\n",
      "1139/1139 [==============================] - ETA: 0s - loss: 74.5747 - mae: 5.1784\n",
      "Epoch 2: val_mae improved from 5.00109 to 4.85550, saving model to 2h_dopredu200+BZ.hdf5\n",
      "1139/1139 [==============================] - 66s 58ms/step - loss: 74.5747 - mae: 5.1784 - val_loss: 73.0061 - val_mae: 4.8555\n",
      "Epoch 3/200\n",
      "1139/1139 [==============================] - ETA: 0s - loss: 67.5122 - mae: 5.0826\n",
      "Epoch 3: val_mae improved from 4.85550 to 4.83410, saving model to 2h_dopredu200+BZ.hdf5\n",
      "1139/1139 [==============================] - 66s 58ms/step - loss: 67.5122 - mae: 5.0826 - val_loss: 67.5873 - val_mae: 4.8341\n",
      "Epoch 4/200\n",
      "1139/1139 [==============================] - ETA: 0s - loss: 62.3894 - mae: 4.9472\n",
      "Epoch 4: val_mae did not improve from 4.83410\n",
      "1139/1139 [==============================] - 67s 59ms/step - loss: 62.3894 - mae: 4.9472 - val_loss: 65.0144 - val_mae: 4.9835\n",
      "Epoch 5/200\n",
      "1139/1139 [==============================] - ETA: 0s - loss: 59.1464 - mae: 4.8444\n",
      "Epoch 5: val_mae improved from 4.83410 to 4.74372, saving model to 2h_dopredu200+BZ.hdf5\n",
      "1139/1139 [==============================] - 65s 57ms/step - loss: 59.1464 - mae: 4.8444 - val_loss: 71.1717 - val_mae: 4.7437\n",
      "Epoch 6/200\n",
      "1138/1139 [============================>.] - ETA: 0s - loss: 59.5406 - mae: 4.8961\n",
      "Epoch 6: val_mae did not improve from 4.74372\n",
      "1139/1139 [==============================] - 63s 56ms/step - loss: 59.5169 - mae: 4.8958 - val_loss: 62.3554 - val_mae: 4.8459\n",
      "Epoch 7/200\n",
      "1139/1139 [==============================] - ETA: 0s - loss: 58.3362 - mae: 4.8424\n",
      "Epoch 7: val_mae did not improve from 4.74372\n",
      "1139/1139 [==============================] - 66s 58ms/step - loss: 58.3362 - mae: 4.8424 - val_loss: 75.3647 - val_mae: 5.3398\n",
      "Epoch 8/200\n",
      "1139/1139 [==============================] - ETA: 0s - loss: 57.3732 - mae: 4.8085\n",
      "Epoch 8: val_mae did not improve from 4.74372\n",
      "1139/1139 [==============================] - 65s 57ms/step - loss: 57.3732 - mae: 4.8085 - val_loss: 60.1204 - val_mae: 4.8237\n",
      "Epoch 9/200\n",
      "1139/1139 [==============================] - ETA: 0s - loss: 57.3166 - mae: 4.8417\n",
      "Epoch 9: val_mae did not improve from 4.74372\n",
      "1139/1139 [==============================] - 64s 56ms/step - loss: 57.3166 - mae: 4.8417 - val_loss: 90.7848 - val_mae: 4.9449\n",
      "Epoch 10/200\n",
      "1139/1139 [==============================] - ETA: 0s - loss: 56.0929 - mae: 4.7851\n",
      "Epoch 10: val_mae did not improve from 4.74372\n",
      "1139/1139 [==============================] - 65s 57ms/step - loss: 56.0929 - mae: 4.7851 - val_loss: 62.9846 - val_mae: 5.1653\n",
      "Epoch 11/200\n",
      "1138/1139 [============================>.] - ETA: 0s - loss: 55.1874 - mae: 4.7704\n",
      "Epoch 11: val_mae did not improve from 4.74372\n",
      "1139/1139 [==============================] - 66s 58ms/step - loss: 55.1628 - mae: 4.7695 - val_loss: 60.1717 - val_mae: 4.8350\n",
      "Epoch 12/200\n",
      "1138/1139 [============================>.] - ETA: 0s - loss: 55.4543 - mae: 4.7899\n",
      "Epoch 12: val_mae did not improve from 4.74372\n",
      "1139/1139 [==============================] - 62s 54ms/step - loss: 55.4415 - mae: 4.7894 - val_loss: 61.6434 - val_mae: 4.8335\n",
      "Epoch 13/200\n",
      "1139/1139 [==============================] - ETA: 0s - loss: 53.6710 - mae: 4.7368\n",
      "Epoch 13: val_mae improved from 4.74372 to 4.47982, saving model to 2h_dopredu200+BZ.hdf5\n",
      "1139/1139 [==============================] - 67s 59ms/step - loss: 53.6710 - mae: 4.7368 - val_loss: 51.4660 - val_mae: 4.4798\n",
      "Epoch 14/200\n",
      "1138/1139 [============================>.] - ETA: 0s - loss: 53.7451 - mae: 4.7451\n",
      "Epoch 14: val_mae did not improve from 4.47982\n",
      "1139/1139 [==============================] - 65s 57ms/step - loss: 53.7133 - mae: 4.7438 - val_loss: 78.2157 - val_mae: 5.4826\n",
      "Epoch 15/200\n",
      "1139/1139 [==============================] - ETA: 0s - loss: 54.0125 - mae: 4.7444\n",
      "Epoch 15: val_mae improved from 4.47982 to 4.47418, saving model to 2h_dopredu200+BZ.hdf5\n",
      "1139/1139 [==============================] - 68s 60ms/step - loss: 54.0125 - mae: 4.7444 - val_loss: 51.5378 - val_mae: 4.4742\n",
      "Epoch 16/200\n",
      "1139/1139 [==============================] - ETA: 0s - loss: 53.2673 - mae: 4.7200\n",
      "Epoch 16: val_mae did not improve from 4.47418\n",
      "1139/1139 [==============================] - 64s 56ms/step - loss: 53.2673 - mae: 4.7200 - val_loss: 56.0314 - val_mae: 4.8114\n",
      "Epoch 17/200\n",
      "1139/1139 [==============================] - ETA: 0s - loss: 52.3728 - mae: 4.7199\n",
      "Epoch 17: val_mae did not improve from 4.47418\n",
      "1139/1139 [==============================] - 70s 61ms/step - loss: 52.3728 - mae: 4.7199 - val_loss: 66.2327 - val_mae: 4.9743\n",
      "Epoch 18/200\n",
      "1139/1139 [==============================] - ETA: 0s - loss: 52.0433 - mae: 4.6993\n",
      "Epoch 18: val_mae did not improve from 4.47418\n",
      "1139/1139 [==============================] - 68s 59ms/step - loss: 52.0433 - mae: 4.6993 - val_loss: 79.0462 - val_mae: 5.8213\n",
      "Epoch 19/200\n",
      "1138/1139 [============================>.] - ETA: 0s - loss: 52.1884 - mae: 4.7109\n",
      "Epoch 19: val_mae did not improve from 4.47418\n",
      "1139/1139 [==============================] - 66s 58ms/step - loss: 52.1807 - mae: 4.7108 - val_loss: 56.0415 - val_mae: 4.7138\n",
      "Epoch 20/200\n",
      "1139/1139 [==============================] - ETA: 0s - loss: 51.9549 - mae: 4.6888\n",
      "Epoch 20: val_mae did not improve from 4.47418\n",
      "1139/1139 [==============================] - 64s 57ms/step - loss: 51.9549 - mae: 4.6888 - val_loss: 65.2536 - val_mae: 5.0159\n",
      "Epoch 21/200\n",
      "1139/1139 [==============================] - ETA: 0s - loss: 52.3141 - mae: 4.7077\n",
      "Epoch 21: val_mae did not improve from 4.47418\n",
      "1139/1139 [==============================] - 68s 60ms/step - loss: 52.3141 - mae: 4.7077 - val_loss: 56.7900 - val_mae: 4.7430\n",
      "Epoch 22/200\n",
      "1139/1139 [==============================] - ETA: 0s - loss: 51.5009 - mae: 4.6796\n",
      "Epoch 22: val_mae did not improve from 4.47418\n",
      "1139/1139 [==============================] - 68s 59ms/step - loss: 51.5009 - mae: 4.6796 - val_loss: 56.5587 - val_mae: 4.6219\n",
      "Epoch 23/200\n",
      "1138/1139 [============================>.] - ETA: 0s - loss: 52.1117 - mae: 4.6882\n",
      "Epoch 23: val_mae did not improve from 4.47418\n",
      "1139/1139 [==============================] - 66s 58ms/step - loss: 52.0862 - mae: 4.6872 - val_loss: 55.9224 - val_mae: 4.6911\n",
      "Epoch 24/200\n",
      "1138/1139 [============================>.] - ETA: 0s - loss: 50.8644 - mae: 4.6612\n",
      "Epoch 24: val_mae did not improve from 4.47418\n",
      "1139/1139 [==============================] - 71s 62ms/step - loss: 50.8412 - mae: 4.6604 - val_loss: 54.5146 - val_mae: 4.7960\n",
      "Epoch 25/200\n",
      "1139/1139 [==============================] - ETA: 0s - loss: 50.7420 - mae: 4.6689\n",
      "Epoch 25: val_mae did not improve from 4.47418\n",
      "1139/1139 [==============================] - 64s 57ms/step - loss: 50.7420 - mae: 4.6689 - val_loss: 54.0322 - val_mae: 4.6952\n",
      "Epoch 26/200\n",
      "1139/1139 [==============================] - ETA: 0s - loss: 50.8256 - mae: 4.6665\n",
      "Epoch 26: val_mae did not improve from 4.47418\n",
      "1139/1139 [==============================] - 66s 58ms/step - loss: 50.8256 - mae: 4.6665 - val_loss: 62.1457 - val_mae: 4.9358\n",
      "Epoch 27/200\n",
      "1139/1139 [==============================] - ETA: 0s - loss: 51.2924 - mae: 4.6666\n",
      "Epoch 27: val_mae did not improve from 4.47418\n",
      "1139/1139 [==============================] - 67s 59ms/step - loss: 51.2924 - mae: 4.6666 - val_loss: 52.0755 - val_mae: 4.5475\n",
      "Epoch 28/200\n",
      "1139/1139 [==============================] - ETA: 0s - loss: 50.3671 - mae: 4.6526\n",
      "Epoch 28: val_mae did not improve from 4.47418\n",
      "1139/1139 [==============================] - 69s 60ms/step - loss: 50.3671 - mae: 4.6526 - val_loss: 55.9551 - val_mae: 4.6347\n",
      "Epoch 29/200\n",
      "1139/1139 [==============================] - ETA: 0s - loss: 50.2884 - mae: 4.6498\n",
      "Epoch 29: val_mae did not improve from 4.47418\n",
      "1139/1139 [==============================] - 64s 56ms/step - loss: 50.2884 - mae: 4.6498 - val_loss: 60.1458 - val_mae: 4.8177\n",
      "Epoch 30/200\n",
      "1139/1139 [==============================] - ETA: 0s - loss: 50.6507 - mae: 4.6567\n",
      "Epoch 30: val_mae did not improve from 4.47418\n",
      "1139/1139 [==============================] - 65s 57ms/step - loss: 50.6507 - mae: 4.6567 - val_loss: 55.0029 - val_mae: 4.6522\n",
      "Epoch 31/200\n",
      "1139/1139 [==============================] - ETA: 0s - loss: 50.8168 - mae: 4.6652\n",
      "Epoch 31: val_mae did not improve from 4.47418\n",
      "1139/1139 [==============================] - 68s 60ms/step - loss: 50.8168 - mae: 4.6652 - val_loss: 60.7676 - val_mae: 4.9461\n",
      "Epoch 32/200\n",
      "1139/1139 [==============================] - ETA: 0s - loss: 49.5902 - mae: 4.6364\n",
      "Epoch 32: val_mae did not improve from 4.47418\n",
      "1139/1139 [==============================] - 66s 58ms/step - loss: 49.5902 - mae: 4.6364 - val_loss: 51.1301 - val_mae: 4.5200\n",
      "Epoch 33/200\n",
      "1139/1139 [==============================] - ETA: 0s - loss: 50.1366 - mae: 4.6507\n",
      "Epoch 33: val_mae did not improve from 4.47418\n",
      "1139/1139 [==============================] - 66s 58ms/step - loss: 50.1366 - mae: 4.6507 - val_loss: 55.5272 - val_mae: 4.7383\n",
      "Epoch 34/200\n",
      "1139/1139 [==============================] - ETA: 0s - loss: 50.3478 - mae: 4.6485\n",
      "Epoch 34: val_mae did not improve from 4.47418\n",
      "1139/1139 [==============================] - 66s 58ms/step - loss: 50.3478 - mae: 4.6485 - val_loss: 59.4729 - val_mae: 4.8904\n",
      "Epoch 35/200\n",
      "1139/1139 [==============================] - ETA: 0s - loss: 50.3858 - mae: 4.6502\n",
      "Epoch 35: val_mae did not improve from 4.47418\n",
      "1139/1139 [==============================] - 66s 58ms/step - loss: 50.3858 - mae: 4.6502 - val_loss: 54.5263 - val_mae: 4.6403\n",
      "Epoch 36/200\n",
      "1139/1139 [==============================] - ETA: 0s - loss: 49.3958 - mae: 4.6327\n",
      "Epoch 36: val_mae did not improve from 4.47418\n",
      "1139/1139 [==============================] - 65s 57ms/step - loss: 49.3958 - mae: 4.6327 - val_loss: 55.0271 - val_mae: 4.6907\n",
      "Epoch 37/200\n",
      "1139/1139 [==============================] - ETA: 0s - loss: 49.6688 - mae: 4.6443\n",
      "Epoch 37: val_mae did not improve from 4.47418\n",
      "1139/1139 [==============================] - 64s 56ms/step - loss: 49.6688 - mae: 4.6443 - val_loss: 59.6490 - val_mae: 4.9936\n",
      "Epoch 38/200\n",
      "1139/1139 [==============================] - ETA: 0s - loss: 49.6450 - mae: 4.6335\n",
      "Epoch 38: val_mae did not improve from 4.47418\n",
      "1139/1139 [==============================] - 64s 56ms/step - loss: 49.6450 - mae: 4.6335 - val_loss: 56.0395 - val_mae: 4.6195\n",
      "Epoch 39/200\n",
      "1139/1139 [==============================] - ETA: 0s - loss: 49.1943 - mae: 4.6325\n",
      "Epoch 39: val_mae improved from 4.47418 to 4.44475, saving model to 2h_dopredu200+BZ.hdf5\n",
      "1139/1139 [==============================] - 64s 56ms/step - loss: 49.1943 - mae: 4.6325 - val_loss: 51.2650 - val_mae: 4.4447\n",
      "Epoch 40/200\n",
      "1139/1139 [==============================] - ETA: 0s - loss: 51.0377 - mae: 4.6582\n",
      "Epoch 40: val_mae did not improve from 4.44475\n",
      "1139/1139 [==============================] - 65s 57ms/step - loss: 51.0377 - mae: 4.6582 - val_loss: 57.0648 - val_mae: 4.8122\n",
      "Epoch 41/200\n",
      "1139/1139 [==============================] - ETA: 0s - loss: 49.0048 - mae: 4.6298\n",
      "Epoch 41: val_mae did not improve from 4.44475\n",
      "1139/1139 [==============================] - 64s 56ms/step - loss: 49.0048 - mae: 4.6298 - val_loss: 56.9121 - val_mae: 4.7853\n",
      "Epoch 42/200\n",
      "1139/1139 [==============================] - ETA: 0s - loss: 48.8158 - mae: 4.6161\n",
      "Epoch 42: val_mae did not improve from 4.44475\n",
      "1139/1139 [==============================] - 64s 56ms/step - loss: 48.8158 - mae: 4.6161 - val_loss: 51.7766 - val_mae: 4.6105\n",
      "Epoch 43/200\n",
      "1139/1139 [==============================] - ETA: 0s - loss: 48.9939 - mae: 4.6212\n",
      "Epoch 43: val_mae did not improve from 4.44475\n",
      "1139/1139 [==============================] - 64s 56ms/step - loss: 48.9939 - mae: 4.6212 - val_loss: 63.4444 - val_mae: 4.9455\n",
      "Epoch 44/200\n",
      "1139/1139 [==============================] - ETA: 0s - loss: 48.9806 - mae: 4.6167\n",
      "Epoch 44: val_mae did not improve from 4.44475\n",
      "1139/1139 [==============================] - 62s 54ms/step - loss: 48.9806 - mae: 4.6167 - val_loss: 52.8721 - val_mae: 4.6152\n",
      "Epoch 45/200\n",
      "1139/1139 [==============================] - ETA: 0s - loss: 49.4104 - mae: 4.6295\n",
      "Epoch 45: val_mae did not improve from 4.44475\n",
      "1139/1139 [==============================] - 63s 56ms/step - loss: 49.4104 - mae: 4.6295 - val_loss: 56.7499 - val_mae: 4.7676\n",
      "Epoch 46/200\n",
      "1139/1139 [==============================] - ETA: 0s - loss: 48.6087 - mae: 4.6041\n",
      "Epoch 46: val_mae did not improve from 4.44475\n",
      "1139/1139 [==============================] - 64s 56ms/step - loss: 48.6087 - mae: 4.6041 - val_loss: 60.7940 - val_mae: 4.9553\n",
      "Epoch 47/200\n",
      "1139/1139 [==============================] - ETA: 0s - loss: 47.8440 - mae: 4.5951\n",
      "Epoch 47: val_mae did not improve from 4.44475\n",
      "1139/1139 [==============================] - 69s 61ms/step - loss: 47.8440 - mae: 4.5951 - val_loss: 59.8627 - val_mae: 4.9060\n",
      "Epoch 48/200\n",
      "1139/1139 [==============================] - ETA: 0s - loss: 48.6272 - mae: 4.6152\n",
      "Epoch 48: val_mae did not improve from 4.44475\n",
      "1139/1139 [==============================] - 63s 55ms/step - loss: 48.6272 - mae: 4.6152 - val_loss: 58.7555 - val_mae: 4.9273\n",
      "Epoch 49/200\n",
      "1139/1139 [==============================] - ETA: 0s - loss: 49.0040 - mae: 4.6115\n",
      "Epoch 49: val_mae did not improve from 4.44475\n",
      "1139/1139 [==============================] - 61s 54ms/step - loss: 49.0040 - mae: 4.6115 - val_loss: 59.8459 - val_mae: 4.9793\n",
      "Epoch 50/200\n",
      "1138/1139 [============================>.] - ETA: 0s - loss: 48.6909 - mae: 4.6037\n",
      "Epoch 50: val_mae did not improve from 4.44475\n",
      "1139/1139 [==============================] - 64s 56ms/step - loss: 48.7000 - mae: 4.6041 - val_loss: 54.9176 - val_mae: 4.7312\n",
      "Epoch 51/200\n",
      "1139/1139 [==============================] - ETA: 0s - loss: 48.1084 - mae: 4.6047\n",
      "Epoch 51: val_mae did not improve from 4.44475\n",
      "1139/1139 [==============================] - 64s 56ms/step - loss: 48.1084 - mae: 4.6047 - val_loss: 56.0179 - val_mae: 4.6510\n",
      "Epoch 52/200\n",
      "1139/1139 [==============================] - ETA: 0s - loss: 48.6686 - mae: 4.6108\n",
      "Epoch 52: val_mae did not improve from 4.44475\n",
      "1139/1139 [==============================] - 64s 56ms/step - loss: 48.6686 - mae: 4.6108 - val_loss: 55.2907 - val_mae: 4.6848\n",
      "Epoch 53/200\n",
      "1139/1139 [==============================] - ETA: 0s - loss: 48.2953 - mae: 4.6029\n",
      "Epoch 53: val_mae did not improve from 4.44475\n",
      "1139/1139 [==============================] - 64s 57ms/step - loss: 48.2953 - mae: 4.6029 - val_loss: 53.4883 - val_mae: 4.5823\n",
      "Epoch 54/200\n",
      "1139/1139 [==============================] - ETA: 0s - loss: 47.7682 - mae: 4.5931\n",
      "Epoch 54: val_mae did not improve from 4.44475\n",
      "1139/1139 [==============================] - 64s 56ms/step - loss: 47.7682 - mae: 4.5931 - val_loss: 62.1078 - val_mae: 5.0318\n",
      "Epoch 55/200\n",
      "1139/1139 [==============================] - ETA: 0s - loss: 48.4733 - mae: 4.6098\n",
      "Epoch 55: val_mae did not improve from 4.44475\n",
      "1139/1139 [==============================] - 62s 54ms/step - loss: 48.4733 - mae: 4.6098 - val_loss: 56.3803 - val_mae: 4.6373\n",
      "Epoch 56/200\n",
      "1139/1139 [==============================] - ETA: 0s - loss: 48.0722 - mae: 4.5933\n",
      "Epoch 56: val_mae did not improve from 4.44475\n",
      "1139/1139 [==============================] - 65s 57ms/step - loss: 48.0722 - mae: 4.5933 - val_loss: 55.6921 - val_mae: 4.6608\n",
      "Epoch 57/200\n",
      "1139/1139 [==============================] - ETA: 0s - loss: 47.7460 - mae: 4.5946\n",
      "Epoch 57: val_mae did not improve from 4.44475\n",
      "1139/1139 [==============================] - 65s 57ms/step - loss: 47.7460 - mae: 4.5946 - val_loss: 61.1796 - val_mae: 4.8516\n",
      "Epoch 58/200\n",
      "1139/1139 [==============================] - ETA: 0s - loss: 48.1341 - mae: 4.6077\n",
      "Epoch 58: val_mae did not improve from 4.44475\n",
      "1139/1139 [==============================] - 65s 57ms/step - loss: 48.1341 - mae: 4.6077 - val_loss: 66.1617 - val_mae: 5.1067\n",
      "Epoch 59/200\n",
      "1139/1139 [==============================] - ETA: 0s - loss: 47.9020 - mae: 4.5986\n",
      "Epoch 59: val_mae did not improve from 4.44475\n",
      "1139/1139 [==============================] - 65s 57ms/step - loss: 47.9020 - mae: 4.5986 - val_loss: 57.1332 - val_mae: 4.7036\n",
      "Epoch 60/200\n",
      "1139/1139 [==============================] - ETA: 0s - loss: 47.2793 - mae: 4.5786\n",
      "Epoch 60: val_mae did not improve from 4.44475\n",
      "1139/1139 [==============================] - 66s 58ms/step - loss: 47.2793 - mae: 4.5786 - val_loss: 56.4178 - val_mae: 4.6503\n",
      "Epoch 61/200\n",
      "1139/1139 [==============================] - ETA: 0s - loss: 48.8378 - mae: 4.6095\n",
      "Epoch 61: val_mae did not improve from 4.44475\n",
      "1139/1139 [==============================] - 64s 56ms/step - loss: 48.8378 - mae: 4.6095 - val_loss: 59.8778 - val_mae: 4.7460\n",
      "Epoch 62/200\n",
      "1139/1139 [==============================] - ETA: 0s - loss: 47.7427 - mae: 4.5929\n",
      "Epoch 62: val_mae did not improve from 4.44475\n",
      "1139/1139 [==============================] - 65s 57ms/step - loss: 47.7427 - mae: 4.5929 - val_loss: 60.2386 - val_mae: 4.8182\n",
      "Epoch 63/200\n",
      "1139/1139 [==============================] - ETA: 0s - loss: 47.9099 - mae: 4.5897\n",
      "Epoch 63: val_mae did not improve from 4.44475\n",
      "1139/1139 [==============================] - 65s 57ms/step - loss: 47.9099 - mae: 4.5897 - val_loss: 53.9681 - val_mae: 4.6357\n",
      "Epoch 64/200\n",
      "1139/1139 [==============================] - ETA: 0s - loss: 47.5053 - mae: 4.5826\n",
      "Epoch 64: val_mae did not improve from 4.44475\n",
      "1139/1139 [==============================] - 64s 56ms/step - loss: 47.5053 - mae: 4.5826 - val_loss: 65.4607 - val_mae: 4.9599\n"
     ]
    }
   ],
   "source": [
    "history = model.fit(train_generator, validation_data=val_generator, epochs=200, verbose=1, callbacks = callbacks_list)"
   ]
  },
  {
   "cell_type": "code",
   "execution_count": 8,
   "id": "dfe83ff5-92f3-4168-8506-c11033d5ea69",
   "metadata": {},
   "outputs": [],
   "source": [
    "model = keras.models.load_model('2h_dopredu200+BZ.hdf5')"
   ]
  },
  {
   "cell_type": "code",
   "execution_count": 9,
   "id": "f052fbef-fa70-4985-b17b-fc51d34b394d",
   "metadata": {},
   "outputs": [
    {
     "name": "stdout",
     "output_type": "stream",
     "text": [
      "633/633 [==============================] - 12s 18ms/step\n"
     ]
    }
   ],
   "source": [
    "y_pred = model.predict(test_generator)"
   ]
  },
  {
   "cell_type": "code",
   "execution_count": 10,
   "id": "a1d961ea-9048-4173-9bde-95395ec80b7d",
   "metadata": {},
   "outputs": [
    {
     "name": "stdout",
     "output_type": "stream",
     "text": [
      "224/224 [==============================] - 5s 21ms/step\n",
      "Best Threshold for MCC on Validation Set: -19.29999999999997\n",
      "Best MCC on Validation Set: 0.8395657348861375\n",
      "-19.3\n"
     ]
    }
   ],
   "source": [
    "# Assuming you have already trained your model and have the validation generator ready\n",
    "y_val_pred = model.predict(val_generator)\n",
    "\n",
    "# Convert the continuous output into binary labels based on the threshold criteria\n",
    "true_labels_val = np.where(y_val[n_input:] <= -20, 1, 0)  # Adjust n_input as per your setup\n",
    "\n",
    "# Function to calculate MCC\n",
    "def calculate_mcc(y_true, y_pred):\n",
    "    return matthews_corrcoef(y_true, y_pred)\n",
    "\n",
    "# Evaluating thresholds on the validation set\n",
    "thresholds = np.arange(-10, -40, -0.1)\n",
    "mcc_scores = []\n",
    "\n",
    "for thresh in thresholds:\n",
    "    # Convert model output to binary predictions based on the threshold\n",
    "    predictions = np.where(y_val_pred <= thresh, 1, 0)\n",
    "    mcc = calculate_mcc(true_labels_val, predictions)\n",
    "    mcc_scores.append(mcc)\n",
    "\n",
    "# Find the best threshold based on MCC\n",
    "best_threshold_mcc = thresholds[np.argmax(mcc_scores)]\n",
    "best_mcc = max(mcc_scores)\n",
    "\n",
    "print(\"Best Threshold for MCC on Validation Set:\", best_threshold_mcc)\n",
    "print(\"Best MCC on Validation Set:\", best_mcc)\n",
    "best_threshold_mcc_rounded = round(best_threshold_mcc, 1)\n",
    "print(best_threshold_mcc_rounded)"
   ]
  },
  {
   "cell_type": "code",
   "execution_count": 11,
   "id": "acc91932-1931-4c78-839e-d586e3699cba",
   "metadata": {},
   "outputs": [
    {
     "name": "stdout",
     "output_type": "stream",
     "text": [
      "Mean Squared Error: 86.64352623342175\n"
     ]
    }
   ],
   "source": [
    "from sklearn.metrics import mean_squared_error\n",
    "mse = mean_squared_error(y_test[:-6], y_pred.reshape(-1))\n",
    "print(f\"Mean Squared Error: {mse}\")"
   ]
  },
  {
   "cell_type": "code",
   "execution_count": 12,
   "id": "59ddd127-36de-4559-9415-d19ecad1fca3",
   "metadata": {},
   "outputs": [
    {
     "name": "stdout",
     "output_type": "stream",
     "text": [
      "Confusion matrix: \n",
      "[[126144   3842]\n",
      " [  5583  26461]]\n"
     ]
    }
   ],
   "source": [
    "y_pred2 = np.where(y_pred <= best_threshold_mcc_rounded, 1, 0)\n",
    "# [n_input:] because prediction starts from n-th row\n",
    "y_test2 = np.where(y_test[n_input:]  <= -20, 1, 0)\n",
    "\n",
    "cm = confusion_matrix(y_test2, y_pred2)\n",
    "print(\"Confusion matrix: \\n\" + str(cm))"
   ]
  },
  {
   "cell_type": "code",
   "execution_count": 13,
   "id": "3ca4f141-1fc5-4fe0-9678-7ad516f2c455",
   "metadata": {},
   "outputs": [
    {
     "name": "stdout",
     "output_type": "stream",
     "text": [
      "              precision    recall  f1-score   support\n",
      "\n",
      "           0       0.96      0.97      0.96    129986\n",
      "           1       0.87      0.83      0.85     32044\n",
      "\n",
      "    accuracy                           0.94    162030\n",
      "   macro avg       0.92      0.90      0.91    162030\n",
      "weighted avg       0.94      0.94      0.94    162030\n",
      "\n"
     ]
    }
   ],
   "source": [
    "print(classification_report(y_test2, y_pred2))\n"
   ]
  },
  {
   "cell_type": "code",
   "execution_count": 14,
   "id": "f877a95e-0666-4e2d-bc78-cc7279b433c0",
   "metadata": {},
   "outputs": [
    {
     "data": {
      "image/png": "[encoded data removed]",
      "text/plain": [
       "<Figure size 640x480 with 1 Axes>"
      ]
     },
     "metadata": {},
     "output_type": "display_data"
    }
   ],
   "source": [
    "df = pd.DataFrame(data={\"time\": test['time1'][n_input:],\"y_true\": y_test[n_input:].reshape(-1) , \"y_predict\": y_pred.reshape(-1)})\n",
    "\n",
    "plt.figure()\n",
    "plt.title('Predicting the change in DST Index')\n",
    "plt.plot(df['time'],df['y_true'], label='Skutočné hodnoty')\n",
    "plt.plot(df['time'],df['y_predict'], label='Predikované hodnoty')\n",
    "plt.legend()\n",
    "plt.gcf().autofmt_xdate()\n",
    "plt.grid(True)"
   ]
  },
  {
   "cell_type": "code",
   "execution_count": 15,
   "id": "98657265-b796-44e8-96ed-a56a92cc00e7",
   "metadata": {},
   "outputs": [],
   "source": [
    "df.to_csv('2h_dopredu+200+BZ.csv')"
   ]
  },
  {
   "cell_type": "code",
   "execution_count": 16,
   "id": "dca3ee40-11a3-4dcc-afb4-fd3eaceb09a6",
   "metadata": {},
   "outputs": [
    {
     "name": "stdout",
     "output_type": "stream",
     "text": [
      "ACC=0.9418317595507005\n",
      "MCC=0.8133381258814317\n"
     ]
    }
   ],
   "source": [
    "TN, FP, FN, TP = cm.ravel()\n",
    "ACC = (TP + TN) / (TP + TN + FP + FN)\n",
    "MCC = matthews_corrcoef(y_test2, y_pred2)\n",
    "print(\"ACC={}\".format(ACC))\n",
    "print(\"MCC={}\".format(MCC))"
   ]
  },
  {
   "cell_type": "code",
   "execution_count": null,
   "id": "1dfdf5e8-e6e4-46b6-baea-9146a0ef1a65",
   "metadata": {},
   "outputs": [],
   "source": []
  }
 ],
 "metadata": {
  "kernelspec": {
   "display_name": "Python 3 (ipykernel)",
   "language": "python",
   "name": "python3"
  },
  "language_info": {
   "codemirror_mode": {
    "name": "ipython",
    "version": 3
   },
   "file_extension": ".py",
   "mimetype": "text/x-python",
   "name": "python",
   "nbconvert_exporter": "python",
   "pygments_lexer": "ipython3",
   "version": "3.10.6"
  }
 },
 "nbformat": 4,
 "nbformat_minor": 5
}
