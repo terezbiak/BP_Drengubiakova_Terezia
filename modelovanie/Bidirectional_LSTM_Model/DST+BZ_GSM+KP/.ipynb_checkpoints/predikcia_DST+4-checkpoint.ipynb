{
 "cells": [
  {
   "cell_type": "code",
   "execution_count": 1,
   "id": "89375ba6-e384-4549-a3b5-0b1389851b53",
   "metadata": {},
   "outputs": [
    {
     "name": "stderr",
     "output_type": "stream",
     "text": [
      "2024-05-16 08:30:20.954088: I tensorflow/core/platform/cpu_feature_guard.cc:193] This TensorFlow binary is optimized with oneAPI Deep Neural Network Library (oneDNN) to use the following CPU instructions in performance-critical operations:  SSE4.1 SSE4.2 AVX AVX2 FMA\n",
      "To enable them in other operations, rebuild TensorFlow with the appropriate compiler flags.\n"
     ]
    }
   ],
   "source": [
    "import pandas as pd\n",
    "import numpy as np\n",
    "from tensorflow import keras\n",
    "import matplotlib.pyplot as plt\n",
    "from sklearn.preprocessing import MinMaxScaler, StandardScaler\n",
    "from pandas.plotting import register_matplotlib_converters\n",
    "register_matplotlib_converters()\n",
    "import seaborn as sns\n",
    "\n",
    "from tensorflow.keras.preprocessing.sequence import TimeseriesGenerator\n",
    "from keras.models import Sequential\n",
    "\n",
    "from keras.layers import Dense, Activation, Dropout, Input, Conv1D, LSTM, MaxPooling1D, Flatten, TimeDistributed, Bidirectional\n",
    "from tensorflow.keras.callbacks import ModelCheckpoint, EarlyStopping\n",
    "from keras.models import Model\n",
    "\n",
    "\n",
    "from scipy.special import expit, logit\n",
    "\n",
    "from sklearn.metrics import confusion_matrix, classification_report, matthews_corrcoef"
   ]
  },
  {
   "cell_type": "code",
   "execution_count": 3,
   "id": "bc4a4bce-a26a-4cfa-958d-4cf75fb7da70",
   "metadata": {},
   "outputs": [],
   "source": [
    "train = pd.read_csv('train_omni.csv')\n",
    "test = pd.read_csv('test_omni.csv')\n",
    "train['BZ_GSM'] = train['BZ_GSM'].fillna(train['BZ_GSM'].mean())  # Naplní NaN hodnoty priemerom danej stĺpca\n",
    "test['BZ_GSM'] = test['BZ_GSM'].fillna(test['BZ_GSM'].mean())  \n",
    "features = ['time1',\n",
    "           'DST',\n",
    "            'DST+4', 'BZ_GSM', 'KP']\n",
    "test = test[features]\n",
    "train = train[features]\n",
    "train['time1']=pd.to_datetime(train['time1'])\n",
    "test['time1']=pd.to_datetime(test['time1'])\n",
    "predicted_label = 'DST+4'\n",
    "predicators = [\"DST\", \"BZ_GSM\", \"KP\"]\n",
    "y_col='DST+4'\n",
    "valid_size = int(len(train) * 0.2)\n",
    "valid = train.iloc[-valid_size:,:].copy()\n",
    "train = train.iloc[:-valid_size,:].copy()\n",
    "\n",
    "y_train = train[y_col].values.copy()\n",
    "X_train = train[predicators].values.copy()\n",
    "y_val = valid[y_col].values.copy()\n",
    "X_val = valid[predicators].values.copy()\n",
    "y_test = test[y_col].values.copy()\n",
    "X_test = test[predicators].values.copy()"
   ]
  },
  {
   "cell_type": "code",
   "execution_count": 4,
   "id": "8148d8e8-b4cd-4e3d-b089-6e8108b541d1",
   "metadata": {},
   "outputs": [],
   "source": [
    "n_input = 6  # how many samples/rows/timesteps to look in the past in order to forecast the next sample\n",
    "n_features= len(X_train)  # how many predictors/Xs/features we have to predict y\n",
    "b_size = 256  # Number of timeseries samples in each batch\n",
    "\n",
    "train_generator = TimeseriesGenerator(X_train, y_train, length=n_input, batch_size=b_size)\n",
    "val_generator = TimeseriesGenerator(X_val, y_val, length=n_input, batch_size=b_size)\n",
    "test_generator = TimeseriesGenerator(X_test, y_test, length=n_input, batch_size=256)"
   ]
  },
  {
   "cell_type": "code",
   "execution_count": 5,
   "id": "9c131b87-dd7f-42df-a09b-b3d3ccaf40f5",
   "metadata": {},
   "outputs": [
    {
     "name": "stdout",
     "output_type": "stream",
     "text": [
      "Počet batchov:  896\n",
      "Každý batch má features (X zložku) a labels (y zložku):  2\n",
      "Dĺžka X zložky batchu:  256\n",
      "Dĺžka y zložky batchu (počet meraní v batchi):  256\n",
      "Počet riadkov braných do úvahy pre jedno meranie (koľko sa pozerá dozadu):  6\n"
     ]
    }
   ],
   "source": [
    "print(\"Počet batchov: \", len(train_generator))\n",
    "print(\"Každý batch má features (X zložku) a labels (y zložku): \", len(train_generator[0]))\n",
    "print(\"Dĺžka X zložky batchu: \", len(train_generator[0][0]))\n",
    "print(\"Dĺžka y zložky batchu (počet meraní v batchi): \",len(train_generator[0][1]))\n",
    "print(\"Počet riadkov braných do úvahy pre jedno meranie (koľko sa pozerá dozadu): \", len(train_generator[0][0][0]))"
   ]
  },
  {
   "cell_type": "code",
   "execution_count": 6,
   "id": "31172f6f-50fc-4ec6-ac85-5d083919710d",
   "metadata": {},
   "outputs": [
    {
     "name": "stderr",
     "output_type": "stream",
     "text": [
      "2024-05-16 08:33:06.663860: I tensorflow/core/platform/cpu_feature_guard.cc:193] This TensorFlow binary is optimized with oneAPI Deep Neural Network Library (oneDNN) to use the following CPU instructions in performance-critical operations:  SSE4.1 SSE4.2 AVX AVX2 FMA\n",
      "To enable them in other operations, rebuild TensorFlow with the appropriate compiler flags.\n"
     ]
    },
    {
     "name": "stdout",
     "output_type": "stream",
     "text": [
      "Model: \"model\"\n",
      "_________________________________________________________________\n",
      " Layer (type)                Output Shape              Param #   \n",
      "=================================================================\n",
      " input_1 (InputLayer)        [(None, 6, 3)]            0         \n",
      "                                                                 \n",
      " bidirectional (Bidirectiona  (None, 6, 256)           135168    \n",
      " l)                                                              \n",
      "                                                                 \n",
      " lstm_1 (LSTM)               (None, 6, 128)            197120    \n",
      "                                                                 \n",
      " time_distributed (TimeDistr  (None, 6, 1)             129       \n",
      " ibuted)                                                         \n",
      "                                                                 \n",
      " flatten (Flatten)           (None, 6)                 0         \n",
      "                                                                 \n",
      " dense_1 (Dense)             (None, 1)                 7         \n",
      "                                                                 \n",
      "=================================================================\n",
      "Total params: 332,424\n",
      "Trainable params: 332,424\n",
      "Non-trainable params: 0\n",
      "_________________________________________________________________\n",
      "None\n"
     ]
    }
   ],
   "source": [
    "inputs = Input(shape=(6,3))\n",
    "c = Bidirectional(LSTM(128, return_sequences=True, dropout=0.1,recurrent_dropout=0.1))(inputs)\n",
    "c = LSTM(128, return_sequences=True)(c)\n",
    "c = TimeDistributed(Dense(1, activation='linear'))(c)\n",
    "output = Flatten()(c)\n",
    "output = Dense(1, activation='linear')(output)\n",
    "model = Model(inputs=inputs, outputs=output)\n",
    "model.compile(loss='mse', optimizer='adam', metrics=[\"mae\"])\n",
    "print(model.summary())"
   ]
  },
  {
   "cell_type": "code",
   "execution_count": 7,
   "id": "499fa7b9-37ba-4818-89d2-c3a7292f3085",
   "metadata": {},
   "outputs": [],
   "source": [
    "saved_model = \"4h_dopredu200+BZ+KP.hdf5\"\n",
    "checkpoint = ModelCheckpoint(saved_model, monitor='val_mae', verbose=1, save_best_only=True, mode='min')\n",
    "early = EarlyStopping(monitor=\"val_mae\", mode=\"min\", patience=25)\n",
    "callbacks_list = [checkpoint, early]"
   ]
  },
  {
   "cell_type": "code",
   "execution_count": 7,
   "id": "7431f2fe-f87d-4083-b7ac-9f5a1f0d09cf",
   "metadata": {
    "collapsed": true,
    "jupyter": {
     "outputs_hidden": true
    },
    "tags": []
   },
   "outputs": [
    {
     "name": "stdout",
     "output_type": "stream",
     "text": [
      "Epoch 1/200\n",
      "1139/1139 [==============================] - ETA: 0s - loss: 193.7846 - mae: 7.8921\n",
      "Epoch 1: val_mae improved from inf to 6.95882, saving model to 4h_dopredu200+BZ+KP.hdf5\n",
      "1139/1139 [==============================] - 90s 74ms/step - loss: 193.7846 - mae: 7.8921 - val_loss: 139.8580 - val_mae: 6.9588\n",
      "Epoch 2/200\n",
      "1139/1139 [==============================] - ETA: 0s - loss: 110.6232 - mae: 6.6468\n",
      "Epoch 2: val_mae improved from 6.95882 to 6.53284, saving model to 4h_dopredu200+BZ+KP.hdf5\n",
      "1139/1139 [==============================] - 79s 69ms/step - loss: 110.6232 - mae: 6.6468 - val_loss: 119.4033 - val_mae: 6.5328\n",
      "Epoch 3/200\n",
      "1138/1139 [============================>.] - ETA: 0s - loss: 100.4349 - mae: 6.4679\n",
      "Epoch 3: val_mae improved from 6.53284 to 6.04337, saving model to 4h_dopredu200+BZ+KP.hdf5\n",
      "1139/1139 [==============================] - 73s 64ms/step - loss: 100.4024 - mae: 6.4669 - val_loss: 89.6566 - val_mae: 6.0434\n",
      "Epoch 4/200\n",
      "1139/1139 [==============================] - ETA: 0s - loss: 95.4554 - mae: 6.3560\n",
      "Epoch 4: val_mae did not improve from 6.04337\n",
      "1139/1139 [==============================] - 70s 62ms/step - loss: 95.4554 - mae: 6.3560 - val_loss: 100.9971 - val_mae: 6.3007\n",
      "Epoch 5/200\n",
      "1139/1139 [==============================] - ETA: 0s - loss: 94.1101 - mae: 6.3320\n",
      "Epoch 5: val_mae improved from 6.04337 to 5.65023, saving model to 4h_dopredu200+BZ+KP.hdf5\n",
      "1139/1139 [==============================] - 77s 68ms/step - loss: 94.1101 - mae: 6.3320 - val_loss: 75.2109 - val_mae: 5.6502\n",
      "Epoch 6/200\n",
      "1139/1139 [==============================] - ETA: 0s - loss: 91.8795 - mae: 6.2881\n",
      "Epoch 6: val_mae did not improve from 5.65023\n",
      "1139/1139 [==============================] - 78s 69ms/step - loss: 91.8795 - mae: 6.2881 - val_loss: 94.0529 - val_mae: 6.4597\n",
      "Epoch 7/200\n",
      "1139/1139 [==============================] - ETA: 0s - loss: 89.8775 - mae: 6.2213\n",
      "Epoch 7: val_mae did not improve from 5.65023\n",
      "1139/1139 [==============================] - 72s 63ms/step - loss: 89.8775 - mae: 6.2213 - val_loss: 103.6822 - val_mae: 6.8994\n",
      "Epoch 8/200\n",
      "1139/1139 [==============================] - ETA: 0s - loss: 88.4408 - mae: 6.1817\n",
      "Epoch 8: val_mae did not improve from 5.65023\n",
      "1139/1139 [==============================] - 72s 63ms/step - loss: 88.4408 - mae: 6.1817 - val_loss: 80.2058 - val_mae: 6.0831\n",
      "Epoch 9/200\n",
      "1139/1139 [==============================] - ETA: 0s - loss: 87.7039 - mae: 6.1551\n",
      "Epoch 9: val_mae did not improve from 5.65023\n",
      "1139/1139 [==============================] - 74s 65ms/step - loss: 87.7039 - mae: 6.1551 - val_loss: 75.7615 - val_mae: 5.7082\n",
      "Epoch 10/200\n",
      "1139/1139 [==============================] - ETA: 0s - loss: 88.8256 - mae: 6.1850\n",
      "Epoch 10: val_mae did not improve from 5.65023\n",
      "1139/1139 [==============================] - 79s 69ms/step - loss: 88.8256 - mae: 6.1850 - val_loss: 76.7964 - val_mae: 5.7683\n",
      "Epoch 11/200\n",
      "1139/1139 [==============================] - ETA: 0s - loss: 85.2761 - mae: 6.1078\n",
      "Epoch 11: val_mae improved from 5.65023 to 5.56580, saving model to 4h_dopredu200+BZ+KP.hdf5\n",
      "1139/1139 [==============================] - 73s 64ms/step - loss: 85.2761 - mae: 6.1078 - val_loss: 70.4362 - val_mae: 5.5658\n",
      "Epoch 12/200\n",
      "1139/1139 [==============================] - ETA: 0s - loss: 85.1637 - mae: 6.1022\n",
      "Epoch 12: val_mae did not improve from 5.56580\n",
      "1139/1139 [==============================] - 75s 66ms/step - loss: 85.1637 - mae: 6.1022 - val_loss: 76.5495 - val_mae: 5.6610\n",
      "Epoch 13/200\n",
      "1139/1139 [==============================] - ETA: 0s - loss: 84.9657 - mae: 6.1023\n",
      "Epoch 13: val_mae did not improve from 5.56580\n",
      "1139/1139 [==============================] - 73s 64ms/step - loss: 84.9657 - mae: 6.1023 - val_loss: 73.5194 - val_mae: 5.5771\n",
      "Epoch 14/200\n",
      "1139/1139 [==============================] - ETA: 0s - loss: 84.3401 - mae: 6.0815\n",
      "Epoch 14: val_mae did not improve from 5.56580\n",
      "1139/1139 [==============================] - 75s 66ms/step - loss: 84.3401 - mae: 6.0815 - val_loss: 84.6068 - val_mae: 6.0232\n",
      "Epoch 15/200\n",
      "1139/1139 [==============================] - ETA: 0s - loss: 83.3036 - mae: 6.0598\n",
      "Epoch 15: val_mae did not improve from 5.56580\n",
      "1139/1139 [==============================] - 72s 64ms/step - loss: 83.3036 - mae: 6.0598 - val_loss: 81.5028 - val_mae: 6.0115\n",
      "Epoch 16/200\n",
      "1139/1139 [==============================] - ETA: 0s - loss: 83.5683 - mae: 6.0670\n",
      "Epoch 16: val_mae improved from 5.56580 to 5.56424, saving model to 4h_dopredu200+BZ+KP.hdf5\n",
      "1139/1139 [==============================] - 74s 65ms/step - loss: 83.5683 - mae: 6.0670 - val_loss: 69.7538 - val_mae: 5.5642\n",
      "Epoch 17/200\n",
      "1139/1139 [==============================] - ETA: 0s - loss: 84.1053 - mae: 6.0902\n",
      "Epoch 17: val_mae did not improve from 5.56424\n",
      "1139/1139 [==============================] - 76s 67ms/step - loss: 84.1053 - mae: 6.0902 - val_loss: 75.7199 - val_mae: 5.8477\n",
      "Epoch 18/200\n",
      "1139/1139 [==============================] - ETA: 0s - loss: 83.1368 - mae: 6.0474\n",
      "Epoch 18: val_mae did not improve from 5.56424\n",
      "1139/1139 [==============================] - 73s 64ms/step - loss: 83.1368 - mae: 6.0474 - val_loss: 74.3281 - val_mae: 5.9098\n",
      "Epoch 19/200\n",
      "1139/1139 [==============================] - ETA: 0s - loss: 82.2833 - mae: 6.0341\n",
      "Epoch 19: val_mae did not improve from 5.56424\n",
      "1139/1139 [==============================] - 75s 66ms/step - loss: 82.2833 - mae: 6.0341 - val_loss: 73.1065 - val_mae: 5.6312\n",
      "Epoch 20/200\n",
      "1139/1139 [==============================] - ETA: 0s - loss: 81.3649 - mae: 6.0257\n",
      "Epoch 20: val_mae did not improve from 5.56424\n",
      "1139/1139 [==============================] - 72s 63ms/step - loss: 81.3649 - mae: 6.0257 - val_loss: 76.8133 - val_mae: 5.8121\n",
      "Epoch 21/200\n",
      "1139/1139 [==============================] - ETA: 0s - loss: 81.5502 - mae: 6.0235\n",
      "Epoch 21: val_mae did not improve from 5.56424\n",
      "1139/1139 [==============================] - 80s 70ms/step - loss: 81.5502 - mae: 6.0235 - val_loss: 83.2441 - val_mae: 6.1107\n",
      "Epoch 22/200\n",
      "1139/1139 [==============================] - ETA: 0s - loss: 80.5535 - mae: 5.9846\n",
      "Epoch 22: val_mae did not improve from 5.56424\n",
      "1139/1139 [==============================] - 74s 65ms/step - loss: 80.5535 - mae: 5.9846 - val_loss: 72.8278 - val_mae: 5.6479\n",
      "Epoch 23/200\n",
      "1139/1139 [==============================] - ETA: 0s - loss: 80.8404 - mae: 6.0028\n",
      "Epoch 23: val_mae did not improve from 5.56424\n",
      "1139/1139 [==============================] - 75s 66ms/step - loss: 80.8404 - mae: 6.0028 - val_loss: 71.8909 - val_mae: 5.5745\n",
      "Epoch 24/200\n",
      "1139/1139 [==============================] - ETA: 0s - loss: 79.5828 - mae: 5.9825\n",
      "Epoch 24: val_mae did not improve from 5.56424\n",
      "1139/1139 [==============================] - 74s 65ms/step - loss: 79.5828 - mae: 5.9825 - val_loss: 84.6347 - val_mae: 6.0946\n",
      "Epoch 25/200\n",
      "1139/1139 [==============================] - ETA: 0s - loss: 80.2871 - mae: 5.9935\n",
      "Epoch 25: val_mae improved from 5.56424 to 5.55109, saving model to 4h_dopredu200+BZ+KP.hdf5\n",
      "1139/1139 [==============================] - 75s 66ms/step - loss: 80.2871 - mae: 5.9935 - val_loss: 70.6369 - val_mae: 5.5511\n",
      "Epoch 26/200\n",
      "1139/1139 [==============================] - ETA: 0s - loss: 80.5924 - mae: 5.9901\n",
      "Epoch 26: val_mae did not improve from 5.55109\n",
      "1139/1139 [==============================] - 75s 66ms/step - loss: 80.5924 - mae: 5.9901 - val_loss: 74.7878 - val_mae: 5.8852\n",
      "Epoch 27/200\n",
      "1139/1139 [==============================] - ETA: 0s - loss: 79.8036 - mae: 5.9778\n",
      "Epoch 27: val_mae did not improve from 5.55109\n",
      "1139/1139 [==============================] - 79s 69ms/step - loss: 79.8036 - mae: 5.9778 - val_loss: 72.1671 - val_mae: 5.6511\n",
      "Epoch 28/200\n",
      "1139/1139 [==============================] - ETA: 0s - loss: 80.2786 - mae: 5.9770\n",
      "Epoch 28: val_mae did not improve from 5.55109\n",
      "1139/1139 [==============================] - 72s 64ms/step - loss: 80.2786 - mae: 5.9770 - val_loss: 70.9984 - val_mae: 5.7417\n",
      "Epoch 29/200\n",
      "1139/1139 [==============================] - ETA: 0s - loss: 79.0667 - mae: 5.9667\n",
      "Epoch 29: val_mae did not improve from 5.55109\n",
      "1139/1139 [==============================] - 75s 66ms/step - loss: 79.0667 - mae: 5.9667 - val_loss: 74.7774 - val_mae: 5.7347\n",
      "Epoch 30/200\n",
      "1139/1139 [==============================] - ETA: 0s - loss: 78.9275 - mae: 5.9599\n",
      "Epoch 30: val_mae did not improve from 5.55109\n",
      "1139/1139 [==============================] - 76s 67ms/step - loss: 78.9275 - mae: 5.9599 - val_loss: 77.4231 - val_mae: 5.8983\n",
      "Epoch 31/200\n",
      "1138/1139 [============================>.] - ETA: 0s - loss: 79.5240 - mae: 5.9737\n",
      "Epoch 31: val_mae did not improve from 5.55109\n",
      "1139/1139 [==============================] - 75s 66ms/step - loss: 79.5046 - mae: 5.9737 - val_loss: 71.1892 - val_mae: 5.8355\n",
      "Epoch 32/200\n",
      "1139/1139 [==============================] - ETA: 0s - loss: 79.6728 - mae: 5.9749\n",
      "Epoch 32: val_mae improved from 5.55109 to 5.46044, saving model to 4h_dopredu200+BZ+KP.hdf5\n",
      "1139/1139 [==============================] - 75s 66ms/step - loss: 79.6728 - mae: 5.9749 - val_loss: 68.4485 - val_mae: 5.4604\n",
      "Epoch 33/200\n",
      "1139/1139 [==============================] - ETA: 0s - loss: 78.4889 - mae: 5.9456\n",
      "Epoch 33: val_mae did not improve from 5.46044\n",
      "1139/1139 [==============================] - 75s 66ms/step - loss: 78.4889 - mae: 5.9456 - val_loss: 82.5739 - val_mae: 6.1342\n",
      "Epoch 34/200\n",
      "1139/1139 [==============================] - ETA: 0s - loss: 78.7417 - mae: 5.9696\n",
      "Epoch 34: val_mae did not improve from 5.46044\n",
      "1139/1139 [==============================] - 77s 68ms/step - loss: 78.7417 - mae: 5.9696 - val_loss: 75.8416 - val_mae: 5.8854\n",
      "Epoch 35/200\n",
      "1139/1139 [==============================] - ETA: 0s - loss: 78.6696 - mae: 5.9485\n",
      "Epoch 35: val_mae did not improve from 5.46044\n",
      "1139/1139 [==============================] - 75s 66ms/step - loss: 78.6696 - mae: 5.9485 - val_loss: 74.0215 - val_mae: 5.7538\n",
      "Epoch 36/200\n",
      "1139/1139 [==============================] - ETA: 0s - loss: 77.7413 - mae: 5.9272\n",
      "Epoch 36: val_mae did not improve from 5.46044\n",
      "1139/1139 [==============================] - 75s 66ms/step - loss: 77.7413 - mae: 5.9272 - val_loss: 80.7903 - val_mae: 5.9784\n",
      "Epoch 37/200\n",
      "1139/1139 [==============================] - ETA: 0s - loss: 77.5019 - mae: 5.9256\n",
      "Epoch 37: val_mae did not improve from 5.46044\n",
      "1139/1139 [==============================] - 74s 65ms/step - loss: 77.5019 - mae: 5.9256 - val_loss: 87.7969 - val_mae: 6.3134\n",
      "Epoch 38/200\n",
      "1139/1139 [==============================] - ETA: 0s - loss: 79.2604 - mae: 5.9634\n",
      "Epoch 38: val_mae did not improve from 5.46044\n",
      "1139/1139 [==============================] - 75s 66ms/step - loss: 79.2604 - mae: 5.9634 - val_loss: 73.7745 - val_mae: 5.7892\n",
      "Epoch 39/200\n",
      "1138/1139 [============================>.] - ETA: 0s - loss: 77.2316 - mae: 5.9265\n",
      "Epoch 39: val_mae did not improve from 5.46044\n",
      "1139/1139 [==============================] - 72s 63ms/step - loss: 77.2165 - mae: 5.9262 - val_loss: 83.7468 - val_mae: 6.1896\n",
      "Epoch 40/200\n",
      "1139/1139 [==============================] - ETA: 0s - loss: 79.4922 - mae: 5.9491\n",
      "Epoch 40: val_mae did not improve from 5.46044\n",
      "1139/1139 [==============================] - 74s 65ms/step - loss: 79.4922 - mae: 5.9491 - val_loss: 74.6733 - val_mae: 5.7974\n",
      "Epoch 41/200\n",
      "1139/1139 [==============================] - ETA: 0s - loss: 76.3272 - mae: 5.9003\n",
      "Epoch 41: val_mae did not improve from 5.46044\n",
      "1139/1139 [==============================] - 74s 65ms/step - loss: 76.3272 - mae: 5.9003 - val_loss: 74.6474 - val_mae: 5.8874\n",
      "Epoch 42/200\n",
      "1139/1139 [==============================] - ETA: 0s - loss: 77.9653 - mae: 5.9249\n",
      "Epoch 42: val_mae did not improve from 5.46044\n",
      "1139/1139 [==============================] - 76s 67ms/step - loss: 77.9653 - mae: 5.9249 - val_loss: 75.2918 - val_mae: 5.6723\n",
      "Epoch 43/200\n",
      "1139/1139 [==============================] - ETA: 0s - loss: 76.7618 - mae: 5.9155\n",
      "Epoch 43: val_mae did not improve from 5.46044\n",
      "1139/1139 [==============================] - 74s 65ms/step - loss: 76.7618 - mae: 5.9155 - val_loss: 72.3107 - val_mae: 5.7150\n",
      "Epoch 44/200\n",
      "1139/1139 [==============================] - ETA: 0s - loss: 76.7923 - mae: 5.9158\n",
      "Epoch 44: val_mae did not improve from 5.46044\n",
      "1139/1139 [==============================] - 75s 66ms/step - loss: 76.7923 - mae: 5.9158 - val_loss: 69.0188 - val_mae: 5.5534\n",
      "Epoch 45/200\n",
      "1139/1139 [==============================] - ETA: 0s - loss: 77.5477 - mae: 5.9292\n",
      "Epoch 45: val_mae did not improve from 5.46044\n",
      "1139/1139 [==============================] - 75s 66ms/step - loss: 77.5477 - mae: 5.9292 - val_loss: 72.1276 - val_mae: 5.7159\n",
      "Epoch 46/200\n",
      "1139/1139 [==============================] - ETA: 0s - loss: 76.4191 - mae: 5.9008\n",
      "Epoch 46: val_mae did not improve from 5.46044\n",
      "1139/1139 [==============================] - 74s 65ms/step - loss: 76.4191 - mae: 5.9008 - val_loss: 83.9966 - val_mae: 6.0596\n",
      "Epoch 47/200\n",
      "1139/1139 [==============================] - ETA: 0s - loss: 77.0092 - mae: 5.9140\n",
      "Epoch 47: val_mae did not improve from 5.46044\n",
      "1139/1139 [==============================] - 75s 66ms/step - loss: 77.0092 - mae: 5.9140 - val_loss: 82.8815 - val_mae: 5.7675\n",
      "Epoch 48/200\n",
      "1139/1139 [==============================] - ETA: 0s - loss: 75.8123 - mae: 5.8975\n",
      "Epoch 48: val_mae did not improve from 5.46044\n",
      "1139/1139 [==============================] - 74s 65ms/step - loss: 75.8123 - mae: 5.8975 - val_loss: 79.6669 - val_mae: 5.8088\n",
      "Epoch 49/200\n",
      "1139/1139 [==============================] - ETA: 0s - loss: 76.2744 - mae: 5.9021\n",
      "Epoch 49: val_mae did not improve from 5.46044\n",
      "1139/1139 [==============================] - 77s 68ms/step - loss: 76.2744 - mae: 5.9021 - val_loss: 82.6271 - val_mae: 5.8340\n",
      "Epoch 50/200\n",
      "1139/1139 [==============================] - ETA: 0s - loss: 75.4197 - mae: 5.8853\n",
      "Epoch 50: val_mae did not improve from 5.46044\n",
      "1139/1139 [==============================] - 75s 66ms/step - loss: 75.4197 - mae: 5.8853 - val_loss: 79.8795 - val_mae: 5.8730\n",
      "Epoch 51/200\n",
      "1139/1139 [==============================] - ETA: 0s - loss: 75.8690 - mae: 5.8891\n",
      "Epoch 51: val_mae did not improve from 5.46044\n",
      "1139/1139 [==============================] - 80s 70ms/step - loss: 75.8690 - mae: 5.8891 - val_loss: 81.3066 - val_mae: 6.0127\n",
      "Epoch 52/200\n",
      "1139/1139 [==============================] - ETA: 0s - loss: 75.5276 - mae: 5.8926\n",
      "Epoch 52: val_mae did not improve from 5.46044\n",
      "1139/1139 [==============================] - 76s 67ms/step - loss: 75.5276 - mae: 5.8926 - val_loss: 74.6368 - val_mae: 5.7503\n",
      "Epoch 53/200\n",
      "1139/1139 [==============================] - ETA: 0s - loss: 75.9763 - mae: 5.8893\n",
      "Epoch 53: val_mae did not improve from 5.46044\n",
      "1139/1139 [==============================] - 76s 67ms/step - loss: 75.9763 - mae: 5.8893 - val_loss: 86.3001 - val_mae: 6.1440\n",
      "Epoch 54/200\n",
      "1139/1139 [==============================] - ETA: 0s - loss: 75.2481 - mae: 5.8780\n",
      "Epoch 54: val_mae did not improve from 5.46044\n",
      "1139/1139 [==============================] - 76s 67ms/step - loss: 75.2481 - mae: 5.8780 - val_loss: 76.7610 - val_mae: 5.7143\n",
      "Epoch 55/200\n",
      "1138/1139 [============================>.] - ETA: 0s - loss: 75.5470 - mae: 5.8886\n",
      "Epoch 55: val_mae did not improve from 5.46044\n",
      "1139/1139 [==============================] - 74s 65ms/step - loss: 75.5607 - mae: 5.8899 - val_loss: 83.0524 - val_mae: 6.3405\n",
      "Epoch 56/200\n",
      "1139/1139 [==============================] - ETA: 0s - loss: 76.1011 - mae: 5.9028\n",
      "Epoch 56: val_mae did not improve from 5.46044\n",
      "1139/1139 [==============================] - 71s 62ms/step - loss: 76.1011 - mae: 5.9028 - val_loss: 75.7234 - val_mae: 5.6451\n",
      "Epoch 57/200\n",
      "1138/1139 [============================>.] - ETA: 0s - loss: 75.2952 - mae: 5.8735\n",
      "Epoch 57: val_mae did not improve from 5.46044\n",
      "1139/1139 [==============================] - 68s 60ms/step - loss: 75.2938 - mae: 5.8739 - val_loss: 71.0390 - val_mae: 5.6260\n"
     ]
    }
   ],
   "source": [
    "history = model.fit(train_generator, validation_data=val_generator, epochs=200, verbose=1, callbacks = callbacks_list)"
   ]
  },
  {
   "cell_type": "code",
   "execution_count": 8,
   "id": "95e3acdd-cdc7-4f8c-8d39-c76eb4f14c19",
   "metadata": {},
   "outputs": [],
   "source": [
    "model = keras.models.load_model('4h_dopredu200+BZ+KP.hdf5')"
   ]
  },
  {
   "cell_type": "code",
   "execution_count": 9,
   "id": "f4897c48-8811-4bb2-938c-687f98ba1bc5",
   "metadata": {},
   "outputs": [
    {
     "name": "stdout",
     "output_type": "stream",
     "text": [
      "633/633 [==============================] - 13s 20ms/step\n"
     ]
    }
   ],
   "source": [
    "y_pred = model.predict(test_generator)"
   ]
  },
  {
   "cell_type": "code",
   "execution_count": 10,
   "id": "c19dee18-2407-4dfb-955d-91c207aced00",
   "metadata": {},
   "outputs": [
    {
     "name": "stdout",
     "output_type": "stream",
     "text": [
      "Mean Squared Error: 57.006635591834595\n"
     ]
    }
   ],
   "source": [
    "from sklearn.metrics import mean_squared_error\n",
    "mse = mean_squared_error(y_test[:-n_input], y_pred.reshape(-1))\n",
    "print(f\"Mean Squared Error: {mse}\")"
   ]
  },
  {
   "cell_type": "code",
   "execution_count": 11,
   "id": "6ce53680-f23f-4f1d-aa16-86a5b5621f4c",
   "metadata": {},
   "outputs": [
    {
     "name": "stdout",
     "output_type": "stream",
     "text": [
      "224/224 [==============================] - 5s 20ms/step\n",
      "-19.7\n",
      "Confusion matrix: \n",
      "[[122839   7149]\n",
      " [  8886  23156]]\n"
     ]
    }
   ],
   "source": [
    "# Assuming you have already trained your model and have the validation generator ready\n",
    "y_val_pred = model.predict(val_generator)\n",
    "\n",
    "# Convert the continuous output into binary labels based on the threshold criteria\n",
    "true_labels_val = np.where(y_val[n_input:] <= -20, 1, 0)  # Adjust n_input as per your setup\n",
    "\n",
    "# Function to calculate MCC\n",
    "def calculate_mcc(y_true, y_pred):\n",
    "    return matthews_corrcoef(y_true, y_pred)\n",
    "\n",
    "# Evaluating thresholds on the validation set\n",
    "thresholds = np.arange(-10, -40, -0.1)\n",
    "mcc_scores = []\n",
    "\n",
    "for thresh in thresholds:\n",
    "    # Convert model output to binary predictions based on the threshold\n",
    "    predictions = np.where(y_val_pred <= thresh, 1, 0)\n",
    "    mcc = calculate_mcc(true_labels_val, predictions)\n",
    "    mcc_scores.append(mcc)\n",
    "\n",
    "# Find the best threshold based on MCC\n",
    "best_threshold_mcc = thresholds[np.argmax(mcc_scores)]\n",
    "best_mcc = max(mcc_scores)\n",
    "\n",
    "best_threshold_mcc_rounded = round(best_threshold_mcc, 1)\n",
    "print(best_threshold_mcc_rounded)\n",
    "y_pred2 = np.where(y_pred <= best_threshold_mcc_rounded, 1, 0)\n",
    "# [n_input:] because prediction starts from n-th row\n",
    "y_test2 = np.where(y_test[n_input:]  <= -20, 1, 0)\n",
    "\n",
    "cm = confusion_matrix(y_test2, y_pred2)\n",
    "print(\"Confusion matrix: \\n\" + str(cm))"
   ]
  },
  {
   "cell_type": "code",
   "execution_count": 12,
   "id": "f3194424-faad-4416-9858-beb74d48931e",
   "metadata": {},
   "outputs": [
    {
     "name": "stdout",
     "output_type": "stream",
     "text": [
      "              precision    recall  f1-score   support\n",
      "\n",
      "           0       0.93      0.95      0.94    129988\n",
      "           1       0.76      0.72      0.74     32042\n",
      "\n",
      "    accuracy                           0.90    162030\n",
      "   macro avg       0.85      0.83      0.84    162030\n",
      "weighted avg       0.90      0.90      0.90    162030\n",
      "\n"
     ]
    }
   ],
   "source": [
    "print(classification_report(y_test2, y_pred2))\n"
   ]
  },
  {
   "cell_type": "code",
   "execution_count": 13,
   "id": "22644397-1c18-4047-9637-48194ca86c88",
   "metadata": {},
   "outputs": [
    {
     "data": {
      "image/png": "[encoded data removed]",
      "text/plain": [
       "<Figure size 640x480 with 1 Axes>"
      ]
     },
     "metadata": {},
     "output_type": "display_data"
    }
   ],
   "source": [
    "df = pd.DataFrame(data={\"time\": test['time1'][n_input:],\"y_true\": y_test[n_input:].reshape(-1) , \"y_predict\": y_pred.reshape(-1)})\n",
    "\n",
    "plt.figure()\n",
    "plt.title('Predicting the change in DST Index')\n",
    "plt.plot(df['time'],df['y_true'], label='Skutočné hodnoty')\n",
    "plt.plot(df['time'],df['y_predict'], label='Predikované hodnoty')\n",
    "plt.legend()\n",
    "plt.gcf().autofmt_xdate()\n",
    "plt.grid(True)"
   ]
  },
  {
   "cell_type": "code",
   "execution_count": 14,
   "id": "1e791017-d97d-437a-84c0-5549bfeca915",
   "metadata": {},
   "outputs": [],
   "source": [
    "df.to_csv('4h_dopredu+200+BZ+KP.csv')"
   ]
  },
  {
   "cell_type": "code",
   "execution_count": 15,
   "id": "819927f3-7315-4c28-9e5b-6ef50ed7d10a",
   "metadata": {},
   "outputs": [
    {
     "name": "stdout",
     "output_type": "stream",
     "text": [
      "ACC=0.9010368450286984\n",
      "MCC=0.6820056536403754\n"
     ]
    }
   ],
   "source": [
    "TN, FP, FN, TP = cm.ravel()\n",
    "ACC = (TP + TN) / (TP + TN + FP + FN)\n",
    "MCC = matthews_corrcoef(y_test2, y_pred2)\n",
    "print(\"ACC={}\".format(ACC))\n",
    "print(\"MCC={}\".format(MCC))"
   ]
  },
  {
   "cell_type": "code",
   "execution_count": null,
   "id": "a85f177e-c3ae-4aa8-8a95-c6cbc1022799",
   "metadata": {},
   "outputs": [],
   "source": []
  }
 ],
 "metadata": {
  "kernelspec": {
   "display_name": "Python 3 (ipykernel)",
   "language": "python",
   "name": "python3"
  },
  "language_info": {
   "codemirror_mode": {
    "name": "ipython",
    "version": 3
   },
   "file_extension": ".py",
   "mimetype": "text/x-python",
   "name": "python",
   "nbconvert_exporter": "python",
   "pygments_lexer": "ipython3",
   "version": "3.10.6"
  }
 },
 "nbformat": 4,
 "nbformat_minor": 5
}
