{
 "cells": [
  {
   "cell_type": "code",
   "execution_count": 1,
   "id": "5de6ff54-6d93-44d9-b962-793c72fe29cb",
   "metadata": {},
   "outputs": [
    {
     "name": "stderr",
     "output_type": "stream",
     "text": [
      "2024-05-16 08:30:28.790683: I tensorflow/core/platform/cpu_feature_guard.cc:193] This TensorFlow binary is optimized with oneAPI Deep Neural Network Library (oneDNN) to use the following CPU instructions in performance-critical operations:  SSE4.1 SSE4.2 AVX AVX2 FMA\n",
      "To enable them in other operations, rebuild TensorFlow with the appropriate compiler flags.\n"
     ]
    }
   ],
   "source": [
    "import pandas as pd\n",
    "import numpy as np\n",
    "from tensorflow import keras\n",
    "import matplotlib.pyplot as plt\n",
    "from sklearn.preprocessing import MinMaxScaler, StandardScaler\n",
    "from pandas.plotting import register_matplotlib_converters\n",
    "register_matplotlib_converters()\n",
    "import seaborn as sns\n",
    "\n",
    "from tensorflow.keras.preprocessing.sequence import TimeseriesGenerator\n",
    "from keras.models import Sequential\n",
    "\n",
    "from keras.layers import Dense, Activation, Dropout, Input, Conv1D, LSTM, MaxPooling1D, Flatten, TimeDistributed, Bidirectional\n",
    "from tensorflow.keras.callbacks import ModelCheckpoint, EarlyStopping\n",
    "from keras.models import Model\n",
    "\n",
    "\n",
    "from scipy.special import expit, logit\n",
    "\n",
    "from sklearn.metrics import confusion_matrix, classification_report, matthews_corrcoef"
   ]
  },
  {
   "cell_type": "code",
   "execution_count": 3,
   "id": "f783db96-b45a-4f6c-9da4-7a85de6fb5b4",
   "metadata": {},
   "outputs": [],
   "source": [
    "train = pd.read_csv('train_omni.csv')\n",
    "test = pd.read_csv('test_omni.csv')\n",
    "train['BZ_GSM'] = train['BZ_GSM'].fillna(train['BZ_GSM'].mean())  # Naplní NaN hodnoty priemerom danej stĺpca\n",
    "test['BZ_GSM'] = test['BZ_GSM'].fillna(test['BZ_GSM'].mean())  \n",
    "features = ['time1',\n",
    "           'DST',\n",
    "            'DST+5', 'BZ_GSM', 'KP']\n",
    "test = test[features]\n",
    "train = train[features]\n",
    "train['time1']=pd.to_datetime(train['time1'])\n",
    "test['time1']=pd.to_datetime(test['time1'])\n",
    "predicted_label = 'DST+5'\n",
    "predicators = [\"DST\", \"BZ_GSM\", \"KP\"]\n",
    "y_col='DST+5'\n",
    "valid_size = int(len(train) * 0.2)\n",
    "valid = train.iloc[-valid_size:,:].copy()\n",
    "train = train.iloc[:-valid_size,:].copy()\n",
    "\n",
    "y_train = train[y_col].values.copy()\n",
    "X_train = train[predicators].values.copy()\n",
    "y_val = valid[y_col].values.copy()\n",
    "X_val = valid[predicators].values.copy()\n",
    "y_test = test[y_col].values.copy()\n",
    "X_test = test[predicators].values.copy()"
   ]
  },
  {
   "cell_type": "code",
   "execution_count": 4,
   "id": "21dc3709-f122-4b33-acc8-340cb9eaafe4",
   "metadata": {},
   "outputs": [],
   "source": [
    "n_input = 6  # how many samples/rows/timesteps to look in the past in order to forecast the next sample\n",
    "n_features= len(X_train)  # how many predictors/Xs/features we have to predict y\n",
    "b_size = 256  # Number of timeseries samples in each batch\n",
    "\n",
    "train_generator = TimeseriesGenerator(X_train, y_train, length=n_input, batch_size=b_size)\n",
    "val_generator = TimeseriesGenerator(X_val, y_val, length=n_input, batch_size=b_size)\n",
    "test_generator = TimeseriesGenerator(X_test, y_test, length=n_input, batch_size=256)"
   ]
  },
  {
   "cell_type": "code",
   "execution_count": 5,
   "id": "b66fe2fe-44a3-454e-b417-51db9da42266",
   "metadata": {},
   "outputs": [
    {
     "name": "stdout",
     "output_type": "stream",
     "text": [
      "Počet batchov:  896\n",
      "Každý batch má features (X zložku) a labels (y zložku):  2\n",
      "Dĺžka X zložky batchu:  256\n",
      "Dĺžka y zložky batchu (počet meraní v batchi):  256\n",
      "Počet riadkov braných do úvahy pre jedno meranie (koľko sa pozerá dozadu):  6\n"
     ]
    }
   ],
   "source": [
    "print(\"Počet batchov: \", len(train_generator))\n",
    "print(\"Každý batch má features (X zložku) a labels (y zložku): \", len(train_generator[0]))\n",
    "print(\"Dĺžka X zložky batchu: \", len(train_generator[0][0]))\n",
    "print(\"Dĺžka y zložky batchu (počet meraní v batchi): \",len(train_generator[0][1]))\n",
    "print(\"Počet riadkov braných do úvahy pre jedno meranie (koľko sa pozerá dozadu): \", len(train_generator[0][0][0]))"
   ]
  },
  {
   "cell_type": "code",
   "execution_count": 6,
   "id": "62f4be23-993b-4a71-9a21-ebec2af46f4f",
   "metadata": {},
   "outputs": [
    {
     "name": "stderr",
     "output_type": "stream",
     "text": [
      "2024-05-16 08:33:26.120349: I tensorflow/core/platform/cpu_feature_guard.cc:193] This TensorFlow binary is optimized with oneAPI Deep Neural Network Library (oneDNN) to use the following CPU instructions in performance-critical operations:  SSE4.1 SSE4.2 AVX AVX2 FMA\n",
      "To enable them in other operations, rebuild TensorFlow with the appropriate compiler flags.\n"
     ]
    },
    {
     "name": "stdout",
     "output_type": "stream",
     "text": [
      "Model: \"model\"\n",
      "_________________________________________________________________\n",
      " Layer (type)                Output Shape              Param #   \n",
      "=================================================================\n",
      " input_1 (InputLayer)        [(None, 6, 3)]            0         \n",
      "                                                                 \n",
      " bidirectional (Bidirectiona  (None, 6, 256)           135168    \n",
      " l)                                                              \n",
      "                                                                 \n",
      " lstm_1 (LSTM)               (None, 6, 128)            197120    \n",
      "                                                                 \n",
      " time_distributed (TimeDistr  (None, 6, 1)             129       \n",
      " ibuted)                                                         \n",
      "                                                                 \n",
      " flatten (Flatten)           (None, 6)                 0         \n",
      "                                                                 \n",
      " dense_1 (Dense)             (None, 1)                 7         \n",
      "                                                                 \n",
      "=================================================================\n",
      "Total params: 332,424\n",
      "Trainable params: 332,424\n",
      "Non-trainable params: 0\n",
      "_________________________________________________________________\n",
      "None\n"
     ]
    }
   ],
   "source": [
    "inputs = Input(shape=(6,3))\n",
    "c = Bidirectional(LSTM(128, return_sequences=True, dropout=0.1,recurrent_dropout=0.1))(inputs)\n",
    "c = LSTM(128, return_sequences=True)(c)\n",
    "c = TimeDistributed(Dense(1, activation='linear'))(c)\n",
    "output = Flatten()(c)\n",
    "output = Dense(1, activation='linear')(output)\n",
    "model = Model(inputs=inputs, outputs=output)\n",
    "model.compile(loss='mse', optimizer='adam', metrics=[\"mae\"])\n",
    "print(model.summary())"
   ]
  },
  {
   "cell_type": "code",
   "execution_count": 7,
   "id": "8d1a40da-fa1c-4b3d-bdbd-e4d7793b01a2",
   "metadata": {},
   "outputs": [],
   "source": [
    "saved_model = \"5h_dopredu200+BZ+KP.hdf5\"\n",
    "checkpoint = ModelCheckpoint(saved_model, monitor='val_mae', verbose=1, save_best_only=True, mode='min')\n",
    "early = EarlyStopping(monitor=\"val_mae\", mode=\"min\", patience=25)\n",
    "callbacks_list = [checkpoint, early]"
   ]
  },
  {
   "cell_type": "code",
   "execution_count": 7,
   "id": "983fbac3-9067-4fe7-8f61-cac9d641ce0a",
   "metadata": {
    "collapsed": true,
    "jupyter": {
     "outputs_hidden": true
    },
    "tags": []
   },
   "outputs": [
    {
     "name": "stdout",
     "output_type": "stream",
     "text": [
      "Epoch 1/200\n",
      "1139/1139 [==============================] - ETA: 0s - loss: 192.6834 - mae: 8.1328\n",
      "Epoch 1: val_mae improved from inf to 7.94936, saving model to 5h_dopredu200+BZ+KP.hdf5\n",
      "1139/1139 [==============================] - 98s 79ms/step - loss: 192.6834 - mae: 8.1328 - val_loss: 153.9490 - val_mae: 7.9494\n",
      "Epoch 2/200\n",
      "1139/1139 [==============================] - ETA: 0s - loss: 125.0069 - mae: 7.0503\n",
      "Epoch 2: val_mae improved from 7.94936 to 6.40143, saving model to 5h_dopredu200+BZ+KP.hdf5\n",
      "1139/1139 [==============================] - 70s 62ms/step - loss: 125.0069 - mae: 7.0503 - val_loss: 122.6546 - val_mae: 6.4014\n",
      "Epoch 3/200\n",
      "1139/1139 [==============================] - ETA: 0s - loss: 114.0264 - mae: 6.8509\n",
      "Epoch 3: val_mae improved from 6.40143 to 6.28587, saving model to 5h_dopredu200+BZ+KP.hdf5\n",
      "1139/1139 [==============================] - 85s 75ms/step - loss: 114.0264 - mae: 6.8509 - val_loss: 101.7087 - val_mae: 6.2859\n",
      "Epoch 4/200\n",
      "1139/1139 [==============================] - ETA: 0s - loss: 109.4414 - mae: 6.7795\n",
      "Epoch 4: val_mae improved from 6.28587 to 6.25153, saving model to 5h_dopredu200+BZ+KP.hdf5\n",
      "1139/1139 [==============================] - 78s 69ms/step - loss: 109.4414 - mae: 6.7795 - val_loss: 96.4526 - val_mae: 6.2515\n",
      "Epoch 5/200\n",
      "1139/1139 [==============================] - ETA: 0s - loss: 105.4328 - mae: 6.6934\n",
      "Epoch 5: val_mae improved from 6.25153 to 6.02924, saving model to 5h_dopredu200+BZ+KP.hdf5\n",
      "1139/1139 [==============================] - 76s 67ms/step - loss: 105.4328 - mae: 6.6934 - val_loss: 85.2609 - val_mae: 6.0292\n",
      "Epoch 6/200\n",
      "1139/1139 [==============================] - ETA: 0s - loss: 104.6562 - mae: 6.6689\n",
      "Epoch 6: val_mae did not improve from 6.02924\n",
      "1139/1139 [==============================] - 78s 69ms/step - loss: 104.6562 - mae: 6.6689 - val_loss: 90.0486 - val_mae: 6.2301\n",
      "Epoch 7/200\n",
      "1139/1139 [==============================] - ETA: 0s - loss: 103.1549 - mae: 6.6564\n",
      "Epoch 7: val_mae did not improve from 6.02924\n",
      "1139/1139 [==============================] - 82s 72ms/step - loss: 103.1549 - mae: 6.6564 - val_loss: 93.1820 - val_mae: 6.4234\n",
      "Epoch 8/200\n",
      "1139/1139 [==============================] - ETA: 0s - loss: 101.5530 - mae: 6.6067\n",
      "Epoch 8: val_mae did not improve from 6.02924\n",
      "1139/1139 [==============================] - 78s 68ms/step - loss: 101.5530 - mae: 6.6067 - val_loss: 91.5820 - val_mae: 6.3139\n",
      "Epoch 9/200\n",
      "1139/1139 [==============================] - ETA: 0s - loss: 101.3807 - mae: 6.6152\n",
      "Epoch 9: val_mae did not improve from 6.02924\n",
      "1139/1139 [==============================] - 82s 72ms/step - loss: 101.3807 - mae: 6.6152 - val_loss: 91.3826 - val_mae: 6.2319\n",
      "Epoch 10/200\n",
      "1139/1139 [==============================] - ETA: 0s - loss: 100.2059 - mae: 6.5736\n",
      "Epoch 10: val_mae did not improve from 6.02924\n",
      "1139/1139 [==============================] - 79s 69ms/step - loss: 100.2059 - mae: 6.5736 - val_loss: 93.2395 - val_mae: 6.0989\n",
      "Epoch 11/200\n",
      "1139/1139 [==============================] - ETA: 0s - loss: 98.2847 - mae: 6.5394\n",
      "Epoch 11: val_mae improved from 6.02924 to 5.91412, saving model to 5h_dopredu200+BZ+KP.hdf5\n",
      "1139/1139 [==============================] - 78s 69ms/step - loss: 98.2847 - mae: 6.5394 - val_loss: 79.8380 - val_mae: 5.9141\n",
      "Epoch 12/200\n",
      "1139/1139 [==============================] - ETA: 0s - loss: 99.0721 - mae: 6.5597\n",
      "Epoch 12: val_mae did not improve from 5.91412\n",
      "1139/1139 [==============================] - 78s 69ms/step - loss: 99.0721 - mae: 6.5597 - val_loss: 85.4664 - val_mae: 6.2793\n",
      "Epoch 13/200\n",
      "1139/1139 [==============================] - ETA: 0s - loss: 96.7654 - mae: 6.5007\n",
      "Epoch 13: val_mae did not improve from 5.91412\n",
      "1139/1139 [==============================] - 77s 68ms/step - loss: 96.7654 - mae: 6.5007 - val_loss: 79.1691 - val_mae: 6.0256\n",
      "Epoch 14/200\n",
      "1139/1139 [==============================] - ETA: 0s - loss: 96.9337 - mae: 6.5000\n",
      "Epoch 14: val_mae did not improve from 5.91412\n",
      "1139/1139 [==============================] - 78s 68ms/step - loss: 96.9337 - mae: 6.5000 - val_loss: 88.8376 - val_mae: 6.3877\n",
      "Epoch 15/200\n",
      "1139/1139 [==============================] - ETA: 0s - loss: 96.4221 - mae: 6.5007\n",
      "Epoch 15: val_mae did not improve from 5.91412\n",
      "1139/1139 [==============================] - 78s 69ms/step - loss: 96.4221 - mae: 6.5007 - val_loss: 88.5224 - val_mae: 6.2647\n",
      "Epoch 16/200\n",
      "1139/1139 [==============================] - ETA: 0s - loss: 96.0369 - mae: 6.4814\n",
      "Epoch 16: val_mae did not improve from 5.91412\n",
      "1139/1139 [==============================] - 79s 69ms/step - loss: 96.0369 - mae: 6.4814 - val_loss: 86.5813 - val_mae: 5.9900\n",
      "Epoch 17/200\n",
      "1139/1139 [==============================] - ETA: 0s - loss: 95.8656 - mae: 6.4915\n",
      "Epoch 17: val_mae did not improve from 5.91412\n",
      "1139/1139 [==============================] - 76s 66ms/step - loss: 95.8656 - mae: 6.4915 - val_loss: 95.9250 - val_mae: 6.4055\n",
      "Epoch 18/200\n",
      "1139/1139 [==============================] - ETA: 0s - loss: 95.9381 - mae: 6.4957\n",
      "Epoch 18: val_mae did not improve from 5.91412\n",
      "1139/1139 [==============================] - 79s 70ms/step - loss: 95.9381 - mae: 6.4957 - val_loss: 96.6940 - val_mae: 6.4999\n",
      "Epoch 19/200\n",
      "1139/1139 [==============================] - ETA: 0s - loss: 94.9017 - mae: 6.4590\n",
      "Epoch 19: val_mae did not improve from 5.91412\n",
      "1139/1139 [==============================] - 79s 69ms/step - loss: 94.9017 - mae: 6.4590 - val_loss: 92.6408 - val_mae: 6.3257\n",
      "Epoch 20/200\n",
      "1139/1139 [==============================] - ETA: 0s - loss: 95.1820 - mae: 6.4648\n",
      "Epoch 20: val_mae did not improve from 5.91412\n",
      "1139/1139 [==============================] - 79s 69ms/step - loss: 95.1820 - mae: 6.4648 - val_loss: 82.7416 - val_mae: 6.0489\n",
      "Epoch 21/200\n",
      "1139/1139 [==============================] - ETA: 0s - loss: 95.2332 - mae: 6.4592\n",
      "Epoch 21: val_mae did not improve from 5.91412\n",
      "1139/1139 [==============================] - 78s 68ms/step - loss: 95.2332 - mae: 6.4592 - val_loss: 85.7137 - val_mae: 6.0838\n",
      "Epoch 22/200\n",
      "1139/1139 [==============================] - ETA: 0s - loss: 92.9800 - mae: 6.4384\n",
      "Epoch 22: val_mae did not improve from 5.91412\n",
      "1139/1139 [==============================] - 78s 69ms/step - loss: 92.9800 - mae: 6.4384 - val_loss: 94.6998 - val_mae: 6.4456\n",
      "Epoch 23/200\n",
      "1139/1139 [==============================] - ETA: 0s - loss: 94.2865 - mae: 6.4560\n",
      "Epoch 23: val_mae did not improve from 5.91412\n",
      "1139/1139 [==============================] - 80s 70ms/step - loss: 94.2865 - mae: 6.4560 - val_loss: 87.9316 - val_mae: 6.4421\n",
      "Epoch 24/200\n",
      "1139/1139 [==============================] - ETA: 0s - loss: 94.7138 - mae: 6.4512\n",
      "Epoch 24: val_mae did not improve from 5.91412\n",
      "1139/1139 [==============================] - 83s 72ms/step - loss: 94.7138 - mae: 6.4512 - val_loss: 85.0656 - val_mae: 6.0714\n",
      "Epoch 25/200\n",
      "1139/1139 [==============================] - ETA: 0s - loss: 93.4089 - mae: 6.4347\n",
      "Epoch 25: val_mae did not improve from 5.91412\n",
      "1139/1139 [==============================] - 78s 68ms/step - loss: 93.4089 - mae: 6.4347 - val_loss: 87.6681 - val_mae: 6.2672\n",
      "Epoch 26/200\n",
      "1139/1139 [==============================] - ETA: 0s - loss: 93.5481 - mae: 6.4252\n",
      "Epoch 26: val_mae did not improve from 5.91412\n",
      "1139/1139 [==============================] - 77s 67ms/step - loss: 93.5481 - mae: 6.4252 - val_loss: 87.0617 - val_mae: 6.2264\n",
      "Epoch 27/200\n",
      "1138/1139 [============================>.] - ETA: 0s - loss: 93.0044 - mae: 6.4235\n",
      "Epoch 27: val_mae improved from 5.91412 to 5.89546, saving model to 5h_dopredu200+BZ+KP.hdf5\n",
      "1139/1139 [==============================] - 77s 68ms/step - loss: 92.9742 - mae: 6.4231 - val_loss: 79.2414 - val_mae: 5.8955\n",
      "Epoch 28/200\n",
      "1139/1139 [==============================] - ETA: 0s - loss: 93.1392 - mae: 6.4170\n",
      "Epoch 28: val_mae did not improve from 5.89546\n",
      "1139/1139 [==============================] - 77s 68ms/step - loss: 93.1392 - mae: 6.4170 - val_loss: 90.7171 - val_mae: 6.4791\n",
      "Epoch 29/200\n",
      "1139/1139 [==============================] - ETA: 0s - loss: 92.2092 - mae: 6.4017\n",
      "Epoch 29: val_mae improved from 5.89546 to 5.82421, saving model to 5h_dopredu200+BZ+KP.hdf5\n",
      "1139/1139 [==============================] - 80s 70ms/step - loss: 92.2092 - mae: 6.4017 - val_loss: 75.6547 - val_mae: 5.8242\n",
      "Epoch 30/200\n",
      "1139/1139 [==============================] - ETA: 0s - loss: 92.1781 - mae: 6.4051\n",
      "Epoch 30: val_mae did not improve from 5.82421\n",
      "1139/1139 [==============================] - 81s 71ms/step - loss: 92.1781 - mae: 6.4051 - val_loss: 82.4418 - val_mae: 5.9058\n",
      "Epoch 31/200\n",
      "1139/1139 [==============================] - ETA: 0s - loss: 92.4278 - mae: 6.3942\n",
      "Epoch 31: val_mae did not improve from 5.82421\n",
      "1139/1139 [==============================] - 81s 71ms/step - loss: 92.4278 - mae: 6.3942 - val_loss: 78.8095 - val_mae: 6.0369\n",
      "Epoch 32/200\n",
      "1138/1139 [============================>.] - ETA: 0s - loss: 93.0877 - mae: 6.4065\n",
      "Epoch 32: val_mae did not improve from 5.82421\n",
      "1139/1139 [==============================] - 82s 72ms/step - loss: 93.0713 - mae: 6.4068 - val_loss: 88.5290 - val_mae: 6.3558\n",
      "Epoch 33/200\n",
      "1138/1139 [============================>.] - ETA: 0s - loss: 91.7396 - mae: 6.3948\n",
      "Epoch 33: val_mae did not improve from 5.82421\n",
      "1139/1139 [==============================] - 78s 69ms/step - loss: 91.7278 - mae: 6.3947 - val_loss: 95.0986 - val_mae: 6.5194\n",
      "Epoch 34/200\n",
      "1139/1139 [==============================] - ETA: 0s - loss: 92.1234 - mae: 6.3961\n",
      "Epoch 34: val_mae did not improve from 5.82421\n",
      "1139/1139 [==============================] - 76s 67ms/step - loss: 92.1234 - mae: 6.3961 - val_loss: 78.1886 - val_mae: 6.0516\n",
      "Epoch 35/200\n",
      "1139/1139 [==============================] - ETA: 0s - loss: 92.3376 - mae: 6.4004\n",
      "Epoch 35: val_mae did not improve from 5.82421\n",
      "1139/1139 [==============================] - 76s 67ms/step - loss: 92.3376 - mae: 6.4004 - val_loss: 82.0276 - val_mae: 5.9847\n",
      "Epoch 36/200\n",
      "1138/1139 [============================>.] - ETA: 0s - loss: 91.0130 - mae: 6.3803\n",
      "Epoch 36: val_mae did not improve from 5.82421\n",
      "1139/1139 [==============================] - 80s 70ms/step - loss: 90.9667 - mae: 6.3789 - val_loss: 95.3252 - val_mae: 6.3974\n",
      "Epoch 37/200\n",
      "1139/1139 [==============================] - ETA: 0s - loss: 92.0786 - mae: 6.4005\n",
      "Epoch 37: val_mae did not improve from 5.82421\n",
      "1139/1139 [==============================] - 78s 68ms/step - loss: 92.0786 - mae: 6.4005 - val_loss: 89.5811 - val_mae: 6.2446\n",
      "Epoch 38/200\n",
      "1139/1139 [==============================] - ETA: 0s - loss: 90.9610 - mae: 6.3753\n",
      "Epoch 38: val_mae did not improve from 5.82421\n",
      "1139/1139 [==============================] - 78s 68ms/step - loss: 90.9610 - mae: 6.3753 - val_loss: 81.0698 - val_mae: 5.8784\n",
      "Epoch 39/200\n",
      "1139/1139 [==============================] - ETA: 0s - loss: 91.5230 - mae: 6.3797\n",
      "Epoch 39: val_mae did not improve from 5.82421\n",
      "1139/1139 [==============================] - 77s 68ms/step - loss: 91.5230 - mae: 6.3797 - val_loss: 88.9069 - val_mae: 6.1802\n",
      "Epoch 40/200\n",
      "1139/1139 [==============================] - ETA: 0s - loss: 91.0041 - mae: 6.3654\n",
      "Epoch 40: val_mae did not improve from 5.82421\n",
      "1139/1139 [==============================] - 79s 69ms/step - loss: 91.0041 - mae: 6.3654 - val_loss: 90.7645 - val_mae: 6.3521\n",
      "Epoch 41/200\n",
      "1139/1139 [==============================] - ETA: 0s - loss: 89.8930 - mae: 6.3525\n",
      "Epoch 41: val_mae did not improve from 5.82421\n",
      "1139/1139 [==============================] - 77s 68ms/step - loss: 89.8930 - mae: 6.3525 - val_loss: 84.8839 - val_mae: 6.1636\n",
      "Epoch 42/200\n",
      "1139/1139 [==============================] - ETA: 0s - loss: 90.3793 - mae: 6.3709\n",
      "Epoch 42: val_mae did not improve from 5.82421\n",
      "1139/1139 [==============================] - 75s 66ms/step - loss: 90.3793 - mae: 6.3709 - val_loss: 85.9909 - val_mae: 6.2024\n",
      "Epoch 43/200\n",
      "1139/1139 [==============================] - ETA: 0s - loss: 90.3701 - mae: 6.3690\n",
      "Epoch 43: val_mae did not improve from 5.82421\n",
      "1139/1139 [==============================] - 80s 70ms/step - loss: 90.3701 - mae: 6.3690 - val_loss: 81.4565 - val_mae: 5.9765\n",
      "Epoch 44/200\n",
      "1139/1139 [==============================] - ETA: 0s - loss: 90.4589 - mae: 6.3573\n",
      "Epoch 44: val_mae did not improve from 5.82421\n",
      "1139/1139 [==============================] - 79s 69ms/step - loss: 90.4589 - mae: 6.3573 - val_loss: 81.8323 - val_mae: 6.0074\n",
      "Epoch 45/200\n",
      "1139/1139 [==============================] - ETA: 0s - loss: 89.6768 - mae: 6.3522\n",
      "Epoch 45: val_mae did not improve from 5.82421\n",
      "1139/1139 [==============================] - 81s 71ms/step - loss: 89.6768 - mae: 6.3522 - val_loss: 93.6437 - val_mae: 6.3078\n",
      "Epoch 46/200\n",
      "1139/1139 [==============================] - ETA: 0s - loss: 90.0106 - mae: 6.3396\n",
      "Epoch 46: val_mae did not improve from 5.82421\n",
      "1139/1139 [==============================] - 77s 68ms/step - loss: 90.0106 - mae: 6.3396 - val_loss: 91.0332 - val_mae: 6.3340\n",
      "Epoch 47/200\n",
      "1139/1139 [==============================] - ETA: 0s - loss: 89.5833 - mae: 6.3550\n",
      "Epoch 47: val_mae did not improve from 5.82421\n",
      "1139/1139 [==============================] - 80s 70ms/step - loss: 89.5833 - mae: 6.3550 - val_loss: 84.8649 - val_mae: 6.1394\n",
      "Epoch 48/200\n",
      "1139/1139 [==============================] - ETA: 0s - loss: 89.1136 - mae: 6.3457\n",
      "Epoch 48: val_mae did not improve from 5.82421\n",
      "1139/1139 [==============================] - 77s 68ms/step - loss: 89.1136 - mae: 6.3457 - val_loss: 80.6716 - val_mae: 6.0286\n",
      "Epoch 49/200\n",
      "1139/1139 [==============================] - ETA: 0s - loss: 89.9853 - mae: 6.3521\n",
      "Epoch 49: val_mae did not improve from 5.82421\n",
      "1139/1139 [==============================] - 81s 71ms/step - loss: 89.9853 - mae: 6.3521 - val_loss: 90.5962 - val_mae: 6.4499\n",
      "Epoch 50/200\n",
      "1139/1139 [==============================] - ETA: 0s - loss: 90.2606 - mae: 6.3485\n",
      "Epoch 50: val_mae did not improve from 5.82421\n",
      "1139/1139 [==============================] - 79s 69ms/step - loss: 90.2606 - mae: 6.3485 - val_loss: 86.9579 - val_mae: 6.3079\n",
      "Epoch 51/200\n",
      "1139/1139 [==============================] - ETA: 0s - loss: 89.2371 - mae: 6.3376\n",
      "Epoch 51: val_mae did not improve from 5.82421\n",
      "1139/1139 [==============================] - 79s 69ms/step - loss: 89.2371 - mae: 6.3376 - val_loss: 83.7175 - val_mae: 6.0105\n",
      "Epoch 52/200\n",
      "1139/1139 [==============================] - ETA: 0s - loss: 89.8231 - mae: 6.3480\n",
      "Epoch 52: val_mae did not improve from 5.82421\n",
      "1139/1139 [==============================] - 85s 74ms/step - loss: 89.8231 - mae: 6.3480 - val_loss: 86.8554 - val_mae: 6.1485\n",
      "Epoch 53/200\n",
      "1139/1139 [==============================] - ETA: 0s - loss: 89.3609 - mae: 6.3467\n",
      "Epoch 53: val_mae did not improve from 5.82421\n",
      "1139/1139 [==============================] - 79s 69ms/step - loss: 89.3609 - mae: 6.3467 - val_loss: 82.2044 - val_mae: 5.9357\n",
      "Epoch 54/200\n",
      "1139/1139 [==============================] - ETA: 0s - loss: 90.1907 - mae: 6.3432\n",
      "Epoch 54: val_mae did not improve from 5.82421\n",
      "1139/1139 [==============================] - 78s 68ms/step - loss: 90.1907 - mae: 6.3432 - val_loss: 76.6213 - val_mae: 5.8998\n"
     ]
    }
   ],
   "source": [
    "history = model.fit(train_generator, validation_data=val_generator, epochs=200, verbose=1, callbacks = callbacks_list)"
   ]
  },
  {
   "cell_type": "code",
   "execution_count": 8,
   "id": "4c79485e-f83d-4a9f-9f70-4ebfb5de2fce",
   "metadata": {},
   "outputs": [],
   "source": [
    "model = keras.models.load_model('5h_dopredu200+BZ+KP.hdf5')"
   ]
  },
  {
   "cell_type": "code",
   "execution_count": 9,
   "id": "23a98654-2300-430e-98c7-066159026f30",
   "metadata": {},
   "outputs": [
    {
     "name": "stdout",
     "output_type": "stream",
     "text": [
      "633/633 [==============================] - 14s 21ms/step\n"
     ]
    }
   ],
   "source": [
    "y_pred = model.predict(test_generator)"
   ]
  },
  {
   "cell_type": "code",
   "execution_count": 10,
   "id": "37dc5c65-bcff-404c-b6d1-7104ee59d001",
   "metadata": {},
   "outputs": [
    {
     "name": "stdout",
     "output_type": "stream",
     "text": [
      "Mean Squared Error: 56.623693683560695\n"
     ]
    }
   ],
   "source": [
    "from sklearn.metrics import mean_squared_error\n",
    "mse = mean_squared_error(y_test[:-6], y_pred.reshape(-1))\n",
    "print(f\"Mean Squared Error: {mse}\")"
   ]
  },
  {
   "cell_type": "code",
   "execution_count": 11,
   "id": "39df0af9-00f4-47eb-a9ad-b8e1aa1bad71",
   "metadata": {},
   "outputs": [
    {
     "name": "stdout",
     "output_type": "stream",
     "text": [
      "224/224 [==============================] - 5s 21ms/step\n",
      "-20.2\n",
      "Confusion matrix: \n",
      "[[123534   6455]\n",
      " [ 10471  21570]]\n"
     ]
    }
   ],
   "source": [
    "# Assuming you have already trained your model and have the validation generator ready\n",
    "y_val_pred = model.predict(val_generator)\n",
    "\n",
    "# Convert the continuous output into binary labels based on the threshold criteria\n",
    "true_labels_val = np.where(y_val[n_input:] <= -20, 1, 0)  # Adjust n_input as per your setup\n",
    "\n",
    "# Function to calculate MCC\n",
    "def calculate_mcc(y_true, y_pred):\n",
    "    return matthews_corrcoef(y_true, y_pred)\n",
    "\n",
    "# Evaluating thresholds on the validation set\n",
    "thresholds = np.arange(-10, -40, -0.1)\n",
    "mcc_scores = []\n",
    "\n",
    "for thresh in thresholds:\n",
    "    # Convert model output to binary predictions based on the threshold\n",
    "    predictions = np.where(y_val_pred <= thresh, 1, 0)\n",
    "    mcc = calculate_mcc(true_labels_val, predictions)\n",
    "    mcc_scores.append(mcc)\n",
    "\n",
    "# Find the best threshold based on MCC\n",
    "best_threshold_mcc = thresholds[np.argmax(mcc_scores)]\n",
    "best_mcc = max(mcc_scores)\n",
    "\n",
    "best_threshold_mcc_rounded = round(best_threshold_mcc, 1)\n",
    "print(best_threshold_mcc_rounded)\n",
    "y_pred2 = np.where(y_pred <= best_threshold_mcc_rounded, 1, 0)\n",
    "# [n_input:] because prediction starts from n-th row\n",
    "y_test2 = np.where(y_test[n_input:]  <= -20, 1, 0)\n",
    "\n",
    "cm = confusion_matrix(y_test2, y_pred2)\n",
    "print(\"Confusion matrix: \\n\" + str(cm))"
   ]
  },
  {
   "cell_type": "code",
   "execution_count": 12,
   "id": "ec6a51d0-0fd0-4781-a0fd-a47ed6ec36f0",
   "metadata": {},
   "outputs": [
    {
     "name": "stdout",
     "output_type": "stream",
     "text": [
      "              precision    recall  f1-score   support\n",
      "\n",
      "           0       0.92      0.95      0.94    129989\n",
      "           1       0.77      0.67      0.72     32041\n",
      "\n",
      "    accuracy                           0.90    162030\n",
      "   macro avg       0.85      0.81      0.83    162030\n",
      "weighted avg       0.89      0.90      0.89    162030\n",
      "\n"
     ]
    }
   ],
   "source": [
    "print(classification_report(y_test2, y_pred2))\n"
   ]
  },
  {
   "cell_type": "code",
   "execution_count": 13,
   "id": "74eea3d5-eecc-4920-bd0c-809ab4ca01aa",
   "metadata": {},
   "outputs": [
    {
     "data": {
      "image/png": "[encoded data removed]",
      "text/plain": [
       "<Figure size 640x480 with 1 Axes>"
      ]
     },
     "metadata": {},
     "output_type": "display_data"
    }
   ],
   "source": [
    "df = pd.DataFrame(data={\"time\": test['time1'][n_input:],\"y_true\": y_test[n_input:].reshape(-1) , \"y_predict\": y_pred.reshape(-1)})\n",
    "\n",
    "plt.figure()\n",
    "plt.title('Predicting the change in DST Index')\n",
    "plt.plot(df['time'],df['y_true'], label='Skutočné hodnoty')\n",
    "plt.plot(df['time'],df['y_predict'], label='Predikované hodnoty')\n",
    "plt.legend()\n",
    "plt.gcf().autofmt_xdate()\n",
    "plt.grid(True)"
   ]
  },
  {
   "cell_type": "code",
   "execution_count": 14,
   "id": "c3647b9d-eea2-4653-b0ea-51865a2c4af8",
   "metadata": {},
   "outputs": [],
   "source": [
    "df.to_csv('5h_dopredu+200+BZ+KP.csv')"
   ]
  },
  {
   "cell_type": "code",
   "execution_count": 15,
   "id": "26fb8edd-0e9c-4357-9f23-5b9e2f083c14",
   "metadata": {},
   "outputs": [
    {
     "name": "stdout",
     "output_type": "stream",
     "text": [
      "ACC=0.8955378633586373\n",
      "MCC=0.6566571422473209\n"
     ]
    }
   ],
   "source": [
    "TN, FP, FN, TP = cm.ravel()\n",
    "ACC = (TP + TN) / (TP + TN + FP + FN)\n",
    "MCC = matthews_corrcoef(y_test2, y_pred2)\n",
    "print(\"ACC={}\".format(ACC))\n",
    "print(\"MCC={}\".format(MCC))"
   ]
  },
  {
   "cell_type": "code",
   "execution_count": null,
   "id": "6d5adb7a-d785-40b5-9614-cf99f7a14e07",
   "metadata": {},
   "outputs": [],
   "source": []
  }
 ],
 "metadata": {
  "kernelspec": {
   "display_name": "Python 3 (ipykernel)",
   "language": "python",
   "name": "python3"
  },
  "language_info": {
   "codemirror_mode": {
    "name": "ipython",
    "version": 3
   },
   "file_extension": ".py",
   "mimetype": "text/x-python",
   "name": "python",
   "nbconvert_exporter": "python",
   "pygments_lexer": "ipython3",
   "version": "3.10.6"
  }
 },
 "nbformat": 4,
 "nbformat_minor": 5
}
